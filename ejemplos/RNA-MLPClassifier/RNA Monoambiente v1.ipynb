{
 "cells": [
  {
   "cell_type": "markdown",
   "metadata": {},
   "source": [
    "# Prueba de Red Neuronal Artificial con Back Propagation\n",
    "\n",
    "Para esta prueba utilizo un dataset generado por un script (generar-dataset.sh), en el que se simula a un usuario en un monoambiente, con hábitos muy marcados: De 23hs a 7:00hs duerme. De 7:00 a 7:30 se prepara para salir. De 7:30 a 18:30hs, los días de la semana está fuera del ambiente. Durante el fin de semana está presente. De 18:30hs a 19:30hs hay actividad variada (puede haber distintos niveles de sonido, puede o no estár prendida la luz, etc.). De 19:30 a 23hs hay actividad y la luz está prendida.\n",
    "\n",
    "La idea es crear una red neuronal artifial que de como resultado el estado esperado del dispositivo de luz: Prendido/Apagado. Esta RNA debería además corregir los pesos de las funciones a medida que se entrena.\n",
    "\n",
    "\n",
    "**IMPORTANTE:** Quiza el sensor de luminosidad debería tener el valor opuesto, ya que uno espera que la luz se prenda cuando HAY actividad y hay un nivel de luz muy bajo. Al mismo tiempo, si hay un nivel de luminosidad ALTO, el sistema no puede sacar como conclusión que hay que apagar la luz, porque entraríamos en un loop."
   ]
  },
  {
   "cell_type": "markdown",
   "metadata": {},
   "source": [
    "### Formato de los datos\n",
    "Los datos creados por el script generar-dataset.sh están en el siguiente formato:\n",
    "\n",
    "\n",
    "| Nombre | Tipo | Descripción | Ej. Valor |\n",
    "|--------|------|---------|-------------|---------|\n",
    "| **mes** | tinyint | Número de mes | 1 a 12 |\n",
    "| **diaSemana** | tinyint | Número de día de la semana (Lunes 1, etc.) | 1 a 7 |\n",
    "| **minuto** | tinyint | Minuto del dia| 0 a 1439 |\n",
    "| **idSensor** | smallint | Identificador unico del sensor | 10123 |\n",
    "| **sensCorriente** | smallint | Medición de corriente del dispositivo Lux asociado en miliamperes | 230 |\n",
    "| **sensLuminosidad** | smallint | Medición del sensor de luminosidad, donde 0 = oscuro, 1 = muy iluminado | 0.871 |\n",
    "| **sensSonido ** | smallint | Medición del sensor de sonido, donde 0 = silencio, 1 = alto nivel de sonoridad | 0.232 |\n",
    "| **sensPresencia** | smallint | Medición del sensor de presencia, donde 0 = sin movimientos, 1 = hay movimientos | 0.856 |\n",
    "| **estadoLuz** | tinyint | Indicador de estado del dispositivo Lux, donde 0 = apagado y 1 = encendido | 1 |\n",
    "\n",
    "**IMPORTANTE:** Esta versión usa un valor decimar para el sensor de presencial. En una versión posterior lo hacemos con valor entero."
   ]
  },
  {
   "cell_type": "markdown",
   "metadata": {},
   "source": [
    "### Cargo algunas librerías necesarias\n",
    "\n",
    "Librerías usadas durante este ejercicio:\n",
    "* Pandas: para manipulación de grandes volúmenes de datos, en este caso importando de un csv a un array\n",
    "* Matplot: Para hacer gráficos en 2D\n",
    "* Numpy: Para computación científica y funciones matemáticas en general."
   ]
  },
  {
   "cell_type": "code",
   "execution_count": 2,
   "metadata": {
    "collapsed": true
   },
   "outputs": [],
   "source": [
    "import pandas as pd\n",
    "import matplotlib.pyplot as plt\n",
    "import numpy as np"
   ]
  },
  {
   "cell_type": "markdown",
   "metadata": {},
   "source": [
    "Además, más abajo voy a estar usando Scikit Learn: Un módulo que provée algoritmos de evaluación, entrenamiento y machine learning en general.\n",
    "\n",
    "Esta línea es para que los gráficos se impriman dentro de Jupyter Notebook"
   ]
  },
  {
   "cell_type": "code",
   "execution_count": 3,
   "metadata": {
    "collapsed": true
   },
   "outputs": [],
   "source": [
    "%matplotlib inline"
   ]
  },
  {
   "cell_type": "markdown",
   "metadata": {},
   "source": [
    "### Dataset\n",
    "Cargo el dataset (previamente creado) y examino sus propiedades"
   ]
  },
  {
   "cell_type": "code",
   "execution_count": 4,
   "metadata": {},
   "outputs": [
    {
     "data": {
      "text/plain": [
       "(129601, 9)"
      ]
     },
     "execution_count": 4,
     "metadata": {},
     "output_type": "execute_result"
    }
   ],
   "source": [
    "df = pd.read_csv(\"./dataset.txt\")\n",
    "df.shape"
   ]
  },
  {
   "cell_type": "markdown",
   "metadata": {},
   "source": [
    "El dataset tiene 129601 registros de 9 campos. La cantidad de registros está dada por 1 encabezado + 1 reg/min x 60 min x 24 horas x 90 días. Las columnas son las que se definen más arriba, y están organizadas de esta forma:"
   ]
  },
  {
   "cell_type": "code",
   "execution_count": 5,
   "metadata": {},
   "outputs": [
    {
     "data": {
      "text/html": [
       "<div>\n",
       "<table border=\"1\" class=\"dataframe\">\n",
       "  <thead>\n",
       "    <tr style=\"text-align: right;\">\n",
       "      <th></th>\n",
       "      <th>mes</th>\n",
       "      <th>diaSemana</th>\n",
       "      <th>minuto</th>\n",
       "      <th>idSensor</th>\n",
       "      <th>sensCorriente</th>\n",
       "      <th>sensLuminosidad</th>\n",
       "      <th>sensSonido</th>\n",
       "      <th>sensPresencia</th>\n",
       "      <th>estadoLuz</th>\n",
       "    </tr>\n",
       "  </thead>\n",
       "  <tbody>\n",
       "    <tr>\n",
       "      <th>0</th>\n",
       "      <td>1</td>\n",
       "      <td>7</td>\n",
       "      <td>1</td>\n",
       "      <td>1020</td>\n",
       "      <td>0</td>\n",
       "      <td>0.028</td>\n",
       "      <td>0.054</td>\n",
       "      <td>0.060</td>\n",
       "      <td>0</td>\n",
       "    </tr>\n",
       "    <tr>\n",
       "      <th>1</th>\n",
       "      <td>1</td>\n",
       "      <td>7</td>\n",
       "      <td>2</td>\n",
       "      <td>1020</td>\n",
       "      <td>0</td>\n",
       "      <td>0.023</td>\n",
       "      <td>0.082</td>\n",
       "      <td>0.080</td>\n",
       "      <td>0</td>\n",
       "    </tr>\n",
       "    <tr>\n",
       "      <th>2</th>\n",
       "      <td>1</td>\n",
       "      <td>7</td>\n",
       "      <td>3</td>\n",
       "      <td>1020</td>\n",
       "      <td>0</td>\n",
       "      <td>0.023</td>\n",
       "      <td>0.088</td>\n",
       "      <td>0.159</td>\n",
       "      <td>0</td>\n",
       "    </tr>\n",
       "    <tr>\n",
       "      <th>3</th>\n",
       "      <td>1</td>\n",
       "      <td>7</td>\n",
       "      <td>4</td>\n",
       "      <td>1020</td>\n",
       "      <td>0</td>\n",
       "      <td>0.022</td>\n",
       "      <td>0.052</td>\n",
       "      <td>0.090</td>\n",
       "      <td>0</td>\n",
       "    </tr>\n",
       "    <tr>\n",
       "      <th>4</th>\n",
       "      <td>1</td>\n",
       "      <td>7</td>\n",
       "      <td>5</td>\n",
       "      <td>1020</td>\n",
       "      <td>0</td>\n",
       "      <td>0.023</td>\n",
       "      <td>0.067</td>\n",
       "      <td>0.167</td>\n",
       "      <td>0</td>\n",
       "    </tr>\n",
       "  </tbody>\n",
       "</table>\n",
       "</div>"
      ],
      "text/plain": [
       "   mes  diaSemana  minuto  idSensor  sensCorriente  sensLuminosidad  \\\n",
       "0    1          7       1      1020              0            0.028   \n",
       "1    1          7       2      1020              0            0.023   \n",
       "2    1          7       3      1020              0            0.023   \n",
       "3    1          7       4      1020              0            0.022   \n",
       "4    1          7       5      1020              0            0.023   \n",
       "\n",
       "   sensSonido  sensPresencia  estadoLuz  \n",
       "0       0.054          0.060          0  \n",
       "1       0.082          0.080          0  \n",
       "2       0.088          0.159          0  \n",
       "3       0.052          0.090          0  \n",
       "4       0.067          0.167          0  "
      ]
     },
     "execution_count": 5,
     "metadata": {},
     "output_type": "execute_result"
    }
   ],
   "source": [
    "df.head()"
   ]
  },
  {
   "cell_type": "code",
   "execution_count": 6,
   "metadata": {},
   "outputs": [
    {
     "data": {
      "text/html": [
       "<div>\n",
       "<table border=\"1\" class=\"dataframe\">\n",
       "  <thead>\n",
       "    <tr style=\"text-align: right;\">\n",
       "      <th></th>\n",
       "      <th>mes</th>\n",
       "      <th>diaSemana</th>\n",
       "      <th>minuto</th>\n",
       "      <th>idSensor</th>\n",
       "      <th>sensCorriente</th>\n",
       "      <th>sensLuminosidad</th>\n",
       "      <th>sensSonido</th>\n",
       "      <th>sensPresencia</th>\n",
       "      <th>estadoLuz</th>\n",
       "    </tr>\n",
       "  </thead>\n",
       "  <tbody>\n",
       "    <tr>\n",
       "      <th>129596</th>\n",
       "      <td>3</td>\n",
       "      <td>5</td>\n",
       "      <td>1437</td>\n",
       "      <td>1020</td>\n",
       "      <td>0</td>\n",
       "      <td>0.790</td>\n",
       "      <td>0.101</td>\n",
       "      <td>0.078</td>\n",
       "      <td>0</td>\n",
       "    </tr>\n",
       "    <tr>\n",
       "      <th>129597</th>\n",
       "      <td>3</td>\n",
       "      <td>5</td>\n",
       "      <td>1438</td>\n",
       "      <td>1020</td>\n",
       "      <td>0</td>\n",
       "      <td>0.790</td>\n",
       "      <td>0.125</td>\n",
       "      <td>0.013</td>\n",
       "      <td>0</td>\n",
       "    </tr>\n",
       "    <tr>\n",
       "      <th>129598</th>\n",
       "      <td>4</td>\n",
       "      <td>6</td>\n",
       "      <td>1439</td>\n",
       "      <td>1020</td>\n",
       "      <td>0</td>\n",
       "      <td>0.790</td>\n",
       "      <td>0.141</td>\n",
       "      <td>0.045</td>\n",
       "      <td>0</td>\n",
       "    </tr>\n",
       "    <tr>\n",
       "      <th>129599</th>\n",
       "      <td>4</td>\n",
       "      <td>6</td>\n",
       "      <td>0</td>\n",
       "      <td>1020</td>\n",
       "      <td>0</td>\n",
       "      <td>0.025</td>\n",
       "      <td>0.061</td>\n",
       "      <td>0.010</td>\n",
       "      <td>0</td>\n",
       "    </tr>\n",
       "    <tr>\n",
       "      <th>129600</th>\n",
       "      <td>4</td>\n",
       "      <td>6</td>\n",
       "      <td>1</td>\n",
       "      <td>1020</td>\n",
       "      <td>0</td>\n",
       "      <td>0.023</td>\n",
       "      <td>0.082</td>\n",
       "      <td>0.010</td>\n",
       "      <td>0</td>\n",
       "    </tr>\n",
       "  </tbody>\n",
       "</table>\n",
       "</div>"
      ],
      "text/plain": [
       "        mes  diaSemana  minuto  idSensor  sensCorriente  sensLuminosidad  \\\n",
       "129596    3          5    1437      1020              0            0.790   \n",
       "129597    3          5    1438      1020              0            0.790   \n",
       "129598    4          6    1439      1020              0            0.790   \n",
       "129599    4          6       0      1020              0            0.025   \n",
       "129600    4          6       1      1020              0            0.023   \n",
       "\n",
       "        sensSonido  sensPresencia  estadoLuz  \n",
       "129596       0.101          0.078          0  \n",
       "129597       0.125          0.013          0  \n",
       "129598       0.141          0.045          0  \n",
       "129599       0.061          0.010          0  \n",
       "129600       0.082          0.010          0  "
      ]
     },
     "execution_count": 6,
     "metadata": {},
     "output_type": "execute_result"
    }
   ],
   "source": [
    "df.tail()"
   ]
  },
  {
   "cell_type": "markdown",
   "metadata": {},
   "source": [
    "### Chequeo de valores null, no debería haber\n",
    "Dado que el dataset se creó manualmente, todos los datos fueron completados. En la práctica, algunos valores pueden faltar ya que no todos los sensores se instalan exactamente al mismo tiempo."
   ]
  },
  {
   "cell_type": "code",
   "execution_count": 7,
   "metadata": {},
   "outputs": [
    {
     "data": {
      "text/plain": [
       "False"
      ]
     },
     "execution_count": 7,
     "metadata": {},
     "output_type": "execute_result"
    }
   ],
   "source": [
    "df.isnull().values.any()"
   ]
  },
  {
   "cell_type": "markdown",
   "metadata": {
    "collapsed": true
   },
   "source": [
    "### Función de correlación\n",
    "Hace una matriz de correlación entre las variables. Cuanto más claro el color, mayor correlación entre las variables. La diagonal debería ser amarilla, y representa la correlación de una variable con sí misma.\n",
    "\n",
    "Esta función tiene dos entradas:\n",
    "1. El dataframe panda a analizar\n",
    "2. El tamáño de gráfico que se quiere imprimir"
   ]
  },
  {
   "cell_type": "code",
   "execution_count": 8,
   "metadata": {
    "collapsed": true
   },
   "outputs": [],
   "source": [
    "def plot_corr(df, size=14):\n",
    "    corr = df.corr()    # data frame correlation function\n",
    "    fig, ax = plt.subplots(figsize=(size, size))\n",
    "    ax.matshow(corr)   # color code the rectangles by correlation value\n",
    "    plt.xticks(range(len(corr.columns)), corr.columns)  # draw x tick marks\n",
    "    plt.yticks(range(len(corr.columns)), corr.columns)  # draw y tick marks"
   ]
  },
  {
   "cell_type": "code",
   "execution_count": 9,
   "metadata": {},
   "outputs": [
    {
     "data": {
      "image/png": "[encoded data removed]",
      "text/plain": [
       "<matplotlib.figure.Figure at 0x7f10952285c0>"
      ]
     },
     "metadata": {},
     "output_type": "display_data"
    }
   ],
   "source": [
    "plot_corr(df)"
   ]
  },
  {
   "cell_type": "code",
   "execution_count": 10,
   "metadata": {},
   "outputs": [
    {
     "data": {
      "text/html": [
       "<div>\n",
       "<table border=\"1\" class=\"dataframe\">\n",
       "  <thead>\n",
       "    <tr style=\"text-align: right;\">\n",
       "      <th></th>\n",
       "      <th>mes</th>\n",
       "      <th>diaSemana</th>\n",
       "      <th>minuto</th>\n",
       "      <th>idSensor</th>\n",
       "      <th>sensCorriente</th>\n",
       "      <th>sensLuminosidad</th>\n",
       "      <th>sensSonido</th>\n",
       "      <th>sensPresencia</th>\n",
       "      <th>estadoLuz</th>\n",
       "    </tr>\n",
       "  </thead>\n",
       "  <tbody>\n",
       "    <tr>\n",
       "      <th>mes</th>\n",
       "      <td>1.000000</td>\n",
       "      <td>0.013472</td>\n",
       "      <td>-0.000032</td>\n",
       "      <td>NaN</td>\n",
       "      <td>-0.005395</td>\n",
       "      <td>-0.002701</td>\n",
       "      <td>-0.006453</td>\n",
       "      <td>-0.007130</td>\n",
       "      <td>-0.005332</td>\n",
       "    </tr>\n",
       "    <tr>\n",
       "      <th>diaSemana</th>\n",
       "      <td>0.013472</td>\n",
       "      <td>1.000000</td>\n",
       "      <td>-0.000013</td>\n",
       "      <td>NaN</td>\n",
       "      <td>0.117622</td>\n",
       "      <td>0.056553</td>\n",
       "      <td>0.194349</td>\n",
       "      <td>0.207588</td>\n",
       "      <td>0.117703</td>\n",
       "    </tr>\n",
       "    <tr>\n",
       "      <th>minuto</th>\n",
       "      <td>-0.000032</td>\n",
       "      <td>-0.000013</td>\n",
       "      <td>1.000000</td>\n",
       "      <td>NaN</td>\n",
       "      <td>0.496128</td>\n",
       "      <td>0.833649</td>\n",
       "      <td>0.457454</td>\n",
       "      <td>0.448103</td>\n",
       "      <td>0.497110</td>\n",
       "    </tr>\n",
       "    <tr>\n",
       "      <th>idSensor</th>\n",
       "      <td>NaN</td>\n",
       "      <td>NaN</td>\n",
       "      <td>NaN</td>\n",
       "      <td>NaN</td>\n",
       "      <td>NaN</td>\n",
       "      <td>NaN</td>\n",
       "      <td>NaN</td>\n",
       "      <td>NaN</td>\n",
       "      <td>NaN</td>\n",
       "    </tr>\n",
       "    <tr>\n",
       "      <th>sensCorriente</th>\n",
       "      <td>-0.005395</td>\n",
       "      <td>0.117622</td>\n",
       "      <td>0.496128</td>\n",
       "      <td>NaN</td>\n",
       "      <td>1.000000</td>\n",
       "      <td>0.673429</td>\n",
       "      <td>0.807246</td>\n",
       "      <td>0.512707</td>\n",
       "      <td>0.998228</td>\n",
       "    </tr>\n",
       "    <tr>\n",
       "      <th>sensLuminosidad</th>\n",
       "      <td>-0.002701</td>\n",
       "      <td>0.056553</td>\n",
       "      <td>0.833649</td>\n",
       "      <td>NaN</td>\n",
       "      <td>0.673429</td>\n",
       "      <td>1.000000</td>\n",
       "      <td>0.713635</td>\n",
       "      <td>0.538268</td>\n",
       "      <td>0.674643</td>\n",
       "    </tr>\n",
       "    <tr>\n",
       "      <th>sensSonido</th>\n",
       "      <td>-0.006453</td>\n",
       "      <td>0.194349</td>\n",
       "      <td>0.457454</td>\n",
       "      <td>NaN</td>\n",
       "      <td>0.807246</td>\n",
       "      <td>0.713635</td>\n",
       "      <td>1.000000</td>\n",
       "      <td>0.531022</td>\n",
       "      <td>0.808769</td>\n",
       "    </tr>\n",
       "    <tr>\n",
       "      <th>sensPresencia</th>\n",
       "      <td>-0.007130</td>\n",
       "      <td>0.207588</td>\n",
       "      <td>0.448103</td>\n",
       "      <td>NaN</td>\n",
       "      <td>0.512707</td>\n",
       "      <td>0.538268</td>\n",
       "      <td>0.531022</td>\n",
       "      <td>1.000000</td>\n",
       "      <td>0.513637</td>\n",
       "    </tr>\n",
       "    <tr>\n",
       "      <th>estadoLuz</th>\n",
       "      <td>-0.005332</td>\n",
       "      <td>0.117703</td>\n",
       "      <td>0.497110</td>\n",
       "      <td>NaN</td>\n",
       "      <td>0.998228</td>\n",
       "      <td>0.674643</td>\n",
       "      <td>0.808769</td>\n",
       "      <td>0.513637</td>\n",
       "      <td>1.000000</td>\n",
       "    </tr>\n",
       "  </tbody>\n",
       "</table>\n",
       "</div>"
      ],
      "text/plain": [
       "                      mes  diaSemana    minuto  idSensor  sensCorriente  \\\n",
       "mes              1.000000   0.013472 -0.000032       NaN      -0.005395   \n",
       "diaSemana        0.013472   1.000000 -0.000013       NaN       0.117622   \n",
       "minuto          -0.000032  -0.000013  1.000000       NaN       0.496128   \n",
       "idSensor              NaN        NaN       NaN       NaN            NaN   \n",
       "sensCorriente   -0.005395   0.117622  0.496128       NaN       1.000000   \n",
       "sensLuminosidad -0.002701   0.056553  0.833649       NaN       0.673429   \n",
       "sensSonido      -0.006453   0.194349  0.457454       NaN       0.807246   \n",
       "sensPresencia   -0.007130   0.207588  0.448103       NaN       0.512707   \n",
       "estadoLuz       -0.005332   0.117703  0.497110       NaN       0.998228   \n",
       "\n",
       "                 sensLuminosidad  sensSonido  sensPresencia  estadoLuz  \n",
       "mes                    -0.002701   -0.006453      -0.007130  -0.005332  \n",
       "diaSemana               0.056553    0.194349       0.207588   0.117703  \n",
       "minuto                  0.833649    0.457454       0.448103   0.497110  \n",
       "idSensor                     NaN         NaN            NaN        NaN  \n",
       "sensCorriente           0.673429    0.807246       0.512707   0.998228  \n",
       "sensLuminosidad         1.000000    0.713635       0.538268   0.674643  \n",
       "sensSonido              0.713635    1.000000       0.531022   0.808769  \n",
       "sensPresencia           0.538268    0.531022       1.000000   0.513637  \n",
       "estadoLuz               0.674643    0.808769       0.513637   1.000000  "
      ]
     },
     "execution_count": 10,
     "metadata": {},
     "output_type": "execute_result"
    }
   ],
   "source": [
    "df.corr()"
   ]
  },
  {
   "cell_type": "markdown",
   "metadata": {},
   "source": [
    "La columna idSensor no provee información que sirva a la red neuronal, es solo un valor constante. Por otro lado, el sensor de corriente provee un valor que va a estar relacionado casi 1 a 1 con estadoLuz, ya que es lo que queremos averiguar, así que puedo eliminar ambas columnas. También veo que el mes no tiene correlación con ninguna otra columna, así que la borro."
   ]
  },
  {
   "cell_type": "code",
   "execution_count": 11,
   "metadata": {
    "collapsed": true
   },
   "outputs": [],
   "source": [
    "del df['idSensor']\n",
    "del df['sensCorriente']\n",
    "del df['mes']"
   ]
  },
  {
   "cell_type": "code",
   "execution_count": 12,
   "metadata": {},
   "outputs": [
    {
     "data": {
      "image/png": "[encoded data removed]",
      "text/plain": [
       "<matplotlib.figure.Figure at 0x7f1095207518>"
      ]
     },
     "metadata": {},
     "output_type": "display_data"
    }
   ],
   "source": [
    "plot_corr(df)"
   ]
  },
  {
   "cell_type": "markdown",
   "metadata": {},
   "source": [
    "De esta nueva versión del gráfico puedo sacar algunas conclusiones a simple vista:\n",
    "1. No existe una correlación 1 a 1 entre ningún par de variables (lo que es bueno)\n",
    "2. No exite correlación entre \"mes\" y \"diaSemana\" (lo que tiene sentido)\n",
    "3. Existe cierta correlación entre los sensores con la hora o el día.\n",
    "4. Existe una mayor correlación (colores más claros) entre los distintos sensores entre sí\n",
    "\n",
    "Entonces, parece que los datos en el dataset creado a mano tienen el sentido que se le quiso dar. Lo realmente interesante va a ser obtener estos datos del mundo real y ver que relaciones surgen.\n",
    "\n",
    "\n",
    "\n",
    "### Chequeo de distribución de clases\n",
    "Debería haber dos clases, la clase en la que el dispositivo esa prendido (estadoLuz = 1) y la clase en la que está apagado."
   ]
  },
  {
   "cell_type": "code",
   "execution_count": 13,
   "metadata": {},
   "outputs": [
    {
     "name": "stdout",
     "output_type": "stream",
     "text": [
      "Número de casos verdaderos:  28566 (22.04%)\n",
      "Número de casos falsos: 101035 (77.96%)\n"
     ]
    }
   ],
   "source": [
    "num_obs = len(df)\n",
    "num_true = len(df.loc[df['estadoLuz'] == 1])\n",
    "num_false = len(df.loc[df['estadoLuz'] == 0])\n",
    "print(\"Número de casos verdaderos:  {0} ({1:2.2f}%)\".format(num_true, (num_true/num_obs) * 100))\n",
    "print(\"Número de casos falsos: {0} ({1:2.2f}%)\".format(num_false, (num_false/num_obs) * 100))"
   ]
  },
  {
   "cell_type": "markdown",
   "metadata": {},
   "source": [
    "Esta distribución está un poquito desbalanceada, dado que el usuario está la mayor parte del día fuera de la oficina, y durante la noche durmiendo. Son pocas las horas de Lunes a Viernes en que está activo. Durante el fin de semana la cantidad de horas aumenta. Por ahí 60-40 hubiera estado mejor, ya que tendría más casos verdaderos para analizar. Vamos a ver como sale."
   ]
  },
  {
   "cell_type": "markdown",
   "metadata": {},
   "source": [
    "### Separando los datos para training y prueba\n",
    "Para poder hacer etapas de entrenamiento y prueba, voy a separar los datos. 70% para entrenamiento, 30% para prueba. Para esto voy a usar del módulo scikit-learn la función train_test_split.\n",
    "\n",
    "Los conjuntos de datos van a llamarse:\n",
    "* X_train: Datos de entrenamiento. Las 7 columnas con los valores del mes, día, sensores, etc, compuesto por el 70% de los registros\n",
    "* y_train: Resultado de entrenamiento. Columna *estadoLuz* para el 70% de los registros\n",
    "* X_test: Datos para hacer la validación. Tienen el mismo formato que X_train, pero corresponden al 30% del conjunto de datos\n",
    "* y_test: Resultados para validar la performance del algoritmo aplicado a X_test\n",
    "\n",
    "O puesto de otro modo:\n",
    "\n",
    "| Entrada (5 columnas) | Salida (1 columna)| \n",
    "|-------------|--------|\n",
    "| X_train (70%) | y_train|\n",
    "| X_test (30%)| y_test |"
   ]
  },
  {
   "cell_type": "code",
   "execution_count": 14,
   "metadata": {
    "collapsed": true
   },
   "outputs": [],
   "source": [
    "from sklearn.model_selection import train_test_split\n",
    "\n",
    "feature_col_names = ['diaSemana', 'minuto', 'sensLuminosidad', 'sensSonido', 'sensPresencia']\n",
    "predicted_class_names = ['estadoLuz']\n",
    "\n",
    "X = df[feature_col_names].values     # Columnas del predictor (5 X m)\n",
    "y = df[predicted_class_names].values # Clase predecida (1=verdadero, 0=falso) column (1 X m)\n",
    "split_test_size = 0.30               # 0.30 es 30%, el tamaño para pruebas\n",
    "\n",
    "# 42 es una respuesta común\n",
    "X_train, X_test, y_train, y_test = train_test_split(X, y, test_size=split_test_size, random_state=42)"
   ]
  },
  {
   "cell_type": "markdown",
   "metadata": {},
   "source": [
    "Verifico que el tamaño relativo de los sets de entrenamiento y prueba sea lo más cercano a 70-30 posible:"
   ]
  },
  {
   "cell_type": "code",
   "execution_count": 15,
   "metadata": {},
   "outputs": [
    {
     "name": "stdout",
     "output_type": "stream",
     "text": [
      "70.00% en el set de entrenamiento\n",
      "30.00% en el set de prueba\n"
     ]
    }
   ],
   "source": [
    "print(\"{0:0.2f}% en el set de entrenamiento\".format((len(X_train)/len(df.index)) * 100))\n",
    "print(\"{0:0.2f}% en el set de prueba\".format((len(X_test)/len(df.index)) * 100))"
   ]
  },
  {
   "cell_type": "markdown",
   "metadata": {},
   "source": [
    "Verifico que la proporción de casos verdaderos y falsos se mantenga en los conjuntos de entrenamiento y test:"
   ]
  },
  {
   "cell_type": "code",
   "execution_count": 16,
   "metadata": {},
   "outputs": [
    {
     "name": "stdout",
     "output_type": "stream",
     "text": [
      "Verdaderos en el total     : 28566 (22.04%)\n",
      "Falsos en el total         : 101035 (77.96%)\n",
      "\n",
      "Verdaderos en entrenamiento: 19927 (21.97%)\n",
      "Falsos en entrenamiento    : 70793 (78.03%)\n",
      "\n",
      "Verdaderos en test         : 8639 (22.22%)\n",
      "Falsos en test             : 30242 (77.78%)\n"
     ]
    }
   ],
   "source": [
    "print(\"Verdaderos en el total     : {0} ({1:0.2f}%)\".format(len(df.loc[df['estadoLuz'] == 1]), (len(df.loc[df['estadoLuz'] == 1])/len(df.index)) * 100.0))\n",
    "print(\"Falsos en el total         : {0} ({1:0.2f}%)\".format(len(df.loc[df['estadoLuz'] == 0]), (len(df.loc[df['estadoLuz'] == 0])/len(df.index)) * 100.0))\n",
    "print(\"\")\n",
    "print(\"Verdaderos en entrenamiento: {0} ({1:0.2f}%)\".format(len(y_train[y_train[:] == 1]), (len(y_train[y_train[:] == 1])/len(y_train) * 100.0)))\n",
    "print(\"Falsos en entrenamiento    : {0} ({1:0.2f}%)\".format(len(y_train[y_train[:] == 0]), (len(y_train[y_train[:] == 0])/len(y_train) * 100.0)))\n",
    "print(\"\")\n",
    "print(\"Verdaderos en test         : {0} ({1:0.2f}%)\".format(len(y_test[y_test[:] == 1]), (len(y_test[y_test[:] == 1])/len(y_test) * 100.0)))\n",
    "print(\"Falsos en test             : {0} ({1:0.2f}%)\".format(len(y_test[y_test[:] == 0]), (len(y_test[y_test[:] == 0])/len(y_test) * 100.0)))"
   ]
  },
  {
   "cell_type": "markdown",
   "metadata": {},
   "source": [
    "El resultado está muy bien, la proporción se mantiene lo más cerca posible.\n"
   ]
  },
  {
   "cell_type": "markdown",
   "metadata": {},
   "source": [
    "### Entrenamiento inicial\n",
    "Para este entrenamiento voy a usar otro módulo de scikit-learn: neural_network. Como lo que estamos tratando de averiguar es si la luz debe estar prendida o no, estamos hablando de un algoritmo de clasificación, y por lo tanto la función que voy a usar se llama MLPClassifier, e implementa un perceptrón multi capa (MLP) que se entrena usando backpropagation.\n"
   ]
  },
  {
   "cell_type": "code",
   "execution_count": 17,
   "metadata": {},
   "outputs": [
    {
     "data": {
      "text/plain": [
       "MLPClassifier(activation='relu', alpha=0.0001, batch_size='auto', beta_1=0.9,\n",
       "       beta_2=0.999, early_stopping=False, epsilon=1e-08,\n",
       "       hidden_layer_sizes=(100,), learning_rate='constant',\n",
       "       learning_rate_init=0.001, max_iter=200, momentum=0.9,\n",
       "       nesterovs_momentum=True, power_t=0.5, random_state=1, shuffle=True,\n",
       "       solver='adam', tol=0.0001, validation_fraction=0.1, verbose=False,\n",
       "       warm_start=False)"
      ]
     },
     "execution_count": 17,
     "metadata": {},
     "output_type": "execute_result"
    }
   ],
   "source": [
    "from sklearn.neural_network import MLPClassifier\n",
    "clf_model = MLPClassifier(random_state=1)\n",
    "clf_model.fit(X_train, y_train.ravel())"
   ]
  },
  {
   "cell_type": "markdown",
   "metadata": {},
   "source": [
    "### Performance usando los datos de entrenamiento\n",
    "Para esto voy a importar la función metrics."
   ]
  },
  {
   "cell_type": "code",
   "execution_count": 18,
   "metadata": {
    "scrolled": true
   },
   "outputs": [
    {
     "name": "stdout",
     "output_type": "stream",
     "text": [
      "Precisión en entrenamiento: 0.9599\n",
      "\n"
     ]
    }
   ],
   "source": [
    "from sklearn import metrics\n",
    "\n",
    "clf_predict_train = clf_model.predict(X_train)\n",
    "\n",
    "print(\"Precisión en entrenamiento: {0:.4f}\".format(metrics.accuracy_score(y_train, clf_predict_train)))\n",
    "print()"
   ]
  },
  {
   "cell_type": "markdown",
   "metadata": {},
   "source": [
    "### Performance usando los datos de prueba"
   ]
  },
  {
   "cell_type": "code",
   "execution_count": 19,
   "metadata": {
    "scrolled": true
   },
   "outputs": [
    {
     "name": "stdout",
     "output_type": "stream",
     "text": [
      "Precisión en test: 0.9607\n",
      "\n"
     ]
    }
   ],
   "source": [
    "clf_predict_test = clf_model.predict(X_test)\n",
    "\n",
    "print(\"Precisión en test: {0:.4f}\".format(metrics.accuracy_score(y_test, clf_predict_test)))\n",
    "print()"
   ]
  },
  {
   "cell_type": "markdown",
   "metadata": {},
   "source": [
    "## Métricas\n",
    "Los resultados de las etapas de entrenamiento y prueba son muy buenos. Demasiado buenos. Hay que analizar si no hay algún otro problema que pueda causar que cuando ponga más datos (cuando analice en tiempo real la actividad del usuario), el modelo falle miserablemente.\n",
    "\n",
    "Para este análisis, voy a ver como se comparan los resultados, con el objetivo de entender si el modelo sirve o hay que hacer ajustes. Voy a usar dos herramientas:\n",
    "\n",
    "### Matriz de confusión\n",
    "https://es.wikipedia.org/wiki/Matriz_de_confusi%C3%B3n\n",
    "\n",
    "Cada columna de la matriz representa el número de predicciones de cada clase, mientras que cada fila representa a las instancias en la clase real. Uno de los beneficios de las matrices de confusión es que facilitan ver si el sistema está confundiendo dos clases. \n",
    "\n",
    "En nuestro caso, la matriz representa lo siguiente:\n",
    "\n",
    "\n",
    "| EV (Predicho Encendido y es verdad ) | EF (Predicho Encendido pero es falso) |\n",
    "|------------------------------------------------|\n",
    "| **AF (Predicho Apagado pero es Falso** | **AV (Predicho Apagado y es verdad)** |\n",
    "\n",
    "Esto quiere decir que queremos los valores más altos posibles en la diagonal, y lo más cerca posible a cero en cualquier otro lado."
   ]
  },
  {
   "cell_type": "code",
   "execution_count": 20,
   "metadata": {},
   "outputs": [
    {
     "name": "stdout",
     "output_type": "stream",
     "text": [
      "Matriz de confusión:\n",
      "[[ 8609    30]\n",
      " [ 1499 28743]]\n"
     ]
    }
   ],
   "source": [
    "print(\"Matriz de confusión:\")\n",
    "print(\"{0}\".format(metrics.confusion_matrix(y_test, clf_predict_test, labels=[1, 0])))"
   ]
  },
  {
   "cell_type": "markdown",
   "metadata": {},
   "source": [
    "Estos resultados son muy buenos, el porcentaje de acertados es altísimo. El modelo es casi perfecto. Para confirmar, hay que usar la otra herramienta.\n",
    "\n",
    "\n",
    "### Reporte de clasificación.\n",
    "Lo primero que vamos a verificar es que tan bien se hace una predición acertada cuando se requiere que el dispositivo esté encendido. Este dato, llamado \"recall\" en el reporte, esta dado por:\n",
    "\n",
    "Recall = EV / (EV + AF)\n",
    "\n",
    "Lo segundo que queremos ver es la presición, que está dada por:\n",
    "\n",
    "Precision = EV / (EV + EF)\n"
   ]
  },
  {
   "cell_type": "code",
   "execution_count": 21,
   "metadata": {},
   "outputs": [
    {
     "name": "stdout",
     "output_type": "stream",
     "text": [
      "Reporte de clasificación:\n",
      "             precision    recall  f1-score   support\n",
      "\n",
      "          1       0.85      1.00      0.92      8639\n",
      "          0       1.00      0.95      0.97     30242\n",
      "\n",
      "avg / total       0.97      0.96      0.96     38881\n",
      "\n"
     ]
    }
   ],
   "source": [
    "print(\"Reporte de clasificación:\")\n",
    "print(metrics.classification_report(y_test, clf_predict_test, labels=[1,0]))"
   ]
  },
  {
   "cell_type": "markdown",
   "metadata": {
    "collapsed": true
   },
   "source": [
    "Según este reporte, recall = 100% y precision = 85%. El modelo es muy bueno. Esto lo adjudico al hecho de que el dataset fue creado a mano, con un hábito muy marcado.\n",
    "\n",
    "## Verificación final\n",
    "¿Qué pasaría si tengo una nueva entrada en el dataset, que representa un comportamiento del usuario registrado en un momento en particular?\n",
    "\n",
    "Por ejemplo, si digo \"El Martes a las 2:16am ladro un perro mientras el usuario dormia\", se podría traducir en un registro como:\n",
    "\n",
    "| diaSemana | minuto | sensLuminosidad | sensSonido | sensPresencia |\n",
    "|-|\n",
    "| 2 | 136 | 0.020 | 0.400 | 0.300 |\n",
    "\n",
    "Uno esperaría que a pesar de la detección de sonido y de presencia (el usuario se mueve), la luz debería estar apagada de todos modos. Veamos que resultado muestra el modelo."
   ]
  },
  {
   "cell_type": "code",
   "execution_count": 22,
   "metadata": {},
   "outputs": [
    {
     "name": "stdout",
     "output_type": "stream",
     "text": [
      "Resultado:  [0]\n"
     ]
    }
   ],
   "source": [
    "X_new_test = [[2, 136, 0.02, 0.4, 0.3]]\n",
    "clf_predict_new_test = clf_model.predict(X_new_test)\n",
    "\n",
    "print (\"Resultado: \", clf_predict_new_test)"
   ]
  },
  {
   "cell_type": "markdown",
   "metadata": {},
   "source": [
    "El resultado es el esperado. Como dije al principio, quizá el sensor de luminosidad está demasiado relacionado con el resultado, es algo para ver. De todos modos, este modelo parece algo que podemos aplicar, extendiendolo a más de un dispositivo por ambiente.\n",
    "\n",
    "Lo otro que podemos hacer es usar la salida de esta red como entrada para una red general, que represente la casa."
   ]
  }
 ],
 "metadata": {
  "kernelspec": {
   "display_name": "Python 3",
   "language": "python",
   "name": "python3"
  },
  "language_info": {
   "codemirror_mode": {
    "name": "ipython",
    "version": 3
   },
   "file_extension": ".py",
   "mimetype": "text/x-python",
   "name": "python",
   "nbconvert_exporter": "python",
   "pygments_lexer": "ipython3",
   "version": "3.5.3"
  }
 },
 "nbformat": 4,
 "nbformat_minor": 2
}
