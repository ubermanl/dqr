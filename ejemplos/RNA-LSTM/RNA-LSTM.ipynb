{
 "cells": [
  {
   "cell_type": "markdown",
   "metadata": {
    "deletable": true,
    "editable": true
   },
   "source": [
    "# Prueba de RNA usando LSTM"
   ]
  },
  {
   "cell_type": "markdown",
   "metadata": {
    "deletable": true,
    "editable": true
   },
   "source": [
    "Fuentes:\n",
    "- https://machinelearningmastery.com/multivariate-time-series-forecasting-lstms-keras/\n",
    "- https://iamtrask.github.io/2015/11/15/anyone-can-code-lstm/\n",
    "\n",
    "Según dicen:\n",
    "\n",
    "_Neural networks like Long Short-Term Memory (LSTM) recurrent neural networks are able to almost seamlessly model problems with multiple input variables._\n",
    "_This is a great benefit in time series forecasting, where classical linear methods can be difficult to adapt to multivariate or multiple input forecasting problems._\n",
    "\n",
    "## Carga y preparación del dataset"
   ]
  },
  {
   "cell_type": "code",
   "execution_count": 2,
   "metadata": {
    "collapsed": false,
    "deletable": true,
    "editable": true
   },
   "outputs": [
    {
     "name": "stderr",
     "output_type": "stream",
     "text": [
      "Using TensorFlow backend.\n"
     ]
    }
   ],
   "source": [
    "# En la Rpi se podría achicar importando solo lo comentado.\n",
    "# from pandas import DataFrame, Series, concat, read_csv, detime, \n",
    "import pandas as pd\n",
    "\n",
    "# from sklearn.metrics import mean_squared_error\n",
    "# from sklearn.preprocessing import MinMaxScaler\n",
    "import sklearn\n",
    "\n",
    "# from keras.models import Sequential\n",
    "# from keras.layers import Dense, LSTM\n",
    "import keras\n",
    "\n",
    "from math import sqrt\n",
    "from matplotlib import pyplot as plt\n",
    "\n",
    "import numpy as np\n",
    "\n",
    "# Import mysql to extract dataset directly from db\n",
    "import MySQLdb\n"
   ]
  },
  {
   "cell_type": "code",
   "execution_count": 3,
   "metadata": {
    "collapsed": true,
    "deletable": true,
    "editable": true
   },
   "outputs": [],
   "source": [
    "%matplotlib inline"
   ]
  },
  {
   "cell_type": "markdown",
   "metadata": {
    "deletable": true,
    "editable": true
   },
   "source": [
    "### Conexión al DWH"
   ]
  },
  {
   "cell_type": "code",
   "execution_count": 4,
   "metadata": {
    "collapsed": false,
    "deletable": true,
    "editable": true
   },
   "outputs": [],
   "source": [
    "# Base de datos histórica\n",
    "dbname_hist = \"ratio_dwh\"\n",
    "dbhost_hist = \"localhost\"\n",
    "dbport_hist = 3306\n",
    "dbuser_hist = \"root\"\n",
    "dbpass_hist = \"root\"\n",
    "device_events_tbl = \"device_events\"\n",
    "device_event_sensors_tbl = \"device_event_sensors\"\n",
    "device_modules_tbl = \"device_modules\""
   ]
  },
  {
   "cell_type": "markdown",
   "metadata": {
    "deletable": true,
    "editable": true
   },
   "source": [
    "### Variables de configuración"
   ]
  },
  {
   "cell_type": "code",
   "execution_count": 5,
   "metadata": {
    "collapsed": true,
    "deletable": true,
    "editable": true
   },
   "outputs": [],
   "source": [
    "device_id = 5                   # Device id donde esta el modulo a entrenar\n",
    "lux_module_id = 51              # Modulo a entrenar\n",
    "\n",
    "# Variables de tipos de sensores\n",
    "ACS_SENSOR_TYPE = 1\n",
    "LIGHT_SENSOR_TYPE = 2\n",
    "MOVEMENT_SENSOR_TYPE = 3\n",
    "SOUND_SENSOR_TYPE = 4\n",
    "TEMP_SENSOR_TYPE = 5"
   ]
  },
  {
   "cell_type": "markdown",
   "metadata": {
    "deletable": true,
    "editable": true
   },
   "source": [
    "### Funciones"
   ]
  },
  {
   "cell_type": "code",
   "execution_count": 6,
   "metadata": {
    "collapsed": true,
    "deletable": true,
    "editable": true
   },
   "outputs": [],
   "source": [
    "# Funcion para pasar de sensor_id a nombre\n",
    "def sensorIdToStr(sensor_id):\n",
    "    return {\n",
    "        ACS_SENSOR_TYPE: 'LUX_ACS',\n",
    "        LIGHT_SENSOR_TYPE: 'LIGHT',\n",
    "        MOVEMENT_SENSOR_TYPE: 'MOVEMENT',\n",
    "        SOUND_SENSOR_TYPE: 'SOUND',\n",
    "        TEMP_SENSOR_TYPE: 'TEMPERATURE'\n",
    "    }.get(sensor_id, sensor_id)"
   ]
  },
  {
   "cell_type": "markdown",
   "metadata": {
    "deletable": true,
    "editable": true
   },
   "source": [
    "## Extracción de datos del dwh:"
   ]
  },
  {
   "cell_type": "code",
   "execution_count": 7,
   "metadata": {
    "collapsed": false,
    "deletable": true,
    "editable": true
   },
   "outputs": [
    {
     "name": "stdout",
     "output_type": "stream",
     "text": [
      "CPU times: user 2.62 s, sys: 134 ms, total: 2.76 s\n",
      "Wall time: 5.67 s\n"
     ]
    }
   ],
   "source": [
    "# Estrayendo valores de la tabla de eventos\n",
    "conn = MySQLdb.connect(host=dbhost_hist, port=dbport_hist, user=dbuser_hist, passwd=dbpass_hist, db=dbname_hist)\n",
    "from_stm = 'FROM ' + device_events_tbl + ' de LEFT JOIN ' + device_event_sensors_tbl + ' des ON de.id=des.device_event_id '\n",
    "where_stm = 'WHERE device_id = ' + str(device_id) + ' AND module_id = ' + str(lux_module_id) + ' AND ts BETWEEN DATE_SUB(NOW(), INTERVAL 90 DAY) AND NOW()'\n",
    "%time df_events_qry = pd.read_sql('select ts, state, sensor_type_id, value ' + from_stm + where_stm, con=conn)\n",
    "conn.close()"
   ]
  },
  {
   "cell_type": "code",
   "execution_count": 8,
   "metadata": {
    "collapsed": false,
    "deletable": true,
    "editable": true
   },
   "outputs": [
    {
     "data": {
      "text/html": [
       "<div>\n",
       "<table border=\"1\" class=\"dataframe\">\n",
       "  <thead>\n",
       "    <tr style=\"text-align: right;\">\n",
       "      <th></th>\n",
       "      <th>ts</th>\n",
       "      <th>state</th>\n",
       "      <th>sensor_type_id</th>\n",
       "      <th>value</th>\n",
       "    </tr>\n",
       "  </thead>\n",
       "  <tbody>\n",
       "    <tr>\n",
       "      <th>0</th>\n",
       "      <td>2017-08-14 13:31:00</td>\n",
       "      <td>0</td>\n",
       "      <td>2</td>\n",
       "      <td>633.000000</td>\n",
       "    </tr>\n",
       "    <tr>\n",
       "      <th>1</th>\n",
       "      <td>2017-08-14 13:31:00</td>\n",
       "      <td>0</td>\n",
       "      <td>4</td>\n",
       "      <td>33.893049</td>\n",
       "    </tr>\n",
       "    <tr>\n",
       "      <th>2</th>\n",
       "      <td>2017-08-14 13:31:00</td>\n",
       "      <td>0</td>\n",
       "      <td>3</td>\n",
       "      <td>0.000000</td>\n",
       "    </tr>\n",
       "    <tr>\n",
       "      <th>3</th>\n",
       "      <td>2017-08-14 13:31:00</td>\n",
       "      <td>0</td>\n",
       "      <td>1</td>\n",
       "      <td>0.009065</td>\n",
       "    </tr>\n",
       "    <tr>\n",
       "      <th>4</th>\n",
       "      <td>2017-08-14 13:32:00</td>\n",
       "      <td>0</td>\n",
       "      <td>2</td>\n",
       "      <td>592.000000</td>\n",
       "    </tr>\n",
       "  </tbody>\n",
       "</table>\n",
       "</div>"
      ],
      "text/plain": [
       "                   ts  state  sensor_type_id       value\n",
       "0 2017-08-14 13:31:00      0               2  633.000000\n",
       "1 2017-08-14 13:31:00      0               4   33.893049\n",
       "2 2017-08-14 13:31:00      0               3    0.000000\n",
       "3 2017-08-14 13:31:00      0               1    0.009065\n",
       "4 2017-08-14 13:32:00      0               2  592.000000"
      ]
     },
     "execution_count": 8,
     "metadata": {},
     "output_type": "execute_result"
    }
   ],
   "source": [
    "df_events_qry.head(5)"
   ]
  },
  {
   "cell_type": "markdown",
   "metadata": {
    "deletable": true,
    "editable": true
   },
   "source": [
    "### Generación de dataset para entrenamiento"
   ]
  },
  {
   "cell_type": "code",
   "execution_count": 9,
   "metadata": {
    "collapsed": true,
    "deletable": true,
    "editable": true
   },
   "outputs": [],
   "source": [
    "# Se elininan los eventos de estado sin sensado\n",
    "df_events_qry.dropna(inplace=True)"
   ]
  },
  {
   "cell_type": "code",
   "execution_count": 10,
   "metadata": {
    "collapsed": true,
    "deletable": true,
    "editable": true
   },
   "outputs": [],
   "source": [
    "# Se \"aplanan\" los eventos con una tabla pivot sobre la columna sensor_type_id\n",
    "df_events = df_events_qry.pivot_table(index=['ts','state'], columns='sensor_type_id', values='value', aggfunc=np.mean)\n",
    "# Se elimina el multiindex de columnas generado por pivot_table\n",
    "df_events = df_events.reset_index().rename_axis(None, axis=1)\n",
    "# Se renombran las columnas\n",
    "df_events.rename(columns={'ts': 'TIMESTAMP', 'state': 'LUX_ON'},inplace=True)\n",
    "df_events.columns = [ sensorIdToStr(colname) for colname in df_events.columns ]"
   ]
  },
  {
   "cell_type": "code",
   "execution_count": 11,
   "metadata": {
    "collapsed": false,
    "deletable": true,
    "editable": true
   },
   "outputs": [
    {
     "data": {
      "text/html": [
       "<div>\n",
       "<table border=\"1\" class=\"dataframe\">\n",
       "  <thead>\n",
       "    <tr style=\"text-align: right;\">\n",
       "      <th></th>\n",
       "      <th>TIMESTAMP</th>\n",
       "      <th>LUX_ON</th>\n",
       "      <th>LUX_ACS</th>\n",
       "      <th>LIGHT</th>\n",
       "      <th>MOVEMENT</th>\n",
       "      <th>SOUND</th>\n",
       "    </tr>\n",
       "  </thead>\n",
       "  <tbody>\n",
       "    <tr>\n",
       "      <th>0</th>\n",
       "      <td>2017-08-14 13:31:00</td>\n",
       "      <td>0</td>\n",
       "      <td>0.009065</td>\n",
       "      <td>633.0</td>\n",
       "      <td>0.0</td>\n",
       "      <td>33.893049</td>\n",
       "    </tr>\n",
       "    <tr>\n",
       "      <th>1</th>\n",
       "      <td>2017-08-14 13:32:00</td>\n",
       "      <td>0</td>\n",
       "      <td>0.004916</td>\n",
       "      <td>592.0</td>\n",
       "      <td>0.0</td>\n",
       "      <td>33.810653</td>\n",
       "    </tr>\n",
       "    <tr>\n",
       "      <th>2</th>\n",
       "      <td>2017-08-14 13:33:00</td>\n",
       "      <td>0</td>\n",
       "      <td>0.008713</td>\n",
       "      <td>605.0</td>\n",
       "      <td>0.0</td>\n",
       "      <td>38.645917</td>\n",
       "    </tr>\n",
       "    <tr>\n",
       "      <th>3</th>\n",
       "      <td>2017-08-14 13:34:00</td>\n",
       "      <td>0</td>\n",
       "      <td>0.007387</td>\n",
       "      <td>618.0</td>\n",
       "      <td>0.0</td>\n",
       "      <td>34.280948</td>\n",
       "    </tr>\n",
       "    <tr>\n",
       "      <th>4</th>\n",
       "      <td>2017-08-14 13:35:00</td>\n",
       "      <td>0</td>\n",
       "      <td>0.006738</td>\n",
       "      <td>604.0</td>\n",
       "      <td>0.0</td>\n",
       "      <td>37.395042</td>\n",
       "    </tr>\n",
       "  </tbody>\n",
       "</table>\n",
       "</div>"
      ],
      "text/plain": [
       "            TIMESTAMP  LUX_ON   LUX_ACS  LIGHT  MOVEMENT      SOUND\n",
       "0 2017-08-14 13:31:00       0  0.009065  633.0       0.0  33.893049\n",
       "1 2017-08-14 13:32:00       0  0.004916  592.0       0.0  33.810653\n",
       "2 2017-08-14 13:33:00       0  0.008713  605.0       0.0  38.645917\n",
       "3 2017-08-14 13:34:00       0  0.007387  618.0       0.0  34.280948\n",
       "4 2017-08-14 13:35:00       0  0.006738  604.0       0.0  37.395042"
      ]
     },
     "execution_count": 11,
     "metadata": {},
     "output_type": "execute_result"
    }
   ],
   "source": [
    "df_events.head(5)"
   ]
  },
  {
   "cell_type": "markdown",
   "metadata": {
    "deletable": true,
    "editable": true
   },
   "source": [
    "## Limpieza del dataset\n",
    "Debido a que no se necesitan todas las columnas para realizar el entrenamiento de la RNA, se eliminan las que no representen relación con lo que se busca predecir.\n",
    "\n",
    "- Las medicion LUX_ACS puede ignorarse para este tipo de entrenamiento, ya que es practicamente lineal con LUX_ON.\n",
    "- Timestamp puede eliminarse, ya que en LSTM se utilizan los valores de registros anteriores para determinar el actual\n"
   ]
  },
  {
   "cell_type": "code",
   "execution_count": 12,
   "metadata": {
    "collapsed": false,
    "deletable": true,
    "editable": true
   },
   "outputs": [],
   "source": [
    "del df_events['LUX_ACS']\n",
    "del df_events['TIMESTAMP']"
   ]
  },
  {
   "cell_type": "markdown",
   "metadata": {
    "deletable": true,
    "editable": true
   },
   "source": [
    "### Ajuste y transformación de variables\n",
    "Se aplican ajustes y correcciones a las variables del dataset"
   ]
  },
  {
   "cell_type": "code",
   "execution_count": 13,
   "metadata": {
    "collapsed": false,
    "deletable": true,
    "editable": true
   },
   "outputs": [],
   "source": [
    "df_events['MOVEMENT'] = df_events.MOVEMENT.astype(int)"
   ]
  },
  {
   "cell_type": "markdown",
   "metadata": {
    "deletable": true,
    "editable": true
   },
   "source": [
    "## Análisis Exploratorio inicial\n"
   ]
  },
  {
   "cell_type": "markdown",
   "metadata": {
    "deletable": true,
    "editable": true
   },
   "source": [
    "Para conocer en que orden se mueven las variables, voy a hacer un gráfico inicial con una muestra equivalente a aproximadamente una semana, no los tres meses del dataset."
   ]
  },
  {
   "cell_type": "code",
   "execution_count": 14,
   "metadata": {
    "collapsed": false,
    "deletable": true,
    "editable": true
   },
   "outputs": [
    {
     "data": {
      "image/png": "[encoded data removed]",
      "text/plain": [
       "<matplotlib.figure.Figure at 0x7f397012bef0>"
      ]
     },
     "metadata": {},
     "output_type": "display_data"
    }
   ],
   "source": [
    "plt.figure(num=None, figsize=(16, 6), facecolor='w', edgecolor='k')\n",
    "plt.title(' Luminosidad', y=0.9, loc='left')\n",
    "plt.plot(df_events['LIGHT'].tail(10000))\n",
    "plt.show()"
   ]
  },
  {
   "cell_type": "code",
   "execution_count": 15,
   "metadata": {
    "collapsed": false,
    "deletable": true,
    "editable": true
   },
   "outputs": [
    {
     "data": {
      "image/png": "[encoded data removed]",
      "text/plain": [
       "<matplotlib.figure.Figure at 0x7f39700f9f60>"
      ]
     },
     "metadata": {},
     "output_type": "display_data"
    }
   ],
   "source": [
    "plt.figure(num=None, figsize=(16, 6), facecolor='w', edgecolor='k')\n",
    "plt.title(' Sonido', y=0.9, loc='left')\n",
    "plt.plot(df_events['SOUND'].tail(10000))\n",
    "plt.show()"
   ]
  },
  {
   "cell_type": "code",
   "execution_count": 16,
   "metadata": {
    "collapsed": false,
    "deletable": true,
    "editable": true
   },
   "outputs": [
    {
     "data": {
      "image/png": "[encoded data removed]",
      "text/plain": [
       "<matplotlib.figure.Figure at 0x7f397001f320>"
      ]
     },
     "metadata": {},
     "output_type": "display_data"
    }
   ],
   "source": [
    "plt.figure(num=None, figsize=(16, 6), facecolor='w', edgecolor='k')\n",
    "plt.title(' Movimiento', y=0.9, loc='left')\n",
    "plt.plot(df_events['MOVEMENT'].tail(10000))\n",
    "plt.show()"
   ]
  },
  {
   "cell_type": "markdown",
   "metadata": {
    "deletable": true,
    "editable": true
   },
   "source": [
    "### Función de correlación\n",
    "Esta función tiene dos entradas:\n",
    "1. El dataframe panda a analizar\n",
    "2. El tamáño de gráfico que se quiere imprimir"
   ]
  },
  {
   "cell_type": "code",
   "execution_count": 17,
   "metadata": {
    "collapsed": false,
    "deletable": true,
    "editable": true
   },
   "outputs": [],
   "source": [
    "def plot_corr(df, size=6):\n",
    "    corr = df.corr()    # data frame correlation function\n",
    "    fig, ax = plt.subplots(figsize=(size, size))\n",
    "    ax.matshow(corr)   # color code the rectangles by correlation value\n",
    "    plt.xticks(range(len(corr.columns)), corr.columns)  # draw x tick marks\n",
    "    plt.yticks(range(len(corr.columns)), corr.columns)  # draw y tick marks"
   ]
  },
  {
   "cell_type": "code",
   "execution_count": 18,
   "metadata": {
    "collapsed": false,
    "deletable": true,
    "editable": true
   },
   "outputs": [
    {
     "data": {
      "image/png": "[encoded data removed]",
      "text/plain": [
       "<matplotlib.figure.Figure at 0x7f3970037400>"
      ]
     },
     "metadata": {},
     "output_type": "display_data"
    }
   ],
   "source": [
    "plot_corr(df_events)"
   ]
  },
  {
   "cell_type": "code",
   "execution_count": 19,
   "metadata": {
    "collapsed": false,
    "deletable": true,
    "editable": true
   },
   "outputs": [
    {
     "data": {
      "text/html": [
       "\n",
       "        <style  type=\"text/css\" >\n",
       "        \n",
       "        \n",
       "            #T_db5538a6_c7c6_11e7_9ac1_0800271a8003row0_col0 {\n",
       "            \n",
       "                width:  10em;\n",
       "            \n",
       "                 height:  80%;\n",
       "            \n",
       "                background:  linear-gradient(90deg,#d65f5f 100.0%, transparent 0%);\n",
       "            \n",
       "            }\n",
       "        \n",
       "            #T_db5538a6_c7c6_11e7_9ac1_0800271a8003row1_col0 {\n",
       "            \n",
       "                width:  10em;\n",
       "            \n",
       "                 height:  80%;\n",
       "            \n",
       "            }\n",
       "        \n",
       "            #T_db5538a6_c7c6_11e7_9ac1_0800271a8003row2_col0 {\n",
       "            \n",
       "                width:  10em;\n",
       "            \n",
       "                 height:  80%;\n",
       "            \n",
       "                background:  linear-gradient(90deg,#d65f5f 36.610379800051%, transparent 0%);\n",
       "            \n",
       "            }\n",
       "        \n",
       "            #T_db5538a6_c7c6_11e7_9ac1_0800271a8003row3_col0 {\n",
       "            \n",
       "                width:  10em;\n",
       "            \n",
       "                 height:  80%;\n",
       "            \n",
       "                background:  linear-gradient(90deg,#d65f5f 26.929524717122213%, transparent 0%);\n",
       "            \n",
       "            }\n",
       "        \n",
       "        </style>\n",
       "\n",
       "        <table id=\"T_db5538a6_c7c6_11e7_9ac1_0800271a8003\" None>\n",
       "        \n",
       "\n",
       "        <thead>\n",
       "            \n",
       "            <tr>\n",
       "                \n",
       "                \n",
       "                <th class=\"blank level0\" >\n",
       "                  \n",
       "                \n",
       "                \n",
       "                \n",
       "                <th class=\"col_heading level0 col0\" colspan=1>\n",
       "                  LUX_ON\n",
       "                \n",
       "                \n",
       "                \n",
       "                <th class=\"col_heading level0 col1\" colspan=1>\n",
       "                  LIGHT\n",
       "                \n",
       "                \n",
       "                \n",
       "                <th class=\"col_heading level0 col2\" colspan=1>\n",
       "                  MOVEMENT\n",
       "                \n",
       "                \n",
       "                \n",
       "                <th class=\"col_heading level0 col3\" colspan=1>\n",
       "                  SOUND\n",
       "                \n",
       "                \n",
       "            </tr>\n",
       "            \n",
       "        </thead>\n",
       "        <tbody>\n",
       "            \n",
       "            <tr>\n",
       "                \n",
       "                \n",
       "                <th id=\"T_db5538a6_c7c6_11e7_9ac1_0800271a8003\"\n",
       "                 class=\"row_heading level0 row0\" rowspan=1>\n",
       "                    LUX_ON\n",
       "                \n",
       "                \n",
       "                \n",
       "                <td id=\"T_db5538a6_c7c6_11e7_9ac1_0800271a8003row0_col0\"\n",
       "                 class=\"data row0 col0\" >\n",
       "                    1\n",
       "                \n",
       "                \n",
       "                \n",
       "                <td id=\"T_db5538a6_c7c6_11e7_9ac1_0800271a8003row0_col1\"\n",
       "                 class=\"data row0 col1\" >\n",
       "                    0.186733\n",
       "                \n",
       "                \n",
       "                \n",
       "                <td id=\"T_db5538a6_c7c6_11e7_9ac1_0800271a8003row0_col2\"\n",
       "                 class=\"data row0 col2\" >\n",
       "                    0.484473\n",
       "                \n",
       "                \n",
       "                \n",
       "                <td id=\"T_db5538a6_c7c6_11e7_9ac1_0800271a8003row0_col3\"\n",
       "                 class=\"data row0 col3\" >\n",
       "                    0.405742\n",
       "                \n",
       "                \n",
       "            </tr>\n",
       "            \n",
       "            <tr>\n",
       "                \n",
       "                \n",
       "                <th id=\"T_db5538a6_c7c6_11e7_9ac1_0800271a8003\"\n",
       "                 class=\"row_heading level0 row1\" rowspan=1>\n",
       "                    LIGHT\n",
       "                \n",
       "                \n",
       "                \n",
       "                <td id=\"T_db5538a6_c7c6_11e7_9ac1_0800271a8003row1_col0\"\n",
       "                 class=\"data row1 col0\" >\n",
       "                    0.186733\n",
       "                \n",
       "                \n",
       "                \n",
       "                <td id=\"T_db5538a6_c7c6_11e7_9ac1_0800271a8003row1_col1\"\n",
       "                 class=\"data row1 col1\" >\n",
       "                    1\n",
       "                \n",
       "                \n",
       "                \n",
       "                <td id=\"T_db5538a6_c7c6_11e7_9ac1_0800271a8003row1_col2\"\n",
       "                 class=\"data row1 col2\" >\n",
       "                    0.205927\n",
       "                \n",
       "                \n",
       "                \n",
       "                <td id=\"T_db5538a6_c7c6_11e7_9ac1_0800271a8003row1_col3\"\n",
       "                 class=\"data row1 col3\" >\n",
       "                    0.173781\n",
       "                \n",
       "                \n",
       "            </tr>\n",
       "            \n",
       "            <tr>\n",
       "                \n",
       "                \n",
       "                <th id=\"T_db5538a6_c7c6_11e7_9ac1_0800271a8003\"\n",
       "                 class=\"row_heading level0 row2\" rowspan=1>\n",
       "                    MOVEMENT\n",
       "                \n",
       "                \n",
       "                \n",
       "                <td id=\"T_db5538a6_c7c6_11e7_9ac1_0800271a8003row2_col0\"\n",
       "                 class=\"data row2 col0\" >\n",
       "                    0.484473\n",
       "                \n",
       "                \n",
       "                \n",
       "                <td id=\"T_db5538a6_c7c6_11e7_9ac1_0800271a8003row2_col1\"\n",
       "                 class=\"data row2 col1\" >\n",
       "                    0.205927\n",
       "                \n",
       "                \n",
       "                \n",
       "                <td id=\"T_db5538a6_c7c6_11e7_9ac1_0800271a8003row2_col2\"\n",
       "                 class=\"data row2 col2\" >\n",
       "                    1\n",
       "                \n",
       "                \n",
       "                \n",
       "                <td id=\"T_db5538a6_c7c6_11e7_9ac1_0800271a8003row2_col3\"\n",
       "                 class=\"data row2 col3\" >\n",
       "                    0.844131\n",
       "                \n",
       "                \n",
       "            </tr>\n",
       "            \n",
       "            <tr>\n",
       "                \n",
       "                \n",
       "                <th id=\"T_db5538a6_c7c6_11e7_9ac1_0800271a8003\"\n",
       "                 class=\"row_heading level0 row3\" rowspan=1>\n",
       "                    SOUND\n",
       "                \n",
       "                \n",
       "                \n",
       "                <td id=\"T_db5538a6_c7c6_11e7_9ac1_0800271a8003row3_col0\"\n",
       "                 class=\"data row3 col0\" >\n",
       "                    0.405742\n",
       "                \n",
       "                \n",
       "                \n",
       "                <td id=\"T_db5538a6_c7c6_11e7_9ac1_0800271a8003row3_col1\"\n",
       "                 class=\"data row3 col1\" >\n",
       "                    0.173781\n",
       "                \n",
       "                \n",
       "                \n",
       "                <td id=\"T_db5538a6_c7c6_11e7_9ac1_0800271a8003row3_col2\"\n",
       "                 class=\"data row3 col2\" >\n",
       "                    0.844131\n",
       "                \n",
       "                \n",
       "                \n",
       "                <td id=\"T_db5538a6_c7c6_11e7_9ac1_0800271a8003row3_col3\"\n",
       "                 class=\"data row3 col3\" >\n",
       "                    1\n",
       "                \n",
       "                \n",
       "            </tr>\n",
       "            \n",
       "        </tbody>\n",
       "        </table>\n",
       "        "
      ],
      "text/plain": [
       "<pandas.formats.style.Styler at 0x7f396ffa1710>"
      ]
     },
     "execution_count": 19,
     "metadata": {},
     "output_type": "execute_result"
    }
   ],
   "source": [
    "df_events.corr().style.bar(subset=['LUX_ON'], color='#d65f5f', axis=0)"
   ]
  },
  {
   "cell_type": "markdown",
   "metadata": {
    "deletable": true,
    "editable": true
   },
   "source": [
    "## Conversión de serie a aprendizaje supervisado\n",
    "\n",
    "Convierto los datos de un formato secuencial a uno de aprendizaje supervisado. Para eso tengo que hacer dos cosas:\n",
    "- Normalizar los valores de las variables al rango de activación de la función tanh() (-1 a 1)\n",
    "- Crear las variables LUX_ON_1m, LIGHT_1m, MOVEMENT_1m y SOUND_1m\n"
   ]
  },
  {
   "cell_type": "code",
   "execution_count": 20,
   "metadata": {
    "collapsed": false,
    "deletable": true,
    "editable": true
   },
   "outputs": [
    {
     "data": {
      "text/html": [
       "<div>\n",
       "<table border=\"1\" class=\"dataframe\">\n",
       "  <thead>\n",
       "    <tr style=\"text-align: right;\">\n",
       "      <th></th>\n",
       "      <th>LUX_ON</th>\n",
       "      <th>LIGHT</th>\n",
       "      <th>MOVEMENT</th>\n",
       "      <th>SOUND</th>\n",
       "    </tr>\n",
       "  </thead>\n",
       "  <tbody>\n",
       "    <tr>\n",
       "      <th>0</th>\n",
       "      <td>0.0</td>\n",
       "      <td>0.900427</td>\n",
       "      <td>0.0</td>\n",
       "      <td>0.126339</td>\n",
       "    </tr>\n",
       "    <tr>\n",
       "      <th>1</th>\n",
       "      <td>0.0</td>\n",
       "      <td>0.842105</td>\n",
       "      <td>0.0</td>\n",
       "      <td>0.124950</td>\n",
       "    </tr>\n",
       "    <tr>\n",
       "      <th>2</th>\n",
       "      <td>0.0</td>\n",
       "      <td>0.860597</td>\n",
       "      <td>0.0</td>\n",
       "      <td>0.206492</td>\n",
       "    </tr>\n",
       "    <tr>\n",
       "      <th>3</th>\n",
       "      <td>0.0</td>\n",
       "      <td>0.879090</td>\n",
       "      <td>0.0</td>\n",
       "      <td>0.132881</td>\n",
       "    </tr>\n",
       "    <tr>\n",
       "      <th>4</th>\n",
       "      <td>0.0</td>\n",
       "      <td>0.859175</td>\n",
       "      <td>0.0</td>\n",
       "      <td>0.185397</td>\n",
       "    </tr>\n",
       "  </tbody>\n",
       "</table>\n",
       "</div>"
      ],
      "text/plain": [
       "   LUX_ON     LIGHT  MOVEMENT     SOUND\n",
       "0     0.0  0.900427       0.0  0.126339\n",
       "1     0.0  0.842105       0.0  0.124950\n",
       "2     0.0  0.860597       0.0  0.206492\n",
       "3     0.0  0.879090       0.0  0.132881\n",
       "4     0.0  0.859175       0.0  0.185397"
      ]
     },
     "execution_count": 20,
     "metadata": {},
     "output_type": "execute_result"
    }
   ],
   "source": [
    "from sklearn import preprocessing\n",
    "\n",
    "columns = df_events.columns\n",
    "x = df_events.values #returns a numpy array\n",
    "#scaler = preprocessing.MinMaxScaler()\n",
    "scaler = preprocessing.MinMaxScaler(feature_range=(0,1))\n",
    "x_scaled = scaler.fit_transform(x)\n",
    "df_events = pd.DataFrame(x_scaled)\n",
    "df_events.columns = columns\n",
    "df_events.head()"
   ]
  },
  {
   "cell_type": "code",
   "execution_count": 21,
   "metadata": {
    "collapsed": false,
    "deletable": true,
    "editable": true
   },
   "outputs": [
    {
     "data": {
      "text/html": [
       "<div>\n",
       "<table border=\"1\" class=\"dataframe\">\n",
       "  <thead>\n",
       "    <tr style=\"text-align: right;\">\n",
       "      <th></th>\n",
       "      <th>LUX_ON</th>\n",
       "      <th>LIGHT</th>\n",
       "      <th>MOVEMENT</th>\n",
       "      <th>SOUND</th>\n",
       "      <th>LUX_ON_1m</th>\n",
       "      <th>LIGHT_1m</th>\n",
       "      <th>MOVEMENT_1m</th>\n",
       "      <th>SOUND_1m</th>\n",
       "    </tr>\n",
       "  </thead>\n",
       "  <tbody>\n",
       "    <tr>\n",
       "      <th>0</th>\n",
       "      <td>0.0</td>\n",
       "      <td>0.900427</td>\n",
       "      <td>0.0</td>\n",
       "      <td>0.126339</td>\n",
       "      <td>NaN</td>\n",
       "      <td>NaN</td>\n",
       "      <td>NaN</td>\n",
       "      <td>NaN</td>\n",
       "    </tr>\n",
       "    <tr>\n",
       "      <th>1</th>\n",
       "      <td>0.0</td>\n",
       "      <td>0.842105</td>\n",
       "      <td>0.0</td>\n",
       "      <td>0.124950</td>\n",
       "      <td>0.0</td>\n",
       "      <td>0.900427</td>\n",
       "      <td>0.0</td>\n",
       "      <td>0.126339</td>\n",
       "    </tr>\n",
       "    <tr>\n",
       "      <th>2</th>\n",
       "      <td>0.0</td>\n",
       "      <td>0.860597</td>\n",
       "      <td>0.0</td>\n",
       "      <td>0.206492</td>\n",
       "      <td>0.0</td>\n",
       "      <td>0.842105</td>\n",
       "      <td>0.0</td>\n",
       "      <td>0.124950</td>\n",
       "    </tr>\n",
       "    <tr>\n",
       "      <th>3</th>\n",
       "      <td>0.0</td>\n",
       "      <td>0.879090</td>\n",
       "      <td>0.0</td>\n",
       "      <td>0.132881</td>\n",
       "      <td>0.0</td>\n",
       "      <td>0.860597</td>\n",
       "      <td>0.0</td>\n",
       "      <td>0.206492</td>\n",
       "    </tr>\n",
       "    <tr>\n",
       "      <th>4</th>\n",
       "      <td>0.0</td>\n",
       "      <td>0.859175</td>\n",
       "      <td>0.0</td>\n",
       "      <td>0.185397</td>\n",
       "      <td>0.0</td>\n",
       "      <td>0.879090</td>\n",
       "      <td>0.0</td>\n",
       "      <td>0.132881</td>\n",
       "    </tr>\n",
       "  </tbody>\n",
       "</table>\n",
       "</div>"
      ],
      "text/plain": [
       "   LUX_ON     LIGHT  MOVEMENT     SOUND  LUX_ON_1m  LIGHT_1m  MOVEMENT_1m  \\\n",
       "0     0.0  0.900427       0.0  0.126339        NaN       NaN          NaN   \n",
       "1     0.0  0.842105       0.0  0.124950        0.0  0.900427          0.0   \n",
       "2     0.0  0.860597       0.0  0.206492        0.0  0.842105          0.0   \n",
       "3     0.0  0.879090       0.0  0.132881        0.0  0.860597          0.0   \n",
       "4     0.0  0.859175       0.0  0.185397        0.0  0.879090          0.0   \n",
       "\n",
       "   SOUND_1m  \n",
       "0       NaN  \n",
       "1  0.126339  \n",
       "2  0.124950  \n",
       "3  0.206492  \n",
       "4  0.132881  "
      ]
     },
     "execution_count": 21,
     "metadata": {},
     "output_type": "execute_result"
    }
   ],
   "source": [
    "df_events['LUX_ON_1m'] = df_events.LUX_ON.shift(1)\n",
    "df_events['LIGHT_1m'] = df_events.LIGHT.shift(1)\n",
    "df_events['MOVEMENT_1m'] = df_events.MOVEMENT.shift(1)\n",
    "df_events['SOUND_1m'] = df_events.SOUND.shift(1)\n",
    "df_events.head()"
   ]
  },
  {
   "cell_type": "code",
   "execution_count": 22,
   "metadata": {
    "collapsed": false,
    "deletable": true,
    "editable": true
   },
   "outputs": [
    {
     "data": {
      "text/plain": [
       "LUX_ON         0.0\n",
       "LIGHT          0.0\n",
       "MOVEMENT       0.0\n",
       "SOUND          0.0\n",
       "LUX_ON_1m      0.0\n",
       "LIGHT_1m       0.0\n",
       "MOVEMENT_1m    0.0\n",
       "SOUND_1m       0.0\n",
       "dtype: float64"
      ]
     },
     "execution_count": 22,
     "metadata": {},
     "output_type": "execute_result"
    }
   ],
   "source": [
    "df_events.min()"
   ]
  },
  {
   "cell_type": "markdown",
   "metadata": {
    "deletable": true,
    "editable": true
   },
   "source": [
    "### Chequeo de valores null"
   ]
  },
  {
   "cell_type": "code",
   "execution_count": 23,
   "metadata": {
    "collapsed": false,
    "deletable": true,
    "editable": true,
    "scrolled": true
   },
   "outputs": [
    {
     "data": {
      "text/plain": [
       "LUX_ON         False\n",
       "LIGHT          False\n",
       "MOVEMENT       False\n",
       "SOUND          False\n",
       "LUX_ON_1m       True\n",
       "LIGHT_1m        True\n",
       "MOVEMENT_1m     True\n",
       "SOUND_1m        True\n",
       "dtype: bool"
      ]
     },
     "execution_count": 23,
     "metadata": {},
     "output_type": "execute_result"
    }
   ],
   "source": [
    "# columnas con null\n",
    "df_events.isnull().any()"
   ]
  },
  {
   "cell_type": "markdown",
   "metadata": {
    "deletable": true,
    "editable": true
   },
   "source": [
    "Algunas filas, incluyendo la primera, tendran valores NaN. Voy a eliminar los registros en donde haya algún NaN."
   ]
  },
  {
   "cell_type": "code",
   "execution_count": 24,
   "metadata": {
    "collapsed": false,
    "deletable": true,
    "editable": true
   },
   "outputs": [
    {
     "data": {
      "text/plain": [
       "(129600, 8)"
      ]
     },
     "execution_count": 24,
     "metadata": {},
     "output_type": "execute_result"
    }
   ],
   "source": [
    "df_events.shape"
   ]
  },
  {
   "cell_type": "code",
   "execution_count": 25,
   "metadata": {
    "collapsed": false,
    "deletable": true,
    "editable": true
   },
   "outputs": [
    {
     "data": {
      "text/plain": [
       "LUX_ON         False\n",
       "LIGHT          False\n",
       "MOVEMENT       False\n",
       "SOUND          False\n",
       "LUX_ON_1m      False\n",
       "LIGHT_1m       False\n",
       "MOVEMENT_1m    False\n",
       "SOUND_1m       False\n",
       "dtype: bool"
      ]
     },
     "execution_count": 25,
     "metadata": {},
     "output_type": "execute_result"
    }
   ],
   "source": [
    "# Se elininan los eventos de estado sin sensado\n",
    "df_events.dropna(inplace=True)\n",
    "df_events.isnull().any()"
   ]
  },
  {
   "cell_type": "code",
   "execution_count": 26,
   "metadata": {
    "collapsed": false,
    "deletable": true,
    "editable": true
   },
   "outputs": [
    {
     "data": {
      "text/plain": [
       "(129599, 8)"
      ]
     },
     "execution_count": 26,
     "metadata": {},
     "output_type": "execute_result"
    }
   ],
   "source": [
    "df_events.shape"
   ]
  },
  {
   "cell_type": "markdown",
   "metadata": {},
   "source": [
    "Verifico la correlación por última vez"
   ]
  },
  {
   "cell_type": "code",
   "execution_count": 27,
   "metadata": {
    "collapsed": false
   },
   "outputs": [
    {
     "data": {
      "text/html": [
       "\n",
       "        <style  type=\"text/css\" >\n",
       "        \n",
       "        \n",
       "            #T_dbb127ba_c7c6_11e7_9ac1_0800271a8003row0_col0 {\n",
       "            \n",
       "                width:  10em;\n",
       "            \n",
       "                 height:  80%;\n",
       "            \n",
       "                background:  linear-gradient(90deg,#d65f5f 100.0%, transparent 0%);\n",
       "            \n",
       "            }\n",
       "        \n",
       "            #T_dbb127ba_c7c6_11e7_9ac1_0800271a8003row1_col0 {\n",
       "            \n",
       "                width:  10em;\n",
       "            \n",
       "                 height:  80%;\n",
       "            \n",
       "                background:  linear-gradient(90deg,#d65f5f 24.358967129740098%, transparent 0%);\n",
       "            \n",
       "            }\n",
       "        \n",
       "            #T_dbb127ba_c7c6_11e7_9ac1_0800271a8003row2_col0 {\n",
       "            \n",
       "                width:  10em;\n",
       "            \n",
       "                 height:  80%;\n",
       "            \n",
       "                background:  linear-gradient(90deg,#d65f5f 52.05098793800918%, transparent 0%);\n",
       "            \n",
       "            }\n",
       "        \n",
       "            #T_dbb127ba_c7c6_11e7_9ac1_0800271a8003row3_col0 {\n",
       "            \n",
       "                width:  10em;\n",
       "            \n",
       "                 height:  80%;\n",
       "            \n",
       "                background:  linear-gradient(90deg,#d65f5f 44.72821788145267%, transparent 0%);\n",
       "            \n",
       "            }\n",
       "        \n",
       "            #T_dbb127ba_c7c6_11e7_9ac1_0800271a8003row4_col0 {\n",
       "            \n",
       "                width:  10em;\n",
       "            \n",
       "                 height:  80%;\n",
       "            \n",
       "                background:  linear-gradient(90deg,#d65f5f 49.12389535438124%, transparent 0%);\n",
       "            \n",
       "            }\n",
       "        \n",
       "            #T_dbb127ba_c7c6_11e7_9ac1_0800271a8003row5_col0 {\n",
       "            \n",
       "                width:  10em;\n",
       "            \n",
       "                 height:  80%;\n",
       "            \n",
       "            }\n",
       "        \n",
       "            #T_dbb127ba_c7c6_11e7_9ac1_0800271a8003row6_col0 {\n",
       "            \n",
       "                width:  10em;\n",
       "            \n",
       "                 height:  80%;\n",
       "            \n",
       "                background:  linear-gradient(90deg,#d65f5f 49.255272990782025%, transparent 0%);\n",
       "            \n",
       "            }\n",
       "        \n",
       "            #T_dbb127ba_c7c6_11e7_9ac1_0800271a8003row7_col0 {\n",
       "            \n",
       "                width:  10em;\n",
       "            \n",
       "                 height:  80%;\n",
       "            \n",
       "                background:  linear-gradient(90deg,#d65f5f 43.40919919661777%, transparent 0%);\n",
       "            \n",
       "            }\n",
       "        \n",
       "        </style>\n",
       "\n",
       "        <table id=\"T_dbb127ba_c7c6_11e7_9ac1_0800271a8003\" None>\n",
       "        \n",
       "\n",
       "        <thead>\n",
       "            \n",
       "            <tr>\n",
       "                \n",
       "                \n",
       "                <th class=\"blank level0\" >\n",
       "                  \n",
       "                \n",
       "                \n",
       "                \n",
       "                <th class=\"col_heading level0 col0\" colspan=1>\n",
       "                  LUX_ON\n",
       "                \n",
       "                \n",
       "                \n",
       "                <th class=\"col_heading level0 col1\" colspan=1>\n",
       "                  LIGHT\n",
       "                \n",
       "                \n",
       "                \n",
       "                <th class=\"col_heading level0 col2\" colspan=1>\n",
       "                  MOVEMENT\n",
       "                \n",
       "                \n",
       "                \n",
       "                <th class=\"col_heading level0 col3\" colspan=1>\n",
       "                  SOUND\n",
       "                \n",
       "                \n",
       "                \n",
       "                <th class=\"col_heading level0 col4\" colspan=1>\n",
       "                  LUX_ON_1m\n",
       "                \n",
       "                \n",
       "                \n",
       "                <th class=\"col_heading level0 col5\" colspan=1>\n",
       "                  LIGHT_1m\n",
       "                \n",
       "                \n",
       "                \n",
       "                <th class=\"col_heading level0 col6\" colspan=1>\n",
       "                  MOVEMENT_1m\n",
       "                \n",
       "                \n",
       "                \n",
       "                <th class=\"col_heading level0 col7\" colspan=1>\n",
       "                  SOUND_1m\n",
       "                \n",
       "                \n",
       "            </tr>\n",
       "            \n",
       "        </thead>\n",
       "        <tbody>\n",
       "            \n",
       "            <tr>\n",
       "                \n",
       "                \n",
       "                <th id=\"T_dbb127ba_c7c6_11e7_9ac1_0800271a8003\"\n",
       "                 class=\"row_heading level0 row0\" rowspan=1>\n",
       "                    LUX_ON\n",
       "                \n",
       "                \n",
       "                \n",
       "                <td id=\"T_dbb127ba_c7c6_11e7_9ac1_0800271a8003row0_col0\"\n",
       "                 class=\"data row0 col0\" >\n",
       "                    1\n",
       "                \n",
       "                \n",
       "                \n",
       "                <td id=\"T_dbb127ba_c7c6_11e7_9ac1_0800271a8003row0_col1\"\n",
       "                 class=\"data row0 col1\" >\n",
       "                    0.186739\n",
       "                \n",
       "                \n",
       "                \n",
       "                <td id=\"T_dbb127ba_c7c6_11e7_9ac1_0800271a8003row0_col2\"\n",
       "                 class=\"data row0 col2\" >\n",
       "                    0.484472\n",
       "                \n",
       "                \n",
       "                \n",
       "                <td id=\"T_dbb127ba_c7c6_11e7_9ac1_0800271a8003row0_col3\"\n",
       "                 class=\"data row0 col3\" >\n",
       "                    0.405741\n",
       "                \n",
       "                \n",
       "                \n",
       "                <td id=\"T_dbb127ba_c7c6_11e7_9ac1_0800271a8003row0_col4\"\n",
       "                 class=\"data row0 col4\" >\n",
       "                    0.453001\n",
       "                \n",
       "                \n",
       "                \n",
       "                <td id=\"T_dbb127ba_c7c6_11e7_9ac1_0800271a8003row0_col5\"\n",
       "                 class=\"data row0 col5\" >\n",
       "                    -0.0751585\n",
       "                \n",
       "                \n",
       "                \n",
       "                <td id=\"T_dbb127ba_c7c6_11e7_9ac1_0800271a8003row0_col6\"\n",
       "                 class=\"data row0 col6\" >\n",
       "                    0.454414\n",
       "                \n",
       "                \n",
       "                \n",
       "                <td id=\"T_dbb127ba_c7c6_11e7_9ac1_0800271a8003row0_col7\"\n",
       "                 class=\"data row0 col7\" >\n",
       "                    0.391559\n",
       "                \n",
       "                \n",
       "            </tr>\n",
       "            \n",
       "            <tr>\n",
       "                \n",
       "                \n",
       "                <th id=\"T_dbb127ba_c7c6_11e7_9ac1_0800271a8003\"\n",
       "                 class=\"row_heading level0 row1\" rowspan=1>\n",
       "                    LIGHT\n",
       "                \n",
       "                \n",
       "                \n",
       "                <td id=\"T_dbb127ba_c7c6_11e7_9ac1_0800271a8003row1_col0\"\n",
       "                 class=\"data row1 col0\" >\n",
       "                    0.186739\n",
       "                \n",
       "                \n",
       "                \n",
       "                <td id=\"T_dbb127ba_c7c6_11e7_9ac1_0800271a8003row1_col1\"\n",
       "                 class=\"data row1 col1\" >\n",
       "                    1\n",
       "                \n",
       "                \n",
       "                \n",
       "                <td id=\"T_dbb127ba_c7c6_11e7_9ac1_0800271a8003row1_col2\"\n",
       "                 class=\"data row1 col2\" >\n",
       "                    0.205937\n",
       "                \n",
       "                \n",
       "                \n",
       "                <td id=\"T_dbb127ba_c7c6_11e7_9ac1_0800271a8003row1_col3\"\n",
       "                 class=\"data row1 col3\" >\n",
       "                    0.17379\n",
       "                \n",
       "                \n",
       "                \n",
       "                <td id=\"T_dbb127ba_c7c6_11e7_9ac1_0800271a8003row1_col4\"\n",
       "                 class=\"data row1 col4\" >\n",
       "                    -0.0769123\n",
       "                \n",
       "                \n",
       "                \n",
       "                <td id=\"T_dbb127ba_c7c6_11e7_9ac1_0800271a8003row1_col5\"\n",
       "                 class=\"data row1 col5\" >\n",
       "                    0.828872\n",
       "                \n",
       "                \n",
       "                \n",
       "                <td id=\"T_dbb127ba_c7c6_11e7_9ac1_0800271a8003row1_col6\"\n",
       "                 class=\"data row1 col6\" >\n",
       "                    0.186842\n",
       "                \n",
       "                \n",
       "                \n",
       "                <td id=\"T_dbb127ba_c7c6_11e7_9ac1_0800271a8003row1_col7\"\n",
       "                 class=\"data row1 col7\" >\n",
       "                    0.163089\n",
       "                \n",
       "                \n",
       "            </tr>\n",
       "            \n",
       "            <tr>\n",
       "                \n",
       "                \n",
       "                <th id=\"T_dbb127ba_c7c6_11e7_9ac1_0800271a8003\"\n",
       "                 class=\"row_heading level0 row2\" rowspan=1>\n",
       "                    MOVEMENT\n",
       "                \n",
       "                \n",
       "                \n",
       "                <td id=\"T_dbb127ba_c7c6_11e7_9ac1_0800271a8003row2_col0\"\n",
       "                 class=\"data row2 col0\" >\n",
       "                    0.484472\n",
       "                \n",
       "                \n",
       "                \n",
       "                <td id=\"T_dbb127ba_c7c6_11e7_9ac1_0800271a8003row2_col1\"\n",
       "                 class=\"data row2 col1\" >\n",
       "                    0.205937\n",
       "                \n",
       "                \n",
       "                \n",
       "                <td id=\"T_dbb127ba_c7c6_11e7_9ac1_0800271a8003row2_col2\"\n",
       "                 class=\"data row2 col2\" >\n",
       "                    1\n",
       "                \n",
       "                \n",
       "                \n",
       "                <td id=\"T_dbb127ba_c7c6_11e7_9ac1_0800271a8003row2_col3\"\n",
       "                 class=\"data row2 col3\" >\n",
       "                    0.84413\n",
       "                \n",
       "                \n",
       "                \n",
       "                <td id=\"T_dbb127ba_c7c6_11e7_9ac1_0800271a8003row2_col4\"\n",
       "                 class=\"data row2 col4\" >\n",
       "                    0.451796\n",
       "                \n",
       "                \n",
       "                \n",
       "                <td id=\"T_dbb127ba_c7c6_11e7_9ac1_0800271a8003row2_col5\"\n",
       "                 class=\"data row2 col5\" >\n",
       "                    0.189913\n",
       "                \n",
       "                \n",
       "                \n",
       "                <td id=\"T_dbb127ba_c7c6_11e7_9ac1_0800271a8003row2_col6\"\n",
       "                 class=\"data row2 col6\" >\n",
       "                    0.934846\n",
       "                \n",
       "                \n",
       "                \n",
       "                <td id=\"T_dbb127ba_c7c6_11e7_9ac1_0800271a8003row2_col7\"\n",
       "                 class=\"data row2 col7\" >\n",
       "                    0.80267\n",
       "                \n",
       "                \n",
       "            </tr>\n",
       "            \n",
       "            <tr>\n",
       "                \n",
       "                \n",
       "                <th id=\"T_dbb127ba_c7c6_11e7_9ac1_0800271a8003\"\n",
       "                 class=\"row_heading level0 row3\" rowspan=1>\n",
       "                    SOUND\n",
       "                \n",
       "                \n",
       "                \n",
       "                <td id=\"T_dbb127ba_c7c6_11e7_9ac1_0800271a8003row3_col0\"\n",
       "                 class=\"data row3 col0\" >\n",
       "                    0.405741\n",
       "                \n",
       "                \n",
       "                \n",
       "                <td id=\"T_dbb127ba_c7c6_11e7_9ac1_0800271a8003row3_col1\"\n",
       "                 class=\"data row3 col1\" >\n",
       "                    0.17379\n",
       "                \n",
       "                \n",
       "                \n",
       "                <td id=\"T_dbb127ba_c7c6_11e7_9ac1_0800271a8003row3_col2\"\n",
       "                 class=\"data row3 col2\" >\n",
       "                    0.84413\n",
       "                \n",
       "                \n",
       "                \n",
       "                <td id=\"T_dbb127ba_c7c6_11e7_9ac1_0800271a8003row3_col3\"\n",
       "                 class=\"data row3 col3\" >\n",
       "                    1\n",
       "                \n",
       "                \n",
       "                \n",
       "                <td id=\"T_dbb127ba_c7c6_11e7_9ac1_0800271a8003row3_col4\"\n",
       "                 class=\"data row3 col4\" >\n",
       "                    0.372189\n",
       "                \n",
       "                \n",
       "                \n",
       "                <td id=\"T_dbb127ba_c7c6_11e7_9ac1_0800271a8003row3_col5\"\n",
       "                 class=\"data row3 col5\" >\n",
       "                    0.157105\n",
       "                \n",
       "                \n",
       "                \n",
       "                <td id=\"T_dbb127ba_c7c6_11e7_9ac1_0800271a8003row3_col6\"\n",
       "                 class=\"data row3 col6\" >\n",
       "                    0.779687\n",
       "                \n",
       "                \n",
       "                \n",
       "                <td id=\"T_dbb127ba_c7c6_11e7_9ac1_0800271a8003row3_col7\"\n",
       "                 class=\"data row3 col7\" >\n",
       "                    0.639943\n",
       "                \n",
       "                \n",
       "            </tr>\n",
       "            \n",
       "            <tr>\n",
       "                \n",
       "                \n",
       "                <th id=\"T_dbb127ba_c7c6_11e7_9ac1_0800271a8003\"\n",
       "                 class=\"row_heading level0 row4\" rowspan=1>\n",
       "                    LUX_ON_1m\n",
       "                \n",
       "                \n",
       "                \n",
       "                <td id=\"T_dbb127ba_c7c6_11e7_9ac1_0800271a8003row4_col0\"\n",
       "                 class=\"data row4 col0\" >\n",
       "                    0.453001\n",
       "                \n",
       "                \n",
       "                \n",
       "                <td id=\"T_dbb127ba_c7c6_11e7_9ac1_0800271a8003row4_col1\"\n",
       "                 class=\"data row4 col1\" >\n",
       "                    -0.0769123\n",
       "                \n",
       "                \n",
       "                \n",
       "                <td id=\"T_dbb127ba_c7c6_11e7_9ac1_0800271a8003row4_col2\"\n",
       "                 class=\"data row4 col2\" >\n",
       "                    0.451796\n",
       "                \n",
       "                \n",
       "                \n",
       "                <td id=\"T_dbb127ba_c7c6_11e7_9ac1_0800271a8003row4_col3\"\n",
       "                 class=\"data row4 col3\" >\n",
       "                    0.372189\n",
       "                \n",
       "                \n",
       "                \n",
       "                <td id=\"T_dbb127ba_c7c6_11e7_9ac1_0800271a8003row4_col4\"\n",
       "                 class=\"data row4 col4\" >\n",
       "                    1\n",
       "                \n",
       "                \n",
       "                \n",
       "                <td id=\"T_dbb127ba_c7c6_11e7_9ac1_0800271a8003row4_col5\"\n",
       "                 class=\"data row4 col5\" >\n",
       "                    0.186739\n",
       "                \n",
       "                \n",
       "                \n",
       "                <td id=\"T_dbb127ba_c7c6_11e7_9ac1_0800271a8003row4_col6\"\n",
       "                 class=\"data row4 col6\" >\n",
       "                    0.484481\n",
       "                \n",
       "                \n",
       "                \n",
       "                <td id=\"T_dbb127ba_c7c6_11e7_9ac1_0800271a8003row4_col7\"\n",
       "                 class=\"data row4 col7\" >\n",
       "                    0.405754\n",
       "                \n",
       "                \n",
       "            </tr>\n",
       "            \n",
       "            <tr>\n",
       "                \n",
       "                \n",
       "                <th id=\"T_dbb127ba_c7c6_11e7_9ac1_0800271a8003\"\n",
       "                 class=\"row_heading level0 row5\" rowspan=1>\n",
       "                    LIGHT_1m\n",
       "                \n",
       "                \n",
       "                \n",
       "                <td id=\"T_dbb127ba_c7c6_11e7_9ac1_0800271a8003row5_col0\"\n",
       "                 class=\"data row5 col0\" >\n",
       "                    -0.0751585\n",
       "                \n",
       "                \n",
       "                \n",
       "                <td id=\"T_dbb127ba_c7c6_11e7_9ac1_0800271a8003row5_col1\"\n",
       "                 class=\"data row5 col1\" >\n",
       "                    0.828872\n",
       "                \n",
       "                \n",
       "                \n",
       "                <td id=\"T_dbb127ba_c7c6_11e7_9ac1_0800271a8003row5_col2\"\n",
       "                 class=\"data row5 col2\" >\n",
       "                    0.189913\n",
       "                \n",
       "                \n",
       "                \n",
       "                <td id=\"T_dbb127ba_c7c6_11e7_9ac1_0800271a8003row5_col3\"\n",
       "                 class=\"data row5 col3\" >\n",
       "                    0.157105\n",
       "                \n",
       "                \n",
       "                \n",
       "                <td id=\"T_dbb127ba_c7c6_11e7_9ac1_0800271a8003row5_col4\"\n",
       "                 class=\"data row5 col4\" >\n",
       "                    0.186739\n",
       "                \n",
       "                \n",
       "                \n",
       "                <td id=\"T_dbb127ba_c7c6_11e7_9ac1_0800271a8003row5_col5\"\n",
       "                 class=\"data row5 col5\" >\n",
       "                    1\n",
       "                \n",
       "                \n",
       "                \n",
       "                <td id=\"T_dbb127ba_c7c6_11e7_9ac1_0800271a8003row5_col6\"\n",
       "                 class=\"data row5 col6\" >\n",
       "                    0.205917\n",
       "                \n",
       "                \n",
       "                \n",
       "                <td id=\"T_dbb127ba_c7c6_11e7_9ac1_0800271a8003row5_col7\"\n",
       "                 class=\"data row5 col7\" >\n",
       "                    0.173766\n",
       "                \n",
       "                \n",
       "            </tr>\n",
       "            \n",
       "            <tr>\n",
       "                \n",
       "                \n",
       "                <th id=\"T_dbb127ba_c7c6_11e7_9ac1_0800271a8003\"\n",
       "                 class=\"row_heading level0 row6\" rowspan=1>\n",
       "                    MOVEMENT_1m\n",
       "                \n",
       "                \n",
       "                \n",
       "                <td id=\"T_dbb127ba_c7c6_11e7_9ac1_0800271a8003row6_col0\"\n",
       "                 class=\"data row6 col0\" >\n",
       "                    0.454414\n",
       "                \n",
       "                \n",
       "                \n",
       "                <td id=\"T_dbb127ba_c7c6_11e7_9ac1_0800271a8003row6_col1\"\n",
       "                 class=\"data row6 col1\" >\n",
       "                    0.186842\n",
       "                \n",
       "                \n",
       "                \n",
       "                <td id=\"T_dbb127ba_c7c6_11e7_9ac1_0800271a8003row6_col2\"\n",
       "                 class=\"data row6 col2\" >\n",
       "                    0.934846\n",
       "                \n",
       "                \n",
       "                \n",
       "                <td id=\"T_dbb127ba_c7c6_11e7_9ac1_0800271a8003row6_col3\"\n",
       "                 class=\"data row6 col3\" >\n",
       "                    0.779687\n",
       "                \n",
       "                \n",
       "                \n",
       "                <td id=\"T_dbb127ba_c7c6_11e7_9ac1_0800271a8003row6_col4\"\n",
       "                 class=\"data row6 col4\" >\n",
       "                    0.484481\n",
       "                \n",
       "                \n",
       "                \n",
       "                <td id=\"T_dbb127ba_c7c6_11e7_9ac1_0800271a8003row6_col5\"\n",
       "                 class=\"data row6 col5\" >\n",
       "                    0.205917\n",
       "                \n",
       "                \n",
       "                \n",
       "                <td id=\"T_dbb127ba_c7c6_11e7_9ac1_0800271a8003row6_col6\"\n",
       "                 class=\"data row6 col6\" >\n",
       "                    1\n",
       "                \n",
       "                \n",
       "                \n",
       "                <td id=\"T_dbb127ba_c7c6_11e7_9ac1_0800271a8003row6_col7\"\n",
       "                 class=\"data row6 col7\" >\n",
       "                    0.844129\n",
       "                \n",
       "                \n",
       "            </tr>\n",
       "            \n",
       "            <tr>\n",
       "                \n",
       "                \n",
       "                <th id=\"T_dbb127ba_c7c6_11e7_9ac1_0800271a8003\"\n",
       "                 class=\"row_heading level0 row7\" rowspan=1>\n",
       "                    SOUND_1m\n",
       "                \n",
       "                \n",
       "                \n",
       "                <td id=\"T_dbb127ba_c7c6_11e7_9ac1_0800271a8003row7_col0\"\n",
       "                 class=\"data row7 col0\" >\n",
       "                    0.391559\n",
       "                \n",
       "                \n",
       "                \n",
       "                <td id=\"T_dbb127ba_c7c6_11e7_9ac1_0800271a8003row7_col1\"\n",
       "                 class=\"data row7 col1\" >\n",
       "                    0.163089\n",
       "                \n",
       "                \n",
       "                \n",
       "                <td id=\"T_dbb127ba_c7c6_11e7_9ac1_0800271a8003row7_col2\"\n",
       "                 class=\"data row7 col2\" >\n",
       "                    0.80267\n",
       "                \n",
       "                \n",
       "                \n",
       "                <td id=\"T_dbb127ba_c7c6_11e7_9ac1_0800271a8003row7_col3\"\n",
       "                 class=\"data row7 col3\" >\n",
       "                    0.639943\n",
       "                \n",
       "                \n",
       "                \n",
       "                <td id=\"T_dbb127ba_c7c6_11e7_9ac1_0800271a8003row7_col4\"\n",
       "                 class=\"data row7 col4\" >\n",
       "                    0.405754\n",
       "                \n",
       "                \n",
       "                \n",
       "                <td id=\"T_dbb127ba_c7c6_11e7_9ac1_0800271a8003row7_col5\"\n",
       "                 class=\"data row7 col5\" >\n",
       "                    0.173766\n",
       "                \n",
       "                \n",
       "                \n",
       "                <td id=\"T_dbb127ba_c7c6_11e7_9ac1_0800271a8003row7_col6\"\n",
       "                 class=\"data row7 col6\" >\n",
       "                    0.844129\n",
       "                \n",
       "                \n",
       "                \n",
       "                <td id=\"T_dbb127ba_c7c6_11e7_9ac1_0800271a8003row7_col7\"\n",
       "                 class=\"data row7 col7\" >\n",
       "                    1\n",
       "                \n",
       "                \n",
       "            </tr>\n",
       "            \n",
       "        </tbody>\n",
       "        </table>\n",
       "        "
      ],
      "text/plain": [
       "<pandas.formats.style.Styler at 0x7f396ff34c18>"
      ]
     },
     "execution_count": 27,
     "metadata": {},
     "output_type": "execute_result"
    }
   ],
   "source": [
    "df_events.corr().style.bar(subset=['LUX_ON'], color='#d65f5f', axis=0)"
   ]
  },
  {
   "cell_type": "markdown",
   "metadata": {
    "deletable": true,
    "editable": true
   },
   "source": [
    "## Entrenamiento y verificación de RNA\n",
    "\n",
    "### Variable objetivo: estado de la lámpara (LUX_ON)\n",
    "La variable a predecir es LUX_ON, la cual está en 1 si la luz está prendida (sea estado override o no del módulo). La distribución del estado en porcentaje es la siguiente:"
   ]
  },
  {
   "cell_type": "code",
   "execution_count": 28,
   "metadata": {
    "collapsed": false,
    "deletable": true,
    "editable": true
   },
   "outputs": [
    {
     "data": {
      "text/plain": [
       "0.0    0.832993\n",
       "1.0    0.167007\n",
       "Name: LUX_ON, dtype: float64"
      ]
     },
     "execution_count": 28,
     "metadata": {},
     "output_type": "execute_result"
    }
   ],
   "source": [
    "df_events.LUX_ON.value_counts(normalize=True)"
   ]
  },
  {
   "cell_type": "markdown",
   "metadata": {
    "collapsed": false,
    "deletable": true,
    "editable": true,
    "scrolled": true
   },
   "source": [
    "#### Separando los datos para training y prueba\n",
    "Para poder hacer etapas de entrenamiento y prueba, voy a separar los datos. 70% para entrenamiento, 30% para prueba. Para esto voy a usar del módulo scikit-learn la función train_test_split.\n"
   ]
  },
  {
   "cell_type": "code",
   "execution_count": 29,
   "metadata": {
    "collapsed": false,
    "deletable": true,
    "editable": true
   },
   "outputs": [
    {
     "data": {
      "text/html": [
       "<div>\n",
       "<table border=\"1\" class=\"dataframe\">\n",
       "  <thead>\n",
       "    <tr style=\"text-align: right;\">\n",
       "      <th></th>\n",
       "      <th>LUX_ON</th>\n",
       "      <th>LIGHT</th>\n",
       "      <th>MOVEMENT</th>\n",
       "      <th>SOUND</th>\n",
       "      <th>LUX_ON_1m</th>\n",
       "      <th>LIGHT_1m</th>\n",
       "      <th>MOVEMENT_1m</th>\n",
       "      <th>SOUND_1m</th>\n",
       "    </tr>\n",
       "  </thead>\n",
       "  <tbody>\n",
       "    <tr>\n",
       "      <th>1</th>\n",
       "      <td>0.0</td>\n",
       "      <td>0.842105</td>\n",
       "      <td>0.0</td>\n",
       "      <td>0.12495</td>\n",
       "      <td>0.0</td>\n",
       "      <td>0.900427</td>\n",
       "      <td>0.0</td>\n",
       "      <td>0.126339</td>\n",
       "    </tr>\n",
       "  </tbody>\n",
       "</table>\n",
       "</div>"
      ],
      "text/plain": [
       "   LUX_ON     LIGHT  MOVEMENT    SOUND  LUX_ON_1m  LIGHT_1m  MOVEMENT_1m  \\\n",
       "1     0.0  0.842105       0.0  0.12495        0.0  0.900427          0.0   \n",
       "\n",
       "   SOUND_1m  \n",
       "1  0.126339  "
      ]
     },
     "execution_count": 29,
     "metadata": {},
     "output_type": "execute_result"
    }
   ],
   "source": [
    "df_events.head(1)"
   ]
  },
  {
   "cell_type": "markdown",
   "metadata": {
    "collapsed": false,
    "deletable": true,
    "editable": true
   },
   "source": [
    "Los conjuntos de datos van a llamarse:\n",
    "* X_train: Datos de entrenamiento. Las 7 columnas con los valores LIGHT, MOVEMENT, SOUND, sus valores en el minuto anterior, y LUX_ON_1m, la variable que quiero predecir, pero en el minuto anterior. Estará compuesto por el 70% de los registros.\n",
    "* y_train: Resultado de entrenamiento. Columna *LUX_ON* para el 70% de los registros\n",
    "* X_test: Datos para hacer la validación. Tienen el mismo formato que X_train, pero corresponden al 30% del conjunto de datos\n",
    "* y_test: Resultados para validar la performance del algoritmo aplicado a X_test"
   ]
  },
  {
   "cell_type": "code",
   "execution_count": 30,
   "metadata": {
    "collapsed": true,
    "deletable": true,
    "editable": true
   },
   "outputs": [],
   "source": [
    "from sklearn.model_selection import train_test_split\n",
    "\n",
    "luxState_feature_names = ['LIGHT', 'SOUND', 'MOVEMENT', 'LIGHT_1m', 'SOUND_1m', 'MOVEMENT_1m', 'LUX_ON_1m']\n",
    "luxState_goal_names = ['LUX_ON']\n",
    "\n",
    "luxState_features = df_events[luxState_feature_names].values     # Columnas del predictor (7 X m)\n",
    "luxState_goal = df_events[luxState_goal_names].values            # Clase predecida (1=verdadero, 0=falso) column (1 X m)\n",
    "split_test_size = 0.30                                           # 0.30 es 30%, el tamaño para pruebas\n",
    "\n",
    "luxState_features_train, luxState_features_test, luxState_goal_train, luxState_goal_test = train_test_split(luxState_features, luxState_goal, test_size=split_test_size)"
   ]
  },
  {
   "cell_type": "markdown",
   "metadata": {
    "collapsed": false,
    "deletable": true,
    "editable": true
   },
   "source": [
    "Verifico que el tamaño relativo de los sets de entrenamiento y prueba sea lo más cercano a 70-30 posible:"
   ]
  },
  {
   "cell_type": "code",
   "execution_count": 31,
   "metadata": {
    "collapsed": false,
    "deletable": true,
    "editable": true
   },
   "outputs": [
    {
     "name": "stdout",
     "output_type": "stream",
     "text": [
      "70.00% en el set de entrenamiento\n",
      "30.00% en el set de prueba\n"
     ]
    }
   ],
   "source": [
    "print(\"{0:.2f}% en el set de entrenamiento\".format( (float(len(luxState_features_train))/len(df_events.index)) * 100 ) )\n",
    "print(\"{0:.2f}% en el set de prueba\".format((float(len(luxState_features_test))/len(df_events.index)) * 100))"
   ]
  },
  {
   "cell_type": "markdown",
   "metadata": {
    "collapsed": false,
    "deletable": true,
    "editable": true
   },
   "source": [
    "Verifico que la proporción de casos verdaderos y falsos se mantenga en los conjuntos de entrenamiento y test:"
   ]
  },
  {
   "cell_type": "code",
   "execution_count": 32,
   "metadata": {
    "collapsed": false,
    "deletable": true,
    "editable": true
   },
   "outputs": [
    {
     "name": "stdout",
     "output_type": "stream",
     "text": [
      "Lux Activo en el total           : 21644 (16.70%)\n",
      "Lux Inactivo en el total         : 107955 (83.30%)\n",
      "\n",
      "Lux Activo en entrenamiento      : 15235 (16.79%)\n",
      "Lux Inctivo en entrenamiento     : 75484 (83.21%)\n",
      "\n",
      "Lux Activo en test               : 6409 (16.48%)\n",
      "Lux Inctivo en test              : 32471 (83.52%)\n"
     ]
    }
   ],
   "source": [
    "print(\"Lux Activo en el total           : {0} ({1:0.2f}%)\".format(len(df_events.loc[df_events['LUX_ON'] == 1]), (len(df_events.loc[df_events['LUX_ON'] == 1])/float(len(df_events.index))) * 100.0))\n",
    "print(\"Lux Inactivo en el total         : {0} ({1:0.2f}%)\".format(len(df_events.loc[df_events['LUX_ON'] == 0]), (len(df_events.loc[df_events['LUX_ON'] == 0])/float(len(df_events.index))) * 100.0))\n",
    "print(\"\")\n",
    "train_state_on = len(luxState_goal_train[ luxState_goal_train == 1])\n",
    "train_state_off = len(luxState_goal_train[ luxState_goal_train == 0])\n",
    "print(\"Lux Activo en entrenamiento      : {0} ({1:0.2f}%)\".format(train_state_on, train_state_on/float(len(luxState_goal_train)) * 100.0))\n",
    "print(\"Lux Inctivo en entrenamiento     : {0} ({1:0.2f}%)\".format(train_state_off, train_state_off/float(len(luxState_goal_train)) * 100.0))\n",
    "print(\"\")\n",
    "test_state_on = len(luxState_goal_test[ luxState_goal_test == 1])\n",
    "test_state_off = len(luxState_goal_test[ luxState_goal_test == 0])\n",
    "print(\"Lux Activo en test               : {0} ({1:0.2f}%)\".format(test_state_on, test_state_on/float(len(luxState_goal_test)) * 100.0))\n",
    "print(\"Lux Inctivo en test              : {0} ({1:0.2f}%)\".format(test_state_off,test_state_off/float(len(luxState_goal_test)) * 100.0))"
   ]
  },
  {
   "cell_type": "code",
   "execution_count": 33,
   "metadata": {
    "collapsed": false,
    "deletable": true,
    "editable": true
   },
   "outputs": [
    {
     "name": "stdout",
     "output_type": "stream",
     "text": [
      "CPU times: user 53.2 s, sys: 530 ms, total: 53.7 s\n",
      "Wall time: 57 s\n"
     ]
    },
    {
     "data": {
      "text/plain": [
       "MLPClassifier(activation='tanh', alpha=0.0001, batch_size='auto', beta_1=0.9,\n",
       "       beta_2=0.999, early_stopping=False, epsilon=1e-08,\n",
       "       hidden_layer_sizes=(100,), learning_rate='constant',\n",
       "       learning_rate_init=0.001, max_iter=200, momentum=0.9,\n",
       "       nesterovs_momentum=True, power_t=0.5, random_state=None,\n",
       "       shuffle=True, solver='adam', tol=0.0001, validation_fraction=0.1,\n",
       "       verbose=False, warm_start=False)"
      ]
     },
     "execution_count": 33,
     "metadata": {},
     "output_type": "execute_result"
    }
   ],
   "source": [
    "from sklearn.neural_network import MLPClassifier\n",
    "clf_model_state = MLPClassifier(activation='tanh')\n",
    "%time clf_model_state.fit(luxState_features_train, luxState_goal_train.ravel())"
   ]
  },
  {
   "cell_type": "markdown",
   "metadata": {
    "collapsed": false,
    "deletable": true,
    "editable": true
   },
   "source": [
    "#### Performance usando los datos de entrenamiento\n",
    "Para esto voy a importar la función metrics."
   ]
  },
  {
   "cell_type": "code",
   "execution_count": 34,
   "metadata": {
    "collapsed": false,
    "deletable": true,
    "editable": true
   },
   "outputs": [
    {
     "name": "stdout",
     "output_type": "stream",
     "text": [
      "Precisión en entrenamiento: 0.9769\n"
     ]
    }
   ],
   "source": [
    "from sklearn import metrics\n",
    "\n",
    "clf_predict_state_train = clf_model_state.predict(luxState_features_train)\n",
    "\n",
    "print(\"Precisión en entrenamiento: {0:.4f}\".format(metrics.accuracy_score(luxState_goal_train, clf_predict_state_train)))"
   ]
  },
  {
   "cell_type": "markdown",
   "metadata": {
    "collapsed": false,
    "deletable": true,
    "editable": true
   },
   "source": [
    "#### Performance usando los datos de prueba"
   ]
  },
  {
   "cell_type": "code",
   "execution_count": 35,
   "metadata": {
    "collapsed": false,
    "deletable": true,
    "editable": true
   },
   "outputs": [
    {
     "name": "stdout",
     "output_type": "stream",
     "text": [
      "Precisión en test: 0.9767\n"
     ]
    }
   ],
   "source": [
    "clf_predict_state_test = clf_model_state.predict(luxState_features_test)\n",
    "\n",
    "print(\"Precisión en test: {0:.4f}\".format(metrics.accuracy_score(luxState_goal_test, clf_predict_state_test)))"
   ]
  },
  {
   "cell_type": "markdown",
   "metadata": {
    "collapsed": false,
    "deletable": true,
    "editable": true
   },
   "source": [
    "#### Métricas\n",
    "Los resultados de las etapas de entrenamiento y prueba son muy buenos. Demasiado buenos. Hay que analizar si no hay algún otro problema que pueda causar que cuando ponga más datos (cuando analice en tiempo real la actividad del usuario), el modelo falle miserablemente.\n",
    "\n",
    "Para este análisis, voy a ver como se comparan los resultados, con el objetivo de entender si el modelo sirve o hay que hacer ajustes. Voy a usar dos herramientas:\n",
    "\n",
    "##### Matriz de confusión\n",
    "https://es.wikipedia.org/wiki/Matriz_de_confusi%C3%B3n\n",
    "\n",
    "Cada columna de la matriz representa el número de predicciones de cada clase, mientras que cada fila representa a las instancias en la clase real. Uno de los beneficios de las matrices de confusión es que facilitan ver si el sistema está confundiendo dos clases. \n",
    "\n",
    "En nuestro caso, la matriz representa lo siguiente:\n",
    "\n",
    "\n",
    "| EV (Predicho Encendido y es verdad ) | EF (Predicho Encendido pero es falso) |\n",
    "|------------------------------------------------|\n",
    "| **AF (Predicho Apagado pero es Falso** | **AV (Predicho Apagado y es verdad)** |\n",
    "\n",
    "Esto quiere decir que queremos los valores más altos posibles en la diagonal, y lo más cerca posible a cero en cualquier otro lado."
   ]
  },
  {
   "cell_type": "code",
   "execution_count": 36,
   "metadata": {
    "collapsed": false,
    "deletable": true,
    "editable": true
   },
   "outputs": [
    {
     "name": "stdout",
     "output_type": "stream",
     "text": [
      "Matriz de confusión:\n",
      "[[ 5678   731]\n",
      " [  173 32298]]\n"
     ]
    }
   ],
   "source": [
    "print(\"Matriz de confusión:\")\n",
    "print(\"{0}\".format(metrics.confusion_matrix(luxState_goal_test, clf_predict_state_test, labels=[1, 0])))"
   ]
  },
  {
   "cell_type": "markdown",
   "metadata": {
    "collapsed": false,
    "deletable": true,
    "editable": true
   },
   "source": [
    "Estos resultados son muy buenos, el porcentaje de acertados es altísimo. El modelo es casi perfecto. Para confirmar, hay que usar la otra herramienta.\n",
    "\n",
    "\n",
    "#### Reporte de clasificación.\n",
    "Lo primero que vamos a verificar es que tan bien se hace una predición acertada cuando se requiere que el dispositivo esté encendido. Este dato, llamado \"recall\" en el reporte, esta dado por:\n",
    "\n",
    "Recall = EV / (EV + AF)\n",
    "\n",
    "Lo segundo que queremos ver es la presición, que está dada por:\n",
    "\n",
    "Precision = EV / (EV + EF)\n"
   ]
  },
  {
   "cell_type": "code",
   "execution_count": 37,
   "metadata": {
    "collapsed": false,
    "deletable": true,
    "editable": true
   },
   "outputs": [
    {
     "name": "stdout",
     "output_type": "stream",
     "text": [
      "Reporte de clasificación:\n",
      "             precision    recall  f1-score   support\n",
      "\n",
      "          1       0.97      0.89      0.93      6409\n",
      "          0       0.98      0.99      0.99     32471\n",
      "\n",
      "avg / total       0.98      0.98      0.98     38880\n",
      "\n"
     ]
    }
   ],
   "source": [
    "print(\"Reporte de clasificación:\")\n",
    "print(metrics.classification_report(luxState_goal_test, clf_predict_state_test, labels=[1,0]))"
   ]
  },
  {
   "cell_type": "markdown",
   "metadata": {
    "collapsed": false,
    "deletable": true,
    "editable": true
   },
   "source": [
    "## Validación del modelo\n",
    "\n",
    "### Predicción de ESTADO (LUX_ON)\n",
    "Features:\n",
    "\n",
    "| LIGHT | MOVEMENT | SOUND | LUX_ON_1m | LIGHT_1m | MOVEMENT_1m | SOUND_1m |\n",
    "|--------------------------------------------------------------------------|\n",
    "| 0-800 | 0/1 | 35-110 | 0/1 | 0-800 | 0/1 | 35-110 |\n",
    "\n",
    "\n",
    "#### Ejemplo 1:\n",
    "Sin detección de sonido ni movimiento, y sin luminosidad (podría ser 04:00am). Luz apagada."
   ]
  },
  {
   "cell_type": "code",
   "execution_count": 44,
   "metadata": {
    "collapsed": false,
    "deletable": true,
    "editable": true
   },
   "outputs": [
    {
     "name": "stdout",
     "output_type": "stream",
     "text": [
      "Resultado:  [ 1.]\n"
     ]
    }
   ],
   "source": [
    "X_new_test = pd.DataFrame([[ 0, 0, 35, 0, 0, 0, 35 ]],columns=luxState_feature_names)\n",
    "clf_predict_new_test = clf_model_state.predict(X_new_test)\n",
    "\n",
    "print (\"Resultado: \", clf_predict_new_test)"
   ]
  },
  {
   "cell_type": "markdown",
   "metadata": {},
   "source": [
    "**Resultado incorrecto, no debería recomendar luz encendida**"
   ]
  },
  {
   "cell_type": "markdown",
   "metadata": {},
   "source": [
    "### Ejemplo 2:\n",
    "Sin detección de sonido ni movimiento, pero con alta luminosidad (podría ser 12:00am cuando no hay nadie en casa) y luz apagada."
   ]
  },
  {
   "cell_type": "code",
   "execution_count": 45,
   "metadata": {
    "collapsed": false,
    "deletable": true,
    "editable": true
   },
   "outputs": [
    {
     "name": "stdout",
     "output_type": "stream",
     "text": [
      "Resultado:  [ 1.]\n"
     ]
    }
   ],
   "source": [
    "X_new_test = pd.DataFrame([[ 500, 0, 40, 0, 400, 0, 39 ]],columns=luxState_feature_names)\n",
    "clf_predict_new_test = clf_model_state.predict(X_new_test)\n",
    "\n",
    "print (\"Resultado: \", clf_predict_new_test)"
   ]
  },
  {
   "cell_type": "markdown",
   "metadata": {},
   "source": [
    "**Resultado incorrecto, no debería recomendar luz encendida**"
   ]
  },
  {
   "cell_type": "markdown",
   "metadata": {
    "deletable": true,
    "editable": true
   },
   "source": [
    "### Ejemplo 3:\n",
    "Detección de sonido y movimiento con alta luminosidad (podría ser 15:00hs) y luz apagada."
   ]
  },
  {
   "cell_type": "code",
   "execution_count": 47,
   "metadata": {
    "collapsed": false,
    "deletable": true,
    "editable": true
   },
   "outputs": [
    {
     "name": "stdout",
     "output_type": "stream",
     "text": [
      "Resultado:  [ 1.]\n"
     ]
    }
   ],
   "source": [
    "X_new_test = pd.DataFrame([[ 450, 1, 60, 0, 448, 1, 59 ]],columns=luxState_feature_names)\n",
    "clf_predict_new_test = clf_model_state.predict(X_new_test)\n",
    "\n",
    "print (\"Resultado: \", clf_predict_new_test)"
   ]
  },
  {
   "cell_type": "markdown",
   "metadata": {
    "deletable": true,
    "editable": true
   },
   "source": [
    "**Resultado incorrecto, no debería recomendar luz encendida**"
   ]
  },
  {
   "cell_type": "markdown",
   "metadata": {
    "deletable": true,
    "editable": true
   },
   "source": [
    "### Ejemplo 4:\n",
    "Detección de sonido y movimiento por la noche, luz en estado encendido (podría ser 21:00hs)"
   ]
  },
  {
   "cell_type": "code",
   "execution_count": 48,
   "metadata": {
    "collapsed": false,
    "deletable": true,
    "editable": true
   },
   "outputs": [
    {
     "name": "stdout",
     "output_type": "stream",
     "text": [
      "Resultado:  [ 1.]\n"
     ]
    }
   ],
   "source": [
    "X_new_test = pd.DataFrame([[ 80, 1, 50, 0, 80, 1, 51 ]],columns=luxState_feature_names)\n",
    "clf_predict_new_test = clf_model_state.predict(X_new_test)\n",
    "\n",
    "print (\"Resultado: \", clf_predict_new_test)"
   ]
  },
  {
   "cell_type": "markdown",
   "metadata": {
    "deletable": true,
    "editable": true
   },
   "source": [
    "**Resultado correcto, la luz debe permanecer encendida**"
   ]
  },
  {
   "cell_type": "code",
   "execution_count": null,
   "metadata": {
    "collapsed": true
   },
   "outputs": [],
   "source": []
  }
 ],
 "metadata": {
  "kernelspec": {
   "display_name": "Python 3",
   "language": "python",
   "name": "python3"
  },
  "language_info": {
   "codemirror_mode": {
    "name": "ipython",
    "version": 3
   },
   "file_extension": ".py",
   "mimetype": "text/x-python",
   "name": "python",
   "nbconvert_exporter": "python",
   "pygments_lexer": "ipython3",
   "version": "3.5.4"
  }
 },
 "nbformat": 4,
 "nbformat_minor": 2
}
