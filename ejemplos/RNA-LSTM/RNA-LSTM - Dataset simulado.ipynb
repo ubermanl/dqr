{
 "cells": [
  {
   "cell_type": "markdown",
   "metadata": {
    "deletable": true,
    "editable": true
   },
   "source": [
    "# Prueba de RNA usando LSTM"
   ]
  },
  {
   "cell_type": "markdown",
   "metadata": {
    "deletable": true,
    "editable": true
   },
   "source": [
    "Fuentes:\n",
    "- https://machinelearningmastery.com/multivariate-time-series-forecasting-lstms-keras/\n",
    "- https://iamtrask.github.io/2015/11/15/anyone-can-code-lstm/\n",
    "\n",
    "Según dicen:\n",
    "\n",
    "_Neural networks like Long Short-Term Memory (LSTM) recurrent neural networks are able to almost seamlessly model problems with multiple input variables._\n",
    "_This is a great benefit in time series forecasting, where classical linear methods can be difficult to adapt to multivariate or multiple input forecasting problems._\n",
    "\n",
    "**IMPORTANTE:** Este ejemplo usa 90 días de datos ficticios sacados de ratio_dwh (dataset simulado)\n",
    "\n",
    "## Carga y preparación del dataset"
   ]
  },
  {
   "cell_type": "code",
   "execution_count": 1,
   "metadata": {
    "collapsed": false,
    "deletable": true,
    "editable": true
   },
   "outputs": [
    {
     "name": "stderr",
     "output_type": "stream",
     "text": [
      "Using TensorFlow backend.\n"
     ]
    }
   ],
   "source": [
    "# En la Rpi se podría achicar importando solo lo comentado.\n",
    "# from pandas import DataFrame, Series, concat, read_csv, detime, \n",
    "import pandas as pd\n",
    "\n",
    "# from sklearn.metrics import mean_squared_error\n",
    "#from sklearn.preprocessing import MinMaxScaler\n",
    "import sklearn\n",
    "\n",
    "# from keras.models import Sequential\n",
    "# from keras.layers import Dense, LSTM\n",
    "import keras\n",
    "\n",
    "from math import sqrt\n",
    "from matplotlib import pyplot as plt\n",
    "\n",
    "import numpy as np\n",
    "\n",
    "# Import mysql to extract dataset directly from db\n",
    "import MySQLdb\n"
   ]
  },
  {
   "cell_type": "code",
   "execution_count": 2,
   "metadata": {
    "collapsed": true,
    "deletable": true,
    "editable": true
   },
   "outputs": [],
   "source": [
    "%matplotlib inline"
   ]
  },
  {
   "cell_type": "markdown",
   "metadata": {
    "deletable": true,
    "editable": true
   },
   "source": [
    "### Conexión al DWH"
   ]
  },
  {
   "cell_type": "code",
   "execution_count": 3,
   "metadata": {
    "collapsed": false,
    "deletable": true,
    "editable": true
   },
   "outputs": [],
   "source": [
    "# Base de datos histórica\n",
    "dbname_hist = \"ratio_dwh\"\n",
    "dbhost_hist = \"localhost\"\n",
    "dbport_hist = 3306\n",
    "dbuser_hist = \"root\"\n",
    "dbpass_hist = \"root\"\n",
    "device_events_tbl = \"device_events\"\n",
    "device_event_sensors_tbl = \"device_event_sensors\"\n",
    "device_modules_tbl = \"device_modules\""
   ]
  },
  {
   "cell_type": "markdown",
   "metadata": {
    "deletable": true,
    "editable": true
   },
   "source": [
    "### Variables de configuración"
   ]
  },
  {
   "cell_type": "code",
   "execution_count": 4,
   "metadata": {
    "collapsed": true,
    "deletable": true,
    "editable": true
   },
   "outputs": [],
   "source": [
    "device_id = 5                   # Device id donde esta el modulo a entrenar\n",
    "lux_module_id = 51              # Modulo a entrenar\n",
    "\n",
    "# Variables de tipos de sensores\n",
    "ACS_SENSOR_TYPE = 1\n",
    "LIGHT_SENSOR_TYPE = 2\n",
    "MOVEMENT_SENSOR_TYPE = 3\n",
    "SOUND_SENSOR_TYPE = 4\n",
    "TEMP_SENSOR_TYPE = 5"
   ]
  },
  {
   "cell_type": "markdown",
   "metadata": {
    "deletable": true,
    "editable": true
   },
   "source": [
    "### Funciones"
   ]
  },
  {
   "cell_type": "code",
   "execution_count": 5,
   "metadata": {
    "collapsed": true,
    "deletable": true,
    "editable": true
   },
   "outputs": [],
   "source": [
    "# Funcion para pasar de sensor_id a nombre\n",
    "def sensorIdToStr(sensor_id):\n",
    "    return {\n",
    "        ACS_SENSOR_TYPE: 'LUX_ACS',\n",
    "        LIGHT_SENSOR_TYPE: 'LIGHT',\n",
    "        MOVEMENT_SENSOR_TYPE: 'MOVEMENT',\n",
    "        SOUND_SENSOR_TYPE: 'SOUND',\n",
    "        TEMP_SENSOR_TYPE: 'TEMPERATURE'\n",
    "    }.get(sensor_id, sensor_id)"
   ]
  },
  {
   "cell_type": "markdown",
   "metadata": {
    "deletable": true,
    "editable": true
   },
   "source": [
    "## Extracción de datos del dwh:"
   ]
  },
  {
   "cell_type": "code",
   "execution_count": 6,
   "metadata": {
    "collapsed": false,
    "deletable": true,
    "editable": true
   },
   "outputs": [
    {
     "name": "stdout",
     "output_type": "stream",
     "text": [
      "CPU times: user 4.51 s, sys: 191 ms, total: 4.7 s\n",
      "Wall time: 16.1 s\n"
     ]
    }
   ],
   "source": [
    "# Estrayendo valores de la tabla de eventos\n",
    "conn = MySQLdb.connect(host=dbhost_hist, port=dbport_hist, user=dbuser_hist, passwd=dbpass_hist, db=dbname_hist)\n",
    "from_stm = 'FROM ' + device_events_tbl + ' de LEFT JOIN ' + device_event_sensors_tbl + ' des ON de.id=des.device_event_id '\n",
    "where_stm = 'WHERE device_id = ' + str(device_id) + ' AND module_id = ' + str(lux_module_id) + ' AND ts BETWEEN DATE_SUB(NOW(), INTERVAL 90 DAY) AND NOW()'\n",
    "%time df_events_qry = pd.read_sql('select ts, state, sensor_type_id, value ' + from_stm + where_stm, con=conn)\n",
    "conn.close()"
   ]
  },
  {
   "cell_type": "code",
   "execution_count": 7,
   "metadata": {
    "collapsed": false,
    "deletable": true,
    "editable": true
   },
   "outputs": [
    {
     "data": {
      "text/html": [
       "<div>\n",
       "<table border=\"1\" class=\"dataframe\">\n",
       "  <thead>\n",
       "    <tr style=\"text-align: right;\">\n",
       "      <th></th>\n",
       "      <th>ts</th>\n",
       "      <th>state</th>\n",
       "      <th>sensor_type_id</th>\n",
       "      <th>value</th>\n",
       "    </tr>\n",
       "  </thead>\n",
       "  <tbody>\n",
       "    <tr>\n",
       "      <th>0</th>\n",
       "      <td>2017-08-18 14:32:00</td>\n",
       "      <td>0</td>\n",
       "      <td>2</td>\n",
       "      <td>611.000000</td>\n",
       "    </tr>\n",
       "    <tr>\n",
       "      <th>1</th>\n",
       "      <td>2017-08-18 14:32:00</td>\n",
       "      <td>0</td>\n",
       "      <td>4</td>\n",
       "      <td>31.042223</td>\n",
       "    </tr>\n",
       "    <tr>\n",
       "      <th>2</th>\n",
       "      <td>2017-08-18 14:32:00</td>\n",
       "      <td>0</td>\n",
       "      <td>3</td>\n",
       "      <td>0.000000</td>\n",
       "    </tr>\n",
       "    <tr>\n",
       "      <th>3</th>\n",
       "      <td>2017-08-18 14:32:00</td>\n",
       "      <td>0</td>\n",
       "      <td>1</td>\n",
       "      <td>0.002365</td>\n",
       "    </tr>\n",
       "    <tr>\n",
       "      <th>4</th>\n",
       "      <td>2017-08-18 14:33:00</td>\n",
       "      <td>0</td>\n",
       "      <td>2</td>\n",
       "      <td>599.000000</td>\n",
       "    </tr>\n",
       "  </tbody>\n",
       "</table>\n",
       "</div>"
      ],
      "text/plain": [
       "                   ts  state  sensor_type_id       value\n",
       "0 2017-08-18 14:32:00      0               2  611.000000\n",
       "1 2017-08-18 14:32:00      0               4   31.042223\n",
       "2 2017-08-18 14:32:00      0               3    0.000000\n",
       "3 2017-08-18 14:32:00      0               1    0.002365\n",
       "4 2017-08-18 14:33:00      0               2  599.000000"
      ]
     },
     "execution_count": 7,
     "metadata": {},
     "output_type": "execute_result"
    }
   ],
   "source": [
    "df_events_qry.head(5)"
   ]
  },
  {
   "cell_type": "markdown",
   "metadata": {
    "deletable": true,
    "editable": true
   },
   "source": [
    "### Generación de dataset para entrenamiento"
   ]
  },
  {
   "cell_type": "code",
   "execution_count": 8,
   "metadata": {
    "collapsed": true,
    "deletable": true,
    "editable": true
   },
   "outputs": [],
   "source": [
    "# Se elininan los eventos de estado sin sensado\n",
    "df_events_qry.dropna(inplace=True)"
   ]
  },
  {
   "cell_type": "code",
   "execution_count": 9,
   "metadata": {
    "collapsed": true,
    "deletable": true,
    "editable": true
   },
   "outputs": [],
   "source": [
    "# Se \"aplanan\" los eventos con una tabla pivot sobre la columna sensor_type_id\n",
    "df_events = df_events_qry.pivot_table(index=['ts','state'], columns='sensor_type_id', values='value', aggfunc=np.mean)\n",
    "# Se elimina el multiindex de columnas generado por pivot_table\n",
    "df_events = df_events.reset_index().rename_axis(None, axis=1)\n",
    "# Se renombran las columnas\n",
    "df_events.rename(columns={'ts': 'TIMESTAMP', 'state': 'LUX_ON'},inplace=True)\n",
    "df_events.columns = [ sensorIdToStr(colname) for colname in df_events.columns ]"
   ]
  },
  {
   "cell_type": "code",
   "execution_count": 10,
   "metadata": {
    "collapsed": false,
    "deletable": true,
    "editable": true
   },
   "outputs": [
    {
     "data": {
      "text/html": [
       "<div>\n",
       "<table border=\"1\" class=\"dataframe\">\n",
       "  <thead>\n",
       "    <tr style=\"text-align: right;\">\n",
       "      <th></th>\n",
       "      <th>TIMESTAMP</th>\n",
       "      <th>LUX_ON</th>\n",
       "      <th>LUX_ACS</th>\n",
       "      <th>LIGHT</th>\n",
       "      <th>MOVEMENT</th>\n",
       "      <th>SOUND</th>\n",
       "    </tr>\n",
       "  </thead>\n",
       "  <tbody>\n",
       "    <tr>\n",
       "      <th>0</th>\n",
       "      <td>2017-08-18 14:32:00</td>\n",
       "      <td>0</td>\n",
       "      <td>0.002365</td>\n",
       "      <td>611.0</td>\n",
       "      <td>0.0</td>\n",
       "      <td>31.042223</td>\n",
       "    </tr>\n",
       "    <tr>\n",
       "      <th>1</th>\n",
       "      <td>2017-08-18 14:33:00</td>\n",
       "      <td>0</td>\n",
       "      <td>0.009989</td>\n",
       "      <td>599.0</td>\n",
       "      <td>0.0</td>\n",
       "      <td>35.124836</td>\n",
       "    </tr>\n",
       "    <tr>\n",
       "      <th>2</th>\n",
       "      <td>2017-08-18 14:34:00</td>\n",
       "      <td>0</td>\n",
       "      <td>0.002221</td>\n",
       "      <td>606.0</td>\n",
       "      <td>0.0</td>\n",
       "      <td>35.754298</td>\n",
       "    </tr>\n",
       "    <tr>\n",
       "      <th>3</th>\n",
       "      <td>2017-08-18 14:35:00</td>\n",
       "      <td>0</td>\n",
       "      <td>0.008783</td>\n",
       "      <td>588.0</td>\n",
       "      <td>0.0</td>\n",
       "      <td>36.681629</td>\n",
       "    </tr>\n",
       "    <tr>\n",
       "      <th>4</th>\n",
       "      <td>2017-08-18 14:36:00</td>\n",
       "      <td>0</td>\n",
       "      <td>0.004167</td>\n",
       "      <td>614.0</td>\n",
       "      <td>0.0</td>\n",
       "      <td>32.231774</td>\n",
       "    </tr>\n",
       "  </tbody>\n",
       "</table>\n",
       "</div>"
      ],
      "text/plain": [
       "            TIMESTAMP  LUX_ON   LUX_ACS  LIGHT  MOVEMENT      SOUND\n",
       "0 2017-08-18 14:32:00       0  0.002365  611.0       0.0  31.042223\n",
       "1 2017-08-18 14:33:00       0  0.009989  599.0       0.0  35.124836\n",
       "2 2017-08-18 14:34:00       0  0.002221  606.0       0.0  35.754298\n",
       "3 2017-08-18 14:35:00       0  0.008783  588.0       0.0  36.681629\n",
       "4 2017-08-18 14:36:00       0  0.004167  614.0       0.0  32.231774"
      ]
     },
     "execution_count": 10,
     "metadata": {},
     "output_type": "execute_result"
    }
   ],
   "source": [
    "df_events.head(5)"
   ]
  },
  {
   "cell_type": "code",
   "execution_count": 11,
   "metadata": {
    "collapsed": false,
    "deletable": true,
    "editable": true
   },
   "outputs": [
    {
     "data": {
      "text/plain": [
       "(129600, 6)"
      ]
     },
     "execution_count": 11,
     "metadata": {},
     "output_type": "execute_result"
    }
   ],
   "source": [
    "df_events.shape"
   ]
  },
  {
   "cell_type": "markdown",
   "metadata": {
    "deletable": true,
    "editable": true
   },
   "source": [
    "## Limpieza del dataset\n",
    "Debido a que no se necesitan todas las columnas para realizar el entrenamiento de la RNA, se eliminan las que no representen relación con lo que se busca predecir.\n",
    "\n",
    "- Las medicion LUX_ACS puede ignorarse para este tipo de entrenamiento, ya que es practicamente lineal con LUX_ON.\n",
    "- Timestamp puede eliminarse, ya que en LSTM se utilizan los valores de registros anteriores para determinar el actual\n"
   ]
  },
  {
   "cell_type": "code",
   "execution_count": 12,
   "metadata": {
    "collapsed": false,
    "deletable": true,
    "editable": true
   },
   "outputs": [],
   "source": [
    "del df_events['LUX_ACS']\n",
    "del df_events['TIMESTAMP']"
   ]
  },
  {
   "cell_type": "markdown",
   "metadata": {
    "deletable": true,
    "editable": true
   },
   "source": [
    "Algunos valores fueron cargados con error, ya sea porque se estaban haciendo pruebas o por falla del hardware. Elimino esas filas."
   ]
  },
  {
   "cell_type": "code",
   "execution_count": 13,
   "metadata": {
    "collapsed": false,
    "deletable": true,
    "editable": true
   },
   "outputs": [
    {
     "data": {
      "text/plain": [
       "LUX_ON        1.000000\n",
       "LIGHT       703.000000\n",
       "MOVEMENT      1.000000\n",
       "SOUND        85.699225\n",
       "dtype: float64"
      ]
     },
     "execution_count": 13,
     "metadata": {},
     "output_type": "execute_result"
    }
   ],
   "source": [
    "df_events = df_events[df_events.LIGHT < 1500 ]\n",
    "df_events = df_events[df_events.SOUND < 120 ]\n",
    "df_events.max()"
   ]
  },
  {
   "cell_type": "markdown",
   "metadata": {
    "deletable": true,
    "editable": true
   },
   "source": [
    "### Ajuste y transformación de variables\n",
    "Se aplican ajustes y correcciones a las variables del dataset"
   ]
  },
  {
   "cell_type": "code",
   "execution_count": 14,
   "metadata": {
    "collapsed": false,
    "deletable": true,
    "editable": true
   },
   "outputs": [],
   "source": [
    "df_events['MOVEMENT'] = df_events.MOVEMENT.astype(int)"
   ]
  },
  {
   "cell_type": "markdown",
   "metadata": {
    "collapsed": true,
    "deletable": true,
    "editable": true
   },
   "source": [
    "Cuando se utilizan datos verdaderos (no del dataset simulado), el estado de lux puede ser 0, 1, 2 o 3. Los que tienen estado dos, a los efectos de este análisis, cuentan como 0. Los que tienen valor 3, cuentan como 1. Tengo que corregir esto a mano."
   ]
  },
  {
   "cell_type": "code",
   "execution_count": 15,
   "metadata": {
    "collapsed": false,
    "deletable": true,
    "editable": true
   },
   "outputs": [],
   "source": [
    "df_events['LUX_ON'] = df_events['LUX_ON'].replace(2, 0)\n",
    "df_events['LUX_ON'] = df_events['LUX_ON'].replace(3, 1)"
   ]
  },
  {
   "cell_type": "markdown",
   "metadata": {
    "collapsed": false,
    "deletable": true,
    "editable": true
   },
   "source": [
    "### Normalización de los datos\n",
    "Para normalizar, voy a definir mi propia función, ya que necesito repetir el proceso cuando haga pruebas al final de este ejercicio (lo que sería equivalente a recibir una consulta en el sistema en tiempo real).\n",
    "\n",
    "La normalización se realiza extrayendo los máximos y mínimos del dataset."
   ]
  },
  {
   "cell_type": "code",
   "execution_count": 16,
   "metadata": {
    "collapsed": false,
    "deletable": true,
    "editable": true
   },
   "outputs": [
    {
     "data": {
      "text/plain": [
       "LUX_ON        1.000000\n",
       "LIGHT       703.000000\n",
       "MOVEMENT      1.000000\n",
       "SOUND        85.699225\n",
       "dtype: float64"
      ]
     },
     "execution_count": 16,
     "metadata": {},
     "output_type": "execute_result"
    }
   ],
   "source": [
    "df_events.max()"
   ]
  },
  {
   "cell_type": "code",
   "execution_count": 17,
   "metadata": {
    "collapsed": false,
    "deletable": true,
    "editable": true
   },
   "outputs": [],
   "source": [
    "minMax = { 'light': [df_events.min()[1], df_events.max()[1]], \n",
    "           'sound': [df_events.min()[3], df_events.max()[3]]\n",
    "         }"
   ]
  },
  {
   "cell_type": "markdown",
   "metadata": {
    "deletable": true,
    "editable": true
   },
   "source": [
    "Luego defino funciones para normalizar y desnormalizar, que utilizan los mínimos y máximos guardados anteriormente.\n",
    "\n",
    "**IMPORTANTE**: Esta función normaliza valores al rango [-1, -1]. Es necesario este rango (en vez del default [0, 1]) porque más adelante se agregan variables de cambio de movimiento que pueden tener como valor -1, 0 o 1, entonces ya no hace falta normalizarlas. Por otro lado, tampoco va a hacer falta \"desnormalizar\" el resultado."
   ]
  },
  {
   "cell_type": "code",
   "execution_count": 18,
   "metadata": {
    "collapsed": true,
    "deletable": true,
    "editable": true
   },
   "outputs": [],
   "source": [
    "def normalizar(min, max, value):\n",
    "    return 2*(value - min)/(max - min) - 1\n",
    "\n",
    "def desnormalizar(min, max, value):\n",
    "    return (value+1)*(max - min)/2 + min\n",
    "    "
   ]
  },
  {
   "cell_type": "markdown",
   "metadata": {
    "deletable": true,
    "editable": true
   },
   "source": [
    "Normalizo todos los datos que no están todavía entre 0 y 1"
   ]
  },
  {
   "cell_type": "code",
   "execution_count": 19,
   "metadata": {
    "collapsed": false,
    "deletable": true,
    "editable": true
   },
   "outputs": [],
   "source": [
    "df_events['LIGHT'] = normalizar(minMax['light'][0], minMax['light'][1], df_events['LIGHT'])\n",
    "df_events['SOUND'] = normalizar(minMax['sound'][0], minMax['sound'][1], df_events['SOUND'])"
   ]
  },
  {
   "cell_type": "code",
   "execution_count": 20,
   "metadata": {
    "collapsed": false,
    "deletable": true,
    "editable": true
   },
   "outputs": [
    {
     "data": {
      "text/plain": [
       "LUX_ON      1.0\n",
       "LIGHT       1.0\n",
       "MOVEMENT    1.0\n",
       "SOUND       1.0\n",
       "dtype: float64"
      ]
     },
     "execution_count": 20,
     "metadata": {},
     "output_type": "execute_result"
    }
   ],
   "source": [
    "df_events.max()"
   ]
  },
  {
   "cell_type": "markdown",
   "metadata": {
    "deletable": true,
    "editable": true
   },
   "source": [
    "Si desnormalizo esos valores, veo que coinciden con los valores originales:"
   ]
  },
  {
   "cell_type": "code",
   "execution_count": 21,
   "metadata": {
    "collapsed": false,
    "deletable": true,
    "editable": true
   },
   "outputs": [
    {
     "name": "stdout",
     "output_type": "stream",
     "text": [
      "Valores de la primera fila:\n",
      "LIGHT: 611.0\n",
      "Sonido: 31.0422227031\n"
     ]
    }
   ],
   "source": [
    "print(\"Valores de la primera fila:\")\n",
    "print(\"LIGHT:\", desnormalizar(minMax['light'][0], minMax['light'][1], df_events.iloc[0][1]))\n",
    "print(\"Sonido:\", desnormalizar(minMax['sound'][0], minMax['sound'][1], df_events.iloc[0][3]))"
   ]
  },
  {
   "cell_type": "markdown",
   "metadata": {
    "deletable": true,
    "editable": true
   },
   "source": [
    "## Análisis Exploratorio inicial\n"
   ]
  },
  {
   "cell_type": "markdown",
   "metadata": {
    "deletable": true,
    "editable": true
   },
   "source": [
    "Para tener una idea si el sonido acompaña al movimiento, voy a hacer un gráfico que solape ambas variables."
   ]
  },
  {
   "cell_type": "code",
   "execution_count": 22,
   "metadata": {
    "collapsed": false,
    "deletable": true,
    "editable": true
   },
   "outputs": [
    {
     "data": {
      "image/png": "[encoded data removed]",
      "text/plain": [
       "<matplotlib.figure.Figure at 0x7f799fdc8cf8>"
      ]
     },
     "metadata": {},
     "output_type": "display_data"
    }
   ],
   "source": [
    "days = 3\n",
    "\n",
    "plt.figure(num=None, figsize=(16, 6), facecolor='w', edgecolor='k')\n",
    "#plt.plot(df_events['LIGHT'].tail(days*1440))\n",
    "plt.plot(df_events['SOUND'].tail(days*1440))\n",
    "plt.plot(df_events['MOVEMENT'].tail(days*1440))\n",
    "plt.show()"
   ]
  },
  {
   "cell_type": "markdown",
   "metadata": {
    "deletable": true,
    "editable": true
   },
   "source": [
    "Se detecta cierta correlación a simple vista, pero no es significativa."
   ]
  },
  {
   "cell_type": "markdown",
   "metadata": {
    "deletable": true,
    "editable": true
   },
   "source": [
    "### Función de correlación\n",
    "Esta función tiene dos entradas:\n",
    "1. El dataframe panda a analizar\n",
    "2. El tamáño de gráfico que se quiere imprimir"
   ]
  },
  {
   "cell_type": "code",
   "execution_count": 23,
   "metadata": {
    "collapsed": false,
    "deletable": true,
    "editable": true
   },
   "outputs": [],
   "source": [
    "def plot_corr(df, size=6):\n",
    "    corr = df.corr()    # data frame correlation function\n",
    "    fig, ax = plt.subplots(figsize=(size, size))\n",
    "    ax.matshow(corr)   # color code the rectangles by correlation value\n",
    "    plt.xticks(range(len(corr.columns)), corr.columns)  # draw x tick marks\n",
    "    plt.yticks(range(len(corr.columns)), corr.columns)  # draw y tick marks"
   ]
  },
  {
   "cell_type": "code",
   "execution_count": 24,
   "metadata": {
    "collapsed": false,
    "deletable": true,
    "editable": true
   },
   "outputs": [
    {
     "data": {
      "image/png": "[encoded data removed]",
      "text/plain": [
       "<matplotlib.figure.Figure at 0x7f799fdf5b00>"
      ]
     },
     "metadata": {},
     "output_type": "display_data"
    }
   ],
   "source": [
    "plot_corr(df_events)"
   ]
  },
  {
   "cell_type": "code",
   "execution_count": 25,
   "metadata": {
    "collapsed": false,
    "deletable": true,
    "editable": true
   },
   "outputs": [
    {
     "data": {
      "text/html": [
       "\n",
       "        <style  type=\"text/css\" >\n",
       "        \n",
       "        \n",
       "            #T_1007de3e_caf4_11e7_9bd8_0800271a8003row0_col0 {\n",
       "            \n",
       "                width:  10em;\n",
       "            \n",
       "                 height:  80%;\n",
       "            \n",
       "                background:  linear-gradient(90deg,#d65f5f 100.0%, transparent 0%);\n",
       "            \n",
       "            }\n",
       "        \n",
       "            #T_1007de3e_caf4_11e7_9bd8_0800271a8003row1_col0 {\n",
       "            \n",
       "                width:  10em;\n",
       "            \n",
       "                 height:  80%;\n",
       "            \n",
       "            }\n",
       "        \n",
       "            #T_1007de3e_caf4_11e7_9bd8_0800271a8003row2_col0 {\n",
       "            \n",
       "                width:  10em;\n",
       "            \n",
       "                 height:  80%;\n",
       "            \n",
       "                background:  linear-gradient(90deg,#d65f5f 36.20249088012958%, transparent 0%);\n",
       "            \n",
       "            }\n",
       "        \n",
       "            #T_1007de3e_caf4_11e7_9bd8_0800271a8003row3_col0 {\n",
       "            \n",
       "                width:  10em;\n",
       "            \n",
       "                 height:  80%;\n",
       "            \n",
       "                background:  linear-gradient(90deg,#d65f5f 26.650604383869382%, transparent 0%);\n",
       "            \n",
       "            }\n",
       "        \n",
       "        </style>\n",
       "\n",
       "        <table id=\"T_1007de3e_caf4_11e7_9bd8_0800271a8003\" None>\n",
       "        \n",
       "\n",
       "        <thead>\n",
       "            \n",
       "            <tr>\n",
       "                \n",
       "                \n",
       "                <th class=\"blank level0\" >\n",
       "                  \n",
       "                \n",
       "                \n",
       "                \n",
       "                <th class=\"col_heading level0 col0\" colspan=1>\n",
       "                  LUX_ON\n",
       "                \n",
       "                \n",
       "                \n",
       "                <th class=\"col_heading level0 col1\" colspan=1>\n",
       "                  LIGHT\n",
       "                \n",
       "                \n",
       "                \n",
       "                <th class=\"col_heading level0 col2\" colspan=1>\n",
       "                  MOVEMENT\n",
       "                \n",
       "                \n",
       "                \n",
       "                <th class=\"col_heading level0 col3\" colspan=1>\n",
       "                  SOUND\n",
       "                \n",
       "                \n",
       "            </tr>\n",
       "            \n",
       "        </thead>\n",
       "        <tbody>\n",
       "            \n",
       "            <tr>\n",
       "                \n",
       "                \n",
       "                <th id=\"T_1007de3e_caf4_11e7_9bd8_0800271a8003\"\n",
       "                 class=\"row_heading level0 row0\" rowspan=1>\n",
       "                    LUX_ON\n",
       "                \n",
       "                \n",
       "                \n",
       "                <td id=\"T_1007de3e_caf4_11e7_9bd8_0800271a8003row0_col0\"\n",
       "                 class=\"data row0 col0\" >\n",
       "                    1\n",
       "                \n",
       "                \n",
       "                \n",
       "                <td id=\"T_1007de3e_caf4_11e7_9bd8_0800271a8003row0_col1\"\n",
       "                 class=\"data row0 col1\" >\n",
       "                    0.18375\n",
       "                \n",
       "                \n",
       "                \n",
       "                <td id=\"T_1007de3e_caf4_11e7_9bd8_0800271a8003row0_col2\"\n",
       "                 class=\"data row0 col2\" >\n",
       "                    0.479253\n",
       "                \n",
       "                \n",
       "                \n",
       "                <td id=\"T_1007de3e_caf4_11e7_9bd8_0800271a8003row0_col3\"\n",
       "                 class=\"data row0 col3\" >\n",
       "                    0.401285\n",
       "                \n",
       "                \n",
       "            </tr>\n",
       "            \n",
       "            <tr>\n",
       "                \n",
       "                \n",
       "                <th id=\"T_1007de3e_caf4_11e7_9bd8_0800271a8003\"\n",
       "                 class=\"row_heading level0 row1\" rowspan=1>\n",
       "                    LIGHT\n",
       "                \n",
       "                \n",
       "                \n",
       "                <td id=\"T_1007de3e_caf4_11e7_9bd8_0800271a8003row1_col0\"\n",
       "                 class=\"data row1 col0\" >\n",
       "                    0.18375\n",
       "                \n",
       "                \n",
       "                \n",
       "                <td id=\"T_1007de3e_caf4_11e7_9bd8_0800271a8003row1_col1\"\n",
       "                 class=\"data row1 col1\" >\n",
       "                    1\n",
       "                \n",
       "                \n",
       "                \n",
       "                <td id=\"T_1007de3e_caf4_11e7_9bd8_0800271a8003row1_col2\"\n",
       "                 class=\"data row1 col2\" >\n",
       "                    0.209885\n",
       "                \n",
       "                \n",
       "                \n",
       "                <td id=\"T_1007de3e_caf4_11e7_9bd8_0800271a8003row1_col3\"\n",
       "                 class=\"data row1 col3\" >\n",
       "                    0.176976\n",
       "                \n",
       "                \n",
       "            </tr>\n",
       "            \n",
       "            <tr>\n",
       "                \n",
       "                \n",
       "                <th id=\"T_1007de3e_caf4_11e7_9bd8_0800271a8003\"\n",
       "                 class=\"row_heading level0 row2\" rowspan=1>\n",
       "                    MOVEMENT\n",
       "                \n",
       "                \n",
       "                \n",
       "                <td id=\"T_1007de3e_caf4_11e7_9bd8_0800271a8003row2_col0\"\n",
       "                 class=\"data row2 col0\" >\n",
       "                    0.479253\n",
       "                \n",
       "                \n",
       "                \n",
       "                <td id=\"T_1007de3e_caf4_11e7_9bd8_0800271a8003row2_col1\"\n",
       "                 class=\"data row2 col1\" >\n",
       "                    0.209885\n",
       "                \n",
       "                \n",
       "                \n",
       "                <td id=\"T_1007de3e_caf4_11e7_9bd8_0800271a8003row2_col2\"\n",
       "                 class=\"data row2 col2\" >\n",
       "                    1\n",
       "                \n",
       "                \n",
       "                \n",
       "                <td id=\"T_1007de3e_caf4_11e7_9bd8_0800271a8003row2_col3\"\n",
       "                 class=\"data row2 col3\" >\n",
       "                    0.843711\n",
       "                \n",
       "                \n",
       "            </tr>\n",
       "            \n",
       "            <tr>\n",
       "                \n",
       "                \n",
       "                <th id=\"T_1007de3e_caf4_11e7_9bd8_0800271a8003\"\n",
       "                 class=\"row_heading level0 row3\" rowspan=1>\n",
       "                    SOUND\n",
       "                \n",
       "                \n",
       "                \n",
       "                <td id=\"T_1007de3e_caf4_11e7_9bd8_0800271a8003row3_col0\"\n",
       "                 class=\"data row3 col0\" >\n",
       "                    0.401285\n",
       "                \n",
       "                \n",
       "                \n",
       "                <td id=\"T_1007de3e_caf4_11e7_9bd8_0800271a8003row3_col1\"\n",
       "                 class=\"data row3 col1\" >\n",
       "                    0.176976\n",
       "                \n",
       "                \n",
       "                \n",
       "                <td id=\"T_1007de3e_caf4_11e7_9bd8_0800271a8003row3_col2\"\n",
       "                 class=\"data row3 col2\" >\n",
       "                    0.843711\n",
       "                \n",
       "                \n",
       "                \n",
       "                <td id=\"T_1007de3e_caf4_11e7_9bd8_0800271a8003row3_col3\"\n",
       "                 class=\"data row3 col3\" >\n",
       "                    1\n",
       "                \n",
       "                \n",
       "            </tr>\n",
       "            \n",
       "        </tbody>\n",
       "        </table>\n",
       "        "
      ],
      "text/plain": [
       "<pandas.formats.style.Styler at 0x7f79a49ca518>"
      ]
     },
     "execution_count": 25,
     "metadata": {},
     "output_type": "execute_result"
    }
   ],
   "source": [
    "df_events.corr().style.bar(subset=['LUX_ON'], color='#d65f5f', axis=0)"
   ]
  },
  {
   "cell_type": "markdown",
   "metadata": {
    "deletable": true,
    "editable": true
   },
   "source": [
    "## Conversión de serie a aprendizaje supervisado\n",
    "\n",
    "Convierto los datos de un formato secuencial a uno de aprendizaje supervisado. Para eso tengo que hacer dos cosas:\n",
    "- Normalizar los valores de las variables al rango de activación de la función tanh() (-1 a 1) (ya está hecho)\n",
    "- Crear en base a las existentes, que representen los estados previos\n",
    "\n",
    "### Generación de nuevas variables\n",
    "Se analizará la relación del estado de la luz (LUX_ON) con variables dependientes del dataset generado. El objetivo es intentar representar relaciones más adecuadas con el entorno tanto a nivel espacial como temporal.\n",
    "Las mediciones (facts) a construir son:\n",
    "- LIGHT_1m    medición de luz en el último minuto (sin contar la medición actual)\n",
    "- MOVEMENT_1m     proporción del sensor PIR activado en el último minuto\n",
    "- MOVEMENT_5m     proporción del sensor PIR activado en los últimos 5 minutos\n",
    "- MOVEMENT_15m    proporción del sensor PIR activado en los últimos 15 minutos"
   ]
  },
  {
   "cell_type": "code",
   "execution_count": 26,
   "metadata": {
    "collapsed": false,
    "deletable": true,
    "editable": true
   },
   "outputs": [],
   "source": [
    "df_events['LIGHT_1m'] = df_events.LIGHT.shift(1)\n",
    "df_events['MOVEMENT_CHANGE'] = df_events.MOVEMENT.diff()\n",
    "df_events['MOVEMENT_1m'] = df_events.MOVEMENT.shift(1)\n",
    "df_events['MOVEMENT_5m'] = df_events.MOVEMENT.rolling(5).sum() / 5\n",
    "df_events['MOVEMENT_15m'] = df_events.MOVEMENT.rolling(15).sum() / 15\n",
    "df_events['LUX_SWITCH'] = df_events.LUX_ON.diff()\n",
    "df_events['LIGHT_LAST_STATE'] = df_events.query('LUX_SWITCH != 0').LIGHT_1m\n",
    "df_events['LIGHT_LAST_STATE'] = df_events['LIGHT_LAST_STATE'].fillna(method='pad')\n",
    "df_events.dropna(inplace=True)"
   ]
  },
  {
   "cell_type": "markdown",
   "metadata": {
    "deletable": true,
    "editable": true
   },
   "source": [
    "### Chequeo de valores null"
   ]
  },
  {
   "cell_type": "code",
   "execution_count": 27,
   "metadata": {
    "collapsed": false,
    "deletable": true,
    "editable": true,
    "scrolled": true
   },
   "outputs": [
    {
     "data": {
      "text/plain": [
       "LUX_ON              False\n",
       "LIGHT               False\n",
       "MOVEMENT            False\n",
       "SOUND               False\n",
       "LIGHT_1m            False\n",
       "MOVEMENT_CHANGE     False\n",
       "MOVEMENT_1m         False\n",
       "MOVEMENT_5m         False\n",
       "MOVEMENT_15m        False\n",
       "LUX_SWITCH          False\n",
       "LIGHT_LAST_STATE    False\n",
       "dtype: bool"
      ]
     },
     "execution_count": 27,
     "metadata": {},
     "output_type": "execute_result"
    }
   ],
   "source": [
    "# columnas con null\n",
    "df_events.isnull().any()"
   ]
  },
  {
   "cell_type": "markdown",
   "metadata": {
    "deletable": true,
    "editable": true
   },
   "source": [
    "Algunas filas, incluyendo la primera, tendran valores NaN. Voy a eliminar los registros en donde haya algún NaN."
   ]
  },
  {
   "cell_type": "code",
   "execution_count": 28,
   "metadata": {
    "collapsed": false,
    "deletable": true,
    "editable": true
   },
   "outputs": [
    {
     "data": {
      "text/plain": [
       "(129576, 11)"
      ]
     },
     "execution_count": 28,
     "metadata": {},
     "output_type": "execute_result"
    }
   ],
   "source": [
    "df_events.shape"
   ]
  },
  {
   "cell_type": "code",
   "execution_count": 29,
   "metadata": {
    "collapsed": false,
    "deletable": true,
    "editable": true
   },
   "outputs": [
    {
     "data": {
      "text/plain": [
       "LUX_ON              False\n",
       "LIGHT               False\n",
       "MOVEMENT            False\n",
       "SOUND               False\n",
       "LIGHT_1m            False\n",
       "MOVEMENT_CHANGE     False\n",
       "MOVEMENT_1m         False\n",
       "MOVEMENT_5m         False\n",
       "MOVEMENT_15m        False\n",
       "LUX_SWITCH          False\n",
       "LIGHT_LAST_STATE    False\n",
       "dtype: bool"
      ]
     },
     "execution_count": 29,
     "metadata": {},
     "output_type": "execute_result"
    }
   ],
   "source": [
    "# Se elininan los eventos de estado sin sensado\n",
    "df_events.dropna(inplace=True)\n",
    "df_events.isnull().any()"
   ]
  },
  {
   "cell_type": "code",
   "execution_count": 30,
   "metadata": {
    "collapsed": false,
    "deletable": true,
    "editable": true
   },
   "outputs": [
    {
     "data": {
      "text/plain": [
       "(129576, 11)"
      ]
     },
     "execution_count": 30,
     "metadata": {},
     "output_type": "execute_result"
    }
   ],
   "source": [
    "df_events.shape"
   ]
  },
  {
   "cell_type": "markdown",
   "metadata": {
    "deletable": true,
    "editable": true
   },
   "source": [
    "Verifico la correlación por última vez"
   ]
  },
  {
   "cell_type": "code",
   "execution_count": 31,
   "metadata": {
    "collapsed": false,
    "deletable": true,
    "editable": true
   },
   "outputs": [
    {
     "data": {
      "text/html": [
       "\n",
       "        <style  type=\"text/css\" >\n",
       "        \n",
       "        \n",
       "            #T_105e5048_caf4_11e7_9bd8_0800271a8003row0_col0 {\n",
       "            \n",
       "                width:  10em;\n",
       "            \n",
       "                 height:  80%;\n",
       "            \n",
       "                background:  linear-gradient(90deg,#d65f5f 100.00000000000001%, transparent 0%);\n",
       "            \n",
       "            }\n",
       "        \n",
       "            #T_105e5048_caf4_11e7_9bd8_0800271a8003row1_col0 {\n",
       "            \n",
       "                width:  10em;\n",
       "            \n",
       "                 height:  80%;\n",
       "            \n",
       "                background:  linear-gradient(90deg,#d65f5f 54.710970562952106%, transparent 0%);\n",
       "            \n",
       "            }\n",
       "        \n",
       "            #T_105e5048_caf4_11e7_9bd8_0800271a8003row2_col0 {\n",
       "            \n",
       "                width:  10em;\n",
       "            \n",
       "                 height:  80%;\n",
       "            \n",
       "                background:  linear-gradient(90deg,#d65f5f 71.10083232210295%, transparent 0%);\n",
       "            \n",
       "            }\n",
       "        \n",
       "            #T_105e5048_caf4_11e7_9bd8_0800271a8003row3_col0 {\n",
       "            \n",
       "                width:  10em;\n",
       "            \n",
       "                 height:  80%;\n",
       "            \n",
       "                background:  linear-gradient(90deg,#d65f5f 66.77409960024991%, transparent 0%);\n",
       "            \n",
       "            }\n",
       "        \n",
       "            #T_105e5048_caf4_11e7_9bd8_0800271a8003row4_col0 {\n",
       "            \n",
       "                width:  10em;\n",
       "            \n",
       "                 height:  80%;\n",
       "            \n",
       "                background:  linear-gradient(90deg,#d65f5f 40.336697648667524%, transparent 0%);\n",
       "            \n",
       "            }\n",
       "        \n",
       "            #T_105e5048_caf4_11e7_9bd8_0800271a8003row5_col0 {\n",
       "            \n",
       "                width:  10em;\n",
       "            \n",
       "                 height:  80%;\n",
       "            \n",
       "                background:  linear-gradient(90deg,#d65f5f 49.07574582968827%, transparent 0%);\n",
       "            \n",
       "            }\n",
       "        \n",
       "            #T_105e5048_caf4_11e7_9bd8_0800271a8003row6_col0 {\n",
       "            \n",
       "                width:  10em;\n",
       "            \n",
       "                 height:  80%;\n",
       "            \n",
       "                background:  linear-gradient(90deg,#d65f5f 69.45149712747556%, transparent 0%);\n",
       "            \n",
       "            }\n",
       "        \n",
       "            #T_105e5048_caf4_11e7_9bd8_0800271a8003row7_col0 {\n",
       "            \n",
       "                width:  10em;\n",
       "            \n",
       "                 height:  80%;\n",
       "            \n",
       "                background:  linear-gradient(90deg,#d65f5f 70.18594931338463%, transparent 0%);\n",
       "            \n",
       "            }\n",
       "        \n",
       "            #T_105e5048_caf4_11e7_9bd8_0800271a8003row8_col0 {\n",
       "            \n",
       "                width:  10em;\n",
       "            \n",
       "                 height:  80%;\n",
       "            \n",
       "                background:  linear-gradient(90deg,#d65f5f 69.89884470608384%, transparent 0%);\n",
       "            \n",
       "            }\n",
       "        \n",
       "            #T_105e5048_caf4_11e7_9bd8_0800271a8003row9_col0 {\n",
       "            \n",
       "                width:  10em;\n",
       "            \n",
       "                 height:  80%;\n",
       "            \n",
       "                background:  linear-gradient(90deg,#d65f5f 73.55126996239977%, transparent 0%);\n",
       "            \n",
       "            }\n",
       "        \n",
       "            #T_105e5048_caf4_11e7_9bd8_0800271a8003row10_col0 {\n",
       "            \n",
       "                width:  10em;\n",
       "            \n",
       "                 height:  80%;\n",
       "            \n",
       "            }\n",
       "        \n",
       "        </style>\n",
       "\n",
       "        <table id=\"T_105e5048_caf4_11e7_9bd8_0800271a8003\" None>\n",
       "        \n",
       "\n",
       "        <thead>\n",
       "            \n",
       "            <tr>\n",
       "                \n",
       "                \n",
       "                <th class=\"blank level0\" >\n",
       "                  \n",
       "                \n",
       "                \n",
       "                \n",
       "                <th class=\"col_heading level0 col0\" colspan=1>\n",
       "                  LUX_ON\n",
       "                \n",
       "                \n",
       "                \n",
       "                <th class=\"col_heading level0 col1\" colspan=1>\n",
       "                  LIGHT\n",
       "                \n",
       "                \n",
       "                \n",
       "                <th class=\"col_heading level0 col2\" colspan=1>\n",
       "                  MOVEMENT\n",
       "                \n",
       "                \n",
       "                \n",
       "                <th class=\"col_heading level0 col3\" colspan=1>\n",
       "                  SOUND\n",
       "                \n",
       "                \n",
       "                \n",
       "                <th class=\"col_heading level0 col4\" colspan=1>\n",
       "                  LIGHT_1m\n",
       "                \n",
       "                \n",
       "                \n",
       "                <th class=\"col_heading level0 col5\" colspan=1>\n",
       "                  MOVEMENT_CHANGE\n",
       "                \n",
       "                \n",
       "                \n",
       "                <th class=\"col_heading level0 col6\" colspan=1>\n",
       "                  MOVEMENT_1m\n",
       "                \n",
       "                \n",
       "                \n",
       "                <th class=\"col_heading level0 col7\" colspan=1>\n",
       "                  MOVEMENT_5m\n",
       "                \n",
       "                \n",
       "                \n",
       "                <th class=\"col_heading level0 col8\" colspan=1>\n",
       "                  MOVEMENT_15m\n",
       "                \n",
       "                \n",
       "                \n",
       "                <th class=\"col_heading level0 col9\" colspan=1>\n",
       "                  LUX_SWITCH\n",
       "                \n",
       "                \n",
       "                \n",
       "                <th class=\"col_heading level0 col10\" colspan=1>\n",
       "                  LIGHT_LAST_STATE\n",
       "                \n",
       "                \n",
       "            </tr>\n",
       "            \n",
       "        </thead>\n",
       "        <tbody>\n",
       "            \n",
       "            <tr>\n",
       "                \n",
       "                \n",
       "                <th id=\"T_105e5048_caf4_11e7_9bd8_0800271a8003\"\n",
       "                 class=\"row_heading level0 row0\" rowspan=1>\n",
       "                    LUX_ON\n",
       "                \n",
       "                \n",
       "                \n",
       "                <td id=\"T_105e5048_caf4_11e7_9bd8_0800271a8003row0_col0\"\n",
       "                 class=\"data row0 col0\" >\n",
       "                    1\n",
       "                \n",
       "                \n",
       "                \n",
       "                <td id=\"T_105e5048_caf4_11e7_9bd8_0800271a8003row0_col1\"\n",
       "                 class=\"data row0 col1\" >\n",
       "                    0.183872\n",
       "                \n",
       "                \n",
       "                \n",
       "                <td id=\"T_105e5048_caf4_11e7_9bd8_0800271a8003row0_col2\"\n",
       "                 class=\"data row0 col2\" >\n",
       "                    0.479224\n",
       "                \n",
       "                \n",
       "                \n",
       "                <td id=\"T_105e5048_caf4_11e7_9bd8_0800271a8003row0_col3\"\n",
       "                 class=\"data row0 col3\" >\n",
       "                    0.401255\n",
       "                \n",
       "                \n",
       "                \n",
       "                <td id=\"T_105e5048_caf4_11e7_9bd8_0800271a8003row0_col4\"\n",
       "                 class=\"data row0 col4\" >\n",
       "                    -0.0751591\n",
       "                \n",
       "                \n",
       "                \n",
       "                <td id=\"T_105e5048_caf4_11e7_9bd8_0800271a8003row0_col5\"\n",
       "                 class=\"data row0 col5\" >\n",
       "                    0.0823224\n",
       "                \n",
       "                \n",
       "                \n",
       "                <td id=\"T_105e5048_caf4_11e7_9bd8_0800271a8003row0_col6\"\n",
       "                 class=\"data row0 col6\" >\n",
       "                    0.449502\n",
       "                \n",
       "                \n",
       "                \n",
       "                <td id=\"T_105e5048_caf4_11e7_9bd8_0800271a8003row0_col7\"\n",
       "                 class=\"data row0 col7\" >\n",
       "                    0.462738\n",
       "                \n",
       "                \n",
       "                \n",
       "                <td id=\"T_105e5048_caf4_11e7_9bd8_0800271a8003row0_col8\"\n",
       "                 class=\"data row0 col8\" >\n",
       "                    0.457564\n",
       "                \n",
       "                \n",
       "                \n",
       "                <td id=\"T_105e5048_caf4_11e7_9bd8_0800271a8003row0_col9\"\n",
       "                 class=\"data row0 col9\" >\n",
       "                    0.523382\n",
       "                \n",
       "                \n",
       "                \n",
       "                <td id=\"T_105e5048_caf4_11e7_9bd8_0800271a8003row0_col10\"\n",
       "                 class=\"data row0 col10\" >\n",
       "                    -0.802044\n",
       "                \n",
       "                \n",
       "            </tr>\n",
       "            \n",
       "            <tr>\n",
       "                \n",
       "                \n",
       "                <th id=\"T_105e5048_caf4_11e7_9bd8_0800271a8003\"\n",
       "                 class=\"row_heading level0 row1\" rowspan=1>\n",
       "                    LIGHT\n",
       "                \n",
       "                \n",
       "                \n",
       "                <td id=\"T_105e5048_caf4_11e7_9bd8_0800271a8003row1_col0\"\n",
       "                 class=\"data row1 col0\" >\n",
       "                    0.183872\n",
       "                \n",
       "                \n",
       "                \n",
       "                <td id=\"T_105e5048_caf4_11e7_9bd8_0800271a8003row1_col1\"\n",
       "                 class=\"data row1 col1\" >\n",
       "                    1\n",
       "                \n",
       "                \n",
       "                \n",
       "                <td id=\"T_105e5048_caf4_11e7_9bd8_0800271a8003row1_col2\"\n",
       "                 class=\"data row1 col2\" >\n",
       "                    0.21009\n",
       "                \n",
       "                \n",
       "                \n",
       "                <td id=\"T_105e5048_caf4_11e7_9bd8_0800271a8003row1_col3\"\n",
       "                 class=\"data row1 col3\" >\n",
       "                    0.177151\n",
       "                \n",
       "                \n",
       "                \n",
       "                <td id=\"T_105e5048_caf4_11e7_9bd8_0800271a8003row1_col4\"\n",
       "                 class=\"data row1 col4\" >\n",
       "                    0.830949\n",
       "                \n",
       "                \n",
       "                \n",
       "                <td id=\"T_105e5048_caf4_11e7_9bd8_0800271a8003row1_col5\"\n",
       "                 class=\"data row1 col5\" >\n",
       "                    0.0522091\n",
       "                \n",
       "                \n",
       "                \n",
       "                <td id=\"T_105e5048_caf4_11e7_9bd8_0800271a8003row1_col6\"\n",
       "                 class=\"data row1 col6\" >\n",
       "                    0.19124\n",
       "                \n",
       "                \n",
       "                \n",
       "                <td id=\"T_105e5048_caf4_11e7_9bd8_0800271a8003row1_col7\"\n",
       "                 class=\"data row1 col7\" >\n",
       "                    0.194667\n",
       "                \n",
       "                \n",
       "                \n",
       "                <td id=\"T_105e5048_caf4_11e7_9bd8_0800271a8003row1_col8\"\n",
       "                 class=\"data row1 col8\" >\n",
       "                    0.178928\n",
       "                \n",
       "                \n",
       "                \n",
       "                <td id=\"T_105e5048_caf4_11e7_9bd8_0800271a8003row1_col9\"\n",
       "                 class=\"data row1 col9\" >\n",
       "                    0.24913\n",
       "                \n",
       "                \n",
       "                \n",
       "                <td id=\"T_105e5048_caf4_11e7_9bd8_0800271a8003row1_col10\"\n",
       "                 class=\"data row1 col10\" >\n",
       "                    0.225507\n",
       "                \n",
       "                \n",
       "            </tr>\n",
       "            \n",
       "            <tr>\n",
       "                \n",
       "                \n",
       "                <th id=\"T_105e5048_caf4_11e7_9bd8_0800271a8003\"\n",
       "                 class=\"row_heading level0 row2\" rowspan=1>\n",
       "                    MOVEMENT\n",
       "                \n",
       "                \n",
       "                \n",
       "                <td id=\"T_105e5048_caf4_11e7_9bd8_0800271a8003row2_col0\"\n",
       "                 class=\"data row2 col0\" >\n",
       "                    0.479224\n",
       "                \n",
       "                \n",
       "                \n",
       "                <td id=\"T_105e5048_caf4_11e7_9bd8_0800271a8003row2_col1\"\n",
       "                 class=\"data row2 col1\" >\n",
       "                    0.21009\n",
       "                \n",
       "                \n",
       "                \n",
       "                <td id=\"T_105e5048_caf4_11e7_9bd8_0800271a8003row2_col2\"\n",
       "                 class=\"data row2 col2\" >\n",
       "                    1\n",
       "                \n",
       "                \n",
       "                \n",
       "                <td id=\"T_105e5048_caf4_11e7_9bd8_0800271a8003row2_col3\"\n",
       "                 class=\"data row2 col3\" >\n",
       "                    0.843698\n",
       "                \n",
       "                \n",
       "                \n",
       "                <td id=\"T_105e5048_caf4_11e7_9bd8_0800271a8003row2_col4\"\n",
       "                 class=\"data row2 col4\" >\n",
       "                    0.194287\n",
       "                \n",
       "                \n",
       "                \n",
       "                <td id=\"T_105e5048_caf4_11e7_9bd8_0800271a8003row2_col5\"\n",
       "                 class=\"data row2 col5\" >\n",
       "                    0.18052\n",
       "                \n",
       "                \n",
       "                \n",
       "                <td id=\"T_105e5048_caf4_11e7_9bd8_0800271a8003row2_col6\"\n",
       "                 class=\"data row2 col6\" >\n",
       "                    0.934825\n",
       "                \n",
       "                \n",
       "                \n",
       "                <td id=\"T_105e5048_caf4_11e7_9bd8_0800271a8003row2_col7\"\n",
       "                 class=\"data row2 col7\" >\n",
       "                    0.95686\n",
       "                \n",
       "                \n",
       "                \n",
       "                <td id=\"T_105e5048_caf4_11e7_9bd8_0800271a8003row2_col8\"\n",
       "                 class=\"data row2 col8\" >\n",
       "                    0.92406\n",
       "                \n",
       "                \n",
       "                \n",
       "                <td id=\"T_105e5048_caf4_11e7_9bd8_0800271a8003row2_col9\"\n",
       "                 class=\"data row2 col9\" >\n",
       "                    0.0313439\n",
       "                \n",
       "                \n",
       "                \n",
       "                <td id=\"T_105e5048_caf4_11e7_9bd8_0800271a8003row2_col10\"\n",
       "                 class=\"data row2 col10\" >\n",
       "                    -0.340477\n",
       "                \n",
       "                \n",
       "            </tr>\n",
       "            \n",
       "            <tr>\n",
       "                \n",
       "                \n",
       "                <th id=\"T_105e5048_caf4_11e7_9bd8_0800271a8003\"\n",
       "                 class=\"row_heading level0 row3\" rowspan=1>\n",
       "                    SOUND\n",
       "                \n",
       "                \n",
       "                \n",
       "                <td id=\"T_105e5048_caf4_11e7_9bd8_0800271a8003row3_col0\"\n",
       "                 class=\"data row3 col0\" >\n",
       "                    0.401255\n",
       "                \n",
       "                \n",
       "                \n",
       "                <td id=\"T_105e5048_caf4_11e7_9bd8_0800271a8003row3_col1\"\n",
       "                 class=\"data row3 col1\" >\n",
       "                    0.177151\n",
       "                \n",
       "                \n",
       "                \n",
       "                <td id=\"T_105e5048_caf4_11e7_9bd8_0800271a8003row3_col2\"\n",
       "                 class=\"data row3 col2\" >\n",
       "                    0.843698\n",
       "                \n",
       "                \n",
       "                \n",
       "                <td id=\"T_105e5048_caf4_11e7_9bd8_0800271a8003row3_col3\"\n",
       "                 class=\"data row3 col3\" >\n",
       "                    1\n",
       "                \n",
       "                \n",
       "                \n",
       "                <td id=\"T_105e5048_caf4_11e7_9bd8_0800271a8003row3_col4\"\n",
       "                 class=\"data row3 col4\" >\n",
       "                    0.160947\n",
       "                \n",
       "                \n",
       "                \n",
       "                <td id=\"T_105e5048_caf4_11e7_9bd8_0800271a8003row3_col5\"\n",
       "                 class=\"data row3 col5\" >\n",
       "                    0.1787\n",
       "                \n",
       "                \n",
       "                \n",
       "                <td id=\"T_105e5048_caf4_11e7_9bd8_0800271a8003row3_col6\"\n",
       "                 class=\"data row3 col6\" >\n",
       "                    0.77918\n",
       "                \n",
       "                \n",
       "                \n",
       "                <td id=\"T_105e5048_caf4_11e7_9bd8_0800271a8003row3_col7\"\n",
       "                 class=\"data row3 col7\" >\n",
       "                    0.795691\n",
       "                \n",
       "                \n",
       "                \n",
       "                <td id=\"T_105e5048_caf4_11e7_9bd8_0800271a8003row3_col8\"\n",
       "                 class=\"data row3 col8\" >\n",
       "                    0.769517\n",
       "                \n",
       "                \n",
       "                \n",
       "                <td id=\"T_105e5048_caf4_11e7_9bd8_0800271a8003row3_col9\"\n",
       "                 class=\"data row3 col9\" >\n",
       "                    0.0316569\n",
       "                \n",
       "                \n",
       "                \n",
       "                <td id=\"T_105e5048_caf4_11e7_9bd8_0800271a8003row3_col10\"\n",
       "                 class=\"data row3 col10\" >\n",
       "                    -0.284803\n",
       "                \n",
       "                \n",
       "            </tr>\n",
       "            \n",
       "            <tr>\n",
       "                \n",
       "                \n",
       "                <th id=\"T_105e5048_caf4_11e7_9bd8_0800271a8003\"\n",
       "                 class=\"row_heading level0 row4\" rowspan=1>\n",
       "                    LIGHT_1m\n",
       "                \n",
       "                \n",
       "                \n",
       "                <td id=\"T_105e5048_caf4_11e7_9bd8_0800271a8003row4_col0\"\n",
       "                 class=\"data row4 col0\" >\n",
       "                    -0.0751591\n",
       "                \n",
       "                \n",
       "                \n",
       "                <td id=\"T_105e5048_caf4_11e7_9bd8_0800271a8003row4_col1\"\n",
       "                 class=\"data row4 col1\" >\n",
       "                    0.830949\n",
       "                \n",
       "                \n",
       "                \n",
       "                <td id=\"T_105e5048_caf4_11e7_9bd8_0800271a8003row4_col2\"\n",
       "                 class=\"data row4 col2\" >\n",
       "                    0.194287\n",
       "                \n",
       "                \n",
       "                \n",
       "                <td id=\"T_105e5048_caf4_11e7_9bd8_0800271a8003row4_col3\"\n",
       "                 class=\"data row4 col3\" >\n",
       "                    0.160947\n",
       "                \n",
       "                \n",
       "                \n",
       "                <td id=\"T_105e5048_caf4_11e7_9bd8_0800271a8003row4_col4\"\n",
       "                 class=\"data row4 col4\" >\n",
       "                    1\n",
       "                \n",
       "                \n",
       "                \n",
       "                <td id=\"T_105e5048_caf4_11e7_9bd8_0800271a8003row4_col5\"\n",
       "                 class=\"data row4 col5\" >\n",
       "                    -0.0437666\n",
       "                \n",
       "                \n",
       "                \n",
       "                <td id=\"T_105e5048_caf4_11e7_9bd8_0800271a8003row4_col6\"\n",
       "                 class=\"data row4 col6\" >\n",
       "                    0.210088\n",
       "                \n",
       "                \n",
       "                \n",
       "                <td id=\"T_105e5048_caf4_11e7_9bd8_0800271a8003row4_col7\"\n",
       "                 class=\"data row4 col7\" >\n",
       "                    0.19887\n",
       "                \n",
       "                \n",
       "                \n",
       "                <td id=\"T_105e5048_caf4_11e7_9bd8_0800271a8003row4_col8\"\n",
       "                 class=\"data row4 col8\" >\n",
       "                    0.182143\n",
       "                \n",
       "                \n",
       "                \n",
       "                <td id=\"T_105e5048_caf4_11e7_9bd8_0800271a8003row4_col9\"\n",
       "                 class=\"data row4 col9\" >\n",
       "                    -0.247458\n",
       "                \n",
       "                \n",
       "                \n",
       "                <td id=\"T_105e5048_caf4_11e7_9bd8_0800271a8003row4_col10\"\n",
       "                 class=\"data row4 col10\" >\n",
       "                    0.430351\n",
       "                \n",
       "                \n",
       "            </tr>\n",
       "            \n",
       "            <tr>\n",
       "                \n",
       "                \n",
       "                <th id=\"T_105e5048_caf4_11e7_9bd8_0800271a8003\"\n",
       "                 class=\"row_heading level0 row5\" rowspan=1>\n",
       "                    MOVEMENT_CHANGE\n",
       "                \n",
       "                \n",
       "                \n",
       "                <td id=\"T_105e5048_caf4_11e7_9bd8_0800271a8003row5_col0\"\n",
       "                 class=\"data row5 col0\" >\n",
       "                    0.0823224\n",
       "                \n",
       "                \n",
       "                \n",
       "                <td id=\"T_105e5048_caf4_11e7_9bd8_0800271a8003row5_col1\"\n",
       "                 class=\"data row5 col1\" >\n",
       "                    0.0522091\n",
       "                \n",
       "                \n",
       "                \n",
       "                <td id=\"T_105e5048_caf4_11e7_9bd8_0800271a8003row5_col2\"\n",
       "                 class=\"data row5 col2\" >\n",
       "                    0.18052\n",
       "                \n",
       "                \n",
       "                \n",
       "                <td id=\"T_105e5048_caf4_11e7_9bd8_0800271a8003row5_col3\"\n",
       "                 class=\"data row5 col3\" >\n",
       "                    0.1787\n",
       "                \n",
       "                \n",
       "                \n",
       "                <td id=\"T_105e5048_caf4_11e7_9bd8_0800271a8003row5_col4\"\n",
       "                 class=\"data row5 col4\" >\n",
       "                    -0.0437666\n",
       "                \n",
       "                \n",
       "                \n",
       "                <td id=\"T_105e5048_caf4_11e7_9bd8_0800271a8003row5_col5\"\n",
       "                 class=\"data row5 col5\" >\n",
       "                    1\n",
       "                \n",
       "                \n",
       "                \n",
       "                <td id=\"T_105e5048_caf4_11e7_9bd8_0800271a8003row5_col6\"\n",
       "                 class=\"data row5 col6\" >\n",
       "                    -0.18052\n",
       "                \n",
       "                \n",
       "                \n",
       "                <td id=\"T_105e5048_caf4_11e7_9bd8_0800271a8003row5_col7\"\n",
       "                 class=\"data row5 col7\" >\n",
       "                    -0.0338624\n",
       "                \n",
       "                \n",
       "                \n",
       "                <td id=\"T_105e5048_caf4_11e7_9bd8_0800271a8003row5_col8\"\n",
       "                 class=\"data row5 col8\" >\n",
       "                    -0.0223746\n",
       "                \n",
       "                \n",
       "                \n",
       "                <td id=\"T_105e5048_caf4_11e7_9bd8_0800271a8003row5_col9\"\n",
       "                 class=\"data row5 col9\" >\n",
       "                    0.16546\n",
       "                \n",
       "                \n",
       "                \n",
       "                <td id=\"T_105e5048_caf4_11e7_9bd8_0800271a8003row5_col10\"\n",
       "                 class=\"data row5 col10\" >\n",
       "                    -0.0559642\n",
       "                \n",
       "                \n",
       "            </tr>\n",
       "            \n",
       "            <tr>\n",
       "                \n",
       "                \n",
       "                <th id=\"T_105e5048_caf4_11e7_9bd8_0800271a8003\"\n",
       "                 class=\"row_heading level0 row6\" rowspan=1>\n",
       "                    MOVEMENT_1m\n",
       "                \n",
       "                \n",
       "                \n",
       "                <td id=\"T_105e5048_caf4_11e7_9bd8_0800271a8003row6_col0\"\n",
       "                 class=\"data row6 col0\" >\n",
       "                    0.449502\n",
       "                \n",
       "                \n",
       "                \n",
       "                <td id=\"T_105e5048_caf4_11e7_9bd8_0800271a8003row6_col1\"\n",
       "                 class=\"data row6 col1\" >\n",
       "                    0.19124\n",
       "                \n",
       "                \n",
       "                \n",
       "                <td id=\"T_105e5048_caf4_11e7_9bd8_0800271a8003row6_col2\"\n",
       "                 class=\"data row6 col2\" >\n",
       "                    0.934825\n",
       "                \n",
       "                \n",
       "                \n",
       "                <td id=\"T_105e5048_caf4_11e7_9bd8_0800271a8003row6_col3\"\n",
       "                 class=\"data row6 col3\" >\n",
       "                    0.77918\n",
       "                \n",
       "                \n",
       "                \n",
       "                <td id=\"T_105e5048_caf4_11e7_9bd8_0800271a8003row6_col4\"\n",
       "                 class=\"data row6 col4\" >\n",
       "                    0.210088\n",
       "                \n",
       "                \n",
       "                \n",
       "                <td id=\"T_105e5048_caf4_11e7_9bd8_0800271a8003row6_col5\"\n",
       "                 class=\"data row6 col5\" >\n",
       "                    -0.18052\n",
       "                \n",
       "                \n",
       "                \n",
       "                <td id=\"T_105e5048_caf4_11e7_9bd8_0800271a8003row6_col6\"\n",
       "                 class=\"data row6 col6\" >\n",
       "                    1\n",
       "                \n",
       "                \n",
       "                \n",
       "                <td id=\"T_105e5048_caf4_11e7_9bd8_0800271a8003row6_col7\"\n",
       "                 class=\"data row6 col7\" >\n",
       "                    0.969085\n",
       "                \n",
       "                \n",
       "                \n",
       "                <td id=\"T_105e5048_caf4_11e7_9bd8_0800271a8003row6_col8\"\n",
       "                 class=\"data row6 col8\" >\n",
       "                    0.932138\n",
       "                \n",
       "                \n",
       "                \n",
       "                <td id=\"T_105e5048_caf4_11e7_9bd8_0800271a8003row6_col9\"\n",
       "                 class=\"data row6 col9\" >\n",
       "                    -0.0283939\n",
       "                \n",
       "                \n",
       "                \n",
       "                <td id=\"T_105e5048_caf4_11e7_9bd8_0800271a8003row6_col10\"\n",
       "                 class=\"data row6 col10\" >\n",
       "                    -0.320272\n",
       "                \n",
       "                \n",
       "            </tr>\n",
       "            \n",
       "            <tr>\n",
       "                \n",
       "                \n",
       "                <th id=\"T_105e5048_caf4_11e7_9bd8_0800271a8003\"\n",
       "                 class=\"row_heading level0 row7\" rowspan=1>\n",
       "                    MOVEMENT_5m\n",
       "                \n",
       "                \n",
       "                \n",
       "                <td id=\"T_105e5048_caf4_11e7_9bd8_0800271a8003row7_col0\"\n",
       "                 class=\"data row7 col0\" >\n",
       "                    0.462738\n",
       "                \n",
       "                \n",
       "                \n",
       "                <td id=\"T_105e5048_caf4_11e7_9bd8_0800271a8003row7_col1\"\n",
       "                 class=\"data row7 col1\" >\n",
       "                    0.194667\n",
       "                \n",
       "                \n",
       "                \n",
       "                <td id=\"T_105e5048_caf4_11e7_9bd8_0800271a8003row7_col2\"\n",
       "                 class=\"data row7 col2\" >\n",
       "                    0.95686\n",
       "                \n",
       "                \n",
       "                \n",
       "                <td id=\"T_105e5048_caf4_11e7_9bd8_0800271a8003row7_col3\"\n",
       "                 class=\"data row7 col3\" >\n",
       "                    0.795691\n",
       "                \n",
       "                \n",
       "                \n",
       "                <td id=\"T_105e5048_caf4_11e7_9bd8_0800271a8003row7_col4\"\n",
       "                 class=\"data row7 col4\" >\n",
       "                    0.19887\n",
       "                \n",
       "                \n",
       "                \n",
       "                <td id=\"T_105e5048_caf4_11e7_9bd8_0800271a8003row7_col5\"\n",
       "                 class=\"data row7 col5\" >\n",
       "                    -0.0338624\n",
       "                \n",
       "                \n",
       "                \n",
       "                <td id=\"T_105e5048_caf4_11e7_9bd8_0800271a8003row7_col6\"\n",
       "                 class=\"data row7 col6\" >\n",
       "                    0.969085\n",
       "                \n",
       "                \n",
       "                \n",
       "                <td id=\"T_105e5048_caf4_11e7_9bd8_0800271a8003row7_col7\"\n",
       "                 class=\"data row7 col7\" >\n",
       "                    1\n",
       "                \n",
       "                \n",
       "                \n",
       "                <td id=\"T_105e5048_caf4_11e7_9bd8_0800271a8003row7_col8\"\n",
       "                 class=\"data row7 col8\" >\n",
       "                    0.970394\n",
       "                \n",
       "                \n",
       "                \n",
       "                <td id=\"T_105e5048_caf4_11e7_9bd8_0800271a8003row7_col9\"\n",
       "                 class=\"data row7 col9\" >\n",
       "                    -0.00365156\n",
       "                \n",
       "                \n",
       "                \n",
       "                <td id=\"T_105e5048_caf4_11e7_9bd8_0800271a8003row7_col10\"\n",
       "                 class=\"data row7 col10\" >\n",
       "                    -0.330699\n",
       "                \n",
       "                \n",
       "            </tr>\n",
       "            \n",
       "            <tr>\n",
       "                \n",
       "                \n",
       "                <th id=\"T_105e5048_caf4_11e7_9bd8_0800271a8003\"\n",
       "                 class=\"row_heading level0 row8\" rowspan=1>\n",
       "                    MOVEMENT_15m\n",
       "                \n",
       "                \n",
       "                \n",
       "                <td id=\"T_105e5048_caf4_11e7_9bd8_0800271a8003row8_col0\"\n",
       "                 class=\"data row8 col0\" >\n",
       "                    0.457564\n",
       "                \n",
       "                \n",
       "                \n",
       "                <td id=\"T_105e5048_caf4_11e7_9bd8_0800271a8003row8_col1\"\n",
       "                 class=\"data row8 col1\" >\n",
       "                    0.178928\n",
       "                \n",
       "                \n",
       "                \n",
       "                <td id=\"T_105e5048_caf4_11e7_9bd8_0800271a8003row8_col2\"\n",
       "                 class=\"data row8 col2\" >\n",
       "                    0.92406\n",
       "                \n",
       "                \n",
       "                \n",
       "                <td id=\"T_105e5048_caf4_11e7_9bd8_0800271a8003row8_col3\"\n",
       "                 class=\"data row8 col3\" >\n",
       "                    0.769517\n",
       "                \n",
       "                \n",
       "                \n",
       "                <td id=\"T_105e5048_caf4_11e7_9bd8_0800271a8003row8_col4\"\n",
       "                 class=\"data row8 col4\" >\n",
       "                    0.182143\n",
       "                \n",
       "                \n",
       "                \n",
       "                <td id=\"T_105e5048_caf4_11e7_9bd8_0800271a8003row8_col5\"\n",
       "                 class=\"data row8 col5\" >\n",
       "                    -0.0223746\n",
       "                \n",
       "                \n",
       "                \n",
       "                <td id=\"T_105e5048_caf4_11e7_9bd8_0800271a8003row8_col6\"\n",
       "                 class=\"data row8 col6\" >\n",
       "                    0.932138\n",
       "                \n",
       "                \n",
       "                \n",
       "                <td id=\"T_105e5048_caf4_11e7_9bd8_0800271a8003row8_col7\"\n",
       "                 class=\"data row8 col7\" >\n",
       "                    0.970394\n",
       "                \n",
       "                \n",
       "                \n",
       "                <td id=\"T_105e5048_caf4_11e7_9bd8_0800271a8003row8_col8\"\n",
       "                 class=\"data row8 col8\" >\n",
       "                    1\n",
       "                \n",
       "                \n",
       "                \n",
       "                <td id=\"T_105e5048_caf4_11e7_9bd8_0800271a8003row8_col9\"\n",
       "                 class=\"data row8 col9\" >\n",
       "                    -0.00162695\n",
       "                \n",
       "                \n",
       "                \n",
       "                <td id=\"T_105e5048_caf4_11e7_9bd8_0800271a8003row8_col10\"\n",
       "                 class=\"data row8 col10\" >\n",
       "                    -0.331846\n",
       "                \n",
       "                \n",
       "            </tr>\n",
       "            \n",
       "            <tr>\n",
       "                \n",
       "                \n",
       "                <th id=\"T_105e5048_caf4_11e7_9bd8_0800271a8003\"\n",
       "                 class=\"row_heading level0 row9\" rowspan=1>\n",
       "                    LUX_SWITCH\n",
       "                \n",
       "                \n",
       "                \n",
       "                <td id=\"T_105e5048_caf4_11e7_9bd8_0800271a8003row9_col0\"\n",
       "                 class=\"data row9 col0\" >\n",
       "                    0.523382\n",
       "                \n",
       "                \n",
       "                \n",
       "                <td id=\"T_105e5048_caf4_11e7_9bd8_0800271a8003row9_col1\"\n",
       "                 class=\"data row9 col1\" >\n",
       "                    0.24913\n",
       "                \n",
       "                \n",
       "                \n",
       "                <td id=\"T_105e5048_caf4_11e7_9bd8_0800271a8003row9_col2\"\n",
       "                 class=\"data row9 col2\" >\n",
       "                    0.0313439\n",
       "                \n",
       "                \n",
       "                \n",
       "                <td id=\"T_105e5048_caf4_11e7_9bd8_0800271a8003row9_col3\"\n",
       "                 class=\"data row9 col3\" >\n",
       "                    0.0316569\n",
       "                \n",
       "                \n",
       "                \n",
       "                <td id=\"T_105e5048_caf4_11e7_9bd8_0800271a8003row9_col4\"\n",
       "                 class=\"data row9 col4\" >\n",
       "                    -0.247458\n",
       "                \n",
       "                \n",
       "                \n",
       "                <td id=\"T_105e5048_caf4_11e7_9bd8_0800271a8003row9_col5\"\n",
       "                 class=\"data row9 col5\" >\n",
       "                    0.16546\n",
       "                \n",
       "                \n",
       "                \n",
       "                <td id=\"T_105e5048_caf4_11e7_9bd8_0800271a8003row9_col6\"\n",
       "                 class=\"data row9 col6\" >\n",
       "                    -0.0283939\n",
       "                \n",
       "                \n",
       "                \n",
       "                <td id=\"T_105e5048_caf4_11e7_9bd8_0800271a8003row9_col7\"\n",
       "                 class=\"data row9 col7\" >\n",
       "                    -0.00365156\n",
       "                \n",
       "                \n",
       "                \n",
       "                <td id=\"T_105e5048_caf4_11e7_9bd8_0800271a8003row9_col8\"\n",
       "                 class=\"data row9 col8\" >\n",
       "                    -0.00162695\n",
       "                \n",
       "                \n",
       "                \n",
       "                <td id=\"T_105e5048_caf4_11e7_9bd8_0800271a8003row9_col9\"\n",
       "                 class=\"data row9 col9\" >\n",
       "                    1\n",
       "                \n",
       "                \n",
       "                \n",
       "                <td id=\"T_105e5048_caf4_11e7_9bd8_0800271a8003row9_col10\"\n",
       "                 class=\"data row9 col10\" >\n",
       "                    -0.314091\n",
       "                \n",
       "                \n",
       "            </tr>\n",
       "            \n",
       "            <tr>\n",
       "                \n",
       "                \n",
       "                <th id=\"T_105e5048_caf4_11e7_9bd8_0800271a8003\"\n",
       "                 class=\"row_heading level0 row10\" rowspan=1>\n",
       "                    LIGHT_LAST_STATE\n",
       "                \n",
       "                \n",
       "                \n",
       "                <td id=\"T_105e5048_caf4_11e7_9bd8_0800271a8003row10_col0\"\n",
       "                 class=\"data row10 col0\" >\n",
       "                    -0.802044\n",
       "                \n",
       "                \n",
       "                \n",
       "                <td id=\"T_105e5048_caf4_11e7_9bd8_0800271a8003row10_col1\"\n",
       "                 class=\"data row10 col1\" >\n",
       "                    0.225507\n",
       "                \n",
       "                \n",
       "                \n",
       "                <td id=\"T_105e5048_caf4_11e7_9bd8_0800271a8003row10_col2\"\n",
       "                 class=\"data row10 col2\" >\n",
       "                    -0.340477\n",
       "                \n",
       "                \n",
       "                \n",
       "                <td id=\"T_105e5048_caf4_11e7_9bd8_0800271a8003row10_col3\"\n",
       "                 class=\"data row10 col3\" >\n",
       "                    -0.284803\n",
       "                \n",
       "                \n",
       "                \n",
       "                <td id=\"T_105e5048_caf4_11e7_9bd8_0800271a8003row10_col4\"\n",
       "                 class=\"data row10 col4\" >\n",
       "                    0.430351\n",
       "                \n",
       "                \n",
       "                \n",
       "                <td id=\"T_105e5048_caf4_11e7_9bd8_0800271a8003row10_col5\"\n",
       "                 class=\"data row10 col5\" >\n",
       "                    -0.0559642\n",
       "                \n",
       "                \n",
       "                \n",
       "                <td id=\"T_105e5048_caf4_11e7_9bd8_0800271a8003row10_col6\"\n",
       "                 class=\"data row10 col6\" >\n",
       "                    -0.320272\n",
       "                \n",
       "                \n",
       "                \n",
       "                <td id=\"T_105e5048_caf4_11e7_9bd8_0800271a8003row10_col7\"\n",
       "                 class=\"data row10 col7\" >\n",
       "                    -0.330699\n",
       "                \n",
       "                \n",
       "                \n",
       "                <td id=\"T_105e5048_caf4_11e7_9bd8_0800271a8003row10_col8\"\n",
       "                 class=\"data row10 col8\" >\n",
       "                    -0.331846\n",
       "                \n",
       "                \n",
       "                \n",
       "                <td id=\"T_105e5048_caf4_11e7_9bd8_0800271a8003row10_col9\"\n",
       "                 class=\"data row10 col9\" >\n",
       "                    -0.314091\n",
       "                \n",
       "                \n",
       "                \n",
       "                <td id=\"T_105e5048_caf4_11e7_9bd8_0800271a8003row10_col10\"\n",
       "                 class=\"data row10 col10\" >\n",
       "                    1\n",
       "                \n",
       "                \n",
       "            </tr>\n",
       "            \n",
       "        </tbody>\n",
       "        </table>\n",
       "        "
      ],
      "text/plain": [
       "<pandas.formats.style.Styler at 0x7f79a49840f0>"
      ]
     },
     "execution_count": 31,
     "metadata": {},
     "output_type": "execute_result"
    }
   ],
   "source": [
    "df_events.corr().style.bar(subset=['LUX_ON'], color='#d65f5f', axis=0)"
   ]
  },
  {
   "cell_type": "markdown",
   "metadata": {
    "deletable": true,
    "editable": true
   },
   "source": [
    "## Entrenamiento y verificación de RNA\n",
    "\n",
    "### Variable objetivo: estado de la lámpara (LUX_ON)\n",
    "La variable a predecir es LUX_ON, la cual está en 1 si la luz está prendida (sea estado override o no del módulo). La distribución del estado en porcentaje es la siguiente:"
   ]
  },
  {
   "cell_type": "code",
   "execution_count": 32,
   "metadata": {
    "collapsed": false,
    "deletable": true,
    "editable": true
   },
   "outputs": [
    {
     "data": {
      "text/plain": [
       "0    0.834506\n",
       "1    0.165494\n",
       "Name: LUX_ON, dtype: float64"
      ]
     },
     "execution_count": 32,
     "metadata": {},
     "output_type": "execute_result"
    }
   ],
   "source": [
    "df_events.LUX_ON.value_counts(normalize=True)"
   ]
  },
  {
   "cell_type": "markdown",
   "metadata": {
    "collapsed": false,
    "deletable": true,
    "editable": true,
    "scrolled": true
   },
   "source": [
    "#### Separando los datos para training y prueba\n",
    "Para poder hacer etapas de entrenamiento y prueba, voy a separar los datos. 70% para entrenamiento, 30% para prueba. Para esto voy a usar del módulo scikit-learn la función train_test_split.\n"
   ]
  },
  {
   "cell_type": "code",
   "execution_count": 33,
   "metadata": {
    "collapsed": false,
    "deletable": true,
    "editable": true
   },
   "outputs": [
    {
     "data": {
      "text/html": [
       "<div>\n",
       "<table border=\"1\" class=\"dataframe\">\n",
       "  <thead>\n",
       "    <tr style=\"text-align: right;\">\n",
       "      <th></th>\n",
       "      <th>LUX_ON</th>\n",
       "      <th>LIGHT</th>\n",
       "      <th>MOVEMENT</th>\n",
       "      <th>SOUND</th>\n",
       "      <th>LIGHT_1m</th>\n",
       "      <th>MOVEMENT_CHANGE</th>\n",
       "      <th>MOVEMENT_1m</th>\n",
       "      <th>MOVEMENT_5m</th>\n",
       "      <th>MOVEMENT_15m</th>\n",
       "      <th>LUX_SWITCH</th>\n",
       "      <th>LIGHT_LAST_STATE</th>\n",
       "    </tr>\n",
       "  </thead>\n",
       "  <tbody>\n",
       "    <tr>\n",
       "      <th>24</th>\n",
       "      <td>1</td>\n",
       "      <td>0.812233</td>\n",
       "      <td>0</td>\n",
       "      <td>-0.711066</td>\n",
       "      <td>0.698435</td>\n",
       "      <td>0.0</td>\n",
       "      <td>0.0</td>\n",
       "      <td>0.0</td>\n",
       "      <td>0.0</td>\n",
       "      <td>1.0</td>\n",
       "      <td>0.698435</td>\n",
       "    </tr>\n",
       "  </tbody>\n",
       "</table>\n",
       "</div>"
      ],
      "text/plain": [
       "    LUX_ON     LIGHT  MOVEMENT     SOUND  LIGHT_1m  MOVEMENT_CHANGE  \\\n",
       "24       1  0.812233         0 -0.711066  0.698435              0.0   \n",
       "\n",
       "    MOVEMENT_1m  MOVEMENT_5m  MOVEMENT_15m  LUX_SWITCH  LIGHT_LAST_STATE  \n",
       "24          0.0          0.0           0.0         1.0          0.698435  "
      ]
     },
     "execution_count": 33,
     "metadata": {},
     "output_type": "execute_result"
    }
   ],
   "source": [
    "df_events.head(1)"
   ]
  },
  {
   "cell_type": "markdown",
   "metadata": {
    "collapsed": false,
    "deletable": true,
    "editable": true
   },
   "source": [
    "Los conjuntos de datos van a llamarse:\n",
    "* X_train: Datos de entrenamiento. Las 7 columnas con los valores LIGHT, MOVEMENT, SOUND, sus valores en el minuto anterior, y LUX_ON_1m, la variable que quiero predecir, pero en el minuto anterior. Estará compuesto por el 70% de los registros.\n",
    "* y_train: Resultado de entrenamiento. Columna *LUX_ON* para el 70% de los registros\n",
    "* X_test: Datos para hacer la validación. Tienen el mismo formato que X_train, pero corresponden al 30% del conjunto de datos\n",
    "* y_test: Resultados para validar la performance del algoritmo aplicado a X_test"
   ]
  },
  {
   "cell_type": "code",
   "execution_count": 34,
   "metadata": {
    "collapsed": false,
    "deletable": true,
    "editable": true
   },
   "outputs": [],
   "source": [
    "from sklearn.model_selection import train_test_split\n",
    "\n",
    "luxState_feature_names = ['LIGHT', 'MOVEMENT', 'SOUND', 'LIGHT_1m', 'MOVEMENT_CHANGE', 'MOVEMENT_1m', 'MOVEMENT_5m', 'MOVEMENT_15m', 'LUX_SWITCH', 'LIGHT_LAST_STATE']\n",
    "luxState_goal_names = ['LUX_ON']\n",
    "\n",
    "luxState_features = df_events[luxState_feature_names].values     # Columnas del predictor (10 X m)\n",
    "luxState_goal = df_events[luxState_goal_names].values            # Clase predecida (1=verdadero, 0=falso) column (1 X m)\n",
    "split_test_size = 0.30                                           # 0.30 es 30%, el tamaño para pruebas\n",
    "\n",
    "luxState_features_train, luxState_features_test, luxState_goal_train, luxState_goal_test = train_test_split(luxState_features, luxState_goal, test_size=split_test_size)"
   ]
  },
  {
   "cell_type": "markdown",
   "metadata": {
    "collapsed": false,
    "deletable": true,
    "editable": true
   },
   "source": [
    "Verifico que el tamaño relativo de los sets de entrenamiento y prueba sea lo más cercano a 70-30 posible:"
   ]
  },
  {
   "cell_type": "code",
   "execution_count": 35,
   "metadata": {
    "collapsed": false,
    "deletable": true,
    "editable": true
   },
   "outputs": [
    {
     "name": "stdout",
     "output_type": "stream",
     "text": [
      "70.00% en el set de entrenamiento\n",
      "30.00% en el set de prueba\n"
     ]
    }
   ],
   "source": [
    "print(\"{0:.2f}% en el set de entrenamiento\".format( (float(len(luxState_features_train))/len(df_events.index)) * 100 ) )\n",
    "print(\"{0:.2f}% en el set de prueba\".format((float(len(luxState_features_test))/len(df_events.index)) * 100))"
   ]
  },
  {
   "cell_type": "markdown",
   "metadata": {
    "collapsed": false,
    "deletable": true,
    "editable": true
   },
   "source": [
    "Verifico que la proporción de casos verdaderos y falsos se mantenga en los conjuntos de entrenamiento y test:"
   ]
  },
  {
   "cell_type": "code",
   "execution_count": 36,
   "metadata": {
    "collapsed": false,
    "deletable": true,
    "editable": true
   },
   "outputs": [
    {
     "name": "stdout",
     "output_type": "stream",
     "text": [
      "Lux Activo en el total           : 21444 (16.55%)\n",
      "Lux Inactivo en el total         : 108132 (83.45%)\n",
      "\n",
      "Lux Activo en entrenamiento      : 14959 (16.49%)\n",
      "Lux Inctivo en entrenamiento     : 75744 (83.51%)\n",
      "\n",
      "Lux Activo en test               : 6485 (16.68%)\n",
      "Lux Inctivo en test              : 32388 (83.32%)\n"
     ]
    }
   ],
   "source": [
    "print(\"Lux Activo en el total           : {0} ({1:0.2f}%)\".format(len(df_events.loc[df_events['LUX_ON'] == 1]), (len(df_events.loc[df_events['LUX_ON'] == 1])/float(len(df_events.index))) * 100.0))\n",
    "print(\"Lux Inactivo en el total         : {0} ({1:0.2f}%)\".format(len(df_events.loc[df_events['LUX_ON'] == 0]), (len(df_events.loc[df_events['LUX_ON'] == 0])/float(len(df_events.index))) * 100.0))\n",
    "print(\"\")\n",
    "train_state_on = len(luxState_goal_train[ luxState_goal_train == 1])\n",
    "train_state_off = len(luxState_goal_train[ luxState_goal_train == 0])\n",
    "print(\"Lux Activo en entrenamiento      : {0} ({1:0.2f}%)\".format(train_state_on, train_state_on/float(len(luxState_goal_train)) * 100.0))\n",
    "print(\"Lux Inctivo en entrenamiento     : {0} ({1:0.2f}%)\".format(train_state_off, train_state_off/float(len(luxState_goal_train)) * 100.0))\n",
    "print(\"\")\n",
    "test_state_on = len(luxState_goal_test[ luxState_goal_test == 1])\n",
    "test_state_off = len(luxState_goal_test[ luxState_goal_test == 0])\n",
    "print(\"Lux Activo en test               : {0} ({1:0.2f}%)\".format(test_state_on, test_state_on/float(len(luxState_goal_test)) * 100.0))\n",
    "print(\"Lux Inctivo en test              : {0} ({1:0.2f}%)\".format(test_state_off,test_state_off/float(len(luxState_goal_test)) * 100.0))"
   ]
  },
  {
   "cell_type": "code",
   "execution_count": 37,
   "metadata": {
    "collapsed": false,
    "deletable": true,
    "editable": true
   },
   "outputs": [
    {
     "name": "stdout",
     "output_type": "stream",
     "text": [
      "CPU times: user 16.2 s, sys: 63.4 ms, total: 16.2 s\n",
      "Wall time: 16.9 s\n"
     ]
    },
    {
     "data": {
      "text/plain": [
       "MLPClassifier(activation='tanh', alpha=0.0001, batch_size='auto', beta_1=0.9,\n",
       "       beta_2=0.999, early_stopping=False, epsilon=1e-08,\n",
       "       hidden_layer_sizes=(100,), learning_rate='constant',\n",
       "       learning_rate_init=0.001, max_iter=200, momentum=0.9,\n",
       "       nesterovs_momentum=True, power_t=0.5, random_state=None,\n",
       "       shuffle=True, solver='adam', tol=0.0001, validation_fraction=0.1,\n",
       "       verbose=False, warm_start=False)"
      ]
     },
     "execution_count": 37,
     "metadata": {},
     "output_type": "execute_result"
    }
   ],
   "source": [
    "from sklearn.neural_network import MLPClassifier\n",
    "clf_model_state = MLPClassifier(activation='tanh')\n",
    "%time clf_model_state.fit(luxState_features_train, luxState_goal_train.ravel())"
   ]
  },
  {
   "cell_type": "markdown",
   "metadata": {
    "collapsed": false,
    "deletable": true,
    "editable": true
   },
   "source": [
    "#### Performance usando los datos de entrenamiento\n",
    "Para esto voy a importar la función metrics."
   ]
  },
  {
   "cell_type": "code",
   "execution_count": 38,
   "metadata": {
    "collapsed": false,
    "deletable": true,
    "editable": true
   },
   "outputs": [
    {
     "name": "stdout",
     "output_type": "stream",
     "text": [
      "Precisión en entrenamiento: 0.9984\n"
     ]
    }
   ],
   "source": [
    "from sklearn import metrics\n",
    "\n",
    "clf_predict_state_train = clf_model_state.predict(luxState_features_train)\n",
    "\n",
    "print(\"Precisión en entrenamiento: {0:.4f}\".format(metrics.accuracy_score(luxState_goal_train, clf_predict_state_train)))"
   ]
  },
  {
   "cell_type": "markdown",
   "metadata": {
    "collapsed": false,
    "deletable": true,
    "editable": true
   },
   "source": [
    "#### Performance usando los datos de prueba"
   ]
  },
  {
   "cell_type": "code",
   "execution_count": 39,
   "metadata": {
    "collapsed": false,
    "deletable": true,
    "editable": true
   },
   "outputs": [
    {
     "name": "stdout",
     "output_type": "stream",
     "text": [
      "Precisión en test: 0.9980\n"
     ]
    }
   ],
   "source": [
    "clf_predict_state_test = clf_model_state.predict(luxState_features_test)\n",
    "\n",
    "print(\"Precisión en test: {0:.4f}\".format(metrics.accuracy_score(luxState_goal_test, clf_predict_state_test)))"
   ]
  },
  {
   "cell_type": "markdown",
   "metadata": {
    "collapsed": false,
    "deletable": true,
    "editable": true
   },
   "source": [
    "#### Métricas\n",
    "Los resultados de las etapas de entrenamiento y prueba son muy buenos. Demasiado buenos. Hay que analizar si no hay algún otro problema que pueda causar que cuando ponga más datos (cuando analice en tiempo real la actividad del usuario), el modelo falle miserablemente.\n",
    "\n",
    "Para este análisis, voy a ver como se comparan los resultados, con el objetivo de entender si el modelo sirve o hay que hacer ajustes. Voy a usar dos herramientas:\n",
    "\n",
    "##### Matriz de confusión\n",
    "https://es.wikipedia.org/wiki/Matriz_de_confusi%C3%B3n\n",
    "\n",
    "Cada columna de la matriz representa el número de predicciones de cada clase, mientras que cada fila representa a las instancias en la clase real. Uno de los beneficios de las matrices de confusión es que facilitan ver si el sistema está confundiendo dos clases. \n",
    "\n",
    "En nuestro caso, la matriz representa lo siguiente:\n",
    "\n",
    "\n",
    "| EV (Predicho Encendido y es verdad ) | EF (Predicho Encendido pero es falso) |\n",
    "|------------------------------------------------|\n",
    "| **AF (Predicho Apagado pero es Falso** | **AV (Predicho Apagado y es verdad)** |\n",
    "\n",
    "Esto quiere decir que queremos los valores más altos posibles en la diagonal, y lo más cerca posible a cero en cualquier otro lado."
   ]
  },
  {
   "cell_type": "code",
   "execution_count": 40,
   "metadata": {
    "collapsed": false,
    "deletable": true,
    "editable": true
   },
   "outputs": [
    {
     "name": "stdout",
     "output_type": "stream",
     "text": [
      "Matriz de confusión:\n",
      "[[ 6411    74]\n",
      " [    2 32386]]\n"
     ]
    }
   ],
   "source": [
    "print(\"Matriz de confusión:\")\n",
    "print(\"{0}\".format(metrics.confusion_matrix(luxState_goal_test, clf_predict_state_test, labels=[1, 0])))"
   ]
  },
  {
   "cell_type": "markdown",
   "metadata": {
    "collapsed": false,
    "deletable": true,
    "editable": true
   },
   "source": [
    "Estos resultados son muy buenos, el porcentaje de acertados es altísimo. El modelo es casi perfecto. Para confirmar, hay que usar la otra herramienta.\n",
    "\n",
    "\n",
    "#### Reporte de clasificación.\n",
    "Lo primero que vamos a verificar es que tan bien se hace una predición acertada cuando se requiere que el dispositivo esté encendido. Este dato, llamado \"recall\" en el reporte, esta dado por:\n",
    "\n",
    "Recall = EV / (EV + AF)\n",
    "\n",
    "Lo segundo que queremos ver es la presición, que está dada por:\n",
    "\n",
    "Precision = EV / (EV + EF)\n"
   ]
  },
  {
   "cell_type": "code",
   "execution_count": 41,
   "metadata": {
    "collapsed": false,
    "deletable": true,
    "editable": true,
    "scrolled": false
   },
   "outputs": [
    {
     "name": "stdout",
     "output_type": "stream",
     "text": [
      "Reporte de clasificación:\n",
      "             precision    recall  f1-score   support\n",
      "\n",
      "          1       1.00      0.99      0.99      6485\n",
      "          0       1.00      1.00      1.00     32388\n",
      "\n",
      "avg / total       1.00      1.00      1.00     38873\n",
      "\n"
     ]
    }
   ],
   "source": [
    "print(\"Reporte de clasificación:\")\n",
    "print(metrics.classification_report(luxState_goal_test, clf_predict_state_test, labels=[1,0]))"
   ]
  },
  {
   "cell_type": "markdown",
   "metadata": {
    "collapsed": false,
    "deletable": true,
    "editable": true
   },
   "source": [
    "## Validación del modelo\n",
    "\n",
    "**IMPORTANTE:** Los datos fueron normalizados para poder ser utilizados en la RNA. Por lo tanto, al pasar datos nuevos, debo normalizarlos según la escala creada previamente."
   ]
  },
  {
   "cell_type": "markdown",
   "metadata": {
    "deletable": true,
    "editable": true
   },
   "source": [
    "### Predicción de ESTADO (LUX_ON)\n",
    "Features:\n",
    "\n",
    "| LIGHT | MOVEMENT | SOUND | LUX_ON_1m | LIGHT_1m | MOVEMENT_1m | SOUND_1m |\n",
    "|--------------------------------------------------------------------------|\n",
    "| 0-800 | 0/1 | 35-110 | 0/1 | 0-800 | 0/1 | 35-110 |\n"
   ]
  },
  {
   "cell_type": "markdown",
   "metadata": {
    "deletable": true,
    "editable": true
   },
   "source": [
    "#### Ejemplo 1:\n",
    "\n",
    "\n",
    "Sin detección de sonido ni movimiento, y sin luminosidad (podría ser 04:00am). Luz apagada."
   ]
  },
  {
   "cell_type": "code",
   "execution_count": 42,
   "metadata": {
    "collapsed": false,
    "deletable": true,
    "editable": true
   },
   "outputs": [
    {
     "ename": "TypeError",
     "evalue": "normalizar() missing 1 required positional argument: 'value'",
     "output_type": "error",
     "traceback": [
      "\u001b[0;31m---------------------------------------------------------------------------\u001b[0m",
      "\u001b[0;31mTypeError\u001b[0m                                 Traceback (most recent call last)",
      "\u001b[0;32m<ipython-input-42-764ffc670811>\u001b[0m in \u001b[0;36m<module>\u001b[0;34m()\u001b[0m\n\u001b[1;32m      4\u001b[0m \u001b[0msound_1m\u001b[0m \u001b[0;34m=\u001b[0m \u001b[0;36m35\u001b[0m\u001b[0;34m\u001b[0m\u001b[0m\n\u001b[1;32m      5\u001b[0m \u001b[0;34m\u001b[0m\u001b[0m\n\u001b[0;32m----> 6\u001b[0;31m \u001b[0mnew_test_scaled\u001b[0m \u001b[0;34m=\u001b[0m \u001b[0;34m[\u001b[0m\u001b[0;34m[\u001b[0m \u001b[0mnormalizar\u001b[0m\u001b[0;34m(\u001b[0m\u001b[0;36m1\u001b[0m\u001b[0;34m,\u001b[0m \u001b[0mlight\u001b[0m\u001b[0;34m)\u001b[0m\u001b[0;34m,\u001b[0m \u001b[0;36m0\u001b[0m\u001b[0;34m,\u001b[0m \u001b[0mnormalizar\u001b[0m\u001b[0;34m(\u001b[0m\u001b[0;36m3\u001b[0m\u001b[0;34m,\u001b[0m \u001b[0msound\u001b[0m\u001b[0;34m)\u001b[0m\u001b[0;34m,\u001b[0m \u001b[0;36m0\u001b[0m\u001b[0;34m,\u001b[0m \u001b[0mnormalizar\u001b[0m\u001b[0;34m(\u001b[0m\u001b[0;36m1\u001b[0m\u001b[0;34m,\u001b[0m \u001b[0mlight_1m\u001b[0m\u001b[0;34m)\u001b[0m\u001b[0;34m,\u001b[0m \u001b[0;36m0\u001b[0m\u001b[0;34m,\u001b[0m \u001b[0mnormalizar\u001b[0m\u001b[0;34m(\u001b[0m\u001b[0;36m3\u001b[0m\u001b[0;34m,\u001b[0m \u001b[0msound_1m\u001b[0m\u001b[0;34m)\u001b[0m \u001b[0;34m]\u001b[0m\u001b[0;34m]\u001b[0m\u001b[0;34m\u001b[0m\u001b[0m\n\u001b[0m\u001b[1;32m      7\u001b[0m \u001b[0mnew_test_scaled\u001b[0m\u001b[0;34m\u001b[0m\u001b[0m\n",
      "\u001b[0;31mTypeError\u001b[0m: normalizar() missing 1 required positional argument: 'value'"
     ]
    }
   ],
   "source": [
    "light = 0\n",
    "light_1m = 0\n",
    "sound = 34\n",
    "sound_1m = 35\n",
    "\n",
    "new_test_scaled = [[ normalizar(1, light), 0, normalizar(3, sound), 0, normalizar(1, light_1m), 0, normalizar(3, sound_1m) ]]\n",
    "new_test_scaled"
   ]
  },
  {
   "cell_type": "code",
   "execution_count": null,
   "metadata": {
    "collapsed": false,
    "deletable": true,
    "editable": true
   },
   "outputs": [],
   "source": [
    "clf_predict_new_test = clf_model_state.predict(new_test_scaled)\n",
    "print(\"Resultado: \", clf_predict_new_test)"
   ]
  },
  {
   "cell_type": "markdown",
   "metadata": {
    "deletable": true,
    "editable": true
   },
   "source": [
    "**Resultado correcto, se esperaría la luz apagada**"
   ]
  },
  {
   "cell_type": "markdown",
   "metadata": {
    "deletable": true,
    "editable": true
   },
   "source": [
    "### Ejemplo 2:\n",
    "Sin detección de sonido ni movimiento, pero con alta luminosidad (podría ser 12:00am cuando no hay nadie en casa) y luz apagada."
   ]
  },
  {
   "cell_type": "code",
   "execution_count": null,
   "metadata": {
    "collapsed": false,
    "deletable": true,
    "editable": true
   },
   "outputs": [],
   "source": [
    "light = 500\n",
    "light_1m = 490\n",
    "sound = 45\n",
    "sound_1m = 47\n",
    "\n",
    "new_test_scaled = [[ normalizar(1, light), 0, normalizar(3, sound), 0, normalizar(1, light_1m), 0, normalizar(3, sound_1m) ]]\n",
    "new_test_scaled"
   ]
  },
  {
   "cell_type": "code",
   "execution_count": null,
   "metadata": {
    "collapsed": false,
    "deletable": true,
    "editable": true
   },
   "outputs": [],
   "source": [
    "clf_predict_new_test = clf_model_state.predict(new_test_scaled)\n",
    "print(\"Resultado: \", clf_predict_new_test)"
   ]
  },
  {
   "cell_type": "markdown",
   "metadata": {
    "deletable": true,
    "editable": true
   },
   "source": [
    "**Resultado incorrecto, no debería recomendar luz encendida**"
   ]
  },
  {
   "cell_type": "markdown",
   "metadata": {
    "deletable": true,
    "editable": true
   },
   "source": [
    "### Ejemplo 3:\n",
    "Detección de sonido y movimiento con alta luminosidad (podría ser 15:00hs) y luz apagada."
   ]
  },
  {
   "cell_type": "code",
   "execution_count": null,
   "metadata": {
    "collapsed": true,
    "deletable": true,
    "editable": true
   },
   "outputs": [],
   "source": [
    "X_new_test = pd.DataFrame([[ 450, 1, 60, 0, 448, 1, 59 ]],columns=luxState_feature_names)\n"
   ]
  },
  {
   "cell_type": "code",
   "execution_count": null,
   "metadata": {
    "collapsed": false,
    "deletable": true,
    "editable": true
   },
   "outputs": [],
   "source": [
    "clf_predict_new_test = clf_model_state.predict(X_new_test)\n",
    "print (\"Resultado: \", clf_predict_new_test)"
   ]
  },
  {
   "cell_type": "markdown",
   "metadata": {
    "deletable": true,
    "editable": true
   },
   "source": [
    "**Resultado incorrecto, no debería recomendar luz encendida**"
   ]
  },
  {
   "cell_type": "markdown",
   "metadata": {
    "deletable": true,
    "editable": true
   },
   "source": [
    "### Ejemplo 4:\n",
    "Detección de sonido y movimiento por la noche, luz en estado encendido (podría ser 21:00hs)"
   ]
  },
  {
   "cell_type": "code",
   "execution_count": null,
   "metadata": {
    "collapsed": false,
    "deletable": true,
    "editable": true
   },
   "outputs": [],
   "source": [
    "X_new_test = pd.DataFrame([[ 80, 1, 50, 0, 80, 1, 51 ]],columns=luxState_feature_names)\n",
    "clf_predict_new_test = clf_model_state.predict(X_new_test)\n",
    "\n",
    "print (\"Resultado: \", clf_predict_new_test)"
   ]
  },
  {
   "cell_type": "markdown",
   "metadata": {
    "deletable": true,
    "editable": true
   },
   "source": [
    "**Resultado correcto, la luz debe permanecer encendida**"
   ]
  },
  {
   "cell_type": "code",
   "execution_count": null,
   "metadata": {
    "collapsed": true,
    "deletable": true,
    "editable": true
   },
   "outputs": [],
   "source": []
  }
 ],
 "metadata": {
  "kernelspec": {
   "display_name": "Python 3",
   "language": "python",
   "name": "python3"
  },
  "language_info": {
   "codemirror_mode": {
    "name": "ipython",
    "version": 3
   },
   "file_extension": ".py",
   "mimetype": "text/x-python",
   "name": "python",
   "nbconvert_exporter": "python",
   "pygments_lexer": "ipython3",
   "version": "3.5.4"
  }
 },
 "nbformat": 4,
 "nbformat_minor": 2
}
