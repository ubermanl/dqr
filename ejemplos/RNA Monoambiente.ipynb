{
 "cells": [
  {
   "cell_type": "markdown",
   "metadata": {
    "deletable": true,
    "editable": true
   },
   "source": [
    "# Prueba de Red Neuronal Artificial con Back Propagation\n",
    "\n",
    "Para esta prueba utilizo un dataset generado por un script (generar-dataset.sh), en el que se simula a un usuario en un monoambiente, con hábitos muy marcados: De 23hs a 7:00hs duerme. De 7:00 a 7:30 se prepara para salir. De 7:30 a 18:30hs, los días de la semana está fuera del ambiente. Durante el fin de semana está presente. De 18:30hs a 19:30hs hay actividad variada (puede haber distintos niveles de sonido, puede o no estár prendida la luz, etc.). De 19:30 a 23hs hay actividad y la luz está prendida.\n",
    "\n",
    "La idea es crear una red neuronal artifial que de como resultado el estado esperado del dispositivo de luz: Prendido/Apagado. Esta RNA debería además corregir los pesos de las funciones a medida que se entrena.\n",
    "\n",
    "\n",
    "**IMPORTANTE:** Quiza el sensor de luminosidad debería tener el valor opuesto, ya que uno espera que la luz se prenda cuando HAY actividad y hay un nivel de luz muy bajo. Al mismo tiempo, si hay un nivel de luminosidad ALTO, el sistema no puede sacar como conclusión que hay que apagar la luz, porque entraríamos en un loop.\n"
   ]
  },
  {
   "cell_type": "markdown",
   "metadata": {
    "deletable": true,
    "editable": true
   },
   "source": [
    "### Formato de los datos\n",
    "Los datos creados por el script generar-dataset.sh están en el siguiente formato:\n",
    "\n",
    "\n",
    "| Nombre | Tipo | Descripción | Ej. Valor |\n",
    "|--------|------|---------|-------------|---------|\n",
    "| **mes** | tinyint | Número de mes | 1 a 12 |\n",
    "| **diaSemana** | tinyint | Número de día de la semana (Lunes 1, etc.) | 1 a 7 |\n",
    "| **hora** | tinyint | Hora | 0 a 23 |\n",
    "| **minuto** | tinyint | Minuto | 0 a 59 |\n",
    "| **idSensor** | smallint | Identificador unico del sensor | 10123 |\n",
    "| **sensCorriente** | smallint | Medición de corriente del dispositivo Lux asociado en miliamperes | 230 |\n",
    "| **sensLuminosidad** | smallint | Medición del sensor de luminosidad, donde 0 = oscuro, 1 = muy iluminado | 0.871 |\n",
    "| **sensSonido ** | smallint | Medición del sensor de sonido, donde 0 = silencio, 1 = alto nivel de sonoridad | 0.232 |\n",
    "| **sensPresencia** | smallint | Medición del sensor de presencia, donde 0 = sin movimientos, 1 = hay movimientos | 0.856 |\n",
    "| **estadoLuz** | tinyint | Indicador de estado del dispositivo Lux, donde 0 = apagado y 1 = encendido | 1 |\n",
    "\n"
   ]
  },
  {
   "cell_type": "markdown",
   "metadata": {
    "deletable": true,
    "editable": true
   },
   "source": [
    "### Cargo algunas librerías necesarias\n",
    "\n",
    "Librerías usadas durante este ejercicio:\n",
    "* Pandas: para manipulación de grandes volúmenes de datos, en este caso importando de un csv a un array\n",
    "* Matplot: Para hacer gráficos en 2D\n",
    "* Numpy: Para computación científica y funciones matemáticas en general."
   ]
  },
  {
   "cell_type": "code",
   "execution_count": 30,
   "metadata": {
    "collapsed": false,
    "deletable": true,
    "editable": true
   },
   "outputs": [],
   "source": [
    "import pandas as pd\n",
    "import matplotlib.pyplot as plt\n",
    "import numpy as np"
   ]
  },
  {
   "cell_type": "markdown",
   "metadata": {
    "deletable": true,
    "editable": true
   },
   "source": [
    "Además, más abajo voy a estar usando Scikit Learn: Un módulo que provée algoritmos de evaluación, entrenamiento y machine learning en general.\n",
    "\n",
    "Esta línea es para que los gráficos se impriman dentro de Jupyter Notebook"
   ]
  },
  {
   "cell_type": "code",
   "execution_count": 31,
   "metadata": {
    "collapsed": true,
    "deletable": true,
    "editable": true
   },
   "outputs": [],
   "source": [
    "%matplotlib inline"
   ]
  },
  {
   "cell_type": "markdown",
   "metadata": {
    "deletable": true,
    "editable": true
   },
   "source": [
    "### Dataset\n",
    "Cargo el dataset (previamente creado) y examino sus propiedades"
   ]
  },
  {
   "cell_type": "code",
   "execution_count": 32,
   "metadata": {
    "collapsed": false,
    "deletable": true,
    "editable": true
   },
   "outputs": [
    {
     "data": {
      "text/plain": [
       "(129601, 10)"
      ]
     },
     "execution_count": 32,
     "metadata": {},
     "output_type": "execute_result"
    }
   ],
   "source": [
    "df = pd.read_csv(\"./dataset.txt\")\n",
    "df.shape"
   ]
  },
  {
   "cell_type": "markdown",
   "metadata": {
    "deletable": true,
    "editable": true
   },
   "source": [
    "El dataset tiene 129601 registros de 10 campos. La cantidad de registros está dada por 1 encabezado + 1 reg/min x 60 min x 24 horas x 90 días. Las columnas son las que se definen más arriba, y están organizadas de esta forma:"
   ]
  },
  {
   "cell_type": "code",
   "execution_count": 33,
   "metadata": {
    "collapsed": false,
    "deletable": true,
    "editable": true
   },
   "outputs": [
    {
     "data": {
      "text/html": [
       "<div>\n",
       "<table border=\"1\" class=\"dataframe\">\n",
       "  <thead>\n",
       "    <tr style=\"text-align: right;\">\n",
       "      <th></th>\n",
       "      <th>mes</th>\n",
       "      <th>diaSemana</th>\n",
       "      <th>hora</th>\n",
       "      <th>minuto</th>\n",
       "      <th>idSensor</th>\n",
       "      <th>sensCorriente</th>\n",
       "      <th>sensLuminosidad</th>\n",
       "      <th>sensSonido</th>\n",
       "      <th>sensPresencia</th>\n",
       "      <th>estadoLuz</th>\n",
       "    </tr>\n",
       "  </thead>\n",
       "  <tbody>\n",
       "    <tr>\n",
       "      <th>0</th>\n",
       "      <td>1</td>\n",
       "      <td>7</td>\n",
       "      <td>0</td>\n",
       "      <td>1</td>\n",
       "      <td>1020</td>\n",
       "      <td>0</td>\n",
       "      <td>0.025</td>\n",
       "      <td>0.042</td>\n",
       "      <td>0.05</td>\n",
       "      <td>0</td>\n",
       "    </tr>\n",
       "    <tr>\n",
       "      <th>1</th>\n",
       "      <td>1</td>\n",
       "      <td>7</td>\n",
       "      <td>0</td>\n",
       "      <td>2</td>\n",
       "      <td>1020</td>\n",
       "      <td>0</td>\n",
       "      <td>0.024</td>\n",
       "      <td>0.067</td>\n",
       "      <td>0.04</td>\n",
       "      <td>0</td>\n",
       "    </tr>\n",
       "    <tr>\n",
       "      <th>2</th>\n",
       "      <td>1</td>\n",
       "      <td>7</td>\n",
       "      <td>0</td>\n",
       "      <td>3</td>\n",
       "      <td>1020</td>\n",
       "      <td>0</td>\n",
       "      <td>0.024</td>\n",
       "      <td>0.059</td>\n",
       "      <td>0.01</td>\n",
       "      <td>0</td>\n",
       "    </tr>\n",
       "    <tr>\n",
       "      <th>3</th>\n",
       "      <td>1</td>\n",
       "      <td>7</td>\n",
       "      <td>0</td>\n",
       "      <td>4</td>\n",
       "      <td>1020</td>\n",
       "      <td>0</td>\n",
       "      <td>0.020</td>\n",
       "      <td>0.087</td>\n",
       "      <td>0.01</td>\n",
       "      <td>0</td>\n",
       "    </tr>\n",
       "    <tr>\n",
       "      <th>4</th>\n",
       "      <td>1</td>\n",
       "      <td>7</td>\n",
       "      <td>0</td>\n",
       "      <td>5</td>\n",
       "      <td>1020</td>\n",
       "      <td>0</td>\n",
       "      <td>0.020</td>\n",
       "      <td>0.068</td>\n",
       "      <td>0.01</td>\n",
       "      <td>0</td>\n",
       "    </tr>\n",
       "  </tbody>\n",
       "</table>\n",
       "</div>"
      ],
      "text/plain": [
       "   mes  diaSemana  hora  minuto  idSensor  sensCorriente  sensLuminosidad  \\\n",
       "0    1          7     0       1      1020              0            0.025   \n",
       "1    1          7     0       2      1020              0            0.024   \n",
       "2    1          7     0       3      1020              0            0.024   \n",
       "3    1          7     0       4      1020              0            0.020   \n",
       "4    1          7     0       5      1020              0            0.020   \n",
       "\n",
       "   sensSonido  sensPresencia  estadoLuz  \n",
       "0       0.042           0.05          0  \n",
       "1       0.067           0.04          0  \n",
       "2       0.059           0.01          0  \n",
       "3       0.087           0.01          0  \n",
       "4       0.068           0.01          0  "
      ]
     },
     "execution_count": 33,
     "metadata": {},
     "output_type": "execute_result"
    }
   ],
   "source": [
    "df.head()"
   ]
  },
  {
   "cell_type": "code",
   "execution_count": 34,
   "metadata": {
    "collapsed": false,
    "deletable": true,
    "editable": true
   },
   "outputs": [
    {
     "data": {
      "text/html": [
       "<div>\n",
       "<table border=\"1\" class=\"dataframe\">\n",
       "  <thead>\n",
       "    <tr style=\"text-align: right;\">\n",
       "      <th></th>\n",
       "      <th>mes</th>\n",
       "      <th>diaSemana</th>\n",
       "      <th>hora</th>\n",
       "      <th>minuto</th>\n",
       "      <th>idSensor</th>\n",
       "      <th>sensCorriente</th>\n",
       "      <th>sensLuminosidad</th>\n",
       "      <th>sensSonido</th>\n",
       "      <th>sensPresencia</th>\n",
       "      <th>estadoLuz</th>\n",
       "    </tr>\n",
       "  </thead>\n",
       "  <tbody>\n",
       "    <tr>\n",
       "      <th>129596</th>\n",
       "      <td>3</td>\n",
       "      <td>5</td>\n",
       "      <td>23</td>\n",
       "      <td>57</td>\n",
       "      <td>1020</td>\n",
       "      <td>0</td>\n",
       "      <td>0.809</td>\n",
       "      <td>0.129</td>\n",
       "      <td>0.019</td>\n",
       "      <td>0</td>\n",
       "    </tr>\n",
       "    <tr>\n",
       "      <th>129597</th>\n",
       "      <td>3</td>\n",
       "      <td>5</td>\n",
       "      <td>23</td>\n",
       "      <td>58</td>\n",
       "      <td>1020</td>\n",
       "      <td>0</td>\n",
       "      <td>0.809</td>\n",
       "      <td>0.143</td>\n",
       "      <td>0.016</td>\n",
       "      <td>0</td>\n",
       "    </tr>\n",
       "    <tr>\n",
       "      <th>129598</th>\n",
       "      <td>4</td>\n",
       "      <td>6</td>\n",
       "      <td>23</td>\n",
       "      <td>59</td>\n",
       "      <td>1020</td>\n",
       "      <td>0</td>\n",
       "      <td>0.809</td>\n",
       "      <td>0.134</td>\n",
       "      <td>0.088</td>\n",
       "      <td>0</td>\n",
       "    </tr>\n",
       "    <tr>\n",
       "      <th>129599</th>\n",
       "      <td>4</td>\n",
       "      <td>6</td>\n",
       "      <td>0</td>\n",
       "      <td>0</td>\n",
       "      <td>1020</td>\n",
       "      <td>0</td>\n",
       "      <td>0.024</td>\n",
       "      <td>0.044</td>\n",
       "      <td>0.080</td>\n",
       "      <td>0</td>\n",
       "    </tr>\n",
       "    <tr>\n",
       "      <th>129600</th>\n",
       "      <td>4</td>\n",
       "      <td>6</td>\n",
       "      <td>0</td>\n",
       "      <td>1</td>\n",
       "      <td>1020</td>\n",
       "      <td>0</td>\n",
       "      <td>0.028</td>\n",
       "      <td>0.071</td>\n",
       "      <td>0.080</td>\n",
       "      <td>0</td>\n",
       "    </tr>\n",
       "  </tbody>\n",
       "</table>\n",
       "</div>"
      ],
      "text/plain": [
       "        mes  diaSemana  hora  minuto  idSensor  sensCorriente  \\\n",
       "129596    3          5    23      57      1020              0   \n",
       "129597    3          5    23      58      1020              0   \n",
       "129598    4          6    23      59      1020              0   \n",
       "129599    4          6     0       0      1020              0   \n",
       "129600    4          6     0       1      1020              0   \n",
       "\n",
       "        sensLuminosidad  sensSonido  sensPresencia  estadoLuz  \n",
       "129596            0.809       0.129          0.019          0  \n",
       "129597            0.809       0.143          0.016          0  \n",
       "129598            0.809       0.134          0.088          0  \n",
       "129599            0.024       0.044          0.080          0  \n",
       "129600            0.028       0.071          0.080          0  "
      ]
     },
     "execution_count": 34,
     "metadata": {},
     "output_type": "execute_result"
    }
   ],
   "source": [
    "df.tail()"
   ]
  },
  {
   "cell_type": "markdown",
   "metadata": {
    "deletable": true,
    "editable": true
   },
   "source": [
    "### Chequeo de valores null, no debería haber\n",
    "Dado que el dataset se creó manualmente, todos los datos fueron completados. En la práctica, algunos valores pueden faltar ya que no todos los sensores se instalan exactamente al mismo tiempo."
   ]
  },
  {
   "cell_type": "code",
   "execution_count": 35,
   "metadata": {
    "collapsed": false,
    "deletable": true,
    "editable": true
   },
   "outputs": [
    {
     "data": {
      "text/plain": [
       "False"
      ]
     },
     "execution_count": 35,
     "metadata": {},
     "output_type": "execute_result"
    }
   ],
   "source": [
    "df.isnull().values.any()"
   ]
  },
  {
   "cell_type": "markdown",
   "metadata": {
    "collapsed": true,
    "deletable": true,
    "editable": true
   },
   "source": [
    "### Función de correlación\n",
    "Hace una matriz de correlación entre las variables. Cuanto más claro el color, mayor correlación entre las variables. La diagonal debería ser amarilla, y representa la correlación de una variable con sí misma.\n",
    "\n",
    "Esta función tiene dos entradas:\n",
    "1. El dataframe panda a analizar\n",
    "2. El tamáño de gráfico que se quiere imprimir"
   ]
  },
  {
   "cell_type": "code",
   "execution_count": 36,
   "metadata": {
    "collapsed": true,
    "deletable": true,
    "editable": true
   },
   "outputs": [],
   "source": [
    "def plot_corr(df, size=14):\n",
    "    corr = df.corr()    # data frame correlation function\n",
    "    fig, ax = plt.subplots(figsize=(size, size))\n",
    "    ax.matshow(corr)   # color code the rectangles by correlation value\n",
    "    plt.xticks(range(len(corr.columns)), corr.columns)  # draw x tick marks\n",
    "    plt.yticks(range(len(corr.columns)), corr.columns)  # draw y tick marks"
   ]
  },
  {
   "cell_type": "code",
   "execution_count": 37,
   "metadata": {
    "collapsed": false,
    "deletable": true,
    "editable": true
   },
   "outputs": [
    {
     "data": {
      "image/png": "[encoded data removed]",
      "text/plain": [
       "<matplotlib.figure.Figure at 0x7f727e50e0f0>"
      ]
     },
     "metadata": {},
     "output_type": "display_data"
    }
   ],
   "source": [
    "plot_corr(df)"
   ]
  },
  {
   "cell_type": "code",
   "execution_count": 38,
   "metadata": {
    "collapsed": false,
    "deletable": true,
    "editable": true
   },
   "outputs": [
    {
     "data": {
      "text/html": [
       "<div>\n",
       "<table border=\"1\" class=\"dataframe\">\n",
       "  <thead>\n",
       "    <tr style=\"text-align: right;\">\n",
       "      <th></th>\n",
       "      <th>mes</th>\n",
       "      <th>diaSemana</th>\n",
       "      <th>hora</th>\n",
       "      <th>minuto</th>\n",
       "      <th>idSensor</th>\n",
       "      <th>sensCorriente</th>\n",
       "      <th>sensLuminosidad</th>\n",
       "      <th>sensSonido</th>\n",
       "      <th>sensPresencia</th>\n",
       "      <th>estadoLuz</th>\n",
       "    </tr>\n",
       "  </thead>\n",
       "  <tbody>\n",
       "    <tr>\n",
       "      <th>mes</th>\n",
       "      <td>1.000000</td>\n",
       "      <td>0.013472</td>\n",
       "      <td>-0.000031</td>\n",
       "      <td>-0.000031</td>\n",
       "      <td>NaN</td>\n",
       "      <td>-0.007233</td>\n",
       "      <td>-0.002119</td>\n",
       "      <td>-0.011339</td>\n",
       "      <td>-0.032013</td>\n",
       "      <td>-0.007176</td>\n",
       "    </tr>\n",
       "    <tr>\n",
       "      <th>diaSemana</th>\n",
       "      <td>0.013472</td>\n",
       "      <td>1.000000</td>\n",
       "      <td>-0.000013</td>\n",
       "      <td>-0.000013</td>\n",
       "      <td>NaN</td>\n",
       "      <td>0.119509</td>\n",
       "      <td>0.055630</td>\n",
       "      <td>0.200783</td>\n",
       "      <td>0.237936</td>\n",
       "      <td>0.119782</td>\n",
       "    </tr>\n",
       "    <tr>\n",
       "      <th>hora</th>\n",
       "      <td>-0.000031</td>\n",
       "      <td>-0.000013</td>\n",
       "      <td>1.000000</td>\n",
       "      <td>0.000021</td>\n",
       "      <td>NaN</td>\n",
       "      <td>0.495058</td>\n",
       "      <td>0.833570</td>\n",
       "      <td>0.456487</td>\n",
       "      <td>0.460464</td>\n",
       "      <td>0.495724</td>\n",
       "    </tr>\n",
       "    <tr>\n",
       "      <th>minuto</th>\n",
       "      <td>-0.000031</td>\n",
       "      <td>-0.000013</td>\n",
       "      <td>0.000021</td>\n",
       "      <td>1.000000</td>\n",
       "      <td>NaN</td>\n",
       "      <td>-0.005743</td>\n",
       "      <td>0.010612</td>\n",
       "      <td>-0.025359</td>\n",
       "      <td>0.014685</td>\n",
       "      <td>-0.005761</td>\n",
       "    </tr>\n",
       "    <tr>\n",
       "      <th>idSensor</th>\n",
       "      <td>NaN</td>\n",
       "      <td>NaN</td>\n",
       "      <td>NaN</td>\n",
       "      <td>NaN</td>\n",
       "      <td>NaN</td>\n",
       "      <td>NaN</td>\n",
       "      <td>NaN</td>\n",
       "      <td>NaN</td>\n",
       "      <td>NaN</td>\n",
       "      <td>NaN</td>\n",
       "    </tr>\n",
       "    <tr>\n",
       "      <th>sensCorriente</th>\n",
       "      <td>-0.007233</td>\n",
       "      <td>0.119509</td>\n",
       "      <td>0.495058</td>\n",
       "      <td>-0.005743</td>\n",
       "      <td>NaN</td>\n",
       "      <td>1.000000</td>\n",
       "      <td>0.671647</td>\n",
       "      <td>0.802611</td>\n",
       "      <td>0.530242</td>\n",
       "      <td>0.998225</td>\n",
       "    </tr>\n",
       "    <tr>\n",
       "      <th>sensLuminosidad</th>\n",
       "      <td>-0.002119</td>\n",
       "      <td>0.055630</td>\n",
       "      <td>0.833570</td>\n",
       "      <td>0.010612</td>\n",
       "      <td>NaN</td>\n",
       "      <td>0.671647</td>\n",
       "      <td>1.000000</td>\n",
       "      <td>0.711100</td>\n",
       "      <td>0.545424</td>\n",
       "      <td>0.672811</td>\n",
       "    </tr>\n",
       "    <tr>\n",
       "      <th>sensSonido</th>\n",
       "      <td>-0.011339</td>\n",
       "      <td>0.200783</td>\n",
       "      <td>0.456487</td>\n",
       "      <td>-0.025359</td>\n",
       "      <td>NaN</td>\n",
       "      <td>0.802611</td>\n",
       "      <td>0.711100</td>\n",
       "      <td>1.000000</td>\n",
       "      <td>0.530075</td>\n",
       "      <td>0.804488</td>\n",
       "    </tr>\n",
       "    <tr>\n",
       "      <th>sensPresencia</th>\n",
       "      <td>-0.032013</td>\n",
       "      <td>0.237936</td>\n",
       "      <td>0.460464</td>\n",
       "      <td>0.014685</td>\n",
       "      <td>NaN</td>\n",
       "      <td>0.530242</td>\n",
       "      <td>0.545424</td>\n",
       "      <td>0.530075</td>\n",
       "      <td>1.000000</td>\n",
       "      <td>0.530975</td>\n",
       "    </tr>\n",
       "    <tr>\n",
       "      <th>estadoLuz</th>\n",
       "      <td>-0.007176</td>\n",
       "      <td>0.119782</td>\n",
       "      <td>0.495724</td>\n",
       "      <td>-0.005761</td>\n",
       "      <td>NaN</td>\n",
       "      <td>0.998225</td>\n",
       "      <td>0.672811</td>\n",
       "      <td>0.804488</td>\n",
       "      <td>0.530975</td>\n",
       "      <td>1.000000</td>\n",
       "    </tr>\n",
       "  </tbody>\n",
       "</table>\n",
       "</div>"
      ],
      "text/plain": [
       "                      mes  diaSemana      hora    minuto  idSensor  \\\n",
       "mes              1.000000   0.013472 -0.000031 -0.000031       NaN   \n",
       "diaSemana        0.013472   1.000000 -0.000013 -0.000013       NaN   \n",
       "hora            -0.000031  -0.000013  1.000000  0.000021       NaN   \n",
       "minuto          -0.000031  -0.000013  0.000021  1.000000       NaN   \n",
       "idSensor              NaN        NaN       NaN       NaN       NaN   \n",
       "sensCorriente   -0.007233   0.119509  0.495058 -0.005743       NaN   \n",
       "sensLuminosidad -0.002119   0.055630  0.833570  0.010612       NaN   \n",
       "sensSonido      -0.011339   0.200783  0.456487 -0.025359       NaN   \n",
       "sensPresencia   -0.032013   0.237936  0.460464  0.014685       NaN   \n",
       "estadoLuz       -0.007176   0.119782  0.495724 -0.005761       NaN   \n",
       "\n",
       "                 sensCorriente  sensLuminosidad  sensSonido  sensPresencia  \\\n",
       "mes                  -0.007233        -0.002119   -0.011339      -0.032013   \n",
       "diaSemana             0.119509         0.055630    0.200783       0.237936   \n",
       "hora                  0.495058         0.833570    0.456487       0.460464   \n",
       "minuto               -0.005743         0.010612   -0.025359       0.014685   \n",
       "idSensor                   NaN              NaN         NaN            NaN   \n",
       "sensCorriente         1.000000         0.671647    0.802611       0.530242   \n",
       "sensLuminosidad       0.671647         1.000000    0.711100       0.545424   \n",
       "sensSonido            0.802611         0.711100    1.000000       0.530075   \n",
       "sensPresencia         0.530242         0.545424    0.530075       1.000000   \n",
       "estadoLuz             0.998225         0.672811    0.804488       0.530975   \n",
       "\n",
       "                 estadoLuz  \n",
       "mes              -0.007176  \n",
       "diaSemana         0.119782  \n",
       "hora              0.495724  \n",
       "minuto           -0.005761  \n",
       "idSensor               NaN  \n",
       "sensCorriente     0.998225  \n",
       "sensLuminosidad   0.672811  \n",
       "sensSonido        0.804488  \n",
       "sensPresencia     0.530975  \n",
       "estadoLuz         1.000000  "
      ]
     },
     "execution_count": 38,
     "metadata": {},
     "output_type": "execute_result"
    }
   ],
   "source": [
    "df.corr()"
   ]
  },
  {
   "cell_type": "markdown",
   "metadata": {
    "deletable": true,
    "editable": true
   },
   "source": [
    "La columna idSensor no provee información que sirva a la red neuronal, es solo un valor constante. Por otro lado, el sensor de corriente provee un valor que va a estar relacionado casi 1 a 1 con estadoLuz, ya que es lo que queremos averiguar, así que puedo eliminar ambas columnas."
   ]
  },
  {
   "cell_type": "code",
   "execution_count": 39,
   "metadata": {
    "collapsed": true,
    "deletable": true,
    "editable": true
   },
   "outputs": [],
   "source": [
    "del df['idSensor']\n",
    "del df['sensCorriente']"
   ]
  },
  {
   "cell_type": "code",
   "execution_count": 40,
   "metadata": {
    "collapsed": false,
    "deletable": true,
    "editable": true
   },
   "outputs": [
    {
     "data": {
      "image/png": "[encoded data removed]",
      "text/plain": [
       "<matplotlib.figure.Figure at 0x7f727e5ce3c8>"
      ]
     },
     "metadata": {},
     "output_type": "display_data"
    }
   ],
   "source": [
    "plot_corr(df)"
   ]
  },
  {
   "cell_type": "markdown",
   "metadata": {
    "deletable": true,
    "editable": true
   },
   "source": [
    "De esta nueva versión del gráfico puedo sacar algunas conclusiones a simple vista:\n",
    "1. No existe una correlación 1 a 1 entre ningún par de variables (lo que es bueno)\n",
    "2. No exite correlación entre \"mes\" y \"diaSemana\" (lo que tiene sentido)\n",
    "3. Existe cierta correlación entre los sensores con la hora o el día.\n",
    "4. Existe una mayor correlación (colores más claros) entre los distintos sensores entre sí\n",
    "\n",
    "Entonces, parece que los datos en el dataset creado a mano tienen el sentido que se le quiso dar. Lo realmente interesante va a ser obtener estos datos del mundo real y ver que relaciones surgen.\n",
    "\n",
    "\n",
    "\n",
    "### Chequeo de distribución de clases\n",
    "Debería haber dos clases, la clase en la que el dispositivo esa prendido (estadoLuz = 1) y la clase en la que está apagado."
   ]
  },
  {
   "cell_type": "code",
   "execution_count": 41,
   "metadata": {
    "collapsed": false,
    "deletable": true,
    "editable": true
   },
   "outputs": [
    {
     "name": "stdout",
     "output_type": "stream",
     "text": [
      "Número de casos verdaderos:  28506 (22.00%)\n",
      "Número de casos falsos: 101095 (78.00%)\n"
     ]
    }
   ],
   "source": [
    "num_obs = len(df)\n",
    "num_true = len(df.loc[df['estadoLuz'] == 1])\n",
    "num_false = len(df.loc[df['estadoLuz'] == 0])\n",
    "print(\"Número de casos verdaderos:  {0} ({1:2.2f}%)\".format(num_true, (num_true/num_obs) * 100))\n",
    "print(\"Número de casos falsos: {0} ({1:2.2f}%)\".format(num_false, (num_false/num_obs) * 100))"
   ]
  },
  {
   "cell_type": "markdown",
   "metadata": {
    "deletable": true,
    "editable": true
   },
   "source": [
    "Esta distribución está un poquito desbalanceada, dado que el usuario está la mayor parte del día fuera de la oficina, y durante la noche durmiendo. Son pocas las horas de Lunes a Viernes en que está activo. Durante el fin de semana la cantidad de horas aumenta. Por ahí 60-40 hubiera estado mejor, ya que tendría más casos verdaderos para analizar. Vamos a ver como sale."
   ]
  },
  {
   "cell_type": "markdown",
   "metadata": {
    "deletable": true,
    "editable": true
   },
   "source": [
    "### Separando los datos para training y prueba\n",
    "Para poder hacer etapas de entrenamiento y prueba, voy a separar los datos. 70% para entrenamiento, 30% para prueba. Para esto voy a usar del módulo scikit-learn la función train_test_split.\n",
    "\n",
    "Los conjuntos de datos van a llamarse:\n",
    "* X_train: Datos de entrenamiento. Las 7 columnas con los valores del mes, día, sensores, etc, compuesto por el 70% de los registros\n",
    "* y_train: Resultado de entrenamiento. Columna *estadoLuz* para el 70% de los registros\n",
    "* X_test: Datos para hacer la validación. Tienen el mismo formato que X_train, pero corresponden al 30% del conjunto de datos\n",
    "* y_test: Resultados para validar la performance del algoritmo aplicado a X_test\n",
    "\n",
    "O puesto de otro modo:\n",
    "\n",
    "| Entrada (7 columnas) | Salida (1 columna)| \n",
    "|-------------|--------|\n",
    "| X_train (70%) | y_train|\n",
    "| X_test (30%)| y_test |"
   ]
  },
  {
   "cell_type": "code",
   "execution_count": 42,
   "metadata": {
    "collapsed": false,
    "deletable": true,
    "editable": true
   },
   "outputs": [],
   "source": [
    "from sklearn.model_selection import train_test_split\n",
    "\n",
    "feature_col_names = ['mes', 'diaSemana', 'hora', 'minuto', 'sensLuminosidad', 'sensSonido', 'sensPresencia']\n",
    "predicted_class_names = ['estadoLuz']\n",
    "\n",
    "X = df[feature_col_names].values     # Columnas del predictor (7 X m)\n",
    "y = df[predicted_class_names].values # Clase predecida (1=verdadero, 0=falso) column (1 X m)\n",
    "split_test_size = 0.30               # 0.30 es 30%, el tamaño para pruebas\n",
    "\n",
    "# 42 es una respuesta común\n",
    "X_train, X_test, y_train, y_test = train_test_split(X, y, test_size=split_test_size, random_state=42)"
   ]
  },
  {
   "cell_type": "markdown",
   "metadata": {
    "deletable": true,
    "editable": true
   },
   "source": [
    "Verifico que el tamaño relativo de los sets de entrenamiento y prueba sea lo más cercano a 70-30 posible:"
   ]
  },
  {
   "cell_type": "code",
   "execution_count": 43,
   "metadata": {
    "collapsed": false,
    "deletable": true,
    "editable": true
   },
   "outputs": [
    {
     "name": "stdout",
     "output_type": "stream",
     "text": [
      "70.00% en el set de entrenamiento\n",
      "30.00% en el set de prueba\n"
     ]
    }
   ],
   "source": [
    "print(\"{0:0.2f}% en el set de entrenamiento\".format((len(X_train)/len(df.index)) * 100))\n",
    "print(\"{0:0.2f}% en el set de prueba\".format((len(X_test)/len(df.index)) * 100))"
   ]
  },
  {
   "cell_type": "markdown",
   "metadata": {
    "deletable": true,
    "editable": true
   },
   "source": [
    "Verifico que la proporción de casos verdaderos y falsos se mantenga en los conjuntos de entrenamiento y test:"
   ]
  },
  {
   "cell_type": "code",
   "execution_count": 44,
   "metadata": {
    "collapsed": false,
    "deletable": true,
    "editable": true
   },
   "outputs": [
    {
     "name": "stdout",
     "output_type": "stream",
     "text": [
      "Verdaderos en el total     : 28506 (22.00%)\n",
      "Falsos en el total         : 101095 (78.00%)\n",
      "\n",
      "Verdaderos en entrenamiento: 19880 (21.91%)\n",
      "Falsos en entrenamiento    : 70840 (78.09%)\n",
      "\n",
      "Verdaderos en test         : 8626 (22.19%)\n",
      "Falsos en test             : 30255 (77.81%)\n"
     ]
    }
   ],
   "source": [
    "print(\"Verdaderos en el total     : {0} ({1:0.2f}%)\".format(len(df.loc[df['estadoLuz'] == 1]), (len(df.loc[df['estadoLuz'] == 1])/len(df.index)) * 100.0))\n",
    "print(\"Falsos en el total         : {0} ({1:0.2f}%)\".format(len(df.loc[df['estadoLuz'] == 0]), (len(df.loc[df['estadoLuz'] == 0])/len(df.index)) * 100.0))\n",
    "print(\"\")\n",
    "print(\"Verdaderos en entrenamiento: {0} ({1:0.2f}%)\".format(len(y_train[y_train[:] == 1]), (len(y_train[y_train[:] == 1])/len(y_train) * 100.0)))\n",
    "print(\"Falsos en entrenamiento    : {0} ({1:0.2f}%)\".format(len(y_train[y_train[:] == 0]), (len(y_train[y_train[:] == 0])/len(y_train) * 100.0)))\n",
    "print(\"\")\n",
    "print(\"Verdaderos en test         : {0} ({1:0.2f}%)\".format(len(y_test[y_test[:] == 1]), (len(y_test[y_test[:] == 1])/len(y_test) * 100.0)))\n",
    "print(\"Falsos en test             : {0} ({1:0.2f}%)\".format(len(y_test[y_test[:] == 0]), (len(y_test[y_test[:] == 0])/len(y_test) * 100.0)))"
   ]
  },
  {
   "cell_type": "markdown",
   "metadata": {
    "deletable": true,
    "editable": true
   },
   "source": [
    "El resultado está muy bien, la proporción se mantiene lo más cerca posible.\n"
   ]
  },
  {
   "cell_type": "markdown",
   "metadata": {
    "deletable": true,
    "editable": true
   },
   "source": [
    "### Entrenamiento inicial\n",
    "Para este entrenamiento voy a usar otro módulo de scikit-learn: neural_network. Como lo que estamos tratando de averiguar es si la luz debe estar prendida o no, estamos hablando de un algoritmo de clasificación, y por lo tanto la función que voy a usar se llama MLPClassifier, e implementa un perceptrón multi capa (MLP) que se entrena usando backpropagation.\n"
   ]
  },
  {
   "cell_type": "code",
   "execution_count": 45,
   "metadata": {
    "collapsed": false,
    "deletable": true,
    "editable": true
   },
   "outputs": [
    {
     "data": {
      "text/plain": [
       "MLPClassifier(activation='relu', alpha=0.0001, batch_size='auto', beta_1=0.9,\n",
       "       beta_2=0.999, early_stopping=False, epsilon=1e-08,\n",
       "       hidden_layer_sizes=(100,), learning_rate='constant',\n",
       "       learning_rate_init=0.001, max_iter=200, momentum=0.9,\n",
       "       nesterovs_momentum=True, power_t=0.5, random_state=1, shuffle=True,\n",
       "       solver='adam', tol=0.0001, validation_fraction=0.1, verbose=False,\n",
       "       warm_start=False)"
      ]
     },
     "execution_count": 45,
     "metadata": {},
     "output_type": "execute_result"
    }
   ],
   "source": [
    "from sklearn.neural_network import MLPClassifier\n",
    "clf_model = MLPClassifier(random_state=1)\n",
    "clf_model.fit(X_train, y_train.ravel())"
   ]
  },
  {
   "cell_type": "markdown",
   "metadata": {
    "deletable": true,
    "editable": true
   },
   "source": [
    "### Performance usando los datos de entrenamiento\n",
    "Para esto voy a importar la función metrics."
   ]
  },
  {
   "cell_type": "code",
   "execution_count": 54,
   "metadata": {
    "collapsed": false,
    "deletable": true,
    "editable": true,
    "scrolled": true
   },
   "outputs": [
    {
     "name": "stdout",
     "output_type": "stream",
     "text": [
      "Precisión en entrenamiento: 0.9924\n",
      "\n"
     ]
    }
   ],
   "source": [
    "from sklearn import metrics\n",
    "\n",
    "clf_predict_train = clf_model.predict(X_train)\n",
    "\n",
    "print(\"Precisión en entrenamiento: {0:.4f}\".format(metrics.accuracy_score(y_train, clf_predict_train)))\n",
    "print()"
   ]
  },
  {
   "cell_type": "markdown",
   "metadata": {
    "deletable": true,
    "editable": true
   },
   "source": [
    "### Performance usando los datos de prueba"
   ]
  },
  {
   "cell_type": "code",
   "execution_count": 53,
   "metadata": {
    "collapsed": false,
    "deletable": true,
    "editable": true,
    "scrolled": true
   },
   "outputs": [
    {
     "name": "stdout",
     "output_type": "stream",
     "text": [
      "Precisión en test: 0.9919\n",
      "\n"
     ]
    }
   ],
   "source": [
    "clf_predict_test = clf_model.predict(X_test)\n",
    "\n",
    "print(\"Precisión en test: {0:.4f}\".format(metrics.accuracy_score(y_test, clf_predict_test)))\n",
    "print()"
   ]
  },
  {
   "cell_type": "markdown",
   "metadata": {
    "deletable": true,
    "editable": true
   },
   "source": [
    "## Métricas\n",
    "Los resultados de las etapas de entrenamiento y prueba son muy buenos. Demasiado buenos. Hay que analizar si no hay algún otro problema que pueda causar que cuando ponga más datos (cuando analice en tiempo real la actividad del usuario), el modelo falle miserablemente.\n",
    "\n",
    "Para este análisis, voy a ver como se comparan los resultados, con el objetivo de entender si el modelo sirve o hay que hacer ajustes. Voy a usar dos herramientas:\n",
    "\n",
    "### Matriz de confusión\n",
    "https://es.wikipedia.org/wiki/Matriz_de_confusi%C3%B3n\n",
    "\n",
    "Cada columna de la matriz representa el número de predicciones de cada clase, mientras que cada fila representa a las instancias en la clase real. Uno de los beneficios de las matrices de confusión es que facilitan ver si el sistema está confundiendo dos clases. \n",
    "\n",
    "En nuestro caso, la matriz representa lo siguiente:\n",
    "\n",
    "\n",
    "| EV (Predicho Encendido y es verdad ) | EF (Predicho Encendido pero es falso) |\n",
    "|------------------------------------------------|\n",
    "| **AF (Predicho Apagado pero es Falso** | **AV (Predicho Apagado y es verdad)** |\n",
    "\n",
    "Esto quiere decir que queremos los valores más altos posibles en la diagonal, y lo más cerca posible a cero en cualquier otro lado."
   ]
  },
  {
   "cell_type": "code",
   "execution_count": 48,
   "metadata": {
    "collapsed": false,
    "deletable": true,
    "editable": true
   },
   "outputs": [
    {
     "name": "stdout",
     "output_type": "stream",
     "text": [
      "Matriz de confusión:\n",
      "[[ 8477   149]\n",
      " [  165 30090]]\n"
     ]
    }
   ],
   "source": [
    "print(\"Matriz de confusión:\")\n",
    "print(\"{0}\".format(metrics.confusion_matrix(y_test, clf_predict_test, labels=[1, 0])))"
   ]
  },
  {
   "cell_type": "markdown",
   "metadata": {
    "deletable": true,
    "editable": true
   },
   "source": [
    "Estos resultados son muy buenos, el porcentaje de acertados es altísimo. El modelo es casi perfecto. Para confirmar, hay que usar la otra herramienta.\n",
    "\n",
    "\n",
    "### Reporte de clasificación.\n",
    "Lo primero que vamos a verificar es que tan bien se hace una predición acertada cuando se requiere que el dispositivo esté encendido. Este dato, llamado \"recall\" en el reporte, esta dado por:\n",
    "\n",
    "Recall = EV / (EV + AF)\n",
    "\n",
    "Lo segundo que queremos ver es la presición, que está dada por:\n",
    "\n",
    "Precision = EV / (EV + EF)\n"
   ]
  },
  {
   "cell_type": "code",
   "execution_count": 49,
   "metadata": {
    "collapsed": false,
    "deletable": true,
    "editable": true
   },
   "outputs": [
    {
     "name": "stdout",
     "output_type": "stream",
     "text": [
      "Reporte de clasificación:\n",
      "             precision    recall  f1-score   support\n",
      "\n",
      "          1       0.98      0.98      0.98      8626\n",
      "          0       1.00      0.99      0.99     30255\n",
      "\n",
      "avg / total       0.99      0.99      0.99     38881\n",
      "\n"
     ]
    }
   ],
   "source": [
    "print(\"Reporte de clasificación:\")\n",
    "print(metrics.classification_report(y_test, clf_predict_test, labels=[1,0]))"
   ]
  },
  {
   "cell_type": "markdown",
   "metadata": {
    "collapsed": true,
    "deletable": true,
    "editable": true
   },
   "source": [
    "Según este reporte, recall = 98% y precision = 98%. El modelo es muy bueno. Esto lo adjudico al hecho de que el dataset fue creado a mano, con un hábito muy marcado.\n",
    "\n",
    "## Verificación final\n",
    "¿Qué pasaría si tengo una nueva entrada en el dataset, que representa un comportamiento del usuario registrado en un momento en particular?\n",
    "\n",
    "Por ejemplo, si digo \"El Martes a las 2:16am ladro un perro mientras el usuario dormia\", se podría traducir en un registro como:\n",
    "\n",
    "| mes |\tdiaSemana | hora | minuto | sensLuminosidad | sensSonido | sensPresencia |\n",
    "|-|\n",
    "| 4 | 2 | 2 | 16 | 0.020 | 0.400 | 0.100 |\n",
    "\n",
    "Uno esperaría que a pesar de la detección de sonido y de presencia (el usuario se mueve), la luz debería estar apagada de todos modos. Veamos que resultado muestra el modelo."
   ]
  },
  {
   "cell_type": "code",
   "execution_count": 50,
   "metadata": {
    "collapsed": false,
    "deletable": true,
    "editable": true
   },
   "outputs": [
    {
     "name": "stdout",
     "output_type": "stream",
     "text": [
      "Resultado:  [0]\n"
     ]
    }
   ],
   "source": [
    "X_new_test = [[4, 2, 2, 16, 0.02, 0.4, 0.2]]\n",
    "clf_predict_new_test = clf_model.predict(X_new_test)\n",
    "\n",
    "print (\"Resultado: \", clf_predict_new_test)"
   ]
  },
  {
   "cell_type": "markdown",
   "metadata": {
    "deletable": true,
    "editable": true
   },
   "source": [
    "El resultado es el esperado. Como dije al principio, quizá el sensor de luminosidad está demasiado relacionado con el resultado, es algo para ver. De todos modos, este modelo parece algo que podemos aplicar, extendiendolo a más de un dispositivo por ambiente.\n",
    "\n",
    "Lo otro que podemos hacer es usar la salida de esta red como entrada para una red general, que represente la casa."
   ]
  }
 ],
 "metadata": {
  "kernelspec": {
   "display_name": "Python 3",
   "language": "python",
   "name": "python3"
  },
  "language_info": {
   "codemirror_mode": {
    "name": "ipython",
    "version": 3
   },
   "file_extension": ".py",
   "mimetype": "text/x-python",
   "name": "python",
   "nbconvert_exporter": "python",
   "pygments_lexer": "ipython3",
   "version": "3.5.3"
  }
 },
 "nbformat": 4,
 "nbformat_minor": 2
}
