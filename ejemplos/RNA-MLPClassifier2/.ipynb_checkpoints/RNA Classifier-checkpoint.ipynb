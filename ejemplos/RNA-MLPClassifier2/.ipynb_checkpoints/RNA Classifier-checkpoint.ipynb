{
 "cells": [
  {
   "cell_type": "markdown",
   "metadata": {},
   "source": [
    "# Prueba de Red Neuronal Artificial con Back Propagation"
   ]
  },
  {
   "cell_type": "markdown",
   "metadata": {},
   "source": [
    "## Import de librerías"
   ]
  },
  {
   "cell_type": "code",
   "execution_count": 1,
   "metadata": {},
   "outputs": [],
   "source": [
    "import pandas as pd\n",
    "import numpy as np\n",
    "import matplotlib as mpl\n",
    "import matplotlib.pyplot as plt\n",
    "from datetime import datetime, timedelta\n",
    "from IPython.display import display\n",
    "from sklearn.cluster import KMeans\n",
    "import MySQLdb\n",
    "#from pandas.io import sql\n",
    "#from sqlalchemy import create_engine\n",
    "\n",
    "%matplotlib inline\n",
    "\n",
    "pd.options.mode.chained_assignment = None  # default='warn'"
   ]
  },
  {
   "cell_type": "markdown",
   "metadata": {},
   "source": [
    "## Configuración\n",
    "### Conexión al DWH"
   ]
  },
  {
   "cell_type": "code",
   "execution_count": 2,
   "metadata": {
    "collapsed": true
   },
   "outputs": [],
   "source": [
    "# Base de datos histórica\n",
    "dbname_hist = \"ratio_dwh\"\n",
    "dbhost_hist = \"localhost\"\n",
    "dbport_hist = 3306\n",
    "dbuser_hist = \"root\"\n",
    "dbpass_hist = \"root\"\n",
    "device_events_tbl = \"device_events\"\n",
    "device_event_sensors_tbl = \"device_event_sensors\"\n",
    "device_modules_tbl = \"device_modules\""
   ]
  },
  {
   "cell_type": "markdown",
   "metadata": {},
   "source": [
    "### Variables de configuración"
   ]
  },
  {
   "cell_type": "code",
   "execution_count": 3,
   "metadata": {
    "collapsed": true
   },
   "outputs": [],
   "source": [
    "device_id = 5                   # Device id donde esta el modulo a entrenar\n",
    "lux_module_id = 51              # Modulo a entrenar\n",
    "\n",
    "# Variables de tipos de sensores\n",
    "ACS_SENSOR_TYPE = 1\n",
    "LIGHT_SENSOR_TYPE = 2\n",
    "MOVEMENT_SENSOR_TYPE = 3\n",
    "SOUND_SENSOR_TYPE = 4\n",
    "TEMP_SENSOR_TYPE = 5"
   ]
  },
  {
   "cell_type": "markdown",
   "metadata": {},
   "source": [
    "### Funciones"
   ]
  },
  {
   "cell_type": "code",
   "execution_count": null,
   "metadata": {
    "collapsed": true
   },
   "outputs": [],
   "source": [
    "def sensorIdToStr(sensor_id):\n",
    "    return {\n",
    "        ACS_SENSOR_TYPE: 'LUX_ACS',\n",
    "        LIGHT_SENSOR_TYPE: 'LIGHT',\n",
    "        MOVEMENT_SENSOR_TYPE: 'MOVEMENT',\n",
    "        SOUND_SENSOR_TYPE: 'SOUND',\n",
    "        TEMP_SENSOR_TYPE: 'TEMPERATURE'\n",
    "    }.get(sensor_id, sensor_id)"
   ]
  },
  {
   "cell_type": "markdown",
   "metadata": {},
   "source": [
    "## Extracción de datos del DWH"
   ]
  },
  {
   "cell_type": "code",
   "execution_count": null,
   "metadata": {},
   "outputs": [],
   "source": [
    "# Estrayendo valores de la tabla de eventos\n",
    "conn = MySQLdb.connect(host=dbhost_hist, port=dbport_hist, user=dbuser_hist, passwd=dbpass_hist, db=dbname_hist)\n",
    "from_stm = 'FROM ' + device_events_tbl + ' de LEFT JOIN ' + device_event_sensors_tbl + ' des ON de.id=des.device_event_id '\n",
    "where_stm = 'WHERE device_id = ' + str(device_id) + ' AND module_id = ' + str(lux_module_id) + ' AND ts BETWEEN DATE_SUB(NOW(), INTERVAL 90 DAY) AND NOW()'\n",
    "%time df_events_qry = pd.read_sql('select ts, state, sensor_type_id, value ' + from_stm + where_stm, con=conn)\n",
    "conn.close()"
   ]
  },
  {
   "cell_type": "code",
   "execution_count": null,
   "metadata": {},
   "outputs": [],
   "source": [
    "df_events_qry.head(5)"
   ]
  },
  {
   "cell_type": "markdown",
   "metadata": {},
   "source": [
    "### Generación de dataset para entrenamiento"
   ]
  },
  {
   "cell_type": "code",
   "execution_count": null,
   "metadata": {
    "collapsed": true
   },
   "outputs": [],
   "source": [
    "# Se elininan los eventos de estado sin sensado\n",
    "df_events_qry.dropna(inplace=True)"
   ]
  },
  {
   "cell_type": "code",
   "execution_count": null,
   "metadata": {},
   "outputs": [],
   "source": [
    "# Se \"aplanan\" los eventos con una tabla pivot sobre la columna sensor_type_id\n",
    "df_events = df_events_qry.pivot_table(index=['ts','state'], columns='sensor_type_id', values='value', aggfunc=np.mean)\n",
    "# Se elimina el multiindex de columnas generado por pivot_table\n",
    "df_events = df_events.reset_index().rename_axis(None, axis=1)\n",
    "# Se renombran las columnas\n",
    "df_events.rename(columns={'ts': 'TIMESTAMP', 'state': 'LUX_ON'},inplace=True)\n",
    "df_events.columns = [ sensorIdToStr(colname) for colname in df_events.columns ]"
   ]
  },
  {
   "cell_type": "code",
   "execution_count": null,
   "metadata": {
    "scrolled": true
   },
   "outputs": [],
   "source": [
    "df_events.head(5)"
   ]
  },
  {
   "cell_type": "markdown",
   "metadata": {},
   "source": [
    "### Chequeo de valores null"
   ]
  },
  {
   "cell_type": "code",
   "execution_count": null,
   "metadata": {},
   "outputs": [],
   "source": [
    "# columnas con null\n",
    "df_events.isnull().any()"
   ]
  },
  {
   "cell_type": "markdown",
   "metadata": {},
   "source": [
    "#### Corrigiendo valores null\n",
    "Podríamos utilizar diferentes opciones:\n",
    "- pad: se rellena con el último valor\n",
    "- interpolate: se rellena con valores interpolados de la columna (quizá el más apropiado para valores continuos). La interpolacion puede ser:\n",
    "    - Lineal\n",
    "    - Cuadratica\n",
    "    - Cubica\n",
    "- escalar: se rellena con un número específico"
   ]
  },
  {
   "cell_type": "code",
   "execution_count": null,
   "metadata": {},
   "outputs": [],
   "source": [
    "#dftemp = pd.DataFrame(df_events.TEMPERATURE.interpolate(method='linear'), columns=['TEMP_L'] )\n",
    "#dftemp['TEMP_Q'] = df_events.TEMPERATURE.interpolate(method='quadratic')\n",
    "#dftemp['TEMP_C'] = df_events.TEMPERATURE.interpolate(method='cubic')"
   ]
  },
  {
   "cell_type": "code",
   "execution_count": null,
   "metadata": {
    "scrolled": true
   },
   "outputs": [],
   "source": [
    "#dftemp[7200:11520].plot()"
   ]
  },
  {
   "cell_type": "markdown",
   "metadata": {},
   "source": [
    "Como las interpolaciones son similares, podría utilizarse cualquier método. En este caso usaremos la cuadrática."
   ]
  },
  {
   "cell_type": "code",
   "execution_count": null,
   "metadata": {
    "collapsed": true
   },
   "outputs": [],
   "source": [
    "#df_events['TEMPERATURE'] = df_events.TEMPERATURE.interpolate(method='quadratic')"
   ]
  },
  {
   "cell_type": "markdown",
   "metadata": {},
   "source": [
    "#### Verificación final de valores null"
   ]
  },
  {
   "cell_type": "code",
   "execution_count": null,
   "metadata": {},
   "outputs": [],
   "source": [
    "df_events.isnull().values.any()"
   ]
  },
  {
   "cell_type": "markdown",
   "metadata": {},
   "source": [
    "### Verificando dataset completo\n",
    "Para analizar un comportamiento predictivo y desarrollar un modelo es necesario contar con un dataset completo que no tenga saltos en las mediciones. Por lo tanto, se debe verificar que cuente con datos en todos los minutos del rango obtenido."
   ]
  },
  {
   "cell_type": "code",
   "execution_count": null,
   "metadata": {
    "collapsed": true
   },
   "outputs": [],
   "source": [
    "### TODO\n",
    "# rellenar huecos de Timestamp\n",
    "# promediar rows con mismo minuto\n",
    "# rellenar mediciones agregadas con padding"
   ]
  },
  {
   "cell_type": "markdown",
   "metadata": {},
   "source": [
    "## Limpieza del dataset\n",
    "Debido a que no se necesitan todas las columnas para realizar el entrenamiento de la RNA, se eliminan las que no representen relación con lo que se busca predecir.\n",
    "- LUX_ACS\n",
    "\n",
    "Las mediciones de LUX_ACS pueden ignorarse para este tipo de entrenamiento."
   ]
  },
  {
   "cell_type": "code",
   "execution_count": null,
   "metadata": {},
   "outputs": [],
   "source": [
    "del df_events['LUX_ACS']"
   ]
  },
  {
   "cell_type": "markdown",
   "metadata": {},
   "source": [
    "### Ajuste y transformación de variables\n",
    "Se aplican ajustes y correcciones a las variables del dataset"
   ]
  },
  {
   "cell_type": "code",
   "execution_count": null,
   "metadata": {
    "collapsed": true
   },
   "outputs": [],
   "source": [
    "df_events['MOVEMENT'] = df_events.MOVEMENT.astype(int)"
   ]
  },
  {
   "cell_type": "markdown",
   "metadata": {},
   "source": [
    "Se generan variables de la dimensión TIEMPO"
   ]
  },
  {
   "cell_type": "code",
   "execution_count": null,
   "metadata": {
    "collapsed": true
   },
   "outputs": [],
   "source": [
    "#df_events['YEARDAY'] = df_events['TIMESTAMP'].dt.strftime('%j').astype(int)\n",
    "df_events['WEEKDAY'] = df_events['TIMESTAMP'].dt.weekday\n",
    "df_events['HOUR'] = df_events['TIMESTAMP'].dt.hour\n",
    "#df_events['MINDAY'] = df_events['HOUR'] * 60 + df_general['MINUTE']"
   ]
  },
  {
   "cell_type": "markdown",
   "metadata": {
    "collapsed": true
   },
   "source": [
    "## Análisis Exploratorio inicial\n",
    "\n",
    "### Función de correlación\n",
    "Hace una matriz de correlación entre las variables. Cuanto más claro el color, mayor correlación entre las variables. La diagonal debería ser amarilla, y representa la correlación de una variable con sí misma.\n",
    "\n",
    "Esta función tiene dos entradas:\n",
    "1. El dataframe panda a analizar\n",
    "2. El tamáño de gráfico que se quiere imprimir"
   ]
  },
  {
   "cell_type": "code",
   "execution_count": null,
   "metadata": {
    "collapsed": true
   },
   "outputs": [],
   "source": [
    "def plot_corr(df, size=6):\n",
    "    corr = df.corr()    # data frame correlation function\n",
    "    fig, ax = plt.subplots(figsize=(size, size))\n",
    "    ax.matshow(corr)   # color code the rectangles by correlation value\n",
    "    plt.xticks(range(len(corr.columns)), corr.columns)  # draw x tick marks\n",
    "    plt.yticks(range(len(corr.columns)), corr.columns)  # draw y tick marks"
   ]
  },
  {
   "cell_type": "code",
   "execution_count": null,
   "metadata": {},
   "outputs": [],
   "source": [
    "plot_corr(df_events)"
   ]
  },
  {
   "cell_type": "code",
   "execution_count": null,
   "metadata": {},
   "outputs": [],
   "source": [
    "df_events.corr()"
   ]
  },
  {
   "cell_type": "markdown",
   "metadata": {},
   "source": [
    "Debido a que no se puede ver una relación fuerte entre LUX_ON y el resto de los atributos, se procede a construir otro dataset a partir del obtenido con variables más significativas.\n",
    "\n",
    "### Generación de nuevas variables\n",
    "Se analizará la relación del estado de la luz (LUX_ON) con variables dependientes del dataset generado. El objetivo es intentar representar relaciones más adecuadas con el entorno tanto a nivel espacial como temporal.\n",
    "Las mediciones (facts) a construir son:\n",
    "- LIGHT_1m    medición de luz en el último minuto (sin contar la medición actual)\n",
    "- MOVEMENT_1m     proporción del sensor PIR activado en el último minuto\n",
    "- MOVEMENT_5m     proporción del sensor PIR activado en los últimos 5 minutos\n",
    "- MOVEMENT_15m    proporción del sensor PIR activado en los últimos 15 minutos\n",
    "\n",
    "Se sumarán al dataset actual manteniendo las dimensiones y mediciones previas:\n",
    "- WEEKDAY\n",
    "- HOUR\n",
    "- SOUND\n",
    "- MOVEMENT\n",
    "- LIGHT\n",
    "- LUX_ON"
   ]
  },
  {
   "cell_type": "code",
   "execution_count": null,
   "metadata": {},
   "outputs": [],
   "source": [
    "df_events['LIGHT_1m'] = df_events.LIGHT.shift(1)\n",
    "df_events['MOVEMENT_CHANGE'] = df_events.MOVEMENT.diff()\n",
    "df_events['MOVEMENT_1m'] = df_events.MOVEMENT.shift(1)\n",
    "df_events['MOVEMENT_5m'] = df_events.MOVEMENT.rolling(5).sum() / 5\n",
    "df_events['MOVEMENT_15m'] = df_events.MOVEMENT.rolling(15).sum() / 15\n",
    "df_events['LUX_SWITCH'] = df_events.LUX_ON.diff()\n",
    "df_events.dropna(inplace=True)"
   ]
  },
  {
   "cell_type": "code",
   "execution_count": null,
   "metadata": {
    "scrolled": false
   },
   "outputs": [],
   "source": [
    "plot_corr(df_events,14)"
   ]
  },
  {
   "cell_type": "code",
   "execution_count": null,
   "metadata": {},
   "outputs": [],
   "source": [
    "df_events.corr()"
   ]
  },
  {
   "cell_type": "markdown",
   "metadata": {},
   "source": [
    "## Entrenamiento y verificación de RNA\n",
    "\n",
    "### Variable objetivo: estado de la lámpara (LUX_ON)\n",
    "La variable a predecir es LUX_ON, la cual está en 1 si la luz está prendida (sea estado override o no del módulo). La distribución del estado en porcentaje es la siguiente:"
   ]
  },
  {
   "cell_type": "code",
   "execution_count": null,
   "metadata": {},
   "outputs": [],
   "source": [
    "df_events.LUX_ON.value_counts(normalize=True)"
   ]
  },
  {
   "cell_type": "markdown",
   "metadata": {},
   "source": [
    "#### Separando los datos para training y prueba\n",
    "Para poder hacer etapas de entrenamiento y prueba, voy a separar los datos. 70% para entrenamiento, 30% para prueba. Para esto voy a usar del módulo scikit-learn la función train_test_split.\n",
    "\n",
    "Los conjuntos de datos van a llamarse:\n",
    "* X_train: Datos de entrenamiento. Las 7 columnas con los valores del mes, día, sensores, etc, compuesto por el 70% de los registros\n",
    "* y_train: Resultado de entrenamiento. Columna *estadoLuz* para el 70% de los registros\n",
    "* X_test: Datos para hacer la validación. Tienen el mismo formato que X_train, pero corresponden al 30% del conjunto de datos\n",
    "* y_test: Resultados para validar la performance del algoritmo aplicado a X_test"
   ]
  },
  {
   "cell_type": "code",
   "execution_count": null,
   "metadata": {},
   "outputs": [],
   "source": [
    "from sklearn.model_selection import train_test_split\n",
    "\n",
    "luxState_feature_names = ['WEEKDAY', 'HOUR', 'LIGHT_1m', 'SOUND', 'MOVEMENT', 'MOVEMENT_1m', 'MOVEMENT_5m', 'MOVEMENT_15m']\n",
    "luxState_goal_names = ['LUX_ON']\n",
    "\n",
    "luxState_features = df_events[luxState_feature_names].values     # Columnas del predictor (5 X m)\n",
    "luxState_goal = df_events[luxState_goal_names].values            # Clase predecida (1=verdadero, 0=falso) column (1 X m)\n",
    "split_test_size = 0.30                                           # 0.30 es 30%, el tamaño para pruebas\n",
    "\n",
    "luxState_features_train, luxState_features_test, luxState_goal_train, luxState_goal_test = train_test_split(luxState_features, luxState_goal, test_size=split_test_size)"
   ]
  },
  {
   "cell_type": "markdown",
   "metadata": {},
   "source": [
    "Verifico que el tamaño relativo de los sets de entrenamiento y prueba sea lo más cercano a 70-30 posible:"
   ]
  },
  {
   "cell_type": "code",
   "execution_count": null,
   "metadata": {},
   "outputs": [],
   "source": [
    "print \"{0:.2f}% en el set de entrenamiento\".format( (float(len(luxState_features_train))/len(df_events.index)) * 100 ) \n",
    "print \"{0:.2f}% en el set de prueba\".format((float(len(luxState_features_test))/len(df_events.index)) * 100)"
   ]
  },
  {
   "cell_type": "markdown",
   "metadata": {},
   "source": [
    "Verifico que la proporción de casos verdaderos y falsos se mantenga en los conjuntos de entrenamiento y test:"
   ]
  },
  {
   "cell_type": "code",
   "execution_count": null,
   "metadata": {},
   "outputs": [],
   "source": [
    "print(\"Lux Activo en el total           : {0} ({1:0.2f}%)\".format(len(df_events.loc[df_events['LUX_ON'] == 1]), (len(df_events.loc[df_events['LUX_ON'] == 1])/float(len(df_events.index))) * 100.0))\n",
    "print(\"Lux Inactivo en el total         : {0} ({1:0.2f}%)\".format(len(df_events.loc[df_events['LUX_ON'] == 0]), (len(df_events.loc[df_events['LUX_ON'] == 0])/float(len(df_events.index))) * 100.0))\n",
    "print(\"\")\n",
    "train_state_on = len(luxState_goal_train[ luxState_goal_train == 1])\n",
    "train_state_off = len(luxState_goal_train[ luxState_goal_train == 0])\n",
    "print(\"Lux Activo en entrenamiento      : {0} ({1:0.2f}%)\".format(train_state_on, train_state_on/float(len(luxState_goal_train)) * 100.0))\n",
    "print(\"Lux Inctivo en entrenamiento     : {0} ({1:0.2f}%)\".format(train_state_off, train_state_off/float(len(luxState_goal_train)) * 100.0))\n",
    "print(\"\")\n",
    "test_state_on = len(luxState_goal_test[ luxState_goal_test == 1])\n",
    "test_state_off = len(luxState_goal_test[ luxState_goal_test == 0])\n",
    "print(\"Lux Activo en test               : {0} ({1:0.2f}%)\".format(test_state_on, test_state_on/float(len(luxState_goal_test)) * 100.0))\n",
    "print(\"Lux Inctivo en test              : {0} ({1:0.2f}%)\".format(test_state_off,test_state_off/float(len(luxState_goal_test)) * 100.0))"
   ]
  },
  {
   "cell_type": "markdown",
   "metadata": {},
   "source": [
    "#### Entrenamiento inicial\n",
    "Para este entrenamiento voy a usar otro módulo de scikit-learn: neural_network. Como lo que estamos tratando de averiguar es si la luz debe estar prendida o no, estamos hablando de un algoritmo de clasificación, y por lo tanto la función que voy a usar se llama MLPClassifier, e implementa un perceptrón multi capa (MLP) que se entrena usando backpropagation.\n"
   ]
  },
  {
   "cell_type": "code",
   "execution_count": null,
   "metadata": {},
   "outputs": [],
   "source": [
    "from sklearn.neural_network import MLPClassifier\n",
    "clf_model_state = MLPClassifier()\n",
    "%time clf_model_state.fit(luxState_features_train, luxState_goal_train.ravel())"
   ]
  },
  {
   "cell_type": "markdown",
   "metadata": {},
   "source": [
    "#### Performance usando los datos de entrenamiento\n",
    "Para esto voy a importar la función metrics."
   ]
  },
  {
   "cell_type": "code",
   "execution_count": null,
   "metadata": {
    "scrolled": true
   },
   "outputs": [],
   "source": [
    "from sklearn import metrics\n",
    "\n",
    "clf_predict_state_train = clf_model_state.predict(luxState_features_train)\n",
    "\n",
    "print(\"Precisión en entrenamiento: {0:.4f}\".format(metrics.accuracy_score(luxState_goal_train, clf_predict_state_train)))"
   ]
  },
  {
   "cell_type": "markdown",
   "metadata": {},
   "source": [
    "#### Performance usando los datos de prueba"
   ]
  },
  {
   "cell_type": "code",
   "execution_count": null,
   "metadata": {
    "scrolled": true
   },
   "outputs": [],
   "source": [
    "clf_predict_state_test = clf_model_state.predict(luxState_features_test)\n",
    "\n",
    "print(\"Precisión en test: {0:.4f}\".format(metrics.accuracy_score(luxState_goal_test, clf_predict_state_test)))"
   ]
  },
  {
   "cell_type": "markdown",
   "metadata": {},
   "source": [
    "#### Métricas\n",
    "Los resultados de las etapas de entrenamiento y prueba son muy buenos. Demasiado buenos. Hay que analizar si no hay algún otro problema que pueda causar que cuando ponga más datos (cuando analice en tiempo real la actividad del usuario), el modelo falle miserablemente.\n",
    "\n",
    "Para este análisis, voy a ver como se comparan los resultados, con el objetivo de entender si el modelo sirve o hay que hacer ajustes. Voy a usar dos herramientas:\n",
    "\n",
    "##### Matriz de confusión\n",
    "https://es.wikipedia.org/wiki/Matriz_de_confusi%C3%B3n\n",
    "\n",
    "Cada columna de la matriz representa el número de predicciones de cada clase, mientras que cada fila representa a las instancias en la clase real. Uno de los beneficios de las matrices de confusión es que facilitan ver si el sistema está confundiendo dos clases. \n",
    "\n",
    "En nuestro caso, la matriz representa lo siguiente:\n",
    "\n",
    "\n",
    "| EV (Predicho Encendido y es verdad ) | EF (Predicho Encendido pero es falso) |\n",
    "|------------------------------------------------|\n",
    "| **AF (Predicho Apagado pero es Falso** | **AV (Predicho Apagado y es verdad)** |\n",
    "\n",
    "Esto quiere decir que queremos los valores más altos posibles en la diagonal, y lo más cerca posible a cero en cualquier otro lado."
   ]
  },
  {
   "cell_type": "code",
   "execution_count": null,
   "metadata": {
    "scrolled": true
   },
   "outputs": [],
   "source": [
    "print(\"Matriz de confusión:\")\n",
    "print(\"{0}\".format(metrics.confusion_matrix(luxState_goal_test, clf_predict_state_test, labels=[1, 0])))"
   ]
  },
  {
   "cell_type": "markdown",
   "metadata": {},
   "source": [
    "Estos resultados son muy buenos, el porcentaje de acertados es altísimo. El modelo es casi perfecto. Para confirmar, hay que usar la otra herramienta.\n",
    "\n",
    "\n",
    "#### Reporte de clasificación.\n",
    "Lo primero que vamos a verificar es que tan bien se hace una predición acertada cuando se requiere que el dispositivo esté encendido. Este dato, llamado \"recall\" en el reporte, esta dado por:\n",
    "\n",
    "Recall = EV / (EV + AF)\n",
    "\n",
    "Lo segundo que queremos ver es la presición, que está dada por:\n",
    "\n",
    "Precision = EV / (EV + EF)\n"
   ]
  },
  {
   "cell_type": "code",
   "execution_count": null,
   "metadata": {
    "scrolled": true
   },
   "outputs": [],
   "source": [
    "print(\"Reporte de clasificación:\")\n",
    "print(metrics.classification_report(luxState_goal_test, clf_predict_state_test, labels=[1,0]))"
   ]
  },
  {
   "cell_type": "markdown",
   "metadata": {},
   "source": [
    "### Variable objetivo: cambio de estado de la lámpara (LUX_SWITCH)\n",
    "La variable a predecir es LUX_SWITCH que se describe como cada cambio de estado del lux.\n",
    "-  1: la luz se prendió\n",
    "-  0: no hubo cambios\n",
    "- -1: la luz se apagó\n",
    "La distribución del estado en porcentaje es la siguiente:"
   ]
  },
  {
   "cell_type": "code",
   "execution_count": null,
   "metadata": {},
   "outputs": [],
   "source": [
    "df_events.LUX_SWITCH.value_counts(normalize=True)"
   ]
  },
  {
   "cell_type": "markdown",
   "metadata": {},
   "source": [
    "#### Separando los datos para training y prueba"
   ]
  },
  {
   "cell_type": "code",
   "execution_count": null,
   "metadata": {},
   "outputs": [],
   "source": [
    "luxSwitch_feature_names = ['WEEKDAY', 'HOUR', 'LIGHT_1m', 'SOUND', 'MOVEMENT', 'MOVEMENT_1m', 'MOVEMENT_5m', 'MOVEMENT_15m' ]\n",
    "luxSwitch_goal_names = ['LUX_SWITCH']\n",
    "\n",
    "luxSwitch_features = df_events[luxSwitch_feature_names].values        # Columnas predictoras\n",
    "luxSwitch_goal = df_events[luxSwitch_goal_names].values               # Clase predecida (1, 0, -1)\n",
    "split_test_size = 0.30                                                # 0.30 es 30%, el tamaño para pruebas\n",
    "\n",
    "luxSwitch_feat_train, luxSwitch_feat_test, luxSwitch_goal_train, luxSwitch_goal_test = train_test_split(luxSwitch_features, luxSwitch_goal, test_size=split_test_size)"
   ]
  },
  {
   "cell_type": "code",
   "execution_count": null,
   "metadata": {},
   "outputs": [],
   "source": [
    "print \"{0:.2f}% en el set de entrenamiento\".format( (float(len(luxSwitch_feat_train))/len(df_events.index)) * 100 ) \n",
    "print \"{0:.2f}% en el set de prueba\".format((float(len(luxSwitch_feat_test))/len(df_events.index)) * 100)"
   ]
  },
  {
   "cell_type": "code",
   "execution_count": null,
   "metadata": {},
   "outputs": [],
   "source": [
    "totales_switch_on = len(df_events.query('LUX_SWITCH == 1'))\n",
    "totales_switch_stale = len(df_events.query('LUX_SWITCH == 0'))\n",
    "totales_switch_off = len(df_events.query('LUX_SWITCH == -1'))\n",
    "print 'Totales:'\n",
    "print(\"Prendidas        : {0} ({1:0.2f}%)\".format(totales_switch_on, totales_switch_on/float(df_events.shape[0]) * 100.0))\n",
    "print(\"Sin cambios      : {0} ({1:0.2f}%)\".format(totales_switch_stale, totales_switch_stale/float(df_events.shape[0]) * 100.0))\n",
    "print(\"Apagadas         : {0} ({1:0.2f}%)\".format(totales_switch_off, totales_switch_off/float(df_events.shape[0]) * 100.0))\n",
    "print ''\n",
    "train_switch_on = len(luxSwitch_goal_train[ luxSwitch_goal_train == 1])\n",
    "train_switch_stale = len(luxSwitch_goal_train[ luxSwitch_goal_train == 0])\n",
    "train_switch_off = len(luxSwitch_goal_train[ luxSwitch_goal_train == -1])\n",
    "print 'Set de entrenamiento:'\n",
    "print(\"Prendidas        : {0} ({1:0.2f}%)\".format(train_switch_on, train_switch_on/float(luxSwitch_goal_train.shape[0]) * 100.0))\n",
    "print(\"Sin cambios      : {0} ({1:0.2f}%)\".format(train_switch_stale, train_switch_stale/float(luxSwitch_goal_train.shape[0]) * 100.0))\n",
    "print(\"Apagadas         : {0} ({1:0.2f}%)\".format(train_switch_off, train_switch_off/float(luxSwitch_goal_train.shape[0]) * 100.0))\n",
    "print ''\n",
    "test_switch_on = len(luxSwitch_goal_test[ luxSwitch_goal_test == 1])\n",
    "test_switch_stale = len(luxSwitch_goal_test[ luxSwitch_goal_test == 0])\n",
    "test_switch_off = len(luxSwitch_goal_test[ luxSwitch_goal_test == -1])\n",
    "print 'Set de pruebas:'\n",
    "print(\"Prendidas        : {0} ({1:0.2f}%)\".format(test_switch_on, test_switch_on/float(luxSwitch_goal_test.shape[0]) * 100.0))\n",
    "print(\"Sin cambios      : {0} ({1:0.2f}%)\".format(test_switch_stale, test_switch_stale/float(luxSwitch_goal_test.shape[0]) * 100.0))\n",
    "print(\"Apagadas         : {0} ({1:0.2f}%)\".format(test_switch_off, test_switch_off/float(luxSwitch_goal_test.shape[0]) * 100.0))"
   ]
  },
  {
   "cell_type": "markdown",
   "metadata": {},
   "source": [
    "#### Entrenamiento inicial"
   ]
  },
  {
   "cell_type": "code",
   "execution_count": null,
   "metadata": {},
   "outputs": [],
   "source": [
    "clf_model_switch = MLPClassifier()\n",
    "%time clf_model_switch.fit(luxSwitch_feat_train, luxSwitch_goal_train.ravel())"
   ]
  },
  {
   "cell_type": "markdown",
   "metadata": {},
   "source": [
    "#### Performance usando los datos de entrenamiento"
   ]
  },
  {
   "cell_type": "code",
   "execution_count": null,
   "metadata": {
    "scrolled": true
   },
   "outputs": [],
   "source": [
    "clf_predict_switch_train = clf_model_switch.predict(luxSwitch_feat_train)\n",
    "\n",
    "print(\"Precisión en entrenamiento: {0:.4f}\".format(metrics.accuracy_score(luxSwitch_goal_train, clf_predict_switch_train)))"
   ]
  },
  {
   "cell_type": "markdown",
   "metadata": {},
   "source": [
    "#### Performance usando los datos de prueba"
   ]
  },
  {
   "cell_type": "code",
   "execution_count": null,
   "metadata": {
    "scrolled": true
   },
   "outputs": [],
   "source": [
    "clf_predict_switch_test = clf_model_switch.predict(luxSwitch_feat_test)\n",
    "\n",
    "print(\"Precisión en test: {0:.4f}\".format(metrics.accuracy_score(luxSwitch_goal_test, clf_predict_switch_test)))"
   ]
  },
  {
   "cell_type": "markdown",
   "metadata": {},
   "source": [
    "#### Métricas\n",
    "##### Matriz de confusión"
   ]
  },
  {
   "cell_type": "code",
   "execution_count": null,
   "metadata": {
    "scrolled": true
   },
   "outputs": [],
   "source": [
    "matriz_conf = metrics.confusion_matrix(luxSwitch_goal_test, clf_predict_switch_test, labels=[1, 0, -1])\n",
    "print(\"{0}\".format(matriz_conf))"
   ]
  },
  {
   "cell_type": "code",
   "execution_count": null,
   "metadata": {},
   "outputs": [],
   "source": [
    "# Porcentaje de acierto\n",
    "matriz_conf.diagonal().sum() / float(matriz_conf.sum()) * 100"
   ]
  },
  {
   "cell_type": "markdown",
   "metadata": {},
   "source": [
    "#### Reporte de clasificación"
   ]
  },
  {
   "cell_type": "code",
   "execution_count": null,
   "metadata": {},
   "outputs": [],
   "source": [
    "print(metrics.classification_report(luxSwitch_goal_test, clf_predict_switch_test, labels=[1,0,-1]))"
   ]
  },
  {
   "cell_type": "markdown",
   "metadata": {},
   "source": [
    "## Validación del modelo"
   ]
  },
  {
   "cell_type": "markdown",
   "metadata": {},
   "source": [
    "### Predicción de ESTADO (LUX_ON)\n",
    "Features:\n",
    "\n",
    "| WEEKDAY | MINDAY | LIGHT_LUX_1m | SOUND | MOVEMENT | MOVEMENT_1m | MOVEMENT_5m | MOVEMENT_15m |\n",
    "|-----------------------------------------------------------------------------------------------|\n",
    "| 0-6 | 0-1439 | 0-2000 | 30-130 | 0/1 | 0-1 | 0-1 | 0-1 |"
   ]
  },
  {
   "cell_type": "code",
   "execution_count": null,
   "metadata": {},
   "outputs": [],
   "source": [
    "X_new_test = pd.DataFrame([[ 5, 670, 85, 50, 1, 1, 1, 0.9 ]],columns=luxState_feature_names)"
   ]
  },
  {
   "cell_type": "code",
   "execution_count": null,
   "metadata": {},
   "outputs": [],
   "source": [
    "clf_predict_new_test = clf_model_state.predict(X_new_test)\n",
    "\n",
    "print (\"Resultado: \", clf_predict_new_test)"
   ]
  },
  {
   "cell_type": "markdown",
   "metadata": {},
   "source": [
    "### Predicción de CAMBIO DE ESTADO (LUX_SWITCH)\n",
    "\n",
    "Features:\n",
    "\n",
    "| WEEKDAY | MINDAY | LIGHT_LUX_1m | SOUND | MOVEMENT | MOVEMENT_1m | MOVEMENT_5m | MOVEMENT_15m |\n",
    "|-----------------------------------------------------------------------------------------------|\n",
    "| 0-6 | 0-1439 | 0-2000 | 30-130 | 0/1 | 0-1 | 0-1 | 0-1 |"
   ]
  },
  {
   "cell_type": "code",
   "execution_count": null,
   "metadata": {
    "collapsed": true
   },
   "outputs": [],
   "source": [
    "X_new_test = pd.DataFrame([[ 5, 670, 85, 50, 1, 1, 1, 0.9 ]],columns=luxSwitch_feature_names)"
   ]
  },
  {
   "cell_type": "code",
   "execution_count": null,
   "metadata": {},
   "outputs": [],
   "source": [
    "clf_predict_new_test = clf_model_switch.predict(X_new_test)\n",
    "\n",
    "print (\"Resultado: \", clf_predict_new_test)"
   ]
  }
 ],
 "metadata": {
  "kernelspec": {
   "display_name": "Python 2",
   "language": "python",
   "name": "python2"
  },
  "language_info": {
   "codemirror_mode": {
    "name": "ipython",
    "version": 2
   },
   "file_extension": ".py",
   "mimetype": "text/x-python",
   "name": "python",
   "nbconvert_exporter": "python",
   "pygments_lexer": "ipython2",
   "version": "2.7.13"
  }
 },
 "nbformat": 4,
 "nbformat_minor": 2
}
