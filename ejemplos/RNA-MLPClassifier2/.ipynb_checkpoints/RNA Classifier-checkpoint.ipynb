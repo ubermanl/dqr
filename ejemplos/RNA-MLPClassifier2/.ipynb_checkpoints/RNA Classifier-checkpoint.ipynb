{
 "cells": [
  {
   "cell_type": "markdown",
   "metadata": {},
   "source": [
    "# Prueba de Red Neuronal Artificial con Back Propagation"
   ]
  },
  {
   "cell_type": "markdown",
   "metadata": {},
   "source": [
    "## Import de librerías"
   ]
  },
  {
   "cell_type": "code",
   "execution_count": 137,
   "metadata": {},
   "outputs": [],
   "source": [
    "import pandas as pd\n",
    "import numpy as np\n",
    "import matplotlib as mpl\n",
    "import matplotlib.pyplot as plt\n",
    "from datetime import datetime, timedelta\n",
    "from IPython.display import display\n",
    "from sklearn.cluster import KMeans\n",
    "import MySQLdb\n",
    "#from pandas.io import sql\n",
    "#from sqlalchemy import create_engine\n",
    "\n",
    "%matplotlib inline\n",
    "\n",
    "pd.options.mode.chained_assignment = None  # default='warn'"
   ]
  },
  {
   "cell_type": "markdown",
   "metadata": {},
   "source": [
    "## Configuración\n",
    "### Conexión al DWH"
   ]
  },
  {
   "cell_type": "code",
   "execution_count": 138,
   "metadata": {
    "collapsed": true
   },
   "outputs": [],
   "source": [
    "# Base de datos histórica\n",
    "dbname_hist = \"ratio_dwh\"\n",
    "dbhost_hist = \"localhost\"\n",
    "dbport_hist = 3306\n",
    "dbuser_hist = \"root\"\n",
    "dbpass_hist = \"root\"\n",
    "table_hist = \"events_hist\""
   ]
  },
  {
   "cell_type": "markdown",
   "metadata": {},
   "source": [
    "## Extracción de datos del DWH"
   ]
  },
  {
   "cell_type": "code",
   "execution_count": 139,
   "metadata": {
    "collapsed": true
   },
   "outputs": [],
   "source": [
    "# Estrayendo valores de la tabla de eventos\n",
    "conn = MySQLdb.connect(host=dbhost_hist, port=dbport_hist, user=dbuser_hist, passwd=dbpass_hist, db=dbname_hist)\n",
    "df_events = pd.read_sql('select * from ' + table_hist, con=conn)\n",
    "conn.close()"
   ]
  },
  {
   "cell_type": "code",
   "execution_count": 140,
   "metadata": {},
   "outputs": [
    {
     "data": {
      "text/html": [
       "<div>\n",
       "<style>\n",
       "    .dataframe thead tr:only-child th {\n",
       "        text-align: right;\n",
       "    }\n",
       "\n",
       "    .dataframe thead th {\n",
       "        text-align: left;\n",
       "    }\n",
       "\n",
       "    .dataframe tbody tr th {\n",
       "        vertical-align: top;\n",
       "    }\n",
       "</style>\n",
       "<table border=\"1\" class=\"dataframe\">\n",
       "  <thead>\n",
       "    <tr style=\"text-align: right;\">\n",
       "      <th></th>\n",
       "      <th>TIMESTAMP</th>\n",
       "      <th>YEARDAY</th>\n",
       "      <th>WEEKDAY</th>\n",
       "      <th>HOUR</th>\n",
       "      <th>MINUTE</th>\n",
       "      <th>MINDAY</th>\n",
       "      <th>TEMPERATURE</th>\n",
       "      <th>LIGHT</th>\n",
       "      <th>SOUND</th>\n",
       "      <th>MOVEMENT</th>\n",
       "      <th>LUX_ON</th>\n",
       "      <th>LUX_ACS</th>\n",
       "      <th>LIGHT_LUX</th>\n",
       "      <th>POT_ACS</th>\n",
       "    </tr>\n",
       "  </thead>\n",
       "  <tbody>\n",
       "    <tr>\n",
       "      <th>0</th>\n",
       "      <td>2017-01-01</td>\n",
       "      <td>1</td>\n",
       "      <td>6</td>\n",
       "      <td>0</td>\n",
       "      <td>0</td>\n",
       "      <td>0</td>\n",
       "      <td>24.744444</td>\n",
       "      <td>0.0</td>\n",
       "      <td>37.254224</td>\n",
       "      <td>0.0</td>\n",
       "      <td>0</td>\n",
       "      <td>0.011401</td>\n",
       "      <td>0.0</td>\n",
       "      <td>0.005188</td>\n",
       "    </tr>\n",
       "  </tbody>\n",
       "</table>\n",
       "</div>"
      ],
      "text/plain": [
       "   TIMESTAMP  YEARDAY  WEEKDAY  HOUR  MINUTE  MINDAY  TEMPERATURE  LIGHT  \\\n",
       "0 2017-01-01        1        6     0       0       0    24.744444    0.0   \n",
       "\n",
       "       SOUND  MOVEMENT  LUX_ON   LUX_ACS  LIGHT_LUX   POT_ACS  \n",
       "0  37.254224       0.0       0  0.011401        0.0  0.005188  "
      ]
     },
     "execution_count": 140,
     "metadata": {},
     "output_type": "execute_result"
    }
   ],
   "source": [
    "df_events.head(1)"
   ]
  },
  {
   "cell_type": "markdown",
   "metadata": {},
   "source": [
    "### Chequeo de valores null"
   ]
  },
  {
   "cell_type": "code",
   "execution_count": 141,
   "metadata": {},
   "outputs": [
    {
     "data": {
      "text/plain": [
       "TIMESTAMP      False\n",
       "YEARDAY        False\n",
       "WEEKDAY        False\n",
       "HOUR           False\n",
       "MINUTE         False\n",
       "MINDAY         False\n",
       "TEMPERATURE     True\n",
       "LIGHT          False\n",
       "SOUND          False\n",
       "MOVEMENT       False\n",
       "LUX_ON         False\n",
       "LUX_ACS        False\n",
       "LIGHT_LUX      False\n",
       "POT_ACS        False\n",
       "dtype: bool"
      ]
     },
     "execution_count": 141,
     "metadata": {},
     "output_type": "execute_result"
    }
   ],
   "source": [
    "# columnas con null\n",
    "df_events.isnull().any()"
   ]
  },
  {
   "cell_type": "markdown",
   "metadata": {},
   "source": [
    "#### Corrigiendo valores null\n",
    "Podríamos utilizar diferentes opciones:\n",
    "- pad: se rellena con el último valor\n",
    "- interpolate: se rellena con valores interpolados de la columna (quizá el más apropiado para valores continuos). La interpolacion puede ser:\n",
    "    - Lineal\n",
    "    - Cuadratica\n",
    "    - Cubica\n",
    "- escalar: se rellena con un número específico"
   ]
  },
  {
   "cell_type": "code",
   "execution_count": 142,
   "metadata": {},
   "outputs": [],
   "source": [
    "dftemp = pd.DataFrame(df_events.TEMPERATURE.interpolate(method='linear'), columns=['TEMP_L'] )\n",
    "dftemp['TEMP_Q'] = df_events.TEMPERATURE.interpolate(method='quadratic')\n",
    "dftemp['TEMP_C'] = df_events.TEMPERATURE.interpolate(method='cubic')"
   ]
  },
  {
   "cell_type": "code",
   "execution_count": 143,
   "metadata": {
    "scrolled": true
   },
   "outputs": [
    {
     "data": {
      "text/plain": [
       "<matplotlib.axes._subplots.AxesSubplot at 0x13900ef0>"
      ]
     },
     "execution_count": 143,
     "metadata": {},
     "output_type": "execute_result"
    },
    {
     "data": {
      "image/png": "[encoded data removed]",
      "text/plain": [
       "<matplotlib.figure.Figure at 0x14176ba8>"
      ]
     },
     "metadata": {},
     "output_type": "display_data"
    }
   ],
   "source": [
    "dftemp[7200:11520].plot()"
   ]
  },
  {
   "cell_type": "markdown",
   "metadata": {},
   "source": [
    "Como las interpolaciones son similares, podría utilizarse cualquier método. En este caso usaremos la cuadrática."
   ]
  },
  {
   "cell_type": "code",
   "execution_count": 144,
   "metadata": {
    "collapsed": true
   },
   "outputs": [],
   "source": [
    "df_events['TEMPERATURE'] = df_events.TEMPERATURE.interpolate(method='quadratic')"
   ]
  },
  {
   "cell_type": "markdown",
   "metadata": {},
   "source": [
    "#### Verificación final de valores null"
   ]
  },
  {
   "cell_type": "code",
   "execution_count": 145,
   "metadata": {},
   "outputs": [
    {
     "data": {
      "text/plain": [
       "False"
      ]
     },
     "execution_count": 145,
     "metadata": {},
     "output_type": "execute_result"
    }
   ],
   "source": [
    "df_events.isnull().values.any()"
   ]
  },
  {
   "cell_type": "markdown",
   "metadata": {},
   "source": [
    "### Verificando dataset completo\n",
    "Para analizar un comportamiento predictivo y desarrollar un modelo es necesario contar con un dataset completo que no tenga saltos en las mediciones. Por lo tanto, se debe verificar que cuente con datos en todos los minutos del rango obtenido."
   ]
  },
  {
   "cell_type": "code",
   "execution_count": 146,
   "metadata": {
    "collapsed": true
   },
   "outputs": [],
   "source": [
    "### TODO\n",
    "# rellenar huecos de Timestamp\n",
    "# promediar rows con mismo minuto\n",
    "# rellenar mediciones agregadas con padding"
   ]
  },
  {
   "cell_type": "markdown",
   "metadata": {},
   "source": [
    "## Limpieza del dataset\n",
    "Debido a que no se necesitan todas las columnas para realizar el entrenamiento de la RNA, se eliminan las que no representen relación con lo que se busca predecir.\n",
    "- TIMESTAMP\n",
    "- YEARDAY\n",
    "- HOUR\n",
    "- MINUTE\n",
    "- TEMPERATURE\n",
    "- LIGHT\n",
    "- LUX_ACS\n",
    "- POT_AC\n",
    "\n",
    "Las dimensiones TS, HOUR y MINUTE se pueden eliminar porque se representan con la dimensión MINDAY.\n",
    "\n",
    "La dimensión YEARDAY simplemente no agregaría información para este tipo de entrenamiento.\n",
    "\n",
    "Las mediciones TEMPERATURE y *_ACS pueden ignorarse para este tipo de entrenamiento.\n",
    "\n",
    "La medición LIGHT no existe en la realidad (a menos que haya medición de luz externa)"
   ]
  },
  {
   "cell_type": "code",
   "execution_count": 147,
   "metadata": {},
   "outputs": [],
   "source": [
    "del df_events['TIMESTAMP']\n",
    "del df_events['YEARDAY']\n",
    "del df_events['HOUR']\n",
    "del df_events['MINUTE']\n",
    "del df_events['TEMPERATURE']\n",
    "del df_events['LIGHT']\n",
    "del df_events['LUX_ACS']\n",
    "del df_events['POT_ACS']"
   ]
  },
  {
   "cell_type": "markdown",
   "metadata": {},
   "source": [
    "### Ajustes de variables\n",
    "Se aplican ajustes y correcciones a las variables del dataset"
   ]
  },
  {
   "cell_type": "code",
   "execution_count": 148,
   "metadata": {
    "collapsed": true
   },
   "outputs": [],
   "source": [
    "df_events['MOVEMENT'] = df_events.MOVEMENT.astype(int)"
   ]
  },
  {
   "cell_type": "markdown",
   "metadata": {
    "collapsed": true
   },
   "source": [
    "## Análisis Exploratorio inicial\n",
    "\n",
    "### Función de correlación\n",
    "Hace una matriz de correlación entre las variables. Cuanto más claro el color, mayor correlación entre las variables. La diagonal debería ser amarilla, y representa la correlación de una variable con sí misma.\n",
    "\n",
    "Esta función tiene dos entradas:\n",
    "1. El dataframe panda a analizar\n",
    "2. El tamáño de gráfico que se quiere imprimir"
   ]
  },
  {
   "cell_type": "code",
   "execution_count": 149,
   "metadata": {
    "collapsed": true
   },
   "outputs": [],
   "source": [
    "def plot_corr(df, size=6):\n",
    "    corr = df.corr()    # data frame correlation function\n",
    "    fig, ax = plt.subplots(figsize=(size, size))\n",
    "    ax.matshow(corr)   # color code the rectangles by correlation value\n",
    "    plt.xticks(range(len(corr.columns)), corr.columns)  # draw x tick marks\n",
    "    plt.yticks(range(len(corr.columns)), corr.columns)  # draw y tick marks"
   ]
  },
  {
   "cell_type": "code",
   "execution_count": 150,
   "metadata": {},
   "outputs": [
    {
     "data": {
      "image/png": "[encoded data removed]",
      "text/plain": [
       "<matplotlib.figure.Figure at 0x258449e8>"
      ]
     },
     "metadata": {},
     "output_type": "display_data"
    }
   ],
   "source": [
    "plot_corr(df_events)"
   ]
  },
  {
   "cell_type": "code",
   "execution_count": 151,
   "metadata": {},
   "outputs": [
    {
     "data": {
      "text/html": [
       "<div>\n",
       "<style>\n",
       "    .dataframe thead tr:only-child th {\n",
       "        text-align: right;\n",
       "    }\n",
       "\n",
       "    .dataframe thead th {\n",
       "        text-align: left;\n",
       "    }\n",
       "\n",
       "    .dataframe tbody tr th {\n",
       "        vertical-align: top;\n",
       "    }\n",
       "</style>\n",
       "<table border=\"1\" class=\"dataframe\">\n",
       "  <thead>\n",
       "    <tr style=\"text-align: right;\">\n",
       "      <th></th>\n",
       "      <th>WEEKDAY</th>\n",
       "      <th>MINDAY</th>\n",
       "      <th>SOUND</th>\n",
       "      <th>MOVEMENT</th>\n",
       "      <th>LUX_ON</th>\n",
       "      <th>LIGHT_LUX</th>\n",
       "    </tr>\n",
       "  </thead>\n",
       "  <tbody>\n",
       "    <tr>\n",
       "      <th>WEEKDAY</th>\n",
       "      <td>1.000000e+00</td>\n",
       "      <td>2.638810e-19</td>\n",
       "      <td>0.263841</td>\n",
       "      <td>0.317223</td>\n",
       "      <td>0.037374</td>\n",
       "      <td>0.000615</td>\n",
       "    </tr>\n",
       "    <tr>\n",
       "      <th>MINDAY</th>\n",
       "      <td>2.638810e-19</td>\n",
       "      <td>1.000000e+00</td>\n",
       "      <td>0.468542</td>\n",
       "      <td>0.561994</td>\n",
       "      <td>0.400056</td>\n",
       "      <td>0.425768</td>\n",
       "    </tr>\n",
       "    <tr>\n",
       "      <th>SOUND</th>\n",
       "      <td>2.638408e-01</td>\n",
       "      <td>4.685420e-01</td>\n",
       "      <td>1.000000</td>\n",
       "      <td>0.844302</td>\n",
       "      <td>0.409424</td>\n",
       "      <td>0.216722</td>\n",
       "    </tr>\n",
       "    <tr>\n",
       "      <th>MOVEMENT</th>\n",
       "      <td>3.172231e-01</td>\n",
       "      <td>5.619935e-01</td>\n",
       "      <td>0.844302</td>\n",
       "      <td>1.000000</td>\n",
       "      <td>0.486303</td>\n",
       "      <td>0.256185</td>\n",
       "    </tr>\n",
       "    <tr>\n",
       "      <th>LUX_ON</th>\n",
       "      <td>3.737353e-02</td>\n",
       "      <td>4.000561e-01</td>\n",
       "      <td>0.409424</td>\n",
       "      <td>0.486303</td>\n",
       "      <td>1.000000</td>\n",
       "      <td>0.295588</td>\n",
       "    </tr>\n",
       "    <tr>\n",
       "      <th>LIGHT_LUX</th>\n",
       "      <td>6.149579e-04</td>\n",
       "      <td>4.257682e-01</td>\n",
       "      <td>0.216722</td>\n",
       "      <td>0.256185</td>\n",
       "      <td>0.295588</td>\n",
       "      <td>1.000000</td>\n",
       "    </tr>\n",
       "  </tbody>\n",
       "</table>\n",
       "</div>"
      ],
      "text/plain": [
       "                WEEKDAY        MINDAY     SOUND  MOVEMENT    LUX_ON  LIGHT_LUX\n",
       "WEEKDAY    1.000000e+00  2.638810e-19  0.263841  0.317223  0.037374   0.000615\n",
       "MINDAY     2.638810e-19  1.000000e+00  0.468542  0.561994  0.400056   0.425768\n",
       "SOUND      2.638408e-01  4.685420e-01  1.000000  0.844302  0.409424   0.216722\n",
       "MOVEMENT   3.172231e-01  5.619935e-01  0.844302  1.000000  0.486303   0.256185\n",
       "LUX_ON     3.737353e-02  4.000561e-01  0.409424  0.486303  1.000000   0.295588\n",
       "LIGHT_LUX  6.149579e-04  4.257682e-01  0.216722  0.256185  0.295588   1.000000"
      ]
     },
     "execution_count": 151,
     "metadata": {},
     "output_type": "execute_result"
    }
   ],
   "source": [
    "df_events.corr()"
   ]
  },
  {
   "cell_type": "markdown",
   "metadata": {},
   "source": [
    "Debido a que no se puede ver una relación fuerte entre LUX_ON y el resto de los atributos, se procede a construir otro dataset a partir del obtenido con variables más significativas.\n",
    "\n",
    "### Generación de nuevas variables\n",
    "Se analizará la relación del estado de la luz (LUX_ON) con variables dependientes del dataset generado. El objetivo es intentar representar relaciones más adecuadas con el entorno tanto a nivel espacial como temporal.\n",
    "Las mediciones (facts) a construir son:\n",
    "- LIGHT_LUX_1m    medición de luz en el último minuto (sin contar la medición actual)\n",
    "- MOVEMENT_1m     proporción del sensor PIR activado en el último minuto\n",
    "- MOVEMENT_5m     proporción del sensor PIR activado en los últimos 5 minutos\n",
    "- MOVEMENT_15m    proporción del sensor PIR activado en los últimos 15 minutos\n",
    "\n",
    "Se sumarán al dataset actual manteniendo las dimensiones y mediciones previas:\n",
    "- WEEKDAY\n",
    "- MINDAY\n",
    "- SOUND\n",
    "- MOVEMENT\n",
    "- LIGHT_LUX\n",
    "- LUX_ON"
   ]
  },
  {
   "cell_type": "code",
   "execution_count": 212,
   "metadata": {},
   "outputs": [],
   "source": [
    "df_events['LIGHT_LUX_1m'] = df_events.LIGHT_LUX.shift(1)\n",
    "df_events['MOVEMENT_1m'] = df_events.MOVEMENT.shift(1)\n",
    "df_events['MOVEMENT_5m'] = df_events.MOVEMENT.rolling(5).sum() / 5\n",
    "df_events['MOVEMENT_15m'] = df_events.MOVEMENT.rolling(15).sum() / 15\n",
    "df_events['LUX_TURNED'] = df_events.LUX_ON.diff()\n",
    "df_events.dropna(inplace=True)"
   ]
  },
  {
   "cell_type": "code",
   "execution_count": 213,
   "metadata": {
    "scrolled": false
   },
   "outputs": [
    {
     "data": {
      "image/png": "[encoded data removed]",
      "text/plain": [
       "<matplotlib.figure.Figure at 0xf5162e8>"
      ]
     },
     "metadata": {},
     "output_type": "display_data"
    }
   ],
   "source": [
    "plot_corr(df_events,14)"
   ]
  },
  {
   "cell_type": "code",
   "execution_count": 214,
   "metadata": {},
   "outputs": [
    {
     "data": {
      "text/html": [
       "<div>\n",
       "<style>\n",
       "    .dataframe thead tr:only-child th {\n",
       "        text-align: right;\n",
       "    }\n",
       "\n",
       "    .dataframe thead th {\n",
       "        text-align: left;\n",
       "    }\n",
       "\n",
       "    .dataframe tbody tr th {\n",
       "        vertical-align: top;\n",
       "    }\n",
       "</style>\n",
       "<table border=\"1\" class=\"dataframe\">\n",
       "  <thead>\n",
       "    <tr style=\"text-align: right;\">\n",
       "      <th></th>\n",
       "      <th>WEEKDAY</th>\n",
       "      <th>MINDAY</th>\n",
       "      <th>SOUND</th>\n",
       "      <th>MOVEMENT</th>\n",
       "      <th>LUX_ON</th>\n",
       "      <th>LIGHT_LUX</th>\n",
       "      <th>LIGHT_LUX_1m</th>\n",
       "      <th>MOVEMENT_1m</th>\n",
       "      <th>MOVEMENT_5m</th>\n",
       "      <th>MOVEMENT_15m</th>\n",
       "      <th>LUX_TURNED</th>\n",
       "    </tr>\n",
       "  </thead>\n",
       "  <tbody>\n",
       "    <tr>\n",
       "      <th>WEEKDAY</th>\n",
       "      <td>1.000000</td>\n",
       "      <td>0.000068</td>\n",
       "      <td>0.263873</td>\n",
       "      <td>0.317266</td>\n",
       "      <td>0.037393</td>\n",
       "      <td>0.000669</td>\n",
       "      <td>0.000666</td>\n",
       "      <td>0.317270</td>\n",
       "      <td>0.329111</td>\n",
       "      <td>0.337968</td>\n",
       "      <td>0.000002</td>\n",
       "    </tr>\n",
       "    <tr>\n",
       "      <th>MINDAY</th>\n",
       "      <td>0.000068</td>\n",
       "      <td>1.000000</td>\n",
       "      <td>0.468536</td>\n",
       "      <td>0.561985</td>\n",
       "      <td>0.400052</td>\n",
       "      <td>0.425734</td>\n",
       "      <td>0.428717</td>\n",
       "      <td>0.563723</td>\n",
       "      <td>0.586577</td>\n",
       "      <td>0.611726</td>\n",
       "      <td>-0.000699</td>\n",
       "    </tr>\n",
       "    <tr>\n",
       "      <th>SOUND</th>\n",
       "      <td>0.263873</td>\n",
       "      <td>0.468536</td>\n",
       "      <td>1.000000</td>\n",
       "      <td>0.844301</td>\n",
       "      <td>0.409420</td>\n",
       "      <td>0.216707</td>\n",
       "      <td>0.197379</td>\n",
       "      <td>0.778560</td>\n",
       "      <td>0.795336</td>\n",
       "      <td>0.768975</td>\n",
       "      <td>0.030403</td>\n",
       "    </tr>\n",
       "    <tr>\n",
       "      <th>MOVEMENT</th>\n",
       "      <td>0.317266</td>\n",
       "      <td>0.561985</td>\n",
       "      <td>0.844301</td>\n",
       "      <td>1.000000</td>\n",
       "      <td>0.486299</td>\n",
       "      <td>0.256166</td>\n",
       "      <td>0.236933</td>\n",
       "      <td>0.933215</td>\n",
       "      <td>0.955672</td>\n",
       "      <td>0.922188</td>\n",
       "      <td>0.030251</td>\n",
       "    </tr>\n",
       "    <tr>\n",
       "      <th>LUX_ON</th>\n",
       "      <td>0.037393</td>\n",
       "      <td>0.400052</td>\n",
       "      <td>0.409420</td>\n",
       "      <td>0.486299</td>\n",
       "      <td>1.000000</td>\n",
       "      <td>0.295580</td>\n",
       "      <td>-0.010856</td>\n",
       "      <td>0.455832</td>\n",
       "      <td>0.467651</td>\n",
       "      <td>0.456455</td>\n",
       "      <td>0.522845</td>\n",
       "    </tr>\n",
       "    <tr>\n",
       "      <th>LIGHT_LUX</th>\n",
       "      <td>0.000669</td>\n",
       "      <td>0.425734</td>\n",
       "      <td>0.216707</td>\n",
       "      <td>0.256166</td>\n",
       "      <td>0.295580</td>\n",
       "      <td>1.000000</td>\n",
       "      <td>0.770137</td>\n",
       "      <td>0.235042</td>\n",
       "      <td>0.239155</td>\n",
       "      <td>0.223871</td>\n",
       "      <td>0.293898</td>\n",
       "    </tr>\n",
       "    <tr>\n",
       "      <th>LIGHT_LUX_1m</th>\n",
       "      <td>0.000666</td>\n",
       "      <td>0.428717</td>\n",
       "      <td>0.197379</td>\n",
       "      <td>0.236933</td>\n",
       "      <td>-0.010856</td>\n",
       "      <td>0.770137</td>\n",
       "      <td>1.000000</td>\n",
       "      <td>0.256166</td>\n",
       "      <td>0.243870</td>\n",
       "      <td>0.227187</td>\n",
       "      <td>-0.293046</td>\n",
       "    </tr>\n",
       "    <tr>\n",
       "      <th>MOVEMENT_1m</th>\n",
       "      <td>0.317270</td>\n",
       "      <td>0.563723</td>\n",
       "      <td>0.778560</td>\n",
       "      <td>0.933215</td>\n",
       "      <td>0.455832</td>\n",
       "      <td>0.235042</td>\n",
       "      <td>0.256166</td>\n",
       "      <td>1.000000</td>\n",
       "      <td>0.968255</td>\n",
       "      <td>0.930434</td>\n",
       "      <td>-0.029136</td>\n",
       "    </tr>\n",
       "    <tr>\n",
       "      <th>MOVEMENT_5m</th>\n",
       "      <td>0.329111</td>\n",
       "      <td>0.586577</td>\n",
       "      <td>0.795336</td>\n",
       "      <td>0.955672</td>\n",
       "      <td>0.467651</td>\n",
       "      <td>0.239155</td>\n",
       "      <td>0.243870</td>\n",
       "      <td>0.968255</td>\n",
       "      <td>1.000000</td>\n",
       "      <td>0.969654</td>\n",
       "      <td>-0.004999</td>\n",
       "    </tr>\n",
       "    <tr>\n",
       "      <th>MOVEMENT_15m</th>\n",
       "      <td>0.337968</td>\n",
       "      <td>0.611726</td>\n",
       "      <td>0.768975</td>\n",
       "      <td>0.922188</td>\n",
       "      <td>0.456455</td>\n",
       "      <td>0.223871</td>\n",
       "      <td>0.227187</td>\n",
       "      <td>0.930434</td>\n",
       "      <td>0.969654</td>\n",
       "      <td>1.000000</td>\n",
       "      <td>-0.002988</td>\n",
       "    </tr>\n",
       "    <tr>\n",
       "      <th>LUX_TURNED</th>\n",
       "      <td>0.000002</td>\n",
       "      <td>-0.000699</td>\n",
       "      <td>0.030403</td>\n",
       "      <td>0.030251</td>\n",
       "      <td>0.522845</td>\n",
       "      <td>0.293898</td>\n",
       "      <td>-0.293046</td>\n",
       "      <td>-0.029136</td>\n",
       "      <td>-0.004999</td>\n",
       "      <td>-0.002988</td>\n",
       "      <td>1.000000</td>\n",
       "    </tr>\n",
       "  </tbody>\n",
       "</table>\n",
       "</div>"
      ],
      "text/plain": [
       "               WEEKDAY    MINDAY     SOUND  MOVEMENT    LUX_ON  LIGHT_LUX  \\\n",
       "WEEKDAY       1.000000  0.000068  0.263873  0.317266  0.037393   0.000669   \n",
       "MINDAY        0.000068  1.000000  0.468536  0.561985  0.400052   0.425734   \n",
       "SOUND         0.263873  0.468536  1.000000  0.844301  0.409420   0.216707   \n",
       "MOVEMENT      0.317266  0.561985  0.844301  1.000000  0.486299   0.256166   \n",
       "LUX_ON        0.037393  0.400052  0.409420  0.486299  1.000000   0.295580   \n",
       "LIGHT_LUX     0.000669  0.425734  0.216707  0.256166  0.295580   1.000000   \n",
       "LIGHT_LUX_1m  0.000666  0.428717  0.197379  0.236933 -0.010856   0.770137   \n",
       "MOVEMENT_1m   0.317270  0.563723  0.778560  0.933215  0.455832   0.235042   \n",
       "MOVEMENT_5m   0.329111  0.586577  0.795336  0.955672  0.467651   0.239155   \n",
       "MOVEMENT_15m  0.337968  0.611726  0.768975  0.922188  0.456455   0.223871   \n",
       "LUX_TURNED    0.000002 -0.000699  0.030403  0.030251  0.522845   0.293898   \n",
       "\n",
       "              LIGHT_LUX_1m  MOVEMENT_1m  MOVEMENT_5m  MOVEMENT_15m  LUX_TURNED  \n",
       "WEEKDAY           0.000666     0.317270     0.329111      0.337968    0.000002  \n",
       "MINDAY            0.428717     0.563723     0.586577      0.611726   -0.000699  \n",
       "SOUND             0.197379     0.778560     0.795336      0.768975    0.030403  \n",
       "MOVEMENT          0.236933     0.933215     0.955672      0.922188    0.030251  \n",
       "LUX_ON           -0.010856     0.455832     0.467651      0.456455    0.522845  \n",
       "LIGHT_LUX         0.770137     0.235042     0.239155      0.223871    0.293898  \n",
       "LIGHT_LUX_1m      1.000000     0.256166     0.243870      0.227187   -0.293046  \n",
       "MOVEMENT_1m       0.256166     1.000000     0.968255      0.930434   -0.029136  \n",
       "MOVEMENT_5m       0.243870     0.968255     1.000000      0.969654   -0.004999  \n",
       "MOVEMENT_15m      0.227187     0.930434     0.969654      1.000000   -0.002988  \n",
       "LUX_TURNED       -0.293046    -0.029136    -0.004999     -0.002988    1.000000  "
      ]
     },
     "execution_count": 214,
     "metadata": {},
     "output_type": "execute_result"
    }
   ],
   "source": [
    "df_events.corr()"
   ]
  },
  {
   "cell_type": "markdown",
   "metadata": {},
   "source": [
    "### Análisis de variable objetivo\n",
    "La variable a predecir es LUX_ON, la cual está en 1 si la luz está prendida (sea estado override o no del módulo). La distribución del estado en porcentaje es la siguiente:"
   ]
  },
  {
   "cell_type": "code",
   "execution_count": 215,
   "metadata": {},
   "outputs": [
    {
     "data": {
      "text/plain": [
       "0    0.831457\n",
       "1    0.168543\n",
       "Name: LUX_ON, dtype: float64"
      ]
     },
     "execution_count": 215,
     "metadata": {},
     "output_type": "execute_result"
    }
   ],
   "source": [
    "df_events.LUX_ON.value_counts(normalize=True)"
   ]
  },
  {
   "cell_type": "markdown",
   "metadata": {},
   "source": [
    "### Separando los datos para training y prueba\n",
    "Para poder hacer etapas de entrenamiento y prueba, voy a separar los datos. 70% para entrenamiento, 30% para prueba. Para esto voy a usar del módulo scikit-learn la función train_test_split.\n",
    "\n",
    "Los conjuntos de datos van a llamarse:\n",
    "* X_train: Datos de entrenamiento. Las 7 columnas con los valores del mes, día, sensores, etc, compuesto por el 70% de los registros\n",
    "* y_train: Resultado de entrenamiento. Columna *estadoLuz* para el 70% de los registros\n",
    "* X_test: Datos para hacer la validación. Tienen el mismo formato que X_train, pero corresponden al 30% del conjunto de datos\n",
    "* y_test: Resultados para validar la performance del algoritmo aplicado a X_test\n",
    "\n",
    "O puesto de otro modo:\n",
    "\n",
    "| Entrada (5 columnas) | Salida (1 columna)| \n",
    "|-------------|--------|\n",
    "| X_train (70%) | y_train|\n",
    "| X_test (30%)| y_test |"
   ]
  },
  {
   "cell_type": "code",
   "execution_count": 216,
   "metadata": {},
   "outputs": [],
   "source": [
    "from sklearn.model_selection import train_test_split\n",
    "\n",
    "feature_col_names = ['WEEKDAY', 'MINDAY', 'LIGHT_LUX', 'LIGHT_LUX_1m', 'SOUND', 'MOVEMENT', 'MOVEMENT_1m', 'MOVEMENT_5m', 'MOVEMENT_15m', ]\n",
    "predicted_class_names = ['LUX_ON']\n",
    "\n",
    "X = df_events[feature_col_names].values     # Columnas del predictor (5 X m)\n",
    "y = df_events[predicted_class_names].values # Clase predecida (1=verdadero, 0=falso) column (1 X m)\n",
    "split_test_size = 0.30               # 0.30 es 30%, el tamaño para pruebas\n",
    "\n",
    "# 42 es el seed\n",
    "X_train, X_test, y_train, y_test = train_test_split(X, y, test_size=split_test_size, random_state=42)"
   ]
  },
  {
   "cell_type": "markdown",
   "metadata": {},
   "source": [
    "Verifico que el tamaño relativo de los sets de entrenamiento y prueba sea lo más cercano a 70-30 posible:"
   ]
  },
  {
   "cell_type": "code",
   "execution_count": 217,
   "metadata": {},
   "outputs": [
    {
     "name": "stdout",
     "output_type": "stream",
     "text": [
      "70.00% en el set de entrenamiento\n",
      "30.00% en el set de prueba\n"
     ]
    }
   ],
   "source": [
    "print \"{0:.2f}% en el set de entrenamiento\".format( (float(len(X_train))/len(df_events.index)) * 100 ) \n",
    "print \"{0:.2f}% en el set de prueba\".format((float(len(X_test))/len(df_events.index)) * 100)"
   ]
  },
  {
   "cell_type": "markdown",
   "metadata": {},
   "source": [
    "Verifico que la proporción de casos verdaderos y falsos se mantenga en los conjuntos de entrenamiento y test:"
   ]
  },
  {
   "cell_type": "code",
   "execution_count": 218,
   "metadata": {},
   "outputs": [
    {
     "name": "stdout",
     "output_type": "stream",
     "text": [
      "Verdaderos en el total     : 88584 (16.85%)\n",
      "Falsos en el total         : 437002 (83.15%)\n",
      "\n",
      "Verdaderos en entrenamiento: 61913 (16.83%)\n",
      "Falsos en entrenamiento    : 305997 (83.17%)\n",
      "\n",
      "Verdaderos en test         : 26671 (16.92%)\n",
      "Falsos en test             : 131005 (83.08%)\n"
     ]
    }
   ],
   "source": [
    "print(\"Verdaderos en el total     : {0} ({1:0.2f}%)\".format(len(df_events.loc[df_events['LUX_ON'] == 1]), (len(df_events.loc[df_events['LUX_ON'] == 1])/float(len(df_events.index))) * 100.0))\n",
    "print(\"Falsos en el total         : {0} ({1:0.2f}%)\".format(len(df_events.loc[df_events['LUX_ON'] == 0]), (len(df_events.loc[df_events['LUX_ON'] == 0])/float(len(df_events.index))) * 100.0))\n",
    "print(\"\")\n",
    "print(\"Verdaderos en entrenamiento: {0} ({1:0.2f}%)\".format(len(y_train[y_train[:] == 1]), (len(y_train[y_train[:] == 1])/float(len(y_train)) * 100.0)))\n",
    "print(\"Falsos en entrenamiento    : {0} ({1:0.2f}%)\".format(len(y_train[y_train[:] == 0]), (len(y_train[y_train[:] == 0])/float(len(y_train)) * 100.0)))\n",
    "print(\"\")\n",
    "print(\"Verdaderos en test         : {0} ({1:0.2f}%)\".format(len(y_test[y_test[:] == 1]), (len(y_test[y_test[:] == 1])/float(len(y_test)) * 100.0)))\n",
    "print(\"Falsos en test             : {0} ({1:0.2f}%)\".format(len(y_test[y_test[:] == 0]), (len(y_test[y_test[:] == 0])/float(len(y_test)) * 100.0)))"
   ]
  },
  {
   "cell_type": "markdown",
   "metadata": {},
   "source": [
    "### Entrenamiento inicial\n",
    "Para este entrenamiento voy a usar otro módulo de scikit-learn: neural_network. Como lo que estamos tratando de averiguar es si la luz debe estar prendida o no, estamos hablando de un algoritmo de clasificación, y por lo tanto la función que voy a usar se llama MLPClassifier, e implementa un perceptrón multi capa (MLP) que se entrena usando backpropagation.\n"
   ]
  },
  {
   "cell_type": "code",
   "execution_count": null,
   "metadata": {},
   "outputs": [],
   "source": [
    "from sklearn.neural_network import MLPClassifier\n",
    "clf_model = MLPClassifier(random_state=1)\n",
    "%time clf_model.fit(X_train, y_train.ravel())"
   ]
  },
  {
   "cell_type": "markdown",
   "metadata": {},
   "source": [
    "### Performance usando los datos de entrenamiento\n",
    "Para esto voy a importar la función metrics."
   ]
  },
  {
   "cell_type": "code",
   "execution_count": 18,
   "metadata": {
    "scrolled": true
   },
   "outputs": [
    {
     "name": "stdout",
     "output_type": "stream",
     "text": [
      "Precisión en entrenamiento: 0.9879\n",
      "\n"
     ]
    }
   ],
   "source": [
    "from sklearn import metrics\n",
    "\n",
    "clf_predict_train = clf_model.predict(X_train)\n",
    "\n",
    "print(\"Precisión en entrenamiento: {0:.4f}\".format(metrics.accuracy_score(y_train, clf_predict_train)))\n",
    "print()"
   ]
  },
  {
   "cell_type": "markdown",
   "metadata": {},
   "source": [
    "### Performance usando los datos de prueba"
   ]
  },
  {
   "cell_type": "code",
   "execution_count": 19,
   "metadata": {
    "scrolled": true
   },
   "outputs": [
    {
     "name": "stdout",
     "output_type": "stream",
     "text": [
      "Precisión en test: 0.9877\n",
      "\n"
     ]
    }
   ],
   "source": [
    "clf_predict_test = clf_model.predict(X_test)\n",
    "\n",
    "print(\"Precisión en test: {0:.4f}\".format(metrics.accuracy_score(y_test, clf_predict_test)))\n",
    "print()"
   ]
  },
  {
   "cell_type": "markdown",
   "metadata": {},
   "source": [
    "## Métricas\n",
    "Los resultados de las etapas de entrenamiento y prueba son muy buenos. Demasiado buenos. Hay que analizar si no hay algún otro problema que pueda causar que cuando ponga más datos (cuando analice en tiempo real la actividad del usuario), el modelo falle miserablemente.\n",
    "\n",
    "Para este análisis, voy a ver como se comparan los resultados, con el objetivo de entender si el modelo sirve o hay que hacer ajustes. Voy a usar dos herramientas:\n",
    "\n",
    "### Matriz de confusión\n",
    "https://es.wikipedia.org/wiki/Matriz_de_confusi%C3%B3n\n",
    "\n",
    "Cada columna de la matriz representa el número de predicciones de cada clase, mientras que cada fila representa a las instancias en la clase real. Uno de los beneficios de las matrices de confusión es que facilitan ver si el sistema está confundiendo dos clases. \n",
    "\n",
    "En nuestro caso, la matriz representa lo siguiente:\n",
    "\n",
    "\n",
    "| EV (Predicho Encendido y es verdad ) | EF (Predicho Encendido pero es falso) |\n",
    "|------------------------------------------------|\n",
    "| **AF (Predicho Apagado pero es Falso** | **AV (Predicho Apagado y es verdad)** |\n",
    "\n",
    "Esto quiere decir que queremos los valores más altos posibles en la diagonal, y lo más cerca posible a cero en cualquier otro lado."
   ]
  },
  {
   "cell_type": "code",
   "execution_count": 20,
   "metadata": {},
   "outputs": [
    {
     "name": "stdout",
     "output_type": "stream",
     "text": [
      "Matriz de confusión:\n",
      "[[ 8620    55]\n",
      " [  423 29783]]\n"
     ]
    }
   ],
   "source": [
    "print(\"Matriz de confusión:\")\n",
    "print(\"{0}\".format(metrics.confusion_matrix(y_test, clf_predict_test, labels=[1, 0])))"
   ]
  },
  {
   "cell_type": "markdown",
   "metadata": {},
   "source": [
    "Estos resultados son muy buenos, el porcentaje de acertados es altísimo. El modelo es casi perfecto. Para confirmar, hay que usar la otra herramienta.\n",
    "\n",
    "\n",
    "### Reporte de clasificación.\n",
    "Lo primero que vamos a verificar es que tan bien se hace una predición acertada cuando se requiere que el dispositivo esté encendido. Este dato, llamado \"recall\" en el reporte, esta dado por:\n",
    "\n",
    "Recall = EV / (EV + AF)\n",
    "\n",
    "Lo segundo que queremos ver es la presición, que está dada por:\n",
    "\n",
    "Precision = EV / (EV + EF)\n"
   ]
  },
  {
   "cell_type": "code",
   "execution_count": 21,
   "metadata": {},
   "outputs": [
    {
     "name": "stdout",
     "output_type": "stream",
     "text": [
      "Reporte de clasificación:\n",
      "             precision    recall  f1-score   support\n",
      "\n",
      "          1       0.95      0.99      0.97      8675\n",
      "          0       1.00      0.99      0.99     30206\n",
      "\n",
      "avg / total       0.99      0.99      0.99     38881\n",
      "\n"
     ]
    }
   ],
   "source": [
    "print(\"Reporte de clasificación:\")\n",
    "print(metrics.classification_report(y_test, clf_predict_test, labels=[1,0]))"
   ]
  },
  {
   "cell_type": "markdown",
   "metadata": {
    "collapsed": true
   },
   "source": [
    "Según este reporte, recall = 100% y precision = 85%. El modelo es muy bueno. Esto lo adjudico al hecho de que el dataset fue creado a mano, con un hábito muy marcado.\n",
    "\n",
    "## Verificación final\n",
    "¿Qué pasaría si tengo una nueva entrada en el dataset, que representa un comportamiento del usuario registrado en un momento en particular?\n",
    "\n",
    "Por ejemplo, si digo \"El Martes a las 2:16am ladro un perro mientras el usuario dormia\", se podría traducir en un registro como:\n",
    "\n",
    "| diaSemana | minuto | sensLuminosidad | sensSonido | sensPresencia |\n",
    "|-|\n",
    "| 2 | 136 | 0.020 | 0.400 | 0.300 |\n",
    "\n",
    "Uno esperaría que a pesar de la detección de sonido y de presencia (el usuario se mueve), la luz debería estar apagada de todos modos. Veamos que resultado muestra el modelo."
   ]
  },
  {
   "cell_type": "code",
   "execution_count": 22,
   "metadata": {},
   "outputs": [
    {
     "name": "stdout",
     "output_type": "stream",
     "text": [
      "Resultado:  [0]\n"
     ]
    }
   ],
   "source": [
    "X_new_test = [[2, 136, 0.02, 0.4, 0.3]]\n",
    "clf_predict_new_test = clf_model.predict(X_new_test)\n",
    "\n",
    "print (\"Resultado: \", clf_predict_new_test)"
   ]
  },
  {
   "cell_type": "markdown",
   "metadata": {},
   "source": [
    "El resultado es el esperado. Como dije al principio, quizá el sensor de luminosidad está demasiado relacionado con el resultado, es algo para ver. De todos modos, este modelo parece algo que podemos aplicar, extendiendolo a más de un dispositivo por ambiente.\n",
    "\n",
    "Lo otro que podemos hacer es usar la salida de esta red como entrada para una red general, que represente la casa."
   ]
  }
 ],
 "metadata": {
  "kernelspec": {
   "display_name": "Python 2",
   "language": "python",
   "name": "python2"
  },
  "language_info": {
   "codemirror_mode": {
    "name": "ipython",
    "version": 2
   },
   "file_extension": ".py",
   "mimetype": "text/x-python",
   "name": "python",
   "nbconvert_exporter": "python",
   "pygments_lexer": "ipython2",
   "version": "2.7.13"
  }
 },
 "nbformat": 4,
 "nbformat_minor": 2
}
