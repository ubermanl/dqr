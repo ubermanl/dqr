{
 "cells": [
  {
   "cell_type": "markdown",
   "metadata": {},
   "source": [
    "# Prueba de Red Neuronal Artificial con Back Propagation"
   ]
  },
  {
   "cell_type": "markdown",
   "metadata": {},
   "source": [
    "## Import de librerías"
   ]
  },
  {
   "cell_type": "code",
   "execution_count": 2,
   "metadata": {
    "collapsed": true
   },
   "outputs": [],
   "source": [
    "import pandas as pd\n",
    "import numpy as np\n",
    "import matplotlib as mpl\n",
    "import matplotlib.pyplot as plt\n",
    "from datetime import datetime, timedelta\n",
    "from IPython.display import display\n",
    "from sklearn.cluster import KMeans\n",
    "import MySQLdb\n",
    "#from pandas.io import sql\n",
    "#from sqlalchemy import create_engine\n",
    "\n",
    "%matplotlib inline\n",
    "\n",
    "pd.options.mode.chained_assignment = None  # default='warn'"
   ]
  },
  {
   "cell_type": "markdown",
   "metadata": {},
   "source": [
    "## Configuración\n",
    "### Conexión al DWH"
   ]
  },
  {
   "cell_type": "code",
   "execution_count": 3,
   "metadata": {
    "collapsed": true
   },
   "outputs": [],
   "source": [
    "# Base de datos histórica\n",
    "dbname_hist = \"ratio_dwh\"\n",
    "dbhost_hist = \"localhost\"\n",
    "dbport_hist = 3306\n",
    "dbuser_hist = \"root\"\n",
    "dbpass_hist = \"root\"\n",
    "device_events_tbl = \"device_events\"\n",
    "device_event_sensors_tbl = \"device_event_sensors\"\n",
    "device_modules_tbl = \"device_modules\""
   ]
  },
  {
   "cell_type": "markdown",
   "metadata": {},
   "source": [
    "### Variables de configuración"
   ]
  },
  {
   "cell_type": "code",
   "execution_count": 4,
   "metadata": {
    "collapsed": true
   },
   "outputs": [],
   "source": [
    "device_id = 5                   # Device id donde esta el modulo a entrenar\n",
    "lux_module_id = 51              # Modulo a entrenar\n",
    "\n",
    "# Variables de tipos de sensores\n",
    "ACS_SENSOR_TYPE = 1\n",
    "LIGHT_SENSOR_TYPE = 2\n",
    "MOVEMENT_SENSOR_TYPE = 3\n",
    "SOUND_SENSOR_TYPE = 4\n",
    "TEMP_SENSOR_TYPE = 5"
   ]
  },
  {
   "cell_type": "markdown",
   "metadata": {},
   "source": [
    "### Funciones"
   ]
  },
  {
   "cell_type": "code",
   "execution_count": 5,
   "metadata": {
    "collapsed": true
   },
   "outputs": [],
   "source": [
    "# Funcion para pasar de sensor_id a nombre\n",
    "def sensorIdToStr(sensor_id):\n",
    "    return {\n",
    "        ACS_SENSOR_TYPE: 'LUX_ACS',\n",
    "        LIGHT_SENSOR_TYPE: 'LIGHT',\n",
    "        MOVEMENT_SENSOR_TYPE: 'MOVEMENT',\n",
    "        SOUND_SENSOR_TYPE: 'SOUND',\n",
    "        TEMP_SENSOR_TYPE: 'TEMPERATURE'\n",
    "    }.get(sensor_id, sensor_id)"
   ]
  },
  {
   "cell_type": "markdown",
   "metadata": {},
   "source": [
    "## Extracción de datos del DWH"
   ]
  },
  {
   "cell_type": "code",
   "execution_count": 6,
   "metadata": {},
   "outputs": [
    {
     "name": "stdout",
     "output_type": "stream",
     "text": [
      "Wall time: 12.5 s\n"
     ]
    }
   ],
   "source": [
    "# Estrayendo valores de la tabla de eventos\n",
    "conn = MySQLdb.connect(host=dbhost_hist, port=dbport_hist, user=dbuser_hist, passwd=dbpass_hist, db=dbname_hist)\n",
    "from_stm = 'FROM ' + device_events_tbl + ' de LEFT JOIN ' + device_event_sensors_tbl + ' des ON de.id=des.device_event_id '\n",
    "where_stm = 'WHERE device_id = ' + str(device_id) + ' AND module_id = ' + str(lux_module_id) + ' AND ts BETWEEN DATE_SUB(NOW(), INTERVAL 90 DAY) AND NOW()'\n",
    "%time df_events_qry = pd.read_sql('select ts, state, sensor_type_id, value ' + from_stm + where_stm, con=conn)\n",
    "conn.close()"
   ]
  },
  {
   "cell_type": "code",
   "execution_count": 7,
   "metadata": {},
   "outputs": [
    {
     "data": {
      "text/html": [
       "<div>\n",
       "<style>\n",
       "    .dataframe thead tr:only-child th {\n",
       "        text-align: right;\n",
       "    }\n",
       "\n",
       "    .dataframe thead th {\n",
       "        text-align: left;\n",
       "    }\n",
       "\n",
       "    .dataframe tbody tr th {\n",
       "        vertical-align: top;\n",
       "    }\n",
       "</style>\n",
       "<table border=\"1\" class=\"dataframe\">\n",
       "  <thead>\n",
       "    <tr style=\"text-align: right;\">\n",
       "      <th></th>\n",
       "      <th>ts</th>\n",
       "      <th>state</th>\n",
       "      <th>sensor_type_id</th>\n",
       "      <th>value</th>\n",
       "    </tr>\n",
       "  </thead>\n",
       "  <tbody>\n",
       "    <tr>\n",
       "      <th>0</th>\n",
       "      <td>2017-08-17 20:10:00</td>\n",
       "      <td>0</td>\n",
       "      <td>2</td>\n",
       "      <td>5.000000</td>\n",
       "    </tr>\n",
       "    <tr>\n",
       "      <th>1</th>\n",
       "      <td>2017-08-17 20:10:00</td>\n",
       "      <td>0</td>\n",
       "      <td>4</td>\n",
       "      <td>66.441262</td>\n",
       "    </tr>\n",
       "    <tr>\n",
       "      <th>2</th>\n",
       "      <td>2017-08-17 20:10:00</td>\n",
       "      <td>0</td>\n",
       "      <td>3</td>\n",
       "      <td>1.000000</td>\n",
       "    </tr>\n",
       "    <tr>\n",
       "      <th>3</th>\n",
       "      <td>2017-08-17 20:10:00</td>\n",
       "      <td>0</td>\n",
       "      <td>1</td>\n",
       "      <td>0.005552</td>\n",
       "    </tr>\n",
       "    <tr>\n",
       "      <th>4</th>\n",
       "      <td>2017-08-17 20:11:00</td>\n",
       "      <td>1</td>\n",
       "      <td>2</td>\n",
       "      <td>406.289053</td>\n",
       "    </tr>\n",
       "  </tbody>\n",
       "</table>\n",
       "</div>"
      ],
      "text/plain": [
       "                   ts  state  sensor_type_id       value\n",
       "0 2017-08-17 20:10:00      0               2    5.000000\n",
       "1 2017-08-17 20:10:00      0               4   66.441262\n",
       "2 2017-08-17 20:10:00      0               3    1.000000\n",
       "3 2017-08-17 20:10:00      0               1    0.005552\n",
       "4 2017-08-17 20:11:00      1               2  406.289053"
      ]
     },
     "execution_count": 7,
     "metadata": {},
     "output_type": "execute_result"
    }
   ],
   "source": [
    "df_events_qry.head(5)"
   ]
  },
  {
   "cell_type": "markdown",
   "metadata": {},
   "source": [
    "### Generación de dataset para entrenamiento"
   ]
  },
  {
   "cell_type": "code",
   "execution_count": 8,
   "metadata": {
    "collapsed": true
   },
   "outputs": [],
   "source": [
    "# Se elininan los eventos de estado sin sensado\n",
    "df_events_qry.dropna(inplace=True)"
   ]
  },
  {
   "cell_type": "code",
   "execution_count": 9,
   "metadata": {
    "collapsed": true
   },
   "outputs": [],
   "source": [
    "# Se \"aplanan\" los eventos con una tabla pivot sobre la columna sensor_type_id\n",
    "df_events = df_events_qry.pivot_table(index=['ts','state'], columns='sensor_type_id', values='value', aggfunc=np.mean)\n",
    "# Se elimina el multiindex de columnas generado por pivot_table\n",
    "df_events = df_events.reset_index().rename_axis(None, axis=1)\n",
    "# Se renombran las columnas\n",
    "df_events.rename(columns={'ts': 'TIMESTAMP', 'state': 'LUX_ON'},inplace=True)\n",
    "df_events.columns = [ sensorIdToStr(colname) for colname in df_events.columns ]"
   ]
  },
  {
   "cell_type": "code",
   "execution_count": 10,
   "metadata": {
    "scrolled": true
   },
   "outputs": [
    {
     "data": {
      "text/html": [
       "<div>\n",
       "<style>\n",
       "    .dataframe thead tr:only-child th {\n",
       "        text-align: right;\n",
       "    }\n",
       "\n",
       "    .dataframe thead th {\n",
       "        text-align: left;\n",
       "    }\n",
       "\n",
       "    .dataframe tbody tr th {\n",
       "        vertical-align: top;\n",
       "    }\n",
       "</style>\n",
       "<table border=\"1\" class=\"dataframe\">\n",
       "  <thead>\n",
       "    <tr style=\"text-align: right;\">\n",
       "      <th></th>\n",
       "      <th>TIMESTAMP</th>\n",
       "      <th>LUX_ON</th>\n",
       "      <th>LUX_ACS</th>\n",
       "      <th>LIGHT</th>\n",
       "      <th>MOVEMENT</th>\n",
       "      <th>SOUND</th>\n",
       "    </tr>\n",
       "  </thead>\n",
       "  <tbody>\n",
       "    <tr>\n",
       "      <th>0</th>\n",
       "      <td>2017-08-17 20:10:00</td>\n",
       "      <td>0</td>\n",
       "      <td>0.005552</td>\n",
       "      <td>5.000000</td>\n",
       "      <td>1.0</td>\n",
       "      <td>66.441262</td>\n",
       "    </tr>\n",
       "    <tr>\n",
       "      <th>1</th>\n",
       "      <td>2017-08-17 20:11:00</td>\n",
       "      <td>1</td>\n",
       "      <td>0.223130</td>\n",
       "      <td>406.289053</td>\n",
       "      <td>1.0</td>\n",
       "      <td>61.610476</td>\n",
       "    </tr>\n",
       "    <tr>\n",
       "      <th>2</th>\n",
       "      <td>2017-08-17 20:12:00</td>\n",
       "      <td>1</td>\n",
       "      <td>0.220466</td>\n",
       "      <td>377.817085</td>\n",
       "      <td>1.0</td>\n",
       "      <td>57.781043</td>\n",
       "    </tr>\n",
       "    <tr>\n",
       "      <th>3</th>\n",
       "      <td>2017-08-17 20:13:00</td>\n",
       "      <td>1</td>\n",
       "      <td>0.229248</td>\n",
       "      <td>413.405136</td>\n",
       "      <td>1.0</td>\n",
       "      <td>56.973677</td>\n",
       "    </tr>\n",
       "    <tr>\n",
       "      <th>4</th>\n",
       "      <td>2017-08-17 20:14:00</td>\n",
       "      <td>1</td>\n",
       "      <td>0.246397</td>\n",
       "      <td>385.720735</td>\n",
       "      <td>1.0</td>\n",
       "      <td>66.315798</td>\n",
       "    </tr>\n",
       "  </tbody>\n",
       "</table>\n",
       "</div>"
      ],
      "text/plain": [
       "            TIMESTAMP  LUX_ON   LUX_ACS       LIGHT  MOVEMENT      SOUND\n",
       "0 2017-08-17 20:10:00       0  0.005552    5.000000       1.0  66.441262\n",
       "1 2017-08-17 20:11:00       1  0.223130  406.289053       1.0  61.610476\n",
       "2 2017-08-17 20:12:00       1  0.220466  377.817085       1.0  57.781043\n",
       "3 2017-08-17 20:13:00       1  0.229248  413.405136       1.0  56.973677\n",
       "4 2017-08-17 20:14:00       1  0.246397  385.720735       1.0  66.315798"
      ]
     },
     "execution_count": 10,
     "metadata": {},
     "output_type": "execute_result"
    }
   ],
   "source": [
    "df_events.head(5)"
   ]
  },
  {
   "cell_type": "markdown",
   "metadata": {},
   "source": [
    "### Chequeo de valores null"
   ]
  },
  {
   "cell_type": "code",
   "execution_count": 11,
   "metadata": {},
   "outputs": [
    {
     "data": {
      "text/plain": [
       "TIMESTAMP    False\n",
       "LUX_ON       False\n",
       "LUX_ACS      False\n",
       "LIGHT        False\n",
       "MOVEMENT     False\n",
       "SOUND        False\n",
       "dtype: bool"
      ]
     },
     "execution_count": 11,
     "metadata": {},
     "output_type": "execute_result"
    }
   ],
   "source": [
    "# columnas con null\n",
    "df_events.isnull().any()"
   ]
  },
  {
   "cell_type": "markdown",
   "metadata": {},
   "source": [
    "#### Corrigiendo valores null\n",
    "Podríamos utilizar diferentes opciones:\n",
    "- pad: se rellena con el último valor\n",
    "- interpolate: se rellena con valores interpolados de la columna (quizá el más apropiado para valores continuos). La interpolacion puede ser:\n",
    "    - Lineal\n",
    "    - Cuadratica\n",
    "    - Cubica\n",
    "- escalar: se rellena con un número específico"
   ]
  },
  {
   "cell_type": "code",
   "execution_count": 12,
   "metadata": {
    "collapsed": true
   },
   "outputs": [],
   "source": [
    "#dftemp = pd.DataFrame(df_events.TEMPERATURE.interpolate(method='linear'), columns=['TEMP_L'] )\n",
    "#dftemp['TEMP_Q'] = df_events.TEMPERATURE.interpolate(method='quadratic')\n",
    "#dftemp['TEMP_C'] = df_events.TEMPERATURE.interpolate(method='cubic')"
   ]
  },
  {
   "cell_type": "code",
   "execution_count": 13,
   "metadata": {
    "collapsed": true,
    "scrolled": true
   },
   "outputs": [],
   "source": [
    "#dftemp[7200:11520].plot()"
   ]
  },
  {
   "cell_type": "markdown",
   "metadata": {},
   "source": [
    "Como las interpolaciones son similares, podría utilizarse cualquier método. En este caso usaremos la cuadrática."
   ]
  },
  {
   "cell_type": "code",
   "execution_count": 14,
   "metadata": {
    "collapsed": true
   },
   "outputs": [],
   "source": [
    "#df_events['TEMPERATURE'] = df_events.TEMPERATURE.interpolate(method='quadratic')"
   ]
  },
  {
   "cell_type": "markdown",
   "metadata": {},
   "source": [
    "#### Verificación final de valores null"
   ]
  },
  {
   "cell_type": "code",
   "execution_count": 15,
   "metadata": {},
   "outputs": [
    {
     "data": {
      "text/plain": [
       "False"
      ]
     },
     "execution_count": 15,
     "metadata": {},
     "output_type": "execute_result"
    }
   ],
   "source": [
    "df_events.isnull().values.any()"
   ]
  },
  {
   "cell_type": "markdown",
   "metadata": {},
   "source": [
    "### Verificando dataset completo\n",
    "Para analizar un comportamiento predictivo y desarrollar un modelo es necesario contar con un dataset completo que no tenga saltos en las mediciones. Por lo tanto, se debe verificar que cuente con datos en todos los minutos del rango obtenido."
   ]
  },
  {
   "cell_type": "code",
   "execution_count": 16,
   "metadata": {
    "collapsed": true
   },
   "outputs": [],
   "source": [
    "### TODO\n",
    "# rellenar huecos de Timestamp\n",
    "# promediar rows con mismo minuto\n",
    "# rellenar mediciones agregadas con padding"
   ]
  },
  {
   "cell_type": "markdown",
   "metadata": {},
   "source": [
    "## Limpieza del dataset\n",
    "Debido a que no se necesitan todas las columnas para realizar el entrenamiento de la RNA, se eliminan las que no representen relación con lo que se busca predecir.\n",
    "- LUX_ACS\n",
    "\n",
    "Las mediciones de LUX_ACS pueden ignorarse para este tipo de entrenamiento."
   ]
  },
  {
   "cell_type": "code",
   "execution_count": 17,
   "metadata": {
    "collapsed": true
   },
   "outputs": [],
   "source": [
    "del df_events['LUX_ACS']"
   ]
  },
  {
   "cell_type": "markdown",
   "metadata": {},
   "source": [
    "### Ajuste y transformación de variables\n",
    "Se aplican ajustes y correcciones a las variables del dataset"
   ]
  },
  {
   "cell_type": "code",
   "execution_count": 18,
   "metadata": {
    "collapsed": true
   },
   "outputs": [],
   "source": [
    "df_events['MOVEMENT'] = df_events.MOVEMENT.astype(int)"
   ]
  },
  {
   "cell_type": "markdown",
   "metadata": {},
   "source": [
    "Se generan variables de la dimensión TIEMPO"
   ]
  },
  {
   "cell_type": "code",
   "execution_count": 19,
   "metadata": {
    "collapsed": true
   },
   "outputs": [],
   "source": [
    "#df_events['YEARDAY'] = df_events['TIMESTAMP'].dt.strftime('%j').astype(int)\n",
    "df_events['WEEKDAY'] = df_events['TIMESTAMP'].dt.weekday\n",
    "df_events['HOUR'] = df_events['TIMESTAMP'].dt.hour\n",
    "#df_events['MINDAY'] = df_events['HOUR'] * 60 + df_general['MINUTE']"
   ]
  },
  {
   "cell_type": "markdown",
   "metadata": {
    "collapsed": true
   },
   "source": [
    "## Análisis Exploratorio inicial\n",
    "\n",
    "### Función de correlación\n",
    "Hace una matriz de correlación entre las variables. Cuanto más claro el color, mayor correlación entre las variables. La diagonal debería ser amarilla, y representa la correlación de una variable con sí misma.\n",
    "\n",
    "Esta función tiene dos entradas:\n",
    "1. El dataframe panda a analizar\n",
    "2. El tamáño de gráfico que se quiere imprimir"
   ]
  },
  {
   "cell_type": "code",
   "execution_count": 20,
   "metadata": {
    "collapsed": true
   },
   "outputs": [],
   "source": [
    "def plot_corr(df, size=6):\n",
    "    corr = df.corr()    # data frame correlation function\n",
    "    fig, ax = plt.subplots(figsize=(size, size))\n",
    "    ax.matshow(corr)   # color code the rectangles by correlation value\n",
    "    plt.xticks(range(len(corr.columns)), corr.columns)  # draw x tick marks\n",
    "    plt.yticks(range(len(corr.columns)), corr.columns)  # draw y tick marks"
   ]
  },
  {
   "cell_type": "code",
   "execution_count": 21,
   "metadata": {},
   "outputs": [
    {
     "data": {
      "image/png": "[encoded data removed]",
      "text/plain": [
       "<matplotlib.figure.Figure at 0xbd0b278>"
      ]
     },
     "metadata": {},
     "output_type": "display_data"
    }
   ],
   "source": [
    "plot_corr(df_events)"
   ]
  },
  {
   "cell_type": "code",
   "execution_count": 22,
   "metadata": {},
   "outputs": [
    {
     "data": {
      "text/html": [
       "<style  type=\"text/css\" >\n",
       "    #T_1ef5014f_ca5a_11e7_bf1f_f0def1f5c226row0_col0 {\n",
       "            width:  10em;\n",
       "             height:  80%;\n",
       "            background:  linear-gradient(90deg,#d65f5f 100.0%, transparent 0%);\n",
       "        }    #T_1ef5014f_ca5a_11e7_bf1f_f0def1f5c226row1_col0 {\n",
       "            width:  10em;\n",
       "             height:  80%;\n",
       "            background:  linear-gradient(90deg,#d65f5f 12.5%, transparent 0%);\n",
       "        }    #T_1ef5014f_ca5a_11e7_bf1f_f0def1f5c226row2_col0 {\n",
       "            width:  10em;\n",
       "             height:  80%;\n",
       "            background:  linear-gradient(90deg,#d65f5f 45.9%, transparent 0%);\n",
       "        }    #T_1ef5014f_ca5a_11e7_bf1f_f0def1f5c226row3_col0 {\n",
       "            width:  10em;\n",
       "             height:  80%;\n",
       "            background:  linear-gradient(90deg,#d65f5f 38.1%, transparent 0%);\n",
       "        }    #T_1ef5014f_ca5a_11e7_bf1f_f0def1f5c226row4_col0 {\n",
       "            width:  10em;\n",
       "             height:  80%;\n",
       "        }    #T_1ef5014f_ca5a_11e7_bf1f_f0def1f5c226row5_col0 {\n",
       "            width:  10em;\n",
       "             height:  80%;\n",
       "            background:  linear-gradient(90deg,#d65f5f 38.9%, transparent 0%);\n",
       "        }</style>  \n",
       "<table id=\"T_1ef5014f_ca5a_11e7_bf1f_f0def1f5c226\" > \n",
       "<thead>    <tr> \n",
       "        <th class=\"blank level0\" ></th> \n",
       "        <th class=\"col_heading level0 col0\" >LUX_ON</th> \n",
       "        <th class=\"col_heading level0 col1\" >LIGHT</th> \n",
       "        <th class=\"col_heading level0 col2\" >MOVEMENT</th> \n",
       "        <th class=\"col_heading level0 col3\" >SOUND</th> \n",
       "        <th class=\"col_heading level0 col4\" >WEEKDAY</th> \n",
       "        <th class=\"col_heading level0 col5\" >HOUR</th> \n",
       "    </tr></thead> \n",
       "<tbody>    <tr> \n",
       "        <th id=\"T_1ef5014f_ca5a_11e7_bf1f_f0def1f5c226\" class=\"row_heading level0 row0\" >LUX_ON</th> \n",
       "        <td id=\"T_1ef5014f_ca5a_11e7_bf1f_f0def1f5c226row0_col0\" class=\"data row0 col0\" >1</td> \n",
       "        <td id=\"T_1ef5014f_ca5a_11e7_bf1f_f0def1f5c226row0_col1\" class=\"data row0 col1\" >0.160313</td> \n",
       "        <td id=\"T_1ef5014f_ca5a_11e7_bf1f_f0def1f5c226row0_col2\" class=\"data row0 col2\" >0.481136</td> \n",
       "        <td id=\"T_1ef5014f_ca5a_11e7_bf1f_f0def1f5c226row0_col3\" class=\"data row0 col3\" >0.406332</td> \n",
       "        <td id=\"T_1ef5014f_ca5a_11e7_bf1f_f0def1f5c226row0_col4\" class=\"data row0 col4\" >0.0405894</td> \n",
       "        <td id=\"T_1ef5014f_ca5a_11e7_bf1f_f0def1f5c226row0_col5\" class=\"data row0 col5\" >0.413593</td> \n",
       "    </tr>    <tr> \n",
       "        <th id=\"T_1ef5014f_ca5a_11e7_bf1f_f0def1f5c226\" class=\"row_heading level0 row1\" >LIGHT</th> \n",
       "        <td id=\"T_1ef5014f_ca5a_11e7_bf1f_f0def1f5c226row1_col0\" class=\"data row1 col0\" >0.160313</td> \n",
       "        <td id=\"T_1ef5014f_ca5a_11e7_bf1f_f0def1f5c226row1_col1\" class=\"data row1 col1\" >1</td> \n",
       "        <td id=\"T_1ef5014f_ca5a_11e7_bf1f_f0def1f5c226row1_col2\" class=\"data row1 col2\" >0.177299</td> \n",
       "        <td id=\"T_1ef5014f_ca5a_11e7_bf1f_f0def1f5c226row1_col3\" class=\"data row1 col3\" >0.151459</td> \n",
       "        <td id=\"T_1ef5014f_ca5a_11e7_bf1f_f0def1f5c226row1_col4\" class=\"data row1 col4\" >0.00983431</td> \n",
       "        <td id=\"T_1ef5014f_ca5a_11e7_bf1f_f0def1f5c226row1_col5\" class=\"data row1 col5\" >0.370608</td> \n",
       "    </tr>    <tr> \n",
       "        <th id=\"T_1ef5014f_ca5a_11e7_bf1f_f0def1f5c226\" class=\"row_heading level0 row2\" >MOVEMENT</th> \n",
       "        <td id=\"T_1ef5014f_ca5a_11e7_bf1f_f0def1f5c226row2_col0\" class=\"data row2 col0\" >0.481136</td> \n",
       "        <td id=\"T_1ef5014f_ca5a_11e7_bf1f_f0def1f5c226row2_col1\" class=\"data row2 col1\" >0.177299</td> \n",
       "        <td id=\"T_1ef5014f_ca5a_11e7_bf1f_f0def1f5c226row2_col2\" class=\"data row2 col2\" >1</td> \n",
       "        <td id=\"T_1ef5014f_ca5a_11e7_bf1f_f0def1f5c226row2_col3\" class=\"data row2 col3\" >0.844207</td> \n",
       "        <td id=\"T_1ef5014f_ca5a_11e7_bf1f_f0def1f5c226row2_col4\" class=\"data row2 col4\" >0.318614</td> \n",
       "        <td id=\"T_1ef5014f_ca5a_11e7_bf1f_f0def1f5c226row2_col5\" class=\"data row2 col5\" >0.562068</td> \n",
       "    </tr>    <tr> \n",
       "        <th id=\"T_1ef5014f_ca5a_11e7_bf1f_f0def1f5c226\" class=\"row_heading level0 row3\" >SOUND</th> \n",
       "        <td id=\"T_1ef5014f_ca5a_11e7_bf1f_f0def1f5c226row3_col0\" class=\"data row3 col0\" >0.406332</td> \n",
       "        <td id=\"T_1ef5014f_ca5a_11e7_bf1f_f0def1f5c226row3_col1\" class=\"data row3 col1\" >0.151459</td> \n",
       "        <td id=\"T_1ef5014f_ca5a_11e7_bf1f_f0def1f5c226row3_col2\" class=\"data row3 col2\" >0.844207</td> \n",
       "        <td id=\"T_1ef5014f_ca5a_11e7_bf1f_f0def1f5c226row3_col3\" class=\"data row3 col3\" >1</td> \n",
       "        <td id=\"T_1ef5014f_ca5a_11e7_bf1f_f0def1f5c226row3_col4\" class=\"data row3 col4\" >0.265185</td> \n",
       "        <td id=\"T_1ef5014f_ca5a_11e7_bf1f_f0def1f5c226row3_col5\" class=\"data row3 col5\" >0.468079</td> \n",
       "    </tr>    <tr> \n",
       "        <th id=\"T_1ef5014f_ca5a_11e7_bf1f_f0def1f5c226\" class=\"row_heading level0 row4\" >WEEKDAY</th> \n",
       "        <td id=\"T_1ef5014f_ca5a_11e7_bf1f_f0def1f5c226row4_col0\" class=\"data row4 col0\" >0.0405894</td> \n",
       "        <td id=\"T_1ef5014f_ca5a_11e7_bf1f_f0def1f5c226row4_col1\" class=\"data row4 col1\" >0.00983431</td> \n",
       "        <td id=\"T_1ef5014f_ca5a_11e7_bf1f_f0def1f5c226row4_col2\" class=\"data row4 col2\" >0.318614</td> \n",
       "        <td id=\"T_1ef5014f_ca5a_11e7_bf1f_f0def1f5c226row4_col3\" class=\"data row4 col3\" >0.265185</td> \n",
       "        <td id=\"T_1ef5014f_ca5a_11e7_bf1f_f0def1f5c226row4_col4\" class=\"data row4 col4\" >1</td> \n",
       "        <td id=\"T_1ef5014f_ca5a_11e7_bf1f_f0def1f5c226row4_col5\" class=\"data row4 col5\" >0.00128342</td> \n",
       "    </tr>    <tr> \n",
       "        <th id=\"T_1ef5014f_ca5a_11e7_bf1f_f0def1f5c226\" class=\"row_heading level0 row5\" >HOUR</th> \n",
       "        <td id=\"T_1ef5014f_ca5a_11e7_bf1f_f0def1f5c226row5_col0\" class=\"data row5 col0\" >0.413593</td> \n",
       "        <td id=\"T_1ef5014f_ca5a_11e7_bf1f_f0def1f5c226row5_col1\" class=\"data row5 col1\" >0.370608</td> \n",
       "        <td id=\"T_1ef5014f_ca5a_11e7_bf1f_f0def1f5c226row5_col2\" class=\"data row5 col2\" >0.562068</td> \n",
       "        <td id=\"T_1ef5014f_ca5a_11e7_bf1f_f0def1f5c226row5_col3\" class=\"data row5 col3\" >0.468079</td> \n",
       "        <td id=\"T_1ef5014f_ca5a_11e7_bf1f_f0def1f5c226row5_col4\" class=\"data row5 col4\" >0.00128342</td> \n",
       "        <td id=\"T_1ef5014f_ca5a_11e7_bf1f_f0def1f5c226row5_col5\" class=\"data row5 col5\" >1</td> \n",
       "    </tr></tbody> \n",
       "</table> "
      ],
      "text/plain": [
       "<pandas.io.formats.style.Styler at 0x16de2f60>"
      ]
     },
     "execution_count": 22,
     "metadata": {},
     "output_type": "execute_result"
    }
   ],
   "source": [
    "df_events.corr().style.bar(subset=['LUX_ON'], color='#d65f5f', axis=0)"
   ]
  },
  {
   "cell_type": "markdown",
   "metadata": {},
   "source": [
    "Debido a que no se puede ver una relación fuerte entre LUX_ON y el resto de los atributos, se procede a construir otro dataset a partir del obtenido con variables más significativas.\n",
    "\n",
    "### Generación de nuevas variables\n",
    "Se analizará la relación del estado de la luz (LUX_ON) con variables dependientes del dataset generado. El objetivo es intentar representar relaciones más adecuadas con el entorno tanto a nivel espacial como temporal.\n",
    "Las mediciones (facts) a construir son:\n",
    "- LIGHT_1m    medición de luz en el último minuto (sin contar la medición actual)\n",
    "- MOVEMENT_1m     proporción del sensor PIR activado en el último minuto\n",
    "- MOVEMENT_5m     proporción del sensor PIR activado en los últimos 5 minutos\n",
    "- MOVEMENT_15m    proporción del sensor PIR activado en los últimos 15 minutos\n",
    "\n",
    "Se sumarán al dataset actual manteniendo las dimensiones y mediciones previas:\n",
    "- WEEKDAY\n",
    "- HOUR\n",
    "- SOUND\n",
    "- MOVEMENT\n",
    "- LIGHT\n",
    "- LUX_ON"
   ]
  },
  {
   "cell_type": "code",
   "execution_count": 96,
   "metadata": {
    "collapsed": true
   },
   "outputs": [],
   "source": [
    "df_events['LIGHT_1m'] = df_events.LIGHT.shift(1)\n",
    "df_events['MOVEMENT_CHANGE'] = df_events.MOVEMENT.diff()\n",
    "df_events['MOVEMENT_1m'] = df_events.MOVEMENT.shift(1)\n",
    "df_events['MOVEMENT_5m'] = df_events.MOVEMENT.rolling(5).sum() / 5\n",
    "df_events['MOVEMENT_15m'] = df_events.MOVEMENT.rolling(15).sum() / 15\n",
    "df_events['LUX_SWITCH'] = df_events.LUX_ON.diff()\n",
    "df_events['LIGHT_LAST_STATE'] = df_events.query('LUX_SWITCH != 0').LIGHT_1m\n",
    "df_events['LIGHT_LAST_STATE'] = df_events['LIGHT_LAST_STATE'].fillna(method='pad')\n",
    "df_events.dropna(inplace=True)"
   ]
  },
  {
   "cell_type": "code",
   "execution_count": 52,
   "metadata": {
    "scrolled": false
   },
   "outputs": [
    {
     "data": {
      "image/png": "[encoded data removed]",
      "text/plain": [
       "<matplotlib.figure.Figure at 0x132ec9e8>"
      ]
     },
     "metadata": {},
     "output_type": "display_data"
    }
   ],
   "source": [
    "plot_corr(df_events,14)"
   ]
  },
  {
   "cell_type": "code",
   "execution_count": 53,
   "metadata": {},
   "outputs": [
    {
     "data": {
      "text/html": [
       "<style  type=\"text/css\" >\n",
       "    #T_34faf240_ca5d_11e7_b69c_f0def1f5c226row0_col0 {\n",
       "            width:  10em;\n",
       "             height:  80%;\n",
       "            background:  linear-gradient(90deg,#d65f5f 100.0%, transparent 0%);\n",
       "        }    #T_34faf240_ca5d_11e7_b69c_f0def1f5c226row1_col0 {\n",
       "            width:  10em;\n",
       "             height:  80%;\n",
       "            background:  linear-gradient(90deg,#d65f5f 53.4%, transparent 0%);\n",
       "        }    #T_34faf240_ca5d_11e7_b69c_f0def1f5c226row2_col0 {\n",
       "            width:  10em;\n",
       "             height:  80%;\n",
       "            background:  linear-gradient(90deg,#d65f5f 71.2%, transparent 0%);\n",
       "        }    #T_34faf240_ca5d_11e7_b69c_f0def1f5c226row3_col0 {\n",
       "            width:  10em;\n",
       "             height:  80%;\n",
       "            background:  linear-gradient(90deg,#d65f5f 67.0%, transparent 0%);\n",
       "        }    #T_34faf240_ca5d_11e7_b69c_f0def1f5c226row4_col0 {\n",
       "            width:  10em;\n",
       "             height:  80%;\n",
       "            background:  linear-gradient(90deg,#d65f5f 46.7%, transparent 0%);\n",
       "        }    #T_34faf240_ca5d_11e7_b69c_f0def1f5c226row5_col0 {\n",
       "            width:  10em;\n",
       "             height:  80%;\n",
       "            background:  linear-gradient(90deg,#d65f5f 67.4%, transparent 0%);\n",
       "        }    #T_34faf240_ca5d_11e7_b69c_f0def1f5c226row6_col0 {\n",
       "            width:  10em;\n",
       "             height:  80%;\n",
       "            background:  linear-gradient(90deg,#d65f5f 39.5%, transparent 0%);\n",
       "        }    #T_34faf240_ca5d_11e7_b69c_f0def1f5c226row7_col0 {\n",
       "            width:  10em;\n",
       "             height:  80%;\n",
       "            background:  linear-gradient(90deg,#d65f5f 49.2%, transparent 0%);\n",
       "        }    #T_34faf240_ca5d_11e7_b69c_f0def1f5c226row8_col0 {\n",
       "            width:  10em;\n",
       "             height:  80%;\n",
       "            background:  linear-gradient(90deg,#d65f5f 69.5%, transparent 0%);\n",
       "        }    #T_34faf240_ca5d_11e7_b69c_f0def1f5c226row9_col0 {\n",
       "            width:  10em;\n",
       "             height:  80%;\n",
       "            background:  linear-gradient(90deg,#d65f5f 70.3%, transparent 0%);\n",
       "        }    #T_34faf240_ca5d_11e7_b69c_f0def1f5c226row10_col0 {\n",
       "            width:  10em;\n",
       "             height:  80%;\n",
       "            background:  linear-gradient(90deg,#d65f5f 69.9%, transparent 0%);\n",
       "        }    #T_34faf240_ca5d_11e7_b69c_f0def1f5c226row11_col0 {\n",
       "            width:  10em;\n",
       "             height:  80%;\n",
       "            background:  linear-gradient(90deg,#d65f5f 73.5%, transparent 0%);\n",
       "        }    #T_34faf240_ca5d_11e7_b69c_f0def1f5c226row12_col0 {\n",
       "            width:  10em;\n",
       "             height:  80%;\n",
       "        }</style>  \n",
       "<table id=\"T_34faf240_ca5d_11e7_b69c_f0def1f5c226\" > \n",
       "<thead>    <tr> \n",
       "        <th class=\"blank level0\" ></th> \n",
       "        <th class=\"col_heading level0 col0\" >LUX_ON</th> \n",
       "        <th class=\"col_heading level0 col1\" >LIGHT</th> \n",
       "        <th class=\"col_heading level0 col2\" >MOVEMENT</th> \n",
       "        <th class=\"col_heading level0 col3\" >SOUND</th> \n",
       "        <th class=\"col_heading level0 col4\" >WEEKDAY</th> \n",
       "        <th class=\"col_heading level0 col5\" >HOUR</th> \n",
       "        <th class=\"col_heading level0 col6\" >LIGHT_1m</th> \n",
       "        <th class=\"col_heading level0 col7\" >MOVEMENT_CHANGE</th> \n",
       "        <th class=\"col_heading level0 col8\" >MOVEMENT_1m</th> \n",
       "        <th class=\"col_heading level0 col9\" >MOVEMENT_5m</th> \n",
       "        <th class=\"col_heading level0 col10\" >MOVEMENT_15m</th> \n",
       "        <th class=\"col_heading level0 col11\" >LUX_SWITCH</th> \n",
       "        <th class=\"col_heading level0 col12\" >LIGHT_LAST_STATE</th> \n",
       "    </tr></thead> \n",
       "<tbody>    <tr> \n",
       "        <th id=\"T_34faf240_ca5d_11e7_b69c_f0def1f5c226\" class=\"row_heading level0 row0\" >LUX_ON</th> \n",
       "        <td id=\"T_34faf240_ca5d_11e7_b69c_f0def1f5c226row0_col0\" class=\"data row0 col0\" >1</td> \n",
       "        <td id=\"T_34faf240_ca5d_11e7_b69c_f0def1f5c226row0_col1\" class=\"data row0 col1\" >0.160249</td> \n",
       "        <td id=\"T_34faf240_ca5d_11e7_b69c_f0def1f5c226row0_col2\" class=\"data row0 col2\" >0.481026</td> \n",
       "        <td id=\"T_34faf240_ca5d_11e7_b69c_f0def1f5c226row0_col3\" class=\"data row0 col3\" >0.406209</td> \n",
       "        <td id=\"T_34faf240_ca5d_11e7_b69c_f0def1f5c226row0_col4\" class=\"data row0 col4\" >0.0406035</td> \n",
       "        <td id=\"T_34faf240_ca5d_11e7_b69c_f0def1f5c226row0_col5\" class=\"data row0 col5\" >0.413485</td> \n",
       "        <td id=\"T_34faf240_ca5d_11e7_b69c_f0def1f5c226row0_col6\" class=\"data row0 col6\" >-0.0895628</td> \n",
       "        <td id=\"T_34faf240_ca5d_11e7_b69c_f0def1f5c226row0_col7\" class=\"data row0 col7\" >0.0846156</td> \n",
       "        <td id=\"T_34faf240_ca5d_11e7_b69c_f0def1f5c226row0_col8\" class=\"data row0 col8\" >0.449868</td> \n",
       "        <td id=\"T_34faf240_ca5d_11e7_b69c_f0def1f5c226row0_col9\" class=\"data row0 col9\" >0.464482</td> \n",
       "        <td id=\"T_34faf240_ca5d_11e7_b69c_f0def1f5c226row0_col10\" class=\"data row0 col10\" >0.458555</td> \n",
       "        <td id=\"T_34faf240_ca5d_11e7_b69c_f0def1f5c226row0_col11\" class=\"data row0 col11\" >0.522614</td> \n",
       "        <td id=\"T_34faf240_ca5d_11e7_b69c_f0def1f5c226row0_col12\" class=\"data row0 col12\" >-0.801197</td> \n",
       "    </tr>    <tr> \n",
       "        <th id=\"T_34faf240_ca5d_11e7_b69c_f0def1f5c226\" class=\"row_heading level0 row1\" >LIGHT</th> \n",
       "        <td id=\"T_34faf240_ca5d_11e7_b69c_f0def1f5c226row1_col0\" class=\"data row1 col0\" >0.160249</td> \n",
       "        <td id=\"T_34faf240_ca5d_11e7_b69c_f0def1f5c226row1_col1\" class=\"data row1 col1\" >1</td> \n",
       "        <td id=\"T_34faf240_ca5d_11e7_b69c_f0def1f5c226row1_col2\" class=\"data row1 col2\" >0.177382</td> \n",
       "        <td id=\"T_34faf240_ca5d_11e7_b69c_f0def1f5c226row1_col3\" class=\"data row1 col3\" >0.151519</td> \n",
       "        <td id=\"T_34faf240_ca5d_11e7_b69c_f0def1f5c226row1_col4\" class=\"data row1 col4\" >0.00983508</td> \n",
       "        <td id=\"T_34faf240_ca5d_11e7_b69c_f0def1f5c226row1_col5\" class=\"data row1 col5\" >0.370798</td> \n",
       "        <td id=\"T_34faf240_ca5d_11e7_b69c_f0def1f5c226row1_col6\" class=\"data row1 col6\" >0.84144</td> \n",
       "        <td id=\"T_34faf240_ca5d_11e7_b69c_f0def1f5c226row1_col7\" class=\"data row1 col7\" >0.0507963</td> \n",
       "        <td id=\"T_34faf240_ca5d_11e7_b69c_f0def1f5c226row1_col8\" class=\"data row1 col8\" >0.158677</td> \n",
       "        <td id=\"T_34faf240_ca5d_11e7_b69c_f0def1f5c226row1_col9\" class=\"data row1 col9\" >0.161098</td> \n",
       "        <td id=\"T_34faf240_ca5d_11e7_b69c_f0def1f5c226row1_col10\" class=\"data row1 col10\" >0.144314</td> \n",
       "        <td id=\"T_34faf240_ca5d_11e7_b69c_f0def1f5c226row1_col11\" class=\"data row1 col11\" >0.239984</td> \n",
       "        <td id=\"T_34faf240_ca5d_11e7_b69c_f0def1f5c226row1_col12\" class=\"data row1 col12\" >0.265109</td> \n",
       "    </tr>    <tr> \n",
       "        <th id=\"T_34faf240_ca5d_11e7_b69c_f0def1f5c226\" class=\"row_heading level0 row2\" >MOVEMENT</th> \n",
       "        <td id=\"T_34faf240_ca5d_11e7_b69c_f0def1f5c226row2_col0\" class=\"data row2 col0\" >0.481026</td> \n",
       "        <td id=\"T_34faf240_ca5d_11e7_b69c_f0def1f5c226row2_col1\" class=\"data row2 col1\" >0.177382</td> \n",
       "        <td id=\"T_34faf240_ca5d_11e7_b69c_f0def1f5c226row2_col2\" class=\"data row2 col2\" >1</td> \n",
       "        <td id=\"T_34faf240_ca5d_11e7_b69c_f0def1f5c226row2_col3\" class=\"data row2 col3\" >0.844199</td> \n",
       "        <td id=\"T_34faf240_ca5d_11e7_b69c_f0def1f5c226row2_col4\" class=\"data row2 col4\" >0.318667</td> \n",
       "        <td id=\"T_34faf240_ca5d_11e7_b69c_f0def1f5c226row2_col5\" class=\"data row2 col5\" >0.56197</td> \n",
       "        <td id=\"T_34faf240_ca5d_11e7_b69c_f0def1f5c226row2_col6\" class=\"data row2 col6\" >0.162703</td> \n",
       "        <td id=\"T_34faf240_ca5d_11e7_b69c_f0def1f5c226row2_col7\" class=\"data row2 col7\" >0.184114</td> \n",
       "        <td id=\"T_34faf240_ca5d_11e7_b69c_f0def1f5c226row2_col8\" class=\"data row2 col8\" >0.932204</td> \n",
       "        <td id=\"T_34faf240_ca5d_11e7_b69c_f0def1f5c226row2_col9\" class=\"data row2 col9\" >0.955299</td> \n",
       "        <td id=\"T_34faf240_ca5d_11e7_b69c_f0def1f5c226row2_col10\" class=\"data row2 col10\" >0.921762</td> \n",
       "        <td id=\"T_34faf240_ca5d_11e7_b69c_f0def1f5c226row2_col11\" class=\"data row2 col11\" >0.0305908</td> \n",
       "        <td id=\"T_34faf240_ca5d_11e7_b69c_f0def1f5c226row2_col12\" class=\"data row2 col12\" >-0.356745</td> \n",
       "    </tr>    <tr> \n",
       "        <th id=\"T_34faf240_ca5d_11e7_b69c_f0def1f5c226\" class=\"row_heading level0 row3\" >SOUND</th> \n",
       "        <td id=\"T_34faf240_ca5d_11e7_b69c_f0def1f5c226row3_col0\" class=\"data row3 col0\" >0.406209</td> \n",
       "        <td id=\"T_34faf240_ca5d_11e7_b69c_f0def1f5c226row3_col1\" class=\"data row3 col1\" >0.151519</td> \n",
       "        <td id=\"T_34faf240_ca5d_11e7_b69c_f0def1f5c226row3_col2\" class=\"data row3 col2\" >0.844199</td> \n",
       "        <td id=\"T_34faf240_ca5d_11e7_b69c_f0def1f5c226row3_col3\" class=\"data row3 col3\" >1</td> \n",
       "        <td id=\"T_34faf240_ca5d_11e7_b69c_f0def1f5c226row3_col4\" class=\"data row3 col4\" >0.265229</td> \n",
       "        <td id=\"T_34faf240_ca5d_11e7_b69c_f0def1f5c226row3_col5\" class=\"data row3 col5\" >0.467985</td> \n",
       "        <td id=\"T_34faf240_ca5d_11e7_b69c_f0def1f5c226row3_col6\" class=\"data row3 col6\" >0.137769</td> \n",
       "        <td id=\"T_34faf240_ca5d_11e7_b69c_f0def1f5c226row3_col7\" class=\"data row3 col7\" >0.182487</td> \n",
       "        <td id=\"T_34faf240_ca5d_11e7_b69c_f0def1f5c226row3_col8\" class=\"data row3 col8\" >0.777002</td> \n",
       "        <td id=\"T_34faf240_ca5d_11e7_b69c_f0def1f5c226row3_col9\" class=\"data row3 col9\" >0.794425</td> \n",
       "        <td id=\"T_34faf240_ca5d_11e7_b69c_f0def1f5c226row3_col10\" class=\"data row3 col10\" >0.76759</td> \n",
       "        <td id=\"T_34faf240_ca5d_11e7_b69c_f0def1f5c226row3_col11\" class=\"data row3 col11\" >0.028995</td> \n",
       "        <td id=\"T_34faf240_ca5d_11e7_b69c_f0def1f5c226row3_col12\" class=\"data row3 col12\" >-0.299683</td> \n",
       "    </tr>    <tr> \n",
       "        <th id=\"T_34faf240_ca5d_11e7_b69c_f0def1f5c226\" class=\"row_heading level0 row4\" >WEEKDAY</th> \n",
       "        <td id=\"T_34faf240_ca5d_11e7_b69c_f0def1f5c226row4_col0\" class=\"data row4 col0\" >0.0406035</td> \n",
       "        <td id=\"T_34faf240_ca5d_11e7_b69c_f0def1f5c226row4_col1\" class=\"data row4 col1\" >0.00983508</td> \n",
       "        <td id=\"T_34faf240_ca5d_11e7_b69c_f0def1f5c226row4_col2\" class=\"data row4 col2\" >0.318667</td> \n",
       "        <td id=\"T_34faf240_ca5d_11e7_b69c_f0def1f5c226row4_col3\" class=\"data row4 col3\" >0.265229</td> \n",
       "        <td id=\"T_34faf240_ca5d_11e7_b69c_f0def1f5c226row4_col4\" class=\"data row4 col4\" >1</td> \n",
       "        <td id=\"T_34faf240_ca5d_11e7_b69c_f0def1f5c226row4_col5\" class=\"data row4 col5\" >0.00128386</td> \n",
       "        <td id=\"T_34faf240_ca5d_11e7_b69c_f0def1f5c226row4_col6\" class=\"data row4 col6\" >0.00984191</td> \n",
       "        <td id=\"T_34faf240_ca5d_11e7_b69c_f0def1f5c226row4_col7\" class=\"data row4 col7\" >-4.30681e-05</td> \n",
       "        <td id=\"T_34faf240_ca5d_11e7_b69c_f0def1f5c226row4_col8\" class=\"data row4 col8\" >0.318683</td> \n",
       "        <td id=\"T_34faf240_ca5d_11e7_b69c_f0def1f5c226row4_col9\" class=\"data row4 col9\" >0.330735</td> \n",
       "        <td id=\"T_34faf240_ca5d_11e7_b69c_f0def1f5c226row4_col10\" class=\"data row4 col10\" >0.339787</td> \n",
       "        <td id=\"T_34faf240_ca5d_11e7_b69c_f0def1f5c226row4_col11\" class=\"data row4 col11\" >-9.89697e-06</td> \n",
       "        <td id=\"T_34faf240_ca5d_11e7_b69c_f0def1f5c226row4_col12\" class=\"data row4 col12\" >0.00110829</td> \n",
       "    </tr>    <tr> \n",
       "        <th id=\"T_34faf240_ca5d_11e7_b69c_f0def1f5c226\" class=\"row_heading level0 row5\" >HOUR</th> \n",
       "        <td id=\"T_34faf240_ca5d_11e7_b69c_f0def1f5c226row5_col0\" class=\"data row5 col0\" >0.413485</td> \n",
       "        <td id=\"T_34faf240_ca5d_11e7_b69c_f0def1f5c226row5_col1\" class=\"data row5 col1\" >0.370798</td> \n",
       "        <td id=\"T_34faf240_ca5d_11e7_b69c_f0def1f5c226row5_col2\" class=\"data row5 col2\" >0.56197</td> \n",
       "        <td id=\"T_34faf240_ca5d_11e7_b69c_f0def1f5c226row5_col3\" class=\"data row5 col3\" >0.467985</td> \n",
       "        <td id=\"T_34faf240_ca5d_11e7_b69c_f0def1f5c226row5_col4\" class=\"data row5 col4\" >0.00128386</td> \n",
       "        <td id=\"T_34faf240_ca5d_11e7_b69c_f0def1f5c226row5_col5\" class=\"data row5 col5\" >1</td> \n",
       "        <td id=\"T_34faf240_ca5d_11e7_b69c_f0def1f5c226row5_col6\" class=\"data row5 col6\" >0.373771</td> \n",
       "        <td id=\"T_34faf240_ca5d_11e7_b69c_f0def1f5c226row5_col7\" class=\"data row5 col7\" >-0.00456052</td> \n",
       "        <td id=\"T_34faf240_ca5d_11e7_b69c_f0def1f5c226row5_col8\" class=\"data row5 col8\" >0.56365</td> \n",
       "        <td id=\"T_34faf240_ca5d_11e7_b69c_f0def1f5c226row5_col9\" class=\"data row5 col9\" >0.586696</td> \n",
       "        <td id=\"T_34faf240_ca5d_11e7_b69c_f0def1f5c226row5_col10\" class=\"data row5 col10\" >0.611253</td> \n",
       "        <td id=\"T_34faf240_ca5d_11e7_b69c_f0def1f5c226row5_col11\" class=\"data row5 col11\" >-0.00050028</td> \n",
       "        <td id=\"T_34faf240_ca5d_11e7_b69c_f0def1f5c226row5_col12\" class=\"data row5 col12\" >-0.253691</td> \n",
       "    </tr>    <tr> \n",
       "        <th id=\"T_34faf240_ca5d_11e7_b69c_f0def1f5c226\" class=\"row_heading level0 row6\" >LIGHT_1m</th> \n",
       "        <td id=\"T_34faf240_ca5d_11e7_b69c_f0def1f5c226row6_col0\" class=\"data row6 col0\" >-0.0895628</td> \n",
       "        <td id=\"T_34faf240_ca5d_11e7_b69c_f0def1f5c226row6_col1\" class=\"data row6 col1\" >0.84144</td> \n",
       "        <td id=\"T_34faf240_ca5d_11e7_b69c_f0def1f5c226row6_col2\" class=\"data row6 col2\" >0.162703</td> \n",
       "        <td id=\"T_34faf240_ca5d_11e7_b69c_f0def1f5c226row6_col3\" class=\"data row6 col3\" >0.137769</td> \n",
       "        <td id=\"T_34faf240_ca5d_11e7_b69c_f0def1f5c226row6_col4\" class=\"data row6 col4\" >0.00984191</td> \n",
       "        <td id=\"T_34faf240_ca5d_11e7_b69c_f0def1f5c226row6_col5\" class=\"data row6 col5\" >0.373771</td> \n",
       "        <td id=\"T_34faf240_ca5d_11e7_b69c_f0def1f5c226row6_col6\" class=\"data row6 col6\" >1</td> \n",
       "        <td id=\"T_34faf240_ca5d_11e7_b69c_f0def1f5c226row6_col7\" class=\"data row6 col7\" >-0.0398618</td> \n",
       "        <td id=\"T_34faf240_ca5d_11e7_b69c_f0def1f5c226row6_col8\" class=\"data row6 col8\" >0.177381</td> \n",
       "        <td id=\"T_34faf240_ca5d_11e7_b69c_f0def1f5c226row6_col9\" class=\"data row6 col9\" >0.165674</td> \n",
       "        <td id=\"T_34faf240_ca5d_11e7_b69c_f0def1f5c226row6_col10\" class=\"data row6 col10\" >0.147718</td> \n",
       "        <td id=\"T_34faf240_ca5d_11e7_b69c_f0def1f5c226row6_col11\" class=\"data row6 col11\" >-0.239002</td> \n",
       "        <td id=\"T_34faf240_ca5d_11e7_b69c_f0def1f5c226row6_col12\" class=\"data row6 col12\" >0.459185</td> \n",
       "    </tr>    <tr> \n",
       "        <th id=\"T_34faf240_ca5d_11e7_b69c_f0def1f5c226\" class=\"row_heading level0 row7\" >MOVEMENT_CHANGE</th> \n",
       "        <td id=\"T_34faf240_ca5d_11e7_b69c_f0def1f5c226row7_col0\" class=\"data row7 col0\" >0.0846156</td> \n",
       "        <td id=\"T_34faf240_ca5d_11e7_b69c_f0def1f5c226row7_col1\" class=\"data row7 col1\" >0.0507963</td> \n",
       "        <td id=\"T_34faf240_ca5d_11e7_b69c_f0def1f5c226row7_col2\" class=\"data row7 col2\" >0.184114</td> \n",
       "        <td id=\"T_34faf240_ca5d_11e7_b69c_f0def1f5c226row7_col3\" class=\"data row7 col3\" >0.182487</td> \n",
       "        <td id=\"T_34faf240_ca5d_11e7_b69c_f0def1f5c226row7_col4\" class=\"data row7 col4\" >-4.30681e-05</td> \n",
       "        <td id=\"T_34faf240_ca5d_11e7_b69c_f0def1f5c226row7_col5\" class=\"data row7 col5\" >-0.00456052</td> \n",
       "        <td id=\"T_34faf240_ca5d_11e7_b69c_f0def1f5c226row7_col6\" class=\"data row7 col6\" >-0.0398618</td> \n",
       "        <td id=\"T_34faf240_ca5d_11e7_b69c_f0def1f5c226row7_col7\" class=\"data row7 col7\" >1</td> \n",
       "        <td id=\"T_34faf240_ca5d_11e7_b69c_f0def1f5c226row7_col8\" class=\"data row7 col8\" >-0.184114</td> \n",
       "        <td id=\"T_34faf240_ca5d_11e7_b69c_f0def1f5c226row7_col9\" class=\"data row7 col9\" >-0.0340731</td> \n",
       "        <td id=\"T_34faf240_ca5d_11e7_b69c_f0def1f5c226row7_col10\" class=\"data row7 col10\" >-0.0224207</td> \n",
       "        <td id=\"T_34faf240_ca5d_11e7_b69c_f0def1f5c226row7_col11\" class=\"data row7 col11\" >0.16403</td> \n",
       "        <td id=\"T_34faf240_ca5d_11e7_b69c_f0def1f5c226row7_col12\" class=\"data row7 col12\" >-0.0559213</td> \n",
       "    </tr>    <tr> \n",
       "        <th id=\"T_34faf240_ca5d_11e7_b69c_f0def1f5c226\" class=\"row_heading level0 row8\" >MOVEMENT_1m</th> \n",
       "        <td id=\"T_34faf240_ca5d_11e7_b69c_f0def1f5c226row8_col0\" class=\"data row8 col0\" >0.449868</td> \n",
       "        <td id=\"T_34faf240_ca5d_11e7_b69c_f0def1f5c226row8_col1\" class=\"data row8 col1\" >0.158677</td> \n",
       "        <td id=\"T_34faf240_ca5d_11e7_b69c_f0def1f5c226row8_col2\" class=\"data row8 col2\" >0.932204</td> \n",
       "        <td id=\"T_34faf240_ca5d_11e7_b69c_f0def1f5c226row8_col3\" class=\"data row8 col3\" >0.777002</td> \n",
       "        <td id=\"T_34faf240_ca5d_11e7_b69c_f0def1f5c226row8_col4\" class=\"data row8 col4\" >0.318683</td> \n",
       "        <td id=\"T_34faf240_ca5d_11e7_b69c_f0def1f5c226row8_col5\" class=\"data row8 col5\" >0.56365</td> \n",
       "        <td id=\"T_34faf240_ca5d_11e7_b69c_f0def1f5c226row8_col6\" class=\"data row8 col6\" >0.177381</td> \n",
       "        <td id=\"T_34faf240_ca5d_11e7_b69c_f0def1f5c226row8_col7\" class=\"data row8 col7\" >-0.184114</td> \n",
       "        <td id=\"T_34faf240_ca5d_11e7_b69c_f0def1f5c226row8_col8\" class=\"data row8 col8\" >1</td> \n",
       "        <td id=\"T_34faf240_ca5d_11e7_b69c_f0def1f5c226row8_col9\" class=\"data row8 col9\" >0.967845</td> \n",
       "        <td id=\"T_34faf240_ca5d_11e7_b69c_f0def1f5c226row8_col10\" class=\"data row8 col10\" >0.930018</td> \n",
       "        <td id=\"T_34faf240_ca5d_11e7_b69c_f0def1f5c226row8_col11\" class=\"data row8 col11\" >-0.0298096</td> \n",
       "        <td id=\"T_34faf240_ca5d_11e7_b69c_f0def1f5c226row8_col12\" class=\"data row8 col12\" >-0.336153</td> \n",
       "    </tr>    <tr> \n",
       "        <th id=\"T_34faf240_ca5d_11e7_b69c_f0def1f5c226\" class=\"row_heading level0 row9\" >MOVEMENT_5m</th> \n",
       "        <td id=\"T_34faf240_ca5d_11e7_b69c_f0def1f5c226row9_col0\" class=\"data row9 col0\" >0.464482</td> \n",
       "        <td id=\"T_34faf240_ca5d_11e7_b69c_f0def1f5c226row9_col1\" class=\"data row9 col1\" >0.161098</td> \n",
       "        <td id=\"T_34faf240_ca5d_11e7_b69c_f0def1f5c226row9_col2\" class=\"data row9 col2\" >0.955299</td> \n",
       "        <td id=\"T_34faf240_ca5d_11e7_b69c_f0def1f5c226row9_col3\" class=\"data row9 col3\" >0.794425</td> \n",
       "        <td id=\"T_34faf240_ca5d_11e7_b69c_f0def1f5c226row9_col4\" class=\"data row9 col4\" >0.330735</td> \n",
       "        <td id=\"T_34faf240_ca5d_11e7_b69c_f0def1f5c226row9_col5\" class=\"data row9 col5\" >0.586696</td> \n",
       "        <td id=\"T_34faf240_ca5d_11e7_b69c_f0def1f5c226row9_col6\" class=\"data row9 col6\" >0.165674</td> \n",
       "        <td id=\"T_34faf240_ca5d_11e7_b69c_f0def1f5c226row9_col7\" class=\"data row9 col7\" >-0.0340731</td> \n",
       "        <td id=\"T_34faf240_ca5d_11e7_b69c_f0def1f5c226row9_col8\" class=\"data row9 col8\" >0.967845</td> \n",
       "        <td id=\"T_34faf240_ca5d_11e7_b69c_f0def1f5c226row9_col9\" class=\"data row9 col9\" >1</td> \n",
       "        <td id=\"T_34faf240_ca5d_11e7_b69c_f0def1f5c226row9_col10\" class=\"data row9 col10\" >0.969655</td> \n",
       "        <td id=\"T_34faf240_ca5d_11e7_b69c_f0def1f5c226row9_col11\" class=\"data row9 col11\" >-0.00414751</td> \n",
       "        <td id=\"T_34faf240_ca5d_11e7_b69c_f0def1f5c226row9_col12\" class=\"data row9 col12\" >-0.347956</td> \n",
       "    </tr>    <tr> \n",
       "        <th id=\"T_34faf240_ca5d_11e7_b69c_f0def1f5c226\" class=\"row_heading level0 row10\" >MOVEMENT_15m</th> \n",
       "        <td id=\"T_34faf240_ca5d_11e7_b69c_f0def1f5c226row10_col0\" class=\"data row10 col0\" >0.458555</td> \n",
       "        <td id=\"T_34faf240_ca5d_11e7_b69c_f0def1f5c226row10_col1\" class=\"data row10 col1\" >0.144314</td> \n",
       "        <td id=\"T_34faf240_ca5d_11e7_b69c_f0def1f5c226row10_col2\" class=\"data row10 col2\" >0.921762</td> \n",
       "        <td id=\"T_34faf240_ca5d_11e7_b69c_f0def1f5c226row10_col3\" class=\"data row10 col3\" >0.76759</td> \n",
       "        <td id=\"T_34faf240_ca5d_11e7_b69c_f0def1f5c226row10_col4\" class=\"data row10 col4\" >0.339787</td> \n",
       "        <td id=\"T_34faf240_ca5d_11e7_b69c_f0def1f5c226row10_col5\" class=\"data row10 col5\" >0.611253</td> \n",
       "        <td id=\"T_34faf240_ca5d_11e7_b69c_f0def1f5c226row10_col6\" class=\"data row10 col6\" >0.147718</td> \n",
       "        <td id=\"T_34faf240_ca5d_11e7_b69c_f0def1f5c226row10_col7\" class=\"data row10 col7\" >-0.0224207</td> \n",
       "        <td id=\"T_34faf240_ca5d_11e7_b69c_f0def1f5c226row10_col8\" class=\"data row10 col8\" >0.930018</td> \n",
       "        <td id=\"T_34faf240_ca5d_11e7_b69c_f0def1f5c226row10_col9\" class=\"data row10 col9\" >0.969655</td> \n",
       "        <td id=\"T_34faf240_ca5d_11e7_b69c_f0def1f5c226row10_col10\" class=\"data row10 col10\" >1</td> \n",
       "        <td id=\"T_34faf240_ca5d_11e7_b69c_f0def1f5c226row10_col11\" class=\"data row10 col11\" >-0.00202467</td> \n",
       "        <td id=\"T_34faf240_ca5d_11e7_b69c_f0def1f5c226row10_col12\" class=\"data row10 col12\" >-0.350259</td> \n",
       "    </tr>    <tr> \n",
       "        <th id=\"T_34faf240_ca5d_11e7_b69c_f0def1f5c226\" class=\"row_heading level0 row11\" >LUX_SWITCH</th> \n",
       "        <td id=\"T_34faf240_ca5d_11e7_b69c_f0def1f5c226row11_col0\" class=\"data row11 col0\" >0.522614</td> \n",
       "        <td id=\"T_34faf240_ca5d_11e7_b69c_f0def1f5c226row11_col1\" class=\"data row11 col1\" >0.239984</td> \n",
       "        <td id=\"T_34faf240_ca5d_11e7_b69c_f0def1f5c226row11_col2\" class=\"data row11 col2\" >0.0305908</td> \n",
       "        <td id=\"T_34faf240_ca5d_11e7_b69c_f0def1f5c226row11_col3\" class=\"data row11 col3\" >0.028995</td> \n",
       "        <td id=\"T_34faf240_ca5d_11e7_b69c_f0def1f5c226row11_col4\" class=\"data row11 col4\" >-9.89697e-06</td> \n",
       "        <td id=\"T_34faf240_ca5d_11e7_b69c_f0def1f5c226row11_col5\" class=\"data row11 col5\" >-0.00050028</td> \n",
       "        <td id=\"T_34faf240_ca5d_11e7_b69c_f0def1f5c226row11_col6\" class=\"data row11 col6\" >-0.239002</td> \n",
       "        <td id=\"T_34faf240_ca5d_11e7_b69c_f0def1f5c226row11_col7\" class=\"data row11 col7\" >0.16403</td> \n",
       "        <td id=\"T_34faf240_ca5d_11e7_b69c_f0def1f5c226row11_col8\" class=\"data row11 col8\" >-0.0298096</td> \n",
       "        <td id=\"T_34faf240_ca5d_11e7_b69c_f0def1f5c226row11_col9\" class=\"data row11 col9\" >-0.00414751</td> \n",
       "        <td id=\"T_34faf240_ca5d_11e7_b69c_f0def1f5c226row11_col10\" class=\"data row11 col10\" >-0.00202467</td> \n",
       "        <td id=\"T_34faf240_ca5d_11e7_b69c_f0def1f5c226row11_col11\" class=\"data row11 col11\" >1</td> \n",
       "        <td id=\"T_34faf240_ca5d_11e7_b69c_f0def1f5c226row11_col12\" class=\"data row11 col12\" >-0.306119</td> \n",
       "    </tr>    <tr> \n",
       "        <th id=\"T_34faf240_ca5d_11e7_b69c_f0def1f5c226\" class=\"row_heading level0 row12\" >LIGHT_LAST_STATE</th> \n",
       "        <td id=\"T_34faf240_ca5d_11e7_b69c_f0def1f5c226row12_col0\" class=\"data row12 col0\" >-0.801197</td> \n",
       "        <td id=\"T_34faf240_ca5d_11e7_b69c_f0def1f5c226row12_col1\" class=\"data row12 col1\" >0.265109</td> \n",
       "        <td id=\"T_34faf240_ca5d_11e7_b69c_f0def1f5c226row12_col2\" class=\"data row12 col2\" >-0.356745</td> \n",
       "        <td id=\"T_34faf240_ca5d_11e7_b69c_f0def1f5c226row12_col3\" class=\"data row12 col3\" >-0.299683</td> \n",
       "        <td id=\"T_34faf240_ca5d_11e7_b69c_f0def1f5c226row12_col4\" class=\"data row12 col4\" >0.00110829</td> \n",
       "        <td id=\"T_34faf240_ca5d_11e7_b69c_f0def1f5c226row12_col5\" class=\"data row12 col5\" >-0.253691</td> \n",
       "        <td id=\"T_34faf240_ca5d_11e7_b69c_f0def1f5c226row12_col6\" class=\"data row12 col6\" >0.459185</td> \n",
       "        <td id=\"T_34faf240_ca5d_11e7_b69c_f0def1f5c226row12_col7\" class=\"data row12 col7\" >-0.0559213</td> \n",
       "        <td id=\"T_34faf240_ca5d_11e7_b69c_f0def1f5c226row12_col8\" class=\"data row12 col8\" >-0.336153</td> \n",
       "        <td id=\"T_34faf240_ca5d_11e7_b69c_f0def1f5c226row12_col9\" class=\"data row12 col9\" >-0.347956</td> \n",
       "        <td id=\"T_34faf240_ca5d_11e7_b69c_f0def1f5c226row12_col10\" class=\"data row12 col10\" >-0.350259</td> \n",
       "        <td id=\"T_34faf240_ca5d_11e7_b69c_f0def1f5c226row12_col11\" class=\"data row12 col11\" >-0.306119</td> \n",
       "        <td id=\"T_34faf240_ca5d_11e7_b69c_f0def1f5c226row12_col12\" class=\"data row12 col12\" >1</td> \n",
       "    </tr></tbody> \n",
       "</table> "
      ],
      "text/plain": [
       "<pandas.io.formats.style.Styler at 0x12170208>"
      ]
     },
     "execution_count": 53,
     "metadata": {},
     "output_type": "execute_result"
    }
   ],
   "source": [
    "df_events.corr().style.bar(subset=['LUX_ON'], color='#d65f5f', axis=0)"
   ]
  },
  {
   "cell_type": "markdown",
   "metadata": {},
   "source": [
    "## Entrenamiento y verificación de RNA\n",
    "\n",
    "### Modelo #1 - Variable objetivo: estado de la lámpara (LUX_ON)\n",
    "La variable a predecir es LUX_ON, la cual está en 1 si la luz está prendida (sea estado override o no del módulo). La distribución del estado en porcentaje es la siguiente:"
   ]
  },
  {
   "cell_type": "code",
   "execution_count": 80,
   "metadata": {},
   "outputs": [
    {
     "data": {
      "text/plain": [
       "0    0.83518\n",
       "1    0.16482\n",
       "Name: LUX_ON, dtype: float64"
      ]
     },
     "execution_count": 80,
     "metadata": {},
     "output_type": "execute_result"
    }
   ],
   "source": [
    "df_events.LUX_ON.value_counts(normalize=True)"
   ]
  },
  {
   "cell_type": "markdown",
   "metadata": {},
   "source": [
    "#### Separando los datos para training y prueba\n",
    "Para poder hacer etapas de entrenamiento y prueba, voy a separar los datos. 70% para entrenamiento, 30% para prueba. Para esto voy a usar del módulo scikit-learn la función train_test_split.\n",
    "\n",
    "Los conjuntos de datos van a llamarse:\n",
    "* X_train: Datos de entrenamiento. Las 7 columnas con los valores del mes, día, sensores, etc, compuesto por el 70% de los registros\n",
    "* y_train: Resultado de entrenamiento. Columna *estadoLuz* para el 70% de los registros\n",
    "* X_test: Datos para hacer la validación. Tienen el mismo formato que X_train, pero corresponden al 30% del conjunto de datos\n",
    "* y_test: Resultados para validar la performance del algoritmo aplicado a X_test"
   ]
  },
  {
   "cell_type": "code",
   "execution_count": 81,
   "metadata": {
    "collapsed": true
   },
   "outputs": [],
   "source": [
    "from sklearn.model_selection import train_test_split\n",
    "\n",
    "luxState_feature_names = ['WEEKDAY', 'HOUR', 'LIGHT_1m', 'SOUND', 'MOVEMENT', 'MOVEMENT_1m', 'MOVEMENT_5m', 'MOVEMENT_15m', 'LIGHT_LAST_STATE']\n",
    "luxState_goal_names = ['LUX_ON']\n",
    "\n",
    "luxState_features = df_events[luxState_feature_names].values     # Columnas del predictor (5 X m)\n",
    "luxState_goal = df_events[luxState_goal_names].values            # Clase predecida (1=verdadero, 0=falso) column (1 X m)\n",
    "split_test_size = 0.30                                           # 0.30 es 30%, el tamaño para pruebas\n",
    "\n",
    "luxState_features_train, luxState_features_test, luxState_goal_train, luxState_goal_test = train_test_split(luxState_features, luxState_goal, test_size=split_test_size)"
   ]
  },
  {
   "cell_type": "markdown",
   "metadata": {},
   "source": [
    "Verifico que el tamaño relativo de los sets de entrenamiento y prueba sea lo más cercano a 70-30 posible:"
   ]
  },
  {
   "cell_type": "code",
   "execution_count": 82,
   "metadata": {},
   "outputs": [
    {
     "name": "stdout",
     "output_type": "stream",
     "text": [
      "70.00% en el set de entrenamiento\n",
      "30.00% en el set de prueba\n"
     ]
    }
   ],
   "source": [
    "print(\"{0:.2f}% en el set de entrenamiento\".format( (float(len(luxState_features_train))/len(df_events.index)) * 100 ) )\n",
    "print(\"{0:.2f}% en el set de prueba\".format((float(len(luxState_features_test))/len(df_events.index)) * 100))"
   ]
  },
  {
   "cell_type": "markdown",
   "metadata": {},
   "source": [
    "Verifico que la proporción de casos verdaderos y falsos se mantenga en los conjuntos de entrenamiento y test:"
   ]
  },
  {
   "cell_type": "code",
   "execution_count": 83,
   "metadata": {},
   "outputs": [
    {
     "name": "stdout",
     "output_type": "stream",
     "text": [
      "Lux Activo en el total           : 21356 (16.48%)\n",
      "Lux Inactivo en el total         : 108216 (83.52%)\n",
      "\n",
      "Lux Activo en entrenamiento      : 14937 (16.47%)\n",
      "Lux Inctivo en entrenamiento     : 75763 (83.53%)\n",
      "\n",
      "Lux Activo en test               : 6419 (16.51%)\n",
      "Lux Inctivo en test              : 32453 (83.49%)\n"
     ]
    }
   ],
   "source": [
    "print(\"Lux Activo en el total           : {0} ({1:0.2f}%)\".format(len(df_events.loc[df_events['LUX_ON'] == 1]), (len(df_events.loc[df_events['LUX_ON'] == 1])/float(len(df_events.index))) * 100.0))\n",
    "print(\"Lux Inactivo en el total         : {0} ({1:0.2f}%)\".format(len(df_events.loc[df_events['LUX_ON'] == 0]), (len(df_events.loc[df_events['LUX_ON'] == 0])/float(len(df_events.index))) * 100.0))\n",
    "print(\"\")\n",
    "train_state_on = len(luxState_goal_train[ luxState_goal_train == 1])\n",
    "train_state_off = len(luxState_goal_train[ luxState_goal_train == 0])\n",
    "print(\"Lux Activo en entrenamiento      : {0} ({1:0.2f}%)\".format(train_state_on, train_state_on/float(len(luxState_goal_train)) * 100.0))\n",
    "print(\"Lux Inctivo en entrenamiento     : {0} ({1:0.2f}%)\".format(train_state_off, train_state_off/float(len(luxState_goal_train)) * 100.0))\n",
    "print(\"\")\n",
    "test_state_on = len(luxState_goal_test[ luxState_goal_test == 1])\n",
    "test_state_off = len(luxState_goal_test[ luxState_goal_test == 0])\n",
    "print(\"Lux Activo en test               : {0} ({1:0.2f}%)\".format(test_state_on, test_state_on/float(len(luxState_goal_test)) * 100.0))\n",
    "print(\"Lux Inctivo en test              : {0} ({1:0.2f}%)\".format(test_state_off,test_state_off/float(len(luxState_goal_test)) * 100.0))"
   ]
  },
  {
   "cell_type": "markdown",
   "metadata": {},
   "source": [
    "#### Entrenamiento inicial\n",
    "Para este entrenamiento voy a usar otro módulo de scikit-learn: neural_network. Como lo que estamos tratando de averiguar es si la luz debe estar prendida o no, estamos hablando de un algoritmo de clasificación, y por lo tanto la función que voy a usar se llama MLPClassifier, e implementa un perceptrón multi capa (MLP) que se entrena usando backpropagation.\n"
   ]
  },
  {
   "cell_type": "code",
   "execution_count": 84,
   "metadata": {},
   "outputs": [
    {
     "name": "stdout",
     "output_type": "stream",
     "text": [
      "Wall time: 4.58 s\n"
     ]
    },
    {
     "data": {
      "text/plain": [
       "MLPClassifier(activation='relu', alpha=0.0001, batch_size='auto', beta_1=0.9,\n",
       "       beta_2=0.999, early_stopping=False, epsilon=1e-08,\n",
       "       hidden_layer_sizes=(100,), learning_rate='constant',\n",
       "       learning_rate_init=0.001, max_iter=200, momentum=0.9,\n",
       "       nesterovs_momentum=True, power_t=0.5, random_state=None,\n",
       "       shuffle=True, solver='adam', tol=0.0001, validation_fraction=0.1,\n",
       "       verbose=False, warm_start=False)"
      ]
     },
     "execution_count": 84,
     "metadata": {},
     "output_type": "execute_result"
    }
   ],
   "source": [
    "from sklearn.neural_network import MLPClassifier\n",
    "clf_model_state = MLPClassifier()\n",
    "%time clf_model_state.fit(luxState_features_train, luxState_goal_train.ravel())"
   ]
  },
  {
   "cell_type": "markdown",
   "metadata": {},
   "source": [
    "#### Performance usando los datos de entrenamiento\n",
    "Para esto voy a importar la función metrics."
   ]
  },
  {
   "cell_type": "code",
   "execution_count": 85,
   "metadata": {
    "scrolled": true
   },
   "outputs": [
    {
     "name": "stdout",
     "output_type": "stream",
     "text": [
      "Precisión en entrenamiento: 0.9790\n"
     ]
    }
   ],
   "source": [
    "from sklearn import metrics\n",
    "\n",
    "clf_predict_state_train = clf_model_state.predict(luxState_features_train)\n",
    "\n",
    "print(\"Precisión en entrenamiento: {0:.4f}\".format(metrics.accuracy_score(luxState_goal_train, clf_predict_state_train)))"
   ]
  },
  {
   "cell_type": "markdown",
   "metadata": {},
   "source": [
    "#### Performance usando los datos de prueba"
   ]
  },
  {
   "cell_type": "code",
   "execution_count": 86,
   "metadata": {
    "scrolled": true
   },
   "outputs": [
    {
     "name": "stdout",
     "output_type": "stream",
     "text": [
      "Precisión en test: 0.9778\n"
     ]
    }
   ],
   "source": [
    "clf_predict_state_test = clf_model_state.predict(luxState_features_test)\n",
    "\n",
    "print(\"Precisión en test: {0:.4f}\".format(metrics.accuracy_score(luxState_goal_test, clf_predict_state_test)))"
   ]
  },
  {
   "cell_type": "markdown",
   "metadata": {},
   "source": [
    "#### Métricas\n",
    "Los resultados de las etapas de entrenamiento y prueba son muy buenos. Demasiado buenos. Hay que analizar si no hay algún otro problema que pueda causar que cuando ponga más datos (cuando analice en tiempo real la actividad del usuario), el modelo falle miserablemente.\n",
    "\n",
    "Para este análisis, voy a ver como se comparan los resultados, con el objetivo de entender si el modelo sirve o hay que hacer ajustes. Voy a usar dos herramientas:\n",
    "\n",
    "##### Matriz de confusión\n",
    "https://es.wikipedia.org/wiki/Matriz_de_confusi%C3%B3n\n",
    "\n",
    "Cada columna de la matriz representa el número de predicciones de cada clase, mientras que cada fila representa a las instancias en la clase real. Uno de los beneficios de las matrices de confusión es que facilitan ver si el sistema está confundiendo dos clases. \n",
    "\n",
    "En nuestro caso, la matriz representa lo siguiente:\n",
    "\n",
    "\n",
    "| EV (Predicho Encendido y es verdad ) | EF (Predicho Encendido pero es falso) |\n",
    "|------------------------------------------------|\n",
    "| **AF (Predicho Apagado pero es Falso** | **AV (Predicho Apagado y es verdad)** |\n",
    "\n",
    "Esto quiere decir que queremos los valores más altos posibles en la diagonal, y lo más cerca posible a cero en cualquier otro lado."
   ]
  },
  {
   "cell_type": "code",
   "execution_count": 87,
   "metadata": {
    "scrolled": true
   },
   "outputs": [
    {
     "name": "stdout",
     "output_type": "stream",
     "text": [
      "Matriz de confusión:\n",
      "[[ 5611   808]\n",
      " [   56 32397]]\n"
     ]
    }
   ],
   "source": [
    "print(\"Matriz de confusión:\")\n",
    "print(\"{0}\".format(metrics.confusion_matrix(luxState_goal_test, clf_predict_state_test, labels=[1, 0])))"
   ]
  },
  {
   "cell_type": "markdown",
   "metadata": {},
   "source": [
    "Estos resultados son muy buenos, el porcentaje de acertados es altísimo. El modelo es casi perfecto. Para confirmar, hay que usar la otra herramienta.\n",
    "\n",
    "\n",
    "#### Reporte de clasificación.\n",
    "Lo primero que vamos a verificar es que tan bien se hace una predición acertada cuando se requiere que el dispositivo esté encendido. Este dato, llamado \"recall\" en el reporte, esta dado por:\n",
    "\n",
    "Recall = EV / (EV + AF)\n",
    "\n",
    "Lo segundo que queremos ver es la presición, que está dada por:\n",
    "\n",
    "Precision = EV / (EV + EF)\n"
   ]
  },
  {
   "cell_type": "code",
   "execution_count": 88,
   "metadata": {
    "scrolled": true
   },
   "outputs": [
    {
     "name": "stdout",
     "output_type": "stream",
     "text": [
      "Reporte de clasificación:\n",
      "             precision    recall  f1-score   support\n",
      "\n",
      "          1       0.99      0.87      0.93      6419\n",
      "          0       0.98      1.00      0.99     32453\n",
      "\n",
      "avg / total       0.98      0.98      0.98     38872\n",
      "\n"
     ]
    }
   ],
   "source": [
    "print(\"Reporte de clasificación:\")\n",
    "print(metrics.classification_report(luxState_goal_test, clf_predict_state_test, labels=[1,0]))"
   ]
  },
  {
   "cell_type": "markdown",
   "metadata": {},
   "source": [
    "### Modelo #2 - Variable objetivo: cambio de estado de la lámpara (LUX_SWITCH)\n",
    "La variable a predecir es LUX_SWITCH que se describe como cada cambio de estado del lux.\n",
    "-  1: la luz se prendió\n",
    "-  0: no hubo cambios\n",
    "- -1: la luz se apagó\n",
    "La distribución del estado en porcentaje es la siguiente:"
   ]
  },
  {
   "cell_type": "code",
   "execution_count": 59,
   "metadata": {},
   "outputs": [
    {
     "data": {
      "text/plain": [
       " 0.0    0.849613\n",
       " 1.0    0.075194\n",
       "-1.0    0.075194\n",
       "Name: LUX_SWITCH, dtype: float64"
      ]
     },
     "execution_count": 59,
     "metadata": {},
     "output_type": "execute_result"
    }
   ],
   "source": [
    "df_events.LUX_SWITCH.value_counts(normalize=True)"
   ]
  },
  {
   "cell_type": "markdown",
   "metadata": {},
   "source": [
    "#### Separando los datos para training y prueba"
   ]
  },
  {
   "cell_type": "code",
   "execution_count": 89,
   "metadata": {
    "collapsed": true
   },
   "outputs": [],
   "source": [
    "luxSwitch_feature_names = ['WEEKDAY', 'HOUR', 'LIGHT_1m', 'SOUND', 'MOVEMENT', 'MOVEMENT_1m', 'MOVEMENT_5m', 'MOVEMENT_15m', 'LIGHT_LAST_STATE' ]\n",
    "luxSwitch_goal_names = ['LUX_SWITCH']\n",
    "\n",
    "luxSwitch_features = df_events[luxSwitch_feature_names].values        # Columnas predictoras\n",
    "luxSwitch_goal = df_events[luxSwitch_goal_names].values               # Clase predecida (1, 0, -1)\n",
    "split_test_size = 0.30                                                # 0.30 es 30%, el tamaño para pruebas\n",
    "\n",
    "luxSwitch_feat_train, luxSwitch_feat_test, luxSwitch_goal_train, luxSwitch_goal_test = train_test_split(luxSwitch_features, luxSwitch_goal, test_size=split_test_size)"
   ]
  },
  {
   "cell_type": "code",
   "execution_count": 71,
   "metadata": {},
   "outputs": [
    {
     "name": "stdout",
     "output_type": "stream",
     "text": [
      "70.00% en el set de entrenamiento\n",
      "30.00% en el set de prueba\n"
     ]
    }
   ],
   "source": [
    "print(\"{0:.2f}% en el set de entrenamiento\".format( (float(len(luxSwitch_feat_train))/len(df_events.index)) * 100 ) )\n",
    "print(\"{0:.2f}% en el set de prueba\".format((float(len(luxSwitch_feat_test))/len(df_events.index)) * 100))"
   ]
  },
  {
   "cell_type": "code",
   "execution_count": 72,
   "metadata": {},
   "outputs": [
    {
     "name": "stdout",
     "output_type": "stream",
     "text": [
      "Totales:\n",
      "Prendidas        : 9743 (7.52%)\n",
      "Sin cambios      : 110086 (84.96%)\n",
      "Apagadas         : 9743 (7.52%)\n",
      "\n",
      "Set de entrenamiento:\n",
      "Prendidas        : 6915 (7.62%)\n",
      "Sin cambios      : 77057 (84.96%)\n",
      "Apagadas         : 6728 (7.42%)\n",
      "\n",
      "Set de pruebas:\n",
      "Prendidas        : 2828 (7.28%)\n",
      "Sin cambios      : 33029 (84.97%)\n",
      "Apagadas         : 3015 (7.76%)\n"
     ]
    }
   ],
   "source": [
    "totales_switch_on = len(df_events.query('LUX_SWITCH == 1'))\n",
    "totales_switch_stale = len(df_events.query('LUX_SWITCH == 0'))\n",
    "totales_switch_off = len(df_events.query('LUX_SWITCH == -1'))\n",
    "print('Totales:')\n",
    "print(\"Prendidas        : {0} ({1:0.2f}%)\".format(totales_switch_on, totales_switch_on/float(df_events.shape[0]) * 100.0))\n",
    "print(\"Sin cambios      : {0} ({1:0.2f}%)\".format(totales_switch_stale, totales_switch_stale/float(df_events.shape[0]) * 100.0))\n",
    "print(\"Apagadas         : {0} ({1:0.2f}%)\".format(totales_switch_off, totales_switch_off/float(df_events.shape[0]) * 100.0))\n",
    "print('')\n",
    "train_switch_on = len(luxSwitch_goal_train[ luxSwitch_goal_train == 1])\n",
    "train_switch_stale = len(luxSwitch_goal_train[ luxSwitch_goal_train == 0])\n",
    "train_switch_off = len(luxSwitch_goal_train[ luxSwitch_goal_train == -1])\n",
    "print('Set de entrenamiento:')\n",
    "print(\"Prendidas        : {0} ({1:0.2f}%)\".format(train_switch_on, train_switch_on/float(luxSwitch_goal_train.shape[0]) * 100.0))\n",
    "print(\"Sin cambios      : {0} ({1:0.2f}%)\".format(train_switch_stale, train_switch_stale/float(luxSwitch_goal_train.shape[0]) * 100.0))\n",
    "print(\"Apagadas         : {0} ({1:0.2f}%)\".format(train_switch_off, train_switch_off/float(luxSwitch_goal_train.shape[0]) * 100.0))\n",
    "print('')\n",
    "test_switch_on = len(luxSwitch_goal_test[ luxSwitch_goal_test == 1])\n",
    "test_switch_stale = len(luxSwitch_goal_test[ luxSwitch_goal_test == 0])\n",
    "test_switch_off = len(luxSwitch_goal_test[ luxSwitch_goal_test == -1])\n",
    "print('Set de pruebas:')\n",
    "print(\"Prendidas        : {0} ({1:0.2f}%)\".format(test_switch_on, test_switch_on/float(luxSwitch_goal_test.shape[0]) * 100.0))\n",
    "print(\"Sin cambios      : {0} ({1:0.2f}%)\".format(test_switch_stale, test_switch_stale/float(luxSwitch_goal_test.shape[0]) * 100.0))\n",
    "print(\"Apagadas         : {0} ({1:0.2f}%)\".format(test_switch_off, test_switch_off/float(luxSwitch_goal_test.shape[0]) * 100.0))"
   ]
  },
  {
   "cell_type": "markdown",
   "metadata": {},
   "source": [
    "#### Entrenamiento inicial"
   ]
  },
  {
   "cell_type": "code",
   "execution_count": 90,
   "metadata": {},
   "outputs": [
    {
     "name": "stdout",
     "output_type": "stream",
     "text": [
      "Wall time: 6.85 s\n"
     ]
    },
    {
     "data": {
      "text/plain": [
       "MLPClassifier(activation='relu', alpha=0.0001, batch_size='auto', beta_1=0.9,\n",
       "       beta_2=0.999, early_stopping=False, epsilon=1e-08,\n",
       "       hidden_layer_sizes=(100,), learning_rate='constant',\n",
       "       learning_rate_init=0.001, max_iter=200, momentum=0.9,\n",
       "       nesterovs_momentum=True, power_t=0.5, random_state=None,\n",
       "       shuffle=True, solver='adam', tol=0.0001, validation_fraction=0.1,\n",
       "       verbose=False, warm_start=False)"
      ]
     },
     "execution_count": 90,
     "metadata": {},
     "output_type": "execute_result"
    }
   ],
   "source": [
    "clf_model_switch = MLPClassifier()\n",
    "%time clf_model_switch.fit(luxSwitch_feat_train, luxSwitch_goal_train.ravel())"
   ]
  },
  {
   "cell_type": "markdown",
   "metadata": {},
   "source": [
    "#### Performance usando los datos de entrenamiento"
   ]
  },
  {
   "cell_type": "code",
   "execution_count": 91,
   "metadata": {
    "scrolled": true
   },
   "outputs": [
    {
     "name": "stdout",
     "output_type": "stream",
     "text": [
      "Precisión en entrenamiento: 0.9635\n"
     ]
    }
   ],
   "source": [
    "clf_predict_switch_train = clf_model_switch.predict(luxSwitch_feat_train)\n",
    "\n",
    "print(\"Precisión en entrenamiento: {0:.4f}\".format(metrics.accuracy_score(luxSwitch_goal_train, clf_predict_switch_train)))"
   ]
  },
  {
   "cell_type": "markdown",
   "metadata": {},
   "source": [
    "#### Performance usando los datos de prueba"
   ]
  },
  {
   "cell_type": "code",
   "execution_count": 92,
   "metadata": {
    "scrolled": true
   },
   "outputs": [
    {
     "name": "stdout",
     "output_type": "stream",
     "text": [
      "Precisión en test: 0.9631\n"
     ]
    }
   ],
   "source": [
    "clf_predict_switch_test = clf_model_switch.predict(luxSwitch_feat_test)\n",
    "\n",
    "print(\"Precisión en test: {0:.4f}\".format(metrics.accuracy_score(luxSwitch_goal_test, clf_predict_switch_test)))"
   ]
  },
  {
   "cell_type": "markdown",
   "metadata": {},
   "source": [
    "#### Métricas\n",
    "##### Matriz de confusión"
   ]
  },
  {
   "cell_type": "code",
   "execution_count": 93,
   "metadata": {
    "scrolled": true
   },
   "outputs": [
    {
     "name": "stdout",
     "output_type": "stream",
     "text": [
      "[[ 2377   276   250]\n",
      " [   63 32862   154]\n",
      " [  255   437  2198]]\n"
     ]
    }
   ],
   "source": [
    "matriz_conf = metrics.confusion_matrix(luxSwitch_goal_test, clf_predict_switch_test, labels=[1, 0, -1])\n",
    "print(\"{0}\".format(matriz_conf))"
   ]
  },
  {
   "cell_type": "code",
   "execution_count": 94,
   "metadata": {},
   "outputs": [
    {
     "data": {
      "text/plain": [
       "96.308396789462861"
      ]
     },
     "execution_count": 94,
     "metadata": {},
     "output_type": "execute_result"
    }
   ],
   "source": [
    "# Porcentaje de acierto\n",
    "matriz_conf.diagonal().sum() / float(matriz_conf.sum()) * 100"
   ]
  },
  {
   "cell_type": "markdown",
   "metadata": {},
   "source": [
    "#### Reporte de clasificación"
   ]
  },
  {
   "cell_type": "code",
   "execution_count": 95,
   "metadata": {},
   "outputs": [
    {
     "name": "stdout",
     "output_type": "stream",
     "text": [
      "             precision    recall  f1-score   support\n",
      "\n",
      "          1       0.88      0.82      0.85      2903\n",
      "          0       0.98      0.99      0.99     33079\n",
      "         -1       0.84      0.76      0.80      2890\n",
      "\n",
      "avg / total       0.96      0.96      0.96     38872\n",
      "\n"
     ]
    }
   ],
   "source": [
    "print(metrics.classification_report(luxSwitch_goal_test, clf_predict_switch_test, labels=[1,0,-1]))"
   ]
  },
  {
   "cell_type": "markdown",
   "metadata": {},
   "source": [
    "## Validación del modelo"
   ]
  },
  {
   "cell_type": "markdown",
   "metadata": {},
   "source": [
    "### Predicción de ESTADO (LUX_ON)\n",
    "Features:\n",
    "\n",
    "| WEEKDAY | MINDAY | LIGHT_LUX_1m | SOUND | MOVEMENT | MOVEMENT_1m | MOVEMENT_5m | MOVEMENT_15m |\n",
    "|-----------------------------------------------------------------------------------------------|\n",
    "| 0-6 | 0-1439 | 0-2000 | 30-130 | 0/1 | 0-1 | 0-1 | 0-1 |"
   ]
  },
  {
   "cell_type": "code",
   "execution_count": 50,
   "metadata": {
    "collapsed": true
   },
   "outputs": [],
   "source": [
    "X_new_test = pd.DataFrame([[ 5, 670, 85, 50, 1, 1, 1, 0.9 ]],columns=luxState_feature_names)"
   ]
  },
  {
   "cell_type": "code",
   "execution_count": 51,
   "metadata": {},
   "outputs": [
    {
     "name": "stdout",
     "output_type": "stream",
     "text": [
      "Resultado:  [0]\n"
     ]
    }
   ],
   "source": [
    "clf_predict_new_test = clf_model_state.predict(X_new_test)\n",
    "\n",
    "print (\"Resultado: \", clf_predict_new_test)"
   ]
  },
  {
   "cell_type": "markdown",
   "metadata": {},
   "source": [
    "### Predicción de CAMBIO DE ESTADO (LUX_SWITCH)\n",
    "\n",
    "Features:\n",
    "\n",
    "| WEEKDAY | MINDAY | LIGHT_LUX_1m | SOUND | MOVEMENT | MOVEMENT_1m | MOVEMENT_5m | MOVEMENT_15m |\n",
    "|-----------------------------------------------------------------------------------------------|\n",
    "| 0-6 | 0-1439 | 0-2000 | 30-130 | 0/1 | 0-1 | 0-1 | 0-1 |"
   ]
  },
  {
   "cell_type": "code",
   "execution_count": 52,
   "metadata": {
    "collapsed": true
   },
   "outputs": [],
   "source": [
    "X_new_test = pd.DataFrame([[ 5, 670, 85, 50, 1, 1, 1, 0.9 ]],columns=luxSwitch_feature_names)"
   ]
  },
  {
   "cell_type": "code",
   "execution_count": 53,
   "metadata": {},
   "outputs": [
    {
     "name": "stdout",
     "output_type": "stream",
     "text": [
      "Resultado:  [ 0.]\n"
     ]
    }
   ],
   "source": [
    "clf_predict_new_test = clf_model_switch.predict(X_new_test)\n",
    "\n",
    "print (\"Resultado: \", clf_predict_new_test)"
   ]
  }
 ],
 "metadata": {
  "kernelspec": {
   "display_name": "Python 2",
   "language": "python",
   "name": "python2"
  },
  "language_info": {
   "codemirror_mode": {
    "name": "ipython",
    "version": 2
   },
   "file_extension": ".py",
   "mimetype": "text/x-python",
   "name": "python",
   "nbconvert_exporter": "python",
   "pygments_lexer": "ipython2",
   "version": "2.7.13"
  }
 },
 "nbformat": 4,
 "nbformat_minor": 2
}
