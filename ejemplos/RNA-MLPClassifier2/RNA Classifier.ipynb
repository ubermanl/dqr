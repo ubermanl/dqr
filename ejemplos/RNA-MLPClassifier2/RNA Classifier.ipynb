{
 "cells": [
  {
   "cell_type": "markdown",
   "metadata": {},
   "source": [
    "# Prueba de Red Neuronal Artificial con Back Propagation"
   ]
  },
  {
   "cell_type": "markdown",
   "metadata": {},
   "source": [
    "## Import de librerías"
   ]
  },
  {
   "cell_type": "code",
   "execution_count": 412,
   "metadata": {},
   "outputs": [],
   "source": [
    "import pandas as pd\n",
    "import numpy as np\n",
    "import matplotlib as mpl\n",
    "import matplotlib.pyplot as plt\n",
    "from datetime import datetime, timedelta\n",
    "from IPython.display import display\n",
    "from sklearn.cluster import KMeans\n",
    "import MySQLdb\n",
    "#from pandas.io import sql\n",
    "#from sqlalchemy import create_engine\n",
    "\n",
    "%matplotlib inline\n",
    "\n",
    "pd.options.mode.chained_assignment = None  # default='warn'"
   ]
  },
  {
   "cell_type": "markdown",
   "metadata": {},
   "source": [
    "## Configuración\n",
    "### Conexión al DWH"
   ]
  },
  {
   "cell_type": "code",
   "execution_count": 413,
   "metadata": {
    "collapsed": true
   },
   "outputs": [],
   "source": [
    "# Base de datos histórica\n",
    "dbname_hist = \"ratio_dwh\"\n",
    "dbhost_hist = \"localhost\"\n",
    "dbport_hist = 3306\n",
    "dbuser_hist = \"root\"\n",
    "dbpass_hist = \"root\"\n",
    "table_hist = \"events_hist\""
   ]
  },
  {
   "cell_type": "markdown",
   "metadata": {},
   "source": [
    "## Extracción de datos del DWH"
   ]
  },
  {
   "cell_type": "code",
   "execution_count": 414,
   "metadata": {
    "collapsed": true
   },
   "outputs": [],
   "source": [
    "# Estrayendo valores de la tabla de eventos\n",
    "conn = MySQLdb.connect(host=dbhost_hist, port=dbport_hist, user=dbuser_hist, passwd=dbpass_hist, db=dbname_hist)\n",
    "df_events = pd.read_sql('select * from ' + table_hist, con=conn)\n",
    "conn.close()"
   ]
  },
  {
   "cell_type": "code",
   "execution_count": 415,
   "metadata": {},
   "outputs": [
    {
     "data": {
      "text/html": [
       "<div>\n",
       "<style>\n",
       "    .dataframe thead tr:only-child th {\n",
       "        text-align: right;\n",
       "    }\n",
       "\n",
       "    .dataframe thead th {\n",
       "        text-align: left;\n",
       "    }\n",
       "\n",
       "    .dataframe tbody tr th {\n",
       "        vertical-align: top;\n",
       "    }\n",
       "</style>\n",
       "<table border=\"1\" class=\"dataframe\">\n",
       "  <thead>\n",
       "    <tr style=\"text-align: right;\">\n",
       "      <th></th>\n",
       "      <th>TIMESTAMP</th>\n",
       "      <th>YEARDAY</th>\n",
       "      <th>WEEKDAY</th>\n",
       "      <th>HOUR</th>\n",
       "      <th>MINUTE</th>\n",
       "      <th>MINDAY</th>\n",
       "      <th>TEMPERATURE</th>\n",
       "      <th>LIGHT</th>\n",
       "      <th>SOUND</th>\n",
       "      <th>MOVEMENT</th>\n",
       "      <th>LUX_ON</th>\n",
       "      <th>LUX_ACS</th>\n",
       "      <th>LIGHT_LUX</th>\n",
       "      <th>POT_ACS</th>\n",
       "    </tr>\n",
       "  </thead>\n",
       "  <tbody>\n",
       "    <tr>\n",
       "      <th>0</th>\n",
       "      <td>2017-01-01</td>\n",
       "      <td>1</td>\n",
       "      <td>6</td>\n",
       "      <td>0</td>\n",
       "      <td>0</td>\n",
       "      <td>0</td>\n",
       "      <td>24.744444</td>\n",
       "      <td>4.0</td>\n",
       "      <td>35.635088</td>\n",
       "      <td>0.0</td>\n",
       "      <td>0</td>\n",
       "      <td>0.012527</td>\n",
       "      <td>4.0</td>\n",
       "      <td>0.003614</td>\n",
       "    </tr>\n",
       "  </tbody>\n",
       "</table>\n",
       "</div>"
      ],
      "text/plain": [
       "   TIMESTAMP  YEARDAY  WEEKDAY  HOUR  MINUTE  MINDAY  TEMPERATURE  LIGHT  \\\n",
       "0 2017-01-01        1        6     0       0       0    24.744444    4.0   \n",
       "\n",
       "       SOUND  MOVEMENT  LUX_ON   LUX_ACS  LIGHT_LUX   POT_ACS  \n",
       "0  35.635088       0.0       0  0.012527        4.0  0.003614  "
      ]
     },
     "execution_count": 415,
     "metadata": {},
     "output_type": "execute_result"
    }
   ],
   "source": [
    "df_events.head(1)"
   ]
  },
  {
   "cell_type": "markdown",
   "metadata": {},
   "source": [
    "### Chequeo de valores null"
   ]
  },
  {
   "cell_type": "code",
   "execution_count": 416,
   "metadata": {},
   "outputs": [
    {
     "data": {
      "text/plain": [
       "TIMESTAMP      False\n",
       "YEARDAY        False\n",
       "WEEKDAY        False\n",
       "HOUR           False\n",
       "MINUTE         False\n",
       "MINDAY         False\n",
       "TEMPERATURE     True\n",
       "LIGHT          False\n",
       "SOUND          False\n",
       "MOVEMENT       False\n",
       "LUX_ON         False\n",
       "LUX_ACS        False\n",
       "LIGHT_LUX      False\n",
       "POT_ACS        False\n",
       "dtype: bool"
      ]
     },
     "execution_count": 416,
     "metadata": {},
     "output_type": "execute_result"
    }
   ],
   "source": [
    "# columnas con null\n",
    "df_events.isnull().any()"
   ]
  },
  {
   "cell_type": "markdown",
   "metadata": {},
   "source": [
    "#### Corrigiendo valores null\n",
    "Podríamos utilizar diferentes opciones:\n",
    "- pad: se rellena con el último valor\n",
    "- interpolate: se rellena con valores interpolados de la columna (quizá el más apropiado para valores continuos). La interpolacion puede ser:\n",
    "    - Lineal\n",
    "    - Cuadratica\n",
    "    - Cubica\n",
    "- escalar: se rellena con un número específico"
   ]
  },
  {
   "cell_type": "code",
   "execution_count": 417,
   "metadata": {},
   "outputs": [],
   "source": [
    "dftemp = pd.DataFrame(df_events.TEMPERATURE.interpolate(method='linear'), columns=['TEMP_L'] )\n",
    "dftemp['TEMP_Q'] = df_events.TEMPERATURE.interpolate(method='quadratic')\n",
    "dftemp['TEMP_C'] = df_events.TEMPERATURE.interpolate(method='cubic')"
   ]
  },
  {
   "cell_type": "code",
   "execution_count": 418,
   "metadata": {
    "scrolled": true
   },
   "outputs": [
    {
     "data": {
      "text/plain": [
       "<matplotlib.axes._subplots.AxesSubplot at 0x24182828>"
      ]
     },
     "execution_count": 418,
     "metadata": {},
     "output_type": "execute_result"
    },
    {
     "data": {
      "image/png": "[encoded data removed]",
      "text/plain": [
       "<matplotlib.figure.Figure at 0x24169b38>"
      ]
     },
     "metadata": {},
     "output_type": "display_data"
    }
   ],
   "source": [
    "dftemp[7200:11520].plot()"
   ]
  },
  {
   "cell_type": "markdown",
   "metadata": {},
   "source": [
    "Como las interpolaciones son similares, podría utilizarse cualquier método. En este caso usaremos la cuadrática."
   ]
  },
  {
   "cell_type": "code",
   "execution_count": 419,
   "metadata": {
    "collapsed": true
   },
   "outputs": [],
   "source": [
    "df_events['TEMPERATURE'] = df_events.TEMPERATURE.interpolate(method='quadratic')"
   ]
  },
  {
   "cell_type": "markdown",
   "metadata": {},
   "source": [
    "#### Verificación final de valores null"
   ]
  },
  {
   "cell_type": "code",
   "execution_count": 420,
   "metadata": {},
   "outputs": [
    {
     "data": {
      "text/plain": [
       "False"
      ]
     },
     "execution_count": 420,
     "metadata": {},
     "output_type": "execute_result"
    }
   ],
   "source": [
    "df_events.isnull().values.any()"
   ]
  },
  {
   "cell_type": "markdown",
   "metadata": {},
   "source": [
    "### Verificando dataset completo\n",
    "Para analizar un comportamiento predictivo y desarrollar un modelo es necesario contar con un dataset completo que no tenga saltos en las mediciones. Por lo tanto, se debe verificar que cuente con datos en todos los minutos del rango obtenido."
   ]
  },
  {
   "cell_type": "code",
   "execution_count": 421,
   "metadata": {
    "collapsed": true
   },
   "outputs": [],
   "source": [
    "### TODO\n",
    "# rellenar huecos de Timestamp\n",
    "# promediar rows con mismo minuto\n",
    "# rellenar mediciones agregadas con padding"
   ]
  },
  {
   "cell_type": "markdown",
   "metadata": {},
   "source": [
    "## Limpieza del dataset\n",
    "Debido a que no se necesitan todas las columnas para realizar el entrenamiento de la RNA, se eliminan las que no representen relación con lo que se busca predecir.\n",
    "- TIMESTAMP\n",
    "- YEARDAY\n",
    "- HOUR\n",
    "- MINUTE\n",
    "- TEMPERATURE\n",
    "- LIGHT\n",
    "- LUX_ACS\n",
    "- POT_AC\n",
    "\n",
    "Las dimensiones TS, HOUR y MINUTE se pueden eliminar porque se representan con la dimensión MINDAY.\n",
    "\n",
    "La dimensión YEARDAY simplemente no agregaría información para este tipo de entrenamiento.\n",
    "\n",
    "Las mediciones TEMPERATURE y *_ACS pueden ignorarse para este tipo de entrenamiento.\n",
    "\n",
    "La medición LIGHT no existe en la realidad (a menos que haya medición de luz externa)"
   ]
  },
  {
   "cell_type": "code",
   "execution_count": 422,
   "metadata": {},
   "outputs": [],
   "source": [
    "del df_events['TIMESTAMP']\n",
    "del df_events['YEARDAY']\n",
    "del df_events['HOUR']\n",
    "del df_events['MINUTE']\n",
    "del df_events['TEMPERATURE']\n",
    "del df_events['LIGHT']\n",
    "del df_events['LUX_ACS']\n",
    "del df_events['POT_ACS']"
   ]
  },
  {
   "cell_type": "markdown",
   "metadata": {},
   "source": [
    "### Ajustes de variables\n",
    "Se aplican ajustes y correcciones a las variables del dataset"
   ]
  },
  {
   "cell_type": "code",
   "execution_count": 423,
   "metadata": {
    "collapsed": true
   },
   "outputs": [],
   "source": [
    "df_events['MOVEMENT'] = df_events.MOVEMENT.astype(int)"
   ]
  },
  {
   "cell_type": "markdown",
   "metadata": {
    "collapsed": true
   },
   "source": [
    "## Análisis Exploratorio inicial\n",
    "\n",
    "### Función de correlación\n",
    "Hace una matriz de correlación entre las variables. Cuanto más claro el color, mayor correlación entre las variables. La diagonal debería ser amarilla, y representa la correlación de una variable con sí misma.\n",
    "\n",
    "Esta función tiene dos entradas:\n",
    "1. El dataframe panda a analizar\n",
    "2. El tamáño de gráfico que se quiere imprimir"
   ]
  },
  {
   "cell_type": "code",
   "execution_count": 424,
   "metadata": {
    "collapsed": true
   },
   "outputs": [],
   "source": [
    "def plot_corr(df, size=6):\n",
    "    corr = df.corr()    # data frame correlation function\n",
    "    fig, ax = plt.subplots(figsize=(size, size))\n",
    "    ax.matshow(corr)   # color code the rectangles by correlation value\n",
    "    plt.xticks(range(len(corr.columns)), corr.columns)  # draw x tick marks\n",
    "    plt.yticks(range(len(corr.columns)), corr.columns)  # draw y tick marks"
   ]
  },
  {
   "cell_type": "code",
   "execution_count": 425,
   "metadata": {},
   "outputs": [
    {
     "data": {
      "image/png": "[encoded data removed]",
      "text/plain": [
       "<matplotlib.figure.Figure at 0x277e8e10>"
      ]
     },
     "metadata": {},
     "output_type": "display_data"
    }
   ],
   "source": [
    "plot_corr(df_events)"
   ]
  },
  {
   "cell_type": "code",
   "execution_count": 426,
   "metadata": {},
   "outputs": [
    {
     "data": {
      "text/html": [
       "<div>\n",
       "<style>\n",
       "    .dataframe thead tr:only-child th {\n",
       "        text-align: right;\n",
       "    }\n",
       "\n",
       "    .dataframe thead th {\n",
       "        text-align: left;\n",
       "    }\n",
       "\n",
       "    .dataframe tbody tr th {\n",
       "        vertical-align: top;\n",
       "    }\n",
       "</style>\n",
       "<table border=\"1\" class=\"dataframe\">\n",
       "  <thead>\n",
       "    <tr style=\"text-align: right;\">\n",
       "      <th></th>\n",
       "      <th>WEEKDAY</th>\n",
       "      <th>MINDAY</th>\n",
       "      <th>SOUND</th>\n",
       "      <th>MOVEMENT</th>\n",
       "      <th>LUX_ON</th>\n",
       "      <th>LIGHT_LUX</th>\n",
       "    </tr>\n",
       "  </thead>\n",
       "  <tbody>\n",
       "    <tr>\n",
       "      <th>WEEKDAY</th>\n",
       "      <td>1.000000e+00</td>\n",
       "      <td>2.638810e-19</td>\n",
       "      <td>0.263127</td>\n",
       "      <td>0.316357</td>\n",
       "      <td>0.037642</td>\n",
       "      <td>0.007148</td>\n",
       "    </tr>\n",
       "    <tr>\n",
       "      <th>MINDAY</th>\n",
       "      <td>2.638810e-19</td>\n",
       "      <td>1.000000e+00</td>\n",
       "      <td>0.468927</td>\n",
       "      <td>0.562168</td>\n",
       "      <td>0.400641</td>\n",
       "      <td>0.380340</td>\n",
       "    </tr>\n",
       "    <tr>\n",
       "      <th>SOUND</th>\n",
       "      <td>2.631271e-01</td>\n",
       "      <td>4.689266e-01</td>\n",
       "      <td>1.000000</td>\n",
       "      <td>0.844178</td>\n",
       "      <td>0.410684</td>\n",
       "      <td>0.176000</td>\n",
       "    </tr>\n",
       "    <tr>\n",
       "      <th>MOVEMENT</th>\n",
       "      <td>3.163568e-01</td>\n",
       "      <td>5.621675e-01</td>\n",
       "      <td>0.844178</td>\n",
       "      <td>1.000000</td>\n",
       "      <td>0.486856</td>\n",
       "      <td>0.208396</td>\n",
       "    </tr>\n",
       "    <tr>\n",
       "      <th>LUX_ON</th>\n",
       "      <td>3.764213e-02</td>\n",
       "      <td>4.006405e-01</td>\n",
       "      <td>0.410684</td>\n",
       "      <td>0.486856</td>\n",
       "      <td>1.000000</td>\n",
       "      <td>0.169634</td>\n",
       "    </tr>\n",
       "    <tr>\n",
       "      <th>LIGHT_LUX</th>\n",
       "      <td>7.148032e-03</td>\n",
       "      <td>3.803397e-01</td>\n",
       "      <td>0.176000</td>\n",
       "      <td>0.208396</td>\n",
       "      <td>0.169634</td>\n",
       "      <td>1.000000</td>\n",
       "    </tr>\n",
       "  </tbody>\n",
       "</table>\n",
       "</div>"
      ],
      "text/plain": [
       "                WEEKDAY        MINDAY     SOUND  MOVEMENT    LUX_ON  LIGHT_LUX\n",
       "WEEKDAY    1.000000e+00  2.638810e-19  0.263127  0.316357  0.037642   0.007148\n",
       "MINDAY     2.638810e-19  1.000000e+00  0.468927  0.562168  0.400641   0.380340\n",
       "SOUND      2.631271e-01  4.689266e-01  1.000000  0.844178  0.410684   0.176000\n",
       "MOVEMENT   3.163568e-01  5.621675e-01  0.844178  1.000000  0.486856   0.208396\n",
       "LUX_ON     3.764213e-02  4.006405e-01  0.410684  0.486856  1.000000   0.169634\n",
       "LIGHT_LUX  7.148032e-03  3.803397e-01  0.176000  0.208396  0.169634   1.000000"
      ]
     },
     "execution_count": 426,
     "metadata": {},
     "output_type": "execute_result"
    }
   ],
   "source": [
    "df_events.corr()"
   ]
  },
  {
   "cell_type": "markdown",
   "metadata": {},
   "source": [
    "Debido a que no se puede ver una relación fuerte entre LUX_ON y el resto de los atributos, se procede a construir otro dataset a partir del obtenido con variables más significativas.\n",
    "\n",
    "### Generación de nuevas variables\n",
    "Se analizará la relación del estado de la luz (LUX_ON) con variables dependientes del dataset generado. El objetivo es intentar representar relaciones más adecuadas con el entorno tanto a nivel espacial como temporal.\n",
    "Las mediciones (facts) a construir son:\n",
    "- LIGHT_LUX_1m    medición de luz en el último minuto (sin contar la medición actual)\n",
    "- MOVEMENT_1m     proporción del sensor PIR activado en el último minuto\n",
    "- MOVEMENT_5m     proporción del sensor PIR activado en los últimos 5 minutos\n",
    "- MOVEMENT_15m    proporción del sensor PIR activado en los últimos 15 minutos\n",
    "\n",
    "Se sumarán al dataset actual manteniendo las dimensiones y mediciones previas:\n",
    "- WEEKDAY\n",
    "- MINDAY\n",
    "- SOUND\n",
    "- MOVEMENT\n",
    "- LIGHT_LUX\n",
    "- LUX_ON"
   ]
  },
  {
   "cell_type": "code",
   "execution_count": 427,
   "metadata": {},
   "outputs": [],
   "source": [
    "df_events['LIGHT_LUX_1m'] = df_events.LIGHT_LUX.shift(1)\n",
    "df_events['MOVEMENT_1m'] = df_events.MOVEMENT.shift(1)\n",
    "df_events['MOVEMENT_5m'] = df_events.MOVEMENT.rolling(5).sum() / 5\n",
    "df_events['MOVEMENT_15m'] = df_events.MOVEMENT.rolling(15).sum() / 15\n",
    "df_events['LUX_SWITCH'] = df_events.LUX_ON.diff()\n",
    "df_events.dropna(inplace=True)"
   ]
  },
  {
   "cell_type": "code",
   "execution_count": 428,
   "metadata": {
    "scrolled": false
   },
   "outputs": [
    {
     "data": {
      "image/png": "[encoded data removed]",
      "text/plain": [
       "<matplotlib.figure.Figure at 0x47f53978>"
      ]
     },
     "metadata": {},
     "output_type": "display_data"
    }
   ],
   "source": [
    "plot_corr(df_events,14)"
   ]
  },
  {
   "cell_type": "code",
   "execution_count": 429,
   "metadata": {},
   "outputs": [
    {
     "data": {
      "text/html": [
       "<div>\n",
       "<style>\n",
       "    .dataframe thead tr:only-child th {\n",
       "        text-align: right;\n",
       "    }\n",
       "\n",
       "    .dataframe thead th {\n",
       "        text-align: left;\n",
       "    }\n",
       "\n",
       "    .dataframe tbody tr th {\n",
       "        vertical-align: top;\n",
       "    }\n",
       "</style>\n",
       "<table border=\"1\" class=\"dataframe\">\n",
       "  <thead>\n",
       "    <tr style=\"text-align: right;\">\n",
       "      <th></th>\n",
       "      <th>WEEKDAY</th>\n",
       "      <th>MINDAY</th>\n",
       "      <th>SOUND</th>\n",
       "      <th>MOVEMENT</th>\n",
       "      <th>LUX_ON</th>\n",
       "      <th>LIGHT_LUX</th>\n",
       "      <th>LIGHT_LUX_1m</th>\n",
       "      <th>MOVEMENT_1m</th>\n",
       "      <th>MOVEMENT_5m</th>\n",
       "      <th>MOVEMENT_15m</th>\n",
       "      <th>LUX_SWITCH</th>\n",
       "    </tr>\n",
       "  </thead>\n",
       "  <tbody>\n",
       "    <tr>\n",
       "      <th>WEEKDAY</th>\n",
       "      <td>1.000000</td>\n",
       "      <td>0.000068</td>\n",
       "      <td>0.263165</td>\n",
       "      <td>0.316399</td>\n",
       "      <td>0.037639</td>\n",
       "      <td>0.007189</td>\n",
       "      <td>0.007215</td>\n",
       "      <td>0.316408</td>\n",
       "      <td>0.328029</td>\n",
       "      <td>0.336649</td>\n",
       "      <td>-0.000044</td>\n",
       "    </tr>\n",
       "    <tr>\n",
       "      <th>MINDAY</th>\n",
       "      <td>0.000068</td>\n",
       "      <td>1.000000</td>\n",
       "      <td>0.468916</td>\n",
       "      <td>0.562159</td>\n",
       "      <td>0.400668</td>\n",
       "      <td>0.380316</td>\n",
       "      <td>0.383263</td>\n",
       "      <td>0.563915</td>\n",
       "      <td>0.586417</td>\n",
       "      <td>0.611106</td>\n",
       "      <td>-0.000599</td>\n",
       "    </tr>\n",
       "    <tr>\n",
       "      <th>SOUND</th>\n",
       "      <td>0.263165</td>\n",
       "      <td>0.468916</td>\n",
       "      <td>1.000000</td>\n",
       "      <td>0.844176</td>\n",
       "      <td>0.410697</td>\n",
       "      <td>0.175987</td>\n",
       "      <td>0.161039</td>\n",
       "      <td>0.779348</td>\n",
       "      <td>0.796344</td>\n",
       "      <td>0.770911</td>\n",
       "      <td>0.029074</td>\n",
       "    </tr>\n",
       "    <tr>\n",
       "      <th>MOVEMENT</th>\n",
       "      <td>0.316399</td>\n",
       "      <td>0.562159</td>\n",
       "      <td>0.844176</td>\n",
       "      <td>1.000000</td>\n",
       "      <td>0.486870</td>\n",
       "      <td>0.208381</td>\n",
       "      <td>0.192878</td>\n",
       "      <td>0.933835</td>\n",
       "      <td>0.956638</td>\n",
       "      <td>0.924073</td>\n",
       "      <td>0.029961</td>\n",
       "    </tr>\n",
       "    <tr>\n",
       "      <th>LUX_ON</th>\n",
       "      <td>0.037639</td>\n",
       "      <td>0.400668</td>\n",
       "      <td>0.410697</td>\n",
       "      <td>0.486870</td>\n",
       "      <td>1.000000</td>\n",
       "      <td>0.169625</td>\n",
       "      <td>-0.083501</td>\n",
       "      <td>0.455680</td>\n",
       "      <td>0.468233</td>\n",
       "      <td>0.457330</td>\n",
       "      <td>0.522836</td>\n",
       "    </tr>\n",
       "    <tr>\n",
       "      <th>LIGHT_LUX</th>\n",
       "      <td>0.007189</td>\n",
       "      <td>0.380316</td>\n",
       "      <td>0.175987</td>\n",
       "      <td>0.208381</td>\n",
       "      <td>0.169625</td>\n",
       "      <td>1.000000</td>\n",
       "      <td>0.839055</td>\n",
       "      <td>0.190102</td>\n",
       "      <td>0.193423</td>\n",
       "      <td>0.179057</td>\n",
       "      <td>0.242778</td>\n",
       "    </tr>\n",
       "    <tr>\n",
       "      <th>LIGHT_LUX_1m</th>\n",
       "      <td>0.007215</td>\n",
       "      <td>0.383263</td>\n",
       "      <td>0.161039</td>\n",
       "      <td>0.192878</td>\n",
       "      <td>-0.083501</td>\n",
       "      <td>0.839055</td>\n",
       "      <td>1.000000</td>\n",
       "      <td>0.208380</td>\n",
       "      <td>0.197618</td>\n",
       "      <td>0.182138</td>\n",
       "      <td>-0.242070</td>\n",
       "    </tr>\n",
       "    <tr>\n",
       "      <th>MOVEMENT_1m</th>\n",
       "      <td>0.316408</td>\n",
       "      <td>0.563915</td>\n",
       "      <td>0.779348</td>\n",
       "      <td>0.933835</td>\n",
       "      <td>0.455680</td>\n",
       "      <td>0.190102</td>\n",
       "      <td>0.208380</td>\n",
       "      <td>1.000000</td>\n",
       "      <td>0.968693</td>\n",
       "      <td>0.932086</td>\n",
       "      <td>-0.029820</td>\n",
       "    </tr>\n",
       "    <tr>\n",
       "      <th>MOVEMENT_5m</th>\n",
       "      <td>0.328029</td>\n",
       "      <td>0.586417</td>\n",
       "      <td>0.796344</td>\n",
       "      <td>0.956638</td>\n",
       "      <td>0.468233</td>\n",
       "      <td>0.193423</td>\n",
       "      <td>0.197618</td>\n",
       "      <td>0.968693</td>\n",
       "      <td>1.000000</td>\n",
       "      <td>0.970660</td>\n",
       "      <td>-0.004869</td>\n",
       "    </tr>\n",
       "    <tr>\n",
       "      <th>MOVEMENT_15m</th>\n",
       "      <td>0.336649</td>\n",
       "      <td>0.611106</td>\n",
       "      <td>0.770911</td>\n",
       "      <td>0.924073</td>\n",
       "      <td>0.457330</td>\n",
       "      <td>0.179057</td>\n",
       "      <td>0.182138</td>\n",
       "      <td>0.932086</td>\n",
       "      <td>0.970660</td>\n",
       "      <td>1.000000</td>\n",
       "      <td>-0.003008</td>\n",
       "    </tr>\n",
       "    <tr>\n",
       "      <th>LUX_SWITCH</th>\n",
       "      <td>-0.000044</td>\n",
       "      <td>-0.000599</td>\n",
       "      <td>0.029074</td>\n",
       "      <td>0.029961</td>\n",
       "      <td>0.522836</td>\n",
       "      <td>0.242778</td>\n",
       "      <td>-0.242070</td>\n",
       "      <td>-0.029820</td>\n",
       "      <td>-0.004869</td>\n",
       "      <td>-0.003008</td>\n",
       "      <td>1.000000</td>\n",
       "    </tr>\n",
       "  </tbody>\n",
       "</table>\n",
       "</div>"
      ],
      "text/plain": [
       "               WEEKDAY    MINDAY     SOUND  MOVEMENT    LUX_ON  LIGHT_LUX  \\\n",
       "WEEKDAY       1.000000  0.000068  0.263165  0.316399  0.037639   0.007189   \n",
       "MINDAY        0.000068  1.000000  0.468916  0.562159  0.400668   0.380316   \n",
       "SOUND         0.263165  0.468916  1.000000  0.844176  0.410697   0.175987   \n",
       "MOVEMENT      0.316399  0.562159  0.844176  1.000000  0.486870   0.208381   \n",
       "LUX_ON        0.037639  0.400668  0.410697  0.486870  1.000000   0.169625   \n",
       "LIGHT_LUX     0.007189  0.380316  0.175987  0.208381  0.169625   1.000000   \n",
       "LIGHT_LUX_1m  0.007215  0.383263  0.161039  0.192878 -0.083501   0.839055   \n",
       "MOVEMENT_1m   0.316408  0.563915  0.779348  0.933835  0.455680   0.190102   \n",
       "MOVEMENT_5m   0.328029  0.586417  0.796344  0.956638  0.468233   0.193423   \n",
       "MOVEMENT_15m  0.336649  0.611106  0.770911  0.924073  0.457330   0.179057   \n",
       "LUX_SWITCH   -0.000044 -0.000599  0.029074  0.029961  0.522836   0.242778   \n",
       "\n",
       "              LIGHT_LUX_1m  MOVEMENT_1m  MOVEMENT_5m  MOVEMENT_15m  LUX_SWITCH  \n",
       "WEEKDAY           0.007215     0.316408     0.328029      0.336649   -0.000044  \n",
       "MINDAY            0.383263     0.563915     0.586417      0.611106   -0.000599  \n",
       "SOUND             0.161039     0.779348     0.796344      0.770911    0.029074  \n",
       "MOVEMENT          0.192878     0.933835     0.956638      0.924073    0.029961  \n",
       "LUX_ON           -0.083501     0.455680     0.468233      0.457330    0.522836  \n",
       "LIGHT_LUX         0.839055     0.190102     0.193423      0.179057    0.242778  \n",
       "LIGHT_LUX_1m      1.000000     0.208380     0.197618      0.182138   -0.242070  \n",
       "MOVEMENT_1m       0.208380     1.000000     0.968693      0.932086   -0.029820  \n",
       "MOVEMENT_5m       0.197618     0.968693     1.000000      0.970660   -0.004869  \n",
       "MOVEMENT_15m      0.182138     0.932086     0.970660      1.000000   -0.003008  \n",
       "LUX_SWITCH       -0.242070    -0.029820    -0.004869     -0.003008    1.000000  "
      ]
     },
     "execution_count": 429,
     "metadata": {},
     "output_type": "execute_result"
    }
   ],
   "source": [
    "df_events.corr()"
   ]
  },
  {
   "cell_type": "markdown",
   "metadata": {},
   "source": [
    "## Entrenamiento y verificación de RNA\n",
    "\n",
    "### Variable objetivo: estado de la lámpara (LUX_ON)\n",
    "La variable a predecir es LUX_ON, la cual está en 1 si la luz está prendida (sea estado override o no del módulo). La distribución del estado en porcentaje es la siguiente:"
   ]
  },
  {
   "cell_type": "code",
   "execution_count": 430,
   "metadata": {},
   "outputs": [
    {
     "data": {
      "text/plain": [
       "0    0.831282\n",
       "1    0.168718\n",
       "Name: LUX_ON, dtype: float64"
      ]
     },
     "execution_count": 430,
     "metadata": {},
     "output_type": "execute_result"
    }
   ],
   "source": [
    "df_events.LUX_ON.value_counts(normalize=True)"
   ]
  },
  {
   "cell_type": "markdown",
   "metadata": {},
   "source": [
    "#### Separando los datos para training y prueba\n",
    "Para poder hacer etapas de entrenamiento y prueba, voy a separar los datos. 70% para entrenamiento, 30% para prueba. Para esto voy a usar del módulo scikit-learn la función train_test_split.\n",
    "\n",
    "Los conjuntos de datos van a llamarse:\n",
    "* X_train: Datos de entrenamiento. Las 7 columnas con los valores del mes, día, sensores, etc, compuesto por el 70% de los registros\n",
    "* y_train: Resultado de entrenamiento. Columna *estadoLuz* para el 70% de los registros\n",
    "* X_test: Datos para hacer la validación. Tienen el mismo formato que X_train, pero corresponden al 30% del conjunto de datos\n",
    "* y_test: Resultados para validar la performance del algoritmo aplicado a X_test"
   ]
  },
  {
   "cell_type": "code",
   "execution_count": 431,
   "metadata": {},
   "outputs": [],
   "source": [
    "from sklearn.model_selection import train_test_split\n",
    "\n",
    "luxState_feature_names = ['WEEKDAY', 'MINDAY', 'LIGHT_LUX_1m', 'SOUND', 'MOVEMENT', 'MOVEMENT_1m', 'MOVEMENT_5m', 'MOVEMENT_15m']\n",
    "luxState_goal_names = ['LUX_ON']\n",
    "\n",
    "luxState_features = df_events[luxState_feature_names].values     # Columnas del predictor (5 X m)\n",
    "luxState_goal = df_events[luxState_goal_names].values            # Clase predecida (1=verdadero, 0=falso) column (1 X m)\n",
    "split_test_size = 0.30                                           # 0.30 es 30%, el tamaño para pruebas\n",
    "\n",
    "luxState_features_train, luxState_features_test, luxState_goal_train, luxState_goal_test = train_test_split(luxState_features, luxState_goal, test_size=split_test_size)"
   ]
  },
  {
   "cell_type": "markdown",
   "metadata": {},
   "source": [
    "Verifico que el tamaño relativo de los sets de entrenamiento y prueba sea lo más cercano a 70-30 posible:"
   ]
  },
  {
   "cell_type": "code",
   "execution_count": 432,
   "metadata": {},
   "outputs": [
    {
     "name": "stdout",
     "output_type": "stream",
     "text": [
      "70.00% en el set de entrenamiento\n",
      "30.00% en el set de prueba\n"
     ]
    }
   ],
   "source": [
    "print \"{0:.2f}% en el set de entrenamiento\".format( (float(len(luxState_features_train))/len(df_events.index)) * 100 ) \n",
    "print \"{0:.2f}% en el set de prueba\".format((float(len(luxState_features_test))/len(df_events.index)) * 100)"
   ]
  },
  {
   "cell_type": "markdown",
   "metadata": {},
   "source": [
    "Verifico que la proporción de casos verdaderos y falsos se mantenga en los conjuntos de entrenamiento y test:"
   ]
  },
  {
   "cell_type": "code",
   "execution_count": 433,
   "metadata": {},
   "outputs": [
    {
     "name": "stdout",
     "output_type": "stream",
     "text": [
      "Lux Activo en el total           : 88676 (16.87%)\n",
      "Lux Inactivo en el total         : 436910 (83.13%)\n",
      "\n",
      "Lux Activo en entrenamiento      : 62000 (16.85%)\n",
      "Lux Inctivo en entrenamiento     : 305910 (83.15%)\n",
      "\n",
      "Lux Activo en test               : 26676 (16.92%)\n",
      "Lux Inctivo en test              : 131000 (83.08%)\n"
     ]
    }
   ],
   "source": [
    "print(\"Lux Activo en el total           : {0} ({1:0.2f}%)\".format(len(df_events.loc[df_events['LUX_ON'] == 1]), (len(df_events.loc[df_events['LUX_ON'] == 1])/float(len(df_events.index))) * 100.0))\n",
    "print(\"Lux Inactivo en el total         : {0} ({1:0.2f}%)\".format(len(df_events.loc[df_events['LUX_ON'] == 0]), (len(df_events.loc[df_events['LUX_ON'] == 0])/float(len(df_events.index))) * 100.0))\n",
    "print(\"\")\n",
    "train_state_on = len(luxState_goal_train[ luxState_goal_train == 1])\n",
    "train_state_off = len(luxState_goal_train[ luxState_goal_train == 0])\n",
    "print(\"Lux Activo en entrenamiento      : {0} ({1:0.2f}%)\".format(train_state_on, train_state_on/float(len(luxState_goal_train)) * 100.0))\n",
    "print(\"Lux Inctivo en entrenamiento     : {0} ({1:0.2f}%)\".format(train_state_off, train_state_off/float(len(luxState_goal_train)) * 100.0))\n",
    "print(\"\")\n",
    "test_state_on = len(luxState_goal_test[ luxState_goal_test == 1])\n",
    "test_state_off = len(luxState_goal_test[ luxState_goal_test == 0])\n",
    "print(\"Lux Activo en test               : {0} ({1:0.2f}%)\".format(test_state_on, test_state_on/float(len(luxState_goal_test)) * 100.0))\n",
    "print(\"Lux Inctivo en test              : {0} ({1:0.2f}%)\".format(test_state_off,test_state_off/float(len(luxState_goal_test)) * 100.0))"
   ]
  },
  {
   "cell_type": "markdown",
   "metadata": {},
   "source": [
    "#### Entrenamiento inicial\n",
    "Para este entrenamiento voy a usar otro módulo de scikit-learn: neural_network. Como lo que estamos tratando de averiguar es si la luz debe estar prendida o no, estamos hablando de un algoritmo de clasificación, y por lo tanto la función que voy a usar se llama MLPClassifier, e implementa un perceptrón multi capa (MLP) que se entrena usando backpropagation.\n"
   ]
  },
  {
   "cell_type": "code",
   "execution_count": 434,
   "metadata": {},
   "outputs": [
    {
     "name": "stdout",
     "output_type": "stream",
     "text": [
      "Wall time: 12.3 s\n"
     ]
    },
    {
     "data": {
      "text/plain": [
       "MLPClassifier(activation='relu', alpha=0.0001, batch_size='auto', beta_1=0.9,\n",
       "       beta_2=0.999, early_stopping=False, epsilon=1e-08,\n",
       "       hidden_layer_sizes=(100,), learning_rate='constant',\n",
       "       learning_rate_init=0.001, max_iter=200, momentum=0.9,\n",
       "       nesterovs_momentum=True, power_t=0.5, random_state=None,\n",
       "       shuffle=True, solver='adam', tol=0.0001, validation_fraction=0.1,\n",
       "       verbose=False, warm_start=False)"
      ]
     },
     "execution_count": 434,
     "metadata": {},
     "output_type": "execute_result"
    }
   ],
   "source": [
    "from sklearn.neural_network import MLPClassifier\n",
    "clf_model_state = MLPClassifier()\n",
    "%time clf_model_state.fit(luxState_features_train, luxState_goal_train.ravel())"
   ]
  },
  {
   "cell_type": "markdown",
   "metadata": {},
   "source": [
    "#### Performance usando los datos de entrenamiento\n",
    "Para esto voy a importar la función metrics."
   ]
  },
  {
   "cell_type": "code",
   "execution_count": 435,
   "metadata": {
    "scrolled": true
   },
   "outputs": [
    {
     "name": "stdout",
     "output_type": "stream",
     "text": [
      "Precisión en entrenamiento: 0.8766\n"
     ]
    }
   ],
   "source": [
    "from sklearn import metrics\n",
    "\n",
    "clf_predict_state_train = clf_model_state.predict(luxState_features_train)\n",
    "\n",
    "print(\"Precisión en entrenamiento: {0:.4f}\".format(metrics.accuracy_score(luxState_goal_train, clf_predict_state_train)))"
   ]
  },
  {
   "cell_type": "markdown",
   "metadata": {},
   "source": [
    "#### Performance usando los datos de prueba"
   ]
  },
  {
   "cell_type": "code",
   "execution_count": 436,
   "metadata": {
    "scrolled": true
   },
   "outputs": [
    {
     "name": "stdout",
     "output_type": "stream",
     "text": [
      "Precisión en test: 0.8750\n"
     ]
    }
   ],
   "source": [
    "clf_predict_state_test = clf_model_state.predict(luxState_features_test)\n",
    "\n",
    "print(\"Precisión en test: {0:.4f}\".format(metrics.accuracy_score(luxState_goal_test, clf_predict_state_test)))"
   ]
  },
  {
   "cell_type": "markdown",
   "metadata": {},
   "source": [
    "#### Métricas\n",
    "Los resultados de las etapas de entrenamiento y prueba son muy buenos. Demasiado buenos. Hay que analizar si no hay algún otro problema que pueda causar que cuando ponga más datos (cuando analice en tiempo real la actividad del usuario), el modelo falle miserablemente.\n",
    "\n",
    "Para este análisis, voy a ver como se comparan los resultados, con el objetivo de entender si el modelo sirve o hay que hacer ajustes. Voy a usar dos herramientas:\n",
    "\n",
    "##### Matriz de confusión\n",
    "https://es.wikipedia.org/wiki/Matriz_de_confusi%C3%B3n\n",
    "\n",
    "Cada columna de la matriz representa el número de predicciones de cada clase, mientras que cada fila representa a las instancias en la clase real. Uno de los beneficios de las matrices de confusión es que facilitan ver si el sistema está confundiendo dos clases. \n",
    "\n",
    "En nuestro caso, la matriz representa lo siguiente:\n",
    "\n",
    "\n",
    "| EV (Predicho Encendido y es verdad ) | EF (Predicho Encendido pero es falso) |\n",
    "|------------------------------------------------|\n",
    "| **AF (Predicho Apagado pero es Falso** | **AV (Predicho Apagado y es verdad)** |\n",
    "\n",
    "Esto quiere decir que queremos los valores más altos posibles en la diagonal, y lo más cerca posible a cero en cualquier otro lado."
   ]
  },
  {
   "cell_type": "code",
   "execution_count": 437,
   "metadata": {
    "scrolled": true
   },
   "outputs": [
    {
     "name": "stdout",
     "output_type": "stream",
     "text": [
      "Matriz de confusión:\n",
      "[[ 13295  13381]\n",
      " [  6324 124676]]\n"
     ]
    }
   ],
   "source": [
    "print(\"Matriz de confusión:\")\n",
    "print(\"{0}\".format(metrics.confusion_matrix(luxState_goal_test, clf_predict_state_test, labels=[1, 0])))"
   ]
  },
  {
   "cell_type": "markdown",
   "metadata": {},
   "source": [
    "Estos resultados son muy buenos, el porcentaje de acertados es altísimo. El modelo es casi perfecto. Para confirmar, hay que usar la otra herramienta.\n",
    "\n",
    "\n",
    "#### Reporte de clasificación.\n",
    "Lo primero que vamos a verificar es que tan bien se hace una predición acertada cuando se requiere que el dispositivo esté encendido. Este dato, llamado \"recall\" en el reporte, esta dado por:\n",
    "\n",
    "Recall = EV / (EV + AF)\n",
    "\n",
    "Lo segundo que queremos ver es la presición, que está dada por:\n",
    "\n",
    "Precision = EV / (EV + EF)\n"
   ]
  },
  {
   "cell_type": "code",
   "execution_count": 438,
   "metadata": {
    "scrolled": true
   },
   "outputs": [
    {
     "name": "stdout",
     "output_type": "stream",
     "text": [
      "Reporte de clasificación:\n",
      "             precision    recall  f1-score   support\n",
      "\n",
      "          1       0.68      0.50      0.57     26676\n",
      "          0       0.90      0.95      0.93    131000\n",
      "\n",
      "avg / total       0.86      0.88      0.87    157676\n",
      "\n"
     ]
    }
   ],
   "source": [
    "print(\"Reporte de clasificación:\")\n",
    "print(metrics.classification_report(luxState_goal_test, clf_predict_state_test, labels=[1,0]))"
   ]
  },
  {
   "cell_type": "markdown",
   "metadata": {},
   "source": [
    "### Variable objetivo: cambio de estado de la lámpara (LUX_SWITCH)\n",
    "La variable a predecir es LUX_SWITCH que se describe como cada cambio de estado del lux.\n",
    "-  1: la luz se prendió\n",
    "-  0: no hubo cambios\n",
    "- -1: la luz se apagó\n",
    "La distribución del estado en porcentaje es la siguiente:"
   ]
  },
  {
   "cell_type": "code",
   "execution_count": 439,
   "metadata": {},
   "outputs": [
    {
     "data": {
      "text/plain": [
       " 0.0    0.846644\n",
       "-1.0    0.076678\n",
       " 1.0    0.076678\n",
       "Name: LUX_SWITCH, dtype: float64"
      ]
     },
     "execution_count": 439,
     "metadata": {},
     "output_type": "execute_result"
    }
   ],
   "source": [
    "df_events.LUX_SWITCH.value_counts(normalize=True)"
   ]
  },
  {
   "cell_type": "markdown",
   "metadata": {},
   "source": [
    "#### Separando los datos para training y prueba"
   ]
  },
  {
   "cell_type": "code",
   "execution_count": 440,
   "metadata": {},
   "outputs": [],
   "source": [
    "luxSwitch_feature_names = ['WEEKDAY', 'MINDAY', 'LIGHT_LUX_1m', 'SOUND', 'MOVEMENT', 'MOVEMENT_1m', 'MOVEMENT_5m', 'MOVEMENT_15m' ]\n",
    "luxSwitch_goal_names = ['LUX_SWITCH']\n",
    "\n",
    "luxSwitch_features = df_events[luxSwitch_feature_names].values        # Columnas predictoras\n",
    "luxSwitch_goal = df_events[luxSwitch_goal_names].values               # Clase predecida (1, 0, -1)\n",
    "split_test_size = 0.30                                                # 0.30 es 30%, el tamaño para pruebas\n",
    "\n",
    "luxSwitch_feat_train, luxSwitch_feat_test, luxSwitch_goal_train, luxSwitch_goal_test = train_test_split(luxSwitch_features, luxSwitch_goal, test_size=split_test_size)"
   ]
  },
  {
   "cell_type": "code",
   "execution_count": 441,
   "metadata": {},
   "outputs": [
    {
     "name": "stdout",
     "output_type": "stream",
     "text": [
      "70.00% en el set de entrenamiento\n",
      "30.00% en el set de prueba\n"
     ]
    }
   ],
   "source": [
    "print \"{0:.2f}% en el set de entrenamiento\".format( (float(len(X_train))/len(df_events.index)) * 100 ) \n",
    "print \"{0:.2f}% en el set de prueba\".format((float(len(X_test))/len(df_events.index)) * 100)"
   ]
  },
  {
   "cell_type": "code",
   "execution_count": 442,
   "metadata": {},
   "outputs": [
    {
     "name": "stdout",
     "output_type": "stream",
     "text": [
      "Totales:\n",
      "Prendidas        : 40301 (7.67%)\n",
      "Sin cambios      : 444984 (84.66%)\n",
      "Apagadas         : 40301 (7.67%)\n",
      "\n",
      "Set de entrenamiento:\n",
      "Prendidas        : 28287 (7.69%)\n",
      "Sin cambios      : 311317 (84.62%)\n",
      "Apagadas         : 28306 (7.69%)\n",
      "\n",
      "Set de pruebas:\n",
      "Prendidas        : 12014 (7.62%)\n",
      "Sin cambios      : 133667 (84.77%)\n",
      "Apagadas         : 11995 (7.61%)\n"
     ]
    }
   ],
   "source": [
    "totales_switch_on = len(df_events.query('LUX_SWITCH == 1'))\n",
    "totales_switch_stale = len(df_events.query('LUX_SWITCH == 0'))\n",
    "totales_switch_off = len(df_events.query('LUX_SWITCH == -1'))\n",
    "print 'Totales:'\n",
    "print(\"Prendidas        : {0} ({1:0.2f}%)\".format(totales_switch_on, totales_switch_on/float(df_events.shape[0]) * 100.0))\n",
    "print(\"Sin cambios      : {0} ({1:0.2f}%)\".format(totales_switch_stale, totales_switch_stale/float(df_events.shape[0]) * 100.0))\n",
    "print(\"Apagadas         : {0} ({1:0.2f}%)\".format(totales_switch_off, totales_switch_off/float(df_events.shape[0]) * 100.0))\n",
    "print ''\n",
    "train_switch_on = len(luxSwitch_goal_train[ luxSwitch_goal_train == 1])\n",
    "train_switch_stale = len(luxSwitch_goal_train[ luxSwitch_goal_train == 0])\n",
    "train_switch_off = len(luxSwitch_goal_train[ luxSwitch_goal_train == -1])\n",
    "print 'Set de entrenamiento:'\n",
    "print(\"Prendidas        : {0} ({1:0.2f}%)\".format(train_switch_on, train_switch_on/float(luxSwitch_goal_train.shape[0]) * 100.0))\n",
    "print(\"Sin cambios      : {0} ({1:0.2f}%)\".format(train_switch_stale, train_switch_stale/float(luxSwitch_goal_train.shape[0]) * 100.0))\n",
    "print(\"Apagadas         : {0} ({1:0.2f}%)\".format(train_switch_off, train_switch_off/float(luxSwitch_goal_train.shape[0]) * 100.0))\n",
    "print ''\n",
    "test_switch_on = len(luxSwitch_goal_test[ luxSwitch_goal_test == 1])\n",
    "test_switch_stale = len(luxSwitch_goal_test[ luxSwitch_goal_test == 0])\n",
    "test_switch_off = len(luxSwitch_goal_test[ luxSwitch_goal_test == -1])\n",
    "print 'Set de pruebas:'\n",
    "print(\"Prendidas        : {0} ({1:0.2f}%)\".format(test_switch_on, test_switch_on/float(luxSwitch_goal_test.shape[0]) * 100.0))\n",
    "print(\"Sin cambios      : {0} ({1:0.2f}%)\".format(test_switch_stale, test_switch_stale/float(luxSwitch_goal_test.shape[0]) * 100.0))\n",
    "print(\"Apagadas         : {0} ({1:0.2f}%)\".format(test_switch_off, test_switch_off/float(luxSwitch_goal_test.shape[0]) * 100.0))"
   ]
  },
  {
   "cell_type": "markdown",
   "metadata": {},
   "source": [
    "#### Entrenamiento inicial"
   ]
  },
  {
   "cell_type": "code",
   "execution_count": 443,
   "metadata": {},
   "outputs": [
    {
     "name": "stdout",
     "output_type": "stream",
     "text": [
      "Wall time: 3min 54s\n"
     ]
    },
    {
     "data": {
      "text/plain": [
       "MLPClassifier(activation='relu', alpha=0.0001, batch_size='auto', beta_1=0.9,\n",
       "       beta_2=0.999, early_stopping=False, epsilon=1e-08,\n",
       "       hidden_layer_sizes=(100,), learning_rate='constant',\n",
       "       learning_rate_init=0.001, max_iter=200, momentum=0.9,\n",
       "       nesterovs_momentum=True, power_t=0.5, random_state=None,\n",
       "       shuffle=True, solver='adam', tol=0.0001, validation_fraction=0.1,\n",
       "       verbose=False, warm_start=False)"
      ]
     },
     "execution_count": 443,
     "metadata": {},
     "output_type": "execute_result"
    }
   ],
   "source": [
    "clf_model_switch = MLPClassifier()\n",
    "%time clf_model_switch.fit(luxSwitch_feat_train, luxSwitch_goal_train.ravel())"
   ]
  },
  {
   "cell_type": "markdown",
   "metadata": {},
   "source": [
    "#### Performance usando los datos de entrenamiento"
   ]
  },
  {
   "cell_type": "code",
   "execution_count": 444,
   "metadata": {
    "scrolled": true
   },
   "outputs": [
    {
     "name": "stdout",
     "output_type": "stream",
     "text": [
      "Precisión en entrenamiento: 0.8843\n"
     ]
    }
   ],
   "source": [
    "clf_predict_switch_train = clf_model_switch.predict(luxSwitch_feat_train)\n",
    "\n",
    "print(\"Precisión en entrenamiento: {0:.4f}\".format(metrics.accuracy_score(luxSwitch_goal_train, clf_predict_switch_train)))"
   ]
  },
  {
   "cell_type": "markdown",
   "metadata": {},
   "source": [
    "#### Performance usando los datos de prueba"
   ]
  },
  {
   "cell_type": "code",
   "execution_count": 445,
   "metadata": {
    "scrolled": true
   },
   "outputs": [
    {
     "name": "stdout",
     "output_type": "stream",
     "text": [
      "Precisión en test: 0.8847\n"
     ]
    }
   ],
   "source": [
    "clf_predict_switch_test = clf_model_switch.predict(luxSwitch_feat_test)\n",
    "\n",
    "print(\"Precisión en test: {0:.4f}\".format(metrics.accuracy_score(luxSwitch_goal_test, clf_predict_switch_test)))"
   ]
  },
  {
   "cell_type": "markdown",
   "metadata": {},
   "source": [
    "#### Métricas\n",
    "##### Matriz de confusión"
   ]
  },
  {
   "cell_type": "code",
   "execution_count": 446,
   "metadata": {
    "scrolled": true
   },
   "outputs": [
    {
     "name": "stdout",
     "output_type": "stream",
     "text": [
      "[[  6670   5343      1]\n",
      " [  2851 130561    255]\n",
      " [     0   9732   2263]]\n"
     ]
    }
   ],
   "source": [
    "print(\"{0}\".format(metrics.confusion_matrix(luxSwitch_goal_test, clf_predict_switch_test, labels=[1, 0, -1])))"
   ]
  },
  {
   "cell_type": "markdown",
   "metadata": {},
   "source": [
    "#### Reporte de clasificación"
   ]
  },
  {
   "cell_type": "code",
   "execution_count": 447,
   "metadata": {},
   "outputs": [
    {
     "name": "stdout",
     "output_type": "stream",
     "text": [
      "             precision    recall  f1-score   support\n",
      "\n",
      "          1       0.70      0.56      0.62     12014\n",
      "          0       0.90      0.98      0.93    133667\n",
      "         -1       0.90      0.19      0.31     11995\n",
      "\n",
      "avg / total       0.88      0.88      0.86    157676\n",
      "\n"
     ]
    }
   ],
   "source": [
    "print(metrics.classification_report(luxSwitch_goal_test, clf_predict_switch_test, labels=[1,0,-1]))"
   ]
  },
  {
   "cell_type": "markdown",
   "metadata": {},
   "source": [
    "## Validación del modelo"
   ]
  },
  {
   "cell_type": "markdown",
   "metadata": {},
   "source": [
    "### Predicción de ESTADO (LUX_ON)\n",
    "Features:\n",
    "\n",
    "| WEEKDAY | MINDAY | LIGHT_LUX_1m | SOUND | MOVEMENT | MOVEMENT_1m | MOVEMENT_5m | MOVEMENT_15m |\n",
    "|-----------------------------------------------------------------------------------------------|\n",
    "| 0-6 | 0-1439 | 0-2000 | 30-130 | 0/1 | 0-1 | 0-1 | 0-1 |"
   ]
  },
  {
   "cell_type": "code",
   "execution_count": 448,
   "metadata": {},
   "outputs": [],
   "source": [
    "X_new_test = pd.DataFrame([[ 5, 670, 85, 50, 1, 1, 1, 0.9 ]],columns=luxState_feature_names)"
   ]
  },
  {
   "cell_type": "code",
   "execution_count": 449,
   "metadata": {},
   "outputs": [
    {
     "name": "stdout",
     "output_type": "stream",
     "text": [
      "('Resultado: ', array([1], dtype=int64))\n"
     ]
    }
   ],
   "source": [
    "clf_predict_new_test = clf_model_state.predict(X_new_test)\n",
    "\n",
    "print (\"Resultado: \", clf_predict_new_test)"
   ]
  },
  {
   "cell_type": "markdown",
   "metadata": {},
   "source": [
    "### Predicción de CAMBIO DE ESTADO (LUX_SWITCH)\n",
    "\n",
    "Features:\n",
    "\n",
    "| WEEKDAY | MINDAY | LIGHT_LUX_1m | SOUND | MOVEMENT | MOVEMENT_1m | MOVEMENT_5m | MOVEMENT_15m |\n",
    "|-----------------------------------------------------------------------------------------------|\n",
    "| 0-6 | 0-1439 | 0-2000 | 30-130 | 0/1 | 0-1 | 0-1 | 0-1 |"
   ]
  },
  {
   "cell_type": "code",
   "execution_count": 450,
   "metadata": {
    "collapsed": true
   },
   "outputs": [],
   "source": [
    "X_new_test = pd.DataFrame([[ 5, 670, 85, 50, 1, 1, 1, 0.9 ]],columns=luxSwitch_feature_names)"
   ]
  },
  {
   "cell_type": "code",
   "execution_count": 451,
   "metadata": {},
   "outputs": [
    {
     "name": "stdout",
     "output_type": "stream",
     "text": [
      "('Resultado: ', array([ 1.]))\n"
     ]
    }
   ],
   "source": [
    "clf_predict_new_test = clf_model_switch.predict(X_new_test)\n",
    "\n",
    "print (\"Resultado: \", clf_predict_new_test)"
   ]
  }
 ],
 "metadata": {
  "kernelspec": {
   "display_name": "Python 2",
   "language": "python",
   "name": "python2"
  },
  "language_info": {
   "codemirror_mode": {
    "name": "ipython",
    "version": 2
   },
   "file_extension": ".py",
   "mimetype": "text/x-python",
   "name": "python",
   "nbconvert_exporter": "python",
   "pygments_lexer": "ipython2",
   "version": "2.7.13"
  }
 },
 "nbformat": 4,
 "nbformat_minor": 2
}
