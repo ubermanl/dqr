{
 "cells": [
  {
   "cell_type": "markdown",
   "metadata": {},
   "source": [
    "# Prueba de Red Neuronal Artificial con Back Propagation"
   ]
  },
  {
   "cell_type": "markdown",
   "metadata": {},
   "source": [
    "## Import de librerías"
   ]
  },
  {
   "cell_type": "code",
   "execution_count": 1,
   "metadata": {
    "collapsed": true
   },
   "outputs": [],
   "source": [
    "import pandas as pd\n",
    "import numpy as np\n",
    "import matplotlib as mpl\n",
    "import matplotlib.pyplot as plt\n",
    "from datetime import datetime, timedelta\n",
    "from IPython.display import display\n",
    "from sklearn.cluster import KMeans\n",
    "import MySQLdb\n",
    "#from pandas.io import sql\n",
    "#from sqlalchemy import create_engine\n",
    "\n",
    "%matplotlib inline\n",
    "\n",
    "pd.options.mode.chained_assignment = None  # default='warn'"
   ]
  },
  {
   "cell_type": "markdown",
   "metadata": {},
   "source": [
    "## Configuración\n",
    "### Conexión al DWH"
   ]
  },
  {
   "cell_type": "code",
   "execution_count": 2,
   "metadata": {
    "collapsed": true
   },
   "outputs": [],
   "source": [
    "# Base de datos histórica\n",
    "dbname_hist = \"ratio_dwh\"\n",
    "dbhost_hist = \"localhost\"\n",
    "dbport_hist = 3306\n",
    "dbuser_hist = \"root\"\n",
    "dbpass_hist = \"root\"\n",
    "device_events_tbl = \"device_events\"\n",
    "device_event_sensors_tbl = \"device_event_sensors\"\n",
    "device_modules_tbl = \"device_modules\""
   ]
  },
  {
   "cell_type": "markdown",
   "metadata": {},
   "source": [
    "### Variables de configuración"
   ]
  },
  {
   "cell_type": "code",
   "execution_count": 3,
   "metadata": {
    "collapsed": true
   },
   "outputs": [],
   "source": [
    "device_id = 5                   # Device id donde esta el modulo a entrenar\n",
    "lux_module_id = 51              # Modulo a entrenar\n",
    "\n",
    "# Variables de tipos de sensores\n",
    "ACS_SENSOR_TYPE = 1\n",
    "LIGHT_SENSOR_TYPE = 2\n",
    "MOVEMENT_SENSOR_TYPE = 3\n",
    "SOUND_SENSOR_TYPE = 4\n",
    "TEMP_SENSOR_TYPE = 5"
   ]
  },
  {
   "cell_type": "markdown",
   "metadata": {},
   "source": [
    "### Funciones"
   ]
  },
  {
   "cell_type": "code",
   "execution_count": 4,
   "metadata": {
    "collapsed": true
   },
   "outputs": [],
   "source": [
    "# Funcion para pasar de sensor_id a nombre\n",
    "def sensorIdToStr(sensor_id):\n",
    "    return {\n",
    "        ACS_SENSOR_TYPE: 'LUX_ACS',\n",
    "        LIGHT_SENSOR_TYPE: 'LIGHT',\n",
    "        MOVEMENT_SENSOR_TYPE: 'MOVEMENT',\n",
    "        SOUND_SENSOR_TYPE: 'SOUND',\n",
    "        TEMP_SENSOR_TYPE: 'TEMPERATURE'\n",
    "    }.get(sensor_id, sensor_id)"
   ]
  },
  {
   "cell_type": "markdown",
   "metadata": {},
   "source": [
    "## Extracción de datos del DWH"
   ]
  },
  {
   "cell_type": "code",
   "execution_count": 5,
   "metadata": {},
   "outputs": [
    {
     "name": "stdout",
     "output_type": "stream",
     "text": [
      "CPU times: user 3.63 s, sys: 415 ms, total: 4.05 s\n",
      "Wall time: 8h 42min 15s\n"
     ]
    }
   ],
   "source": [
    "# Estrayendo valores de la tabla de eventos\n",
    "conn = MySQLdb.connect(host=dbhost_hist, port=dbport_hist, user=dbuser_hist, passwd=dbpass_hist, db=dbname_hist)\n",
    "from_stm = 'FROM ' + device_events_tbl + ' de LEFT JOIN ' + device_event_sensors_tbl + ' des ON de.id=des.device_event_id '\n",
    "where_stm = 'WHERE device_id = ' + str(device_id) + ' AND module_id = ' + str(lux_module_id) + ' AND ts BETWEEN DATE_SUB(NOW(), INTERVAL 90 DAY) AND NOW()'\n",
    "%time df_events_qry = pd.read_sql('select ts, state, sensor_type_id, value ' + from_stm + where_stm, con=conn)\n",
    "conn.close()"
   ]
  },
  {
   "cell_type": "code",
   "execution_count": 7,
   "metadata": {},
   "outputs": [
    {
     "data": {
      "text/html": [
       "<div>\n",
       "<table border=\"1\" class=\"dataframe\">\n",
       "  <thead>\n",
       "    <tr style=\"text-align: right;\">\n",
       "      <th></th>\n",
       "      <th>ts</th>\n",
       "      <th>state</th>\n",
       "      <th>sensor_type_id</th>\n",
       "      <th>value</th>\n",
       "    </tr>\n",
       "  </thead>\n",
       "  <tbody>\n",
       "    <tr>\n",
       "      <th>0</th>\n",
       "      <td>2017-08-12 22:47:00</td>\n",
       "      <td>1</td>\n",
       "      <td>2</td>\n",
       "      <td>365.205250</td>\n",
       "    </tr>\n",
       "    <tr>\n",
       "      <th>1</th>\n",
       "      <td>2017-08-12 22:48:00</td>\n",
       "      <td>1</td>\n",
       "      <td>2</td>\n",
       "      <td>414.701878</td>\n",
       "    </tr>\n",
       "    <tr>\n",
       "      <th>2</th>\n",
       "      <td>2017-08-12 22:49:00</td>\n",
       "      <td>0</td>\n",
       "      <td>2</td>\n",
       "      <td>4.000000</td>\n",
       "    </tr>\n",
       "    <tr>\n",
       "      <th>3</th>\n",
       "      <td>2017-08-12 22:50:00</td>\n",
       "      <td>0</td>\n",
       "      <td>2</td>\n",
       "      <td>2.000000</td>\n",
       "    </tr>\n",
       "    <tr>\n",
       "      <th>4</th>\n",
       "      <td>2017-08-12 22:51:00</td>\n",
       "      <td>1</td>\n",
       "      <td>2</td>\n",
       "      <td>369.641844</td>\n",
       "    </tr>\n",
       "  </tbody>\n",
       "</table>\n",
       "</div>"
      ],
      "text/plain": [
       "                   ts  state  sensor_type_id       value\n",
       "0 2017-08-12 22:47:00      1               2  365.205250\n",
       "1 2017-08-12 22:48:00      1               2  414.701878\n",
       "2 2017-08-12 22:49:00      0               2    4.000000\n",
       "3 2017-08-12 22:50:00      0               2    2.000000\n",
       "4 2017-08-12 22:51:00      1               2  369.641844"
      ]
     },
     "execution_count": 7,
     "metadata": {},
     "output_type": "execute_result"
    }
   ],
   "source": [
    "df_events_qry.head(5)"
   ]
  },
  {
   "cell_type": "markdown",
   "metadata": {},
   "source": [
    "### Generación de dataset para entrenamiento"
   ]
  },
  {
   "cell_type": "code",
   "execution_count": 8,
   "metadata": {
    "collapsed": true
   },
   "outputs": [],
   "source": [
    "# Se elininan los eventos de estado sin sensado\n",
    "df_events_qry.dropna(inplace=True)"
   ]
  },
  {
   "cell_type": "code",
   "execution_count": 9,
   "metadata": {
    "collapsed": true
   },
   "outputs": [],
   "source": [
    "# Se \"aplanan\" los eventos con una tabla pivot sobre la columna sensor_type_id\n",
    "df_events = df_events_qry.pivot_table(index=['ts','state'], columns='sensor_type_id', values='value', aggfunc=np.mean)\n",
    "# Se elimina el multiindex de columnas generado por pivot_table\n",
    "df_events = df_events.reset_index().rename_axis(None, axis=1)\n",
    "# Se renombran las columnas\n",
    "df_events.rename(columns={'ts': 'TIMESTAMP', 'state': 'LUX_ON'},inplace=True)\n",
    "df_events.columns = [ sensorIdToStr(colname) for colname in df_events.columns ]"
   ]
  },
  {
   "cell_type": "code",
   "execution_count": 10,
   "metadata": {
    "scrolled": true
   },
   "outputs": [
    {
     "data": {
      "text/html": [
       "<div>\n",
       "<table border=\"1\" class=\"dataframe\">\n",
       "  <thead>\n",
       "    <tr style=\"text-align: right;\">\n",
       "      <th></th>\n",
       "      <th>TIMESTAMP</th>\n",
       "      <th>LUX_ON</th>\n",
       "      <th>LUX_ACS</th>\n",
       "      <th>LIGHT</th>\n",
       "      <th>MOVEMENT</th>\n",
       "      <th>SOUND</th>\n",
       "    </tr>\n",
       "  </thead>\n",
       "  <tbody>\n",
       "    <tr>\n",
       "      <th>0</th>\n",
       "      <td>2017-08-12 22:47:00</td>\n",
       "      <td>1</td>\n",
       "      <td>0.258626</td>\n",
       "      <td>365.205250</td>\n",
       "      <td>1.0</td>\n",
       "      <td>64.942429</td>\n",
       "    </tr>\n",
       "    <tr>\n",
       "      <th>1</th>\n",
       "      <td>2017-08-12 22:48:00</td>\n",
       "      <td>1</td>\n",
       "      <td>0.227888</td>\n",
       "      <td>414.701878</td>\n",
       "      <td>1.0</td>\n",
       "      <td>66.239161</td>\n",
       "    </tr>\n",
       "    <tr>\n",
       "      <th>2</th>\n",
       "      <td>2017-08-12 22:49:00</td>\n",
       "      <td>0</td>\n",
       "      <td>0.002583</td>\n",
       "      <td>4.000000</td>\n",
       "      <td>1.0</td>\n",
       "      <td>52.600482</td>\n",
       "    </tr>\n",
       "    <tr>\n",
       "      <th>3</th>\n",
       "      <td>2017-08-12 22:50:00</td>\n",
       "      <td>0</td>\n",
       "      <td>0.015687</td>\n",
       "      <td>2.000000</td>\n",
       "      <td>1.0</td>\n",
       "      <td>61.422497</td>\n",
       "    </tr>\n",
       "    <tr>\n",
       "      <th>4</th>\n",
       "      <td>2017-08-12 22:51:00</td>\n",
       "      <td>1</td>\n",
       "      <td>0.213982</td>\n",
       "      <td>369.641844</td>\n",
       "      <td>1.0</td>\n",
       "      <td>52.858907</td>\n",
       "    </tr>\n",
       "  </tbody>\n",
       "</table>\n",
       "</div>"
      ],
      "text/plain": [
       "            TIMESTAMP  LUX_ON   LUX_ACS       LIGHT  MOVEMENT      SOUND\n",
       "0 2017-08-12 22:47:00       1  0.258626  365.205250       1.0  64.942429\n",
       "1 2017-08-12 22:48:00       1  0.227888  414.701878       1.0  66.239161\n",
       "2 2017-08-12 22:49:00       0  0.002583    4.000000       1.0  52.600482\n",
       "3 2017-08-12 22:50:00       0  0.015687    2.000000       1.0  61.422497\n",
       "4 2017-08-12 22:51:00       1  0.213982  369.641844       1.0  52.858907"
      ]
     },
     "execution_count": 10,
     "metadata": {},
     "output_type": "execute_result"
    }
   ],
   "source": [
    "df_events.head(5)"
   ]
  },
  {
   "cell_type": "markdown",
   "metadata": {},
   "source": [
    "### Chequeo de valores null"
   ]
  },
  {
   "cell_type": "code",
   "execution_count": 11,
   "metadata": {},
   "outputs": [
    {
     "data": {
      "text/plain": [
       "TIMESTAMP    False\n",
       "LUX_ON       False\n",
       "LUX_ACS      False\n",
       "LIGHT        False\n",
       "MOVEMENT     False\n",
       "SOUND        False\n",
       "dtype: bool"
      ]
     },
     "execution_count": 11,
     "metadata": {},
     "output_type": "execute_result"
    }
   ],
   "source": [
    "# columnas con null\n",
    "df_events.isnull().any()"
   ]
  },
  {
   "cell_type": "markdown",
   "metadata": {},
   "source": [
    "#### Corrigiendo valores null\n",
    "Podríamos utilizar diferentes opciones:\n",
    "- pad: se rellena con el último valor\n",
    "- interpolate: se rellena con valores interpolados de la columna (quizá el más apropiado para valores continuos). La interpolacion puede ser:\n",
    "    - Lineal\n",
    "    - Cuadratica\n",
    "    - Cubica\n",
    "- escalar: se rellena con un número específico"
   ]
  },
  {
   "cell_type": "code",
   "execution_count": 12,
   "metadata": {
    "collapsed": true
   },
   "outputs": [],
   "source": [
    "#dftemp = pd.DataFrame(df_events.TEMPERATURE.interpolate(method='linear'), columns=['TEMP_L'] )\n",
    "#dftemp['TEMP_Q'] = df_events.TEMPERATURE.interpolate(method='quadratic')\n",
    "#dftemp['TEMP_C'] = df_events.TEMPERATURE.interpolate(method='cubic')"
   ]
  },
  {
   "cell_type": "code",
   "execution_count": 13,
   "metadata": {
    "collapsed": true,
    "scrolled": true
   },
   "outputs": [],
   "source": [
    "#dftemp[7200:11520].plot()"
   ]
  },
  {
   "cell_type": "markdown",
   "metadata": {},
   "source": [
    "Como las interpolaciones son similares, podría utilizarse cualquier método. En este caso usaremos la cuadrática."
   ]
  },
  {
   "cell_type": "code",
   "execution_count": 14,
   "metadata": {
    "collapsed": true
   },
   "outputs": [],
   "source": [
    "#df_events['TEMPERATURE'] = df_events.TEMPERATURE.interpolate(method='quadratic')"
   ]
  },
  {
   "cell_type": "markdown",
   "metadata": {},
   "source": [
    "#### Verificación final de valores null"
   ]
  },
  {
   "cell_type": "code",
   "execution_count": 15,
   "metadata": {},
   "outputs": [
    {
     "data": {
      "text/plain": [
       "False"
      ]
     },
     "execution_count": 15,
     "metadata": {},
     "output_type": "execute_result"
    }
   ],
   "source": [
    "df_events.isnull().values.any()"
   ]
  },
  {
   "cell_type": "markdown",
   "metadata": {},
   "source": [
    "### Verificando dataset completo\n",
    "Para analizar un comportamiento predictivo y desarrollar un modelo es necesario contar con un dataset completo que no tenga saltos en las mediciones. Por lo tanto, se debe verificar que cuente con datos en todos los minutos del rango obtenido."
   ]
  },
  {
   "cell_type": "code",
   "execution_count": 16,
   "metadata": {
    "collapsed": true
   },
   "outputs": [],
   "source": [
    "### TODO\n",
    "# rellenar huecos de Timestamp\n",
    "# promediar rows con mismo minuto\n",
    "# rellenar mediciones agregadas con padding"
   ]
  },
  {
   "cell_type": "markdown",
   "metadata": {},
   "source": [
    "## Limpieza del dataset\n",
    "Debido a que no se necesitan todas las columnas para realizar el entrenamiento de la RNA, se eliminan las que no representen relación con lo que se busca predecir.\n",
    "- LUX_ACS\n",
    "\n",
    "Las mediciones de LUX_ACS pueden ignorarse para este tipo de entrenamiento."
   ]
  },
  {
   "cell_type": "code",
   "execution_count": 17,
   "metadata": {
    "collapsed": true
   },
   "outputs": [],
   "source": [
    "del df_events['LUX_ACS']"
   ]
  },
  {
   "cell_type": "markdown",
   "metadata": {},
   "source": [
    "### Ajuste y transformación de variables\n",
    "Se aplican ajustes y correcciones a las variables del dataset"
   ]
  },
  {
   "cell_type": "code",
   "execution_count": 18,
   "metadata": {
    "collapsed": true
   },
   "outputs": [],
   "source": [
    "df_events['MOVEMENT'] = df_events.MOVEMENT.astype(int)"
   ]
  },
  {
   "cell_type": "markdown",
   "metadata": {},
   "source": [
    "Se generan variables de la dimensión TIEMPO"
   ]
  },
  {
   "cell_type": "code",
   "execution_count": 19,
   "metadata": {
    "collapsed": true
   },
   "outputs": [],
   "source": [
    "#df_events['YEARDAY'] = df_events['TIMESTAMP'].dt.strftime('%j').astype(int)\n",
    "df_events['WEEKDAY'] = df_events['TIMESTAMP'].dt.weekday\n",
    "df_events['HOUR'] = df_events['TIMESTAMP'].dt.hour\n",
    "#df_events['MINDAY'] = df_events['HOUR'] * 60 + df_general['MINUTE']"
   ]
  },
  {
   "cell_type": "markdown",
   "metadata": {
    "collapsed": true
   },
   "source": [
    "## Análisis Exploratorio inicial\n",
    "\n",
    "### Función de correlación\n",
    "Hace una matriz de correlación entre las variables. Cuanto más claro el color, mayor correlación entre las variables. La diagonal debería ser amarilla, y representa la correlación de una variable con sí misma.\n",
    "\n",
    "Esta función tiene dos entradas:\n",
    "1. El dataframe panda a analizar\n",
    "2. El tamáño de gráfico que se quiere imprimir"
   ]
  },
  {
   "cell_type": "code",
   "execution_count": 20,
   "metadata": {
    "collapsed": true
   },
   "outputs": [],
   "source": [
    "def plot_corr(df, size=6):\n",
    "    corr = df.corr()    # data frame correlation function\n",
    "    fig, ax = plt.subplots(figsize=(size, size))\n",
    "    ax.matshow(corr)   # color code the rectangles by correlation value\n",
    "    plt.xticks(range(len(corr.columns)), corr.columns)  # draw x tick marks\n",
    "    plt.yticks(range(len(corr.columns)), corr.columns)  # draw y tick marks"
   ]
  },
  {
   "cell_type": "code",
   "execution_count": 21,
   "metadata": {},
   "outputs": [
    {
     "data": {
      "image/png": "[encoded data removed]",
      "text/plain": [
       "<matplotlib.figure.Figure at 0x7fcc31cbdac8>"
      ]
     },
     "metadata": {},
     "output_type": "display_data"
    }
   ],
   "source": [
    "plot_corr(df_events)"
   ]
  },
  {
   "cell_type": "code",
   "execution_count": 22,
   "metadata": {},
   "outputs": [
    {
     "data": {
      "text/html": [
       "\n",
       "        <style  type=\"text/css\" >\n",
       "        \n",
       "        \n",
       "            #T_399e209e_c727_11e7_8d00_0800271a8003row0_col0 {\n",
       "            \n",
       "                width:  10em;\n",
       "            \n",
       "                 height:  80%;\n",
       "            \n",
       "                background:  linear-gradient(90deg,#d65f5f 100.0%, transparent 0%);\n",
       "            \n",
       "            }\n",
       "        \n",
       "            #T_399e209e_c727_11e7_8d00_0800271a8003row1_col0 {\n",
       "            \n",
       "                width:  10em;\n",
       "            \n",
       "                 height:  80%;\n",
       "            \n",
       "                background:  linear-gradient(90deg,#d65f5f 13.559988370896304%, transparent 0%);\n",
       "            \n",
       "            }\n",
       "        \n",
       "            #T_399e209e_c727_11e7_8d00_0800271a8003row2_col0 {\n",
       "            \n",
       "                width:  10em;\n",
       "            \n",
       "                 height:  80%;\n",
       "            \n",
       "                background:  linear-gradient(90deg,#d65f5f 46.60342236422166%, transparent 0%);\n",
       "            \n",
       "            }\n",
       "        \n",
       "            #T_399e209e_c727_11e7_8d00_0800271a8003row3_col0 {\n",
       "            \n",
       "                width:  10em;\n",
       "            \n",
       "                 height:  80%;\n",
       "            \n",
       "                background:  linear-gradient(90deg,#d65f5f 38.76911077789843%, transparent 0%);\n",
       "            \n",
       "            }\n",
       "        \n",
       "            #T_399e209e_c727_11e7_8d00_0800271a8003row4_col0 {\n",
       "            \n",
       "                width:  10em;\n",
       "            \n",
       "                 height:  80%;\n",
       "            \n",
       "            }\n",
       "        \n",
       "            #T_399e209e_c727_11e7_8d00_0800271a8003row5_col0 {\n",
       "            \n",
       "                width:  10em;\n",
       "            \n",
       "                 height:  80%;\n",
       "            \n",
       "                background:  linear-gradient(90deg,#d65f5f 39.13473601781649%, transparent 0%);\n",
       "            \n",
       "            }\n",
       "        \n",
       "        </style>\n",
       "\n",
       "        <table id=\"T_399e209e_c727_11e7_8d00_0800271a8003\" None>\n",
       "        \n",
       "\n",
       "        <thead>\n",
       "            \n",
       "            <tr>\n",
       "                \n",
       "                \n",
       "                <th class=\"blank level0\" >\n",
       "                  \n",
       "                \n",
       "                \n",
       "                \n",
       "                <th class=\"col_heading level0 col0\" colspan=1>\n",
       "                  LUX_ON\n",
       "                \n",
       "                \n",
       "                \n",
       "                <th class=\"col_heading level0 col1\" colspan=1>\n",
       "                  LIGHT\n",
       "                \n",
       "                \n",
       "                \n",
       "                <th class=\"col_heading level0 col2\" colspan=1>\n",
       "                  MOVEMENT\n",
       "                \n",
       "                \n",
       "                \n",
       "                <th class=\"col_heading level0 col3\" colspan=1>\n",
       "                  SOUND\n",
       "                \n",
       "                \n",
       "                \n",
       "                <th class=\"col_heading level0 col4\" colspan=1>\n",
       "                  WEEKDAY\n",
       "                \n",
       "                \n",
       "                \n",
       "                <th class=\"col_heading level0 col5\" colspan=1>\n",
       "                  HOUR\n",
       "                \n",
       "                \n",
       "            </tr>\n",
       "            \n",
       "        </thead>\n",
       "        <tbody>\n",
       "            \n",
       "            <tr>\n",
       "                \n",
       "                \n",
       "                <th id=\"T_399e209e_c727_11e7_8d00_0800271a8003\"\n",
       "                 class=\"row_heading level0 row0\" rowspan=1>\n",
       "                    LUX_ON\n",
       "                \n",
       "                \n",
       "                \n",
       "                <td id=\"T_399e209e_c727_11e7_8d00_0800271a8003row0_col0\"\n",
       "                 class=\"data row0 col0\" >\n",
       "                    1\n",
       "                \n",
       "                \n",
       "                \n",
       "                <td id=\"T_399e209e_c727_11e7_8d00_0800271a8003row0_col1\"\n",
       "                 class=\"data row0 col1\" >\n",
       "                    0.170369\n",
       "                \n",
       "                \n",
       "                \n",
       "                <td id=\"T_399e209e_c727_11e7_8d00_0800271a8003row0_col2\"\n",
       "                 class=\"data row0 col2\" >\n",
       "                    0.487512\n",
       "                \n",
       "                \n",
       "                \n",
       "                <td id=\"T_399e209e_c727_11e7_8d00_0800271a8003row0_col3\"\n",
       "                 class=\"data row0 col3\" >\n",
       "                    0.41232\n",
       "                \n",
       "                \n",
       "                \n",
       "                <td id=\"T_399e209e_c727_11e7_8d00_0800271a8003row0_col4\"\n",
       "                 class=\"data row0 col4\" >\n",
       "                    0.0402233\n",
       "                \n",
       "                \n",
       "                \n",
       "                <td id=\"T_399e209e_c727_11e7_8d00_0800271a8003row0_col5\"\n",
       "                 class=\"data row0 col5\" >\n",
       "                    0.415829\n",
       "                \n",
       "                \n",
       "            </tr>\n",
       "            \n",
       "            <tr>\n",
       "                \n",
       "                \n",
       "                <th id=\"T_399e209e_c727_11e7_8d00_0800271a8003\"\n",
       "                 class=\"row_heading level0 row1\" rowspan=1>\n",
       "                    LIGHT\n",
       "                \n",
       "                \n",
       "                \n",
       "                <td id=\"T_399e209e_c727_11e7_8d00_0800271a8003row1_col0\"\n",
       "                 class=\"data row1 col0\" >\n",
       "                    0.170369\n",
       "                \n",
       "                \n",
       "                \n",
       "                <td id=\"T_399e209e_c727_11e7_8d00_0800271a8003row1_col1\"\n",
       "                 class=\"data row1 col1\" >\n",
       "                    1\n",
       "                \n",
       "                \n",
       "                \n",
       "                <td id=\"T_399e209e_c727_11e7_8d00_0800271a8003row1_col2\"\n",
       "                 class=\"data row1 col2\" >\n",
       "                    0.232316\n",
       "                \n",
       "                \n",
       "                \n",
       "                <td id=\"T_399e209e_c727_11e7_8d00_0800271a8003row1_col3\"\n",
       "                 class=\"data row1 col3\" >\n",
       "                    0.195945\n",
       "                \n",
       "                \n",
       "                \n",
       "                <td id=\"T_399e209e_c727_11e7_8d00_0800271a8003row1_col4\"\n",
       "                 class=\"data row1 col4\" >\n",
       "                    0.050354\n",
       "                \n",
       "                \n",
       "                \n",
       "                <td id=\"T_399e209e_c727_11e7_8d00_0800271a8003row1_col5\"\n",
       "                 class=\"data row1 col5\" >\n",
       "                    0.373814\n",
       "                \n",
       "                \n",
       "            </tr>\n",
       "            \n",
       "            <tr>\n",
       "                \n",
       "                \n",
       "                <th id=\"T_399e209e_c727_11e7_8d00_0800271a8003\"\n",
       "                 class=\"row_heading level0 row2\" rowspan=1>\n",
       "                    MOVEMENT\n",
       "                \n",
       "                \n",
       "                \n",
       "                <td id=\"T_399e209e_c727_11e7_8d00_0800271a8003row2_col0\"\n",
       "                 class=\"data row2 col0\" >\n",
       "                    0.487512\n",
       "                \n",
       "                \n",
       "                \n",
       "                <td id=\"T_399e209e_c727_11e7_8d00_0800271a8003row2_col1\"\n",
       "                 class=\"data row2 col1\" >\n",
       "                    0.232316\n",
       "                \n",
       "                \n",
       "                \n",
       "                <td id=\"T_399e209e_c727_11e7_8d00_0800271a8003row2_col2\"\n",
       "                 class=\"data row2 col2\" >\n",
       "                    1\n",
       "                \n",
       "                \n",
       "                \n",
       "                <td id=\"T_399e209e_c727_11e7_8d00_0800271a8003row2_col3\"\n",
       "                 class=\"data row2 col3\" >\n",
       "                    0.844558\n",
       "                \n",
       "                \n",
       "                \n",
       "                <td id=\"T_399e209e_c727_11e7_8d00_0800271a8003row2_col4\"\n",
       "                 class=\"data row2 col4\" >\n",
       "                    0.316429\n",
       "                \n",
       "                \n",
       "                \n",
       "                <td id=\"T_399e209e_c727_11e7_8d00_0800271a8003row2_col5\"\n",
       "                 class=\"data row2 col5\" >\n",
       "                    0.566317\n",
       "                \n",
       "                \n",
       "            </tr>\n",
       "            \n",
       "            <tr>\n",
       "                \n",
       "                \n",
       "                <th id=\"T_399e209e_c727_11e7_8d00_0800271a8003\"\n",
       "                 class=\"row_heading level0 row3\" rowspan=1>\n",
       "                    SOUND\n",
       "                \n",
       "                \n",
       "                \n",
       "                <td id=\"T_399e209e_c727_11e7_8d00_0800271a8003row3_col0\"\n",
       "                 class=\"data row3 col0\" >\n",
       "                    0.41232\n",
       "                \n",
       "                \n",
       "                \n",
       "                <td id=\"T_399e209e_c727_11e7_8d00_0800271a8003row3_col1\"\n",
       "                 class=\"data row3 col1\" >\n",
       "                    0.195945\n",
       "                \n",
       "                \n",
       "                \n",
       "                <td id=\"T_399e209e_c727_11e7_8d00_0800271a8003row3_col2\"\n",
       "                 class=\"data row3 col2\" >\n",
       "                    0.844558\n",
       "                \n",
       "                \n",
       "                \n",
       "                <td id=\"T_399e209e_c727_11e7_8d00_0800271a8003row3_col3\"\n",
       "                 class=\"data row3 col3\" >\n",
       "                    1\n",
       "                \n",
       "                \n",
       "                \n",
       "                <td id=\"T_399e209e_c727_11e7_8d00_0800271a8003row3_col4\"\n",
       "                 class=\"data row3 col4\" >\n",
       "                    0.262444\n",
       "                \n",
       "                \n",
       "                \n",
       "                <td id=\"T_399e209e_c727_11e7_8d00_0800271a8003row3_col5\"\n",
       "                 class=\"data row3 col5\" >\n",
       "                    0.473084\n",
       "                \n",
       "                \n",
       "            </tr>\n",
       "            \n",
       "            <tr>\n",
       "                \n",
       "                \n",
       "                <th id=\"T_399e209e_c727_11e7_8d00_0800271a8003\"\n",
       "                 class=\"row_heading level0 row4\" rowspan=1>\n",
       "                    WEEKDAY\n",
       "                \n",
       "                \n",
       "                \n",
       "                <td id=\"T_399e209e_c727_11e7_8d00_0800271a8003row4_col0\"\n",
       "                 class=\"data row4 col0\" >\n",
       "                    0.0402233\n",
       "                \n",
       "                \n",
       "                \n",
       "                <td id=\"T_399e209e_c727_11e7_8d00_0800271a8003row4_col1\"\n",
       "                 class=\"data row4 col1\" >\n",
       "                    0.050354\n",
       "                \n",
       "                \n",
       "                \n",
       "                <td id=\"T_399e209e_c727_11e7_8d00_0800271a8003row4_col2\"\n",
       "                 class=\"data row4 col2\" >\n",
       "                    0.316429\n",
       "                \n",
       "                \n",
       "                \n",
       "                <td id=\"T_399e209e_c727_11e7_8d00_0800271a8003row4_col3\"\n",
       "                 class=\"data row4 col3\" >\n",
       "                    0.262444\n",
       "                \n",
       "                \n",
       "                \n",
       "                <td id=\"T_399e209e_c727_11e7_8d00_0800271a8003row4_col4\"\n",
       "                 class=\"data row4 col4\" >\n",
       "                    1\n",
       "                \n",
       "                \n",
       "                \n",
       "                <td id=\"T_399e209e_c727_11e7_8d00_0800271a8003row4_col5\"\n",
       "                 class=\"data row4 col5\" >\n",
       "                    0.000460573\n",
       "                \n",
       "                \n",
       "            </tr>\n",
       "            \n",
       "            <tr>\n",
       "                \n",
       "                \n",
       "                <th id=\"T_399e209e_c727_11e7_8d00_0800271a8003\"\n",
       "                 class=\"row_heading level0 row5\" rowspan=1>\n",
       "                    HOUR\n",
       "                \n",
       "                \n",
       "                \n",
       "                <td id=\"T_399e209e_c727_11e7_8d00_0800271a8003row5_col0\"\n",
       "                 class=\"data row5 col0\" >\n",
       "                    0.415829\n",
       "                \n",
       "                \n",
       "                \n",
       "                <td id=\"T_399e209e_c727_11e7_8d00_0800271a8003row5_col1\"\n",
       "                 class=\"data row5 col1\" >\n",
       "                    0.373814\n",
       "                \n",
       "                \n",
       "                \n",
       "                <td id=\"T_399e209e_c727_11e7_8d00_0800271a8003row5_col2\"\n",
       "                 class=\"data row5 col2\" >\n",
       "                    0.566317\n",
       "                \n",
       "                \n",
       "                \n",
       "                <td id=\"T_399e209e_c727_11e7_8d00_0800271a8003row5_col3\"\n",
       "                 class=\"data row5 col3\" >\n",
       "                    0.473084\n",
       "                \n",
       "                \n",
       "                \n",
       "                <td id=\"T_399e209e_c727_11e7_8d00_0800271a8003row5_col4\"\n",
       "                 class=\"data row5 col4\" >\n",
       "                    0.000460573\n",
       "                \n",
       "                \n",
       "                \n",
       "                <td id=\"T_399e209e_c727_11e7_8d00_0800271a8003row5_col5\"\n",
       "                 class=\"data row5 col5\" >\n",
       "                    1\n",
       "                \n",
       "                \n",
       "            </tr>\n",
       "            \n",
       "        </tbody>\n",
       "        </table>\n",
       "        "
      ],
      "text/plain": [
       "<pandas.formats.style.Styler at 0x7fcc368eaf98>"
      ]
     },
     "execution_count": 22,
     "metadata": {},
     "output_type": "execute_result"
    }
   ],
   "source": [
    "df_events.corr().style.bar(subset=['LUX_ON'], color='#d65f5f', axis=0)"
   ]
  },
  {
   "cell_type": "markdown",
   "metadata": {},
   "source": [
    "Debido a que no se puede ver una relación fuerte entre LUX_ON y el resto de los atributos, se procede a construir otro dataset a partir del obtenido con variables más significativas.\n",
    "\n",
    "### Generación de nuevas variables\n",
    "Se analizará la relación del estado de la luz (LUX_ON) con variables dependientes del dataset generado. El objetivo es intentar representar relaciones más adecuadas con el entorno tanto a nivel espacial como temporal.\n",
    "Las mediciones (facts) a construir son:\n",
    "- LIGHT_1m    medición de luz en el último minuto (sin contar la medición actual)\n",
    "- MOVEMENT_1m     proporción del sensor PIR activado en el último minuto\n",
    "- MOVEMENT_5m     proporción del sensor PIR activado en los últimos 5 minutos\n",
    "- MOVEMENT_15m    proporción del sensor PIR activado en los últimos 15 minutos\n",
    "\n",
    "Se sumarán al dataset actual manteniendo las dimensiones y mediciones previas:\n",
    "- WEEKDAY\n",
    "- HOUR\n",
    "- SOUND\n",
    "- MOVEMENT\n",
    "- LIGHT\n",
    "- LUX_ON"
   ]
  },
  {
   "cell_type": "code",
   "execution_count": 23,
   "metadata": {
    "collapsed": true
   },
   "outputs": [],
   "source": [
    "df_events['LIGHT_1m'] = df_events.LIGHT.shift(1)\n",
    "df_events['MOVEMENT_CHANGE'] = df_events.MOVEMENT.diff()\n",
    "df_events['MOVEMENT_1m'] = df_events.MOVEMENT.shift(1)\n",
    "df_events['MOVEMENT_5m'] = df_events.MOVEMENT.rolling(5).sum() / 5\n",
    "df_events['MOVEMENT_15m'] = df_events.MOVEMENT.rolling(15).sum() / 15\n",
    "df_events['LUX_SWITCH'] = df_events.LUX_ON.diff()\n",
    "df_events.dropna(inplace=True)"
   ]
  },
  {
   "cell_type": "code",
   "execution_count": 24,
   "metadata": {
    "scrolled": false
   },
   "outputs": [
    {
     "data": {
      "image/png": "[encoded data removed]",
      "text/plain": [
       "<matplotlib.figure.Figure at 0x7fcc682d8860>"
      ]
     },
     "metadata": {},
     "output_type": "display_data"
    }
   ],
   "source": [
    "plot_corr(df_events,14)"
   ]
  },
  {
   "cell_type": "code",
   "execution_count": 25,
   "metadata": {},
   "outputs": [
    {
     "data": {
      "text/html": [
       "\n",
       "        <style  type=\"text/css\" >\n",
       "        \n",
       "        \n",
       "            #T_4bc1fb4c_c727_11e7_8d00_0800271a8003row0_col0 {\n",
       "            \n",
       "                width:  10em;\n",
       "            \n",
       "                 height:  80%;\n",
       "            \n",
       "                background:  linear-gradient(90deg,#d65f5f 100.0%, transparent 0%);\n",
       "            \n",
       "            }\n",
       "        \n",
       "            #T_4bc1fb4c_c727_11e7_8d00_0800271a8003row1_col0 {\n",
       "            \n",
       "                width:  10em;\n",
       "            \n",
       "                 height:  80%;\n",
       "            \n",
       "                background:  linear-gradient(90deg,#d65f5f 23.307776823130535%, transparent 0%);\n",
       "            \n",
       "            }\n",
       "        \n",
       "            #T_4bc1fb4c_c727_11e7_8d00_0800271a8003row2_col0 {\n",
       "            \n",
       "                width:  10em;\n",
       "            \n",
       "                 height:  80%;\n",
       "            \n",
       "                background:  linear-gradient(90deg,#d65f5f 52.62459598557022%, transparent 0%);\n",
       "            \n",
       "            }\n",
       "        \n",
       "            #T_4bc1fb4c_c727_11e7_8d00_0800271a8003row3_col0 {\n",
       "            \n",
       "                width:  10em;\n",
       "            \n",
       "                 height:  80%;\n",
       "            \n",
       "                background:  linear-gradient(90deg,#d65f5f 45.675910267358084%, transparent 0%);\n",
       "            \n",
       "            }\n",
       "        \n",
       "            #T_4bc1fb4c_c727_11e7_8d00_0800271a8003row4_col0 {\n",
       "            \n",
       "                width:  10em;\n",
       "            \n",
       "                 height:  80%;\n",
       "            \n",
       "                background:  linear-gradient(90deg,#d65f5f 11.271851255444206%, transparent 0%);\n",
       "            \n",
       "            }\n",
       "        \n",
       "            #T_4bc1fb4c_c727_11e7_8d00_0800271a8003row5_col0 {\n",
       "            \n",
       "                width:  10em;\n",
       "            \n",
       "                 height:  80%;\n",
       "            \n",
       "                background:  linear-gradient(90deg,#d65f5f 45.996893904871655%, transparent 0%);\n",
       "            \n",
       "            }\n",
       "        \n",
       "            #T_4bc1fb4c_c727_11e7_8d00_0800271a8003row6_col0 {\n",
       "            \n",
       "                width:  10em;\n",
       "            \n",
       "                 height:  80%;\n",
       "            \n",
       "            }\n",
       "        \n",
       "            #T_4bc1fb4c_c727_11e7_8d00_0800271a8003row7_col0 {\n",
       "            \n",
       "                width:  10em;\n",
       "            \n",
       "                 height:  80%;\n",
       "            \n",
       "                background:  linear-gradient(90deg,#d65f5f 15.643132891042287%, transparent 0%);\n",
       "            \n",
       "            }\n",
       "        \n",
       "            #T_4bc1fb4c_c727_11e7_8d00_0800271a8003row8_col0 {\n",
       "            \n",
       "                width:  10em;\n",
       "            \n",
       "                 height:  80%;\n",
       "            \n",
       "                background:  linear-gradient(90deg,#d65f5f 49.68135126113724%, transparent 0%);\n",
       "            \n",
       "            }\n",
       "        \n",
       "            #T_4bc1fb4c_c727_11e7_8d00_0800271a8003row9_col0 {\n",
       "            \n",
       "                width:  10em;\n",
       "            \n",
       "                 height:  80%;\n",
       "            \n",
       "                background:  linear-gradient(90deg,#d65f5f 51.057466060314304%, transparent 0%);\n",
       "            \n",
       "            }\n",
       "        \n",
       "            #T_4bc1fb4c_c727_11e7_8d00_0800271a8003row10_col0 {\n",
       "            \n",
       "                width:  10em;\n",
       "            \n",
       "                 height:  80%;\n",
       "            \n",
       "                background:  linear-gradient(90deg,#d65f5f 50.61426496743847%, transparent 0%);\n",
       "            \n",
       "            }\n",
       "        \n",
       "            #T_4bc1fb4c_c727_11e7_8d00_0800271a8003row11_col0 {\n",
       "            \n",
       "                width:  10em;\n",
       "            \n",
       "                 height:  80%;\n",
       "            \n",
       "                background:  linear-gradient(90deg,#d65f5f 56.01144963605249%, transparent 0%);\n",
       "            \n",
       "            }\n",
       "        \n",
       "        </style>\n",
       "\n",
       "        <table id=\"T_4bc1fb4c_c727_11e7_8d00_0800271a8003\" None>\n",
       "        \n",
       "\n",
       "        <thead>\n",
       "            \n",
       "            <tr>\n",
       "                \n",
       "                \n",
       "                <th class=\"blank level0\" >\n",
       "                  \n",
       "                \n",
       "                \n",
       "                \n",
       "                <th class=\"col_heading level0 col0\" colspan=1>\n",
       "                  LUX_ON\n",
       "                \n",
       "                \n",
       "                \n",
       "                <th class=\"col_heading level0 col1\" colspan=1>\n",
       "                  LIGHT\n",
       "                \n",
       "                \n",
       "                \n",
       "                <th class=\"col_heading level0 col2\" colspan=1>\n",
       "                  MOVEMENT\n",
       "                \n",
       "                \n",
       "                \n",
       "                <th class=\"col_heading level0 col3\" colspan=1>\n",
       "                  SOUND\n",
       "                \n",
       "                \n",
       "                \n",
       "                <th class=\"col_heading level0 col4\" colspan=1>\n",
       "                  WEEKDAY\n",
       "                \n",
       "                \n",
       "                \n",
       "                <th class=\"col_heading level0 col5\" colspan=1>\n",
       "                  HOUR\n",
       "                \n",
       "                \n",
       "                \n",
       "                <th class=\"col_heading level0 col6\" colspan=1>\n",
       "                  LIGHT_1m\n",
       "                \n",
       "                \n",
       "                \n",
       "                <th class=\"col_heading level0 col7\" colspan=1>\n",
       "                  MOVEMENT_CHANGE\n",
       "                \n",
       "                \n",
       "                \n",
       "                <th class=\"col_heading level0 col8\" colspan=1>\n",
       "                  MOVEMENT_1m\n",
       "                \n",
       "                \n",
       "                \n",
       "                <th class=\"col_heading level0 col9\" colspan=1>\n",
       "                  MOVEMENT_5m\n",
       "                \n",
       "                \n",
       "                \n",
       "                <th class=\"col_heading level0 col10\" colspan=1>\n",
       "                  MOVEMENT_15m\n",
       "                \n",
       "                \n",
       "                \n",
       "                <th class=\"col_heading level0 col11\" colspan=1>\n",
       "                  LUX_SWITCH\n",
       "                \n",
       "                \n",
       "            </tr>\n",
       "            \n",
       "        </thead>\n",
       "        <tbody>\n",
       "            \n",
       "            <tr>\n",
       "                \n",
       "                \n",
       "                <th id=\"T_4bc1fb4c_c727_11e7_8d00_0800271a8003\"\n",
       "                 class=\"row_heading level0 row0\" rowspan=1>\n",
       "                    LUX_ON\n",
       "                \n",
       "                \n",
       "                \n",
       "                <td id=\"T_4bc1fb4c_c727_11e7_8d00_0800271a8003row0_col0\"\n",
       "                 class=\"data row0 col0\" >\n",
       "                    1\n",
       "                \n",
       "                \n",
       "                \n",
       "                <td id=\"T_4bc1fb4c_c727_11e7_8d00_0800271a8003row0_col1\"\n",
       "                 class=\"data row0 col1\" >\n",
       "                    0.170339\n",
       "                \n",
       "                \n",
       "                \n",
       "                <td id=\"T_4bc1fb4c_c727_11e7_8d00_0800271a8003row0_col2\"\n",
       "                 class=\"data row0 col2\" >\n",
       "                    0.48749\n",
       "                \n",
       "                \n",
       "                \n",
       "                <td id=\"T_4bc1fb4c_c727_11e7_8d00_0800271a8003row0_col3\"\n",
       "                 class=\"data row0 col3\" >\n",
       "                    0.412319\n",
       "                \n",
       "                \n",
       "                \n",
       "                <td id=\"T_4bc1fb4c_c727_11e7_8d00_0800271a8003row0_col4\"\n",
       "                 class=\"data row0 col4\" >\n",
       "                    0.0401334\n",
       "                \n",
       "                \n",
       "                \n",
       "                <td id=\"T_4bc1fb4c_c727_11e7_8d00_0800271a8003row0_col5\"\n",
       "                 class=\"data row0 col5\" >\n",
       "                    0.415791\n",
       "                \n",
       "                \n",
       "                \n",
       "                <td id=\"T_4bc1fb4c_c727_11e7_8d00_0800271a8003row0_col6\"\n",
       "                 class=\"data row0 col6\" >\n",
       "                    -0.0818061\n",
       "                \n",
       "                \n",
       "                \n",
       "                <td id=\"T_4bc1fb4c_c727_11e7_8d00_0800271a8003row0_col7\"\n",
       "                 class=\"data row0 col7\" >\n",
       "                    0.0874222\n",
       "                \n",
       "                \n",
       "                \n",
       "                <td id=\"T_4bc1fb4c_c727_11e7_8d00_0800271a8003row0_col8\"\n",
       "                 class=\"data row0 col8\" >\n",
       "                    0.45565\n",
       "                \n",
       "                \n",
       "                \n",
       "                <td id=\"T_4bc1fb4c_c727_11e7_8d00_0800271a8003row0_col9\"\n",
       "                 class=\"data row0 col9\" >\n",
       "                    0.470537\n",
       "                \n",
       "                \n",
       "                \n",
       "                <td id=\"T_4bc1fb4c_c727_11e7_8d00_0800271a8003row0_col10\"\n",
       "                 class=\"data row0 col10\" >\n",
       "                    0.465742\n",
       "                \n",
       "                \n",
       "                \n",
       "                <td id=\"T_4bc1fb4c_c727_11e7_8d00_0800271a8003row0_col11\"\n",
       "                 class=\"data row0 col11\" >\n",
       "                    0.524129\n",
       "                \n",
       "                \n",
       "            </tr>\n",
       "            \n",
       "            <tr>\n",
       "                \n",
       "                \n",
       "                <th id=\"T_4bc1fb4c_c727_11e7_8d00_0800271a8003\"\n",
       "                 class=\"row_heading level0 row1\" rowspan=1>\n",
       "                    LIGHT\n",
       "                \n",
       "                \n",
       "                \n",
       "                <td id=\"T_4bc1fb4c_c727_11e7_8d00_0800271a8003row1_col0\"\n",
       "                 class=\"data row1 col0\" >\n",
       "                    0.170339\n",
       "                \n",
       "                \n",
       "                \n",
       "                <td id=\"T_4bc1fb4c_c727_11e7_8d00_0800271a8003row1_col1\"\n",
       "                 class=\"data row1 col1\" >\n",
       "                    1\n",
       "                \n",
       "                \n",
       "                \n",
       "                <td id=\"T_4bc1fb4c_c727_11e7_8d00_0800271a8003row1_col2\"\n",
       "                 class=\"data row1 col2\" >\n",
       "                    0.232404\n",
       "                \n",
       "                \n",
       "                \n",
       "                <td id=\"T_4bc1fb4c_c727_11e7_8d00_0800271a8003row1_col3\"\n",
       "                 class=\"data row1 col3\" >\n",
       "                    0.196035\n",
       "                \n",
       "                \n",
       "                \n",
       "                <td id=\"T_4bc1fb4c_c727_11e7_8d00_0800271a8003row1_col4\"\n",
       "                 class=\"data row1 col4\" >\n",
       "                    0.0504194\n",
       "                \n",
       "                \n",
       "                \n",
       "                <td id=\"T_4bc1fb4c_c727_11e7_8d00_0800271a8003row1_col5\"\n",
       "                 class=\"data row1 col5\" >\n",
       "                    0.373971\n",
       "                \n",
       "                \n",
       "                \n",
       "                <td id=\"T_4bc1fb4c_c727_11e7_8d00_0800271a8003row1_col6\"\n",
       "                 class=\"data row1 col6\" >\n",
       "                    0.839312\n",
       "                \n",
       "                \n",
       "                \n",
       "                <td id=\"T_4bc1fb4c_c727_11e7_8d00_0800271a8003row1_col7\"\n",
       "                 class=\"data row1 col7\" >\n",
       "                    0.0529474\n",
       "                \n",
       "                \n",
       "                \n",
       "                <td id=\"T_4bc1fb4c_c727_11e7_8d00_0800271a8003row1_col8\"\n",
       "                 class=\"data row1 col8\" >\n",
       "                    0.21312\n",
       "                \n",
       "                \n",
       "                \n",
       "                <td id=\"T_4bc1fb4c_c727_11e7_8d00_0800271a8003row1_col9\"\n",
       "                 class=\"data row1 col9\" >\n",
       "                    0.218216\n",
       "                \n",
       "                \n",
       "                \n",
       "                <td id=\"T_4bc1fb4c_c727_11e7_8d00_0800271a8003row1_col10\"\n",
       "                 class=\"data row1 col10\" >\n",
       "                    0.204685\n",
       "                \n",
       "                \n",
       "                \n",
       "                <td id=\"T_4bc1fb4c_c727_11e7_8d00_0800271a8003row1_col11\"\n",
       "                 class=\"data row1 col11\" >\n",
       "                    0.241089\n",
       "                \n",
       "                \n",
       "            </tr>\n",
       "            \n",
       "            <tr>\n",
       "                \n",
       "                \n",
       "                <th id=\"T_4bc1fb4c_c727_11e7_8d00_0800271a8003\"\n",
       "                 class=\"row_heading level0 row2\" rowspan=1>\n",
       "                    MOVEMENT\n",
       "                \n",
       "                \n",
       "                \n",
       "                <td id=\"T_4bc1fb4c_c727_11e7_8d00_0800271a8003row2_col0\"\n",
       "                 class=\"data row2 col0\" >\n",
       "                    0.48749\n",
       "                \n",
       "                \n",
       "                \n",
       "                <td id=\"T_4bc1fb4c_c727_11e7_8d00_0800271a8003row2_col1\"\n",
       "                 class=\"data row2 col1\" >\n",
       "                    0.232404\n",
       "                \n",
       "                \n",
       "                \n",
       "                <td id=\"T_4bc1fb4c_c727_11e7_8d00_0800271a8003row2_col2\"\n",
       "                 class=\"data row2 col2\" >\n",
       "                    1\n",
       "                \n",
       "                \n",
       "                \n",
       "                <td id=\"T_4bc1fb4c_c727_11e7_8d00_0800271a8003row2_col3\"\n",
       "                 class=\"data row2 col3\" >\n",
       "                    0.844561\n",
       "                \n",
       "                \n",
       "                \n",
       "                <td id=\"T_4bc1fb4c_c727_11e7_8d00_0800271a8003row2_col4\"\n",
       "                 class=\"data row2 col4\" >\n",
       "                    0.316348\n",
       "                \n",
       "                \n",
       "                \n",
       "                <td id=\"T_4bc1fb4c_c727_11e7_8d00_0800271a8003row2_col5\"\n",
       "                 class=\"data row2 col5\" >\n",
       "                    0.566247\n",
       "                \n",
       "                \n",
       "                \n",
       "                <td id=\"T_4bc1fb4c_c727_11e7_8d00_0800271a8003row2_col6\"\n",
       "                 class=\"data row2 col6\" >\n",
       "                    0.217351\n",
       "                \n",
       "                \n",
       "                \n",
       "                <td id=\"T_4bc1fb4c_c727_11e7_8d00_0800271a8003row2_col7\"\n",
       "                 class=\"data row2 col7\" >\n",
       "                    0.182106\n",
       "                \n",
       "                \n",
       "                \n",
       "                <td id=\"T_4bc1fb4c_c727_11e7_8d00_0800271a8003row2_col8\"\n",
       "                 class=\"data row2 col8\" >\n",
       "                    0.933675\n",
       "                \n",
       "                \n",
       "                \n",
       "                <td id=\"T_4bc1fb4c_c727_11e7_8d00_0800271a8003row2_col9\"\n",
       "                 class=\"data row2 col9\" >\n",
       "                    0.956392\n",
       "                \n",
       "                \n",
       "                \n",
       "                <td id=\"T_4bc1fb4c_c727_11e7_8d00_0800271a8003row2_col10\"\n",
       "                 class=\"data row2 col10\" >\n",
       "                    0.923659\n",
       "                \n",
       "                \n",
       "                \n",
       "                <td id=\"T_4bc1fb4c_c727_11e7_8d00_0800271a8003row2_col11\"\n",
       "                 class=\"data row2 col11\" >\n",
       "                    0.0300469\n",
       "                \n",
       "                \n",
       "            </tr>\n",
       "            \n",
       "            <tr>\n",
       "                \n",
       "                \n",
       "                <th id=\"T_4bc1fb4c_c727_11e7_8d00_0800271a8003\"\n",
       "                 class=\"row_heading level0 row3\" rowspan=1>\n",
       "                    SOUND\n",
       "                \n",
       "                \n",
       "                \n",
       "                <td id=\"T_4bc1fb4c_c727_11e7_8d00_0800271a8003row3_col0\"\n",
       "                 class=\"data row3 col0\" >\n",
       "                    0.412319\n",
       "                \n",
       "                \n",
       "                \n",
       "                <td id=\"T_4bc1fb4c_c727_11e7_8d00_0800271a8003row3_col1\"\n",
       "                 class=\"data row3 col1\" >\n",
       "                    0.196035\n",
       "                \n",
       "                \n",
       "                \n",
       "                <td id=\"T_4bc1fb4c_c727_11e7_8d00_0800271a8003row3_col2\"\n",
       "                 class=\"data row3 col2\" >\n",
       "                    0.844561\n",
       "                \n",
       "                \n",
       "                \n",
       "                <td id=\"T_4bc1fb4c_c727_11e7_8d00_0800271a8003row3_col3\"\n",
       "                 class=\"data row3 col3\" >\n",
       "                    1\n",
       "                \n",
       "                \n",
       "                \n",
       "                <td id=\"T_4bc1fb4c_c727_11e7_8d00_0800271a8003row3_col4\"\n",
       "                 class=\"data row3 col4\" >\n",
       "                    0.262372\n",
       "                \n",
       "                \n",
       "                \n",
       "                <td id=\"T_4bc1fb4c_c727_11e7_8d00_0800271a8003row3_col5\"\n",
       "                 class=\"data row3 col5\" >\n",
       "                    0.473018\n",
       "                \n",
       "                \n",
       "                \n",
       "                <td id=\"T_4bc1fb4c_c727_11e7_8d00_0800271a8003row3_col6\"\n",
       "                 class=\"data row3 col6\" >\n",
       "                    0.178653\n",
       "                \n",
       "                \n",
       "                \n",
       "                <td id=\"T_4bc1fb4c_c727_11e7_8d00_0800271a8003row3_col7\"\n",
       "                 class=\"data row3 col7\" >\n",
       "                    0.179299\n",
       "                \n",
       "                \n",
       "                \n",
       "                <td id=\"T_4bc1fb4c_c727_11e7_8d00_0800271a8003row3_col8\"\n",
       "                 class=\"data row3 col8\" >\n",
       "                    0.779258\n",
       "                \n",
       "                \n",
       "                \n",
       "                <td id=\"T_4bc1fb4c_c727_11e7_8d00_0800271a8003row3_col9\"\n",
       "                 class=\"data row3 col9\" >\n",
       "                    0.796737\n",
       "                \n",
       "                \n",
       "                \n",
       "                <td id=\"T_4bc1fb4c_c727_11e7_8d00_0800271a8003row3_col10\"\n",
       "                 class=\"data row3 col10\" >\n",
       "                    0.7708\n",
       "                \n",
       "                \n",
       "                \n",
       "                <td id=\"T_4bc1fb4c_c727_11e7_8d00_0800271a8003row3_col11\"\n",
       "                 class=\"data row3 col11\" >\n",
       "                    0.03152\n",
       "                \n",
       "                \n",
       "            </tr>\n",
       "            \n",
       "            <tr>\n",
       "                \n",
       "                \n",
       "                <th id=\"T_4bc1fb4c_c727_11e7_8d00_0800271a8003\"\n",
       "                 class=\"row_heading level0 row4\" rowspan=1>\n",
       "                    WEEKDAY\n",
       "                \n",
       "                \n",
       "                \n",
       "                <td id=\"T_4bc1fb4c_c727_11e7_8d00_0800271a8003row4_col0\"\n",
       "                 class=\"data row4 col0\" >\n",
       "                    0.0401334\n",
       "                \n",
       "                \n",
       "                \n",
       "                <td id=\"T_4bc1fb4c_c727_11e7_8d00_0800271a8003row4_col1\"\n",
       "                 class=\"data row4 col1\" >\n",
       "                    0.0504194\n",
       "                \n",
       "                \n",
       "                \n",
       "                <td id=\"T_4bc1fb4c_c727_11e7_8d00_0800271a8003row4_col2\"\n",
       "                 class=\"data row4 col2\" >\n",
       "                    0.316348\n",
       "                \n",
       "                \n",
       "                \n",
       "                <td id=\"T_4bc1fb4c_c727_11e7_8d00_0800271a8003row4_col3\"\n",
       "                 class=\"data row4 col3\" >\n",
       "                    0.262372\n",
       "                \n",
       "                \n",
       "                \n",
       "                <td id=\"T_4bc1fb4c_c727_11e7_8d00_0800271a8003row4_col4\"\n",
       "                 class=\"data row4 col4\" >\n",
       "                    1\n",
       "                \n",
       "                \n",
       "                \n",
       "                <td id=\"T_4bc1fb4c_c727_11e7_8d00_0800271a8003row4_col5\"\n",
       "                 class=\"data row4 col5\" >\n",
       "                    0.000293874\n",
       "                \n",
       "                \n",
       "                \n",
       "                <td id=\"T_4bc1fb4c_c727_11e7_8d00_0800271a8003row4_col6\"\n",
       "                 class=\"data row4 col6\" >\n",
       "                    0.0504089\n",
       "                \n",
       "                \n",
       "                \n",
       "                <td id=\"T_4bc1fb4c_c727_11e7_8d00_0800271a8003row4_col7\"\n",
       "                 class=\"data row4 col7\" >\n",
       "                    -4.38943e-05\n",
       "                \n",
       "                \n",
       "                \n",
       "                <td id=\"T_4bc1fb4c_c727_11e7_8d00_0800271a8003row4_col8\"\n",
       "                 class=\"data row4 col8\" >\n",
       "                    0.316364\n",
       "                \n",
       "                \n",
       "                \n",
       "                <td id=\"T_4bc1fb4c_c727_11e7_8d00_0800271a8003row4_col9\"\n",
       "                 class=\"data row4 col9\" >\n",
       "                    0.328046\n",
       "                \n",
       "                \n",
       "                \n",
       "                <td id=\"T_4bc1fb4c_c727_11e7_8d00_0800271a8003row4_col10\"\n",
       "                 class=\"data row4 col10\" >\n",
       "                    0.336664\n",
       "                \n",
       "                \n",
       "                \n",
       "                <td id=\"T_4bc1fb4c_c727_11e7_8d00_0800271a8003row4_col11\"\n",
       "                 class=\"data row4 col11\" >\n",
       "                    1.97539e-05\n",
       "                \n",
       "                \n",
       "            </tr>\n",
       "            \n",
       "            <tr>\n",
       "                \n",
       "                \n",
       "                <th id=\"T_4bc1fb4c_c727_11e7_8d00_0800271a8003\"\n",
       "                 class=\"row_heading level0 row5\" rowspan=1>\n",
       "                    HOUR\n",
       "                \n",
       "                \n",
       "                \n",
       "                <td id=\"T_4bc1fb4c_c727_11e7_8d00_0800271a8003row5_col0\"\n",
       "                 class=\"data row5 col0\" >\n",
       "                    0.415791\n",
       "                \n",
       "                \n",
       "                \n",
       "                <td id=\"T_4bc1fb4c_c727_11e7_8d00_0800271a8003row5_col1\"\n",
       "                 class=\"data row5 col1\" >\n",
       "                    0.373971\n",
       "                \n",
       "                \n",
       "                \n",
       "                <td id=\"T_4bc1fb4c_c727_11e7_8d00_0800271a8003row5_col2\"\n",
       "                 class=\"data row5 col2\" >\n",
       "                    0.566247\n",
       "                \n",
       "                \n",
       "                \n",
       "                <td id=\"T_4bc1fb4c_c727_11e7_8d00_0800271a8003row5_col3\"\n",
       "                 class=\"data row5 col3\" >\n",
       "                    0.473018\n",
       "                \n",
       "                \n",
       "                \n",
       "                <td id=\"T_4bc1fb4c_c727_11e7_8d00_0800271a8003row5_col4\"\n",
       "                 class=\"data row5 col4\" >\n",
       "                    0.000293874\n",
       "                \n",
       "                \n",
       "                \n",
       "                <td id=\"T_4bc1fb4c_c727_11e7_8d00_0800271a8003row5_col5\"\n",
       "                 class=\"data row5 col5\" >\n",
       "                    1\n",
       "                \n",
       "                \n",
       "                \n",
       "                <td id=\"T_4bc1fb4c_c727_11e7_8d00_0800271a8003row5_col6\"\n",
       "                 class=\"data row5 col6\" >\n",
       "                    0.37699\n",
       "                \n",
       "                \n",
       "                \n",
       "                <td id=\"T_4bc1fb4c_c727_11e7_8d00_0800271a8003row5_col7\"\n",
       "                 class=\"data row5 col7\" >\n",
       "                    -0.00442074\n",
       "                \n",
       "                \n",
       "                \n",
       "                <td id=\"T_4bc1fb4c_c727_11e7_8d00_0800271a8003row5_col8\"\n",
       "                 class=\"data row5 col8\" >\n",
       "                    0.567857\n",
       "                \n",
       "                \n",
       "                \n",
       "                <td id=\"T_4bc1fb4c_c727_11e7_8d00_0800271a8003row5_col9\"\n",
       "                 class=\"data row5 col9\" >\n",
       "                    0.590419\n",
       "                \n",
       "                \n",
       "                \n",
       "                <td id=\"T_4bc1fb4c_c727_11e7_8d00_0800271a8003row5_col10\"\n",
       "                 class=\"data row5 col10\" >\n",
       "                    0.614276\n",
       "                \n",
       "                \n",
       "                \n",
       "                <td id=\"T_4bc1fb4c_c727_11e7_8d00_0800271a8003row5_col11\"\n",
       "                 class=\"data row5 col11\" >\n",
       "                    -0.000662207\n",
       "                \n",
       "                \n",
       "            </tr>\n",
       "            \n",
       "            <tr>\n",
       "                \n",
       "                \n",
       "                <th id=\"T_4bc1fb4c_c727_11e7_8d00_0800271a8003\"\n",
       "                 class=\"row_heading level0 row6\" rowspan=1>\n",
       "                    LIGHT_1m\n",
       "                \n",
       "                \n",
       "                \n",
       "                <td id=\"T_4bc1fb4c_c727_11e7_8d00_0800271a8003row6_col0\"\n",
       "                 class=\"data row6 col0\" >\n",
       "                    -0.0818061\n",
       "                \n",
       "                \n",
       "                \n",
       "                <td id=\"T_4bc1fb4c_c727_11e7_8d00_0800271a8003row6_col1\"\n",
       "                 class=\"data row6 col1\" >\n",
       "                    0.839312\n",
       "                \n",
       "                \n",
       "                \n",
       "                <td id=\"T_4bc1fb4c_c727_11e7_8d00_0800271a8003row6_col2\"\n",
       "                 class=\"data row6 col2\" >\n",
       "                    0.217351\n",
       "                \n",
       "                \n",
       "                \n",
       "                <td id=\"T_4bc1fb4c_c727_11e7_8d00_0800271a8003row6_col3\"\n",
       "                 class=\"data row6 col3\" >\n",
       "                    0.178653\n",
       "                \n",
       "                \n",
       "                \n",
       "                <td id=\"T_4bc1fb4c_c727_11e7_8d00_0800271a8003row6_col4\"\n",
       "                 class=\"data row6 col4\" >\n",
       "                    0.0504089\n",
       "                \n",
       "                \n",
       "                \n",
       "                <td id=\"T_4bc1fb4c_c727_11e7_8d00_0800271a8003row6_col5\"\n",
       "                 class=\"data row6 col5\" >\n",
       "                    0.37699\n",
       "                \n",
       "                \n",
       "                \n",
       "                <td id=\"T_4bc1fb4c_c727_11e7_8d00_0800271a8003row6_col6\"\n",
       "                 class=\"data row6 col6\" >\n",
       "                    1\n",
       "                \n",
       "                \n",
       "                \n",
       "                <td id=\"T_4bc1fb4c_c727_11e7_8d00_0800271a8003row6_col7\"\n",
       "                 class=\"data row6 col7\" >\n",
       "                    -0.041329\n",
       "                \n",
       "                \n",
       "                \n",
       "                <td id=\"T_4bc1fb4c_c727_11e7_8d00_0800271a8003row6_col8\"\n",
       "                 class=\"data row6 col8\" >\n",
       "                    0.232404\n",
       "                \n",
       "                \n",
       "                \n",
       "                <td id=\"T_4bc1fb4c_c727_11e7_8d00_0800271a8003row6_col9\"\n",
       "                 class=\"data row6 col9\" >\n",
       "                    0.222348\n",
       "                \n",
       "                \n",
       "                \n",
       "                <td id=\"T_4bc1fb4c_c727_11e7_8d00_0800271a8003row6_col10\"\n",
       "                 class=\"data row6 col10\" >\n",
       "                    0.207809\n",
       "                \n",
       "                \n",
       "                \n",
       "                <td id=\"T_4bc1fb4c_c727_11e7_8d00_0800271a8003row6_col11\"\n",
       "                 class=\"data row6 col11\" >\n",
       "                    -0.240537\n",
       "                \n",
       "                \n",
       "            </tr>\n",
       "            \n",
       "            <tr>\n",
       "                \n",
       "                \n",
       "                <th id=\"T_4bc1fb4c_c727_11e7_8d00_0800271a8003\"\n",
       "                 class=\"row_heading level0 row7\" rowspan=1>\n",
       "                    MOVEMENT_CHANGE\n",
       "                \n",
       "                \n",
       "                \n",
       "                <td id=\"T_4bc1fb4c_c727_11e7_8d00_0800271a8003row7_col0\"\n",
       "                 class=\"data row7 col0\" >\n",
       "                    0.0874222\n",
       "                \n",
       "                \n",
       "                \n",
       "                <td id=\"T_4bc1fb4c_c727_11e7_8d00_0800271a8003row7_col1\"\n",
       "                 class=\"data row7 col1\" >\n",
       "                    0.0529474\n",
       "                \n",
       "                \n",
       "                \n",
       "                <td id=\"T_4bc1fb4c_c727_11e7_8d00_0800271a8003row7_col2\"\n",
       "                 class=\"data row7 col2\" >\n",
       "                    0.182106\n",
       "                \n",
       "                \n",
       "                \n",
       "                <td id=\"T_4bc1fb4c_c727_11e7_8d00_0800271a8003row7_col3\"\n",
       "                 class=\"data row7 col3\" >\n",
       "                    0.179299\n",
       "                \n",
       "                \n",
       "                \n",
       "                <td id=\"T_4bc1fb4c_c727_11e7_8d00_0800271a8003row7_col4\"\n",
       "                 class=\"data row7 col4\" >\n",
       "                    -4.38943e-05\n",
       "                \n",
       "                \n",
       "                \n",
       "                <td id=\"T_4bc1fb4c_c727_11e7_8d00_0800271a8003row7_col5\"\n",
       "                 class=\"data row7 col5\" >\n",
       "                    -0.00442074\n",
       "                \n",
       "                \n",
       "                \n",
       "                <td id=\"T_4bc1fb4c_c727_11e7_8d00_0800271a8003row7_col6\"\n",
       "                 class=\"data row7 col6\" >\n",
       "                    -0.041329\n",
       "                \n",
       "                \n",
       "                \n",
       "                <td id=\"T_4bc1fb4c_c727_11e7_8d00_0800271a8003row7_col7\"\n",
       "                 class=\"data row7 col7\" >\n",
       "                    1\n",
       "                \n",
       "                \n",
       "                \n",
       "                <td id=\"T_4bc1fb4c_c727_11e7_8d00_0800271a8003row7_col8\"\n",
       "                 class=\"data row7 col8\" >\n",
       "                    -0.182106\n",
       "                \n",
       "                \n",
       "                \n",
       "                <td id=\"T_4bc1fb4c_c727_11e7_8d00_0800271a8003row7_col9\"\n",
       "                 class=\"data row7 col9\" >\n",
       "                    -0.0334253\n",
       "                \n",
       "                \n",
       "                \n",
       "                <td id=\"T_4bc1fb4c_c727_11e7_8d00_0800271a8003row7_col10\"\n",
       "                 class=\"data row7 col10\" >\n",
       "                    -0.0221206\n",
       "                \n",
       "                \n",
       "                \n",
       "                <td id=\"T_4bc1fb4c_c727_11e7_8d00_0800271a8003row7_col11\"\n",
       "                 class=\"data row7 col11\" >\n",
       "                    0.165896\n",
       "                \n",
       "                \n",
       "            </tr>\n",
       "            \n",
       "            <tr>\n",
       "                \n",
       "                \n",
       "                <th id=\"T_4bc1fb4c_c727_11e7_8d00_0800271a8003\"\n",
       "                 class=\"row_heading level0 row8\" rowspan=1>\n",
       "                    MOVEMENT_1m\n",
       "                \n",
       "                \n",
       "                \n",
       "                <td id=\"T_4bc1fb4c_c727_11e7_8d00_0800271a8003row8_col0\"\n",
       "                 class=\"data row8 col0\" >\n",
       "                    0.45565\n",
       "                \n",
       "                \n",
       "                \n",
       "                <td id=\"T_4bc1fb4c_c727_11e7_8d00_0800271a8003row8_col1\"\n",
       "                 class=\"data row8 col1\" >\n",
       "                    0.21312\n",
       "                \n",
       "                \n",
       "                \n",
       "                <td id=\"T_4bc1fb4c_c727_11e7_8d00_0800271a8003row8_col2\"\n",
       "                 class=\"data row8 col2\" >\n",
       "                    0.933675\n",
       "                \n",
       "                \n",
       "                \n",
       "                <td id=\"T_4bc1fb4c_c727_11e7_8d00_0800271a8003row8_col3\"\n",
       "                 class=\"data row8 col3\" >\n",
       "                    0.779258\n",
       "                \n",
       "                \n",
       "                \n",
       "                <td id=\"T_4bc1fb4c_c727_11e7_8d00_0800271a8003row8_col4\"\n",
       "                 class=\"data row8 col4\" >\n",
       "                    0.316364\n",
       "                \n",
       "                \n",
       "                \n",
       "                <td id=\"T_4bc1fb4c_c727_11e7_8d00_0800271a8003row8_col5\"\n",
       "                 class=\"data row8 col5\" >\n",
       "                    0.567857\n",
       "                \n",
       "                \n",
       "                \n",
       "                <td id=\"T_4bc1fb4c_c727_11e7_8d00_0800271a8003row8_col6\"\n",
       "                 class=\"data row8 col6\" >\n",
       "                    0.232404\n",
       "                \n",
       "                \n",
       "                \n",
       "                <td id=\"T_4bc1fb4c_c727_11e7_8d00_0800271a8003row8_col7\"\n",
       "                 class=\"data row8 col7\" >\n",
       "                    -0.182106\n",
       "                \n",
       "                \n",
       "                \n",
       "                <td id=\"T_4bc1fb4c_c727_11e7_8d00_0800271a8003row8_col8\"\n",
       "                 class=\"data row8 col8\" >\n",
       "                    1\n",
       "                \n",
       "                \n",
       "                \n",
       "                <td id=\"T_4bc1fb4c_c727_11e7_8d00_0800271a8003row8_col9\"\n",
       "                 class=\"data row8 col9\" >\n",
       "                    0.968566\n",
       "                \n",
       "                \n",
       "                \n",
       "                <td id=\"T_4bc1fb4c_c727_11e7_8d00_0800271a8003row8_col10\"\n",
       "                 class=\"data row8 col10\" >\n",
       "                    0.931715\n",
       "                \n",
       "                \n",
       "                \n",
       "                <td id=\"T_4bc1fb4c_c727_11e7_8d00_0800271a8003row8_col11\"\n",
       "                 class=\"data row8 col11\" >\n",
       "                    -0.0303744\n",
       "                \n",
       "                \n",
       "            </tr>\n",
       "            \n",
       "            <tr>\n",
       "                \n",
       "                \n",
       "                <th id=\"T_4bc1fb4c_c727_11e7_8d00_0800271a8003\"\n",
       "                 class=\"row_heading level0 row9\" rowspan=1>\n",
       "                    MOVEMENT_5m\n",
       "                \n",
       "                \n",
       "                \n",
       "                <td id=\"T_4bc1fb4c_c727_11e7_8d00_0800271a8003row9_col0\"\n",
       "                 class=\"data row9 col0\" >\n",
       "                    0.470537\n",
       "                \n",
       "                \n",
       "                \n",
       "                <td id=\"T_4bc1fb4c_c727_11e7_8d00_0800271a8003row9_col1\"\n",
       "                 class=\"data row9 col1\" >\n",
       "                    0.218216\n",
       "                \n",
       "                \n",
       "                \n",
       "                <td id=\"T_4bc1fb4c_c727_11e7_8d00_0800271a8003row9_col2\"\n",
       "                 class=\"data row9 col2\" >\n",
       "                    0.956392\n",
       "                \n",
       "                \n",
       "                \n",
       "                <td id=\"T_4bc1fb4c_c727_11e7_8d00_0800271a8003row9_col3\"\n",
       "                 class=\"data row9 col3\" >\n",
       "                    0.796737\n",
       "                \n",
       "                \n",
       "                \n",
       "                <td id=\"T_4bc1fb4c_c727_11e7_8d00_0800271a8003row9_col4\"\n",
       "                 class=\"data row9 col4\" >\n",
       "                    0.328046\n",
       "                \n",
       "                \n",
       "                \n",
       "                <td id=\"T_4bc1fb4c_c727_11e7_8d00_0800271a8003row9_col5\"\n",
       "                 class=\"data row9 col5\" >\n",
       "                    0.590419\n",
       "                \n",
       "                \n",
       "                \n",
       "                <td id=\"T_4bc1fb4c_c727_11e7_8d00_0800271a8003row9_col6\"\n",
       "                 class=\"data row9 col6\" >\n",
       "                    0.222348\n",
       "                \n",
       "                \n",
       "                \n",
       "                <td id=\"T_4bc1fb4c_c727_11e7_8d00_0800271a8003row9_col7\"\n",
       "                 class=\"data row9 col7\" >\n",
       "                    -0.0334253\n",
       "                \n",
       "                \n",
       "                \n",
       "                <td id=\"T_4bc1fb4c_c727_11e7_8d00_0800271a8003row9_col8\"\n",
       "                 class=\"data row9 col8\" >\n",
       "                    0.968566\n",
       "                \n",
       "                \n",
       "                \n",
       "                <td id=\"T_4bc1fb4c_c727_11e7_8d00_0800271a8003row9_col9\"\n",
       "                 class=\"data row9 col9\" >\n",
       "                    1\n",
       "                \n",
       "                \n",
       "                \n",
       "                <td id=\"T_4bc1fb4c_c727_11e7_8d00_0800271a8003row9_col10\"\n",
       "                 class=\"data row9 col10\" >\n",
       "                    0.970449\n",
       "                \n",
       "                \n",
       "                \n",
       "                <td id=\"T_4bc1fb4c_c727_11e7_8d00_0800271a8003row9_col11\"\n",
       "                 class=\"data row9 col11\" >\n",
       "                    -0.00382004\n",
       "                \n",
       "                \n",
       "            </tr>\n",
       "            \n",
       "            <tr>\n",
       "                \n",
       "                \n",
       "                <th id=\"T_4bc1fb4c_c727_11e7_8d00_0800271a8003\"\n",
       "                 class=\"row_heading level0 row10\" rowspan=1>\n",
       "                    MOVEMENT_15m\n",
       "                \n",
       "                \n",
       "                \n",
       "                <td id=\"T_4bc1fb4c_c727_11e7_8d00_0800271a8003row10_col0\"\n",
       "                 class=\"data row10 col0\" >\n",
       "                    0.465742\n",
       "                \n",
       "                \n",
       "                \n",
       "                <td id=\"T_4bc1fb4c_c727_11e7_8d00_0800271a8003row10_col1\"\n",
       "                 class=\"data row10 col1\" >\n",
       "                    0.204685\n",
       "                \n",
       "                \n",
       "                \n",
       "                <td id=\"T_4bc1fb4c_c727_11e7_8d00_0800271a8003row10_col2\"\n",
       "                 class=\"data row10 col2\" >\n",
       "                    0.923659\n",
       "                \n",
       "                \n",
       "                \n",
       "                <td id=\"T_4bc1fb4c_c727_11e7_8d00_0800271a8003row10_col3\"\n",
       "                 class=\"data row10 col3\" >\n",
       "                    0.7708\n",
       "                \n",
       "                \n",
       "                \n",
       "                <td id=\"T_4bc1fb4c_c727_11e7_8d00_0800271a8003row10_col4\"\n",
       "                 class=\"data row10 col4\" >\n",
       "                    0.336664\n",
       "                \n",
       "                \n",
       "                \n",
       "                <td id=\"T_4bc1fb4c_c727_11e7_8d00_0800271a8003row10_col5\"\n",
       "                 class=\"data row10 col5\" >\n",
       "                    0.614276\n",
       "                \n",
       "                \n",
       "                \n",
       "                <td id=\"T_4bc1fb4c_c727_11e7_8d00_0800271a8003row10_col6\"\n",
       "                 class=\"data row10 col6\" >\n",
       "                    0.207809\n",
       "                \n",
       "                \n",
       "                \n",
       "                <td id=\"T_4bc1fb4c_c727_11e7_8d00_0800271a8003row10_col7\"\n",
       "                 class=\"data row10 col7\" >\n",
       "                    -0.0221206\n",
       "                \n",
       "                \n",
       "                \n",
       "                <td id=\"T_4bc1fb4c_c727_11e7_8d00_0800271a8003row10_col8\"\n",
       "                 class=\"data row10 col8\" >\n",
       "                    0.931715\n",
       "                \n",
       "                \n",
       "                \n",
       "                <td id=\"T_4bc1fb4c_c727_11e7_8d00_0800271a8003row10_col9\"\n",
       "                 class=\"data row10 col9\" >\n",
       "                    0.970449\n",
       "                \n",
       "                \n",
       "                \n",
       "                <td id=\"T_4bc1fb4c_c727_11e7_8d00_0800271a8003row10_col10\"\n",
       "                 class=\"data row10 col10\" >\n",
       "                    1\n",
       "                \n",
       "                \n",
       "                \n",
       "                <td id=\"T_4bc1fb4c_c727_11e7_8d00_0800271a8003row10_col11\"\n",
       "                 class=\"data row10 col11\" >\n",
       "                    -0.00189342\n",
       "                \n",
       "                \n",
       "            </tr>\n",
       "            \n",
       "            <tr>\n",
       "                \n",
       "                \n",
       "                <th id=\"T_4bc1fb4c_c727_11e7_8d00_0800271a8003\"\n",
       "                 class=\"row_heading level0 row11\" rowspan=1>\n",
       "                    LUX_SWITCH\n",
       "                \n",
       "                \n",
       "                \n",
       "                <td id=\"T_4bc1fb4c_c727_11e7_8d00_0800271a8003row11_col0\"\n",
       "                 class=\"data row11 col0\" >\n",
       "                    0.524129\n",
       "                \n",
       "                \n",
       "                \n",
       "                <td id=\"T_4bc1fb4c_c727_11e7_8d00_0800271a8003row11_col1\"\n",
       "                 class=\"data row11 col1\" >\n",
       "                    0.241089\n",
       "                \n",
       "                \n",
       "                \n",
       "                <td id=\"T_4bc1fb4c_c727_11e7_8d00_0800271a8003row11_col2\"\n",
       "                 class=\"data row11 col2\" >\n",
       "                    0.0300469\n",
       "                \n",
       "                \n",
       "                \n",
       "                <td id=\"T_4bc1fb4c_c727_11e7_8d00_0800271a8003row11_col3\"\n",
       "                 class=\"data row11 col3\" >\n",
       "                    0.03152\n",
       "                \n",
       "                \n",
       "                \n",
       "                <td id=\"T_4bc1fb4c_c727_11e7_8d00_0800271a8003row11_col4\"\n",
       "                 class=\"data row11 col4\" >\n",
       "                    1.97539e-05\n",
       "                \n",
       "                \n",
       "                \n",
       "                <td id=\"T_4bc1fb4c_c727_11e7_8d00_0800271a8003row11_col5\"\n",
       "                 class=\"data row11 col5\" >\n",
       "                    -0.000662207\n",
       "                \n",
       "                \n",
       "                \n",
       "                <td id=\"T_4bc1fb4c_c727_11e7_8d00_0800271a8003row11_col6\"\n",
       "                 class=\"data row11 col6\" >\n",
       "                    -0.240537\n",
       "                \n",
       "                \n",
       "                \n",
       "                <td id=\"T_4bc1fb4c_c727_11e7_8d00_0800271a8003row11_col7\"\n",
       "                 class=\"data row11 col7\" >\n",
       "                    0.165896\n",
       "                \n",
       "                \n",
       "                \n",
       "                <td id=\"T_4bc1fb4c_c727_11e7_8d00_0800271a8003row11_col8\"\n",
       "                 class=\"data row11 col8\" >\n",
       "                    -0.0303744\n",
       "                \n",
       "                \n",
       "                \n",
       "                <td id=\"T_4bc1fb4c_c727_11e7_8d00_0800271a8003row11_col9\"\n",
       "                 class=\"data row11 col9\" >\n",
       "                    -0.00382004\n",
       "                \n",
       "                \n",
       "                \n",
       "                <td id=\"T_4bc1fb4c_c727_11e7_8d00_0800271a8003row11_col10\"\n",
       "                 class=\"data row11 col10\" >\n",
       "                    -0.00189342\n",
       "                \n",
       "                \n",
       "                \n",
       "                <td id=\"T_4bc1fb4c_c727_11e7_8d00_0800271a8003row11_col11\"\n",
       "                 class=\"data row11 col11\" >\n",
       "                    1\n",
       "                \n",
       "                \n",
       "            </tr>\n",
       "            \n",
       "        </tbody>\n",
       "        </table>\n",
       "        "
      ],
      "text/plain": [
       "<pandas.formats.style.Styler at 0x7fcc31cfe438>"
      ]
     },
     "execution_count": 25,
     "metadata": {},
     "output_type": "execute_result"
    }
   ],
   "source": [
    "df_events.corr().style.bar(subset=['LUX_ON'], color='#d65f5f', axis=0)"
   ]
  },
  {
   "cell_type": "markdown",
   "metadata": {},
   "source": [
    "## Entrenamiento y verificación de RNA\n",
    "\n",
    "### Variable objetivo: estado de la lámpara (LUX_ON)\n",
    "La variable a predecir es LUX_ON, la cual está en 1 si la luz está prendida (sea estado override o no del módulo). La distribución del estado en porcentaje es la siguiente:"
   ]
  },
  {
   "cell_type": "code",
   "execution_count": 26,
   "metadata": {},
   "outputs": [
    {
     "data": {
      "text/plain": [
       "0    0.833408\n",
       "1    0.166592\n",
       "Name: LUX_ON, dtype: float64"
      ]
     },
     "execution_count": 26,
     "metadata": {},
     "output_type": "execute_result"
    }
   ],
   "source": [
    "df_events.LUX_ON.value_counts(normalize=True)"
   ]
  },
  {
   "cell_type": "markdown",
   "metadata": {},
   "source": [
    "#### Separando los datos para training y prueba\n",
    "Para poder hacer etapas de entrenamiento y prueba, voy a separar los datos. 70% para entrenamiento, 30% para prueba. Para esto voy a usar del módulo scikit-learn la función train_test_split.\n",
    "\n",
    "Los conjuntos de datos van a llamarse:\n",
    "* X_train: Datos de entrenamiento. Las 7 columnas con los valores del mes, día, sensores, etc, compuesto por el 70% de los registros\n",
    "* y_train: Resultado de entrenamiento. Columna *estadoLuz* para el 70% de los registros\n",
    "* X_test: Datos para hacer la validación. Tienen el mismo formato que X_train, pero corresponden al 30% del conjunto de datos\n",
    "* y_test: Resultados para validar la performance del algoritmo aplicado a X_test"
   ]
  },
  {
   "cell_type": "code",
   "execution_count": 27,
   "metadata": {
    "collapsed": true
   },
   "outputs": [],
   "source": [
    "from sklearn.model_selection import train_test_split\n",
    "\n",
    "luxState_feature_names = ['WEEKDAY', 'HOUR', 'LIGHT_1m', 'SOUND', 'MOVEMENT', 'MOVEMENT_1m', 'MOVEMENT_5m', 'MOVEMENT_15m']\n",
    "luxState_goal_names = ['LUX_ON']\n",
    "\n",
    "luxState_features = df_events[luxState_feature_names].values     # Columnas del predictor (5 X m)\n",
    "luxState_goal = df_events[luxState_goal_names].values            # Clase predecida (1=verdadero, 0=falso) column (1 X m)\n",
    "split_test_size = 0.30                                           # 0.30 es 30%, el tamaño para pruebas\n",
    "\n",
    "luxState_features_train, luxState_features_test, luxState_goal_train, luxState_goal_test = train_test_split(luxState_features, luxState_goal, test_size=split_test_size)"
   ]
  },
  {
   "cell_type": "markdown",
   "metadata": {},
   "source": [
    "Verifico que el tamaño relativo de los sets de entrenamiento y prueba sea lo más cercano a 70-30 posible:"
   ]
  },
  {
   "cell_type": "code",
   "execution_count": 29,
   "metadata": {},
   "outputs": [
    {
     "name": "stdout",
     "output_type": "stream",
     "text": [
      "70.00% en el set de entrenamiento\n",
      "30.00% en el set de prueba\n"
     ]
    }
   ],
   "source": [
    "print(\"{0:.2f}% en el set de entrenamiento\".format( (float(len(luxState_features_train))/len(df_events.index)) * 100 ) )\n",
    "print(\"{0:.2f}% en el set de prueba\".format((float(len(luxState_features_test))/len(df_events.index)) * 100))"
   ]
  },
  {
   "cell_type": "markdown",
   "metadata": {},
   "source": [
    "Verifico que la proporción de casos verdaderos y falsos se mantenga en los conjuntos de entrenamiento y test:"
   ]
  },
  {
   "cell_type": "code",
   "execution_count": 30,
   "metadata": {},
   "outputs": [
    {
     "name": "stdout",
     "output_type": "stream",
     "text": [
      "Lux Activo en el total           : 21588 (16.66%)\n",
      "Lux Inactivo en el total         : 107998 (83.34%)\n",
      "\n",
      "Lux Activo en entrenamiento      : 15166 (16.72%)\n",
      "Lux Inctivo en entrenamiento     : 75544 (83.28%)\n",
      "\n",
      "Lux Activo en test               : 6422 (16.52%)\n",
      "Lux Inctivo en test              : 32454 (83.48%)\n"
     ]
    }
   ],
   "source": [
    "print(\"Lux Activo en el total           : {0} ({1:0.2f}%)\".format(len(df_events.loc[df_events['LUX_ON'] == 1]), (len(df_events.loc[df_events['LUX_ON'] == 1])/float(len(df_events.index))) * 100.0))\n",
    "print(\"Lux Inactivo en el total         : {0} ({1:0.2f}%)\".format(len(df_events.loc[df_events['LUX_ON'] == 0]), (len(df_events.loc[df_events['LUX_ON'] == 0])/float(len(df_events.index))) * 100.0))\n",
    "print(\"\")\n",
    "train_state_on = len(luxState_goal_train[ luxState_goal_train == 1])\n",
    "train_state_off = len(luxState_goal_train[ luxState_goal_train == 0])\n",
    "print(\"Lux Activo en entrenamiento      : {0} ({1:0.2f}%)\".format(train_state_on, train_state_on/float(len(luxState_goal_train)) * 100.0))\n",
    "print(\"Lux Inctivo en entrenamiento     : {0} ({1:0.2f}%)\".format(train_state_off, train_state_off/float(len(luxState_goal_train)) * 100.0))\n",
    "print(\"\")\n",
    "test_state_on = len(luxState_goal_test[ luxState_goal_test == 1])\n",
    "test_state_off = len(luxState_goal_test[ luxState_goal_test == 0])\n",
    "print(\"Lux Activo en test               : {0} ({1:0.2f}%)\".format(test_state_on, test_state_on/float(len(luxState_goal_test)) * 100.0))\n",
    "print(\"Lux Inctivo en test              : {0} ({1:0.2f}%)\".format(test_state_off,test_state_off/float(len(luxState_goal_test)) * 100.0))"
   ]
  },
  {
   "cell_type": "markdown",
   "metadata": {},
   "source": [
    "#### Entrenamiento inicial\n",
    "Para este entrenamiento voy a usar otro módulo de scikit-learn: neural_network. Como lo que estamos tratando de averiguar es si la luz debe estar prendida o no, estamos hablando de un algoritmo de clasificación, y por lo tanto la función que voy a usar se llama MLPClassifier, e implementa un perceptrón multi capa (MLP) que se entrena usando backpropagation.\n"
   ]
  },
  {
   "cell_type": "code",
   "execution_count": 31,
   "metadata": {},
   "outputs": [
    {
     "name": "stdout",
     "output_type": "stream",
     "text": [
      "CPU times: user 4.08 s, sys: 0 ns, total: 4.08 s\n",
      "Wall time: 4.2 s\n"
     ]
    },
    {
     "data": {
      "text/plain": [
       "MLPClassifier(activation='relu', alpha=0.0001, batch_size='auto', beta_1=0.9,\n",
       "       beta_2=0.999, early_stopping=False, epsilon=1e-08,\n",
       "       hidden_layer_sizes=(100,), learning_rate='constant',\n",
       "       learning_rate_init=0.001, max_iter=200, momentum=0.9,\n",
       "       nesterovs_momentum=True, power_t=0.5, random_state=None,\n",
       "       shuffle=True, solver='adam', tol=0.0001, validation_fraction=0.1,\n",
       "       verbose=False, warm_start=False)"
      ]
     },
     "execution_count": 31,
     "metadata": {},
     "output_type": "execute_result"
    }
   ],
   "source": [
    "from sklearn.neural_network import MLPClassifier\n",
    "clf_model_state = MLPClassifier()\n",
    "%time clf_model_state.fit(luxState_features_train, luxState_goal_train.ravel())"
   ]
  },
  {
   "cell_type": "markdown",
   "metadata": {},
   "source": [
    "#### Performance usando los datos de entrenamiento\n",
    "Para esto voy a importar la función metrics."
   ]
  },
  {
   "cell_type": "code",
   "execution_count": 32,
   "metadata": {
    "scrolled": true
   },
   "outputs": [
    {
     "name": "stdout",
     "output_type": "stream",
     "text": [
      "Precisión en entrenamiento: 0.8527\n"
     ]
    }
   ],
   "source": [
    "from sklearn import metrics\n",
    "\n",
    "clf_predict_state_train = clf_model_state.predict(luxState_features_train)\n",
    "\n",
    "print(\"Precisión en entrenamiento: {0:.4f}\".format(metrics.accuracy_score(luxState_goal_train, clf_predict_state_train)))"
   ]
  },
  {
   "cell_type": "markdown",
   "metadata": {},
   "source": [
    "#### Performance usando los datos de prueba"
   ]
  },
  {
   "cell_type": "code",
   "execution_count": 33,
   "metadata": {
    "scrolled": true
   },
   "outputs": [
    {
     "name": "stdout",
     "output_type": "stream",
     "text": [
      "Precisión en test: 0.8541\n"
     ]
    }
   ],
   "source": [
    "clf_predict_state_test = clf_model_state.predict(luxState_features_test)\n",
    "\n",
    "print(\"Precisión en test: {0:.4f}\".format(metrics.accuracy_score(luxState_goal_test, clf_predict_state_test)))"
   ]
  },
  {
   "cell_type": "markdown",
   "metadata": {},
   "source": [
    "#### Métricas\n",
    "Los resultados de las etapas de entrenamiento y prueba son muy buenos. Demasiado buenos. Hay que analizar si no hay algún otro problema que pueda causar que cuando ponga más datos (cuando analice en tiempo real la actividad del usuario), el modelo falle miserablemente.\n",
    "\n",
    "Para este análisis, voy a ver como se comparan los resultados, con el objetivo de entender si el modelo sirve o hay que hacer ajustes. Voy a usar dos herramientas:\n",
    "\n",
    "##### Matriz de confusión\n",
    "https://es.wikipedia.org/wiki/Matriz_de_confusi%C3%B3n\n",
    "\n",
    "Cada columna de la matriz representa el número de predicciones de cada clase, mientras que cada fila representa a las instancias en la clase real. Uno de los beneficios de las matrices de confusión es que facilitan ver si el sistema está confundiendo dos clases. \n",
    "\n",
    "En nuestro caso, la matriz representa lo siguiente:\n",
    "\n",
    "\n",
    "| EV (Predicho Encendido y es verdad ) | EF (Predicho Encendido pero es falso) |\n",
    "|------------------------------------------------|\n",
    "| **AF (Predicho Apagado pero es Falso** | **AV (Predicho Apagado y es verdad)** |\n",
    "\n",
    "Esto quiere decir que queremos los valores más altos posibles en la diagonal, y lo más cerca posible a cero en cualquier otro lado."
   ]
  },
  {
   "cell_type": "code",
   "execution_count": 34,
   "metadata": {
    "scrolled": true
   },
   "outputs": [
    {
     "name": "stdout",
     "output_type": "stream",
     "text": [
      "Matriz de confusión:\n",
      "[[ 5149  1273]\n",
      " [ 4398 28056]]\n"
     ]
    }
   ],
   "source": [
    "print(\"Matriz de confusión:\")\n",
    "print(\"{0}\".format(metrics.confusion_matrix(luxState_goal_test, clf_predict_state_test, labels=[1, 0])))"
   ]
  },
  {
   "cell_type": "markdown",
   "metadata": {},
   "source": [
    "Estos resultados son muy buenos, el porcentaje de acertados es altísimo. El modelo es casi perfecto. Para confirmar, hay que usar la otra herramienta.\n",
    "\n",
    "\n",
    "#### Reporte de clasificación.\n",
    "Lo primero que vamos a verificar es que tan bien se hace una predición acertada cuando se requiere que el dispositivo esté encendido. Este dato, llamado \"recall\" en el reporte, esta dado por:\n",
    "\n",
    "Recall = EV / (EV + AF)\n",
    "\n",
    "Lo segundo que queremos ver es la presición, que está dada por:\n",
    "\n",
    "Precision = EV / (EV + EF)\n"
   ]
  },
  {
   "cell_type": "code",
   "execution_count": 35,
   "metadata": {
    "scrolled": true
   },
   "outputs": [
    {
     "name": "stdout",
     "output_type": "stream",
     "text": [
      "Reporte de clasificación:\n",
      "             precision    recall  f1-score   support\n",
      "\n",
      "          1       0.54      0.80      0.64      6422\n",
      "          0       0.96      0.86      0.91     32454\n",
      "\n",
      "avg / total       0.89      0.85      0.86     38876\n",
      "\n"
     ]
    }
   ],
   "source": [
    "print(\"Reporte de clasificación:\")\n",
    "print(metrics.classification_report(luxState_goal_test, clf_predict_state_test, labels=[1,0]))"
   ]
  },
  {
   "cell_type": "markdown",
   "metadata": {},
   "source": [
    "### Variable objetivo: cambio de estado de la lámpara (LUX_SWITCH)\n",
    "La variable a predecir es LUX_SWITCH que se describe como cada cambio de estado del lux.\n",
    "-  1: la luz se prendió\n",
    "-  0: no hubo cambios\n",
    "- -1: la luz se apagó\n",
    "La distribución del estado en porcentaje es la siguiente:"
   ]
  },
  {
   "cell_type": "code",
   "execution_count": 36,
   "metadata": {},
   "outputs": [
    {
     "data": {
      "text/plain": [
       " 0.0    0.847437\n",
       "-1.0    0.076281\n",
       " 1.0    0.076281\n",
       "Name: LUX_SWITCH, dtype: float64"
      ]
     },
     "execution_count": 36,
     "metadata": {},
     "output_type": "execute_result"
    }
   ],
   "source": [
    "df_events.LUX_SWITCH.value_counts(normalize=True)"
   ]
  },
  {
   "cell_type": "markdown",
   "metadata": {},
   "source": [
    "#### Separando los datos para training y prueba"
   ]
  },
  {
   "cell_type": "code",
   "execution_count": 37,
   "metadata": {
    "collapsed": true
   },
   "outputs": [],
   "source": [
    "luxSwitch_feature_names = ['WEEKDAY', 'HOUR', 'LIGHT_1m', 'SOUND', 'MOVEMENT', 'MOVEMENT_1m', 'MOVEMENT_5m', 'MOVEMENT_15m' ]\n",
    "luxSwitch_goal_names = ['LUX_SWITCH']\n",
    "\n",
    "luxSwitch_features = df_events[luxSwitch_feature_names].values        # Columnas predictoras\n",
    "luxSwitch_goal = df_events[luxSwitch_goal_names].values               # Clase predecida (1, 0, -1)\n",
    "split_test_size = 0.30                                                # 0.30 es 30%, el tamaño para pruebas\n",
    "\n",
    "luxSwitch_feat_train, luxSwitch_feat_test, luxSwitch_goal_train, luxSwitch_goal_test = train_test_split(luxSwitch_features, luxSwitch_goal, test_size=split_test_size)"
   ]
  },
  {
   "cell_type": "code",
   "execution_count": 39,
   "metadata": {},
   "outputs": [
    {
     "name": "stdout",
     "output_type": "stream",
     "text": [
      "70.00% en el set de entrenamiento\n",
      "30.00% en el set de prueba\n"
     ]
    }
   ],
   "source": [
    "print(\"{0:.2f}% en el set de entrenamiento\".format( (float(len(luxSwitch_feat_train))/len(df_events.index)) * 100 ) )\n",
    "print(\"{0:.2f}% en el set de prueba\".format((float(len(luxSwitch_feat_test))/len(df_events.index)) * 100))"
   ]
  },
  {
   "cell_type": "code",
   "execution_count": 43,
   "metadata": {},
   "outputs": [
    {
     "name": "stdout",
     "output_type": "stream",
     "text": [
      "Totales:\n",
      "Prendidas        : 9885 (7.63%)\n",
      "Sin cambios      : 109816 (84.74%)\n",
      "Apagadas         : 9885 (7.63%)\n",
      "\n",
      "Set de entrenamiento:\n",
      "Prendidas        : 6867 (7.57%)\n",
      "Sin cambios      : 76896 (84.77%)\n",
      "Apagadas         : 6947 (7.66%)\n",
      "\n",
      "Set de pruebas:\n",
      "Prendidas        : 3018 (7.76%)\n",
      "Sin cambios      : 32920 (84.68%)\n",
      "Apagadas         : 2938 (7.56%)\n"
     ]
    }
   ],
   "source": [
    "totales_switch_on = len(df_events.query('LUX_SWITCH == 1'))\n",
    "totales_switch_stale = len(df_events.query('LUX_SWITCH == 0'))\n",
    "totales_switch_off = len(df_events.query('LUX_SWITCH == -1'))\n",
    "print('Totales:')\n",
    "print(\"Prendidas        : {0} ({1:0.2f}%)\".format(totales_switch_on, totales_switch_on/float(df_events.shape[0]) * 100.0))\n",
    "print(\"Sin cambios      : {0} ({1:0.2f}%)\".format(totales_switch_stale, totales_switch_stale/float(df_events.shape[0]) * 100.0))\n",
    "print(\"Apagadas         : {0} ({1:0.2f}%)\".format(totales_switch_off, totales_switch_off/float(df_events.shape[0]) * 100.0))\n",
    "print('')\n",
    "train_switch_on = len(luxSwitch_goal_train[ luxSwitch_goal_train == 1])\n",
    "train_switch_stale = len(luxSwitch_goal_train[ luxSwitch_goal_train == 0])\n",
    "train_switch_off = len(luxSwitch_goal_train[ luxSwitch_goal_train == -1])\n",
    "print('Set de entrenamiento:')\n",
    "print(\"Prendidas        : {0} ({1:0.2f}%)\".format(train_switch_on, train_switch_on/float(luxSwitch_goal_train.shape[0]) * 100.0))\n",
    "print(\"Sin cambios      : {0} ({1:0.2f}%)\".format(train_switch_stale, train_switch_stale/float(luxSwitch_goal_train.shape[0]) * 100.0))\n",
    "print(\"Apagadas         : {0} ({1:0.2f}%)\".format(train_switch_off, train_switch_off/float(luxSwitch_goal_train.shape[0]) * 100.0))\n",
    "print('')\n",
    "test_switch_on = len(luxSwitch_goal_test[ luxSwitch_goal_test == 1])\n",
    "test_switch_stale = len(luxSwitch_goal_test[ luxSwitch_goal_test == 0])\n",
    "test_switch_off = len(luxSwitch_goal_test[ luxSwitch_goal_test == -1])\n",
    "print('Set de pruebas:')\n",
    "print(\"Prendidas        : {0} ({1:0.2f}%)\".format(test_switch_on, test_switch_on/float(luxSwitch_goal_test.shape[0]) * 100.0))\n",
    "print(\"Sin cambios      : {0} ({1:0.2f}%)\".format(test_switch_stale, test_switch_stale/float(luxSwitch_goal_test.shape[0]) * 100.0))\n",
    "print(\"Apagadas         : {0} ({1:0.2f}%)\".format(test_switch_off, test_switch_off/float(luxSwitch_goal_test.shape[0]) * 100.0))"
   ]
  },
  {
   "cell_type": "markdown",
   "metadata": {},
   "source": [
    "#### Entrenamiento inicial"
   ]
  },
  {
   "cell_type": "code",
   "execution_count": 44,
   "metadata": {},
   "outputs": [
    {
     "name": "stdout",
     "output_type": "stream",
     "text": [
      "CPU times: user 4.8 s, sys: 0 ns, total: 4.8 s\n",
      "Wall time: 4.94 s\n"
     ]
    },
    {
     "data": {
      "text/plain": [
       "MLPClassifier(activation='relu', alpha=0.0001, batch_size='auto', beta_1=0.9,\n",
       "       beta_2=0.999, early_stopping=False, epsilon=1e-08,\n",
       "       hidden_layer_sizes=(100,), learning_rate='constant',\n",
       "       learning_rate_init=0.001, max_iter=200, momentum=0.9,\n",
       "       nesterovs_momentum=True, power_t=0.5, random_state=None,\n",
       "       shuffle=True, solver='adam', tol=0.0001, validation_fraction=0.1,\n",
       "       verbose=False, warm_start=False)"
      ]
     },
     "execution_count": 44,
     "metadata": {},
     "output_type": "execute_result"
    }
   ],
   "source": [
    "clf_model_switch = MLPClassifier()\n",
    "%time clf_model_switch.fit(luxSwitch_feat_train, luxSwitch_goal_train.ravel())"
   ]
  },
  {
   "cell_type": "markdown",
   "metadata": {},
   "source": [
    "#### Performance usando los datos de entrenamiento"
   ]
  },
  {
   "cell_type": "code",
   "execution_count": 45,
   "metadata": {
    "scrolled": true
   },
   "outputs": [
    {
     "name": "stdout",
     "output_type": "stream",
     "text": [
      "Precisión en entrenamiento: 0.8680\n"
     ]
    }
   ],
   "source": [
    "clf_predict_switch_train = clf_model_switch.predict(luxSwitch_feat_train)\n",
    "\n",
    "print(\"Precisión en entrenamiento: {0:.4f}\".format(metrics.accuracy_score(luxSwitch_goal_train, clf_predict_switch_train)))"
   ]
  },
  {
   "cell_type": "markdown",
   "metadata": {},
   "source": [
    "#### Performance usando los datos de prueba"
   ]
  },
  {
   "cell_type": "code",
   "execution_count": 46,
   "metadata": {
    "scrolled": true
   },
   "outputs": [
    {
     "name": "stdout",
     "output_type": "stream",
     "text": [
      "Precisión en test: 0.8677\n"
     ]
    }
   ],
   "source": [
    "clf_predict_switch_test = clf_model_switch.predict(luxSwitch_feat_test)\n",
    "\n",
    "print(\"Precisión en test: {0:.4f}\".format(metrics.accuracy_score(luxSwitch_goal_test, clf_predict_switch_test)))"
   ]
  },
  {
   "cell_type": "markdown",
   "metadata": {},
   "source": [
    "#### Métricas\n",
    "##### Matriz de confusión"
   ]
  },
  {
   "cell_type": "code",
   "execution_count": 47,
   "metadata": {
    "scrolled": true
   },
   "outputs": [
    {
     "name": "stdout",
     "output_type": "stream",
     "text": [
      "[[ 1457  1561     0]\n",
      " [  627 32274    19]\n",
      " [    0  2938     0]]\n"
     ]
    }
   ],
   "source": [
    "matriz_conf = metrics.confusion_matrix(luxSwitch_goal_test, clf_predict_switch_test, labels=[1, 0, -1])\n",
    "print(\"{0}\".format(matriz_conf))"
   ]
  },
  {
   "cell_type": "code",
   "execution_count": 48,
   "metadata": {},
   "outputs": [
    {
     "data": {
      "text/plain": [
       "86.765613746270191"
      ]
     },
     "execution_count": 48,
     "metadata": {},
     "output_type": "execute_result"
    }
   ],
   "source": [
    "# Porcentaje de acierto\n",
    "matriz_conf.diagonal().sum() / float(matriz_conf.sum()) * 100"
   ]
  },
  {
   "cell_type": "markdown",
   "metadata": {},
   "source": [
    "#### Reporte de clasificación"
   ]
  },
  {
   "cell_type": "code",
   "execution_count": 49,
   "metadata": {},
   "outputs": [
    {
     "name": "stdout",
     "output_type": "stream",
     "text": [
      "             precision    recall  f1-score   support\n",
      "\n",
      "          1       0.70      0.48      0.57      3018\n",
      "          0       0.88      0.98      0.93     32920\n",
      "         -1       0.00      0.00      0.00      2938\n",
      "\n",
      "avg / total       0.80      0.87      0.83     38876\n",
      "\n"
     ]
    }
   ],
   "source": [
    "print(metrics.classification_report(luxSwitch_goal_test, clf_predict_switch_test, labels=[1,0,-1]))"
   ]
  },
  {
   "cell_type": "markdown",
   "metadata": {},
   "source": [
    "## Validación del modelo"
   ]
  },
  {
   "cell_type": "markdown",
   "metadata": {},
   "source": [
    "### Predicción de ESTADO (LUX_ON)\n",
    "Features:\n",
    "\n",
    "| WEEKDAY | MINDAY | LIGHT_LUX_1m | SOUND | MOVEMENT | MOVEMENT_1m | MOVEMENT_5m | MOVEMENT_15m |\n",
    "|-----------------------------------------------------------------------------------------------|\n",
    "| 0-6 | 0-1439 | 0-2000 | 30-130 | 0/1 | 0-1 | 0-1 | 0-1 |"
   ]
  },
  {
   "cell_type": "code",
   "execution_count": 50,
   "metadata": {
    "collapsed": true
   },
   "outputs": [],
   "source": [
    "X_new_test = pd.DataFrame([[ 5, 670, 85, 50, 1, 1, 1, 0.9 ]],columns=luxState_feature_names)"
   ]
  },
  {
   "cell_type": "code",
   "execution_count": 51,
   "metadata": {},
   "outputs": [
    {
     "name": "stdout",
     "output_type": "stream",
     "text": [
      "Resultado:  [0]\n"
     ]
    }
   ],
   "source": [
    "clf_predict_new_test = clf_model_state.predict(X_new_test)\n",
    "\n",
    "print (\"Resultado: \", clf_predict_new_test)"
   ]
  },
  {
   "cell_type": "markdown",
   "metadata": {},
   "source": [
    "### Predicción de CAMBIO DE ESTADO (LUX_SWITCH)\n",
    "\n",
    "Features:\n",
    "\n",
    "| WEEKDAY | MINDAY | LIGHT_LUX_1m | SOUND | MOVEMENT | MOVEMENT_1m | MOVEMENT_5m | MOVEMENT_15m |\n",
    "|-----------------------------------------------------------------------------------------------|\n",
    "| 0-6 | 0-1439 | 0-2000 | 30-130 | 0/1 | 0-1 | 0-1 | 0-1 |"
   ]
  },
  {
   "cell_type": "code",
   "execution_count": 52,
   "metadata": {
    "collapsed": true
   },
   "outputs": [],
   "source": [
    "X_new_test = pd.DataFrame([[ 5, 670, 85, 50, 1, 1, 1, 0.9 ]],columns=luxSwitch_feature_names)"
   ]
  },
  {
   "cell_type": "code",
   "execution_count": 53,
   "metadata": {},
   "outputs": [
    {
     "name": "stdout",
     "output_type": "stream",
     "text": [
      "Resultado:  [ 0.]\n"
     ]
    }
   ],
   "source": [
    "clf_predict_new_test = clf_model_switch.predict(X_new_test)\n",
    "\n",
    "print (\"Resultado: \", clf_predict_new_test)"
   ]
  }
 ],
 "metadata": {
  "kernelspec": {
   "display_name": "Python 2",
   "language": "python",
   "name": "python2"
  },
  "language_info": {
   "codemirror_mode": {
    "name": "ipython",
    "version": 2
   },
   "file_extension": ".py",
   "mimetype": "text/x-python",
   "name": "python",
   "nbconvert_exporter": "python",
   "pygments_lexer": "ipython2",
   "version": "2.7.13"
  }
 },
 "nbformat": 4,
 "nbformat_minor": 2
}
