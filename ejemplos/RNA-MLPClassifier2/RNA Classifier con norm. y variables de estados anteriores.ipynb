{
 "cells": [
  {
   "cell_type": "markdown",
   "metadata": {
    "deletable": true,
    "editable": true
   },
   "source": [
    "# Prueba de Red Neuronal Artificial con Back Propagation\n",
    "\n",
    "En este ejemplo se agrega normalización de datos y variables adicionales."
   ]
  },
  {
   "cell_type": "markdown",
   "metadata": {
    "deletable": true,
    "editable": true
   },
   "source": [
    "## Import de librerías"
   ]
  },
  {
   "cell_type": "code",
   "execution_count": 881,
   "metadata": {
    "collapsed": true,
    "deletable": true,
    "editable": true
   },
   "outputs": [],
   "source": [
    "import pandas as pd\n",
    "import numpy as np\n",
    "import matplotlib as mpl\n",
    "import matplotlib.pyplot as plt\n",
    "from datetime import datetime, timedelta\n",
    "from IPython.display import display\n",
    "from sklearn.cluster import KMeans\n",
    "import MySQLdb\n",
    "#from pandas.io import sql\n",
    "#from sqlalchemy import create_engine\n",
    "\n",
    "%matplotlib inline\n",
    "\n",
    "pd.options.mode.chained_assignment = None  # default='warn'"
   ]
  },
  {
   "cell_type": "markdown",
   "metadata": {
    "deletable": true,
    "editable": true
   },
   "source": [
    "## Configuración\n",
    "### Conexión al DWH"
   ]
  },
  {
   "cell_type": "code",
   "execution_count": 882,
   "metadata": {
    "collapsed": true,
    "deletable": true,
    "editable": true
   },
   "outputs": [],
   "source": [
    "# Base de datos histórica\n",
    "dbname_hist = \"ratio_dev\"\n",
    "dbhost_hist = \"localhost\"\n",
    "dbport_hist = 3306\n",
    "dbuser_hist = \"root\"\n",
    "dbpass_hist = \"root\"\n",
    "device_events_tbl = \"device_events\"\n",
    "device_event_sensors_tbl = \"device_event_sensors\"\n",
    "device_modules_tbl = \"device_modules\""
   ]
  },
  {
   "cell_type": "markdown",
   "metadata": {
    "deletable": true,
    "editable": true
   },
   "source": [
    "### Variables de configuración"
   ]
  },
  {
   "cell_type": "code",
   "execution_count": 883,
   "metadata": {
    "collapsed": true,
    "deletable": true,
    "editable": true
   },
   "outputs": [],
   "source": [
    "device_id = 5                   # Device id donde esta el modulo a entrenar\n",
    "lux_module_id = 51              # Modulo a entrenar\n",
    "\n",
    "# Variables de tipos de sensores\n",
    "ACS_SENSOR_TYPE = 1\n",
    "LIGHT_SENSOR_TYPE = 2\n",
    "MOVEMENT_SENSOR_TYPE = 3\n",
    "SOUND_SENSOR_TYPE = 4\n",
    "TEMP_SENSOR_TYPE = 5"
   ]
  },
  {
   "cell_type": "markdown",
   "metadata": {
    "deletable": true,
    "editable": true
   },
   "source": [
    "### Funciones"
   ]
  },
  {
   "cell_type": "code",
   "execution_count": 884,
   "metadata": {
    "collapsed": true,
    "deletable": true,
    "editable": true
   },
   "outputs": [],
   "source": [
    "# Funcion para pasar de sensor_id a nombre\n",
    "def sensorIdToStr(sensor_id):\n",
    "    return {\n",
    "        ACS_SENSOR_TYPE: 'LUX_ACS',\n",
    "        LIGHT_SENSOR_TYPE: 'LIGHT',\n",
    "        MOVEMENT_SENSOR_TYPE: 'MOVEMENT',\n",
    "        SOUND_SENSOR_TYPE: 'SOUND',\n",
    "        TEMP_SENSOR_TYPE: 'TEMPERATURE'\n",
    "    }.get(sensor_id, sensor_id)"
   ]
  },
  {
   "cell_type": "markdown",
   "metadata": {
    "deletable": true,
    "editable": true
   },
   "source": [
    "## Extracción de datos del DWH"
   ]
  },
  {
   "cell_type": "code",
   "execution_count": 885,
   "metadata": {
    "collapsed": false,
    "deletable": true,
    "editable": true
   },
   "outputs": [
    {
     "name": "stdout",
     "output_type": "stream",
     "text": [
      "CPU times: user 634 ms, sys: 5.13 ms, total: 640 ms\n",
      "Wall time: 1.09 s\n"
     ]
    }
   ],
   "source": [
    "# Estrayendo valores de la tabla de eventos\n",
    "conn = MySQLdb.connect(host=dbhost_hist, port=dbport_hist, user=dbuser_hist, passwd=dbpass_hist, db=dbname_hist)\n",
    "from_stm = 'FROM ' + device_events_tbl + ' de LEFT JOIN ' + device_event_sensors_tbl + ' des ON de.id=des.device_event_id '\n",
    "where_stm = 'WHERE device_id = ' + str(device_id) + ' AND module_id = ' + str(lux_module_id) + ' AND ts BETWEEN DATE_SUB(NOW(), INTERVAL 24 DAY) AND NOW()'\n",
    "%time df_events_qry = pd.read_sql('select ts, state, sensor_type_id, value ' + from_stm + where_stm, con=conn)\n",
    "conn.close()"
   ]
  },
  {
   "cell_type": "code",
   "execution_count": 886,
   "metadata": {
    "collapsed": false,
    "deletable": true,
    "editable": true
   },
   "outputs": [
    {
     "data": {
      "text/html": [
       "<div>\n",
       "<table border=\"1\" class=\"dataframe\">\n",
       "  <thead>\n",
       "    <tr style=\"text-align: right;\">\n",
       "      <th></th>\n",
       "      <th>ts</th>\n",
       "      <th>state</th>\n",
       "      <th>sensor_type_id</th>\n",
       "      <th>value</th>\n",
       "    </tr>\n",
       "  </thead>\n",
       "  <tbody>\n",
       "    <tr>\n",
       "      <th>0</th>\n",
       "      <td>2017-10-23 14:21:21</td>\n",
       "      <td>0</td>\n",
       "      <td>1</td>\n",
       "      <td>0.0037</td>\n",
       "    </tr>\n",
       "    <tr>\n",
       "      <th>1</th>\n",
       "      <td>2017-10-23 14:21:21</td>\n",
       "      <td>0</td>\n",
       "      <td>3</td>\n",
       "      <td>0.0000</td>\n",
       "    </tr>\n",
       "    <tr>\n",
       "      <th>2</th>\n",
       "      <td>2017-10-23 14:21:21</td>\n",
       "      <td>0</td>\n",
       "      <td>4</td>\n",
       "      <td>32.8133</td>\n",
       "    </tr>\n",
       "    <tr>\n",
       "      <th>3</th>\n",
       "      <td>2017-10-23 14:21:21</td>\n",
       "      <td>0</td>\n",
       "      <td>2</td>\n",
       "      <td>249.5600</td>\n",
       "    </tr>\n",
       "    <tr>\n",
       "      <th>4</th>\n",
       "      <td>2017-10-23 14:22:21</td>\n",
       "      <td>0</td>\n",
       "      <td>1</td>\n",
       "      <td>0.0055</td>\n",
       "    </tr>\n",
       "  </tbody>\n",
       "</table>\n",
       "</div>"
      ],
      "text/plain": [
       "                   ts  state  sensor_type_id     value\n",
       "0 2017-10-23 14:21:21      0               1    0.0037\n",
       "1 2017-10-23 14:21:21      0               3    0.0000\n",
       "2 2017-10-23 14:21:21      0               4   32.8133\n",
       "3 2017-10-23 14:21:21      0               2  249.5600\n",
       "4 2017-10-23 14:22:21      0               1    0.0055"
      ]
     },
     "execution_count": 886,
     "metadata": {},
     "output_type": "execute_result"
    }
   ],
   "source": [
    "df_events_qry.head(5)"
   ]
  },
  {
   "cell_type": "markdown",
   "metadata": {
    "deletable": true,
    "editable": true
   },
   "source": [
    "### Generación de dataset para entrenamiento"
   ]
  },
  {
   "cell_type": "code",
   "execution_count": 887,
   "metadata": {
    "collapsed": false,
    "deletable": true,
    "editable": true
   },
   "outputs": [],
   "source": [
    "# Se elininan los eventos de estado sin sensado\n",
    "df_events_qry.dropna(inplace=True)"
   ]
  },
  {
   "cell_type": "code",
   "execution_count": 888,
   "metadata": {
    "collapsed": true,
    "deletable": true,
    "editable": true
   },
   "outputs": [],
   "source": [
    "# Se \"aplanan\" los eventos con una tabla pivot sobre la columna sensor_type_id\n",
    "df_events = df_events_qry.pivot_table(index=['ts','state'], columns='sensor_type_id', values='value', aggfunc=np.mean)\n",
    "# Se elimina el multiindex de columnas generado por pivot_table\n",
    "df_events = df_events.reset_index().rename_axis(None, axis=1)\n",
    "# Se renombran las columnas\n",
    "df_events.rename(columns={'ts': 'TIMESTAMP', 'state': 'LUX_ON'},inplace=True)\n",
    "df_events.columns = [ sensorIdToStr(colname) for colname in df_events.columns ]"
   ]
  },
  {
   "cell_type": "code",
   "execution_count": 889,
   "metadata": {
    "collapsed": false,
    "deletable": true,
    "editable": true,
    "scrolled": true
   },
   "outputs": [
    {
     "data": {
      "text/html": [
       "<div>\n",
       "<table border=\"1\" class=\"dataframe\">\n",
       "  <thead>\n",
       "    <tr style=\"text-align: right;\">\n",
       "      <th></th>\n",
       "      <th>TIMESTAMP</th>\n",
       "      <th>LUX_ON</th>\n",
       "      <th>LUX_ACS</th>\n",
       "      <th>LIGHT</th>\n",
       "      <th>MOVEMENT</th>\n",
       "      <th>SOUND</th>\n",
       "    </tr>\n",
       "  </thead>\n",
       "  <tbody>\n",
       "    <tr>\n",
       "      <th>0</th>\n",
       "      <td>2017-10-23 14:21:21</td>\n",
       "      <td>0</td>\n",
       "      <td>0.0037</td>\n",
       "      <td>249.5600</td>\n",
       "      <td>0.0</td>\n",
       "      <td>32.8133</td>\n",
       "    </tr>\n",
       "    <tr>\n",
       "      <th>1</th>\n",
       "      <td>2017-10-23 14:22:21</td>\n",
       "      <td>0</td>\n",
       "      <td>0.0055</td>\n",
       "      <td>250.8667</td>\n",
       "      <td>0.0</td>\n",
       "      <td>32.8267</td>\n",
       "    </tr>\n",
       "    <tr>\n",
       "      <th>2</th>\n",
       "      <td>2017-10-23 14:23:21</td>\n",
       "      <td>0</td>\n",
       "      <td>0.0018</td>\n",
       "      <td>249.4800</td>\n",
       "      <td>0.0</td>\n",
       "      <td>32.8933</td>\n",
       "    </tr>\n",
       "    <tr>\n",
       "      <th>3</th>\n",
       "      <td>2017-10-23 14:24:21</td>\n",
       "      <td>0</td>\n",
       "      <td>0.0037</td>\n",
       "      <td>247.3467</td>\n",
       "      <td>0.0</td>\n",
       "      <td>32.8533</td>\n",
       "    </tr>\n",
       "    <tr>\n",
       "      <th>4</th>\n",
       "      <td>2017-10-23 14:25:21</td>\n",
       "      <td>0</td>\n",
       "      <td>0.0055</td>\n",
       "      <td>246.0533</td>\n",
       "      <td>0.0</td>\n",
       "      <td>32.8800</td>\n",
       "    </tr>\n",
       "  </tbody>\n",
       "</table>\n",
       "</div>"
      ],
      "text/plain": [
       "            TIMESTAMP  LUX_ON  LUX_ACS     LIGHT  MOVEMENT    SOUND\n",
       "0 2017-10-23 14:21:21       0   0.0037  249.5600       0.0  32.8133\n",
       "1 2017-10-23 14:22:21       0   0.0055  250.8667       0.0  32.8267\n",
       "2 2017-10-23 14:23:21       0   0.0018  249.4800       0.0  32.8933\n",
       "3 2017-10-23 14:24:21       0   0.0037  247.3467       0.0  32.8533\n",
       "4 2017-10-23 14:25:21       0   0.0055  246.0533       0.0  32.8800"
      ]
     },
     "execution_count": 889,
     "metadata": {},
     "output_type": "execute_result"
    }
   ],
   "source": [
    "df_events.head(5)"
   ]
  },
  {
   "cell_type": "markdown",
   "metadata": {
    "deletable": true,
    "editable": true
   },
   "source": [
    "### Chequeo de valores null"
   ]
  },
  {
   "cell_type": "code",
   "execution_count": 890,
   "metadata": {
    "collapsed": false,
    "deletable": true,
    "editable": true
   },
   "outputs": [
    {
     "data": {
      "text/plain": [
       "TIMESTAMP    False\n",
       "LUX_ON       False\n",
       "LUX_ACS       True\n",
       "LIGHT         True\n",
       "MOVEMENT     False\n",
       "SOUND         True\n",
       "dtype: bool"
      ]
     },
     "execution_count": 890,
     "metadata": {},
     "output_type": "execute_result"
    }
   ],
   "source": [
    "# columnas con null\n",
    "df_events.isnull().any()"
   ]
  },
  {
   "cell_type": "markdown",
   "metadata": {
    "deletable": true,
    "editable": true
   },
   "source": [
    "#### Corrigiendo valores null\n",
    "Podríamos utilizar diferentes opciones:\n",
    "- pad: se rellena con el último valor\n",
    "- interpolate: se rellena con valores interpolados de la columna (quizá el más apropiado para valores continuos). La interpolacion puede ser:\n",
    "    - Lineal\n",
    "    - Cuadratica\n",
    "    - Cubica\n",
    "- escalar: se rellena con un número específico"
   ]
  },
  {
   "cell_type": "markdown",
   "metadata": {
    "deletable": true,
    "editable": true
   },
   "source": [
    "#### Verificación final de valores null"
   ]
  },
  {
   "cell_type": "code",
   "execution_count": 891,
   "metadata": {
    "collapsed": false,
    "deletable": true,
    "editable": true
   },
   "outputs": [
    {
     "data": {
      "text/plain": [
       "False"
      ]
     },
     "execution_count": 891,
     "metadata": {},
     "output_type": "execute_result"
    }
   ],
   "source": [
    "df_events.dropna(inplace=True)\n",
    "df_events.isnull().values.any()"
   ]
  },
  {
   "cell_type": "markdown",
   "metadata": {
    "deletable": true,
    "editable": true
   },
   "source": [
    "### Verificando dataset completo\n",
    "Para analizar un comportamiento predictivo y desarrollar un modelo es necesario contar con un dataset completo que no tenga saltos en las mediciones. Por lo tanto, se debe verificar que cuente con datos en todos los minutos del rango obtenido."
   ]
  },
  {
   "cell_type": "code",
   "execution_count": 892,
   "metadata": {
    "collapsed": true,
    "deletable": true,
    "editable": true
   },
   "outputs": [],
   "source": [
    "### TODO\n",
    "# rellenar huecos de Timestamp\n",
    "# promediar rows con mismo minuto\n",
    "# rellenar mediciones agregadas con padding"
   ]
  },
  {
   "cell_type": "markdown",
   "metadata": {
    "deletable": true,
    "editable": true
   },
   "source": [
    "## Limpieza del dataset\n",
    "Debido a que no se necesitan todas las columnas para realizar el entrenamiento de la RNA, se eliminan las que no representen relación con lo que se busca predecir.\n",
    "- LUX_ACS\n",
    "\n",
    "Las mediciones de LUX_ACS pueden ignorarse para este tipo de entrenamiento."
   ]
  },
  {
   "cell_type": "code",
   "execution_count": 893,
   "metadata": {
    "collapsed": true,
    "deletable": true,
    "editable": true
   },
   "outputs": [],
   "source": [
    "del df_events['LUX_ACS']"
   ]
  },
  {
   "cell_type": "markdown",
   "metadata": {
    "deletable": true,
    "editable": true
   },
   "source": [
    "### Ajuste y transformación de variables\n",
    "Se aplican ajustes y correcciones a las variables del dataset"
   ]
  },
  {
   "cell_type": "code",
   "execution_count": 894,
   "metadata": {
    "collapsed": true,
    "deletable": true,
    "editable": true
   },
   "outputs": [],
   "source": [
    "df_events['MOVEMENT'] = df_events.MOVEMENT.astype(int)"
   ]
  },
  {
   "cell_type": "markdown",
   "metadata": {},
   "source": [
    "Cuando se utilizan datos verdaderos (no del dataset simulado), el estado de lux puede ser 0, 1, 2 o 3. Los que tienen estado dos, a los efectos de este análisis, cuentan como 0. Los que tienen valor 3, cuentan como 1. Tengo que corregir esto a mano."
   ]
  },
  {
   "cell_type": "code",
   "execution_count": 895,
   "metadata": {
    "collapsed": false
   },
   "outputs": [],
   "source": [
    "df_events['LUX_ON'] = df_events['LUX_ON'].replace(2, 0)\n",
    "df_events['LUX_ON'] = df_events['LUX_ON'].replace(3, 1)"
   ]
  },
  {
   "cell_type": "markdown",
   "metadata": {
    "deletable": true,
    "editable": true
   },
   "source": [
    "Se generan variables de la dimensión TIEMPO"
   ]
  },
  {
   "cell_type": "code",
   "execution_count": 896,
   "metadata": {
    "collapsed": false,
    "deletable": true,
    "editable": true
   },
   "outputs": [],
   "source": [
    "df_events['WEEKDAY'] = df_events['TIMESTAMP'].dt.weekday\n",
    "df_events['HOUR'] = df_events['TIMESTAMP'].dt.hour"
   ]
  },
  {
   "cell_type": "markdown",
   "metadata": {
    "collapsed": true,
    "deletable": true,
    "editable": true
   },
   "source": [
    "### Normalización de los datos\n",
    "Para normalizar, voy a definir mi propia función, ya que necesito repetir el proceso cuando haga pruebas al final de este ejercicio (lo que sería equivalente a recibir una consulta en el sistema en tiempo real).\n",
    "\n",
    "La normalización se realiza extrayendo los máximos y mínimos del dataset."
   ]
  },
  {
   "cell_type": "code",
   "execution_count": 897,
   "metadata": {
    "collapsed": false
   },
   "outputs": [
    {
     "data": {
      "text/plain": [
       "TIMESTAMP    2017-11-16 13:08:17\n",
       "LUX_ON                         1\n",
       "LIGHT                      10000\n",
       "MOVEMENT                       1\n",
       "SOUND                    310.013\n",
       "WEEKDAY                        6\n",
       "HOUR                          23\n",
       "dtype: object"
      ]
     },
     "execution_count": 897,
     "metadata": {},
     "output_type": "execute_result"
    }
   ],
   "source": [
    "df_events.max()"
   ]
  },
  {
   "cell_type": "code",
   "execution_count": 898,
   "metadata": {
    "collapsed": false,
    "deletable": true,
    "editable": true,
    "scrolled": true
   },
   "outputs": [],
   "source": [
    "minMax = { 'light': [df_events.min()[2], df_events.max()[2]], \n",
    "           'sound': [df_events.min()[4], df_events.max()[4]],\n",
    "           'day': [ 0, 6 ],\n",
    "           'hour': [ 0, 23 ]\n",
    "         }"
   ]
  },
  {
   "cell_type": "markdown",
   "metadata": {},
   "source": [
    "Luego defino funciones para normalizar y desnormalizar, que utilizan los mínimos y máximos guardados anteriormente.\n",
    "\n",
    "**IMPORTANTE**: Esta función normaliza valores al rango [-1, -1]. Es necesario este rango (en vez del default [0, 1]) porque más adelante se agregan variables de cambio de movimiento que pueden tener como valor -1, 0 o 1, entonces ya no hace falta normalizarlas. Por otro lado, tampoco va a hacer falta \"desnormalizar\" el resultado."
   ]
  },
  {
   "cell_type": "code",
   "execution_count": 899,
   "metadata": {
    "collapsed": false
   },
   "outputs": [],
   "source": [
    "def normalizar(min, max, value):\n",
    "    return 2*(value - min)/(max - min) - 1\n",
    "\n",
    "def desnormalizar(min, max, value):\n",
    "    return (value+1)*(max - min)/2 + min\n",
    "    "
   ]
  },
  {
   "cell_type": "markdown",
   "metadata": {},
   "source": [
    "Normalizo todos los datos que no están todavía entre 0 y 1"
   ]
  },
  {
   "cell_type": "code",
   "execution_count": 900,
   "metadata": {
    "collapsed": false,
    "deletable": true,
    "editable": true
   },
   "outputs": [],
   "source": [
    "df_events['LIGHT'] = normalizar(minMax['light'][0], minMax['light'][1], df_events['LIGHT'])\n",
    "df_events['SOUND'] = normalizar(minMax['sound'][0], minMax['sound'][1], df_events['SOUND'])\n",
    "df_events['WEEKDAY'] = normalizar(minMax['day'][0], minMax['day'][1], df_events['WEEKDAY'])\n",
    "df_events['HOUR'] = normalizar(minMax['hour'][0], minMax['hour'][1], df_events['HOUR'])"
   ]
  },
  {
   "cell_type": "code",
   "execution_count": 901,
   "metadata": {
    "collapsed": false,
    "deletable": true,
    "editable": true
   },
   "outputs": [
    {
     "data": {
      "text/plain": [
       "TIMESTAMP    2017-11-16 13:08:17\n",
       "LUX_ON                         1\n",
       "LIGHT                          1\n",
       "MOVEMENT                       1\n",
       "SOUND                          1\n",
       "WEEKDAY                        1\n",
       "HOUR                           1\n",
       "dtype: object"
      ]
     },
     "execution_count": 901,
     "metadata": {},
     "output_type": "execute_result"
    }
   ],
   "source": [
    "df_events.max()"
   ]
  },
  {
   "cell_type": "markdown",
   "metadata": {},
   "source": [
    "Si desnormalizo esos valores, veo que coinciden con los valores originales:"
   ]
  },
  {
   "cell_type": "code",
   "execution_count": 902,
   "metadata": {
    "collapsed": false,
    "scrolled": true
   },
   "outputs": [
    {
     "name": "stdout",
     "output_type": "stream",
     "text": [
      "Valores de la primera fila:\n",
      "LIGHT: 249.56\n",
      "Sonido: 32.8133\n",
      "Weekday: 0.0\n",
      "Hour: 14.0\n"
     ]
    }
   ],
   "source": [
    "print(\"Valores de la primera fila:\")\n",
    "print(\"LIGHT:\", desnormalizar(minMax['light'][0], minMax['light'][1], df_events.iloc[0][2]))\n",
    "print(\"Sonido:\", desnormalizar(minMax['sound'][0], minMax['sound'][1], df_events.iloc[0][4]))\n",
    "print(\"Weekday:\", desnormalizar(minMax['day'][0], minMax['day'][1], df_events.iloc[0][5]))\n",
    "print(\"Hour:\", desnormalizar(minMax['hour'][0], minMax['hour'][1], df_events.iloc[0][6]))"
   ]
  },
  {
   "cell_type": "markdown",
   "metadata": {
    "collapsed": true,
    "deletable": true,
    "editable": true
   },
   "source": [
    "## Análisis Exploratorio inicial\n",
    "\n",
    "### Función de correlación\n",
    "Hace una matriz de correlación entre las variables. Cuanto más claro el color, mayor correlación entre las variables. La diagonal debería ser amarilla, y representa la correlación de una variable con sí misma.\n",
    "\n",
    "Esta función tiene dos entradas:\n",
    "1. El dataframe panda a analizar\n",
    "2. El tamáño de gráfico que se quiere imprimir"
   ]
  },
  {
   "cell_type": "code",
   "execution_count": 903,
   "metadata": {
    "collapsed": true,
    "deletable": true,
    "editable": true
   },
   "outputs": [],
   "source": [
    "def plot_corr(df, size=6):\n",
    "    corr = df.corr()    # data frame correlation function\n",
    "    fig, ax = plt.subplots(figsize=(size, size))\n",
    "    ax.matshow(corr)   # color code the rectangles by correlation value\n",
    "    plt.xticks(range(len(corr.columns)), corr.columns)  # draw x tick marks\n",
    "    plt.yticks(range(len(corr.columns)), corr.columns)  # draw y tick marks"
   ]
  },
  {
   "cell_type": "code",
   "execution_count": 904,
   "metadata": {
    "collapsed": false,
    "deletable": true,
    "editable": true
   },
   "outputs": [
    {
     "data": {
      "image/png": "[encoded data removed]",
      "text/plain": [
       "<matplotlib.figure.Figure at 0x7f95467fca58>"
      ]
     },
     "metadata": {},
     "output_type": "display_data"
    }
   ],
   "source": [
    "plot_corr(df_events)"
   ]
  },
  {
   "cell_type": "code",
   "execution_count": 905,
   "metadata": {
    "collapsed": false,
    "deletable": true,
    "editable": true
   },
   "outputs": [
    {
     "data": {
      "text/html": [
       "\n",
       "        <style  type=\"text/css\" >\n",
       "        \n",
       "        \n",
       "            #T_8b705ed6_caf2_11e7_b5d1_0800271a8003row0_col0 {\n",
       "            \n",
       "                width:  10em;\n",
       "            \n",
       "                 height:  80%;\n",
       "            \n",
       "                background:  linear-gradient(90deg,#d65f5f 100.0%, transparent 0%);\n",
       "            \n",
       "            }\n",
       "        \n",
       "            #T_8b705ed6_caf2_11e7_b5d1_0800271a8003row1_col0 {\n",
       "            \n",
       "                width:  10em;\n",
       "            \n",
       "                 height:  80%;\n",
       "            \n",
       "                background:  linear-gradient(90deg,#d65f5f 15.513186592760876%, transparent 0%);\n",
       "            \n",
       "            }\n",
       "        \n",
       "            #T_8b705ed6_caf2_11e7_b5d1_0800271a8003row2_col0 {\n",
       "            \n",
       "                width:  10em;\n",
       "            \n",
       "                 height:  80%;\n",
       "            \n",
       "                background:  linear-gradient(90deg,#d65f5f 51.18647895005008%, transparent 0%);\n",
       "            \n",
       "            }\n",
       "        \n",
       "            #T_8b705ed6_caf2_11e7_b5d1_0800271a8003row3_col0 {\n",
       "            \n",
       "                width:  10em;\n",
       "            \n",
       "                 height:  80%;\n",
       "            \n",
       "                background:  linear-gradient(90deg,#d65f5f 29.33229852773371%, transparent 0%);\n",
       "            \n",
       "            }\n",
       "        \n",
       "            #T_8b705ed6_caf2_11e7_b5d1_0800271a8003row4_col0 {\n",
       "            \n",
       "                width:  10em;\n",
       "            \n",
       "                 height:  80%;\n",
       "            \n",
       "            }\n",
       "        \n",
       "            #T_8b705ed6_caf2_11e7_b5d1_0800271a8003row5_col0 {\n",
       "            \n",
       "                width:  10em;\n",
       "            \n",
       "                 height:  80%;\n",
       "            \n",
       "                background:  linear-gradient(90deg,#d65f5f 17.968535886882588%, transparent 0%);\n",
       "            \n",
       "            }\n",
       "        \n",
       "        </style>\n",
       "\n",
       "        <table id=\"T_8b705ed6_caf2_11e7_b5d1_0800271a8003\" None>\n",
       "        \n",
       "\n",
       "        <thead>\n",
       "            \n",
       "            <tr>\n",
       "                \n",
       "                \n",
       "                <th class=\"blank level0\" >\n",
       "                  \n",
       "                \n",
       "                \n",
       "                \n",
       "                <th class=\"col_heading level0 col0\" colspan=1>\n",
       "                  LUX_ON\n",
       "                \n",
       "                \n",
       "                \n",
       "                <th class=\"col_heading level0 col1\" colspan=1>\n",
       "                  LIGHT\n",
       "                \n",
       "                \n",
       "                \n",
       "                <th class=\"col_heading level0 col2\" colspan=1>\n",
       "                  MOVEMENT\n",
       "                \n",
       "                \n",
       "                \n",
       "                <th class=\"col_heading level0 col3\" colspan=1>\n",
       "                  SOUND\n",
       "                \n",
       "                \n",
       "                \n",
       "                <th class=\"col_heading level0 col4\" colspan=1>\n",
       "                  WEEKDAY\n",
       "                \n",
       "                \n",
       "                \n",
       "                <th class=\"col_heading level0 col5\" colspan=1>\n",
       "                  HOUR\n",
       "                \n",
       "                \n",
       "            </tr>\n",
       "            \n",
       "        </thead>\n",
       "        <tbody>\n",
       "            \n",
       "            <tr>\n",
       "                \n",
       "                \n",
       "                <th id=\"T_8b705ed6_caf2_11e7_b5d1_0800271a8003\"\n",
       "                 class=\"row_heading level0 row0\" rowspan=1>\n",
       "                    LUX_ON\n",
       "                \n",
       "                \n",
       "                \n",
       "                <td id=\"T_8b705ed6_caf2_11e7_b5d1_0800271a8003row0_col0\"\n",
       "                 class=\"data row0 col0\" >\n",
       "                    1\n",
       "                \n",
       "                \n",
       "                \n",
       "                <td id=\"T_8b705ed6_caf2_11e7_b5d1_0800271a8003row0_col1\"\n",
       "                 class=\"data row0 col1\" >\n",
       "                    0.0827305\n",
       "                \n",
       "                \n",
       "                \n",
       "                <td id=\"T_8b705ed6_caf2_11e7_b5d1_0800271a8003row0_col2\"\n",
       "                 class=\"data row0 col2\" >\n",
       "                    0.470034\n",
       "                \n",
       "                \n",
       "                \n",
       "                <td id=\"T_8b705ed6_caf2_11e7_b5d1_0800271a8003row0_col3\"\n",
       "                 class=\"data row0 col3\" >\n",
       "                    0.232764\n",
       "                \n",
       "                \n",
       "                \n",
       "                <td id=\"T_8b705ed6_caf2_11e7_b5d1_0800271a8003row0_col4\"\n",
       "                 class=\"data row0 col4\" >\n",
       "                    -0.0856954\n",
       "                \n",
       "                \n",
       "                \n",
       "                <td id=\"T_8b705ed6_caf2_11e7_b5d1_0800271a8003row0_col5\"\n",
       "                 class=\"data row0 col5\" >\n",
       "                    0.109388\n",
       "                \n",
       "                \n",
       "            </tr>\n",
       "            \n",
       "            <tr>\n",
       "                \n",
       "                \n",
       "                <th id=\"T_8b705ed6_caf2_11e7_b5d1_0800271a8003\"\n",
       "                 class=\"row_heading level0 row1\" rowspan=1>\n",
       "                    LIGHT\n",
       "                \n",
       "                \n",
       "                \n",
       "                <td id=\"T_8b705ed6_caf2_11e7_b5d1_0800271a8003row1_col0\"\n",
       "                 class=\"data row1 col0\" >\n",
       "                    0.0827305\n",
       "                \n",
       "                \n",
       "                \n",
       "                <td id=\"T_8b705ed6_caf2_11e7_b5d1_0800271a8003row1_col1\"\n",
       "                 class=\"data row1 col1\" >\n",
       "                    1\n",
       "                \n",
       "                \n",
       "                \n",
       "                <td id=\"T_8b705ed6_caf2_11e7_b5d1_0800271a8003row1_col2\"\n",
       "                 class=\"data row1 col2\" >\n",
       "                    0.115445\n",
       "                \n",
       "                \n",
       "                \n",
       "                <td id=\"T_8b705ed6_caf2_11e7_b5d1_0800271a8003row1_col3\"\n",
       "                 class=\"data row1 col3\" >\n",
       "                    0.0375422\n",
       "                \n",
       "                \n",
       "                \n",
       "                <td id=\"T_8b705ed6_caf2_11e7_b5d1_0800271a8003row1_col4\"\n",
       "                 class=\"data row1 col4\" >\n",
       "                    0.00968376\n",
       "                \n",
       "                \n",
       "                \n",
       "                <td id=\"T_8b705ed6_caf2_11e7_b5d1_0800271a8003row1_col5\"\n",
       "                 class=\"data row1 col5\" >\n",
       "                    0.0623562\n",
       "                \n",
       "                \n",
       "            </tr>\n",
       "            \n",
       "            <tr>\n",
       "                \n",
       "                \n",
       "                <th id=\"T_8b705ed6_caf2_11e7_b5d1_0800271a8003\"\n",
       "                 class=\"row_heading level0 row2\" rowspan=1>\n",
       "                    MOVEMENT\n",
       "                \n",
       "                \n",
       "                \n",
       "                <td id=\"T_8b705ed6_caf2_11e7_b5d1_0800271a8003row2_col0\"\n",
       "                 class=\"data row2 col0\" >\n",
       "                    0.470034\n",
       "                \n",
       "                \n",
       "                \n",
       "                <td id=\"T_8b705ed6_caf2_11e7_b5d1_0800271a8003row2_col1\"\n",
       "                 class=\"data row2 col1\" >\n",
       "                    0.115445\n",
       "                \n",
       "                \n",
       "                \n",
       "                <td id=\"T_8b705ed6_caf2_11e7_b5d1_0800271a8003row2_col2\"\n",
       "                 class=\"data row2 col2\" >\n",
       "                    1\n",
       "                \n",
       "                \n",
       "                \n",
       "                <td id=\"T_8b705ed6_caf2_11e7_b5d1_0800271a8003row2_col3\"\n",
       "                 class=\"data row2 col3\" >\n",
       "                    0.268008\n",
       "                \n",
       "                \n",
       "                \n",
       "                <td id=\"T_8b705ed6_caf2_11e7_b5d1_0800271a8003row2_col4\"\n",
       "                 class=\"data row2 col4\" >\n",
       "                    -0.0973363\n",
       "                \n",
       "                \n",
       "                \n",
       "                <td id=\"T_8b705ed6_caf2_11e7_b5d1_0800271a8003row2_col5\"\n",
       "                 class=\"data row2 col5\" >\n",
       "                    0.162047\n",
       "                \n",
       "                \n",
       "            </tr>\n",
       "            \n",
       "            <tr>\n",
       "                \n",
       "                \n",
       "                <th id=\"T_8b705ed6_caf2_11e7_b5d1_0800271a8003\"\n",
       "                 class=\"row_heading level0 row3\" rowspan=1>\n",
       "                    SOUND\n",
       "                \n",
       "                \n",
       "                \n",
       "                <td id=\"T_8b705ed6_caf2_11e7_b5d1_0800271a8003row3_col0\"\n",
       "                 class=\"data row3 col0\" >\n",
       "                    0.232764\n",
       "                \n",
       "                \n",
       "                \n",
       "                <td id=\"T_8b705ed6_caf2_11e7_b5d1_0800271a8003row3_col1\"\n",
       "                 class=\"data row3 col1\" >\n",
       "                    0.0375422\n",
       "                \n",
       "                \n",
       "                \n",
       "                <td id=\"T_8b705ed6_caf2_11e7_b5d1_0800271a8003row3_col2\"\n",
       "                 class=\"data row3 col2\" >\n",
       "                    0.268008\n",
       "                \n",
       "                \n",
       "                \n",
       "                <td id=\"T_8b705ed6_caf2_11e7_b5d1_0800271a8003row3_col3\"\n",
       "                 class=\"data row3 col3\" >\n",
       "                    1\n",
       "                \n",
       "                \n",
       "                \n",
       "                <td id=\"T_8b705ed6_caf2_11e7_b5d1_0800271a8003row3_col4\"\n",
       "                 class=\"data row3 col4\" >\n",
       "                    -0.0380311\n",
       "                \n",
       "                \n",
       "                \n",
       "                <td id=\"T_8b705ed6_caf2_11e7_b5d1_0800271a8003row3_col5\"\n",
       "                 class=\"data row3 col5\" >\n",
       "                    0.0897007\n",
       "                \n",
       "                \n",
       "            </tr>\n",
       "            \n",
       "            <tr>\n",
       "                \n",
       "                \n",
       "                <th id=\"T_8b705ed6_caf2_11e7_b5d1_0800271a8003\"\n",
       "                 class=\"row_heading level0 row4\" rowspan=1>\n",
       "                    WEEKDAY\n",
       "                \n",
       "                \n",
       "                \n",
       "                <td id=\"T_8b705ed6_caf2_11e7_b5d1_0800271a8003row4_col0\"\n",
       "                 class=\"data row4 col0\" >\n",
       "                    -0.0856954\n",
       "                \n",
       "                \n",
       "                \n",
       "                <td id=\"T_8b705ed6_caf2_11e7_b5d1_0800271a8003row4_col1\"\n",
       "                 class=\"data row4 col1\" >\n",
       "                    0.00968376\n",
       "                \n",
       "                \n",
       "                \n",
       "                <td id=\"T_8b705ed6_caf2_11e7_b5d1_0800271a8003row4_col2\"\n",
       "                 class=\"data row4 col2\" >\n",
       "                    -0.0973363\n",
       "                \n",
       "                \n",
       "                \n",
       "                <td id=\"T_8b705ed6_caf2_11e7_b5d1_0800271a8003row4_col3\"\n",
       "                 class=\"data row4 col3\" >\n",
       "                    -0.0380311\n",
       "                \n",
       "                \n",
       "                \n",
       "                <td id=\"T_8b705ed6_caf2_11e7_b5d1_0800271a8003row4_col4\"\n",
       "                 class=\"data row4 col4\" >\n",
       "                    1\n",
       "                \n",
       "                \n",
       "                \n",
       "                <td id=\"T_8b705ed6_caf2_11e7_b5d1_0800271a8003row4_col5\"\n",
       "                 class=\"data row4 col5\" >\n",
       "                    -0.0693132\n",
       "                \n",
       "                \n",
       "            </tr>\n",
       "            \n",
       "            <tr>\n",
       "                \n",
       "                \n",
       "                <th id=\"T_8b705ed6_caf2_11e7_b5d1_0800271a8003\"\n",
       "                 class=\"row_heading level0 row5\" rowspan=1>\n",
       "                    HOUR\n",
       "                \n",
       "                \n",
       "                \n",
       "                <td id=\"T_8b705ed6_caf2_11e7_b5d1_0800271a8003row5_col0\"\n",
       "                 class=\"data row5 col0\" >\n",
       "                    0.109388\n",
       "                \n",
       "                \n",
       "                \n",
       "                <td id=\"T_8b705ed6_caf2_11e7_b5d1_0800271a8003row5_col1\"\n",
       "                 class=\"data row5 col1\" >\n",
       "                    0.0623562\n",
       "                \n",
       "                \n",
       "                \n",
       "                <td id=\"T_8b705ed6_caf2_11e7_b5d1_0800271a8003row5_col2\"\n",
       "                 class=\"data row5 col2\" >\n",
       "                    0.162047\n",
       "                \n",
       "                \n",
       "                \n",
       "                <td id=\"T_8b705ed6_caf2_11e7_b5d1_0800271a8003row5_col3\"\n",
       "                 class=\"data row5 col3\" >\n",
       "                    0.0897007\n",
       "                \n",
       "                \n",
       "                \n",
       "                <td id=\"T_8b705ed6_caf2_11e7_b5d1_0800271a8003row5_col4\"\n",
       "                 class=\"data row5 col4\" >\n",
       "                    -0.0693132\n",
       "                \n",
       "                \n",
       "                \n",
       "                <td id=\"T_8b705ed6_caf2_11e7_b5d1_0800271a8003row5_col5\"\n",
       "                 class=\"data row5 col5\" >\n",
       "                    1\n",
       "                \n",
       "                \n",
       "            </tr>\n",
       "            \n",
       "        </tbody>\n",
       "        </table>\n",
       "        "
      ],
      "text/plain": [
       "<pandas.formats.style.Styler at 0x7f9549c74128>"
      ]
     },
     "execution_count": 905,
     "metadata": {},
     "output_type": "execute_result"
    }
   ],
   "source": [
    "df_events.corr().style.bar(subset=['LUX_ON'], color='#d65f5f', axis=0)"
   ]
  },
  {
   "cell_type": "markdown",
   "metadata": {
    "deletable": true,
    "editable": true
   },
   "source": [
    "Debido a que no se puede ver una relación fuerte entre LUX_ON y el resto de los atributos, se procede a construir otro dataset a partir del obtenido con variables más significativas.\n",
    "\n",
    "### Generación de nuevas variables\n",
    "Se analizará la relación del estado de la luz (LUX_ON) con variables dependientes del dataset generado. El objetivo es intentar representar relaciones más adecuadas con el entorno tanto a nivel espacial como temporal.\n",
    "Las mediciones (facts) a construir son:\n",
    "- LIGHT_1m    medición de luz en el último minuto (sin contar la medición actual)\n",
    "- MOVEMENT_1m     proporción del sensor PIR activado en el último minuto\n",
    "- MOVEMENT_5m     proporción del sensor PIR activado en los últimos 5 minutos\n",
    "- MOVEMENT_15m    proporción del sensor PIR activado en los últimos 15 minutos\n",
    "\n",
    "Se sumarán al dataset actual manteniendo las dimensiones y mediciones previas:\n",
    "- WEEKDAY\n",
    "- HOUR\n",
    "- SOUND\n",
    "- MOVEMENT\n",
    "- LIGHT\n",
    "- LUX_ON"
   ]
  },
  {
   "cell_type": "code",
   "execution_count": 906,
   "metadata": {
    "collapsed": false,
    "deletable": true,
    "editable": true
   },
   "outputs": [],
   "source": [
    "df_events['LIGHT_1m'] = df_events.LIGHT.shift(1)\n",
    "df_events['MOVEMENT_CHANGE'] = df_events.MOVEMENT.diff()\n",
    "df_events['MOVEMENT_1m'] = df_events.MOVEMENT.shift(1)\n",
    "df_events['MOVEMENT_5m'] = df_events.MOVEMENT.rolling(5).sum() / 5\n",
    "df_events['MOVEMENT_15m'] = df_events.MOVEMENT.rolling(15).sum() / 15\n",
    "df_events['LUX_SWITCH'] = df_events.LUX_ON.diff()\n",
    "df_events['LIGHT_LAST_STATE'] = df_events.query('LUX_SWITCH != 0').LIGHT_1m\n",
    "df_events['LIGHT_LAST_STATE'] = df_events['LIGHT_LAST_STATE'].fillna(method='pad')\n",
    "df_events.dropna(inplace=True)"
   ]
  },
  {
   "cell_type": "code",
   "execution_count": 907,
   "metadata": {
    "collapsed": false,
    "deletable": true,
    "editable": true,
    "scrolled": true
   },
   "outputs": [
    {
     "data": {
      "image/png": "[encoded data removed]",
      "text/plain": [
       "<matplotlib.figure.Figure at 0x7f9546280e48>"
      ]
     },
     "metadata": {},
     "output_type": "display_data"
    }
   ],
   "source": [
    "plot_corr(df_events,14)"
   ]
  },
  {
   "cell_type": "code",
   "execution_count": 908,
   "metadata": {
    "collapsed": false,
    "deletable": true,
    "editable": true
   },
   "outputs": [
    {
     "data": {
      "text/html": [
       "\n",
       "        <style  type=\"text/css\" >\n",
       "        \n",
       "        \n",
       "            #T_8bd9c9b6_caf2_11e7_b5d1_0800271a8003row0_col0 {\n",
       "            \n",
       "                width:  10em;\n",
       "            \n",
       "                 height:  80%;\n",
       "            \n",
       "                background:  linear-gradient(90deg,#d65f5f 100.0%, transparent 0%);\n",
       "            \n",
       "            }\n",
       "        \n",
       "            #T_8bd9c9b6_caf2_11e7_b5d1_0800271a8003row1_col0 {\n",
       "            \n",
       "                width:  10em;\n",
       "            \n",
       "                 height:  80%;\n",
       "            \n",
       "                background:  linear-gradient(90deg,#d65f5f 16.41897277955187%, transparent 0%);\n",
       "            \n",
       "            }\n",
       "        \n",
       "            #T_8bd9c9b6_caf2_11e7_b5d1_0800271a8003row2_col0 {\n",
       "            \n",
       "                width:  10em;\n",
       "            \n",
       "                 height:  80%;\n",
       "            \n",
       "                background:  linear-gradient(90deg,#d65f5f 52.38682644758989%, transparent 0%);\n",
       "            \n",
       "            }\n",
       "        \n",
       "            #T_8bd9c9b6_caf2_11e7_b5d1_0800271a8003row3_col0 {\n",
       "            \n",
       "                width:  10em;\n",
       "            \n",
       "                 height:  80%;\n",
       "            \n",
       "                background:  linear-gradient(90deg,#d65f5f 30.737043427369418%, transparent 0%);\n",
       "            \n",
       "            }\n",
       "        \n",
       "            #T_8bd9c9b6_caf2_11e7_b5d1_0800271a8003row4_col0 {\n",
       "            \n",
       "                width:  10em;\n",
       "            \n",
       "                 height:  80%;\n",
       "            \n",
       "            }\n",
       "        \n",
       "            #T_8bd9c9b6_caf2_11e7_b5d1_0800271a8003row5_col0 {\n",
       "            \n",
       "                width:  10em;\n",
       "            \n",
       "                 height:  80%;\n",
       "            \n",
       "                background:  linear-gradient(90deg,#d65f5f 19.523271204412193%, transparent 0%);\n",
       "            \n",
       "            }\n",
       "        \n",
       "            #T_8bd9c9b6_caf2_11e7_b5d1_0800271a8003row6_col0 {\n",
       "            \n",
       "                width:  10em;\n",
       "            \n",
       "                 height:  80%;\n",
       "            \n",
       "                background:  linear-gradient(90deg,#d65f5f 16.316040143087136%, transparent 0%);\n",
       "            \n",
       "            }\n",
       "        \n",
       "            #T_8bd9c9b6_caf2_11e7_b5d1_0800271a8003row7_col0 {\n",
       "            \n",
       "                width:  10em;\n",
       "            \n",
       "                 height:  80%;\n",
       "            \n",
       "                background:  linear-gradient(90deg,#d65f5f 11.67020433674526%, transparent 0%);\n",
       "            \n",
       "            }\n",
       "        \n",
       "            #T_8bd9c9b6_caf2_11e7_b5d1_0800271a8003row8_col0 {\n",
       "            \n",
       "                width:  10em;\n",
       "            \n",
       "                 height:  80%;\n",
       "            \n",
       "                background:  linear-gradient(90deg,#d65f5f 51.22750879763176%, transparent 0%);\n",
       "            \n",
       "            }\n",
       "        \n",
       "            #T_8bd9c9b6_caf2_11e7_b5d1_0800271a8003row9_col0 {\n",
       "            \n",
       "                width:  10em;\n",
       "            \n",
       "                 height:  80%;\n",
       "            \n",
       "                background:  linear-gradient(90deg,#d65f5f 53.18519231283867%, transparent 0%);\n",
       "            \n",
       "            }\n",
       "        \n",
       "            #T_8bd9c9b6_caf2_11e7_b5d1_0800271a8003row10_col0 {\n",
       "            \n",
       "                width:  10em;\n",
       "            \n",
       "                 height:  80%;\n",
       "            \n",
       "                background:  linear-gradient(90deg,#d65f5f 52.072513388691696%, transparent 0%);\n",
       "            \n",
       "            }\n",
       "        \n",
       "            #T_8bd9c9b6_caf2_11e7_b5d1_0800271a8003row11_col0 {\n",
       "            \n",
       "                width:  10em;\n",
       "            \n",
       "                 height:  80%;\n",
       "            \n",
       "                background:  linear-gradient(90deg,#d65f5f 23.949577870552318%, transparent 0%);\n",
       "            \n",
       "            }\n",
       "        \n",
       "            #T_8bd9c9b6_caf2_11e7_b5d1_0800271a8003row12_col0 {\n",
       "            \n",
       "                width:  10em;\n",
       "            \n",
       "                 height:  80%;\n",
       "            \n",
       "                background:  linear-gradient(90deg,#d65f5f 14.78745741875291%, transparent 0%);\n",
       "            \n",
       "            }\n",
       "        \n",
       "        </style>\n",
       "\n",
       "        <table id=\"T_8bd9c9b6_caf2_11e7_b5d1_0800271a8003\" None>\n",
       "        \n",
       "\n",
       "        <thead>\n",
       "            \n",
       "            <tr>\n",
       "                \n",
       "                \n",
       "                <th class=\"blank level0\" >\n",
       "                  \n",
       "                \n",
       "                \n",
       "                \n",
       "                <th class=\"col_heading level0 col0\" colspan=1>\n",
       "                  LUX_ON\n",
       "                \n",
       "                \n",
       "                \n",
       "                <th class=\"col_heading level0 col1\" colspan=1>\n",
       "                  LIGHT\n",
       "                \n",
       "                \n",
       "                \n",
       "                <th class=\"col_heading level0 col2\" colspan=1>\n",
       "                  MOVEMENT\n",
       "                \n",
       "                \n",
       "                \n",
       "                <th class=\"col_heading level0 col3\" colspan=1>\n",
       "                  SOUND\n",
       "                \n",
       "                \n",
       "                \n",
       "                <th class=\"col_heading level0 col4\" colspan=1>\n",
       "                  WEEKDAY\n",
       "                \n",
       "                \n",
       "                \n",
       "                <th class=\"col_heading level0 col5\" colspan=1>\n",
       "                  HOUR\n",
       "                \n",
       "                \n",
       "                \n",
       "                <th class=\"col_heading level0 col6\" colspan=1>\n",
       "                  LIGHT_1m\n",
       "                \n",
       "                \n",
       "                \n",
       "                <th class=\"col_heading level0 col7\" colspan=1>\n",
       "                  MOVEMENT_CHANGE\n",
       "                \n",
       "                \n",
       "                \n",
       "                <th class=\"col_heading level0 col8\" colspan=1>\n",
       "                  MOVEMENT_1m\n",
       "                \n",
       "                \n",
       "                \n",
       "                <th class=\"col_heading level0 col9\" colspan=1>\n",
       "                  MOVEMENT_5m\n",
       "                \n",
       "                \n",
       "                \n",
       "                <th class=\"col_heading level0 col10\" colspan=1>\n",
       "                  MOVEMENT_15m\n",
       "                \n",
       "                \n",
       "                \n",
       "                <th class=\"col_heading level0 col11\" colspan=1>\n",
       "                  LUX_SWITCH\n",
       "                \n",
       "                \n",
       "                \n",
       "                <th class=\"col_heading level0 col12\" colspan=1>\n",
       "                  LIGHT_LAST_STATE\n",
       "                \n",
       "                \n",
       "            </tr>\n",
       "            \n",
       "        </thead>\n",
       "        <tbody>\n",
       "            \n",
       "            <tr>\n",
       "                \n",
       "                \n",
       "                <th id=\"T_8bd9c9b6_caf2_11e7_b5d1_0800271a8003\"\n",
       "                 class=\"row_heading level0 row0\" rowspan=1>\n",
       "                    LUX_ON\n",
       "                \n",
       "                \n",
       "                \n",
       "                <td id=\"T_8bd9c9b6_caf2_11e7_b5d1_0800271a8003row0_col0\"\n",
       "                 class=\"data row0 col0\" >\n",
       "                    1\n",
       "                \n",
       "                \n",
       "                \n",
       "                <td id=\"T_8bd9c9b6_caf2_11e7_b5d1_0800271a8003row0_col1\"\n",
       "                 class=\"data row0 col1\" >\n",
       "                    0.0823862\n",
       "                \n",
       "                \n",
       "                \n",
       "                <td id=\"T_8bd9c9b6_caf2_11e7_b5d1_0800271a8003row0_col2\"\n",
       "                 class=\"data row0 col2\" >\n",
       "                    0.477268\n",
       "                \n",
       "                \n",
       "                \n",
       "                <td id=\"T_8bd9c9b6_caf2_11e7_b5d1_0800271a8003row0_col3\"\n",
       "                 class=\"data row0 col3\" >\n",
       "                    0.239581\n",
       "                \n",
       "                \n",
       "                \n",
       "                <td id=\"T_8bd9c9b6_caf2_11e7_b5d1_0800271a8003row0_col4\"\n",
       "                 class=\"data row0 col4\" >\n",
       "                    -0.0978733\n",
       "                \n",
       "                \n",
       "                \n",
       "                <td id=\"T_8bd9c9b6_caf2_11e7_b5d1_0800271a8003row0_col5\"\n",
       "                 class=\"data row0 col5\" >\n",
       "                    0.116468\n",
       "                \n",
       "                \n",
       "                \n",
       "                <td id=\"T_8bd9c9b6_caf2_11e7_b5d1_0800271a8003row0_col6\"\n",
       "                 class=\"data row0 col6\" >\n",
       "                    0.0812562\n",
       "                \n",
       "                \n",
       "                \n",
       "                <td id=\"T_8bd9c9b6_caf2_11e7_b5d1_0800271a8003row0_col7\"\n",
       "                 class=\"data row0 col7\" >\n",
       "                    0.0302508\n",
       "                \n",
       "                \n",
       "                \n",
       "                <td id=\"T_8bd9c9b6_caf2_11e7_b5d1_0800271a8003row0_col8\"\n",
       "                 class=\"data row0 col8\" >\n",
       "                    0.46454\n",
       "                \n",
       "                \n",
       "                \n",
       "                <td id=\"T_8bd9c9b6_caf2_11e7_b5d1_0800271a8003row0_col9\"\n",
       "                 class=\"data row0 col9\" >\n",
       "                    0.486033\n",
       "                \n",
       "                \n",
       "                \n",
       "                <td id=\"T_8bd9c9b6_caf2_11e7_b5d1_0800271a8003row0_col10\"\n",
       "                 class=\"data row0 col10\" >\n",
       "                    0.473817\n",
       "                \n",
       "                \n",
       "                \n",
       "                <td id=\"T_8bd9c9b6_caf2_11e7_b5d1_0800271a8003row0_col11\"\n",
       "                 class=\"data row0 col11\" >\n",
       "                    0.165063\n",
       "                \n",
       "                \n",
       "                \n",
       "                <td id=\"T_8bd9c9b6_caf2_11e7_b5d1_0800271a8003row0_col12\"\n",
       "                 class=\"data row0 col12\" >\n",
       "                    0.0644743\n",
       "                \n",
       "                \n",
       "            </tr>\n",
       "            \n",
       "            <tr>\n",
       "                \n",
       "                \n",
       "                <th id=\"T_8bd9c9b6_caf2_11e7_b5d1_0800271a8003\"\n",
       "                 class=\"row_heading level0 row1\" rowspan=1>\n",
       "                    LIGHT\n",
       "                \n",
       "                \n",
       "                \n",
       "                <td id=\"T_8bd9c9b6_caf2_11e7_b5d1_0800271a8003row1_col0\"\n",
       "                 class=\"data row1 col0\" >\n",
       "                    0.0823862\n",
       "                \n",
       "                \n",
       "                \n",
       "                <td id=\"T_8bd9c9b6_caf2_11e7_b5d1_0800271a8003row1_col1\"\n",
       "                 class=\"data row1 col1\" >\n",
       "                    1\n",
       "                \n",
       "                \n",
       "                \n",
       "                <td id=\"T_8bd9c9b6_caf2_11e7_b5d1_0800271a8003row1_col2\"\n",
       "                 class=\"data row1 col2\" >\n",
       "                    0.117725\n",
       "                \n",
       "                \n",
       "                \n",
       "                <td id=\"T_8bd9c9b6_caf2_11e7_b5d1_0800271a8003row1_col3\"\n",
       "                 class=\"data row1 col3\" >\n",
       "                    0.0390255\n",
       "                \n",
       "                \n",
       "                \n",
       "                <td id=\"T_8bd9c9b6_caf2_11e7_b5d1_0800271a8003row1_col4\"\n",
       "                 class=\"data row1 col4\" >\n",
       "                    0.00797842\n",
       "                \n",
       "                \n",
       "                \n",
       "                <td id=\"T_8bd9c9b6_caf2_11e7_b5d1_0800271a8003row1_col5\"\n",
       "                 class=\"data row1 col5\" >\n",
       "                    0.0644364\n",
       "                \n",
       "                \n",
       "                \n",
       "                <td id=\"T_8bd9c9b6_caf2_11e7_b5d1_0800271a8003row1_col6\"\n",
       "                 class=\"data row1 col6\" >\n",
       "                    0.964863\n",
       "                \n",
       "                \n",
       "                \n",
       "                <td id=\"T_8bd9c9b6_caf2_11e7_b5d1_0800271a8003row1_col7\"\n",
       "                 class=\"data row1 col7\" >\n",
       "                    0.00713858\n",
       "                \n",
       "                \n",
       "                \n",
       "                <td id=\"T_8bd9c9b6_caf2_11e7_b5d1_0800271a8003row1_col8\"\n",
       "                 class=\"data row1 col8\" >\n",
       "                    0.114721\n",
       "                \n",
       "                \n",
       "                \n",
       "                <td id=\"T_8bd9c9b6_caf2_11e7_b5d1_0800271a8003row1_col9\"\n",
       "                 class=\"data row1 col9\" >\n",
       "                    0.121514\n",
       "                \n",
       "                \n",
       "                \n",
       "                <td id=\"T_8bd9c9b6_caf2_11e7_b5d1_0800271a8003row1_col10\"\n",
       "                 class=\"data row1 col10\" >\n",
       "                    0.139439\n",
       "                \n",
       "                \n",
       "                \n",
       "                <td id=\"T_8bd9c9b6_caf2_11e7_b5d1_0800271a8003row1_col11\"\n",
       "                 class=\"data row1 col11\" >\n",
       "                    0.00900035\n",
       "                \n",
       "                \n",
       "                \n",
       "                <td id=\"T_8bd9c9b6_caf2_11e7_b5d1_0800271a8003row1_col12\"\n",
       "                 class=\"data row1 col12\" >\n",
       "                    0.381084\n",
       "                \n",
       "                \n",
       "            </tr>\n",
       "            \n",
       "            <tr>\n",
       "                \n",
       "                \n",
       "                <th id=\"T_8bd9c9b6_caf2_11e7_b5d1_0800271a8003\"\n",
       "                 class=\"row_heading level0 row2\" rowspan=1>\n",
       "                    MOVEMENT\n",
       "                \n",
       "                \n",
       "                \n",
       "                <td id=\"T_8bd9c9b6_caf2_11e7_b5d1_0800271a8003row2_col0\"\n",
       "                 class=\"data row2 col0\" >\n",
       "                    0.477268\n",
       "                \n",
       "                \n",
       "                \n",
       "                <td id=\"T_8bd9c9b6_caf2_11e7_b5d1_0800271a8003row2_col1\"\n",
       "                 class=\"data row2 col1\" >\n",
       "                    0.117725\n",
       "                \n",
       "                \n",
       "                \n",
       "                <td id=\"T_8bd9c9b6_caf2_11e7_b5d1_0800271a8003row2_col2\"\n",
       "                 class=\"data row2 col2\" >\n",
       "                    1\n",
       "                \n",
       "                \n",
       "                \n",
       "                <td id=\"T_8bd9c9b6_caf2_11e7_b5d1_0800271a8003row2_col3\"\n",
       "                 class=\"data row2 col3\" >\n",
       "                    0.262718\n",
       "                \n",
       "                \n",
       "                \n",
       "                <td id=\"T_8bd9c9b6_caf2_11e7_b5d1_0800271a8003row2_col4\"\n",
       "                 class=\"data row2 col4\" >\n",
       "                    -0.0963663\n",
       "                \n",
       "                \n",
       "                \n",
       "                <td id=\"T_8bd9c9b6_caf2_11e7_b5d1_0800271a8003row2_col5\"\n",
       "                 class=\"data row2 col5\" >\n",
       "                    0.161493\n",
       "                \n",
       "                \n",
       "                \n",
       "                <td id=\"T_8bd9c9b6_caf2_11e7_b5d1_0800271a8003row2_col6\"\n",
       "                 class=\"data row2 col6\" >\n",
       "                    0.116367\n",
       "                \n",
       "                \n",
       "                \n",
       "                <td id=\"T_8bd9c9b6_caf2_11e7_b5d1_0800271a8003row2_col7\"\n",
       "                 class=\"data row2 col7\" >\n",
       "                    0.210372\n",
       "                \n",
       "                \n",
       "                \n",
       "                <td id=\"T_8bd9c9b6_caf2_11e7_b5d1_0800271a8003row2_col8\"\n",
       "                 class=\"data row2 col8\" >\n",
       "                    0.911487\n",
       "                \n",
       "                \n",
       "                \n",
       "                <td id=\"T_8bd9c9b6_caf2_11e7_b5d1_0800271a8003row2_col9\"\n",
       "                 class=\"data row2 col9\" >\n",
       "                    0.903818\n",
       "                \n",
       "                \n",
       "                \n",
       "                <td id=\"T_8bd9c9b6_caf2_11e7_b5d1_0800271a8003row2_col10\"\n",
       "                 class=\"data row2 col10\" >\n",
       "                    0.765081\n",
       "                \n",
       "                \n",
       "                \n",
       "                <td id=\"T_8bd9c9b6_caf2_11e7_b5d1_0800271a8003row2_col11\"\n",
       "                 class=\"data row2 col11\" >\n",
       "                    0.0012437\n",
       "                \n",
       "                \n",
       "                \n",
       "                <td id=\"T_8bd9c9b6_caf2_11e7_b5d1_0800271a8003row2_col12\"\n",
       "                 class=\"data row2 col12\" >\n",
       "                    0.0468418\n",
       "                \n",
       "                \n",
       "            </tr>\n",
       "            \n",
       "            <tr>\n",
       "                \n",
       "                \n",
       "                <th id=\"T_8bd9c9b6_caf2_11e7_b5d1_0800271a8003\"\n",
       "                 class=\"row_heading level0 row3\" rowspan=1>\n",
       "                    SOUND\n",
       "                \n",
       "                \n",
       "                \n",
       "                <td id=\"T_8bd9c9b6_caf2_11e7_b5d1_0800271a8003row3_col0\"\n",
       "                 class=\"data row3 col0\" >\n",
       "                    0.239581\n",
       "                \n",
       "                \n",
       "                \n",
       "                <td id=\"T_8bd9c9b6_caf2_11e7_b5d1_0800271a8003row3_col1\"\n",
       "                 class=\"data row3 col1\" >\n",
       "                    0.0390255\n",
       "                \n",
       "                \n",
       "                \n",
       "                <td id=\"T_8bd9c9b6_caf2_11e7_b5d1_0800271a8003row3_col2\"\n",
       "                 class=\"data row3 col2\" >\n",
       "                    0.262718\n",
       "                \n",
       "                \n",
       "                \n",
       "                <td id=\"T_8bd9c9b6_caf2_11e7_b5d1_0800271a8003row3_col3\"\n",
       "                 class=\"data row3 col3\" >\n",
       "                    1\n",
       "                \n",
       "                \n",
       "                \n",
       "                <td id=\"T_8bd9c9b6_caf2_11e7_b5d1_0800271a8003row3_col4\"\n",
       "                 class=\"data row3 col4\" >\n",
       "                    -0.0324214\n",
       "                \n",
       "                \n",
       "                \n",
       "                <td id=\"T_8bd9c9b6_caf2_11e7_b5d1_0800271a8003row3_col5\"\n",
       "                 class=\"data row3 col5\" >\n",
       "                    0.0876527\n",
       "                \n",
       "                \n",
       "                \n",
       "                <td id=\"T_8bd9c9b6_caf2_11e7_b5d1_0800271a8003row3_col6\"\n",
       "                 class=\"data row3 col6\" >\n",
       "                    0.038598\n",
       "                \n",
       "                \n",
       "                \n",
       "                <td id=\"T_8bd9c9b6_caf2_11e7_b5d1_0800271a8003row3_col7\"\n",
       "                 class=\"data row3 col7\" >\n",
       "                    0.0208341\n",
       "                \n",
       "                \n",
       "                \n",
       "                <td id=\"T_8bd9c9b6_caf2_11e7_b5d1_0800271a8003row3_col8\"\n",
       "                 class=\"data row3 col8\" >\n",
       "                    0.253953\n",
       "                \n",
       "                \n",
       "                \n",
       "                <td id=\"T_8bd9c9b6_caf2_11e7_b5d1_0800271a8003row3_col9\"\n",
       "                 class=\"data row3 col9\" >\n",
       "                    0.261802\n",
       "                \n",
       "                \n",
       "                \n",
       "                <td id=\"T_8bd9c9b6_caf2_11e7_b5d1_0800271a8003row3_col10\"\n",
       "                 class=\"data row3 col10\" >\n",
       "                    0.241893\n",
       "                \n",
       "                \n",
       "                \n",
       "                <td id=\"T_8bd9c9b6_caf2_11e7_b5d1_0800271a8003row3_col11\"\n",
       "                 class=\"data row3 col11\" >\n",
       "                    0.00745049\n",
       "                \n",
       "                \n",
       "                \n",
       "                <td id=\"T_8bd9c9b6_caf2_11e7_b5d1_0800271a8003row3_col12\"\n",
       "                 class=\"data row3 col12\" >\n",
       "                    0.0121497\n",
       "                \n",
       "                \n",
       "            </tr>\n",
       "            \n",
       "            <tr>\n",
       "                \n",
       "                \n",
       "                <th id=\"T_8bd9c9b6_caf2_11e7_b5d1_0800271a8003\"\n",
       "                 class=\"row_heading level0 row4\" rowspan=1>\n",
       "                    WEEKDAY\n",
       "                \n",
       "                \n",
       "                \n",
       "                <td id=\"T_8bd9c9b6_caf2_11e7_b5d1_0800271a8003row4_col0\"\n",
       "                 class=\"data row4 col0\" >\n",
       "                    -0.0978733\n",
       "                \n",
       "                \n",
       "                \n",
       "                <td id=\"T_8bd9c9b6_caf2_11e7_b5d1_0800271a8003row4_col1\"\n",
       "                 class=\"data row4 col1\" >\n",
       "                    0.00797842\n",
       "                \n",
       "                \n",
       "                \n",
       "                <td id=\"T_8bd9c9b6_caf2_11e7_b5d1_0800271a8003row4_col2\"\n",
       "                 class=\"data row4 col2\" >\n",
       "                    -0.0963663\n",
       "                \n",
       "                \n",
       "                \n",
       "                <td id=\"T_8bd9c9b6_caf2_11e7_b5d1_0800271a8003row4_col3\"\n",
       "                 class=\"data row4 col3\" >\n",
       "                    -0.0324214\n",
       "                \n",
       "                \n",
       "                \n",
       "                <td id=\"T_8bd9c9b6_caf2_11e7_b5d1_0800271a8003row4_col4\"\n",
       "                 class=\"data row4 col4\" >\n",
       "                    1\n",
       "                \n",
       "                \n",
       "                \n",
       "                <td id=\"T_8bd9c9b6_caf2_11e7_b5d1_0800271a8003row4_col5\"\n",
       "                 class=\"data row4 col5\" >\n",
       "                    -0.045959\n",
       "                \n",
       "                \n",
       "                \n",
       "                <td id=\"T_8bd9c9b6_caf2_11e7_b5d1_0800271a8003row4_col6\"\n",
       "                 class=\"data row4 col6\" >\n",
       "                    0.00800402\n",
       "                \n",
       "                \n",
       "                \n",
       "                <td id=\"T_8bd9c9b6_caf2_11e7_b5d1_0800271a8003row4_col7\"\n",
       "                 class=\"data row4 col7\" >\n",
       "                    -0.00137593\n",
       "                \n",
       "                \n",
       "                \n",
       "                <td id=\"T_8bd9c9b6_caf2_11e7_b5d1_0800271a8003row4_col8\"\n",
       "                 class=\"data row4 col8\" >\n",
       "                    -0.0957874\n",
       "                \n",
       "                \n",
       "                \n",
       "                <td id=\"T_8bd9c9b6_caf2_11e7_b5d1_0800271a8003row4_col9\"\n",
       "                 class=\"data row4 col9\" >\n",
       "                    -0.101931\n",
       "                \n",
       "                \n",
       "                \n",
       "                <td id=\"T_8bd9c9b6_caf2_11e7_b5d1_0800271a8003row4_col10\"\n",
       "                 class=\"data row4 col10\" >\n",
       "                    -0.110598\n",
       "                \n",
       "                \n",
       "                \n",
       "                <td id=\"T_8bd9c9b6_caf2_11e7_b5d1_0800271a8003row4_col11\"\n",
       "                 class=\"data row4 col11\" >\n",
       "                    -0.002846\n",
       "                \n",
       "                \n",
       "                \n",
       "                <td id=\"T_8bd9c9b6_caf2_11e7_b5d1_0800271a8003row4_col12\"\n",
       "                 class=\"data row4 col12\" >\n",
       "                    0.0185179\n",
       "                \n",
       "                \n",
       "            </tr>\n",
       "            \n",
       "            <tr>\n",
       "                \n",
       "                \n",
       "                <th id=\"T_8bd9c9b6_caf2_11e7_b5d1_0800271a8003\"\n",
       "                 class=\"row_heading level0 row5\" rowspan=1>\n",
       "                    HOUR\n",
       "                \n",
       "                \n",
       "                \n",
       "                <td id=\"T_8bd9c9b6_caf2_11e7_b5d1_0800271a8003row5_col0\"\n",
       "                 class=\"data row5 col0\" >\n",
       "                    0.116468\n",
       "                \n",
       "                \n",
       "                \n",
       "                <td id=\"T_8bd9c9b6_caf2_11e7_b5d1_0800271a8003row5_col1\"\n",
       "                 class=\"data row5 col1\" >\n",
       "                    0.0644364\n",
       "                \n",
       "                \n",
       "                \n",
       "                <td id=\"T_8bd9c9b6_caf2_11e7_b5d1_0800271a8003row5_col2\"\n",
       "                 class=\"data row5 col2\" >\n",
       "                    0.161493\n",
       "                \n",
       "                \n",
       "                \n",
       "                <td id=\"T_8bd9c9b6_caf2_11e7_b5d1_0800271a8003row5_col3\"\n",
       "                 class=\"data row5 col3\" >\n",
       "                    0.0876527\n",
       "                \n",
       "                \n",
       "                \n",
       "                <td id=\"T_8bd9c9b6_caf2_11e7_b5d1_0800271a8003row5_col4\"\n",
       "                 class=\"data row5 col4\" >\n",
       "                    -0.045959\n",
       "                \n",
       "                \n",
       "                \n",
       "                <td id=\"T_8bd9c9b6_caf2_11e7_b5d1_0800271a8003row5_col5\"\n",
       "                 class=\"data row5 col5\" >\n",
       "                    1\n",
       "                \n",
       "                \n",
       "                \n",
       "                <td id=\"T_8bd9c9b6_caf2_11e7_b5d1_0800271a8003row5_col6\"\n",
       "                 class=\"data row5 col6\" >\n",
       "                    0.0647377\n",
       "                \n",
       "                \n",
       "                \n",
       "                <td id=\"T_8bd9c9b6_caf2_11e7_b5d1_0800271a8003row5_col7\"\n",
       "                 class=\"data row5 col7\" >\n",
       "                    0.00527456\n",
       "                \n",
       "                \n",
       "                \n",
       "                <td id=\"T_8bd9c9b6_caf2_11e7_b5d1_0800271a8003row5_col8\"\n",
       "                 class=\"data row5 col8\" >\n",
       "                    0.159274\n",
       "                \n",
       "                \n",
       "                \n",
       "                <td id=\"T_8bd9c9b6_caf2_11e7_b5d1_0800271a8003row5_col9\"\n",
       "                 class=\"data row5 col9\" >\n",
       "                    0.168385\n",
       "                \n",
       "                \n",
       "                \n",
       "                <td id=\"T_8bd9c9b6_caf2_11e7_b5d1_0800271a8003row5_col10\"\n",
       "                 class=\"data row5 col10\" >\n",
       "                    0.168628\n",
       "                \n",
       "                \n",
       "                \n",
       "                <td id=\"T_8bd9c9b6_caf2_11e7_b5d1_0800271a8003row5_col11\"\n",
       "                 class=\"data row5 col11\" >\n",
       "                    0.0140774\n",
       "                \n",
       "                \n",
       "                \n",
       "                <td id=\"T_8bd9c9b6_caf2_11e7_b5d1_0800271a8003row5_col12\"\n",
       "                 class=\"data row5 col12\" >\n",
       "                    0.025764\n",
       "                \n",
       "                \n",
       "            </tr>\n",
       "            \n",
       "            <tr>\n",
       "                \n",
       "                \n",
       "                <th id=\"T_8bd9c9b6_caf2_11e7_b5d1_0800271a8003\"\n",
       "                 class=\"row_heading level0 row6\" rowspan=1>\n",
       "                    LIGHT_1m\n",
       "                \n",
       "                \n",
       "                \n",
       "                <td id=\"T_8bd9c9b6_caf2_11e7_b5d1_0800271a8003row6_col0\"\n",
       "                 class=\"data row6 col0\" >\n",
       "                    0.0812562\n",
       "                \n",
       "                \n",
       "                \n",
       "                <td id=\"T_8bd9c9b6_caf2_11e7_b5d1_0800271a8003row6_col1\"\n",
       "                 class=\"data row6 col1\" >\n",
       "                    0.964863\n",
       "                \n",
       "                \n",
       "                \n",
       "                <td id=\"T_8bd9c9b6_caf2_11e7_b5d1_0800271a8003row6_col2\"\n",
       "                 class=\"data row6 col2\" >\n",
       "                    0.116367\n",
       "                \n",
       "                \n",
       "                \n",
       "                <td id=\"T_8bd9c9b6_caf2_11e7_b5d1_0800271a8003row6_col3\"\n",
       "                 class=\"data row6 col3\" >\n",
       "                    0.038598\n",
       "                \n",
       "                \n",
       "                \n",
       "                <td id=\"T_8bd9c9b6_caf2_11e7_b5d1_0800271a8003row6_col4\"\n",
       "                 class=\"data row6 col4\" >\n",
       "                    0.00800402\n",
       "                \n",
       "                \n",
       "                \n",
       "                <td id=\"T_8bd9c9b6_caf2_11e7_b5d1_0800271a8003row6_col5\"\n",
       "                 class=\"data row6 col5\" >\n",
       "                    0.0647377\n",
       "                \n",
       "                \n",
       "                \n",
       "                <td id=\"T_8bd9c9b6_caf2_11e7_b5d1_0800271a8003row6_col6\"\n",
       "                 class=\"data row6 col6\" >\n",
       "                    1\n",
       "                \n",
       "                \n",
       "                \n",
       "                <td id=\"T_8bd9c9b6_caf2_11e7_b5d1_0800271a8003row6_col7\"\n",
       "                 class=\"data row6 col7\" >\n",
       "                    -0.0031724\n",
       "                \n",
       "                \n",
       "                \n",
       "                <td id=\"T_8bd9c9b6_caf2_11e7_b5d1_0800271a8003row6_col8\"\n",
       "                 class=\"data row6 col8\" >\n",
       "                    0.117702\n",
       "                \n",
       "                \n",
       "                \n",
       "                <td id=\"T_8bd9c9b6_caf2_11e7_b5d1_0800271a8003row6_col9\"\n",
       "                 class=\"data row6 col9\" >\n",
       "                    0.122731\n",
       "                \n",
       "                \n",
       "                \n",
       "                <td id=\"T_8bd9c9b6_caf2_11e7_b5d1_0800271a8003row6_col10\"\n",
       "                 class=\"data row6 col10\" >\n",
       "                    0.139143\n",
       "                \n",
       "                \n",
       "                \n",
       "                <td id=\"T_8bd9c9b6_caf2_11e7_b5d1_0800271a8003row6_col11\"\n",
       "                 class=\"data row6 col11\" >\n",
       "                    -0.00343712\n",
       "                \n",
       "                \n",
       "                \n",
       "                <td id=\"T_8bd9c9b6_caf2_11e7_b5d1_0800271a8003row6_col12\"\n",
       "                 class=\"data row6 col12\" >\n",
       "                    0.39436\n",
       "                \n",
       "                \n",
       "            </tr>\n",
       "            \n",
       "            <tr>\n",
       "                \n",
       "                \n",
       "                <th id=\"T_8bd9c9b6_caf2_11e7_b5d1_0800271a8003\"\n",
       "                 class=\"row_heading level0 row7\" rowspan=1>\n",
       "                    MOVEMENT_CHANGE\n",
       "                \n",
       "                \n",
       "                \n",
       "                <td id=\"T_8bd9c9b6_caf2_11e7_b5d1_0800271a8003row7_col0\"\n",
       "                 class=\"data row7 col0\" >\n",
       "                    0.0302508\n",
       "                \n",
       "                \n",
       "                \n",
       "                <td id=\"T_8bd9c9b6_caf2_11e7_b5d1_0800271a8003row7_col1\"\n",
       "                 class=\"data row7 col1\" >\n",
       "                    0.00713858\n",
       "                \n",
       "                \n",
       "                \n",
       "                <td id=\"T_8bd9c9b6_caf2_11e7_b5d1_0800271a8003row7_col2\"\n",
       "                 class=\"data row7 col2\" >\n",
       "                    0.210372\n",
       "                \n",
       "                \n",
       "                \n",
       "                <td id=\"T_8bd9c9b6_caf2_11e7_b5d1_0800271a8003row7_col3\"\n",
       "                 class=\"data row7 col3\" >\n",
       "                    0.0208341\n",
       "                \n",
       "                \n",
       "                \n",
       "                <td id=\"T_8bd9c9b6_caf2_11e7_b5d1_0800271a8003row7_col4\"\n",
       "                 class=\"data row7 col4\" >\n",
       "                    -0.00137593\n",
       "                \n",
       "                \n",
       "                \n",
       "                <td id=\"T_8bd9c9b6_caf2_11e7_b5d1_0800271a8003row7_col5\"\n",
       "                 class=\"data row7 col5\" >\n",
       "                    0.00527456\n",
       "                \n",
       "                \n",
       "                \n",
       "                <td id=\"T_8bd9c9b6_caf2_11e7_b5d1_0800271a8003row7_col6\"\n",
       "                 class=\"data row7 col6\" >\n",
       "                    -0.0031724\n",
       "                \n",
       "                \n",
       "                \n",
       "                <td id=\"T_8bd9c9b6_caf2_11e7_b5d1_0800271a8003row7_col7\"\n",
       "                 class=\"data row7 col7\" >\n",
       "                    1\n",
       "                \n",
       "                \n",
       "                \n",
       "                <td id=\"T_8bd9c9b6_caf2_11e7_b5d1_0800271a8003row7_col8\"\n",
       "                 class=\"data row7 col8\" >\n",
       "                    -0.210372\n",
       "                \n",
       "                \n",
       "                \n",
       "                <td id=\"T_8bd9c9b6_caf2_11e7_b5d1_0800271a8003row7_col9\"\n",
       "                 class=\"data row7 col9\" >\n",
       "                    -0.105943\n",
       "                \n",
       "                \n",
       "                \n",
       "                <td id=\"T_8bd9c9b6_caf2_11e7_b5d1_0800271a8003row7_col10\"\n",
       "                 class=\"data row7 col10\" >\n",
       "                    -0.0841089\n",
       "                \n",
       "                \n",
       "                \n",
       "                <td id=\"T_8bd9c9b6_caf2_11e7_b5d1_0800271a8003row7_col11\"\n",
       "                 class=\"data row7 col11\" >\n",
       "                    0.0945901\n",
       "                \n",
       "                \n",
       "                \n",
       "                <td id=\"T_8bd9c9b6_caf2_11e7_b5d1_0800271a8003row7_col12\"\n",
       "                 class=\"data row7 col12\" >\n",
       "                    -0.000659603\n",
       "                \n",
       "                \n",
       "            </tr>\n",
       "            \n",
       "            <tr>\n",
       "                \n",
       "                \n",
       "                <th id=\"T_8bd9c9b6_caf2_11e7_b5d1_0800271a8003\"\n",
       "                 class=\"row_heading level0 row8\" rowspan=1>\n",
       "                    MOVEMENT_1m\n",
       "                \n",
       "                \n",
       "                \n",
       "                <td id=\"T_8bd9c9b6_caf2_11e7_b5d1_0800271a8003row8_col0\"\n",
       "                 class=\"data row8 col0\" >\n",
       "                    0.46454\n",
       "                \n",
       "                \n",
       "                \n",
       "                <td id=\"T_8bd9c9b6_caf2_11e7_b5d1_0800271a8003row8_col1\"\n",
       "                 class=\"data row8 col1\" >\n",
       "                    0.114721\n",
       "                \n",
       "                \n",
       "                \n",
       "                <td id=\"T_8bd9c9b6_caf2_11e7_b5d1_0800271a8003row8_col2\"\n",
       "                 class=\"data row8 col2\" >\n",
       "                    0.911487\n",
       "                \n",
       "                \n",
       "                \n",
       "                <td id=\"T_8bd9c9b6_caf2_11e7_b5d1_0800271a8003row8_col3\"\n",
       "                 class=\"data row8 col3\" >\n",
       "                    0.253953\n",
       "                \n",
       "                \n",
       "                \n",
       "                <td id=\"T_8bd9c9b6_caf2_11e7_b5d1_0800271a8003row8_col4\"\n",
       "                 class=\"data row8 col4\" >\n",
       "                    -0.0957874\n",
       "                \n",
       "                \n",
       "                \n",
       "                <td id=\"T_8bd9c9b6_caf2_11e7_b5d1_0800271a8003row8_col5\"\n",
       "                 class=\"data row8 col5\" >\n",
       "                    0.159274\n",
       "                \n",
       "                \n",
       "                \n",
       "                <td id=\"T_8bd9c9b6_caf2_11e7_b5d1_0800271a8003row8_col6\"\n",
       "                 class=\"data row8 col6\" >\n",
       "                    0.117702\n",
       "                \n",
       "                \n",
       "                \n",
       "                <td id=\"T_8bd9c9b6_caf2_11e7_b5d1_0800271a8003row8_col7\"\n",
       "                 class=\"data row8 col7\" >\n",
       "                    -0.210372\n",
       "                \n",
       "                \n",
       "                \n",
       "                <td id=\"T_8bd9c9b6_caf2_11e7_b5d1_0800271a8003row8_col8\"\n",
       "                 class=\"data row8 col8\" >\n",
       "                    1\n",
       "                \n",
       "                \n",
       "                \n",
       "                <td id=\"T_8bd9c9b6_caf2_11e7_b5d1_0800271a8003row8_col9\"\n",
       "                 class=\"data row8 col9\" >\n",
       "                    0.948393\n",
       "                \n",
       "                \n",
       "                \n",
       "                <td id=\"T_8bd9c9b6_caf2_11e7_b5d1_0800271a8003row8_col10\"\n",
       "                 class=\"data row8 col10\" >\n",
       "                    0.800469\n",
       "                \n",
       "                \n",
       "                \n",
       "                <td id=\"T_8bd9c9b6_caf2_11e7_b5d1_0800271a8003row8_col11\"\n",
       "                 class=\"data row8 col11\" >\n",
       "                    -0.0385545\n",
       "                \n",
       "                \n",
       "                \n",
       "                <td id=\"T_8bd9c9b6_caf2_11e7_b5d1_0800271a8003row8_col12\"\n",
       "                 class=\"data row8 col12\" >\n",
       "                    0.0471193\n",
       "                \n",
       "                \n",
       "            </tr>\n",
       "            \n",
       "            <tr>\n",
       "                \n",
       "                \n",
       "                <th id=\"T_8bd9c9b6_caf2_11e7_b5d1_0800271a8003\"\n",
       "                 class=\"row_heading level0 row9\" rowspan=1>\n",
       "                    MOVEMENT_5m\n",
       "                \n",
       "                \n",
       "                \n",
       "                <td id=\"T_8bd9c9b6_caf2_11e7_b5d1_0800271a8003row9_col0\"\n",
       "                 class=\"data row9 col0\" >\n",
       "                    0.486033\n",
       "                \n",
       "                \n",
       "                \n",
       "                <td id=\"T_8bd9c9b6_caf2_11e7_b5d1_0800271a8003row9_col1\"\n",
       "                 class=\"data row9 col1\" >\n",
       "                    0.121514\n",
       "                \n",
       "                \n",
       "                \n",
       "                <td id=\"T_8bd9c9b6_caf2_11e7_b5d1_0800271a8003row9_col2\"\n",
       "                 class=\"data row9 col2\" >\n",
       "                    0.903818\n",
       "                \n",
       "                \n",
       "                \n",
       "                <td id=\"T_8bd9c9b6_caf2_11e7_b5d1_0800271a8003row9_col3\"\n",
       "                 class=\"data row9 col3\" >\n",
       "                    0.261802\n",
       "                \n",
       "                \n",
       "                \n",
       "                <td id=\"T_8bd9c9b6_caf2_11e7_b5d1_0800271a8003row9_col4\"\n",
       "                 class=\"data row9 col4\" >\n",
       "                    -0.101931\n",
       "                \n",
       "                \n",
       "                \n",
       "                <td id=\"T_8bd9c9b6_caf2_11e7_b5d1_0800271a8003row9_col5\"\n",
       "                 class=\"data row9 col5\" >\n",
       "                    0.168385\n",
       "                \n",
       "                \n",
       "                \n",
       "                <td id=\"T_8bd9c9b6_caf2_11e7_b5d1_0800271a8003row9_col6\"\n",
       "                 class=\"data row9 col6\" >\n",
       "                    0.122731\n",
       "                \n",
       "                \n",
       "                \n",
       "                <td id=\"T_8bd9c9b6_caf2_11e7_b5d1_0800271a8003row9_col7\"\n",
       "                 class=\"data row9 col7\" >\n",
       "                    -0.105943\n",
       "                \n",
       "                \n",
       "                \n",
       "                <td id=\"T_8bd9c9b6_caf2_11e7_b5d1_0800271a8003row9_col8\"\n",
       "                 class=\"data row9 col8\" >\n",
       "                    0.948393\n",
       "                \n",
       "                \n",
       "                \n",
       "                <td id=\"T_8bd9c9b6_caf2_11e7_b5d1_0800271a8003row9_col9\"\n",
       "                 class=\"data row9 col9\" >\n",
       "                    1\n",
       "                \n",
       "                \n",
       "                \n",
       "                <td id=\"T_8bd9c9b6_caf2_11e7_b5d1_0800271a8003row9_col10\"\n",
       "                 class=\"data row9 col10\" >\n",
       "                    0.880578\n",
       "                \n",
       "                \n",
       "                \n",
       "                <td id=\"T_8bd9c9b6_caf2_11e7_b5d1_0800271a8003row9_col11\"\n",
       "                 class=\"data row9 col11\" >\n",
       "                    -0.0298441\n",
       "                \n",
       "                \n",
       "                \n",
       "                <td id=\"T_8bd9c9b6_caf2_11e7_b5d1_0800271a8003row9_col12\"\n",
       "                 class=\"data row9 col12\" >\n",
       "                    0.0504059\n",
       "                \n",
       "                \n",
       "            </tr>\n",
       "            \n",
       "            <tr>\n",
       "                \n",
       "                \n",
       "                <th id=\"T_8bd9c9b6_caf2_11e7_b5d1_0800271a8003\"\n",
       "                 class=\"row_heading level0 row10\" rowspan=1>\n",
       "                    MOVEMENT_15m\n",
       "                \n",
       "                \n",
       "                \n",
       "                <td id=\"T_8bd9c9b6_caf2_11e7_b5d1_0800271a8003row10_col0\"\n",
       "                 class=\"data row10 col0\" >\n",
       "                    0.473817\n",
       "                \n",
       "                \n",
       "                \n",
       "                <td id=\"T_8bd9c9b6_caf2_11e7_b5d1_0800271a8003row10_col1\"\n",
       "                 class=\"data row10 col1\" >\n",
       "                    0.139439\n",
       "                \n",
       "                \n",
       "                \n",
       "                <td id=\"T_8bd9c9b6_caf2_11e7_b5d1_0800271a8003row10_col2\"\n",
       "                 class=\"data row10 col2\" >\n",
       "                    0.765081\n",
       "                \n",
       "                \n",
       "                \n",
       "                <td id=\"T_8bd9c9b6_caf2_11e7_b5d1_0800271a8003row10_col3\"\n",
       "                 class=\"data row10 col3\" >\n",
       "                    0.241893\n",
       "                \n",
       "                \n",
       "                \n",
       "                <td id=\"T_8bd9c9b6_caf2_11e7_b5d1_0800271a8003row10_col4\"\n",
       "                 class=\"data row10 col4\" >\n",
       "                    -0.110598\n",
       "                \n",
       "                \n",
       "                \n",
       "                <td id=\"T_8bd9c9b6_caf2_11e7_b5d1_0800271a8003row10_col5\"\n",
       "                 class=\"data row10 col5\" >\n",
       "                    0.168628\n",
       "                \n",
       "                \n",
       "                \n",
       "                <td id=\"T_8bd9c9b6_caf2_11e7_b5d1_0800271a8003row10_col6\"\n",
       "                 class=\"data row10 col6\" >\n",
       "                    0.139143\n",
       "                \n",
       "                \n",
       "                \n",
       "                <td id=\"T_8bd9c9b6_caf2_11e7_b5d1_0800271a8003row10_col7\"\n",
       "                 class=\"data row10 col7\" >\n",
       "                    -0.0841089\n",
       "                \n",
       "                \n",
       "                \n",
       "                <td id=\"T_8bd9c9b6_caf2_11e7_b5d1_0800271a8003row10_col8\"\n",
       "                 class=\"data row10 col8\" >\n",
       "                    0.800469\n",
       "                \n",
       "                \n",
       "                \n",
       "                <td id=\"T_8bd9c9b6_caf2_11e7_b5d1_0800271a8003row10_col9\"\n",
       "                 class=\"data row10 col9\" >\n",
       "                    0.880578\n",
       "                \n",
       "                \n",
       "                \n",
       "                <td id=\"T_8bd9c9b6_caf2_11e7_b5d1_0800271a8003row10_col10\"\n",
       "                 class=\"data row10 col10\" >\n",
       "                    1\n",
       "                \n",
       "                \n",
       "                \n",
       "                <td id=\"T_8bd9c9b6_caf2_11e7_b5d1_0800271a8003row10_col11\"\n",
       "                 class=\"data row10 col11\" >\n",
       "                    -0.0370826\n",
       "                \n",
       "                \n",
       "                \n",
       "                <td id=\"T_8bd9c9b6_caf2_11e7_b5d1_0800271a8003row10_col12\"\n",
       "                 class=\"data row10 col12\" >\n",
       "                    0.0583282\n",
       "                \n",
       "                \n",
       "            </tr>\n",
       "            \n",
       "            <tr>\n",
       "                \n",
       "                \n",
       "                <th id=\"T_8bd9c9b6_caf2_11e7_b5d1_0800271a8003\"\n",
       "                 class=\"row_heading level0 row11\" rowspan=1>\n",
       "                    LUX_SWITCH\n",
       "                \n",
       "                \n",
       "                \n",
       "                <td id=\"T_8bd9c9b6_caf2_11e7_b5d1_0800271a8003row11_col0\"\n",
       "                 class=\"data row11 col0\" >\n",
       "                    0.165063\n",
       "                \n",
       "                \n",
       "                \n",
       "                <td id=\"T_8bd9c9b6_caf2_11e7_b5d1_0800271a8003row11_col1\"\n",
       "                 class=\"data row11 col1\" >\n",
       "                    0.00900035\n",
       "                \n",
       "                \n",
       "                \n",
       "                <td id=\"T_8bd9c9b6_caf2_11e7_b5d1_0800271a8003row11_col2\"\n",
       "                 class=\"data row11 col2\" >\n",
       "                    0.0012437\n",
       "                \n",
       "                \n",
       "                \n",
       "                <td id=\"T_8bd9c9b6_caf2_11e7_b5d1_0800271a8003row11_col3\"\n",
       "                 class=\"data row11 col3\" >\n",
       "                    0.00745049\n",
       "                \n",
       "                \n",
       "                \n",
       "                <td id=\"T_8bd9c9b6_caf2_11e7_b5d1_0800271a8003row11_col4\"\n",
       "                 class=\"data row11 col4\" >\n",
       "                    -0.002846\n",
       "                \n",
       "                \n",
       "                \n",
       "                <td id=\"T_8bd9c9b6_caf2_11e7_b5d1_0800271a8003row11_col5\"\n",
       "                 class=\"data row11 col5\" >\n",
       "                    0.0140774\n",
       "                \n",
       "                \n",
       "                \n",
       "                <td id=\"T_8bd9c9b6_caf2_11e7_b5d1_0800271a8003row11_col6\"\n",
       "                 class=\"data row11 col6\" >\n",
       "                    -0.00343712\n",
       "                \n",
       "                \n",
       "                \n",
       "                <td id=\"T_8bd9c9b6_caf2_11e7_b5d1_0800271a8003row11_col7\"\n",
       "                 class=\"data row11 col7\" >\n",
       "                    0.0945901\n",
       "                \n",
       "                \n",
       "                \n",
       "                <td id=\"T_8bd9c9b6_caf2_11e7_b5d1_0800271a8003row11_col8\"\n",
       "                 class=\"data row11 col8\" >\n",
       "                    -0.0385545\n",
       "                \n",
       "                \n",
       "                \n",
       "                <td id=\"T_8bd9c9b6_caf2_11e7_b5d1_0800271a8003row11_col9\"\n",
       "                 class=\"data row11 col9\" >\n",
       "                    -0.0298441\n",
       "                \n",
       "                \n",
       "                \n",
       "                <td id=\"T_8bd9c9b6_caf2_11e7_b5d1_0800271a8003row11_col10\"\n",
       "                 class=\"data row11 col10\" >\n",
       "                    -0.0370826\n",
       "                \n",
       "                \n",
       "                \n",
       "                <td id=\"T_8bd9c9b6_caf2_11e7_b5d1_0800271a8003row11_col11\"\n",
       "                 class=\"data row11 col11\" >\n",
       "                    1\n",
       "                \n",
       "                \n",
       "                \n",
       "                <td id=\"T_8bd9c9b6_caf2_11e7_b5d1_0800271a8003row11_col12\"\n",
       "                 class=\"data row11 col12\" >\n",
       "                    -0.00334023\n",
       "                \n",
       "                \n",
       "            </tr>\n",
       "            \n",
       "            <tr>\n",
       "                \n",
       "                \n",
       "                <th id=\"T_8bd9c9b6_caf2_11e7_b5d1_0800271a8003\"\n",
       "                 class=\"row_heading level0 row12\" rowspan=1>\n",
       "                    LIGHT_LAST_STATE\n",
       "                \n",
       "                \n",
       "                \n",
       "                <td id=\"T_8bd9c9b6_caf2_11e7_b5d1_0800271a8003row12_col0\"\n",
       "                 class=\"data row12 col0\" >\n",
       "                    0.0644743\n",
       "                \n",
       "                \n",
       "                \n",
       "                <td id=\"T_8bd9c9b6_caf2_11e7_b5d1_0800271a8003row12_col1\"\n",
       "                 class=\"data row12 col1\" >\n",
       "                    0.381084\n",
       "                \n",
       "                \n",
       "                \n",
       "                <td id=\"T_8bd9c9b6_caf2_11e7_b5d1_0800271a8003row12_col2\"\n",
       "                 class=\"data row12 col2\" >\n",
       "                    0.0468418\n",
       "                \n",
       "                \n",
       "                \n",
       "                <td id=\"T_8bd9c9b6_caf2_11e7_b5d1_0800271a8003row12_col3\"\n",
       "                 class=\"data row12 col3\" >\n",
       "                    0.0121497\n",
       "                \n",
       "                \n",
       "                \n",
       "                <td id=\"T_8bd9c9b6_caf2_11e7_b5d1_0800271a8003row12_col4\"\n",
       "                 class=\"data row12 col4\" >\n",
       "                    0.0185179\n",
       "                \n",
       "                \n",
       "                \n",
       "                <td id=\"T_8bd9c9b6_caf2_11e7_b5d1_0800271a8003row12_col5\"\n",
       "                 class=\"data row12 col5\" >\n",
       "                    0.025764\n",
       "                \n",
       "                \n",
       "                \n",
       "                <td id=\"T_8bd9c9b6_caf2_11e7_b5d1_0800271a8003row12_col6\"\n",
       "                 class=\"data row12 col6\" >\n",
       "                    0.39436\n",
       "                \n",
       "                \n",
       "                \n",
       "                <td id=\"T_8bd9c9b6_caf2_11e7_b5d1_0800271a8003row12_col7\"\n",
       "                 class=\"data row12 col7\" >\n",
       "                    -0.000659603\n",
       "                \n",
       "                \n",
       "                \n",
       "                <td id=\"T_8bd9c9b6_caf2_11e7_b5d1_0800271a8003row12_col8\"\n",
       "                 class=\"data row12 col8\" >\n",
       "                    0.0471193\n",
       "                \n",
       "                \n",
       "                \n",
       "                <td id=\"T_8bd9c9b6_caf2_11e7_b5d1_0800271a8003row12_col9\"\n",
       "                 class=\"data row12 col9\" >\n",
       "                    0.0504059\n",
       "                \n",
       "                \n",
       "                \n",
       "                <td id=\"T_8bd9c9b6_caf2_11e7_b5d1_0800271a8003row12_col10\"\n",
       "                 class=\"data row12 col10\" >\n",
       "                    0.0583282\n",
       "                \n",
       "                \n",
       "                \n",
       "                <td id=\"T_8bd9c9b6_caf2_11e7_b5d1_0800271a8003row12_col11\"\n",
       "                 class=\"data row12 col11\" >\n",
       "                    -0.00334023\n",
       "                \n",
       "                \n",
       "                \n",
       "                <td id=\"T_8bd9c9b6_caf2_11e7_b5d1_0800271a8003row12_col12\"\n",
       "                 class=\"data row12 col12\" >\n",
       "                    1\n",
       "                \n",
       "                \n",
       "            </tr>\n",
       "            \n",
       "        </tbody>\n",
       "        </table>\n",
       "        "
      ],
      "text/plain": [
       "<pandas.formats.style.Styler at 0x7f95467f86d8>"
      ]
     },
     "execution_count": 908,
     "metadata": {},
     "output_type": "execute_result"
    }
   ],
   "source": [
    "df_events.corr().style.bar(subset=['LUX_ON'], color='#d65f5f', axis=0)"
   ]
  },
  {
   "cell_type": "markdown",
   "metadata": {
    "deletable": true,
    "editable": true
   },
   "source": [
    "## Entrenamiento y verificación de RNA\n",
    "\n",
    "### Variable objetivo: estado de la lámpara (LUX_ON)\n",
    "La variable a predecir es LUX_ON, la cual está en 1 si la luz está prendida (sea estado override o no del módulo). La distribución del estado en porcentaje es la siguiente:"
   ]
  },
  {
   "cell_type": "code",
   "execution_count": 909,
   "metadata": {
    "collapsed": false,
    "deletable": true,
    "editable": true
   },
   "outputs": [
    {
     "data": {
      "text/plain": [
       "0    0.894247\n",
       "1    0.105753\n",
       "Name: LUX_ON, dtype: float64"
      ]
     },
     "execution_count": 909,
     "metadata": {},
     "output_type": "execute_result"
    }
   ],
   "source": [
    "df_events.LUX_ON.value_counts(normalize=True)"
   ]
  },
  {
   "cell_type": "markdown",
   "metadata": {
    "deletable": true,
    "editable": true
   },
   "source": [
    "#### Separando los datos para training y prueba\n",
    "Para poder hacer etapas de entrenamiento y prueba, voy a separar los datos. 70% para entrenamiento, 30% para prueba. Para esto voy a usar del módulo scikit-learn la función train_test_split.\n",
    "\n",
    "Los conjuntos de datos van a llamarse:\n",
    "* X_train: Datos de entrenamiento. Las 7 columnas con los valores del mes, día, sensores, etc, compuesto por el 70% de los registros\n",
    "* y_train: Resultado de entrenamiento. Columna *estadoLuz* para el 70% de los registros\n",
    "* X_test: Datos para hacer la validación. Tienen el mismo formato que X_train, pero corresponden al 30% del conjunto de datos\n",
    "* y_test: Resultados para validar la performance del algoritmo aplicado a X_test"
   ]
  },
  {
   "cell_type": "code",
   "execution_count": 910,
   "metadata": {
    "collapsed": true,
    "deletable": true,
    "editable": true
   },
   "outputs": [],
   "source": [
    "from sklearn.model_selection import train_test_split\n",
    "\n",
    "luxState_feature_names = ['WEEKDAY', 'HOUR', 'LIGHT_1m', 'SOUND', 'MOVEMENT', 'MOVEMENT_1m', 'MOVEMENT_5m', 'MOVEMENT_15m', 'LIGHT_LAST_STATE']\n",
    "luxState_goal_names = ['LUX_ON']\n",
    "\n",
    "luxState_features = df_events[luxState_feature_names].values     # Columnas del predictor (5 X m)\n",
    "luxState_goal = df_events[luxState_goal_names].values            # Clase predecida (1=verdadero, 0=falso) column (1 X m)\n",
    "split_test_size = 0.30                                           # 0.30 es 30%, el tamaño para pruebas\n",
    "\n",
    "luxState_features_train, luxState_features_test, luxState_goal_train, luxState_goal_test = train_test_split(luxState_features, luxState_goal, test_size=split_test_size)"
   ]
  },
  {
   "cell_type": "markdown",
   "metadata": {
    "deletable": true,
    "editable": true
   },
   "source": [
    "Verifico que el tamaño relativo de los sets de entrenamiento y prueba sea lo más cercano a 70-30 posible:"
   ]
  },
  {
   "cell_type": "code",
   "execution_count": 911,
   "metadata": {
    "collapsed": false,
    "deletable": true,
    "editable": true
   },
   "outputs": [
    {
     "name": "stdout",
     "output_type": "stream",
     "text": [
      "70.00% en el set de entrenamiento\n",
      "30.00% en el set de prueba\n"
     ]
    }
   ],
   "source": [
    "print(\"{0:.2f}% en el set de entrenamiento\".format( (float(len(luxState_features_train))/len(df_events.index)) * 100 ) )\n",
    "print(\"{0:.2f}% en el set de prueba\".format((float(len(luxState_features_test))/len(df_events.index)) * 100))"
   ]
  },
  {
   "cell_type": "markdown",
   "metadata": {
    "deletable": true,
    "editable": true
   },
   "source": [
    "Verifico que la proporción de casos verdaderos y falsos se mantenga en los conjuntos de entrenamiento y test:"
   ]
  },
  {
   "cell_type": "code",
   "execution_count": 912,
   "metadata": {
    "collapsed": false,
    "deletable": true,
    "editable": true
   },
   "outputs": [
    {
     "name": "stdout",
     "output_type": "stream",
     "text": [
      "Lux Activo en el total           : 1888 (10.58%)\n",
      "Lux Inactivo en el total         : 15965 (89.42%)\n",
      "\n",
      "Lux Activo en entrenamiento      : 1305 (10.44%)\n",
      "Lux Inctivo en entrenamiento     : 11192 (89.56%)\n",
      "\n",
      "Lux Activo en test               : 583 (10.88%)\n",
      "Lux Inctivo en test              : 4773 (89.12%)\n"
     ]
    }
   ],
   "source": [
    "print(\"Lux Activo en el total           : {0} ({1:0.2f}%)\".format(len(df_events.loc[df_events['LUX_ON'] == 1]), (len(df_events.loc[df_events['LUX_ON'] == 1])/float(len(df_events.index))) * 100.0))\n",
    "print(\"Lux Inactivo en el total         : {0} ({1:0.2f}%)\".format(len(df_events.loc[df_events['LUX_ON'] == 0]), (len(df_events.loc[df_events['LUX_ON'] == 0])/float(len(df_events.index))) * 100.0))\n",
    "print(\"\")\n",
    "train_state_on = len(luxState_goal_train[ luxState_goal_train == 1])\n",
    "train_state_off = len(luxState_goal_train[ luxState_goal_train == 0])\n",
    "print(\"Lux Activo en entrenamiento      : {0} ({1:0.2f}%)\".format(train_state_on, train_state_on/float(len(luxState_goal_train)) * 100.0))\n",
    "print(\"Lux Inctivo en entrenamiento     : {0} ({1:0.2f}%)\".format(train_state_off, train_state_off/float(len(luxState_goal_train)) * 100.0))\n",
    "print(\"\")\n",
    "test_state_on = len(luxState_goal_test[ luxState_goal_test == 1])\n",
    "test_state_off = len(luxState_goal_test[ luxState_goal_test == 0])\n",
    "print(\"Lux Activo en test               : {0} ({1:0.2f}%)\".format(test_state_on, test_state_on/float(len(luxState_goal_test)) * 100.0))\n",
    "print(\"Lux Inctivo en test              : {0} ({1:0.2f}%)\".format(test_state_off,test_state_off/float(len(luxState_goal_test)) * 100.0))"
   ]
  },
  {
   "cell_type": "markdown",
   "metadata": {
    "deletable": true,
    "editable": true
   },
   "source": [
    "#### Entrenamiento inicial\n",
    "Para este entrenamiento voy a usar otro módulo de scikit-learn: neural_network. Como lo que estamos tratando de averiguar es si la luz debe estar prendida o no, estamos hablando de un algoritmo de clasificación, y por lo tanto la función que voy a usar se llama MLPClassifier, e implementa un perceptrón multi capa (MLP) que se entrena usando backpropagation.\n"
   ]
  },
  {
   "cell_type": "code",
   "execution_count": 913,
   "metadata": {
    "collapsed": false,
    "deletable": true,
    "editable": true
   },
   "outputs": [
    {
     "name": "stdout",
     "output_type": "stream",
     "text": [
      "CPU times: user 3.64 s, sys: 54 ms, total: 3.69 s\n",
      "Wall time: 3.93 s\n"
     ]
    },
    {
     "data": {
      "text/plain": [
       "MLPClassifier(activation='relu', alpha=0.0001, batch_size='auto', beta_1=0.9,\n",
       "       beta_2=0.999, early_stopping=False, epsilon=1e-08,\n",
       "       hidden_layer_sizes=(100,), learning_rate='constant',\n",
       "       learning_rate_init=0.001, max_iter=200, momentum=0.9,\n",
       "       nesterovs_momentum=True, power_t=0.5, random_state=None,\n",
       "       shuffle=True, solver='adam', tol=0.0001, validation_fraction=0.1,\n",
       "       verbose=False, warm_start=False)"
      ]
     },
     "execution_count": 913,
     "metadata": {},
     "output_type": "execute_result"
    }
   ],
   "source": [
    "from sklearn.neural_network import MLPClassifier\n",
    "clf_model_state = MLPClassifier()\n",
    "%time clf_model_state.fit(luxState_features_train, luxState_goal_train.ravel())"
   ]
  },
  {
   "cell_type": "markdown",
   "metadata": {
    "deletable": true,
    "editable": true
   },
   "source": [
    "#### Performance usando los datos de entrenamiento\n",
    "Para esto voy a importar la función metrics."
   ]
  },
  {
   "cell_type": "code",
   "execution_count": 914,
   "metadata": {
    "collapsed": false,
    "deletable": true,
    "editable": true,
    "scrolled": true
   },
   "outputs": [
    {
     "name": "stdout",
     "output_type": "stream",
     "text": [
      "Precisión en entrenamiento: 0.9369\n"
     ]
    }
   ],
   "source": [
    "from sklearn import metrics\n",
    "\n",
    "clf_predict_state_train = clf_model_state.predict(luxState_features_train)\n",
    "\n",
    "print(\"Precisión en entrenamiento: {0:.4f}\".format(metrics.accuracy_score(luxState_goal_train, clf_predict_state_train)))"
   ]
  },
  {
   "cell_type": "markdown",
   "metadata": {
    "deletable": true,
    "editable": true
   },
   "source": [
    "#### Performance usando los datos de prueba"
   ]
  },
  {
   "cell_type": "code",
   "execution_count": 915,
   "metadata": {
    "collapsed": false,
    "deletable": true,
    "editable": true,
    "scrolled": true
   },
   "outputs": [
    {
     "name": "stdout",
     "output_type": "stream",
     "text": [
      "Precisión en test: 0.9277\n"
     ]
    }
   ],
   "source": [
    "clf_predict_state_test = clf_model_state.predict(luxState_features_test)\n",
    "\n",
    "print(\"Precisión en test: {0:.4f}\".format(metrics.accuracy_score(luxState_goal_test, clf_predict_state_test)))"
   ]
  },
  {
   "cell_type": "markdown",
   "metadata": {
    "deletable": true,
    "editable": true
   },
   "source": [
    "#### Métricas\n",
    "Los resultados de las etapas de entrenamiento y prueba son muy buenos. Demasiado buenos. Hay que analizar si no hay algún otro problema que pueda causar que cuando ponga más datos (cuando analice en tiempo real la actividad del usuario), el modelo falle miserablemente.\n",
    "\n",
    "Para este análisis, voy a ver como se comparan los resultados, con el objetivo de entender si el modelo sirve o hay que hacer ajustes. Voy a usar dos herramientas:\n",
    "\n",
    "##### Matriz de confusión\n",
    "https://es.wikipedia.org/wiki/Matriz_de_confusi%C3%B3n\n",
    "\n",
    "Cada columna de la matriz representa el número de predicciones de cada clase, mientras que cada fila representa a las instancias en la clase real. Uno de los beneficios de las matrices de confusión es que facilitan ver si el sistema está confundiendo dos clases. \n",
    "\n",
    "En nuestro caso, la matriz representa lo siguiente:\n",
    "\n",
    "\n",
    "| EV (Predicho Encendido y es verdad ) | EF (Predicho Encendido pero es falso) |\n",
    "|------------------------------------------------|\n",
    "| **AF (Predicho Apagado pero es Falso** | **AV (Predicho Apagado y es verdad)** |\n",
    "\n",
    "Esto quiere decir que queremos los valores más altos posibles en la diagonal, y lo más cerca posible a cero en cualquier otro lado."
   ]
  },
  {
   "cell_type": "code",
   "execution_count": 916,
   "metadata": {
    "collapsed": false,
    "deletable": true,
    "editable": true,
    "scrolled": true
   },
   "outputs": [
    {
     "name": "stdout",
     "output_type": "stream",
     "text": [
      "Matriz de confusión:\n",
      "[[ 339  244]\n",
      " [ 143 4630]]\n"
     ]
    }
   ],
   "source": [
    "print(\"Matriz de confusión:\")\n",
    "print(\"{0}\".format(metrics.confusion_matrix(luxState_goal_test, clf_predict_state_test, labels=[1, 0])))"
   ]
  },
  {
   "cell_type": "markdown",
   "metadata": {
    "deletable": true,
    "editable": true
   },
   "source": [
    "Estos resultados son muy buenos, el porcentaje de acertados es altísimo. El modelo es casi perfecto. Para confirmar, hay que usar la otra herramienta.\n",
    "\n",
    "\n",
    "#### Reporte de clasificación.\n",
    "Lo primero que vamos a verificar es que tan bien se hace una predición acertada cuando se requiere que el dispositivo esté encendido. Este dato, llamado \"recall\" en el reporte, esta dado por:\n",
    "\n",
    "Recall = EV / (EV + AF)\n",
    "\n",
    "Lo segundo que queremos ver es la presición, que está dada por:\n",
    "\n",
    "Precision = EV / (EV + EF)\n"
   ]
  },
  {
   "cell_type": "code",
   "execution_count": 917,
   "metadata": {
    "collapsed": false,
    "deletable": true,
    "editable": true,
    "scrolled": true
   },
   "outputs": [
    {
     "name": "stdout",
     "output_type": "stream",
     "text": [
      "Reporte de clasificación:\n",
      "             precision    recall  f1-score   support\n",
      "\n",
      "          1       0.70      0.58      0.64       583\n",
      "          0       0.95      0.97      0.96      4773\n",
      "\n",
      "avg / total       0.92      0.93      0.92      5356\n",
      "\n"
     ]
    }
   ],
   "source": [
    "print(\"Reporte de clasificación:\")\n",
    "print(metrics.classification_report(luxState_goal_test, clf_predict_state_test, labels=[1,0]))"
   ]
  },
  {
   "cell_type": "markdown",
   "metadata": {
    "deletable": true,
    "editable": true
   },
   "source": [
    "### Variable objetivo: cambio de estado de la lámpara (LUX_SWITCH)\n",
    "La variable a predecir es LUX_SWITCH que se describe como cada cambio de estado del lux.\n",
    "-  1: la luz se prendió\n",
    "-  0: no hubo cambios\n",
    "- -1: la luz se apagó\n",
    "La distribución del estado en porcentaje es la siguiente:"
   ]
  },
  {
   "cell_type": "code",
   "execution_count": 918,
   "metadata": {
    "collapsed": false,
    "deletable": true,
    "editable": true
   },
   "outputs": [
    {
     "data": {
      "text/plain": [
       " 0.0    0.989694\n",
       "-1.0    0.005153\n",
       " 1.0    0.005153\n",
       "Name: LUX_SWITCH, dtype: float64"
      ]
     },
     "execution_count": 918,
     "metadata": {},
     "output_type": "execute_result"
    }
   ],
   "source": [
    "df_events.LUX_SWITCH.value_counts(normalize=True)"
   ]
  },
  {
   "cell_type": "markdown",
   "metadata": {
    "deletable": true,
    "editable": true
   },
   "source": [
    "#### Separando los datos para training y prueba"
   ]
  },
  {
   "cell_type": "code",
   "execution_count": 919,
   "metadata": {
    "collapsed": false,
    "deletable": true,
    "editable": true
   },
   "outputs": [],
   "source": [
    "luxSwitch_feature_names = ['WEEKDAY', 'HOUR', 'LIGHT_1m', 'SOUND', 'MOVEMENT', 'MOVEMENT_1m', 'MOVEMENT_5m', 'MOVEMENT_15m', 'LIGHT_LAST_STATE' ]\n",
    "luxSwitch_goal_names = ['LUX_SWITCH']\n",
    "\n",
    "luxSwitch_features = df_events[luxSwitch_feature_names].values        # Columnas predictoras\n",
    "luxSwitch_goal = df_events[luxSwitch_goal_names].values               # Clase predecida (1, 0, -1)\n",
    "split_test_size = 0.30                                                # 0.30 es 30%, el tamaño para pruebas\n",
    "\n",
    "luxSwitch_feat_train, luxSwitch_feat_test, luxSwitch_goal_train, luxSwitch_goal_test = train_test_split(luxSwitch_features, luxSwitch_goal, test_size=split_test_size)"
   ]
  },
  {
   "cell_type": "code",
   "execution_count": 920,
   "metadata": {
    "collapsed": false,
    "deletable": true,
    "editable": true
   },
   "outputs": [
    {
     "name": "stdout",
     "output_type": "stream",
     "text": [
      "70.00% en el set de entrenamiento\n",
      "30.00% en el set de prueba\n"
     ]
    }
   ],
   "source": [
    "print(\"{0:.2f}% en el set de entrenamiento\".format( (float(len(luxSwitch_feat_train))/len(df_events.index)) * 100 ) )\n",
    "print(\"{0:.2f}% en el set de prueba\".format((float(len(luxSwitch_feat_test))/len(df_events.index)) * 100))"
   ]
  },
  {
   "cell_type": "code",
   "execution_count": 921,
   "metadata": {
    "collapsed": false,
    "deletable": true,
    "editable": true
   },
   "outputs": [
    {
     "name": "stdout",
     "output_type": "stream",
     "text": [
      "Totales:\n",
      "Prendidas        : 92 (0.52%)\n",
      "Sin cambios      : 17669 (98.97%)\n",
      "Apagadas         : 92 (0.52%)\n",
      "\n",
      "Set de entrenamiento:\n",
      "Prendidas        : 64 (0.51%)\n",
      "Sin cambios      : 12363 (98.93%)\n",
      "Apagadas         : 70 (0.56%)\n",
      "\n",
      "Set de pruebas:\n",
      "Prendidas        : 28 (0.52%)\n",
      "Sin cambios      : 5306 (99.07%)\n",
      "Apagadas         : 22 (0.41%)\n"
     ]
    }
   ],
   "source": [
    "totales_switch_on = len(df_events.query('LUX_SWITCH == 1'))\n",
    "totales_switch_stale = len(df_events.query('LUX_SWITCH == 0'))\n",
    "totales_switch_off = len(df_events.query('LUX_SWITCH == -1'))\n",
    "print('Totales:')\n",
    "print(\"Prendidas        : {0} ({1:0.2f}%)\".format(totales_switch_on, totales_switch_on/float(df_events.shape[0]) * 100.0))\n",
    "print(\"Sin cambios      : {0} ({1:0.2f}%)\".format(totales_switch_stale, totales_switch_stale/float(df_events.shape[0]) * 100.0))\n",
    "print(\"Apagadas         : {0} ({1:0.2f}%)\".format(totales_switch_off, totales_switch_off/float(df_events.shape[0]) * 100.0))\n",
    "print('')\n",
    "train_switch_on = len(luxSwitch_goal_train[ luxSwitch_goal_train == 1])\n",
    "train_switch_stale = len(luxSwitch_goal_train[ luxSwitch_goal_train == 0])\n",
    "train_switch_off = len(luxSwitch_goal_train[ luxSwitch_goal_train == -1])\n",
    "print('Set de entrenamiento:')\n",
    "print(\"Prendidas        : {0} ({1:0.2f}%)\".format(train_switch_on, train_switch_on/float(luxSwitch_goal_train.shape[0]) * 100.0))\n",
    "print(\"Sin cambios      : {0} ({1:0.2f}%)\".format(train_switch_stale, train_switch_stale/float(luxSwitch_goal_train.shape[0]) * 100.0))\n",
    "print(\"Apagadas         : {0} ({1:0.2f}%)\".format(train_switch_off, train_switch_off/float(luxSwitch_goal_train.shape[0]) * 100.0))\n",
    "print('')\n",
    "test_switch_on = len(luxSwitch_goal_test[ luxSwitch_goal_test == 1])\n",
    "test_switch_stale = len(luxSwitch_goal_test[ luxSwitch_goal_test == 0])\n",
    "test_switch_off = len(luxSwitch_goal_test[ luxSwitch_goal_test == -1])\n",
    "print('Set de pruebas:')\n",
    "print(\"Prendidas        : {0} ({1:0.2f}%)\".format(test_switch_on, test_switch_on/float(luxSwitch_goal_test.shape[0]) * 100.0))\n",
    "print(\"Sin cambios      : {0} ({1:0.2f}%)\".format(test_switch_stale, test_switch_stale/float(luxSwitch_goal_test.shape[0]) * 100.0))\n",
    "print(\"Apagadas         : {0} ({1:0.2f}%)\".format(test_switch_off, test_switch_off/float(luxSwitch_goal_test.shape[0]) * 100.0))"
   ]
  },
  {
   "cell_type": "markdown",
   "metadata": {
    "deletable": true,
    "editable": true
   },
   "source": [
    "#### Entrenamiento inicial"
   ]
  },
  {
   "cell_type": "code",
   "execution_count": 922,
   "metadata": {
    "collapsed": false,
    "deletable": true,
    "editable": true
   },
   "outputs": [
    {
     "name": "stdout",
     "output_type": "stream",
     "text": [
      "CPU times: user 4.99 s, sys: 49.1 ms, total: 5.04 s\n",
      "Wall time: 5.37 s\n"
     ]
    },
    {
     "data": {
      "text/plain": [
       "MLPClassifier(activation='relu', alpha=0.0001, batch_size='auto', beta_1=0.9,\n",
       "       beta_2=0.999, early_stopping=False, epsilon=1e-08,\n",
       "       hidden_layer_sizes=(100,), learning_rate='constant',\n",
       "       learning_rate_init=0.001, max_iter=200, momentum=0.9,\n",
       "       nesterovs_momentum=True, power_t=0.5, random_state=None,\n",
       "       shuffle=True, solver='adam', tol=0.0001, validation_fraction=0.1,\n",
       "       verbose=False, warm_start=False)"
      ]
     },
     "execution_count": 922,
     "metadata": {},
     "output_type": "execute_result"
    }
   ],
   "source": [
    "clf_model_switch = MLPClassifier()\n",
    "%time clf_model_switch.fit(luxSwitch_feat_train, luxSwitch_goal_train.ravel())"
   ]
  },
  {
   "cell_type": "markdown",
   "metadata": {
    "deletable": true,
    "editable": true
   },
   "source": [
    "#### Performance usando los datos de entrenamiento"
   ]
  },
  {
   "cell_type": "code",
   "execution_count": 923,
   "metadata": {
    "collapsed": false,
    "deletable": true,
    "editable": true,
    "scrolled": true
   },
   "outputs": [
    {
     "name": "stdout",
     "output_type": "stream",
     "text": [
      "Precisión en entrenamiento: 0.9893\n"
     ]
    }
   ],
   "source": [
    "clf_predict_switch_train = clf_model_switch.predict(luxSwitch_feat_train)\n",
    "\n",
    "print(\"Precisión en entrenamiento: {0:.4f}\".format(metrics.accuracy_score(luxSwitch_goal_train, clf_predict_switch_train)))"
   ]
  },
  {
   "cell_type": "markdown",
   "metadata": {
    "deletable": true,
    "editable": true
   },
   "source": [
    "#### Performance usando los datos de prueba"
   ]
  },
  {
   "cell_type": "code",
   "execution_count": 924,
   "metadata": {
    "collapsed": false,
    "deletable": true,
    "editable": true,
    "scrolled": true
   },
   "outputs": [
    {
     "name": "stdout",
     "output_type": "stream",
     "text": [
      "Precisión en test: 0.9907\n"
     ]
    }
   ],
   "source": [
    "clf_predict_switch_test = clf_model_switch.predict(luxSwitch_feat_test)\n",
    "\n",
    "print(\"Precisión en test: {0:.4f}\".format(metrics.accuracy_score(luxSwitch_goal_test, clf_predict_switch_test)))"
   ]
  },
  {
   "cell_type": "markdown",
   "metadata": {
    "deletable": true,
    "editable": true
   },
   "source": [
    "#### Métricas\n",
    "##### Matriz de confusión"
   ]
  },
  {
   "cell_type": "code",
   "execution_count": 925,
   "metadata": {
    "collapsed": false,
    "deletable": true,
    "editable": true,
    "scrolled": true
   },
   "outputs": [
    {
     "name": "stdout",
     "output_type": "stream",
     "text": [
      "[[   0   28    0]\n",
      " [   0 5306    0]\n",
      " [   0   22    0]]\n"
     ]
    }
   ],
   "source": [
    "matriz_conf = metrics.confusion_matrix(luxSwitch_goal_test, clf_predict_switch_test, labels=[1, 0, -1])\n",
    "print(\"{0}\".format(matriz_conf))"
   ]
  },
  {
   "cell_type": "code",
   "execution_count": 926,
   "metadata": {
    "collapsed": false,
    "deletable": true,
    "editable": true
   },
   "outputs": [
    {
     "data": {
      "text/plain": [
       "99.066467513069455"
      ]
     },
     "execution_count": 926,
     "metadata": {},
     "output_type": "execute_result"
    }
   ],
   "source": [
    "# Porcentaje de acierto\n",
    "matriz_conf.diagonal().sum() / float(matriz_conf.sum()) * 100"
   ]
  },
  {
   "cell_type": "markdown",
   "metadata": {
    "deletable": true,
    "editable": true
   },
   "source": [
    "#### Reporte de clasificación"
   ]
  },
  {
   "cell_type": "code",
   "execution_count": 927,
   "metadata": {
    "collapsed": false,
    "deletable": true,
    "editable": true
   },
   "outputs": [
    {
     "name": "stdout",
     "output_type": "stream",
     "text": [
      "             precision    recall  f1-score   support\n",
      "\n",
      "          1       0.00      0.00      0.00        28\n",
      "          0       0.99      1.00      1.00      5306\n",
      "         -1       0.00      0.00      0.00        22\n",
      "\n",
      "avg / total       0.98      0.99      0.99      5356\n",
      "\n"
     ]
    },
    {
     "name": "stderr",
     "output_type": "stream",
     "text": [
      "/usr/lib64/python3.5/site-packages/sklearn/metrics/classification.py:1113: UndefinedMetricWarning: Precision and F-score are ill-defined and being set to 0.0 in labels with no predicted samples.\n",
      "  'precision', 'predicted', average, warn_for)\n"
     ]
    }
   ],
   "source": [
    "print(metrics.classification_report(luxSwitch_goal_test, clf_predict_switch_test, labels=[1,0,-1]))"
   ]
  },
  {
   "cell_type": "markdown",
   "metadata": {
    "deletable": true,
    "editable": true
   },
   "source": [
    "## Validación del modelo\n",
    "**IMPORTANTE:** Los datos fueron normalizados para poder ser utilizados en la RNA. Por lo tanto, al pasar datos nuevos, debo normalizarlos según la escala creada previamente.\n",
    "\n",
    "| WEEKDAY | HOUR | LIGHT_1m | SOUND | MOVEMENT | MOVEMENT_1m | MOVEMENT_5m | MOVEMENT_15m | LIGHT_LAST_STATE |\n",
    "|-----------------------------------------------------------------------------------------------|\n",
    "| [-1, 1] (norm) | [-1, 1] (norm) | [-1, 1] (norm) | [-1, 1] (norm) | [0, 1] | [0, 1] | [0, 1] | [0, 1] | [-1, 1] (norm)"
   ]
  },
  {
   "cell_type": "markdown",
   "metadata": {
    "deletable": true,
    "editable": true
   },
   "source": [
    "### Predicción de ESTADO (LUX_ON)"
   ]
  },
  {
   "cell_type": "code",
   "execution_count": 642,
   "metadata": {
    "collapsed": false,
    "deletable": true,
    "editable": true
   },
   "outputs": [],
   "source": [
    "new_test = [ 5, 6, 50, 35, 0, 0, 0, 0, 0]\n",
    "\n",
    "new_test = [ \n",
    "        normalizar(minMax['day'][0], minMax['day'][1], new_test[0]), \n",
    "        normalizar(minMax['hour'][0], minMax['hour'][1], new_test[1]),  \n",
    "        normalizar(minMax['light'][0], minMax['light'][1], new_test[2]),   \n",
    "        normalizar(minMax['sound'][0], minMax['sound'][1], new_test[3]),\n",
    "        new_test[4],\n",
    "        new_test[5],\n",
    "        new_test[6],\n",
    "        new_test[7],\n",
    "        normalizar(minMax['light'][0], minMax['light'][1], new_test[8]) ]\n",
    "\n",
    "X_new_test = pd.DataFrame([new_test],columns=luxState_feature_names)"
   ]
  },
  {
   "cell_type": "code",
   "execution_count": 643,
   "metadata": {
    "collapsed": false,
    "deletable": true,
    "editable": true
   },
   "outputs": [
    {
     "name": "stdout",
     "output_type": "stream",
     "text": [
      "Resultado:  [1]\n"
     ]
    }
   ],
   "source": [
    "clf_predict_new_test = clf_model_state.predict(X_new_test)\n",
    "\n",
    "print (\"Resultado: \", clf_predict_new_test)"
   ]
  },
  {
   "cell_type": "markdown",
   "metadata": {
    "deletable": true,
    "editable": true
   },
   "source": [
    "### Predicción de CAMBIO DE ESTADO (LUX_SWITCH)\n",
    "\n",
    "Features:\n",
    "\n",
    "| WEEKDAY | MINDAY | LIGHT_LUX_1m | SOUND | MOVEMENT | MOVEMENT_1m | MOVEMENT_5m | MOVEMENT_15m |\n",
    "|-----------------------------------------------------------------------------------------------|\n",
    "| 0-6 | 0-1439 | 0-2000 | 30-130 | 0/1 | 0-1 | 0-1 | 0-1 |"
   ]
  },
  {
   "cell_type": "code",
   "execution_count": null,
   "metadata": {
    "collapsed": true,
    "deletable": true,
    "editable": true
   },
   "outputs": [],
   "source": [
    "X_new_test = pd.DataFrame([[ 5, 670, 85, 50, 1, 1, 1, 0.9 ]],columns=luxSwitch_feature_names)"
   ]
  },
  {
   "cell_type": "code",
   "execution_count": null,
   "metadata": {
    "collapsed": false,
    "deletable": true,
    "editable": true
   },
   "outputs": [],
   "source": [
    "clf_predict_new_test = clf_model_switch.predict(X_new_test)\n",
    "\n",
    "print (\"Resultado: \", clf_predict_new_test)"
   ]
  }
 ],
 "metadata": {
  "kernelspec": {
   "display_name": "Python 3",
   "language": "python",
   "name": "python3"
  },
  "language_info": {
   "codemirror_mode": {
    "name": "ipython",
    "version": 3
   },
   "file_extension": ".py",
   "mimetype": "text/x-python",
   "name": "python",
   "nbconvert_exporter": "python",
   "pygments_lexer": "ipython3",
   "version": "3.5.4"
  }
 },
 "nbformat": 4,
 "nbformat_minor": 2
}
