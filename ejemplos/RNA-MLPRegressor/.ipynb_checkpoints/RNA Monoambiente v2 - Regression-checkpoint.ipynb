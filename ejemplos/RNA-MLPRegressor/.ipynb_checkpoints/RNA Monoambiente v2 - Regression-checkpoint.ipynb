{
 "cells": [
  {
   "cell_type": "markdown",
   "metadata": {
    "deletable": true,
    "editable": true
   },
   "source": [
    "# Prueba de Red Neuronal Artificial con Back Propagation\n",
    "\n",
    "Para esta prueba utilizo un dataset generado por un script (generar-dataset.sh), en el que se simula a un usuario en un monoambiente, con hábitos muy marcados: De 23hs a 7:00hs duerme. De 7:00 a 7:30 se prepara para salir. De 7:30 a 18:30hs, los días de la semana está fuera del ambiente. Durante el fin de semana está presente. De 18:30hs a 19:30hs hay actividad variada (puede haber distintos niveles de sonido, puede o no estár prendida la luz, etc.). De 19:30 a 23hs hay actividad y la luz está prendida.\n",
    "\n",
    "La idea es crear una red neuronal artifial que de como resultado el estado esperado del dispositivo de luz: Prendido/Apagado. Esta RNA debería además corregir los pesos de las funciones a medida que se entrena.\n",
    "\n",
    "\n",
    "**IMPORTANTE:** Quiza el sensor de luminosidad debería tener el valor opuesto, ya que uno espera que la luz se prenda cuando HAY actividad y hay un nivel de luz muy bajo. Al mismo tiempo, si hay un nivel de luminosidad ALTO, el sistema no puede sacar como conclusión que hay que apagar la luz, porque entraríamos en un loop."
   ]
  },
  {
   "cell_type": "markdown",
   "metadata": {
    "deletable": true,
    "editable": true
   },
   "source": [
    "### Formato de los datos\n",
    "Los datos creados por el script generar-dataset.sh están en el siguiente formato:\n",
    "\n",
    "\n",
    "| Nombre | Tipo | Descripción | Ej. Valor |\n",
    "|--------|------|---------|-------------|---------|\n",
    "| **mes** | tinyint | Número de mes | 1 a 12 |\n",
    "| **diaSemana** | tinyint | Número de día de la semana (Lunes 1, etc.) | 1 a 7 |\n",
    "| **minuto** | tinyint | Minuto del dia| 0 a 1439 |\n",
    "| **idSensor** | smallint | Identificador unico del sensor | 10123 |\n",
    "| **sensCorriente** | smallint | Medición de corriente del dispositivo Lux asociado en miliamperes | 230 |\n",
    "| **sensLuminosidad** | smallint | Medición del sensor de luminosidad, donde 0 = oscuro, 1 = muy iluminado | 0.871 |\n",
    "| **sensSonido ** | smallint | Medición del sensor de sonido, donde 0 = silencio, 1 = alto nivel de sonoridad | 0.232 |\n",
    "| **sensPresencia** | smallint | Medición del sensor de presencia, donde 0 = sin movimientos, 1 = hay movimientos | 0.856 |\n",
    "| **estadoLuz** | tinyint | Indicador de estado del dispositivo Lux, donde 0 = apagado y 1 = encendido | 1 |\n",
    "\n",
    "**IMPORTANTE:** Esta versión usa un valor decimar para el sensor de presencial. En una versión posterior lo hacemos con valor entero."
   ]
  },
  {
   "cell_type": "markdown",
   "metadata": {
    "deletable": true,
    "editable": true
   },
   "source": [
    "### Cargo algunas librerías necesarias\n",
    "\n",
    "Librerías usadas durante este ejercicio:\n",
    "* Pandas: para manipulación de grandes volúmenes de datos, en este caso importando de un csv a un array\n",
    "* Matplot: Para hacer gráficos en 2D\n",
    "* Numpy: Para computación científica y funciones matemáticas en general."
   ]
  },
  {
   "cell_type": "code",
   "execution_count": 14,
   "metadata": {
    "collapsed": true,
    "deletable": true,
    "editable": true
   },
   "outputs": [],
   "source": [
    "import pandas as pd\n",
    "import matplotlib.pyplot as plt\n",
    "import numpy as np"
   ]
  },
  {
   "cell_type": "markdown",
   "metadata": {
    "deletable": true,
    "editable": true
   },
   "source": [
    "Además, más abajo voy a estar usando Scikit Learn: Un módulo que provée algoritmos de evaluación, entrenamiento y machine learning en general.\n",
    "\n",
    "Esta línea es para que los gráficos se impriman dentro de Jupyter Notebook"
   ]
  },
  {
   "cell_type": "code",
   "execution_count": 15,
   "metadata": {
    "collapsed": true,
    "deletable": true,
    "editable": true
   },
   "outputs": [],
   "source": [
    "%matplotlib inline"
   ]
  },
  {
   "cell_type": "markdown",
   "metadata": {
    "deletable": true,
    "editable": true
   },
   "source": [
    "### Dataset\n",
    "Cargo el dataset (previamente creado) y examino sus propiedades"
   ]
  },
  {
   "cell_type": "code",
   "execution_count": 16,
   "metadata": {
    "collapsed": false,
    "deletable": true,
    "editable": true
   },
   "outputs": [
    {
     "data": {
      "text/plain": [
       "(129601, 9)"
      ]
     },
     "execution_count": 16,
     "metadata": {},
     "output_type": "execute_result"
    }
   ],
   "source": [
    "df = pd.read_csv(\"./dataset.txt\")\n",
    "df.shape"
   ]
  },
  {
   "cell_type": "markdown",
   "metadata": {
    "deletable": true,
    "editable": true
   },
   "source": [
    "El dataset tiene 129601 registros de 9 campos. La cantidad de registros está dada por 1 encabezado + 1 reg/min x 60 min x 24 horas x 90 días. Las columnas son las que se definen más arriba, y están organizadas de esta forma:"
   ]
  },
  {
   "cell_type": "code",
   "execution_count": 17,
   "metadata": {
    "collapsed": false,
    "deletable": true,
    "editable": true
   },
   "outputs": [
    {
     "data": {
      "text/html": [
       "<div>\n",
       "<table border=\"1\" class=\"dataframe\">\n",
       "  <thead>\n",
       "    <tr style=\"text-align: right;\">\n",
       "      <th></th>\n",
       "      <th>mes</th>\n",
       "      <th>diaSemana</th>\n",
       "      <th>minuto</th>\n",
       "      <th>idSensor</th>\n",
       "      <th>sensCorriente</th>\n",
       "      <th>sensLuminosidad</th>\n",
       "      <th>sensSonido</th>\n",
       "      <th>sensPir</th>\n",
       "      <th>estadoLuz</th>\n",
       "    </tr>\n",
       "  </thead>\n",
       "  <tbody>\n",
       "    <tr>\n",
       "      <th>0</th>\n",
       "      <td>1</td>\n",
       "      <td>7</td>\n",
       "      <td>1</td>\n",
       "      <td>1020</td>\n",
       "      <td>0</td>\n",
       "      <td>0.027</td>\n",
       "      <td>0.065</td>\n",
       "      <td>0</td>\n",
       "      <td>0</td>\n",
       "    </tr>\n",
       "    <tr>\n",
       "      <th>1</th>\n",
       "      <td>1</td>\n",
       "      <td>7</td>\n",
       "      <td>2</td>\n",
       "      <td>1020</td>\n",
       "      <td>0</td>\n",
       "      <td>0.020</td>\n",
       "      <td>0.046</td>\n",
       "      <td>0</td>\n",
       "      <td>0</td>\n",
       "    </tr>\n",
       "    <tr>\n",
       "      <th>2</th>\n",
       "      <td>1</td>\n",
       "      <td>7</td>\n",
       "      <td>3</td>\n",
       "      <td>1020</td>\n",
       "      <td>0</td>\n",
       "      <td>0.026</td>\n",
       "      <td>0.051</td>\n",
       "      <td>0</td>\n",
       "      <td>0</td>\n",
       "    </tr>\n",
       "    <tr>\n",
       "      <th>3</th>\n",
       "      <td>1</td>\n",
       "      <td>7</td>\n",
       "      <td>4</td>\n",
       "      <td>1020</td>\n",
       "      <td>0</td>\n",
       "      <td>0.027</td>\n",
       "      <td>0.065</td>\n",
       "      <td>0</td>\n",
       "      <td>0</td>\n",
       "    </tr>\n",
       "    <tr>\n",
       "      <th>4</th>\n",
       "      <td>1</td>\n",
       "      <td>7</td>\n",
       "      <td>5</td>\n",
       "      <td>1020</td>\n",
       "      <td>0</td>\n",
       "      <td>0.023</td>\n",
       "      <td>0.074</td>\n",
       "      <td>0</td>\n",
       "      <td>0</td>\n",
       "    </tr>\n",
       "  </tbody>\n",
       "</table>\n",
       "</div>"
      ],
      "text/plain": [
       "   mes  diaSemana  minuto  idSensor  sensCorriente  sensLuminosidad  \\\n",
       "0    1          7       1      1020              0            0.027   \n",
       "1    1          7       2      1020              0            0.020   \n",
       "2    1          7       3      1020              0            0.026   \n",
       "3    1          7       4      1020              0            0.027   \n",
       "4    1          7       5      1020              0            0.023   \n",
       "\n",
       "   sensSonido  sensPir  estadoLuz  \n",
       "0       0.065        0          0  \n",
       "1       0.046        0          0  \n",
       "2       0.051        0          0  \n",
       "3       0.065        0          0  \n",
       "4       0.074        0          0  "
      ]
     },
     "execution_count": 17,
     "metadata": {},
     "output_type": "execute_result"
    }
   ],
   "source": [
    "df.head()"
   ]
  },
  {
   "cell_type": "code",
   "execution_count": 18,
   "metadata": {
    "collapsed": false,
    "deletable": true,
    "editable": true
   },
   "outputs": [
    {
     "data": {
      "text/html": [
       "<div>\n",
       "<table border=\"1\" class=\"dataframe\">\n",
       "  <thead>\n",
       "    <tr style=\"text-align: right;\">\n",
       "      <th></th>\n",
       "      <th>mes</th>\n",
       "      <th>diaSemana</th>\n",
       "      <th>minuto</th>\n",
       "      <th>idSensor</th>\n",
       "      <th>sensCorriente</th>\n",
       "      <th>sensLuminosidad</th>\n",
       "      <th>sensSonido</th>\n",
       "      <th>sensPir</th>\n",
       "      <th>estadoLuz</th>\n",
       "    </tr>\n",
       "  </thead>\n",
       "  <tbody>\n",
       "    <tr>\n",
       "      <th>129596</th>\n",
       "      <td>3</td>\n",
       "      <td>5</td>\n",
       "      <td>1437</td>\n",
       "      <td>1020</td>\n",
       "      <td>0</td>\n",
       "      <td>0.817</td>\n",
       "      <td>0.102</td>\n",
       "      <td>1</td>\n",
       "      <td>0</td>\n",
       "    </tr>\n",
       "    <tr>\n",
       "      <th>129597</th>\n",
       "      <td>3</td>\n",
       "      <td>5</td>\n",
       "      <td>1438</td>\n",
       "      <td>1020</td>\n",
       "      <td>0</td>\n",
       "      <td>0.817</td>\n",
       "      <td>0.102</td>\n",
       "      <td>1</td>\n",
       "      <td>0</td>\n",
       "    </tr>\n",
       "    <tr>\n",
       "      <th>129598</th>\n",
       "      <td>4</td>\n",
       "      <td>6</td>\n",
       "      <td>1439</td>\n",
       "      <td>1020</td>\n",
       "      <td>0</td>\n",
       "      <td>0.817</td>\n",
       "      <td>0.119</td>\n",
       "      <td>1</td>\n",
       "      <td>0</td>\n",
       "    </tr>\n",
       "    <tr>\n",
       "      <th>129599</th>\n",
       "      <td>4</td>\n",
       "      <td>6</td>\n",
       "      <td>0</td>\n",
       "      <td>1020</td>\n",
       "      <td>0</td>\n",
       "      <td>0.022</td>\n",
       "      <td>0.082</td>\n",
       "      <td>0</td>\n",
       "      <td>0</td>\n",
       "    </tr>\n",
       "    <tr>\n",
       "      <th>129600</th>\n",
       "      <td>4</td>\n",
       "      <td>6</td>\n",
       "      <td>1</td>\n",
       "      <td>1020</td>\n",
       "      <td>0</td>\n",
       "      <td>0.020</td>\n",
       "      <td>0.047</td>\n",
       "      <td>0</td>\n",
       "      <td>0</td>\n",
       "    </tr>\n",
       "  </tbody>\n",
       "</table>\n",
       "</div>"
      ],
      "text/plain": [
       "        mes  diaSemana  minuto  idSensor  sensCorriente  sensLuminosidad  \\\n",
       "129596    3          5    1437      1020              0            0.817   \n",
       "129597    3          5    1438      1020              0            0.817   \n",
       "129598    4          6    1439      1020              0            0.817   \n",
       "129599    4          6       0      1020              0            0.022   \n",
       "129600    4          6       1      1020              0            0.020   \n",
       "\n",
       "        sensSonido  sensPir  estadoLuz  \n",
       "129596       0.102        1          0  \n",
       "129597       0.102        1          0  \n",
       "129598       0.119        1          0  \n",
       "129599       0.082        0          0  \n",
       "129600       0.047        0          0  "
      ]
     },
     "execution_count": 18,
     "metadata": {},
     "output_type": "execute_result"
    }
   ],
   "source": [
    "df.tail()"
   ]
  },
  {
   "cell_type": "markdown",
   "metadata": {
    "deletable": true,
    "editable": true
   },
   "source": [
    "### Chequeo de valores null, no debería haber\n",
    "Dado que el dataset se creó manualmente, todos los datos fueron completados. En la práctica, algunos valores pueden faltar ya que no todos los sensores se instalan exactamente al mismo tiempo."
   ]
  },
  {
   "cell_type": "code",
   "execution_count": 19,
   "metadata": {
    "collapsed": false,
    "deletable": true,
    "editable": true
   },
   "outputs": [
    {
     "data": {
      "text/plain": [
       "False"
      ]
     },
     "execution_count": 19,
     "metadata": {},
     "output_type": "execute_result"
    }
   ],
   "source": [
    "df.isnull().values.any()"
   ]
  },
  {
   "cell_type": "markdown",
   "metadata": {
    "collapsed": true,
    "deletable": true,
    "editable": true
   },
   "source": [
    "### Función de correlación\n",
    "Hace una matriz de correlación entre las variables. Cuanto más claro el color, mayor correlación entre las variables. La diagonal debería ser amarilla, y representa la correlación de una variable con sí misma.\n",
    "\n",
    "Esta función tiene dos entradas:\n",
    "1. El dataframe panda a analizar\n",
    "2. El tamáño de gráfico que se quiere imprimir"
   ]
  },
  {
   "cell_type": "code",
   "execution_count": 20,
   "metadata": {
    "collapsed": true,
    "deletable": true,
    "editable": true
   },
   "outputs": [],
   "source": [
    "def plot_corr(df, size=14):\n",
    "    corr = df.corr()    # data frame correlation function\n",
    "    fig, ax = plt.subplots(figsize=(size, size))\n",
    "    ax.matshow(corr)   # color code the rectangles by correlation value\n",
    "    plt.xticks(range(len(corr.columns)), corr.columns)  # draw x tick marks\n",
    "    plt.yticks(range(len(corr.columns)), corr.columns)  # draw y tick marks"
   ]
  },
  {
   "cell_type": "code",
   "execution_count": 21,
   "metadata": {
    "collapsed": false,
    "deletable": true,
    "editable": true
   },
   "outputs": [
    {
     "data": {
      "image/png": "[encoded data removed]",
      "text/plain": [
       "<matplotlib.figure.Figure at 0x7f190eb23748>"
      ]
     },
     "metadata": {},
     "output_type": "display_data"
    }
   ],
   "source": [
    "plot_corr(df)"
   ]
  },
  {
   "cell_type": "code",
   "execution_count": 22,
   "metadata": {
    "collapsed": false,
    "deletable": true,
    "editable": true
   },
   "outputs": [
    {
     "data": {
      "text/html": [
       "<div>\n",
       "<table border=\"1\" class=\"dataframe\">\n",
       "  <thead>\n",
       "    <tr style=\"text-align: right;\">\n",
       "      <th></th>\n",
       "      <th>mes</th>\n",
       "      <th>diaSemana</th>\n",
       "      <th>minuto</th>\n",
       "      <th>idSensor</th>\n",
       "      <th>sensCorriente</th>\n",
       "      <th>sensLuminosidad</th>\n",
       "      <th>sensSonido</th>\n",
       "      <th>sensPir</th>\n",
       "      <th>estadoLuz</th>\n",
       "    </tr>\n",
       "  </thead>\n",
       "  <tbody>\n",
       "    <tr>\n",
       "      <th>mes</th>\n",
       "      <td>1.000000</td>\n",
       "      <td>0.013472</td>\n",
       "      <td>-0.000032</td>\n",
       "      <td>NaN</td>\n",
       "      <td>-0.011129</td>\n",
       "      <td>-0.006920</td>\n",
       "      <td>-0.015481</td>\n",
       "      <td>-0.011975</td>\n",
       "      <td>-0.011025</td>\n",
       "    </tr>\n",
       "    <tr>\n",
       "      <th>diaSemana</th>\n",
       "      <td>0.013472</td>\n",
       "      <td>1.000000</td>\n",
       "      <td>-0.000013</td>\n",
       "      <td>NaN</td>\n",
       "      <td>0.119377</td>\n",
       "      <td>0.058457</td>\n",
       "      <td>0.202701</td>\n",
       "      <td>0.315808</td>\n",
       "      <td>0.119537</td>\n",
       "    </tr>\n",
       "    <tr>\n",
       "      <th>minuto</th>\n",
       "      <td>-0.000032</td>\n",
       "      <td>-0.000013</td>\n",
       "      <td>1.000000</td>\n",
       "      <td>NaN</td>\n",
       "      <td>0.493040</td>\n",
       "      <td>0.830640</td>\n",
       "      <td>0.452213</td>\n",
       "      <td>0.661991</td>\n",
       "      <td>0.493866</td>\n",
       "    </tr>\n",
       "    <tr>\n",
       "      <th>idSensor</th>\n",
       "      <td>NaN</td>\n",
       "      <td>NaN</td>\n",
       "      <td>NaN</td>\n",
       "      <td>NaN</td>\n",
       "      <td>NaN</td>\n",
       "      <td>NaN</td>\n",
       "      <td>NaN</td>\n",
       "      <td>NaN</td>\n",
       "      <td>NaN</td>\n",
       "    </tr>\n",
       "    <tr>\n",
       "      <th>sensCorriente</th>\n",
       "      <td>-0.011129</td>\n",
       "      <td>0.119377</td>\n",
       "      <td>0.493040</td>\n",
       "      <td>NaN</td>\n",
       "      <td>1.000000</td>\n",
       "      <td>0.672746</td>\n",
       "      <td>0.804190</td>\n",
       "      <td>0.660163</td>\n",
       "      <td>0.998233</td>\n",
       "    </tr>\n",
       "    <tr>\n",
       "      <th>sensLuminosidad</th>\n",
       "      <td>-0.006920</td>\n",
       "      <td>0.058457</td>\n",
       "      <td>0.830640</td>\n",
       "      <td>NaN</td>\n",
       "      <td>0.672746</td>\n",
       "      <td>1.000000</td>\n",
       "      <td>0.711005</td>\n",
       "      <td>0.726260</td>\n",
       "      <td>0.673931</td>\n",
       "    </tr>\n",
       "    <tr>\n",
       "      <th>sensSonido</th>\n",
       "      <td>-0.015481</td>\n",
       "      <td>0.202701</td>\n",
       "      <td>0.452213</td>\n",
       "      <td>NaN</td>\n",
       "      <td>0.804190</td>\n",
       "      <td>0.711005</td>\n",
       "      <td>1.000000</td>\n",
       "      <td>0.641660</td>\n",
       "      <td>0.805654</td>\n",
       "    </tr>\n",
       "    <tr>\n",
       "      <th>sensPir</th>\n",
       "      <td>-0.011975</td>\n",
       "      <td>0.315808</td>\n",
       "      <td>0.661991</td>\n",
       "      <td>NaN</td>\n",
       "      <td>0.660163</td>\n",
       "      <td>0.726260</td>\n",
       "      <td>0.641660</td>\n",
       "      <td>1.000000</td>\n",
       "      <td>0.661332</td>\n",
       "    </tr>\n",
       "    <tr>\n",
       "      <th>estadoLuz</th>\n",
       "      <td>-0.011025</td>\n",
       "      <td>0.119537</td>\n",
       "      <td>0.493866</td>\n",
       "      <td>NaN</td>\n",
       "      <td>0.998233</td>\n",
       "      <td>0.673931</td>\n",
       "      <td>0.805654</td>\n",
       "      <td>0.661332</td>\n",
       "      <td>1.000000</td>\n",
       "    </tr>\n",
       "  </tbody>\n",
       "</table>\n",
       "</div>"
      ],
      "text/plain": [
       "                      mes  diaSemana    minuto  idSensor  sensCorriente  \\\n",
       "mes              1.000000   0.013472 -0.000032       NaN      -0.011129   \n",
       "diaSemana        0.013472   1.000000 -0.000013       NaN       0.119377   \n",
       "minuto          -0.000032  -0.000013  1.000000       NaN       0.493040   \n",
       "idSensor              NaN        NaN       NaN       NaN            NaN   \n",
       "sensCorriente   -0.011129   0.119377  0.493040       NaN       1.000000   \n",
       "sensLuminosidad -0.006920   0.058457  0.830640       NaN       0.672746   \n",
       "sensSonido      -0.015481   0.202701  0.452213       NaN       0.804190   \n",
       "sensPir         -0.011975   0.315808  0.661991       NaN       0.660163   \n",
       "estadoLuz       -0.011025   0.119537  0.493866       NaN       0.998233   \n",
       "\n",
       "                 sensLuminosidad  sensSonido   sensPir  estadoLuz  \n",
       "mes                    -0.006920   -0.015481 -0.011975  -0.011025  \n",
       "diaSemana               0.058457    0.202701  0.315808   0.119537  \n",
       "minuto                  0.830640    0.452213  0.661991   0.493866  \n",
       "idSensor                     NaN         NaN       NaN        NaN  \n",
       "sensCorriente           0.672746    0.804190  0.660163   0.998233  \n",
       "sensLuminosidad         1.000000    0.711005  0.726260   0.673931  \n",
       "sensSonido              0.711005    1.000000  0.641660   0.805654  \n",
       "sensPir                 0.726260    0.641660  1.000000   0.661332  \n",
       "estadoLuz               0.673931    0.805654  0.661332   1.000000  "
      ]
     },
     "execution_count": 22,
     "metadata": {},
     "output_type": "execute_result"
    }
   ],
   "source": [
    "df.corr()"
   ]
  },
  {
   "cell_type": "markdown",
   "metadata": {
    "deletable": true,
    "editable": true
   },
   "source": [
    "La columna idSensor no provee información que sirva a la red neuronal, es solo un valor constante. Por otro lado, el sensor de corriente provee un valor que va a estar relacionado casi 1 a 1 con estadoLuz, ya que es lo que queremos averiguar, así que puedo eliminar ambas columnas. También veo que el mes no tiene correlación con ninguna otra columna, así que la borro."
   ]
  },
  {
   "cell_type": "code",
   "execution_count": 23,
   "metadata": {
    "collapsed": true,
    "deletable": true,
    "editable": true
   },
   "outputs": [],
   "source": [
    "del df['idSensor']\n",
    "del df['sensCorriente']\n",
    "del df['mes']"
   ]
  },
  {
   "cell_type": "code",
   "execution_count": 24,
   "metadata": {
    "collapsed": false,
    "deletable": true,
    "editable": true
   },
   "outputs": [
    {
     "data": {
      "image/png": "[encoded data removed]",
      "text/plain": [
       "<matplotlib.figure.Figure at 0x7f190eb23208>"
      ]
     },
     "metadata": {},
     "output_type": "display_data"
    }
   ],
   "source": [
    "plot_corr(df)"
   ]
  },
  {
   "cell_type": "markdown",
   "metadata": {
    "deletable": true,
    "editable": true
   },
   "source": [
    "De esta nueva versión del gráfico puedo sacar algunas conclusiones a simple vista:\n",
    "1. No existe una correlación 1 a 1 entre ningún par de variables (lo que es bueno)\n",
    "2. No exite correlación entre \"mes\" y \"diaSemana\" (lo que tiene sentido)\n",
    "3. Existe cierta correlación entre los sensores con la hora o el día.\n",
    "4. Existe una mayor correlación (colores más claros) entre los distintos sensores entre sí\n",
    "\n",
    "Entonces, parece que los datos en el dataset creado a mano tienen el sentido que se le quiso dar. Lo realmente interesante va a ser obtener estos datos del mundo real y ver que relaciones surgen.\n",
    "\n",
    "\n",
    "\n",
    "### Chequeo de distribución de clases\n",
    "Debería haber dos clases, la clase en la que el dispositivo esa prendido (estadoLuz = 1) y la clase en la que está apagado."
   ]
  },
  {
   "cell_type": "code",
   "execution_count": 25,
   "metadata": {
    "collapsed": false,
    "deletable": true,
    "editable": true,
    "scrolled": true
   },
   "outputs": [
    {
     "name": "stdout",
     "output_type": "stream",
     "text": [
      "Número de casos verdaderos:  28587 (22.06%)\n",
      "Número de casos falsos: 101014 (77.94%)\n"
     ]
    }
   ],
   "source": [
    "num_obs = len(df)\n",
    "num_true = len(df.loc[df['estadoLuz'] == 1])\n",
    "num_false = len(df.loc[df['estadoLuz'] == 0])\n",
    "print(\"Número de casos verdaderos:  {0} ({1:2.2f}%)\".format(num_true, (num_true/num_obs) * 100))\n",
    "print(\"Número de casos falsos: {0} ({1:2.2f}%)\".format(num_false, (num_false/num_obs) * 100))"
   ]
  },
  {
   "cell_type": "markdown",
   "metadata": {
    "deletable": true,
    "editable": true
   },
   "source": [
    "Esta distribución está un poquito desbalanceada, dado que el usuario está la mayor parte del día fuera de la oficina, y durante la noche durmiendo. Son pocas las horas de Lunes a Viernes en que está activo. Durante el fin de semana la cantidad de horas aumenta. Por ahí 60-40 hubiera estado mejor, ya que tendría más casos verdaderos para analizar. Vamos a ver como sale."
   ]
  },
  {
   "cell_type": "markdown",
   "metadata": {
    "deletable": true,
    "editable": true
   },
   "source": [
    "### Separando los datos para training y prueba\n",
    "Para poder hacer etapas de entrenamiento y prueba, voy a separar los datos. 70% para entrenamiento, 30% para prueba. Para esto voy a usar del módulo scikit-learn la función train_test_split.\n",
    "\n",
    "Los conjuntos de datos van a llamarse:\n",
    "* X_train: Datos de entrenamiento. Las 7 columnas con los valores del mes, día, sensores, etc, compuesto por el 70% de los registros\n",
    "* y_train: Resultado de entrenamiento. Columna *estadoLuz* para el 70% de los registros\n",
    "* X_test: Datos para hacer la validación. Tienen el mismo formato que X_train, pero corresponden al 30% del conjunto de datos\n",
    "* y_test: Resultados para validar la performance del algoritmo aplicado a X_test\n",
    "\n",
    "O puesto de otro modo:\n",
    "\n",
    "| Entrada (5 columnas) | Salida (1 columna)| \n",
    "|-------------|--------|\n",
    "| X_train (70%) | y_train|\n",
    "| X_test (30%)| y_test |"
   ]
  },
  {
   "cell_type": "code",
   "execution_count": 26,
   "metadata": {
    "collapsed": false,
    "deletable": true,
    "editable": true
   },
   "outputs": [],
   "source": [
    "from sklearn.model_selection import train_test_split\n",
    "\n",
    "feature_col_names = ['diaSemana', 'minuto', 'sensLuminosidad', 'sensSonido', 'sensPir']\n",
    "predicted_class_names = ['estadoLuz']\n",
    "\n",
    "X = df[feature_col_names].values     # Columnas del predictor (5 X m)\n",
    "y = df[predicted_class_names].values # Clase predecida (1=verdadero, 0=falso) column (1 X m)\n",
    "split_test_size = 0.30               # 0.30 es 30%, el tamaño para pruebas\n",
    "\n",
    "# 42 es una respuesta común\n",
    "X_train, X_test, y_train, y_test = train_test_split(X, y, test_size=split_test_size, random_state=42)"
   ]
  },
  {
   "cell_type": "markdown",
   "metadata": {
    "deletable": true,
    "editable": true
   },
   "source": [
    "Verifico que el tamaño relativo de los sets de entrenamiento y prueba sea lo más cercano a 70-30 posible:"
   ]
  },
  {
   "cell_type": "code",
   "execution_count": 27,
   "metadata": {
    "collapsed": false,
    "deletable": true,
    "editable": true
   },
   "outputs": [
    {
     "name": "stdout",
     "output_type": "stream",
     "text": [
      "70.00% en el set de entrenamiento\n",
      "30.00% en el set de prueba\n"
     ]
    }
   ],
   "source": [
    "print(\"{0:0.2f}% en el set de entrenamiento\".format((len(X_train)/len(df.index)) * 100))\n",
    "print(\"{0:0.2f}% en el set de prueba\".format((len(X_test)/len(df.index)) * 100))"
   ]
  },
  {
   "cell_type": "markdown",
   "metadata": {
    "deletable": true,
    "editable": true
   },
   "source": [
    "Verifico que la proporción de casos verdaderos y falsos se mantenga en los conjuntos de entrenamiento y test:"
   ]
  },
  {
   "cell_type": "code",
   "execution_count": 28,
   "metadata": {
    "collapsed": false,
    "deletable": true,
    "editable": true
   },
   "outputs": [
    {
     "name": "stdout",
     "output_type": "stream",
     "text": [
      "Verdaderos en el total     : 28587 (22.06%)\n",
      "Falsos en el total         : 101014 (77.94%)\n",
      "\n",
      "Verdaderos en entrenamiento: 19979 (22.02%)\n",
      "Falsos en entrenamiento    : 70741 (77.98%)\n",
      "\n",
      "Verdaderos en test         : 8608 (22.14%)\n",
      "Falsos en test             : 30273 (77.86%)\n"
     ]
    }
   ],
   "source": [
    "print(\"Verdaderos en el total     : {0} ({1:0.2f}%)\".format(len(df.loc[df['estadoLuz'] == 1]), (len(df.loc[df['estadoLuz'] == 1])/len(df.index)) * 100.0))\n",
    "print(\"Falsos en el total         : {0} ({1:0.2f}%)\".format(len(df.loc[df['estadoLuz'] == 0]), (len(df.loc[df['estadoLuz'] == 0])/len(df.index)) * 100.0))\n",
    "print(\"\")\n",
    "print(\"Verdaderos en entrenamiento: {0} ({1:0.2f}%)\".format(len(y_train[y_train[:] == 1]), (len(y_train[y_train[:] == 1])/len(y_train) * 100.0)))\n",
    "print(\"Falsos en entrenamiento    : {0} ({1:0.2f}%)\".format(len(y_train[y_train[:] == 0]), (len(y_train[y_train[:] == 0])/len(y_train) * 100.0)))\n",
    "print(\"\")\n",
    "print(\"Verdaderos en test         : {0} ({1:0.2f}%)\".format(len(y_test[y_test[:] == 1]), (len(y_test[y_test[:] == 1])/len(y_test) * 100.0)))\n",
    "print(\"Falsos en test             : {0} ({1:0.2f}%)\".format(len(y_test[y_test[:] == 0]), (len(y_test[y_test[:] == 0])/len(y_test) * 100.0)))"
   ]
  },
  {
   "cell_type": "markdown",
   "metadata": {
    "deletable": true,
    "editable": true
   },
   "source": [
    "El resultado está muy bien, la proporción se mantiene lo más cerca posible.\n"
   ]
  },
  {
   "cell_type": "markdown",
   "metadata": {
    "deletable": true,
    "editable": true
   },
   "source": [
    "## Entrenamiento inicial\n",
    "Para este entrenamiento voy a usar otro módulo de scikit-learn: neural_network. \n",
    "\n",
    "A diferencia del ejemplo del algoritmo de clasificación, en este caso voy a usar el algoritmo MLPRegression. Implementa un perceptrón multi capa (MLP) que se entrena usando backpropagation, pero no tiene función de activación.\n",
    "\n",
    "Más información aquí:\n",
    "http://scikit-learn.org/stable/modules/neural_networks_supervised.html#regression"
   ]
  },
  {
   "cell_type": "code",
   "execution_count": 32,
   "metadata": {
    "collapsed": false,
    "deletable": true,
    "editable": true
   },
   "outputs": [
    {
     "data": {
      "text/plain": [
       "MLPRegressor(activation='relu', alpha=0.0001, batch_size='auto', beta_1=0.9,\n",
       "       beta_2=0.999, early_stopping=False, epsilon=1e-08,\n",
       "       hidden_layer_sizes=(100,), learning_rate='constant',\n",
       "       learning_rate_init=0.001, max_iter=200, momentum=0.9,\n",
       "       nesterovs_momentum=True, power_t=0.5, random_state=1, shuffle=True,\n",
       "       solver='adam', tol=0.0001, validation_fraction=0.1, verbose=False,\n",
       "       warm_start=False)"
      ]
     },
     "execution_count": 32,
     "metadata": {},
     "output_type": "execute_result"
    }
   ],
   "source": [
    "from sklearn.neural_network import MLPRegressor\n",
    "reg_model = MLPRegressor(random_state=1)\n",
    "reg_model.fit(X_train, y_train.ravel())"
   ]
  },
  {
   "cell_type": "markdown",
   "metadata": {
    "deletable": true,
    "editable": true
   },
   "source": [
    "### Performance usando los datos de entrenamiento\n",
    "Para esto voy a importar la función metrics."
   ]
  },
  {
   "cell_type": "code",
   "execution_count": 73,
   "metadata": {
    "collapsed": false,
    "deletable": true,
    "editable": true,
    "scrolled": true
   },
   "outputs": [
    {
     "name": "stdout",
     "output_type": "stream",
     "text": [
      "Error medio absoluto: 0.5336\n",
      "Promedio de error absoluto: 0.2896\n",
      "Promedio de error cuadrado: 0.1554\n",
      "Media de error absoluto: 0.1987\n",
      "\n"
     ]
    }
   ],
   "source": [
    "from sklearn import metrics\n",
    "reg_predict_train = reg_model.predict(X_train)\n",
    "\n",
    "print(\"Error medio absoluto: {0:.4f}\".format(metrics.explained_variance_score(y_train, reg_predict_train)))\n",
    "print(\"Promedio de error absoluto: {0:.4f}\".format(metrics.mean_absolute_error(y_train, reg_predict_train)))\n",
    "print(\"Promedio de error cuadrado: {0:.4f}\".format(metrics.mean_squared_error(y_train, reg_predict_train)))\n",
    "print(\"Media de error absoluto: {0:.4f}\".format(metrics.median_absolute_error(y_train, reg_predict_train)))\n",
    "print()"
   ]
  },
  {
   "cell_type": "markdown",
   "metadata": {
    "deletable": true,
    "editable": true
   },
   "source": [
    "### Performance usando los datos de prueba"
   ]
  },
  {
   "cell_type": "code",
   "execution_count": 74,
   "metadata": {
    "collapsed": false,
    "deletable": true,
    "editable": true,
    "scrolled": true
   },
   "outputs": [
    {
     "name": "stdout",
     "output_type": "stream",
     "text": [
      "Error medio absoluto: 0.5358\n",
      "Promedio de error absoluto: 0.2885\n",
      "Promedio de error cuadrado: 0.1547\n",
      "Media de error absoluto: 0.1981\n",
      "\n"
     ]
    }
   ],
   "source": [
    "reg_predict_test = reg_model.predict(X_test)\n",
    "\n",
    "print(\"Error medio absoluto: {0:.4f}\".format(metrics.explained_variance_score(y_test, reg_predict_test)))\n",
    "print(\"Promedio de error absoluto: {0:.4f}\".format(metrics.mean_absolute_error(y_test, reg_predict_test)))\n",
    "print(\"Promedio de error cuadrado: {0:.4f}\".format(metrics.mean_squared_error(y_test, reg_predict_test)))\n",
    "print(\"Media de error absoluto: {0:.4f}\".format(metrics.median_absolute_error(y_test, reg_predict_test)))\n",
    "print()"
   ]
  },
  {
   "cell_type": "markdown",
   "metadata": {
    "collapsed": true,
    "deletable": true,
    "editable": true
   },
   "source": [
    "## Verificación final\n",
    "¿Qué pasaría si tengo una nueva entrada en el dataset, que representa un comportamiento del usuario registrado en un momento en particular?\n",
    "\n",
    "Por ejemplo, si digo \"El Martes a las 2:16am ladro un perro mientras el usuario dormia\", se podría traducir en un registro como:\n",
    "\n",
    "| diaSemana | minuto | sensLuminosidad | sensSonido | sensPir |\n",
    "|-|\n",
    "| 2 | 136 | 0.020 | 0.400 | 1 |\n",
    "\n",
    "Uno esperaría que a pesar de la detección de sonido y de presencia (el usuario se mueve), la luz debería estar apagada de todos modos. Veamos que resultado muestra el modelo."
   ]
  },
  {
   "cell_type": "code",
   "execution_count": 54,
   "metadata": {
    "collapsed": false,
    "deletable": true,
    "editable": true
   },
   "outputs": [
    {
     "name": "stdout",
     "output_type": "stream",
     "text": [
      "Resultado:  [ 0.117097]\n"
     ]
    }
   ],
   "source": [
    "X_new_test = [[2, 136, 0.02, 0.04, 1]]\n",
    "reg_predict_new_test = reg_model.predict(X_new_test)\n",
    "\n",
    "print (\"Resultado: \", reg_predict_new_test)"
   ]
  },
  {
   "cell_type": "markdown",
   "metadata": {},
   "source": [
    "Por otro lado, si el evento ocurriera a las 18:30, con un nivel más alto de luminosidad y sonido:"
   ]
  },
  {
   "cell_type": "code",
   "execution_count": 66,
   "metadata": {
    "collapsed": false
   },
   "outputs": [
    {
     "name": "stdout",
     "output_type": "stream",
     "text": [
      "Resultado:  [ 0.92230051]\n"
     ]
    }
   ],
   "source": [
    "X_new_test = [[2, 1110, 0.8, 0.7, 1]]\n",
    "reg_predict_new_test = reg_model.predict(X_new_test)\n",
    "\n",
    "print (\"Resultado: \", reg_predict_new_test)"
   ]
  },
  {
   "cell_type": "markdown",
   "metadata": {
    "deletable": true,
    "editable": true
   },
   "source": [
    "El resultado es el esperado. Como dije al principio, quizá el sensor de luminosidad está demasiado relacionado con el resultado, es algo para ver. De todos modos, este modelo parece algo que podemos aplicar, extendiendolo a más de un dispositivo por ambiente.\n",
    "\n",
    "Lo otro que podemos hacer es usar la salida de esta red como entrada para una red general, que represente la casa."
   ]
  }
 ],
 "metadata": {
  "kernelspec": {
   "display_name": "Python 3",
   "language": "python",
   "name": "python3"
  },
  "language_info": {
   "codemirror_mode": {
    "name": "ipython",
    "version": 3
   },
   "file_extension": ".py",
   "mimetype": "text/x-python",
   "name": "python",
   "nbconvert_exporter": "python",
   "pygments_lexer": "ipython3",
   "version": "3.5.3"
  }
 },
 "nbformat": 4,
 "nbformat_minor": 2
}
