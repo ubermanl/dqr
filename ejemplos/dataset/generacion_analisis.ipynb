{
 "cells": [
  {
   "cell_type": "markdown",
   "metadata": {},
   "source": [
    "# Simulacion de un dataset de sensado DqR Home\n",
    "\n",
    "El ambiente a simular se compone de la siguiente manera:\n",
    "\n",
    "**Dispositivos DqR**\n",
    "  - 1 x lux-potentia\n",
    "  - 1 x omni-potentia\n",
    "  - 1 x potentia-potentia\n",
    "\n",
    "**Comportamiento simulado**\n",
    "  - 23hs a 7:00hs: sin actividad\n",
    "  - 7:00 a 7:30: Preparación para salir\n",
    "  - 7:30 a 18:30hs: \n",
    "      - Día laboral: sin actividad\n",
    "      - Fin de semana: actividad aleatoria\n",
    "  - 18:30hs a 19:30hs: actividad aleatoria\n",
    "  - 19:30 a 23:30hs: actividad con luz prendida\n",
    "  \n",
    "**Parámetros de luminosidad del ambiente**\n",
    "  - Día soleado: 600 lm\n",
    "  - Día nublado: 300 lm\n",
    "  - Día nublado + luz: 500 lm\n",
    "  - Noche: 0-5 lm\n",
    "  - Noche + luz: 400 lm"
   ]
  },
  {
   "cell_type": "markdown",
   "metadata": {},
   "source": [
    "## Modelo de DWH\n",
    "\n",
    "**Dimensiones**\n",
    "- Tiempo: minutos, día de la semana, estación\n",
    "- Dispositivo\n",
    "- Módulo\n",
    "- Ambiente\n",
    "\n",
    "**Hechos**\n",
    "- estado_modulo\n",
    "- medicion_sonido\n",
    "- medicion_luz\n",
    "- medicion_movimiento\n",
    "- medicion_corriente\n",
    "- medicion_temperatura\n"
   ]
  },
  {
   "cell_type": "markdown",
   "metadata": {},
   "source": [
    "## Configuración inicial\n",
    "\n",
    "### Import de librerías"
   ]
  },
  {
   "cell_type": "code",
   "execution_count": 532,
   "metadata": {},
   "outputs": [],
   "source": [
    "import pandas as pd\n",
    "import numpy as np\n",
    "import matplotlib as mpl\n",
    "import matplotlib.pyplot as plt\n",
    "from datetime import datetime, timedelta\n",
    "from IPython.display import display\n",
    "from sklearn.cluster import KMeans\n",
    "import MySQLdb\n",
    "import seaborn.apionly as sns\n",
    "from pandas.io import sql\n",
    "from sqlalchemy import create_engine\n",
    "\n",
    "%matplotlib inline\n",
    "\n",
    "pd.options.mode.chained_assignment = None  # default='warn'"
   ]
  },
  {
   "cell_type": "markdown",
   "metadata": {},
   "source": [
    "### Variables globales"
   ]
  },
  {
   "cell_type": "code",
   "execution_count": 533,
   "metadata": {
    "collapsed": true
   },
   "outputs": [],
   "source": [
    "# AÑO a simular\n",
    "ANIO = 2017\n",
    "\n",
    "# Config para luminosidad\n",
    "df_solar = pd.read_excel(\"dataset_solar.xls\")\n",
    "salida_sol_mins = 30                             # minutos que dura la salida/puesta del sol\n",
    "prob_nublado = 0.343                             # probabilidad que un dia sea nublado (segun dataset del SMN)\n",
    "lumenes_noche = 0                                # nivel de luminosidad media durante la noche\n",
    "lumenes_soleado = 600                            # nivel de luminosidad media durante el dia si esta soleado\n",
    "lumenes_nublado = 350                            # nivel de luminosidad media durante el dia si esta nublado\n",
    "lumenes_nublado_luz = 500                        # nivel de luminosidad media durante el dia si esta nublado y la luz prendida\n",
    "lumenes_lampara = 400                            # nivel de luminosidad media durante la noche con la luz prendida\n",
    "lumenes_desvio = 25                              # desvio de la media de luminosidad para simular sensado\n",
    "\n",
    "# Config para presencia\n",
    "hora_noche_inicio = 1420                         # horario en que se suele ir a dormir (23:40 en minutos)\n",
    "hora_noche_fin = 420                             # horario en que se suele despertar (7am en minutos)\n",
    "hora_laboral_inicio = 450                        # horario en que suele ir al trabajo (7:30am en minutos)\n",
    "hora_laboral_fin = 1110                          # horario en que suele regresar del trabajo (18:30 en minutos)\n",
    "sonido_silencio_media = 35                       # nivel de sonido medio cuando no hay ruido ambiental\n",
    "sonido_silencio_desvio = 2                       # desvio estandar del nivel de sonido cuando no hay ruido ambiental\n",
    "sonido_presencia_media = 60                      # nivel de sonido medio cuando hay presencia\n",
    "sonido_presencia_desvio = 6                      # desvio estandar del nivel de sonido cuando hay presencia\n",
    "prob_movimiento_noche = 0.005                    # probabilidad de que se detecte movimiento durante la noche\n",
    "prob_movimiento_presencia = 0.9                  # probabilidad de que se detecte movimiento cuando hay presencia\n",
    "movimiento_tiempo_minimo = 5                     # tiempo minimo de activacion del sensor de movimiento (en minutos)\n",
    "\n",
    "# Config de activacion de lux\n",
    "prob_lux_on_presencia_dia = 0.1                  # probabilidad de prender la luz durante el dia (con deteccion de presencia)\n",
    "prob_lux_on_presencia_noche = 0.7                # probabilidad de prender la luz durante la noche (con deteccion de presencia)\n",
    "prob_lux_on_sinpresencia_dia = 0.01              # probabilidad de prender la luz durante el dia (sin deteccion de presencia)\n",
    "prob_lux_on_sinpresencia_noche = 0.05            # probabilidad de prender la luz durante la noche (sin deteccion de presencia)\n",
    "media_lumenes_limite_prendido = 150              # limite de nivel de luz para prender la luz (media)\n",
    "desvio_lumenes_limite_prendido = 20              # limite de nivel de luz para prender la luz (desvio)\n",
    "\n",
    "# Config para temperatura\n",
    "df_temp = pd.read_csv(\"dataset_meteorologico.csv\",delimiter=';',decimal=',')"
   ]
  },
  {
   "cell_type": "markdown",
   "metadata": {},
   "source": [
    "### Datos de conexión a la base de datos del ratio"
   ]
  },
  {
   "cell_type": "code",
   "execution_count": 534,
   "metadata": {
    "collapsed": true
   },
   "outputs": [],
   "source": [
    "# Base de datos Consola Ratio\n",
    "dbname = \"ratio_dwh\"\n",
    "dbhost = \"localhost\"\n",
    "dbport = 3306\n",
    "dbuser = \"root\"\n",
    "dbpass = \"root\"\n",
    "\n",
    "# Base de datos histórica\n",
    "dbname_hist = \"ratio_dwh\"\n",
    "dbhost_hist = \"localhost\"\n",
    "dbport_hist = 3306\n",
    "dbuser_hist = \"root\"\n",
    "dbpass_hist = \"root\"\n",
    "table_hist = \"events_hist\""
   ]
  },
  {
   "cell_type": "markdown",
   "metadata": {},
   "source": [
    "## Funciones\n",
    "\n",
    "Las siguientes funciones generan datos simulados para un día"
   ]
  },
  {
   "cell_type": "markdown",
   "metadata": {},
   "source": [
    "### Generar Estructura del año\n",
    "Devuelve un dataframe con las columnas básicas de la dimensión tiempo"
   ]
  },
  {
   "cell_type": "code",
   "execution_count": 535,
   "metadata": {
    "collapsed": true,
    "scrolled": false
   },
   "outputs": [],
   "source": [
    "def generar_estructura_anio(anio=ANIO):\n",
    "    fechas_mins = pd.date_range('1/1/'+str(anio),'1/1/'+str(anio+1), freq='Min')[:-1]\n",
    "    df_general = pd.DataFrame(fechas_mins,columns=['TIMESTAMP'])\n",
    "    df_general['YEARDAY'] = df_general['TIMESTAMP'].dt.strftime('%j').astype(int)\n",
    "    df_general['WEEKDAY'] = df_general['TIMESTAMP'].dt.weekday\n",
    "    df_general['HOUR'] = df_general['TIMESTAMP'].dt.hour\n",
    "    df_general['MINUTE'] = df_general['TIMESTAMP'].dt.minute\n",
    "    df_general['MINDAY'] = df_general['HOUR'] * 60 + df_general['MINUTE']\n",
    "    return df_general\n",
    "\n",
    "def generar_estructura_anio_oldschool(anio=ANIO):\n",
    "    inicio = '01-01-' + str(anio)\n",
    "    fecha = datetime.strptime(inicio,'%d-%m-%Y')\n",
    "    df_general = []\n",
    "    while (anio == fecha.year):\n",
    "        yearday = int(fecha.strftime('%j'))\n",
    "        weekday = fecha.weekday()\n",
    "        dia = [ {'YEARDAY': yearday, 'WEEKDAY': weekday, 'MINDAY': x, 'HOUR': x/60, 'MINUTE': x%60 } for x in range(0,1440) ]\n",
    "        df_general = df_general + dia\n",
    "        fecha = fecha + timedelta(days=1)\n",
    "    return pd.DataFrame.from_records(df_general, columns=['YEARDAY','WEEKDAY','MINDAY','HOUR','MINUTE'])"
   ]
  },
  {
   "cell_type": "markdown",
   "metadata": {},
   "source": [
    "### Generar día de luminosidad\n",
    "Se define la funcion generar_luminosidad que acepta como argumento el dia del año. Se retorna un dataframe con los 1440 minutos del dia con la simulacion de la luz acorde a la salida y puesta del sol y con una probabilidad de lluvia."
   ]
  },
  {
   "cell_type": "code",
   "execution_count": 536,
   "metadata": {
    "collapsed": true
   },
   "outputs": [],
   "source": [
    "def generar_luminosidad(dia):\n",
    "    #np.random.seed(13)\n",
    "    salidaH = df_solar.iloc[dia-1].SALIDA_HORA\n",
    "    salidaM = df_solar.iloc[dia-1].SALIDA_MIN\n",
    "    min_salida = salidaH * 60 + salidaM\n",
    "    puestaH = df_solar.iloc[dia-1].PUESTA_HORA\n",
    "    puestaM = df_solar.iloc[dia-1].PUESTA_MIN\n",
    "    min_puesta = puestaH * 60 + puestaM\n",
    "    \n",
    "    luz_dia = lumenes_nublado if np.random.binomial(1,prob_nublado) == 1 else lumenes_soleado\n",
    "    \n",
    "    result = np.random.randint(6, size=1440)\n",
    "    \n",
    "    ultimo = result[min_salida]\n",
    "    for min in range(salida_sol_mins):\n",
    "        result[min_salida + min] = ultimo + luz_dia / salida_sol_mins\n",
    "        ultimo += luz_dia / salida_sol_mins\n",
    "    result[min_salida + salida_sol_mins:min_puesta + 1] = np.random.normal(luz_dia,lumenes_desvio,min_puesta+1-min_salida-salida_sol_mins)\n",
    "    for min in range(salida_sol_mins):\n",
    "        result[min_puesta + min] = abs(ultimo - luz_dia / salida_sol_mins)\n",
    "        ultimo -= luz_dia / salida_sol_mins\n",
    "    return result"
   ]
  },
  {
   "cell_type": "markdown",
   "metadata": {},
   "source": [
    "### Generar día de presencia\n",
    "Se simulan los sensores de sonido y movimiento segun la probabilidad de presencia en el ambiente por franja horaria, según el día especificado (laboral o fin de semana)"
   ]
  },
  {
   "cell_type": "code",
   "execution_count": 537,
   "metadata": {
    "collapsed": true
   },
   "outputs": [],
   "source": [
    "def generar_presencia(laboral=True):\n",
    "    sonido_base = np.random.normal(sonido_silencio_media,sonido_silencio_desvio,1440)\n",
    "    movimiento_base = np.random.binomial(1,prob_movimiento_noche,1440)\n",
    "    \n",
    "    if laboral:\n",
    "        movimiento_base[hora_noche_fin:hora_laboral_inicio+1] = np.random.binomial(1,prob_movimiento_presencia,hora_laboral_inicio-hora_noche_fin+1)\n",
    "        movimiento_base[hora_laboral_fin:hora_noche_inicio+1] = np.random.binomial(1,prob_movimiento_presencia,hora_noche_inicio-hora_laboral_fin+1)\n",
    "    else:\n",
    "        movimiento_base[hora_noche_fin:hora_noche_inicio+1] = np.random.binomial(1,prob_movimiento_presencia,hora_noche_inicio-hora_noche_fin+1)\n",
    "        \n",
    "    # Suavizado de movimiento (y ajustando tambien el de sonido para correlacionarlo)\n",
    "    min = 0\n",
    "    while min < 1440:\n",
    "        if movimiento_base[min] == 1:\n",
    "            last_min = min + movimiento_tiempo_minimo if min + movimiento_tiempo_minimo < 1440 else 1440\n",
    "            movimiento_base[min:last_min] = 1\n",
    "            sonido_base[min:last_min] = np.random.normal(sonido_presencia_media,sonido_presencia_desvio,last_min-min)\n",
    "            min = last_min\n",
    "        min += 1\n",
    "        \n",
    "    return pd.DataFrame(pd.Series(sonido_base),columns=['SONIDO']).join(pd.DataFrame(pd.Series(movimiento_base),columns=['MOVIMIENTO']))"
   ]
  },
  {
   "attachments": {},
   "cell_type": "markdown",
   "metadata": {},
   "source": [
    "### Generar año de consumo de heladera\n",
    "Se utilizan las estimaciones obtenidas de la preparación de datos para generar una lista aleatoria de consumo del año configurado.\n",
    "Entonces se devuelve una lista que contiene el consumo de una heladera para todos los minutos del año."
   ]
  },
  {
   "cell_type": "code",
   "execution_count": 538,
   "metadata": {},
   "outputs": [],
   "source": [
    "def generar_consumo_heladera(parametros_consumo,anio=ANIO):\n",
    "    # parametros_consumo es una lista que contiene los siguientes datos:\n",
    "    tiempo_heladera_on_media = parametros_consumo[0]\n",
    "    tiempo_heladera_on_desvio = parametros_consumo[1]\n",
    "    tiempo_heladera_off_media = parametros_consumo[2]\n",
    "    tiempo_heladera_off_desvio = parametros_consumo[3]\n",
    "    heladera_consumo_on_media = parametros_consumo[4]\n",
    "    heladera_consumo_on_desvio = parametros_consumo[5]\n",
    "    heladera_consumo_off_media = parametros_consumo[6]\n",
    "    heladera_consumo_off_desvio = parametros_consumo[7]\n",
    "    \n",
    "    ultimo_min = datetime.strptime('31-12-'+str(anio),'%d-%m-%Y').timetuple().tm_yday * 1440\n",
    "    minuto_inicio = 0\n",
    "    df_heladera_anio = []\n",
    "    ultimo_periodo = 'on'\n",
    "    while minuto_inicio < ultimo_min:\n",
    "        periodo_off = abs(int(np.random.normal(tiempo_heladera_off_media, tiempo_heladera_off_desvio)))\n",
    "        periodo_on = abs(int(np.random.normal(tiempo_heladera_on_media, tiempo_heladera_on_desvio)))\n",
    "    \n",
    "        if ultimo_periodo == 'off':\n",
    "            # generacion de periodo de encendido\n",
    "            consumo_media = heladera_consumo_on_media\n",
    "            consumo_desvio = heladera_consumo_on_desvio\n",
    "            periodo_mins = periodo_on\n",
    "            ultimo_periodo = 'on'\n",
    "        else:\n",
    "            # generacion de periodo de apagado\n",
    "            consumo_media = heladera_consumo_off_media\n",
    "            consumo_desvio = heladera_consumo_off_desvio\n",
    "            periodo_mins = periodo_off\n",
    "            ultimo_periodo = 'off'\n",
    "        \n",
    "        df_heladera_anio[minuto_inicio:minuto_inicio+periodo_mins] =  [x if x >= 0 else 0 for x in np.random.normal(consumo_media, consumo_desvio, size=periodo_mins+1)]\n",
    "        minuto_inicio += periodo_mins\n",
    "    return df_heladera_anio[0:ultimo_min]"
   ]
  },
  {
   "cell_type": "markdown",
   "metadata": {},
   "source": [
    "## Preparación de datos\n",
    "En principio se trabajan algunos datasets utilizados para la simulación final"
   ]
  },
  {
   "cell_type": "markdown",
   "metadata": {},
   "source": [
    "### Preparación de variables de consumo de Lux (media y desvío)\n",
    "Se utiliza las mediciones reales de iluminacion de la cocina para calcular valores medios y desvios de consumo de la misma. El resultado serán la media y desvío de consumo de la lámpara asociada al Lux cuando está prendida y apagada."
   ]
  },
  {
   "cell_type": "code",
   "execution_count": 539,
   "metadata": {
    "collapsed": true
   },
   "outputs": [],
   "source": [
    "# Estrayendo valores de sensado del modulo Lux (51) despues del 18/10\n",
    "conn = MySQLdb.connect(host=dbhost, port=dbport, user=dbuser, passwd=dbpass, db=dbname)\n",
    "df_lux_consumo = pd.read_sql('select ts, value from device_events d join device_event_sensors s on d.id=s.device_event_id where module_id=51 and sensor_type_id = 1 and ts > \"2017-10-18\"', con=conn)\n",
    "conn.close()"
   ]
  },
  {
   "cell_type": "code",
   "execution_count": 540,
   "metadata": {},
   "outputs": [
    {
     "data": {
      "text/plain": [
       "<matplotlib.axes._subplots.AxesSubplot at 0xa7be1e10>"
      ]
     },
     "execution_count": 540,
     "metadata": {},
     "output_type": "execute_result"
    },
    {
     "data": {
      "image/png": "[encoded data removed]",
      "text/plain": [
       "<matplotlib.figure.Figure at 0xfee85710>"
      ]
     },
     "metadata": {},
     "output_type": "display_data"
    }
   ],
   "source": [
    "df_lux_consumo.value.hist(bins=100)"
   ]
  },
  {
   "cell_type": "markdown",
   "metadata": {},
   "source": [
    "Utilizando kmeans se puede analizar la distribucion bimodal para sacar las medias y desvios de cada estado (on/off)"
   ]
  },
  {
   "cell_type": "code",
   "execution_count": 541,
   "metadata": {
    "collapsed": true
   },
   "outputs": [],
   "source": [
    "# Se entrena para clusterizar (consumo luz prendida | consumo luz apagada)\n",
    "kmeans = KMeans(n_clusters=2).fit(df_lux_consumo.value.values.reshape(-1,1))\n",
    "\n",
    "# Calculo de las medias (centros de los clusters)\n",
    "media_luz_off = kmeans.cluster_centers_[0][0]  # media de consumo cuando esta la luz apagada\n",
    "media_luz_on = kmeans.cluster_centers_[1][0]   # media de consumo cuando esta la luz prendida\n",
    "\n",
    "# Para calcular el desvio se encuentra el punto límite de clasificación y se computan los std de cada grupo\n",
    "for i in range(100,1500):\n",
    "    if kmeans.predict(i/1000.0) == 1:\n",
    "        limite_consumo_on = i/1000.0\n",
    "        break\n",
    "desvio_luz_off = df_lux_consumo[ df_lux_consumo.value < limite_consumo_on ]['value'].std()\n",
    "desvio_luz_on = df_lux_consumo[ df_lux_consumo.value > limite_consumo_on ]['value'].std()"
   ]
  },
  {
   "cell_type": "markdown",
   "metadata": {},
   "source": [
    "### Preparación de variables de consumo de heladera (media y desvío)\n",
    "Se analizan los datos reales del consumo de la heladera para simularlo a lo largo del año"
   ]
  },
  {
   "cell_type": "code",
   "execution_count": 542,
   "metadata": {
    "collapsed": true
   },
   "outputs": [],
   "source": [
    "# Estrayendo valores de sensado del modulo Pot (61) despues del 21/10\n",
    "conn = MySQLdb.connect(host=dbhost, port=dbport, user=dbuser, passwd=dbpass, db=dbname)\n",
    "df_heladera_consumo = pd.read_sql('select ts, value from device_events d join device_event_sensors s on d.id=s.device_event_id where module_id=61 and sensor_type_id = 1 and ts > \"2017-10-21\"', con=conn)\n",
    "conn.close()"
   ]
  },
  {
   "cell_type": "code",
   "execution_count": 543,
   "metadata": {
    "collapsed": true,
    "scrolled": false
   },
   "outputs": [],
   "source": [
    "df_heladera_consumo['MINUTO_DIA'] = df_heladera_consumo.ts.dt.hour * 60 +  df_heladera_consumo.ts.dt.minute  # Se genera la dimension MINUTO_DIA"
   ]
  },
  {
   "cell_type": "markdown",
   "metadata": {},
   "source": [
    "Se selecciona un intervalo de medición contínua para determinar mejor el patrón de consumo"
   ]
  },
  {
   "cell_type": "code",
   "execution_count": 544,
   "metadata": {},
   "outputs": [
    {
     "data": {
      "text/html": [
       "<div>\n",
       "<style>\n",
       "    .dataframe thead tr:only-child th {\n",
       "        text-align: right;\n",
       "    }\n",
       "\n",
       "    .dataframe thead th {\n",
       "        text-align: left;\n",
       "    }\n",
       "\n",
       "    .dataframe tbody tr th {\n",
       "        vertical-align: top;\n",
       "    }\n",
       "</style>\n",
       "<table border=\"1\" class=\"dataframe\">\n",
       "  <thead>\n",
       "    <tr style=\"text-align: right;\">\n",
       "      <th></th>\n",
       "      <th>ts</th>\n",
       "      <th>value</th>\n",
       "      <th>MINUTO_DIA</th>\n",
       "    </tr>\n",
       "  </thead>\n",
       "  <tbody>\n",
       "    <tr>\n",
       "      <th>1</th>\n",
       "      <td>2017-10-21 17:25:57</td>\n",
       "      <td>0.0644</td>\n",
       "      <td>1045</td>\n",
       "    </tr>\n",
       "    <tr>\n",
       "      <th>4</th>\n",
       "      <td>2017-10-21 17:30:44</td>\n",
       "      <td>0.3085</td>\n",
       "      <td>1050</td>\n",
       "    </tr>\n",
       "    <tr>\n",
       "      <th>5</th>\n",
       "      <td>2017-10-21 17:44:05</td>\n",
       "      <td>0.0011</td>\n",
       "      <td>1064</td>\n",
       "    </tr>\n",
       "    <tr>\n",
       "      <th>9</th>\n",
       "      <td>2017-10-21 18:01:12</td>\n",
       "      <td>0.8285</td>\n",
       "      <td>1081</td>\n",
       "    </tr>\n",
       "    <tr>\n",
       "      <th>1009</th>\n",
       "      <td>2017-10-22 10:43:03</td>\n",
       "      <td>0.0020</td>\n",
       "      <td>643</td>\n",
       "    </tr>\n",
       "    <tr>\n",
       "      <th>1021</th>\n",
       "      <td>2017-10-22 10:57:03</td>\n",
       "      <td>0.7802</td>\n",
       "      <td>657</td>\n",
       "    </tr>\n",
       "    <tr>\n",
       "      <th>1022</th>\n",
       "      <td>2017-10-22 19:47:26</td>\n",
       "      <td>0.0000</td>\n",
       "      <td>1187</td>\n",
       "    </tr>\n",
       "    <tr>\n",
       "      <th>1030</th>\n",
       "      <td>2017-10-22 20:01:24</td>\n",
       "      <td>0.0000</td>\n",
       "      <td>1201</td>\n",
       "    </tr>\n",
       "    <tr>\n",
       "      <th>1035</th>\n",
       "      <td>2017-10-22 20:35:05</td>\n",
       "      <td>0.0000</td>\n",
       "      <td>1235</td>\n",
       "    </tr>\n",
       "    <tr>\n",
       "      <th>1042</th>\n",
       "      <td>2017-10-22 20:52:56</td>\n",
       "      <td>0.0000</td>\n",
       "      <td>1252</td>\n",
       "    </tr>\n",
       "  </tbody>\n",
       "</table>\n",
       "</div>"
      ],
      "text/plain": [
       "                      ts   value  MINUTO_DIA\n",
       "1    2017-10-21 17:25:57  0.0644        1045\n",
       "4    2017-10-21 17:30:44  0.3085        1050\n",
       "5    2017-10-21 17:44:05  0.0011        1064\n",
       "9    2017-10-21 18:01:12  0.8285        1081\n",
       "1009 2017-10-22 10:43:03  0.0020         643\n",
       "1021 2017-10-22 10:57:03  0.7802         657\n",
       "1022 2017-10-22 19:47:26  0.0000        1187\n",
       "1030 2017-10-22 20:01:24  0.0000        1201\n",
       "1035 2017-10-22 20:35:05  0.0000        1235\n",
       "1042 2017-10-22 20:52:56  0.0000        1252"
      ]
     },
     "execution_count": 544,
     "metadata": {},
     "output_type": "execute_result"
    }
   ],
   "source": [
    "df_heladera_consumo [df_heladera_consumo.MINUTO_DIA.diff() > 2]"
   ]
  },
  {
   "cell_type": "code",
   "execution_count": 545,
   "metadata": {
    "collapsed": true
   },
   "outputs": [],
   "source": [
    "df_heladera_consumo = df_heladera_consumo.iloc[9:1009]     # Se selecciona un intervalo de medicion continua"
   ]
  },
  {
   "cell_type": "code",
   "execution_count": 546,
   "metadata": {},
   "outputs": [
    {
     "data": {
      "text/html": [
       "<div>\n",
       "<style>\n",
       "    .dataframe thead tr:only-child th {\n",
       "        text-align: right;\n",
       "    }\n",
       "\n",
       "    .dataframe thead th {\n",
       "        text-align: left;\n",
       "    }\n",
       "\n",
       "    .dataframe tbody tr th {\n",
       "        vertical-align: top;\n",
       "    }\n",
       "</style>\n",
       "<table border=\"1\" class=\"dataframe\">\n",
       "  <thead>\n",
       "    <tr style=\"text-align: right;\">\n",
       "      <th></th>\n",
       "      <th>value</th>\n",
       "      <th>MINUTO_DIA</th>\n",
       "    </tr>\n",
       "  </thead>\n",
       "  <tbody>\n",
       "    <tr>\n",
       "      <th>count</th>\n",
       "      <td>1000.000000</td>\n",
       "      <td>1000.000000</td>\n",
       "    </tr>\n",
       "    <tr>\n",
       "      <th>mean</th>\n",
       "      <td>0.313992</td>\n",
       "      <td>658.661000</td>\n",
       "    </tr>\n",
       "    <tr>\n",
       "      <th>std</th>\n",
       "      <td>0.365218</td>\n",
       "      <td>479.583451</td>\n",
       "    </tr>\n",
       "    <tr>\n",
       "      <th>min</th>\n",
       "      <td>0.000000</td>\n",
       "      <td>0.000000</td>\n",
       "    </tr>\n",
       "    <tr>\n",
       "      <th>25%</th>\n",
       "      <td>0.001800</td>\n",
       "      <td>249.750000</td>\n",
       "    </tr>\n",
       "    <tr>\n",
       "      <th>50%</th>\n",
       "      <td>0.003700</td>\n",
       "      <td>499.500000</td>\n",
       "    </tr>\n",
       "    <tr>\n",
       "      <th>75%</th>\n",
       "      <td>0.722550</td>\n",
       "      <td>1190.250000</td>\n",
       "    </tr>\n",
       "    <tr>\n",
       "      <th>max</th>\n",
       "      <td>0.974800</td>\n",
       "      <td>1439.000000</td>\n",
       "    </tr>\n",
       "  </tbody>\n",
       "</table>\n",
       "</div>"
      ],
      "text/plain": [
       "             value   MINUTO_DIA\n",
       "count  1000.000000  1000.000000\n",
       "mean      0.313992   658.661000\n",
       "std       0.365218   479.583451\n",
       "min       0.000000     0.000000\n",
       "25%       0.001800   249.750000\n",
       "50%       0.003700   499.500000\n",
       "75%       0.722550  1190.250000\n",
       "max       0.974800  1439.000000"
      ]
     },
     "execution_count": 546,
     "metadata": {},
     "output_type": "execute_result"
    }
   ],
   "source": [
    "df_heladera_consumo.describe()"
   ]
  },
  {
   "cell_type": "markdown",
   "metadata": {},
   "source": [
    "Se calculan las media y desvio del consumo y del tiempo que está prendida y apagada la heladera"
   ]
  },
  {
   "cell_type": "code",
   "execution_count": 547,
   "metadata": {
    "collapsed": true,
    "scrolled": false
   },
   "outputs": [],
   "source": [
    "df_heladera_consumo = df_heladera_consumo.assign(ESTADO = 0)\n",
    "df_heladera_consumo = df_heladera_consumo.assign(CAMBIO_ESTADO = 0)\n",
    "df_heladera_consumo.loc[ df_heladera_consumo.value > 0.2, 'ESTADO'] = 1\n",
    "df_heladera_consumo['CAMBIO_ESTADO'] = df_heladera_consumo.ESTADO.diff()\n",
    "\n",
    "# Consumo de la heladera (media y desvio)\n",
    "heladera_consumo_on_media = df_heladera_consumo.query('ESTADO == 1').value.mean()\n",
    "heladera_consumo_on_desvio = df_heladera_consumo.query('ESTADO == 1').value.std()\n",
    "heladera_consumo_off_media = df_heladera_consumo.query('ESTADO == 0').value.mean()\n",
    "heladera_consumo_off_desvio = df_heladera_consumo.query('ESTADO == 0').value.std()\n",
    "\n",
    "# Periodos en que estuvo prendida o apagada la heladera\n",
    "periodo_heladera = pd.DataFrame(df_heladera_consumo[ (df_heladera_consumo.CAMBIO_ESTADO == -1) | (df_heladera_consumo.CAMBIO_ESTADO == 1) ][1:].ts.diff().dt.seconds/60)\n",
    "periodo_heladera.rename(columns = {'ts':'PERIODO_MINUTOS'}, inplace=True)\n",
    "heladera_tiempo_media = periodo_heladera.PERIODO_MINUTOS.mean()\n",
    "heladera_tiempo_desvio = periodo_heladera.PERIODO_MINUTOS.std()\n",
    "\n",
    "# Se agregan los datos medidos para definir periodos de prendida y apagada\n",
    "periodo_heladera = periodo_heladera.join(df_heladera_consumo, rsuffix='_raw')\n",
    "periodo_heladera_prendida = periodo_heladera.query('CAMBIO_ESTADO == -1')\n",
    "periodo_heladera_apagada = periodo_heladera.query('CAMBIO_ESTADO == 1')"
   ]
  },
  {
   "cell_type": "markdown",
   "metadata": {},
   "source": [
    "Entonces así se pueden calcular una estimación de tiempos en minutos durante los cuales la heladera está prendida y apagada."
   ]
  },
  {
   "cell_type": "code",
   "execution_count": 548,
   "metadata": {
    "collapsed": true,
    "scrolled": true
   },
   "outputs": [],
   "source": [
    "tiempo_heladera_on_media = periodo_heladera_prendida[ periodo_heladera_prendida.PERIODO_MINUTOS.notnull() ].PERIODO_MINUTOS.mean()\n",
    "tiempo_heladera_on_desvio = periodo_heladera_prendida[ periodo_heladera_prendida.PERIODO_MINUTOS.notnull() ].PERIODO_MINUTOS.std()"
   ]
  },
  {
   "cell_type": "code",
   "execution_count": 549,
   "metadata": {
    "collapsed": true
   },
   "outputs": [],
   "source": [
    "tiempo_heladera_off_media = periodo_heladera_apagada[ periodo_heladera_apagada.PERIODO_MINUTOS.notnull() ].PERIODO_MINUTOS.mean()\n",
    "tiempo_heladera_off_desvio = periodo_heladera_apagada[ periodo_heladera_apagada.PERIODO_MINUTOS.notnull() ].PERIODO_MINUTOS.std()"
   ]
  },
  {
   "cell_type": "markdown",
   "metadata": {},
   "source": [
    "Finalmente armo una lista con todos los parametros de consumo para generar luego en la simulacion"
   ]
  },
  {
   "cell_type": "code",
   "execution_count": 550,
   "metadata": {
    "collapsed": true
   },
   "outputs": [],
   "source": [
    "parametros_consumo_heladera = [tiempo_heladera_on_media,\n",
    "                               tiempo_heladera_on_desvio,\n",
    "                               tiempo_heladera_off_media,\n",
    "                               tiempo_heladera_off_desvio,\n",
    "                               heladera_consumo_on_media,\n",
    "                               heladera_consumo_on_desvio,\n",
    "                               heladera_consumo_off_media,\n",
    "                               heladera_consumo_off_desvio]"
   ]
  },
  {
   "cell_type": "markdown",
   "metadata": {},
   "source": [
    "### Preparación de valores de temperatura\n",
    "Se utilizan datos del servicio meteorologico correspondientes al año 2011 y 2012, promediando la temperatura registrada por todos los sensores en funcionamiento para cada hora. El resultado será un dataframe del año completo limpio y listo para mergear en el dataframe general simulado."
   ]
  },
  {
   "cell_type": "markdown",
   "metadata": {},
   "source": [
    "Limpieza del dataset meteorologico"
   ]
  },
  {
   "cell_type": "code",
   "execution_count": 551,
   "metadata": {
    "collapsed": true
   },
   "outputs": [],
   "source": [
    "df_temp['FECHA'] = pd.to_datetime(df_temp['FECHA'],errors='coerce')   # se cambia el tipo de dato FECHA\n",
    "df_temp = df_temp[df_temp['FECHA'].notnull()]                         # elimina las fechas invalidas (como el 29 de febrero)\n",
    "df_temp = df_temp.query('TEMP_C != 1802.6')                           # Se limpian temperaturas espurias\n",
    "df_temp['DIA_ANIO'] = df_temp['FECHA'].dt.strftime('%j').astype(int)  # Se genera la dimension DIA_ANIO\n",
    "df_temp['MES'] = df_temp['FECHA'].dt.month                            # Se genera la dimension MES\n",
    "df_temp['HORA'] = pd.to_datetime(df_temp.HORA).dt.hour                # Se transforma la dimension HORA a entero"
   ]
  },
  {
   "cell_type": "markdown",
   "metadata": {},
   "source": [
    "Se genera un nuevo dataframe con solo los campos DIA, HORA y TEMP. Los dos primeros se usaran para mergear en el dataframe general"
   ]
  },
  {
   "cell_type": "code",
   "execution_count": 552,
   "metadata": {
    "collapsed": true
   },
   "outputs": [],
   "source": [
    "df_temp_grouped = pd.DataFrame(df_temp.groupby(['DIA_ANIO','HORA'],as_index=False).TEMP_C.mean())"
   ]
  },
  {
   "cell_type": "markdown",
   "metadata": {},
   "source": [
    "Comprobación que el groupby con medias fue correcto:"
   ]
  },
  {
   "cell_type": "code",
   "execution_count": 553,
   "metadata": {},
   "outputs": [
    {
     "data": {
      "text/html": [
       "<div>\n",
       "<style>\n",
       "    .dataframe thead tr:only-child th {\n",
       "        text-align: right;\n",
       "    }\n",
       "\n",
       "    .dataframe thead th {\n",
       "        text-align: left;\n",
       "    }\n",
       "\n",
       "    .dataframe tbody tr th {\n",
       "        vertical-align: top;\n",
       "    }\n",
       "</style>\n",
       "<table border=\"1\" class=\"dataframe\">\n",
       "  <thead>\n",
       "    <tr style=\"text-align: right;\">\n",
       "      <th></th>\n",
       "      <th></th>\n",
       "      <th>TEMP_C</th>\n",
       "    </tr>\n",
       "    <tr>\n",
       "      <th>DIA_ANIO</th>\n",
       "      <th>HORA</th>\n",
       "      <th></th>\n",
       "    </tr>\n",
       "  </thead>\n",
       "  <tbody>\n",
       "    <tr>\n",
       "      <th>78</th>\n",
       "      <th>22</th>\n",
       "      <td>21.133333</td>\n",
       "    </tr>\n",
       "  </tbody>\n",
       "</table>\n",
       "</div>"
      ],
      "text/plain": [
       "                  TEMP_C\n",
       "DIA_ANIO HORA           \n",
       "78       22    21.133333"
      ]
     },
     "execution_count": 553,
     "metadata": {},
     "output_type": "execute_result"
    }
   ],
   "source": [
    "pd.DataFrame(df_temp.groupby(['DIA_ANIO','HORA']).TEMP_C.mean()).query('DIA_ANIO == 78 & HORA == 22')"
   ]
  },
  {
   "cell_type": "code",
   "execution_count": 554,
   "metadata": {},
   "outputs": [
    {
     "data": {
      "text/plain": [
       "DIA_ANIO    78.000000\n",
       "HORA        22.000000\n",
       "TEMP_C      21.133333\n",
       "Name: 1720, dtype: float64"
      ]
     },
     "execution_count": 554,
     "metadata": {},
     "output_type": "execute_result"
    }
   ],
   "source": [
    "df_temp_grouped.iloc[1720]"
   ]
  },
  {
   "cell_type": "markdown",
   "metadata": {},
   "source": [
    "## Analizando datos reales de medicion\n",
    "Como los datos medidos no alcanzan para realizar un análisis completo se genera el dataset simulado al final. De todas formas, hacemos un analisis parcial de los datos hasta el momento para detectar una relación entre condiciones del ambiente y así preparar una simulación basada en ello."
   ]
  },
  {
   "cell_type": "markdown",
   "metadata": {},
   "source": [
    "### Ejecución de queries para obtener datos (extracción)"
   ]
  },
  {
   "cell_type": "code",
   "execution_count": 555,
   "metadata": {
    "collapsed": true
   },
   "outputs": [],
   "source": [
    "# Estrayendo valores de estado y sensado del modulo Lux (51)\n",
    "conn = MySQLdb.connect(host=dbhost, port=dbport, user=dbuser, passwd=dbpass, db=dbname)\n",
    "df_lux_estado = pd.read_sql('select ts, state from device_events where module_id=51 group by ts', con=conn)\n",
    "df_lux_consumo = pd.read_sql('select ts, value from device_events d join device_event_sensors s on d.id=s.device_event_id where module_id=51 and sensor_type_id = 1', con=conn)\n",
    "df_lux_movimiento = pd.read_sql('select ts, value from device_events d join device_event_sensors s on d.id=s.device_event_id where module_id=51 and sensor_type_id = 3', con=conn)\n",
    "df_lux_sonido = pd.read_sql('select ts, value from device_events d join device_event_sensors s on d.id=s.device_event_id where module_id=51 and sensor_type_id = 4', con=conn)\n",
    "conn.close()"
   ]
  },
  {
   "cell_type": "markdown",
   "metadata": {},
   "source": [
    "### Limpieza de datos y generación de nuevas variables\n",
    "Una vez obtenidos los datos del modulo 51 (lux) separados por sensor, se procede a unirlos en un dataframe unico para analizar la correlacion entre las variables. Tambien se genera la dimension ESTADO_LUZ para indicar si la luz esta prendida o apagada."
   ]
  },
  {
   "cell_type": "code",
   "execution_count": 556,
   "metadata": {
    "collapsed": true
   },
   "outputs": [],
   "source": [
    "df_lux_dwh = pd.merge(df_lux_estado, df_lux_consumo,  how='left', on='ts')\n",
    "df_lux_dwh = pd.merge(df_lux_dwh, df_lux_movimiento,  how='left', on='ts', suffixes=('_consumo','_movimiento'))\n",
    "df_lux_dwh = pd.merge(df_lux_dwh, df_lux_sonido,  how='left', on='ts')\n",
    "df_lux_dwh.rename(columns = {'value':'value_sonido'}, inplace=True)\n",
    "df_lux_dwh['DIA_SEMANA'] = df_lux_dwh['ts'].dt.weekday\n",
    "df_lux_dwh['HORA'] = df_lux_dwh['ts'].dt.hour\n",
    "df_lux_dwh['MIN_DIA'] = df_lux_dwh['HORA'] * 60 + df_lux_dwh['ts'].dt.minute\n",
    "df_lux_dwh = df_lux_dwh.assign(ESTADO_LUZ = 0)\n",
    "df_lux_dwh.loc[(df_lux_dwh.state == 1) | (df_lux_dwh.state == 3),'ESTADO_LUZ'] = 1"
   ]
  },
  {
   "cell_type": "markdown",
   "metadata": {},
   "source": [
    "Se utiliza un corte del dataframe para utilizar rango de fechas donde no hubo operacion anomala. En este caso desde el 18/10."
   ]
  },
  {
   "cell_type": "code",
   "execution_count": 557,
   "metadata": {
    "collapsed": true
   },
   "outputs": [],
   "source": [
    "df_lux_dwh_cut = df_lux_dwh[ (df_lux_dwh.ts > datetime.strptime('18-10-2017','%d-%m-%Y')) ]"
   ]
  },
  {
   "cell_type": "markdown",
   "metadata": {},
   "source": [
    "### Análisis multivariado"
   ]
  },
  {
   "cell_type": "code",
   "execution_count": 558,
   "metadata": {},
   "outputs": [
    {
     "data": {
      "text/html": [
       "<div>\n",
       "<style>\n",
       "    .dataframe thead tr:only-child th {\n",
       "        text-align: right;\n",
       "    }\n",
       "\n",
       "    .dataframe thead th {\n",
       "        text-align: left;\n",
       "    }\n",
       "\n",
       "    .dataframe tbody tr th {\n",
       "        vertical-align: top;\n",
       "    }\n",
       "</style>\n",
       "<table border=\"1\" class=\"dataframe\">\n",
       "  <thead>\n",
       "    <tr style=\"text-align: right;\">\n",
       "      <th></th>\n",
       "      <th>state</th>\n",
       "      <th>value_consumo</th>\n",
       "      <th>value_movimiento</th>\n",
       "      <th>value_sonido</th>\n",
       "      <th>DIA_SEMANA</th>\n",
       "      <th>HORA</th>\n",
       "      <th>MIN_DIA</th>\n",
       "      <th>ESTADO_LUZ</th>\n",
       "    </tr>\n",
       "  </thead>\n",
       "  <tbody>\n",
       "    <tr>\n",
       "      <th>state</th>\n",
       "      <td>1.000000</td>\n",
       "      <td>0.977200</td>\n",
       "      <td>0.366257</td>\n",
       "      <td>0.184591</td>\n",
       "      <td>-0.047962</td>\n",
       "      <td>0.202988</td>\n",
       "      <td>0.202542</td>\n",
       "      <td>1.000000</td>\n",
       "    </tr>\n",
       "    <tr>\n",
       "      <th>value_consumo</th>\n",
       "      <td>0.977200</td>\n",
       "      <td>1.000000</td>\n",
       "      <td>0.383295</td>\n",
       "      <td>0.192579</td>\n",
       "      <td>-0.058312</td>\n",
       "      <td>0.208557</td>\n",
       "      <td>0.208034</td>\n",
       "      <td>0.977200</td>\n",
       "    </tr>\n",
       "    <tr>\n",
       "      <th>value_movimiento</th>\n",
       "      <td>0.366257</td>\n",
       "      <td>0.383295</td>\n",
       "      <td>1.000000</td>\n",
       "      <td>0.307661</td>\n",
       "      <td>-0.026894</td>\n",
       "      <td>0.237150</td>\n",
       "      <td>0.237588</td>\n",
       "      <td>0.366257</td>\n",
       "    </tr>\n",
       "    <tr>\n",
       "      <th>value_sonido</th>\n",
       "      <td>0.184591</td>\n",
       "      <td>0.192579</td>\n",
       "      <td>0.307661</td>\n",
       "      <td>1.000000</td>\n",
       "      <td>0.013258</td>\n",
       "      <td>0.132809</td>\n",
       "      <td>0.132789</td>\n",
       "      <td>0.184591</td>\n",
       "    </tr>\n",
       "    <tr>\n",
       "      <th>DIA_SEMANA</th>\n",
       "      <td>-0.047962</td>\n",
       "      <td>-0.058312</td>\n",
       "      <td>-0.026894</td>\n",
       "      <td>0.013258</td>\n",
       "      <td>1.000000</td>\n",
       "      <td>0.006922</td>\n",
       "      <td>0.006803</td>\n",
       "      <td>-0.047962</td>\n",
       "    </tr>\n",
       "    <tr>\n",
       "      <th>HORA</th>\n",
       "      <td>0.202988</td>\n",
       "      <td>0.208557</td>\n",
       "      <td>0.237150</td>\n",
       "      <td>0.132809</td>\n",
       "      <td>0.006922</td>\n",
       "      <td>1.000000</td>\n",
       "      <td>0.999149</td>\n",
       "      <td>0.202988</td>\n",
       "    </tr>\n",
       "    <tr>\n",
       "      <th>MIN_DIA</th>\n",
       "      <td>0.202542</td>\n",
       "      <td>0.208034</td>\n",
       "      <td>0.237588</td>\n",
       "      <td>0.132789</td>\n",
       "      <td>0.006803</td>\n",
       "      <td>0.999149</td>\n",
       "      <td>1.000000</td>\n",
       "      <td>0.202542</td>\n",
       "    </tr>\n",
       "    <tr>\n",
       "      <th>ESTADO_LUZ</th>\n",
       "      <td>1.000000</td>\n",
       "      <td>0.977200</td>\n",
       "      <td>0.366257</td>\n",
       "      <td>0.184591</td>\n",
       "      <td>-0.047962</td>\n",
       "      <td>0.202988</td>\n",
       "      <td>0.202542</td>\n",
       "      <td>1.000000</td>\n",
       "    </tr>\n",
       "  </tbody>\n",
       "</table>\n",
       "</div>"
      ],
      "text/plain": [
       "                     state  value_consumo  value_movimiento  value_sonido  \\\n",
       "state             1.000000       0.977200          0.366257      0.184591   \n",
       "value_consumo     0.977200       1.000000          0.383295      0.192579   \n",
       "value_movimiento  0.366257       0.383295          1.000000      0.307661   \n",
       "value_sonido      0.184591       0.192579          0.307661      1.000000   \n",
       "DIA_SEMANA       -0.047962      -0.058312         -0.026894      0.013258   \n",
       "HORA              0.202988       0.208557          0.237150      0.132809   \n",
       "MIN_DIA           0.202542       0.208034          0.237588      0.132789   \n",
       "ESTADO_LUZ        1.000000       0.977200          0.366257      0.184591   \n",
       "\n",
       "                  DIA_SEMANA      HORA   MIN_DIA  ESTADO_LUZ  \n",
       "state              -0.047962  0.202988  0.202542    1.000000  \n",
       "value_consumo      -0.058312  0.208557  0.208034    0.977200  \n",
       "value_movimiento   -0.026894  0.237150  0.237588    0.366257  \n",
       "value_sonido        0.013258  0.132809  0.132789    0.184591  \n",
       "DIA_SEMANA          1.000000  0.006922  0.006803   -0.047962  \n",
       "HORA                0.006922  1.000000  0.999149    0.202988  \n",
       "MIN_DIA             0.006803  0.999149  1.000000    0.202542  \n",
       "ESTADO_LUZ         -0.047962  0.202988  0.202542    1.000000  "
      ]
     },
     "execution_count": 558,
     "metadata": {},
     "output_type": "execute_result"
    }
   ],
   "source": [
    "df_lux_dwh_cut.corr()"
   ]
  },
  {
   "cell_type": "markdown",
   "metadata": {},
   "source": [
    "La correlacion entre estado y el consumo es practicamente lineal, lo cual es correcto que asi sea. Por lo tanto no se toma en cuenta para predecir el estado. Se crearan nuevas variables de tipo ordinal para discretizar un poco las continuas y mejorar el modelo.\n",
    "\n",
    "Se discretiza la variable sonido en una que represente el nivel dividido en niveles de 10db. **(Por el momento esto no da bien porque el sensor no mide niveles reales, por eso el rango empieza en 30)**"
   ]
  },
  {
   "cell_type": "code",
   "execution_count": 559,
   "metadata": {
    "collapsed": true
   },
   "outputs": [],
   "source": [
    "#df_lux_dwh_cut['NIVEL_SONIDO'] = pd.qcut(df_lux_dwh_cut.value_sonido,5,labels=False)\n",
    "df_lux_dwh_cut['NIVEL_SONIDO'] = pd.cut(df_lux_dwh_cut.value_sonido,range(30,130,10),labels=False,include_lowest=True)"
   ]
  },
  {
   "cell_type": "markdown",
   "metadata": {},
   "source": [
    "Se agrega una variable que puede servir para otro tipo de modelo: \n",
    "- CAMBIO_ESTADO. Esta variable detecta cuando se prende o apaga la luz\n",
    "    - -1: La luz se apago\n",
    "    -  0: No hay cambio de estado\n",
    "    -  1: La luz se prendio"
   ]
  },
  {
   "cell_type": "code",
   "execution_count": 560,
   "metadata": {
    "collapsed": true
   },
   "outputs": [],
   "source": [
    "df_lux_dwh_cut.assign(CAMBIO_ESTADO = 0)\n",
    "df_lux_dwh_cut['CAMBIO_ESTADO'] = df_lux_dwh_cut.ESTADO_LUZ.diff()"
   ]
  },
  {
   "cell_type": "markdown",
   "metadata": {},
   "source": [
    "#### Relación entre las variables categoricas contra el ESTADO_LUZ\n",
    "\n",
    "- Tabla de contingencia para ESTADO_LUZ - HORA (en porcentajes)"
   ]
  },
  {
   "cell_type": "code",
   "execution_count": 561,
   "metadata": {
    "scrolled": true
   },
   "outputs": [
    {
     "data": {
      "text/html": [
       "<div>\n",
       "<style>\n",
       "    .dataframe thead tr:only-child th {\n",
       "        text-align: right;\n",
       "    }\n",
       "\n",
       "    .dataframe thead th {\n",
       "        text-align: left;\n",
       "    }\n",
       "\n",
       "    .dataframe tbody tr th {\n",
       "        vertical-align: top;\n",
       "    }\n",
       "</style>\n",
       "<table border=\"1\" class=\"dataframe\">\n",
       "  <thead>\n",
       "    <tr style=\"text-align: right;\">\n",
       "      <th>HORA</th>\n",
       "      <th>0</th>\n",
       "      <th>1</th>\n",
       "      <th>2</th>\n",
       "      <th>3</th>\n",
       "      <th>4</th>\n",
       "      <th>5</th>\n",
       "      <th>6</th>\n",
       "      <th>7</th>\n",
       "      <th>8</th>\n",
       "      <th>9</th>\n",
       "      <th>...</th>\n",
       "      <th>14</th>\n",
       "      <th>15</th>\n",
       "      <th>16</th>\n",
       "      <th>17</th>\n",
       "      <th>18</th>\n",
       "      <th>19</th>\n",
       "      <th>20</th>\n",
       "      <th>21</th>\n",
       "      <th>22</th>\n",
       "      <th>23</th>\n",
       "    </tr>\n",
       "    <tr>\n",
       "      <th>ESTADO_LUZ</th>\n",
       "      <th></th>\n",
       "      <th></th>\n",
       "      <th></th>\n",
       "      <th></th>\n",
       "      <th></th>\n",
       "      <th></th>\n",
       "      <th></th>\n",
       "      <th></th>\n",
       "      <th></th>\n",
       "      <th></th>\n",
       "      <th></th>\n",
       "      <th></th>\n",
       "      <th></th>\n",
       "      <th></th>\n",
       "      <th></th>\n",
       "      <th></th>\n",
       "      <th></th>\n",
       "      <th></th>\n",
       "      <th></th>\n",
       "      <th></th>\n",
       "      <th></th>\n",
       "    </tr>\n",
       "  </thead>\n",
       "  <tbody>\n",
       "    <tr>\n",
       "      <th>0</th>\n",
       "      <td>81.788079</td>\n",
       "      <td>89.02439</td>\n",
       "      <td>82.244898</td>\n",
       "      <td>89.955357</td>\n",
       "      <td>86.481113</td>\n",
       "      <td>100.0</td>\n",
       "      <td>100.0</td>\n",
       "      <td>100.0</td>\n",
       "      <td>100.0</td>\n",
       "      <td>100.0</td>\n",
       "      <td>...</td>\n",
       "      <td>100.0</td>\n",
       "      <td>96.579477</td>\n",
       "      <td>90.493601</td>\n",
       "      <td>100.0</td>\n",
       "      <td>92.030361</td>\n",
       "      <td>95.416667</td>\n",
       "      <td>78.354978</td>\n",
       "      <td>60.392157</td>\n",
       "      <td>49.031008</td>\n",
       "      <td>50.10846</td>\n",
       "    </tr>\n",
       "    <tr>\n",
       "      <th>1</th>\n",
       "      <td>18.211921</td>\n",
       "      <td>10.97561</td>\n",
       "      <td>17.755102</td>\n",
       "      <td>10.044643</td>\n",
       "      <td>13.518887</td>\n",
       "      <td>0.0</td>\n",
       "      <td>0.0</td>\n",
       "      <td>0.0</td>\n",
       "      <td>0.0</td>\n",
       "      <td>0.0</td>\n",
       "      <td>...</td>\n",
       "      <td>0.0</td>\n",
       "      <td>3.420523</td>\n",
       "      <td>9.506399</td>\n",
       "      <td>0.0</td>\n",
       "      <td>7.969639</td>\n",
       "      <td>4.583333</td>\n",
       "      <td>21.645022</td>\n",
       "      <td>39.607843</td>\n",
       "      <td>50.968992</td>\n",
       "      <td>49.89154</td>\n",
       "    </tr>\n",
       "  </tbody>\n",
       "</table>\n",
       "<p>2 rows × 24 columns</p>\n",
       "</div>"
      ],
      "text/plain": [
       "HORA               0         1          2          3          4      5   \\\n",
       "ESTADO_LUZ                                                                \n",
       "0           81.788079  89.02439  82.244898  89.955357  86.481113  100.0   \n",
       "1           18.211921  10.97561  17.755102  10.044643  13.518887    0.0   \n",
       "\n",
       "HORA           6      7      8      9     ...        14         15         16  \\\n",
       "ESTADO_LUZ                                ...                                   \n",
       "0           100.0  100.0  100.0  100.0    ...     100.0  96.579477  90.493601   \n",
       "1             0.0    0.0    0.0    0.0    ...       0.0   3.420523   9.506399   \n",
       "\n",
       "HORA           17         18         19         20         21         22  \\\n",
       "ESTADO_LUZ                                                                 \n",
       "0           100.0  92.030361  95.416667  78.354978  60.392157  49.031008   \n",
       "1             0.0   7.969639   4.583333  21.645022  39.607843  50.968992   \n",
       "\n",
       "HORA              23  \n",
       "ESTADO_LUZ            \n",
       "0           50.10846  \n",
       "1           49.89154  \n",
       "\n",
       "[2 rows x 24 columns]"
      ]
     },
     "execution_count": 561,
     "metadata": {},
     "output_type": "execute_result"
    }
   ],
   "source": [
    "pd.crosstab(df_lux_dwh_cut.ESTADO_LUZ,df_lux_dwh_cut.HORA,normalize='columns')*100"
   ]
  },
  {
   "cell_type": "markdown",
   "metadata": {},
   "source": [
    "- Tabla de proporción de ESTADO_LUZ según hora del día y día de la semana (0: lunes, 6: domingo)"
   ]
  },
  {
   "cell_type": "code",
   "execution_count": 562,
   "metadata": {
    "scrolled": true
   },
   "outputs": [
    {
     "data": {
      "text/html": [
       "<div>\n",
       "<style>\n",
       "    .dataframe thead tr:only-child th {\n",
       "        text-align: right;\n",
       "    }\n",
       "\n",
       "    .dataframe thead th {\n",
       "        text-align: left;\n",
       "    }\n",
       "\n",
       "    .dataframe tbody tr th {\n",
       "        vertical-align: top;\n",
       "    }\n",
       "</style>\n",
       "<table border=\"1\" class=\"dataframe\">\n",
       "  <thead>\n",
       "    <tr style=\"text-align: right;\">\n",
       "      <th>HORA</th>\n",
       "      <th>0</th>\n",
       "      <th>1</th>\n",
       "      <th>2</th>\n",
       "      <th>3</th>\n",
       "      <th>4</th>\n",
       "      <th>5</th>\n",
       "      <th>6</th>\n",
       "      <th>7</th>\n",
       "      <th>8</th>\n",
       "      <th>9</th>\n",
       "      <th>...</th>\n",
       "      <th>14</th>\n",
       "      <th>15</th>\n",
       "      <th>16</th>\n",
       "      <th>17</th>\n",
       "      <th>18</th>\n",
       "      <th>19</th>\n",
       "      <th>20</th>\n",
       "      <th>21</th>\n",
       "      <th>22</th>\n",
       "      <th>23</th>\n",
       "    </tr>\n",
       "    <tr>\n",
       "      <th>DIA_SEMANA</th>\n",
       "      <th></th>\n",
       "      <th></th>\n",
       "      <th></th>\n",
       "      <th></th>\n",
       "      <th></th>\n",
       "      <th></th>\n",
       "      <th></th>\n",
       "      <th></th>\n",
       "      <th></th>\n",
       "      <th></th>\n",
       "      <th></th>\n",
       "      <th></th>\n",
       "      <th></th>\n",
       "      <th></th>\n",
       "      <th></th>\n",
       "      <th></th>\n",
       "      <th></th>\n",
       "      <th></th>\n",
       "      <th></th>\n",
       "      <th></th>\n",
       "      <th></th>\n",
       "    </tr>\n",
       "  </thead>\n",
       "  <tbody>\n",
       "    <tr>\n",
       "      <th>0</th>\n",
       "      <td>0.283333</td>\n",
       "      <td>0.000000</td>\n",
       "      <td>0.031746</td>\n",
       "      <td>0.080645</td>\n",
       "      <td>0.000000</td>\n",
       "      <td>0</td>\n",
       "      <td>0</td>\n",
       "      <td>0</td>\n",
       "      <td>0</td>\n",
       "      <td>0</td>\n",
       "      <td>...</td>\n",
       "      <td>0</td>\n",
       "      <td>0.000000</td>\n",
       "      <td>0.0000</td>\n",
       "      <td>0</td>\n",
       "      <td>0.000000</td>\n",
       "      <td>0.000000</td>\n",
       "      <td>0.204082</td>\n",
       "      <td>1.000000</td>\n",
       "      <td>1.000000</td>\n",
       "      <td>0.327869</td>\n",
       "    </tr>\n",
       "    <tr>\n",
       "      <th>1</th>\n",
       "      <td>0.179012</td>\n",
       "      <td>0.333333</td>\n",
       "      <td>1.000000</td>\n",
       "      <td>1.000000</td>\n",
       "      <td>0.829268</td>\n",
       "      <td>0</td>\n",
       "      <td>0</td>\n",
       "      <td>0</td>\n",
       "      <td>0</td>\n",
       "      <td>0</td>\n",
       "      <td>...</td>\n",
       "      <td>0</td>\n",
       "      <td>0.000000</td>\n",
       "      <td>0.0000</td>\n",
       "      <td>0</td>\n",
       "      <td>0.000000</td>\n",
       "      <td>0.000000</td>\n",
       "      <td>0.000000</td>\n",
       "      <td>0.000000</td>\n",
       "      <td>0.403226</td>\n",
       "      <td>0.393443</td>\n",
       "    </tr>\n",
       "    <tr>\n",
       "      <th>2</th>\n",
       "      <td>0.137405</td>\n",
       "      <td>0.180451</td>\n",
       "      <td>0.016000</td>\n",
       "      <td>0.000000</td>\n",
       "      <td>0.000000</td>\n",
       "      <td>0</td>\n",
       "      <td>0</td>\n",
       "      <td>0</td>\n",
       "      <td>0</td>\n",
       "      <td>0</td>\n",
       "      <td>...</td>\n",
       "      <td>0</td>\n",
       "      <td>0.000000</td>\n",
       "      <td>0.0000</td>\n",
       "      <td>0</td>\n",
       "      <td>0.000000</td>\n",
       "      <td>0.000000</td>\n",
       "      <td>0.585366</td>\n",
       "      <td>0.540323</td>\n",
       "      <td>0.854839</td>\n",
       "      <td>0.739130</td>\n",
       "    </tr>\n",
       "    <tr>\n",
       "      <th>3</th>\n",
       "      <td>0.083333</td>\n",
       "      <td>0.177419</td>\n",
       "      <td>0.246154</td>\n",
       "      <td>0.029851</td>\n",
       "      <td>0.000000</td>\n",
       "      <td>0</td>\n",
       "      <td>0</td>\n",
       "      <td>0</td>\n",
       "      <td>0</td>\n",
       "      <td>0</td>\n",
       "      <td>...</td>\n",
       "      <td>0</td>\n",
       "      <td>0.000000</td>\n",
       "      <td>0.0000</td>\n",
       "      <td>0</td>\n",
       "      <td>0.677419</td>\n",
       "      <td>0.360656</td>\n",
       "      <td>0.000000</td>\n",
       "      <td>0.000000</td>\n",
       "      <td>0.015873</td>\n",
       "      <td>0.580645</td>\n",
       "    </tr>\n",
       "    <tr>\n",
       "      <th>4</th>\n",
       "      <td>0.130435</td>\n",
       "      <td>0.000000</td>\n",
       "      <td>0.000000</td>\n",
       "      <td>0.000000</td>\n",
       "      <td>0.000000</td>\n",
       "      <td>0</td>\n",
       "      <td>0</td>\n",
       "      <td>0</td>\n",
       "      <td>0</td>\n",
       "      <td>0</td>\n",
       "      <td>...</td>\n",
       "      <td>0</td>\n",
       "      <td>0.000000</td>\n",
       "      <td>0.0000</td>\n",
       "      <td>0</td>\n",
       "      <td>0.000000</td>\n",
       "      <td>0.000000</td>\n",
       "      <td>0.000000</td>\n",
       "      <td>0.180328</td>\n",
       "      <td>0.031746</td>\n",
       "      <td>1.000000</td>\n",
       "    </tr>\n",
       "    <tr>\n",
       "      <th>5</th>\n",
       "      <td>0.476190</td>\n",
       "      <td>0.016393</td>\n",
       "      <td>0.222222</td>\n",
       "      <td>0.483871</td>\n",
       "      <td>0.000000</td>\n",
       "      <td>0</td>\n",
       "      <td>0</td>\n",
       "      <td>0</td>\n",
       "      <td>0</td>\n",
       "      <td>0</td>\n",
       "      <td>...</td>\n",
       "      <td>0</td>\n",
       "      <td>0.278689</td>\n",
       "      <td>0.8125</td>\n",
       "      <td>0</td>\n",
       "      <td>0.000000</td>\n",
       "      <td>0.000000</td>\n",
       "      <td>0.000000</td>\n",
       "      <td>0.521127</td>\n",
       "      <td>0.645161</td>\n",
       "      <td>0.290323</td>\n",
       "    </tr>\n",
       "    <tr>\n",
       "      <th>6</th>\n",
       "      <td>0.033898</td>\n",
       "      <td>0.000000</td>\n",
       "      <td>0.000000</td>\n",
       "      <td>0.000000</td>\n",
       "      <td>0.000000</td>\n",
       "      <td>0</td>\n",
       "      <td>0</td>\n",
       "      <td>0</td>\n",
       "      <td>0</td>\n",
       "      <td>0</td>\n",
       "      <td>...</td>\n",
       "      <td>0</td>\n",
       "      <td>0.000000</td>\n",
       "      <td>0.0000</td>\n",
       "      <td>0</td>\n",
       "      <td>0.000000</td>\n",
       "      <td>0.000000</td>\n",
       "      <td>0.439024</td>\n",
       "      <td>0.367647</td>\n",
       "      <td>0.116667</td>\n",
       "      <td>0.063492</td>\n",
       "    </tr>\n",
       "  </tbody>\n",
       "</table>\n",
       "<p>7 rows × 24 columns</p>\n",
       "</div>"
      ],
      "text/plain": [
       "HORA              0         1         2         3         4   5   6   7   8   \\\n",
       "DIA_SEMANA                                                                     \n",
       "0           0.283333  0.000000  0.031746  0.080645  0.000000   0   0   0   0   \n",
       "1           0.179012  0.333333  1.000000  1.000000  0.829268   0   0   0   0   \n",
       "2           0.137405  0.180451  0.016000  0.000000  0.000000   0   0   0   0   \n",
       "3           0.083333  0.177419  0.246154  0.029851  0.000000   0   0   0   0   \n",
       "4           0.130435  0.000000  0.000000  0.000000  0.000000   0   0   0   0   \n",
       "5           0.476190  0.016393  0.222222  0.483871  0.000000   0   0   0   0   \n",
       "6           0.033898  0.000000  0.000000  0.000000  0.000000   0   0   0   0   \n",
       "\n",
       "HORA        9     ...     14        15      16  17        18        19  \\\n",
       "DIA_SEMANA        ...                                                    \n",
       "0            0    ...      0  0.000000  0.0000   0  0.000000  0.000000   \n",
       "1            0    ...      0  0.000000  0.0000   0  0.000000  0.000000   \n",
       "2            0    ...      0  0.000000  0.0000   0  0.000000  0.000000   \n",
       "3            0    ...      0  0.000000  0.0000   0  0.677419  0.360656   \n",
       "4            0    ...      0  0.000000  0.0000   0  0.000000  0.000000   \n",
       "5            0    ...      0  0.278689  0.8125   0  0.000000  0.000000   \n",
       "6            0    ...      0  0.000000  0.0000   0  0.000000  0.000000   \n",
       "\n",
       "HORA              20        21        22        23  \n",
       "DIA_SEMANA                                          \n",
       "0           0.204082  1.000000  1.000000  0.327869  \n",
       "1           0.000000  0.000000  0.403226  0.393443  \n",
       "2           0.585366  0.540323  0.854839  0.739130  \n",
       "3           0.000000  0.000000  0.015873  0.580645  \n",
       "4           0.000000  0.180328  0.031746  1.000000  \n",
       "5           0.000000  0.521127  0.645161  0.290323  \n",
       "6           0.439024  0.367647  0.116667  0.063492  \n",
       "\n",
       "[7 rows x 24 columns]"
      ]
     },
     "execution_count": 562,
     "metadata": {},
     "output_type": "execute_result"
    }
   ],
   "source": [
    "estado_luz_pvt = pd.pivot_table(df_lux_dwh_cut, values=\"ESTADO_LUZ\",index=[\"DIA_SEMANA\"], columns=[\"HORA\"], fill_value=0)\n",
    "estado_luz_pvt"
   ]
  },
  {
   "cell_type": "markdown",
   "metadata": {},
   "source": [
    "- Mapa de calor de luz prendida según hora y día de la semana"
   ]
  },
  {
   "cell_type": "code",
   "execution_count": 563,
   "metadata": {},
   "outputs": [
    {
     "data": {
      "image/png": "[encoded data removed]",
      "text/plain": [
       "<matplotlib.figure.Figure at 0xc36e9400>"
      ]
     },
     "metadata": {},
     "output_type": "display_data"
    }
   ],
   "source": [
    "plt.figure(figsize=(25, 5))\n",
    "ax = sns.heatmap(estado_luz_pvt, square=True)\n",
    "plt.setp(ax.xaxis.get_majorticklabels(), rotation=0)\n",
    "plt.show()"
   ]
  },
  {
   "cell_type": "markdown",
   "metadata": {},
   "source": [
    "#### Análisis de variables MOVIMIENTO y SONIDO con ESTADO_LUZ"
   ]
  },
  {
   "cell_type": "code",
   "execution_count": 564,
   "metadata": {
    "scrolled": true
   },
   "outputs": [
    {
     "data": {
      "text/html": [
       "<div>\n",
       "<style>\n",
       "    .dataframe thead tr:only-child th {\n",
       "        text-align: right;\n",
       "    }\n",
       "\n",
       "    .dataframe thead th {\n",
       "        text-align: left;\n",
       "    }\n",
       "\n",
       "    .dataframe tbody tr th {\n",
       "        vertical-align: top;\n",
       "    }\n",
       "</style>\n",
       "<table border=\"1\" class=\"dataframe\">\n",
       "  <thead>\n",
       "    <tr style=\"text-align: right;\">\n",
       "      <th>value_movimiento</th>\n",
       "      <th>0.0</th>\n",
       "      <th>1.0</th>\n",
       "    </tr>\n",
       "    <tr>\n",
       "      <th>ESTADO_LUZ</th>\n",
       "      <th></th>\n",
       "      <th></th>\n",
       "    </tr>\n",
       "  </thead>\n",
       "  <tbody>\n",
       "    <tr>\n",
       "      <th>0.0</th>\n",
       "      <td>94.033791</td>\n",
       "      <td>50.327967</td>\n",
       "    </tr>\n",
       "    <tr>\n",
       "      <th>1.0</th>\n",
       "      <td>5.966209</td>\n",
       "      <td>49.672033</td>\n",
       "    </tr>\n",
       "  </tbody>\n",
       "</table>\n",
       "</div>"
      ],
      "text/plain": [
       "value_movimiento        0.0        1.0\n",
       "ESTADO_LUZ                            \n",
       "0.0               94.033791  50.327967\n",
       "1.0                5.966209  49.672033"
      ]
     },
     "execution_count": 564,
     "metadata": {},
     "output_type": "execute_result"
    }
   ],
   "source": [
    "# Tablas de contingencia para MOVIMIENTO-ESTADO para la noche y el dia\n",
    "estado_mov_tab_noche = pd.crosstab(df_lux_dwh_cut.query('HORA < 8 | HORA > 20').ESTADO_LUZ,df_lux_dwh_cut.value_movimiento,normalize='columns')*100\n",
    "estado_mov_tab_noche"
   ]
  },
  {
   "cell_type": "code",
   "execution_count": 565,
   "metadata": {},
   "outputs": [
    {
     "data": {
      "text/plain": [
       "<matplotlib.axes._subplots.AxesSubplot at 0xfec56668>"
      ]
     },
     "execution_count": 565,
     "metadata": {},
     "output_type": "execute_result"
    },
    {
     "data": {
      "image/png": "[encoded data removed]",
      "text/plain": [
       "<matplotlib.figure.Figure at 0xfec480b8>"
      ]
     },
     "metadata": {},
     "output_type": "display_data"
    }
   ],
   "source": [
    "estado_mov_tab_noche.plot(kind='bar', stacked=False, color=['red','blue'], grid=False)"
   ]
  },
  {
   "cell_type": "code",
   "execution_count": 566,
   "metadata": {},
   "outputs": [
    {
     "data": {
      "text/html": [
       "<div>\n",
       "<style>\n",
       "    .dataframe thead tr:only-child th {\n",
       "        text-align: right;\n",
       "    }\n",
       "\n",
       "    .dataframe thead th {\n",
       "        text-align: left;\n",
       "    }\n",
       "\n",
       "    .dataframe tbody tr th {\n",
       "        vertical-align: top;\n",
       "    }\n",
       "</style>\n",
       "<table border=\"1\" class=\"dataframe\">\n",
       "  <thead>\n",
       "    <tr style=\"text-align: right;\">\n",
       "      <th>value_movimiento</th>\n",
       "      <th>0.0</th>\n",
       "      <th>1.0</th>\n",
       "    </tr>\n",
       "    <tr>\n",
       "      <th>ESTADO_LUZ</th>\n",
       "      <th></th>\n",
       "      <th></th>\n",
       "    </tr>\n",
       "  </thead>\n",
       "  <tbody>\n",
       "    <tr>\n",
       "      <th>0.0</th>\n",
       "      <td>98.735067</td>\n",
       "      <td>87.881591</td>\n",
       "    </tr>\n",
       "    <tr>\n",
       "      <th>1.0</th>\n",
       "      <td>1.264933</td>\n",
       "      <td>12.118409</td>\n",
       "    </tr>\n",
       "  </tbody>\n",
       "</table>\n",
       "</div>"
      ],
      "text/plain": [
       "value_movimiento        0.0        1.0\n",
       "ESTADO_LUZ                            \n",
       "0.0               98.735067  87.881591\n",
       "1.0                1.264933  12.118409"
      ]
     },
     "execution_count": 566,
     "metadata": {},
     "output_type": "execute_result"
    }
   ],
   "source": [
    "estado_mov_tab_dia = pd.crosstab(df_lux_dwh_cut.query('HORA > 7 & HORA < 21').ESTADO_LUZ,df_lux_dwh_cut.value_movimiento,normalize='columns')*100\n",
    "estado_mov_tab_dia"
   ]
  },
  {
   "cell_type": "code",
   "execution_count": 567,
   "metadata": {
    "scrolled": true
   },
   "outputs": [
    {
     "data": {
      "text/plain": [
       "<matplotlib.axes._subplots.AxesSubplot at 0xb8b40898>"
      ]
     },
     "execution_count": 567,
     "metadata": {},
     "output_type": "execute_result"
    },
    {
     "data": {
      "image/png": "[encoded data removed]",
      "text/plain": [
       "<matplotlib.figure.Figure at 0x103dc93c8>"
      ]
     },
     "metadata": {},
     "output_type": "display_data"
    }
   ],
   "source": [
    "estado_mov_tab_dia.plot(kind='bar', stacked=False, color=['red','blue'], grid=False)"
   ]
  },
  {
   "cell_type": "code",
   "execution_count": 568,
   "metadata": {},
   "outputs": [
    {
     "data": {
      "text/plain": [
       "0    4406\n",
       "1    1059\n",
       "Name: ESTADO_LUZ, dtype: int64"
      ]
     },
     "execution_count": 568,
     "metadata": {},
     "output_type": "execute_result"
    }
   ],
   "source": [
    "df_lux_dwh_cut.query('HORA < 8 | HORA > 20').ESTADO_LUZ.value_counts()"
   ]
  },
  {
   "cell_type": "code",
   "execution_count": 569,
   "metadata": {
    "scrolled": true
   },
   "outputs": [
    {
     "data": {
      "text/html": [
       "<div>\n",
       "<style>\n",
       "    .dataframe thead tr:only-child th {\n",
       "        text-align: right;\n",
       "    }\n",
       "\n",
       "    .dataframe thead th {\n",
       "        text-align: left;\n",
       "    }\n",
       "\n",
       "    .dataframe tbody tr th {\n",
       "        vertical-align: top;\n",
       "    }\n",
       "</style>\n",
       "<table border=\"1\" class=\"dataframe\">\n",
       "  <thead>\n",
       "    <tr>\n",
       "      <th>value_movimiento</th>\n",
       "      <th colspan=\"4\" halign=\"left\">0.0</th>\n",
       "      <th colspan=\"9\" halign=\"left\">1.0</th>\n",
       "    </tr>\n",
       "    <tr>\n",
       "      <th>NIVEL_SONIDO</th>\n",
       "      <th>0.0</th>\n",
       "      <th>1.0</th>\n",
       "      <th>2.0</th>\n",
       "      <th>4.0</th>\n",
       "      <th>0.0</th>\n",
       "      <th>1.0</th>\n",
       "      <th>2.0</th>\n",
       "      <th>3.0</th>\n",
       "      <th>4.0</th>\n",
       "      <th>5.0</th>\n",
       "      <th>6.0</th>\n",
       "      <th>7.0</th>\n",
       "      <th>8.0</th>\n",
       "    </tr>\n",
       "    <tr>\n",
       "      <th>ESTADO_LUZ</th>\n",
       "      <th></th>\n",
       "      <th></th>\n",
       "      <th></th>\n",
       "      <th></th>\n",
       "      <th></th>\n",
       "      <th></th>\n",
       "      <th></th>\n",
       "      <th></th>\n",
       "      <th></th>\n",
       "      <th></th>\n",
       "      <th></th>\n",
       "      <th></th>\n",
       "      <th></th>\n",
       "    </tr>\n",
       "  </thead>\n",
       "  <tbody>\n",
       "    <tr>\n",
       "      <th>0</th>\n",
       "      <td>7749</td>\n",
       "      <td>26</td>\n",
       "      <td>1</td>\n",
       "      <td>1</td>\n",
       "      <td>2105</td>\n",
       "      <td>263</td>\n",
       "      <td>96</td>\n",
       "      <td>2</td>\n",
       "      <td>49</td>\n",
       "      <td>17</td>\n",
       "      <td>18</td>\n",
       "      <td>1</td>\n",
       "      <td>4</td>\n",
       "    </tr>\n",
       "    <tr>\n",
       "      <th>1</th>\n",
       "      <td>271</td>\n",
       "      <td>4</td>\n",
       "      <td>1</td>\n",
       "      <td>0</td>\n",
       "      <td>767</td>\n",
       "      <td>172</td>\n",
       "      <td>56</td>\n",
       "      <td>9</td>\n",
       "      <td>31</td>\n",
       "      <td>20</td>\n",
       "      <td>9</td>\n",
       "      <td>0</td>\n",
       "      <td>4</td>\n",
       "    </tr>\n",
       "  </tbody>\n",
       "</table>\n",
       "</div>"
      ],
      "text/plain": [
       "value_movimiento   0.0               1.0                                 \n",
       "NIVEL_SONIDO       0.0 1.0 2.0 4.0   0.0  1.0 2.0 3.0 4.0 5.0 6.0 7.0 8.0\n",
       "ESTADO_LUZ                                                               \n",
       "0                 7749  26   1   1  2105  263  96   2  49  17  18   1   4\n",
       "1                  271   4   1   0   767  172  56   9  31  20   9   0   4"
      ]
     },
     "execution_count": 569,
     "metadata": {},
     "output_type": "execute_result"
    }
   ],
   "source": [
    "pd.crosstab(df_lux_dwh_cut.ESTADO_LUZ,[df_lux_dwh_cut.value_movimiento,df_lux_dwh_cut.NIVEL_SONIDO])"
   ]
  },
  {
   "cell_type": "code",
   "execution_count": 570,
   "metadata": {},
   "outputs": [
    {
     "data": {
      "text/html": [
       "<div>\n",
       "<style>\n",
       "    .dataframe thead tr:only-child th {\n",
       "        text-align: right;\n",
       "    }\n",
       "\n",
       "    .dataframe thead th {\n",
       "        text-align: left;\n",
       "    }\n",
       "\n",
       "    .dataframe tbody tr th {\n",
       "        vertical-align: top;\n",
       "    }\n",
       "</style>\n",
       "<table border=\"1\" class=\"dataframe\">\n",
       "  <thead>\n",
       "    <tr>\n",
       "      <th>value_movimiento</th>\n",
       "      <th colspan=\"4\" halign=\"left\">0.0</th>\n",
       "      <th colspan=\"9\" halign=\"left\">1.0</th>\n",
       "    </tr>\n",
       "    <tr>\n",
       "      <th>NIVEL_SONIDO</th>\n",
       "      <th>0.0</th>\n",
       "      <th>1.0</th>\n",
       "      <th>2.0</th>\n",
       "      <th>4.0</th>\n",
       "      <th>0.0</th>\n",
       "      <th>1.0</th>\n",
       "      <th>2.0</th>\n",
       "      <th>3.0</th>\n",
       "      <th>4.0</th>\n",
       "      <th>5.0</th>\n",
       "      <th>6.0</th>\n",
       "      <th>7.0</th>\n",
       "      <th>8.0</th>\n",
       "    </tr>\n",
       "    <tr>\n",
       "      <th>ESTADO_LUZ</th>\n",
       "      <th></th>\n",
       "      <th></th>\n",
       "      <th></th>\n",
       "      <th></th>\n",
       "      <th></th>\n",
       "      <th></th>\n",
       "      <th></th>\n",
       "      <th></th>\n",
       "      <th></th>\n",
       "      <th></th>\n",
       "      <th></th>\n",
       "      <th></th>\n",
       "      <th></th>\n",
       "    </tr>\n",
       "  </thead>\n",
       "  <tbody>\n",
       "    <tr>\n",
       "      <th>0</th>\n",
       "      <td>96.620948</td>\n",
       "      <td>86.666667</td>\n",
       "      <td>50.0</td>\n",
       "      <td>100.0</td>\n",
       "      <td>73.293872</td>\n",
       "      <td>60.45977</td>\n",
       "      <td>63.157895</td>\n",
       "      <td>18.181818</td>\n",
       "      <td>61.25</td>\n",
       "      <td>45.945946</td>\n",
       "      <td>66.666667</td>\n",
       "      <td>100.0</td>\n",
       "      <td>50.0</td>\n",
       "    </tr>\n",
       "    <tr>\n",
       "      <th>1</th>\n",
       "      <td>3.379052</td>\n",
       "      <td>13.333333</td>\n",
       "      <td>50.0</td>\n",
       "      <td>0.0</td>\n",
       "      <td>26.706128</td>\n",
       "      <td>39.54023</td>\n",
       "      <td>36.842105</td>\n",
       "      <td>81.818182</td>\n",
       "      <td>38.75</td>\n",
       "      <td>54.054054</td>\n",
       "      <td>33.333333</td>\n",
       "      <td>0.0</td>\n",
       "      <td>50.0</td>\n",
       "    </tr>\n",
       "  </tbody>\n",
       "</table>\n",
       "</div>"
      ],
      "text/plain": [
       "value_movimiento        0.0                                1.0            \\\n",
       "NIVEL_SONIDO            0.0        1.0   2.0    4.0        0.0       1.0   \n",
       "ESTADO_LUZ                                                                 \n",
       "0                 96.620948  86.666667  50.0  100.0  73.293872  60.45977   \n",
       "1                  3.379052  13.333333  50.0    0.0  26.706128  39.54023   \n",
       "\n",
       "value_movimiento                                                            \\\n",
       "NIVEL_SONIDO            2.0        3.0    4.0        5.0        6.0    7.0   \n",
       "ESTADO_LUZ                                                                   \n",
       "0                 63.157895  18.181818  61.25  45.945946  66.666667  100.0   \n",
       "1                 36.842105  81.818182  38.75  54.054054  33.333333    0.0   \n",
       "\n",
       "value_movimiento        \n",
       "NIVEL_SONIDO       8.0  \n",
       "ESTADO_LUZ              \n",
       "0                 50.0  \n",
       "1                 50.0  "
      ]
     },
     "execution_count": 570,
     "metadata": {},
     "output_type": "execute_result"
    }
   ],
   "source": [
    "pd.crosstab(df_lux_dwh_cut.ESTADO_LUZ,[df_lux_dwh_cut.value_movimiento,df_lux_dwh_cut.NIVEL_SONIDO]).apply(lambda r: r/r.sum()*100, axis=0)"
   ]
  },
  {
   "cell_type": "markdown",
   "metadata": {},
   "source": [
    "## Probando performance...\n",
    "Algunas pruebas de performance según se trabaje con distintos tipos de datos"
   ]
  },
  {
   "cell_type": "code",
   "execution_count": 571,
   "metadata": {},
   "outputs": [
    {
     "name": "stdout",
     "output_type": "stream",
     "text": [
      "Wall time: 8.89 s\n"
     ]
    },
    {
     "data": {
      "text/html": [
       "<div>\n",
       "<style>\n",
       "    .dataframe thead tr:only-child th {\n",
       "        text-align: right;\n",
       "    }\n",
       "\n",
       "    .dataframe thead th {\n",
       "        text-align: left;\n",
       "    }\n",
       "\n",
       "    .dataframe tbody tr th {\n",
       "        vertical-align: top;\n",
       "    }\n",
       "</style>\n",
       "<table border=\"1\" class=\"dataframe\">\n",
       "  <thead>\n",
       "    <tr style=\"text-align: right;\">\n",
       "      <th></th>\n",
       "      <th>YEARDAY</th>\n",
       "      <th>WEEKDAY</th>\n",
       "      <th>MINDAY</th>\n",
       "      <th>HOUR</th>\n",
       "      <th>MINUTE</th>\n",
       "    </tr>\n",
       "  </thead>\n",
       "  <tbody>\n",
       "    <tr>\n",
       "      <th>0</th>\n",
       "      <td>1</td>\n",
       "      <td>6</td>\n",
       "      <td>0</td>\n",
       "      <td>0</td>\n",
       "      <td>0</td>\n",
       "    </tr>\n",
       "  </tbody>\n",
       "</table>\n",
       "</div>"
      ],
      "text/plain": [
       "   YEARDAY  WEEKDAY  MINDAY  HOUR  MINUTE\n",
       "0        1        6       0     0       0"
      ]
     },
     "execution_count": 571,
     "metadata": {},
     "output_type": "execute_result"
    }
   ],
   "source": [
    "%time generar_estructura_anio_oldschool().head(1)"
   ]
  },
  {
   "cell_type": "code",
   "execution_count": 572,
   "metadata": {},
   "outputs": [
    {
     "name": "stdout",
     "output_type": "stream",
     "text": [
      "Wall time: 4.32 s\n"
     ]
    },
    {
     "data": {
      "text/html": [
       "<div>\n",
       "<style>\n",
       "    .dataframe thead tr:only-child th {\n",
       "        text-align: right;\n",
       "    }\n",
       "\n",
       "    .dataframe thead th {\n",
       "        text-align: left;\n",
       "    }\n",
       "\n",
       "    .dataframe tbody tr th {\n",
       "        vertical-align: top;\n",
       "    }\n",
       "</style>\n",
       "<table border=\"1\" class=\"dataframe\">\n",
       "  <thead>\n",
       "    <tr style=\"text-align: right;\">\n",
       "      <th></th>\n",
       "      <th>TIMESTAMP</th>\n",
       "      <th>YEARDAY</th>\n",
       "      <th>WEEKDAY</th>\n",
       "      <th>HOUR</th>\n",
       "      <th>MINUTE</th>\n",
       "      <th>MINDAY</th>\n",
       "    </tr>\n",
       "  </thead>\n",
       "  <tbody>\n",
       "    <tr>\n",
       "      <th>0</th>\n",
       "      <td>2017-01-01</td>\n",
       "      <td>1</td>\n",
       "      <td>6</td>\n",
       "      <td>0</td>\n",
       "      <td>0</td>\n",
       "      <td>0</td>\n",
       "    </tr>\n",
       "  </tbody>\n",
       "</table>\n",
       "</div>"
      ],
      "text/plain": [
       "   TIMESTAMP  YEARDAY  WEEKDAY  HOUR  MINUTE  MINDAY\n",
       "0 2017-01-01        1        6     0       0       0"
      ]
     },
     "execution_count": 572,
     "metadata": {},
     "output_type": "execute_result"
    }
   ],
   "source": [
    "%time generar_estructura_anio().head(1)"
   ]
  },
  {
   "cell_type": "markdown",
   "metadata": {},
   "source": [
    "### Simulación de luminosidad"
   ]
  },
  {
   "cell_type": "code",
   "execution_count": 573,
   "metadata": {},
   "outputs": [
    {
     "name": "stdout",
     "output_type": "stream",
     "text": [
      "Wall time: 2 ms\n"
     ]
    },
    {
     "data": {
      "text/plain": [
       "array([[<matplotlib.axes._subplots.AxesSubplot object at 0x00000000D9442C18>]], dtype=object)"
      ]
     },
     "execution_count": 573,
     "metadata": {},
     "output_type": "execute_result"
    },
    {
     "data": {
      "image/png": "[encoded data removed]",
      "text/plain": [
       "<matplotlib.figure.Figure at 0x5c7d9550>"
      ]
     },
     "metadata": {},
     "output_type": "display_data"
    }
   ],
   "source": [
    "%time df_luz = pd.DataFrame(pd.Series(generar_luminosidad(350)),columns=['LUMINOSIDAD'])\n",
    "df_luz.hist(bins=50)"
   ]
  },
  {
   "cell_type": "markdown",
   "metadata": {},
   "source": [
    "### Simulación de presencia"
   ]
  },
  {
   "cell_type": "code",
   "execution_count": 574,
   "metadata": {},
   "outputs": [
    {
     "name": "stdout",
     "output_type": "stream",
     "text": [
      "Wall time: 8 ms\n"
     ]
    },
    {
     "data": {
      "text/plain": [
       "<matplotlib.axes._subplots.AxesSubplot at 0xbfce5f60>"
      ]
     },
     "execution_count": 574,
     "metadata": {},
     "output_type": "execute_result"
    },
    {
     "data": {
      "image/png": "[encoded data removed]",
      "text/plain": [
       "<matplotlib.figure.Figure at 0x5c7d9048>"
      ]
     },
     "metadata": {},
     "output_type": "display_data"
    }
   ],
   "source": [
    "%time presencia = generar_presencia(True)\n",
    "presencia.plot(presencia.index.values,['SONIDO','MOVIMIENTO'])"
   ]
  },
  {
   "cell_type": "code",
   "execution_count": 575,
   "metadata": {
    "collapsed": true
   },
   "outputs": [],
   "source": [
    "#display(presencia.MOVIMIENTO.value_counts().plot(kind='bar', stacked=False, color=['red','blue'], grid=False))"
   ]
  },
  {
   "cell_type": "markdown",
   "metadata": {},
   "source": [
    "## Simulación y generación del dataset\n",
    "Se genera un dataset completo del año con las funciones y datasets previos"
   ]
  },
  {
   "cell_type": "code",
   "execution_count": 576,
   "metadata": {
    "scrolled": true
   },
   "outputs": [
    {
     "data": {
      "text/plain": [
       "TIMESTAMP    datetime64[ns]\n",
       "YEARDAY               int32\n",
       "WEEKDAY               int64\n",
       "HOUR                  int64\n",
       "MINUTE                int64\n",
       "MINDAY                int64\n",
       "dtype: object"
      ]
     },
     "execution_count": 576,
     "metadata": {},
     "output_type": "execute_result"
    }
   ],
   "source": [
    "#inicializamos el dataset general\n",
    "df_general = generar_estructura_anio()\n",
    "df_general.dtypes"
   ]
  },
  {
   "cell_type": "markdown",
   "metadata": {},
   "source": [
    "### Merge de temperaturas\n",
    "Se agregan datos de temperatura al dataset general (join y limpieza)"
   ]
  },
  {
   "cell_type": "code",
   "execution_count": 577,
   "metadata": {
    "collapsed": true,
    "scrolled": true
   },
   "outputs": [],
   "source": [
    "df_general = pd.merge(df_general, df_temp_grouped,  how='left', left_on=['YEARDAY','HOUR'], right_on = ['DIA_ANIO','HORA'])\n",
    "df_general.drop(['DIA_ANIO','HORA'], axis=1, inplace=True)\n",
    "df_general.rename(columns = {'TEMP_C':'TEMPERATURE'}, inplace=True)"
   ]
  },
  {
   "cell_type": "markdown",
   "metadata": {},
   "source": [
    "### Simulación de luminosidad, sonido y movimiento\n",
    "Se utilizan las funciones definidas previamente para generar datos simulados para cada día del año"
   ]
  },
  {
   "cell_type": "code",
   "execution_count": 578,
   "metadata": {
    "collapsed": true
   },
   "outputs": [],
   "source": [
    "df_general = df_general.assign(LIGHT = np.nan)\n",
    "df_general = df_general.assign(SOUND = np.nan)\n",
    "df_general = df_general.assign(MOVEMENT = np.nan)\n",
    "for dia in range(1,366):\n",
    "    fecha_actual = fecha = datetime.strptime('01-01-'+str(ANIO), '%d-%m-%Y') + timedelta(dia - 1)\n",
    "    minuto_inicio = (dia - 1) * 1440\n",
    "    minuto_fin = dia * 1440 - 1\n",
    "    \n",
    "    # agregamos datos de luminosidad\n",
    "    luminosidad = generar_luminosidad(dia)\n",
    "    df_general.loc[minuto_inicio:minuto_fin,'LIGHT'] = luminosidad\n",
    "\n",
    "    # generamos datos de presencia (movimiento y sonido)\n",
    "    presencia = generar_presencia(fecha_actual.weekday() != 6 and fecha_actual.weekday() != 5)\n",
    "    df_general.loc[minuto_inicio:minuto_fin,'SOUND'] = presencia['SONIDO'].values\n",
    "    df_general.loc[minuto_inicio:minuto_fin,'MOVEMENT'] = presencia['MOVIMIENTO'].values    "
   ]
  },
  {
   "cell_type": "markdown",
   "metadata": {},
   "source": [
    "### Simulación de activación de la luz\n",
    "Se consideran las variables de probabilidad configuradas para generar estados de encendido y apagado de la luz según el momento del día (iluminación ambiente) y el movimiento detectado"
   ]
  },
  {
   "cell_type": "code",
   "execution_count": 579,
   "metadata": {},
   "outputs": [],
   "source": [
    "# Se agrega simulación de activación de la luz (luz prendida o apagada)\n",
    "luz_minima_activacion = np.random.normal(media_lumenes_limite_prendido, desvio_lumenes_limite_prendido, size=df_general.shape[0])\n",
    "df_general = df_general.assign(LUX_ON = False)\n",
    "\n",
    "# Genera activación de la luz durante la noche (con y sin movimiento)\n",
    "df_general.loc[ ((df_general.LIGHT < luz_minima_activacion) & (df_general.MOVEMENT == 1)) ,'LUX_ON'] = np.random.binomial(1,prob_lux_on_presencia_noche,size=df_general.shape[0])\n",
    "df_general.loc[ ((df_general.LIGHT < luz_minima_activacion) & (df_general.MOVEMENT == 0)) ,'LUX_ON'] = np.random.binomial(1,prob_lux_on_sinpresencia_noche,size=df_general.shape[0])\n",
    "\n",
    "# Genera activación de la luz durante el dia (con y sin movimiento)\n",
    "df_general.loc[ ((df_general.LIGHT >= luz_minima_activacion) & (df_general.MOVEMENT == 1)) ,'LUX_ON'] = np.random.binomial(1,prob_lux_on_presencia_dia,size=df_general.shape[0])\n",
    "df_general.loc[ ((df_general.LIGHT >= luz_minima_activacion) & (df_general.MOVEMENT == 0)) ,'LUX_ON'] = np.random.binomial(1,prob_lux_on_sinpresencia_dia,size=df_general.shape[0])\n",
    "\n",
    "# Se agrega la variable de consumo del Lux\n",
    "df_general = df_general.assign(LUX_ACS = np.nan)\n",
    "df_general.loc[ df_general.LUX_ON == 1, 'LUX_ACS' ] = abs(np.random.normal(media_luz_on, desvio_luz_on))\n",
    "df_general.loc[ df_general.LUX_ON == 0, 'LUX_ACS' ] = abs(np.random.normal(media_luz_off, desvio_luz_off))\n",
    "\n",
    "# Se agrega el sensado de luminosidad según se prende o apaga la luz (variable separada para evitar perder info)\n",
    "luz_variable_dia_nublado = np.random.normal(lumenes_nublado, lumenes_desvio, size=df_general.shape[0])\n",
    "df_general['LIGHT_LUX'] = df_general.LIGHT\n",
    "df_general.loc[ (df_general.LUX_ON == 1) & (df_general.LIGHT_LUX < luz_minima_activacion), 'LIGHT_LUX' ] = np.random.normal(lumenes_lampara ,lumenes_desvio, size=df_general.shape[0])\n",
    "df_general.loc[ (df_general.LUX_ON == 1) & (df_general.LIGHT_LUX < luz_variable_dia_nublado), 'LIGHT_LUX' ] = np.random.normal(lumenes_nublado_luz ,lumenes_desvio, size=df_general.shape[0])"
   ]
  },
  {
   "cell_type": "markdown",
   "metadata": {},
   "source": [
    "### Simulación de consumo de Potentia (heladera)\n",
    "Se utilizan los parametros de consumo estimados del consumo real de la db y se genera una simulación"
   ]
  },
  {
   "cell_type": "code",
   "execution_count": 580,
   "metadata": {},
   "outputs": [],
   "source": [
    "df_general = df_general.assign(POT_ACS = generar_consumo_heladera(parametros_consumo_heladera))"
   ]
  },
  {
   "cell_type": "markdown",
   "metadata": {},
   "source": [
    "## Validando datos simulados...\n",
    "- Mapa de calor de luz prendida según hora y día de la semana"
   ]
  },
  {
   "cell_type": "code",
   "execution_count": 581,
   "metadata": {},
   "outputs": [
    {
     "data": {
      "image/png": "[encoded data removed]",
      "text/plain": [
       "<matplotlib.figure.Figure at 0xe2f00f60>"
      ]
     },
     "metadata": {},
     "output_type": "display_data"
    }
   ],
   "source": [
    "estado_luz_tbl = pd.pivot_table(df_general, values=\"LUX_ON\",index=[\"WEEKDAY\"], columns=[\"HOUR\"], fill_value=0)\n",
    "plt.figure(figsize=(25, 5))\n",
    "ax = sns.heatmap(estado_luz_tbl, square=True)\n",
    "plt.setp(ax.xaxis.get_majorticklabels(), rotation=0)\n",
    "plt.show()"
   ]
  },
  {
   "cell_type": "markdown",
   "metadata": {},
   "source": [
    "- Comprobando consumo de heladera simulado"
   ]
  },
  {
   "cell_type": "code",
   "execution_count": 582,
   "metadata": {},
   "outputs": [
    {
     "data": {
      "text/plain": [
       "count    525600.000000\n",
       "mean          0.311503\n",
       "std           0.362501\n",
       "min           0.000000\n",
       "25%           0.001531\n",
       "50%           0.017992\n",
       "75%           0.712955\n",
       "max           1.090229\n",
       "Name: POT_ACS, dtype: float64"
      ]
     },
     "execution_count": 582,
     "metadata": {},
     "output_type": "execute_result"
    }
   ],
   "source": [
    "df_general.POT_ACS.describe()"
   ]
  },
  {
   "cell_type": "code",
   "execution_count": 583,
   "metadata": {},
   "outputs": [
    {
     "data": {
      "text/plain": [
       "count    1000.000000\n",
       "mean        0.313992\n",
       "std         0.365218\n",
       "min         0.000000\n",
       "25%         0.001800\n",
       "50%         0.003700\n",
       "75%         0.722550\n",
       "max         0.974800\n",
       "Name: value, dtype: float64"
      ]
     },
     "execution_count": 583,
     "metadata": {},
     "output_type": "execute_result"
    }
   ],
   "source": [
    "df_heladera_consumo.value.describe()"
   ]
  },
  {
   "cell_type": "markdown",
   "metadata": {},
   "source": [
    "## Guardando el dataset generado..."
   ]
  },
  {
   "cell_type": "code",
   "execution_count": 584,
   "metadata": {},
   "outputs": [
    {
     "data": {
      "text/html": [
       "<div>\n",
       "<style>\n",
       "    .dataframe thead tr:only-child th {\n",
       "        text-align: right;\n",
       "    }\n",
       "\n",
       "    .dataframe thead th {\n",
       "        text-align: left;\n",
       "    }\n",
       "\n",
       "    .dataframe tbody tr th {\n",
       "        vertical-align: top;\n",
       "    }\n",
       "</style>\n",
       "<table border=\"1\" class=\"dataframe\">\n",
       "  <thead>\n",
       "    <tr style=\"text-align: right;\">\n",
       "      <th></th>\n",
       "      <th>TIMESTAMP</th>\n",
       "      <th>YEARDAY</th>\n",
       "      <th>WEEKDAY</th>\n",
       "      <th>HOUR</th>\n",
       "      <th>MINUTE</th>\n",
       "      <th>MINDAY</th>\n",
       "      <th>TEMPERATURE</th>\n",
       "      <th>LIGHT</th>\n",
       "      <th>SOUND</th>\n",
       "      <th>MOVEMENT</th>\n",
       "      <th>LUX_ON</th>\n",
       "      <th>LUX_ACS</th>\n",
       "      <th>LIGHT_LUX</th>\n",
       "      <th>POT_ACS</th>\n",
       "    </tr>\n",
       "  </thead>\n",
       "  <tbody>\n",
       "    <tr>\n",
       "      <th>0</th>\n",
       "      <td>2017-01-01</td>\n",
       "      <td>1</td>\n",
       "      <td>6</td>\n",
       "      <td>0</td>\n",
       "      <td>0</td>\n",
       "      <td>0</td>\n",
       "      <td>24.744444</td>\n",
       "      <td>4.0</td>\n",
       "      <td>35.635088</td>\n",
       "      <td>0.0</td>\n",
       "      <td>0</td>\n",
       "      <td>0.012527</td>\n",
       "      <td>4.0</td>\n",
       "      <td>0.003614</td>\n",
       "    </tr>\n",
       "  </tbody>\n",
       "</table>\n",
       "</div>"
      ],
      "text/plain": [
       "   TIMESTAMP  YEARDAY  WEEKDAY  HOUR  MINUTE  MINDAY  TEMPERATURE  LIGHT  \\\n",
       "0 2017-01-01        1        6     0       0       0    24.744444    4.0   \n",
       "\n",
       "       SOUND  MOVEMENT  LUX_ON   LUX_ACS  LIGHT_LUX   POT_ACS  \n",
       "0  35.635088       0.0       0  0.012527        4.0  0.003614  "
      ]
     },
     "execution_count": 584,
     "metadata": {},
     "output_type": "execute_result"
    }
   ],
   "source": [
    "df_general.head(1)"
   ]
  },
  {
   "cell_type": "markdown",
   "metadata": {},
   "source": [
    "### Export a csv"
   ]
  },
  {
   "cell_type": "code",
   "execution_count": 585,
   "metadata": {
    "collapsed": true
   },
   "outputs": [],
   "source": [
    "df_general.to_csv('dataset_simulado.csv')"
   ]
  },
  {
   "cell_type": "markdown",
   "metadata": {},
   "source": [
    "### Carga en DWH"
   ]
  },
  {
   "cell_type": "code",
   "execution_count": 586,
   "metadata": {},
   "outputs": [],
   "source": [
    "engine = create_engine('mysql://{user}:{pw}@{host}/{db}'.format(user=dbuser_hist, pw=dbpass_hist, host=dbhost_hist, db=dbname_hist),pool_recycle=300)\n",
    "df_general.to_sql(con=engine, name=table_hist, if_exists='replace', index=False, chunksize=10000)"
   ]
  }
 ],
 "metadata": {
  "kernelspec": {
   "display_name": "Python 2",
   "language": "python",
   "name": "python2"
  },
  "language_info": {
   "codemirror_mode": {
    "name": "ipython",
    "version": 2
   },
   "file_extension": ".py",
   "mimetype": "text/x-python",
   "name": "python",
   "nbconvert_exporter": "python",
   "pygments_lexer": "ipython2",
   "version": "2.7.13"
  }
 },
 "nbformat": 4,
 "nbformat_minor": 2
}
