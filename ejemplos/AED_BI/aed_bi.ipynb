{
 "cells": [
  {
   "cell_type": "markdown",
   "metadata": {},
   "source": [
    "# Análisis exploratorio y la construcción de un modelo predictivo\n",
    "\n",
    "El actual documento describe el proceso de extracción, transformación y carga de datos a un DataWarehouse para luego realizar un análisis exploratorio básico para detectar patrones en el consumo de energía de los módulos instalados en los dispositivos DqR del hogar.\n",
    "El proceso completo puede asemejarse al proceso de DataMining aunque no se contemplarán todas las etapas del mismo por una cuestión de simplificación del problema. El primer paso entonces es construir y actualizar el DWH con los datos de la base de datos transaccional. Empezaremos definiendo el modelo de datos en esquema estrella.\n",
    "\n",
    "## Modelo de datos del DWH\n",
    "Utilizaremos la metodología de Kimball para definir primero los problemas particulares a resolver y luego extender el dominio del negocio. Es apropiada esta decisión ya que aún no se dispone de una visión completa del negocio debido a que el producto se encuentra en su fase de desarrollo.\n",
    "\n",
    "### Proceso del negocio\n",
    "Se considerarán 3 procesos de negocio para realizar el diseño del DWH inicial.\n",
    "- Predicción de estado del módulo DqR Lux\n",
    "    Este proceso buscará predecir el estado de un módulo que controla la luminaria según ciertas variables predictoras. Es necesario disponer de un set de datos de entrenamiento no menor a 3 meses.\n",
    "- Predicción de consumo de energía mensual\n",
    "    El proceso buscará responder cuánto se estima que se consumirá en energía por cada módulo que posee sensado de corriente, de forma que sea posible estimar el consumo mensual.\n",
    "- Reporte de sensado\n",
    "    Se permitirá al usuario explorar el sensado de los dispositivos DqR para analizar el comportamiento de los mismos a lo largo del tiempo.\n",
    "    \n",
    "### Nivel de granularidad del modelo\n",
    "Ya que los procesos compartirán las dimensiones asociadas, se define el nivel de granularidad de detalle para cada dimensión y alguna aclaración dependiendo del proceso que la relacione. Las consideraciones a contemplar son:\n",
    "- Se debe representar el tiempo en minutos para el proceso de predicción de estado y reporte de sensado.\n",
    "- Se debe representar el tiempo en horas para el proceso de predicción de estado.\n",
    "\n",
    "### Predicción de estado del DqR Lux\n",
    "\n",
    "**Dimensiones**\n",
    "- Time: timestamp, weekday, hour\n",
    "- Module: module_id, module_type_id, device_id\n",
    "\n",
    "**Hechos**\n",
    "- lux_state\n",
    "- movement\n",
    "- light\n",
    "- sound\n",
    "\n",
    "### Predicción de Consumo de energía\n",
    "\n",
    "**Dimensiones**\n",
    "- Time: timestamp, year, month, month_hour (day*24 + hour), hour\n",
    "- Module: module_id, module_name, module_type_id, module_type_name, device_id, device_name\n",
    "\n",
    "**Hechos**\n",
    "- power_consumption\n",
    "- power_consumption_accumulated\n",
    "- power_consumption_percentage\n",
    "\n",
    "### Reporte de sensado\n",
    "\n",
    "**Dimensiones**\n",
    "- Time: timestamp, year, month, yearday, weekday, weekday_name, day, month_hour (day*24 + hour), hour, minute, minday (minute + hour)\n",
    "- Module: module_id, module_name, module_type_id, module_type_name, device_id, device_name\n",
    "- Sensor: sensor_type_id, sensor_type_name\n",
    "\n",
    "**Hechos**\n",
    "- module_state\n",
    "- light\n",
    "- movement\n",
    "- power_consumption\n",
    "- temperature\n",
    "- sound\n",
    "\n",
    "Los hechos son todos aditivos, por lo cual pueden acumularse en el tiempo. El único que es un tipo no aditivo es el module_state que indica el estado actual del módulo para cada evento registrado.\n",
    "\n",
    "## Modelo de Datos Star-Schema\n",
    "Definido el modelo de datos lógico, se procede a construir un modelo de datos físico que permita soportar los procesos previos. Por lo tanto dichos procesos terminarán consumiendo y compartiendo las tablas especificadas a continuación.\n",
    "\n",
    "### Tablas de dimensiones (consulta)\n",
    "\n",
    "**lk_module**\n",
    "- MOD_ID: int (PK)\n",
    "- DEV_ID: int\n",
    "- DEV_NAME: varchar\n",
    "- MOD_NAME: varchar\n",
    "- MOD_TYPE_ID: int\n",
    "- MOD_TYPE_NAME: varchar\n",
    "\n",
    "**lk_time**\n",
    "- TIMESTAMP: int (PK)\n",
    "- MINUTE: int\n",
    "- MINDAY: int\n",
    "- HOUR: int\n",
    "- DAY: int\n",
    "- WEEKDAY: int\n",
    "- WEEKDAY_NAME: varchar\n",
    "- MONTH: int\n",
    "- MONTH_HOUR: int\n",
    "- YEARDAY: int\n",
    "- YEAR: int\n",
    "\n",
    "**lk_sensor**\n",
    "- SENSOR_TYPE_ID: int (PK)\n",
    "- SENSOR_TYPE_NAME: varchar\n",
    "- UNIT: varchar\n",
    "\n",
    "### Tablas de hechos\n",
    "\n",
    "**agg_power_consumption**\n",
    "- id_power_consumption: int (SK)\n",
    "- TIMESTAMP: int (fk)\n",
    "- MOD_ID: int (fk)\n",
    "- WATT_HOUR: float\n",
    "- WATT_HOUR_ACC: int\n",
    "- TOTAL_WATT_PER: float\n",
    "\n",
    "**bt_events**\n",
    "- id_event: int (SK)\n",
    "- TIMESTAMP: int (fk)\n",
    "- MOD_ID: int (fk)\n",
    "- SENSOR_TYPE_ID: int (fk)\n",
    "- MODULE_STATE: int\n",
    "- SENSED_VALUE: float"
   ]
  },
  {
   "cell_type": "markdown",
   "metadata": {},
   "source": [
    "## Import de librerías"
   ]
  },
  {
   "cell_type": "code",
   "execution_count": 1,
   "metadata": {
    "collapsed": true
   },
   "outputs": [],
   "source": [
    "import pandas as pd\n",
    "import numpy as np\n",
    "import matplotlib.pyplot as plt\n",
    "import math as math\n",
    "from datetime import datetime, timedelta\n",
    "import MySQLdb\n",
    "from sqlalchemy import create_engine\n",
    "from sklearn.model_selection import train_test_split\n",
    "from sklearn.neural_network import MLPRegressor\n",
    "\n",
    "%matplotlib inline\n",
    "\n",
    "pd.options.mode.chained_assignment = None  # default='warn'"
   ]
  },
  {
   "cell_type": "markdown",
   "metadata": {},
   "source": [
    "## Configuración\n",
    "### Conexión a bases de datos"
   ]
  },
  {
   "cell_type": "code",
   "execution_count": 2,
   "metadata": {
    "collapsed": true
   },
   "outputs": [],
   "source": [
    "# Base de datos transaccional\n",
    "dbname_trx = \"ratio_dwh\"\n",
    "dbhost_trx = \"localhost\"\n",
    "dbport_trx = 3306\n",
    "dbuser_trx = \"root\"\n",
    "dbpass_trx = \"root\"\n",
    "\n",
    "# Base de datos histórica\n",
    "dbname_hist = \"ratio_dwh\"\n",
    "dbhost_hist = \"localhost\"\n",
    "dbport_hist = 3306\n",
    "dbuser_hist = \"root\"\n",
    "dbpass_hist = \"root\""
   ]
  },
  {
   "cell_type": "markdown",
   "metadata": {},
   "source": [
    "### Tablas de consulta (fuentes de datos)\n",
    "Las fuentes de datos surgen de la base de datos transaccional, ya que se incorporan los eventos registrados en tiempo real para agregarlos a la base de datos histórica."
   ]
  },
  {
   "cell_type": "code",
   "execution_count": 3,
   "metadata": {
    "collapsed": true
   },
   "outputs": [],
   "source": [
    "devices_tbl = \"devices\"\n",
    "device_modules_tbl = \"device_modules\"\n",
    "module_types_tbl = \"module_types\"\n",
    "sensor_types_tbl = \"sensor_types\"\n",
    "device_events_tbl = \"device_events\"\n",
    "device_event_sensors_tbl = \"device_event_sensors\""
   ]
  },
  {
   "cell_type": "markdown",
   "metadata": {},
   "source": [
    "### Esquema del DWH"
   ]
  },
  {
   "cell_type": "code",
   "execution_count": 4,
   "metadata": {
    "collapsed": true
   },
   "outputs": [],
   "source": [
    "agg_power_consumption = \"agg_power_consumption\"\n",
    "lk_module = \"lk_module\"\n",
    "lk_time = \"lk_time\"\n",
    "lk_sensor = \"lk_sensor\"\n",
    "bt_events = \"bt_events\""
   ]
  },
  {
   "cell_type": "markdown",
   "metadata": {},
   "source": [
    "### Variables globales"
   ]
  },
  {
   "cell_type": "code",
   "execution_count": 5,
   "metadata": {
    "collapsed": true
   },
   "outputs": [],
   "source": [
    "# Voltaje de la red (en V)\n",
    "voltage = 230\n",
    "# Sensor_type_id de energia: 1\n",
    "sensor_type_id = 1\n",
    "# Fecha inicio y fin de ETL\n",
    "etl_start_date = '2017-01-01'\n",
    "etl_end_date = 'NOW()'"
   ]
  },
  {
   "cell_type": "markdown",
   "metadata": {},
   "source": [
    "## Integración de datos Transaccionales a DWH (ETL)\n",
    "### Extracción de datos de la base Transaccional"
   ]
  },
  {
   "cell_type": "code",
   "execution_count": 6,
   "metadata": {
    "collapsed": true
   },
   "outputs": [],
   "source": [
    "conn = MySQLdb.connect(host=dbhost_trx, port=dbport_trx, user=dbuser_trx, passwd=dbpass_trx, db=dbname_trx)\n",
    "# Dimensiones de devices y modulos\n",
    "proy_sql = 'M.id as MOD_ID, M.name as MOD_NAME, module_type_id as MOD_TYPE_ID, MT.name as MOD_TYPE_NAME, D.id as DEV_ID, D.name as DEV_NAME'\n",
    "tables_sql = devices_tbl + ' D JOIN ' + device_modules_tbl + ' M ON D.id=M.device_id JOIN ' + module_types_tbl + ' MT ON module_type_id=MT.id'\n",
    "df_modules = pd.read_sql('SELECT ' + proy_sql + ' FROM ' + tables_sql, con=conn)\n",
    "# Dimension sensor\n",
    "proy_sql = 'id as SENSOR_TYPE_ID, name as SENSOR_TYPE_NAME, unit as UNIT'\n",
    "tables_sql = sensor_types_tbl\n",
    "df_sensors = pd.read_sql('SELECT ' + proy_sql + ' FROM ' + tables_sql, con=conn)\n",
    "# Hechos (mediciones)\n",
    "proy_sql = 'module_id as MOD_ID, ts as TIMESTAMP, state as MODULE_STATE, sensor_type_id as SENSOR_TYPE_ID, value as SENSED_VALUE'\n",
    "tables_sql = device_events_tbl + ' DE JOIN ' + device_event_sensors_tbl + ' DES ON DE.id=DES.device_event_id'\n",
    "where_sql = 'ts BETWEEN \"' + etl_start_date + '\" AND ' + etl_end_date\n",
    "df_events = pd.read_sql('SELECT ' + proy_sql + ' FROM ' + tables_sql + ' WHERE ' + where_sql, con=conn)\n",
    "conn.close()"
   ]
  },
  {
   "cell_type": "markdown",
   "metadata": {},
   "source": [
    "El dataset df_modules representa la tabla lk_module:"
   ]
  },
  {
   "cell_type": "code",
   "execution_count": 7,
   "metadata": {
    "scrolled": true
   },
   "outputs": [
    {
     "data": {
      "text/html": [
       "<div>\n",
       "<style>\n",
       "    .dataframe thead tr:only-child th {\n",
       "        text-align: right;\n",
       "    }\n",
       "\n",
       "    .dataframe thead th {\n",
       "        text-align: left;\n",
       "    }\n",
       "\n",
       "    .dataframe tbody tr th {\n",
       "        vertical-align: top;\n",
       "    }\n",
       "</style>\n",
       "<table border=\"1\" class=\"dataframe\">\n",
       "  <thead>\n",
       "    <tr style=\"text-align: right;\">\n",
       "      <th></th>\n",
       "      <th>MOD_ID</th>\n",
       "      <th>MOD_NAME</th>\n",
       "      <th>MOD_TYPE_ID</th>\n",
       "      <th>MOD_TYPE_NAME</th>\n",
       "      <th>DEV_ID</th>\n",
       "      <th>DEV_NAME</th>\n",
       "    </tr>\n",
       "  </thead>\n",
       "  <tbody>\n",
       "    <tr>\n",
       "      <th>0</th>\n",
       "      <td>51</td>\n",
       "      <td>Lux Cocina mod</td>\n",
       "      <td>1</td>\n",
       "      <td>LUX</td>\n",
       "      <td>5</td>\n",
       "      <td>Lux Cocina</td>\n",
       "    </tr>\n",
       "    <tr>\n",
       "      <th>1</th>\n",
       "      <td>52</td>\n",
       "      <td>Pot Cocina</td>\n",
       "      <td>2</td>\n",
       "      <td>POTENTIA</td>\n",
       "      <td>5</td>\n",
       "      <td>Lux Cocina</td>\n",
       "    </tr>\n",
       "    <tr>\n",
       "      <th>2</th>\n",
       "      <td>61</td>\n",
       "      <td>Pot 1</td>\n",
       "      <td>2</td>\n",
       "      <td>POTENTIA</td>\n",
       "      <td>6</td>\n",
       "      <td>Potentia Heladera</td>\n",
       "    </tr>\n",
       "    <tr>\n",
       "      <th>3</th>\n",
       "      <td>71</td>\n",
       "      <td>Omni 1</td>\n",
       "      <td>3</td>\n",
       "      <td>OMNI</td>\n",
       "      <td>7</td>\n",
       "      <td>Omni Cocina</td>\n",
       "    </tr>\n",
       "  </tbody>\n",
       "</table>\n",
       "</div>"
      ],
      "text/plain": [
       "   MOD_ID        MOD_NAME  MOD_TYPE_ID MOD_TYPE_NAME  DEV_ID  \\\n",
       "0      51  Lux Cocina mod            1           LUX       5   \n",
       "1      52      Pot Cocina            2      POTENTIA       5   \n",
       "2      61           Pot 1            2      POTENTIA       6   \n",
       "3      71          Omni 1            3          OMNI       7   \n",
       "\n",
       "            DEV_NAME  \n",
       "0         Lux Cocina  \n",
       "1         Lux Cocina  \n",
       "2  Potentia Heladera  \n",
       "3        Omni Cocina  "
      ]
     },
     "execution_count": 7,
     "metadata": {},
     "output_type": "execute_result"
    }
   ],
   "source": [
    "df_modules"
   ]
  },
  {
   "cell_type": "markdown",
   "metadata": {},
   "source": [
    "El dataset df_sensors representa la tabla lk_sensor:"
   ]
  },
  {
   "cell_type": "code",
   "execution_count": 8,
   "metadata": {},
   "outputs": [
    {
     "data": {
      "text/html": [
       "<div>\n",
       "<style>\n",
       "    .dataframe thead tr:only-child th {\n",
       "        text-align: right;\n",
       "    }\n",
       "\n",
       "    .dataframe thead th {\n",
       "        text-align: left;\n",
       "    }\n",
       "\n",
       "    .dataframe tbody tr th {\n",
       "        vertical-align: top;\n",
       "    }\n",
       "</style>\n",
       "<table border=\"1\" class=\"dataframe\">\n",
       "  <thead>\n",
       "    <tr style=\"text-align: right;\">\n",
       "      <th></th>\n",
       "      <th>SENSOR_TYPE_ID</th>\n",
       "      <th>SENSOR_TYPE_NAME</th>\n",
       "      <th>UNIT</th>\n",
       "    </tr>\n",
       "  </thead>\n",
       "  <tbody>\n",
       "    <tr>\n",
       "      <th>0</th>\n",
       "      <td>1</td>\n",
       "      <td>CURRENT</td>\n",
       "      <td>mAmp</td>\n",
       "    </tr>\n",
       "    <tr>\n",
       "      <th>1</th>\n",
       "      <td>2</td>\n",
       "      <td>LUMINOSITY</td>\n",
       "      <td>lum</td>\n",
       "    </tr>\n",
       "    <tr>\n",
       "      <th>2</th>\n",
       "      <td>3</td>\n",
       "      <td>MOVEMENT</td>\n",
       "      <td></td>\n",
       "    </tr>\n",
       "    <tr>\n",
       "      <th>3</th>\n",
       "      <td>4</td>\n",
       "      <td>SOUND</td>\n",
       "      <td>dB</td>\n",
       "    </tr>\n",
       "    <tr>\n",
       "      <th>4</th>\n",
       "      <td>5</td>\n",
       "      <td>TEMPERATURE</td>\n",
       "      <td>C</td>\n",
       "    </tr>\n",
       "  </tbody>\n",
       "</table>\n",
       "</div>"
      ],
      "text/plain": [
       "   SENSOR_TYPE_ID SENSOR_TYPE_NAME  UNIT\n",
       "0               1          CURRENT  mAmp\n",
       "1               2       LUMINOSITY   lum\n",
       "2               3         MOVEMENT      \n",
       "3               4            SOUND    dB\n",
       "4               5      TEMPERATURE     C"
      ]
     },
     "execution_count": 8,
     "metadata": {},
     "output_type": "execute_result"
    }
   ],
   "source": [
    "df_sensors"
   ]
  },
  {
   "cell_type": "markdown",
   "metadata": {},
   "source": [
    "El dataset df_events se utilizará para generar las tablas de hechos"
   ]
  },
  {
   "cell_type": "code",
   "execution_count": 9,
   "metadata": {},
   "outputs": [
    {
     "data": {
      "text/html": [
       "<div>\n",
       "<style>\n",
       "    .dataframe thead tr:only-child th {\n",
       "        text-align: right;\n",
       "    }\n",
       "\n",
       "    .dataframe thead th {\n",
       "        text-align: left;\n",
       "    }\n",
       "\n",
       "    .dataframe tbody tr th {\n",
       "        vertical-align: top;\n",
       "    }\n",
       "</style>\n",
       "<table border=\"1\" class=\"dataframe\">\n",
       "  <thead>\n",
       "    <tr style=\"text-align: right;\">\n",
       "      <th></th>\n",
       "      <th>MOD_ID</th>\n",
       "      <th>TIMESTAMP</th>\n",
       "      <th>MODULE_STATE</th>\n",
       "      <th>SENSOR_TYPE_ID</th>\n",
       "      <th>SENSED_VALUE</th>\n",
       "    </tr>\n",
       "  </thead>\n",
       "  <tbody>\n",
       "    <tr>\n",
       "      <th>0</th>\n",
       "      <td>51</td>\n",
       "      <td>2017-01-01 00:00:00</td>\n",
       "      <td>0</td>\n",
       "      <td>2</td>\n",
       "      <td>2.000000</td>\n",
       "    </tr>\n",
       "    <tr>\n",
       "      <th>1</th>\n",
       "      <td>51</td>\n",
       "      <td>2017-01-01 00:00:00</td>\n",
       "      <td>0</td>\n",
       "      <td>4</td>\n",
       "      <td>34.952475</td>\n",
       "    </tr>\n",
       "    <tr>\n",
       "      <th>2</th>\n",
       "      <td>51</td>\n",
       "      <td>2017-01-01 00:00:00</td>\n",
       "      <td>0</td>\n",
       "      <td>3</td>\n",
       "      <td>0.000000</td>\n",
       "    </tr>\n",
       "    <tr>\n",
       "      <th>3</th>\n",
       "      <td>51</td>\n",
       "      <td>2017-01-01 00:00:00</td>\n",
       "      <td>0</td>\n",
       "      <td>1</td>\n",
       "      <td>0.009875</td>\n",
       "    </tr>\n",
       "    <tr>\n",
       "      <th>4</th>\n",
       "      <td>51</td>\n",
       "      <td>2017-01-01 00:01:00</td>\n",
       "      <td>0</td>\n",
       "      <td>2</td>\n",
       "      <td>4.000000</td>\n",
       "    </tr>\n",
       "  </tbody>\n",
       "</table>\n",
       "</div>"
      ],
      "text/plain": [
       "   MOD_ID           TIMESTAMP  MODULE_STATE  SENSOR_TYPE_ID  SENSED_VALUE\n",
       "0      51 2017-01-01 00:00:00             0               2      2.000000\n",
       "1      51 2017-01-01 00:00:00             0               4     34.952475\n",
       "2      51 2017-01-01 00:00:00             0               3      0.000000\n",
       "3      51 2017-01-01 00:00:00             0               1      0.009875\n",
       "4      51 2017-01-01 00:01:00             0               2      4.000000"
      ]
     },
     "execution_count": 9,
     "metadata": {},
     "output_type": "execute_result"
    }
   ],
   "source": [
    "df_events.head(5)"
   ]
  },
  {
   "cell_type": "code",
   "execution_count": 10,
   "metadata": {},
   "outputs": [
    {
     "name": "stdout",
     "output_type": "stream",
     "text": [
      "Se extraen 2339210 eventos de sensado.\n"
     ]
    }
   ],
   "source": [
    "print 'Se extraen {0} eventos de sensado.'.format(df_events.shape[0])"
   ]
  },
  {
   "cell_type": "markdown",
   "metadata": {},
   "source": [
    "### Chequeo de valores null\n",
    "Es importante verificar que el dataset de eventos no contenga valores nulos, ya que de ser así deberán completarse mediante padding o interpolación"
   ]
  },
  {
   "cell_type": "code",
   "execution_count": 11,
   "metadata": {},
   "outputs": [
    {
     "data": {
      "text/plain": [
       "MOD_ID            False\n",
       "TIMESTAMP         False\n",
       "MODULE_STATE      False\n",
       "SENSOR_TYPE_ID    False\n",
       "SENSED_VALUE      False\n",
       "dtype: bool"
      ]
     },
     "execution_count": 11,
     "metadata": {},
     "output_type": "execute_result"
    }
   ],
   "source": [
    "df_events.isnull().any()"
   ]
  },
  {
   "cell_type": "markdown",
   "metadata": {},
   "source": [
    "### Limpieza del dataset\n",
    "Se verifican algunas columnas de los datasets obtenidos"
   ]
  },
  {
   "cell_type": "code",
   "execution_count": 12,
   "metadata": {},
   "outputs": [
    {
     "name": "stdout",
     "output_type": "stream",
     "text": [
      "No existen eventos duplicados\n"
     ]
    }
   ],
   "source": [
    "if df_events.duplicated().any():\n",
    "    print 'Se eliminan los duplicados (se mantiene el primero)'\n",
    "    df_events.drop_duplicates(inplace=True,keep='first')\n",
    "else:\n",
    "    print 'No existen eventos duplicados'"
   ]
  },
  {
   "cell_type": "code",
   "execution_count": 13,
   "metadata": {},
   "outputs": [
    {
     "data": {
      "text/plain": [
       "False"
      ]
     },
     "execution_count": 13,
     "metadata": {},
     "output_type": "execute_result"
    }
   ],
   "source": [
    "df_events.duplicated().any()"
   ]
  },
  {
   "cell_type": "markdown",
   "metadata": {},
   "source": [
    "### Transformación de variables\n",
    "Se trabajan las variables que se extraen para generar las tablas históricas en la db del DWH.\n",
    "La dimensión Module no requiere trabajo adicional ya que se integró con la extracción de la base transaccional.\n",
    "Por lo tanto resta generar la dimensión Tiempo con sus atributos y relacionar todas las dimensiones con la tabla de hechos.\n",
    "\n",
    "#### Dimensión Tiempo\n",
    "En primer lugar se verifica si el TIMESTAMP fue extraído con tipo de dato datetime. De lo contrario se convierte."
   ]
  },
  {
   "cell_type": "code",
   "execution_count": 14,
   "metadata": {},
   "outputs": [
    {
     "data": {
      "text/plain": [
       "MOD_ID                     int64\n",
       "TIMESTAMP         datetime64[ns]\n",
       "MODULE_STATE               int64\n",
       "SENSOR_TYPE_ID             int64\n",
       "SENSED_VALUE             float64\n",
       "dtype: object"
      ]
     },
     "execution_count": 14,
     "metadata": {},
     "output_type": "execute_result"
    }
   ],
   "source": [
    "df_events.dtypes"
   ]
  },
  {
   "cell_type": "code",
   "execution_count": 15,
   "metadata": {
    "collapsed": true
   },
   "outputs": [],
   "source": [
    "df_time = pd.DataFrame(df_events.TIMESTAMP.unique(),columns=['TIMESTAMP'])\n",
    "df_time['YEAR'] = df_time['TIMESTAMP'].dt.year\n",
    "df_time['YEARDAY'] = df_time['TIMESTAMP'].dt.strftime('%j').astype(int)\n",
    "df_time['MONTH'] = df_time['TIMESTAMP'].dt.month\n",
    "df_time['WEEKDAY'] = df_time['TIMESTAMP'].dt.weekday\n",
    "df_time['WEEKDAY_NAME'] = df_time['TIMESTAMP'].dt.strftime('%A')\n",
    "df_time['DAY'] = df_time['TIMESTAMP'].dt.day\n",
    "df_time['HOUR'] = df_time['TIMESTAMP'].dt.hour\n",
    "df_time['MONTH_HOUR'] = (df_time['DAY'] - 1) * 24 + df_time.HOUR\n",
    "df_time['MINUTE'] = df_time['TIMESTAMP'].dt.minute\n",
    "df_time['MINDAY'] = df_time['HOUR'] * 60 + df_time['MINUTE']"
   ]
  },
  {
   "cell_type": "markdown",
   "metadata": {},
   "source": [
    "El dataset df_time es el que representa la tabla lk_time en el DWH"
   ]
  },
  {
   "cell_type": "code",
   "execution_count": 16,
   "metadata": {
    "scrolled": false
   },
   "outputs": [
    {
     "data": {
      "text/html": [
       "<div>\n",
       "<style>\n",
       "    .dataframe thead tr:only-child th {\n",
       "        text-align: right;\n",
       "    }\n",
       "\n",
       "    .dataframe thead th {\n",
       "        text-align: left;\n",
       "    }\n",
       "\n",
       "    .dataframe tbody tr th {\n",
       "        vertical-align: top;\n",
       "    }\n",
       "</style>\n",
       "<table border=\"1\" class=\"dataframe\">\n",
       "  <thead>\n",
       "    <tr style=\"text-align: right;\">\n",
       "      <th></th>\n",
       "      <th>TIMESTAMP</th>\n",
       "      <th>YEAR</th>\n",
       "      <th>YEARDAY</th>\n",
       "      <th>MONTH</th>\n",
       "      <th>WEEKDAY</th>\n",
       "      <th>WEEKDAY_NAME</th>\n",
       "      <th>DAY</th>\n",
       "      <th>HOUR</th>\n",
       "      <th>MONTH_HOUR</th>\n",
       "      <th>MINUTE</th>\n",
       "      <th>MINDAY</th>\n",
       "    </tr>\n",
       "  </thead>\n",
       "  <tbody>\n",
       "    <tr>\n",
       "      <th>0</th>\n",
       "      <td>2017-01-01 00:00:00</td>\n",
       "      <td>2017</td>\n",
       "      <td>1</td>\n",
       "      <td>1</td>\n",
       "      <td>6</td>\n",
       "      <td>Sunday</td>\n",
       "      <td>1</td>\n",
       "      <td>0</td>\n",
       "      <td>0</td>\n",
       "      <td>0</td>\n",
       "      <td>0</td>\n",
       "    </tr>\n",
       "    <tr>\n",
       "      <th>1</th>\n",
       "      <td>2017-01-01 00:01:00</td>\n",
       "      <td>2017</td>\n",
       "      <td>1</td>\n",
       "      <td>1</td>\n",
       "      <td>6</td>\n",
       "      <td>Sunday</td>\n",
       "      <td>1</td>\n",
       "      <td>0</td>\n",
       "      <td>0</td>\n",
       "      <td>1</td>\n",
       "      <td>1</td>\n",
       "    </tr>\n",
       "    <tr>\n",
       "      <th>2</th>\n",
       "      <td>2017-01-01 00:02:00</td>\n",
       "      <td>2017</td>\n",
       "      <td>1</td>\n",
       "      <td>1</td>\n",
       "      <td>6</td>\n",
       "      <td>Sunday</td>\n",
       "      <td>1</td>\n",
       "      <td>0</td>\n",
       "      <td>0</td>\n",
       "      <td>2</td>\n",
       "      <td>2</td>\n",
       "    </tr>\n",
       "    <tr>\n",
       "      <th>3</th>\n",
       "      <td>2017-01-01 00:03:00</td>\n",
       "      <td>2017</td>\n",
       "      <td>1</td>\n",
       "      <td>1</td>\n",
       "      <td>6</td>\n",
       "      <td>Sunday</td>\n",
       "      <td>1</td>\n",
       "      <td>0</td>\n",
       "      <td>0</td>\n",
       "      <td>3</td>\n",
       "      <td>3</td>\n",
       "    </tr>\n",
       "    <tr>\n",
       "      <th>4</th>\n",
       "      <td>2017-01-01 00:04:00</td>\n",
       "      <td>2017</td>\n",
       "      <td>1</td>\n",
       "      <td>1</td>\n",
       "      <td>6</td>\n",
       "      <td>Sunday</td>\n",
       "      <td>1</td>\n",
       "      <td>0</td>\n",
       "      <td>0</td>\n",
       "      <td>4</td>\n",
       "      <td>4</td>\n",
       "    </tr>\n",
       "  </tbody>\n",
       "</table>\n",
       "</div>"
      ],
      "text/plain": [
       "            TIMESTAMP  YEAR  YEARDAY  MONTH  WEEKDAY WEEKDAY_NAME  DAY  HOUR  \\\n",
       "0 2017-01-01 00:00:00  2017        1      1        6       Sunday    1     0   \n",
       "1 2017-01-01 00:01:00  2017        1      1        6       Sunday    1     0   \n",
       "2 2017-01-01 00:02:00  2017        1      1        6       Sunday    1     0   \n",
       "3 2017-01-01 00:03:00  2017        1      1        6       Sunday    1     0   \n",
       "4 2017-01-01 00:04:00  2017        1      1        6       Sunday    1     0   \n",
       "\n",
       "   MONTH_HOUR  MINUTE  MINDAY  \n",
       "0           0       0       0  \n",
       "1           0       1       1  \n",
       "2           0       2       2  \n",
       "3           0       3       3  \n",
       "4           0       4       4  "
      ]
     },
     "execution_count": 16,
     "metadata": {},
     "output_type": "execute_result"
    }
   ],
   "source": [
    "df_time.head(5)"
   ]
  },
  {
   "cell_type": "markdown",
   "metadata": {},
   "source": [
    "#### Cálculo de consumo en energía (WATT_HOUR)\n",
    "Se general la tabla de hechos (energía consumida) a partir de los eventos. Primero se calcula la energía consumida en Watts/hora. El cálculo se realiza obteniendo la media de las mediciones de corriente en cada hora de cada día del año.\n",
    "\n",
    "Por ejemplo, a las 11am del 1/1/17 se consumieron 11,14 Watts."
   ]
  },
  {
   "cell_type": "code",
   "execution_count": 17,
   "metadata": {
    "scrolled": false
   },
   "outputs": [
    {
     "data": {
      "text/plain": [
       "11.146453086107696"
      ]
     },
     "execution_count": 17,
     "metadata": {},
     "output_type": "execute_result"
    }
   ],
   "source": [
    "df_events_acs = df_events.query('SENSOR_TYPE_ID == ' + str(sensor_type_id))\n",
    "df_events_acs.query('TIMESTAMP >= \"2017-01-01 11:00:00\" & TIMESTAMP < \"2017-01-01 12:00:00\" & MOD_ID == 51').SENSED_VALUE.mean() * voltage"
   ]
  },
  {
   "cell_type": "markdown",
   "metadata": {},
   "source": [
    "Se procede entonces a generar un dataset con el consumo en cada hora medida. Primero se obtiene una serie con todos los timestamps para cada hora del dataset df_time."
   ]
  },
  {
   "cell_type": "code",
   "execution_count": 18,
   "metadata": {
    "collapsed": true
   },
   "outputs": [],
   "source": [
    "serie_ts_hours = df_time.iloc[df_time[['YEAR','YEARDAY','HOUR']].drop_duplicates().index].TIMESTAMP"
   ]
  },
  {
   "cell_type": "markdown",
   "metadata": {},
   "source": [
    "Se genera el df_power para cada módulo del df_modules"
   ]
  },
  {
   "cell_type": "code",
   "execution_count": 19,
   "metadata": {
    "collapsed": true
   },
   "outputs": [],
   "source": [
    "df_power = pd.DataFrame(columns=['TIMESTAMP','MOD_ID','WATT_HOUR'])\n",
    "for mod_id in df_modules.MOD_ID:\n",
    "    # Se calcula el watt/hora para el modulo mod_id\n",
    "    df_power_mod = df_events_acs.query('MOD_ID == ' + str(mod_id)).merge(df_time,on='TIMESTAMP').groupby(['YEAR','YEARDAY','HOUR']).SENSED_VALUE.mean() * voltage\n",
    "    if df_power_mod.shape[0] > 0:\n",
    "        # Eliminamos el indice multiple para aplanar y convertir de Serie a Dataframe\n",
    "        df_power_mod = df_power_mod.reset_index()\n",
    "        # Se agrega el TIMESTAMP para utilizarlo como FK de la dimension tiempo y se renombra la columna de consumo\n",
    "        df_power_mod = df_power_mod.merge(df_time[['TIMESTAMP','YEAR','YEARDAY','HOUR']],left_on=['YEAR','YEARDAY','HOUR'], right_on=['YEAR','YEARDAY','HOUR'])\n",
    "        df_power_mod.rename(columns={'SENSED_VALUE': 'WATT_HOUR'},inplace=True)\n",
    "        # Eliminamos columnas que no se grabaran en la tabla de hechos\n",
    "        df_power_mod.drop(['YEAR','YEARDAY','HOUR'],axis=1,inplace=True)\n",
    "        # Se asigna el mod_id calculado\n",
    "        df_power_mod = df_power_mod.assign(MOD_ID = mod_id)\n",
    "    \n",
    "        # Se agrega los consumos del mod_id a la tabla de hechos\n",
    "        df_power = pd.concat([df_power,df_power_mod])"
   ]
  },
  {
   "cell_type": "markdown",
   "metadata": {},
   "source": [
    "Se verifica que el valor de consumo por hora es correcto (según lo visto previamente en el ejemplo)"
   ]
  },
  {
   "cell_type": "code",
   "execution_count": 21,
   "metadata": {},
   "outputs": [
    {
     "data": {
      "text/html": [
       "<div>\n",
       "<style>\n",
       "    .dataframe thead tr:only-child th {\n",
       "        text-align: right;\n",
       "    }\n",
       "\n",
       "    .dataframe thead th {\n",
       "        text-align: left;\n",
       "    }\n",
       "\n",
       "    .dataframe tbody tr th {\n",
       "        vertical-align: top;\n",
       "    }\n",
       "</style>\n",
       "<table border=\"1\" class=\"dataframe\">\n",
       "  <thead>\n",
       "    <tr style=\"text-align: right;\">\n",
       "      <th></th>\n",
       "      <th>MOD_ID</th>\n",
       "      <th>TIMESTAMP</th>\n",
       "      <th>WATT_HOUR</th>\n",
       "    </tr>\n",
       "  </thead>\n",
       "  <tbody>\n",
       "    <tr>\n",
       "      <th>660</th>\n",
       "      <td>51</td>\n",
       "      <td>2017-01-01 11:00:00</td>\n",
       "      <td>11.146453</td>\n",
       "    </tr>\n",
       "  </tbody>\n",
       "</table>\n",
       "</div>"
      ],
      "text/plain": [
       "    MOD_ID           TIMESTAMP  WATT_HOUR\n",
       "660     51 2017-01-01 11:00:00  11.146453"
      ]
     },
     "execution_count": 21,
     "metadata": {},
     "output_type": "execute_result"
    }
   ],
   "source": [
    "df_power.query('TIMESTAMP == \"2017-01-01 11:00:00\" & MOD_ID == 51')"
   ]
  },
  {
   "cell_type": "markdown",
   "metadata": {},
   "source": [
    "### Carga de tablas en DWH\n",
    "Finalizado el proceso de transformación, se procede a cargar las tablas con datos históricos en el DWH."
   ]
  },
  {
   "cell_type": "code",
   "execution_count": 22,
   "metadata": {
    "collapsed": true
   },
   "outputs": [],
   "source": [
    "engine = create_engine('mysql://{user}:{pw}@{host}/{db}'.format(user=dbuser_hist, pw=dbpass_hist, host=dbhost_hist, db=dbname_hist),pool_recycle=300)\n",
    "\n",
    "# Tabla lk_module\n",
    "df_modules.to_sql(con=engine, name=lk_module, if_exists='replace', index=False, chunksize=10000)\n",
    "\n",
    "# Tabla lk_sensor\n",
    "df_sensors.to_sql(con=engine, name=lk_sensor, if_exists='replace', index=False, chunksize=10000)\n",
    "\n",
    "# Tabla lk_time\n",
    "df_time.to_sql(con=engine, name=lk_time, if_exists='replace', index=False, chunksize=10000)\n",
    "engine.execute('alter table ' + lk_time + ' add index ' + lk_time + '_ts_idx (TIMESTAMP);')\n",
    "\n",
    "# Tabla bt_events\n",
    "df_events.to_sql(con=engine, name=bt_events, if_exists='replace', index=True, index_label='id', chunksize=10000)"
   ]
  },
  {
   "cell_type": "markdown",
   "metadata": {},
   "source": [
    "## Análisis de consumo de energía\n",
    "\n",
    "Se realizará un análisis exploratorio inicial para luego armar un modelo predictivo de consumo de energía de un mes específico según el consumo acumulado hasta el momento actual.\n",
    "Para lograrlo se establecerá:\n",
    "- Variable objetivo: WATT_HOUR_MONTH (consumo en watt/hora del módulo en el mes)\n",
    "- Variables predictoras:\n",
    "    - MOD_ID\n",
    "    - MONTH\n",
    "    - MONTH_HOUR\n",
    "    - WATT_HOUR_ACC (consumo acumulado hasta el día actual)\n",
    "    \n",
    "Debido a que se trata de una variable continua, se implementará un modelo basado en **regresión lineal**."
   ]
  },
  {
   "cell_type": "markdown",
   "metadata": {},
   "source": [
    "### Transformación de variables\n",
    "Debido a que el análisis siempre se realizará con granularidad de HORAS en la dimensión tiempo, se genera un dataframe de Tiempo con ese nivel de detalle"
   ]
  },
  {
   "cell_type": "code",
   "execution_count": 23,
   "metadata": {},
   "outputs": [
    {
     "data": {
      "text/html": [
       "<div>\n",
       "<style>\n",
       "    .dataframe thead tr:only-child th {\n",
       "        text-align: right;\n",
       "    }\n",
       "\n",
       "    .dataframe thead th {\n",
       "        text-align: left;\n",
       "    }\n",
       "\n",
       "    .dataframe tbody tr th {\n",
       "        vertical-align: top;\n",
       "    }\n",
       "</style>\n",
       "<table border=\"1\" class=\"dataframe\">\n",
       "  <thead>\n",
       "    <tr style=\"text-align: right;\">\n",
       "      <th></th>\n",
       "      <th>TIMESTAMP</th>\n",
       "      <th>YEAR</th>\n",
       "      <th>YEARDAY</th>\n",
       "      <th>MONTH</th>\n",
       "      <th>WEEKDAY</th>\n",
       "      <th>WEEKDAY_NAME</th>\n",
       "      <th>DAY</th>\n",
       "      <th>HOUR</th>\n",
       "      <th>MONTH_HOUR</th>\n",
       "      <th>MINDAY</th>\n",
       "    </tr>\n",
       "  </thead>\n",
       "  <tbody>\n",
       "    <tr>\n",
       "      <th>0</th>\n",
       "      <td>2017-01-01 00:00:00</td>\n",
       "      <td>2017</td>\n",
       "      <td>1</td>\n",
       "      <td>1</td>\n",
       "      <td>6</td>\n",
       "      <td>Sunday</td>\n",
       "      <td>1</td>\n",
       "      <td>0</td>\n",
       "      <td>0</td>\n",
       "      <td>0</td>\n",
       "    </tr>\n",
       "    <tr>\n",
       "      <th>1</th>\n",
       "      <td>2017-01-01 01:00:00</td>\n",
       "      <td>2017</td>\n",
       "      <td>1</td>\n",
       "      <td>1</td>\n",
       "      <td>6</td>\n",
       "      <td>Sunday</td>\n",
       "      <td>1</td>\n",
       "      <td>1</td>\n",
       "      <td>1</td>\n",
       "      <td>60</td>\n",
       "    </tr>\n",
       "    <tr>\n",
       "      <th>2</th>\n",
       "      <td>2017-01-01 02:00:00</td>\n",
       "      <td>2017</td>\n",
       "      <td>1</td>\n",
       "      <td>1</td>\n",
       "      <td>6</td>\n",
       "      <td>Sunday</td>\n",
       "      <td>1</td>\n",
       "      <td>2</td>\n",
       "      <td>2</td>\n",
       "      <td>120</td>\n",
       "    </tr>\n",
       "    <tr>\n",
       "      <th>3</th>\n",
       "      <td>2017-01-01 03:00:00</td>\n",
       "      <td>2017</td>\n",
       "      <td>1</td>\n",
       "      <td>1</td>\n",
       "      <td>6</td>\n",
       "      <td>Sunday</td>\n",
       "      <td>1</td>\n",
       "      <td>3</td>\n",
       "      <td>3</td>\n",
       "      <td>180</td>\n",
       "    </tr>\n",
       "    <tr>\n",
       "      <th>4</th>\n",
       "      <td>2017-01-01 04:00:00</td>\n",
       "      <td>2017</td>\n",
       "      <td>1</td>\n",
       "      <td>1</td>\n",
       "      <td>6</td>\n",
       "      <td>Sunday</td>\n",
       "      <td>1</td>\n",
       "      <td>4</td>\n",
       "      <td>4</td>\n",
       "      <td>240</td>\n",
       "    </tr>\n",
       "  </tbody>\n",
       "</table>\n",
       "</div>"
      ],
      "text/plain": [
       "            TIMESTAMP  YEAR  YEARDAY  MONTH  WEEKDAY WEEKDAY_NAME  DAY  HOUR  \\\n",
       "0 2017-01-01 00:00:00  2017        1      1        6       Sunday    1     0   \n",
       "1 2017-01-01 01:00:00  2017        1      1        6       Sunday    1     1   \n",
       "2 2017-01-01 02:00:00  2017        1      1        6       Sunday    1     2   \n",
       "3 2017-01-01 03:00:00  2017        1      1        6       Sunday    1     3   \n",
       "4 2017-01-01 04:00:00  2017        1      1        6       Sunday    1     4   \n",
       "\n",
       "   MONTH_HOUR  MINDAY  \n",
       "0           0       0  \n",
       "1           1      60  \n",
       "2           2     120  \n",
       "3           3     180  \n",
       "4           4     240  "
      ]
     },
     "execution_count": 23,
     "metadata": {},
     "output_type": "execute_result"
    }
   ],
   "source": [
    "df_time_hours = df_time.query('MINUTE == 0')\n",
    "del df_time_hours['MINUTE']\n",
    "df_time_hours.reset_index(inplace=True,drop=True)\n",
    "df_time_hours.head(5)"
   ]
  },
  {
   "cell_type": "markdown",
   "metadata": {},
   "source": [
    "#### Se prueba la integración de las tablas de dimensiones con la tabla de hechos\n",
    "Se arma el cubo"
   ]
  },
  {
   "cell_type": "code",
   "execution_count": 25,
   "metadata": {
    "scrolled": false
   },
   "outputs": [
    {
     "data": {
      "text/html": [
       "<div>\n",
       "<style>\n",
       "    .dataframe thead tr:only-child th {\n",
       "        text-align: right;\n",
       "    }\n",
       "\n",
       "    .dataframe thead th {\n",
       "        text-align: left;\n",
       "    }\n",
       "\n",
       "    .dataframe tbody tr th {\n",
       "        vertical-align: top;\n",
       "    }\n",
       "</style>\n",
       "<table border=\"1\" class=\"dataframe\">\n",
       "  <thead>\n",
       "    <tr style=\"text-align: right;\">\n",
       "      <th></th>\n",
       "      <th>MOD_ID</th>\n",
       "      <th>TIMESTAMP</th>\n",
       "      <th>WATT_HOUR</th>\n",
       "      <th>MOD_NAME</th>\n",
       "      <th>MOD_TYPE_ID</th>\n",
       "      <th>MOD_TYPE_NAME</th>\n",
       "      <th>DEV_ID</th>\n",
       "      <th>DEV_NAME</th>\n",
       "      <th>YEAR</th>\n",
       "      <th>YEARDAY</th>\n",
       "      <th>MONTH</th>\n",
       "      <th>WEEKDAY</th>\n",
       "      <th>WEEKDAY_NAME</th>\n",
       "      <th>DAY</th>\n",
       "      <th>HOUR</th>\n",
       "      <th>MONTH_HOUR</th>\n",
       "      <th>MINDAY</th>\n",
       "    </tr>\n",
       "  </thead>\n",
       "  <tbody>\n",
       "    <tr>\n",
       "      <th>0</th>\n",
       "      <td>51</td>\n",
       "      <td>2017-01-01 00:00:00</td>\n",
       "      <td>2.459562</td>\n",
       "      <td>Lux Cocina mod</td>\n",
       "      <td>1</td>\n",
       "      <td>LUX</td>\n",
       "      <td>5</td>\n",
       "      <td>Lux Cocina</td>\n",
       "      <td>2017</td>\n",
       "      <td>1</td>\n",
       "      <td>1</td>\n",
       "      <td>6</td>\n",
       "      <td>Sunday</td>\n",
       "      <td>1</td>\n",
       "      <td>0</td>\n",
       "      <td>0</td>\n",
       "      <td>0</td>\n",
       "    </tr>\n",
       "    <tr>\n",
       "      <th>1</th>\n",
       "      <td>52</td>\n",
       "      <td>2017-01-01 00:00:00</td>\n",
       "      <td>78.473049</td>\n",
       "      <td>Pot Cocina</td>\n",
       "      <td>2</td>\n",
       "      <td>POTENTIA</td>\n",
       "      <td>5</td>\n",
       "      <td>Lux Cocina</td>\n",
       "      <td>2017</td>\n",
       "      <td>1</td>\n",
       "      <td>1</td>\n",
       "      <td>6</td>\n",
       "      <td>Sunday</td>\n",
       "      <td>1</td>\n",
       "      <td>0</td>\n",
       "      <td>0</td>\n",
       "      <td>0</td>\n",
       "    </tr>\n",
       "    <tr>\n",
       "      <th>2</th>\n",
       "      <td>51</td>\n",
       "      <td>2017-01-01 01:00:00</td>\n",
       "      <td>4.477683</td>\n",
       "      <td>Lux Cocina mod</td>\n",
       "      <td>1</td>\n",
       "      <td>LUX</td>\n",
       "      <td>5</td>\n",
       "      <td>Lux Cocina</td>\n",
       "      <td>2017</td>\n",
       "      <td>1</td>\n",
       "      <td>1</td>\n",
       "      <td>6</td>\n",
       "      <td>Sunday</td>\n",
       "      <td>1</td>\n",
       "      <td>1</td>\n",
       "      <td>1</td>\n",
       "      <td>60</td>\n",
       "    </tr>\n",
       "    <tr>\n",
       "      <th>3</th>\n",
       "      <td>52</td>\n",
       "      <td>2017-01-01 01:00:00</td>\n",
       "      <td>53.816835</td>\n",
       "      <td>Pot Cocina</td>\n",
       "      <td>2</td>\n",
       "      <td>POTENTIA</td>\n",
       "      <td>5</td>\n",
       "      <td>Lux Cocina</td>\n",
       "      <td>2017</td>\n",
       "      <td>1</td>\n",
       "      <td>1</td>\n",
       "      <td>6</td>\n",
       "      <td>Sunday</td>\n",
       "      <td>1</td>\n",
       "      <td>1</td>\n",
       "      <td>1</td>\n",
       "      <td>60</td>\n",
       "    </tr>\n",
       "    <tr>\n",
       "      <th>4</th>\n",
       "      <td>51</td>\n",
       "      <td>2017-01-01 02:00:00</td>\n",
       "      <td>4.222319</td>\n",
       "      <td>Lux Cocina mod</td>\n",
       "      <td>1</td>\n",
       "      <td>LUX</td>\n",
       "      <td>5</td>\n",
       "      <td>Lux Cocina</td>\n",
       "      <td>2017</td>\n",
       "      <td>1</td>\n",
       "      <td>1</td>\n",
       "      <td>6</td>\n",
       "      <td>Sunday</td>\n",
       "      <td>1</td>\n",
       "      <td>2</td>\n",
       "      <td>2</td>\n",
       "      <td>120</td>\n",
       "    </tr>\n",
       "  </tbody>\n",
       "</table>\n",
       "</div>"
      ],
      "text/plain": [
       "  MOD_ID           TIMESTAMP  WATT_HOUR        MOD_NAME  MOD_TYPE_ID  \\\n",
       "0     51 2017-01-01 00:00:00   2.459562  Lux Cocina mod            1   \n",
       "1     52 2017-01-01 00:00:00  78.473049      Pot Cocina            2   \n",
       "2     51 2017-01-01 01:00:00   4.477683  Lux Cocina mod            1   \n",
       "3     52 2017-01-01 01:00:00  53.816835      Pot Cocina            2   \n",
       "4     51 2017-01-01 02:00:00   4.222319  Lux Cocina mod            1   \n",
       "\n",
       "  MOD_TYPE_NAME  DEV_ID    DEV_NAME  YEAR  YEARDAY  MONTH  WEEKDAY  \\\n",
       "0           LUX       5  Lux Cocina  2017        1      1        6   \n",
       "1      POTENTIA       5  Lux Cocina  2017        1      1        6   \n",
       "2           LUX       5  Lux Cocina  2017        1      1        6   \n",
       "3      POTENTIA       5  Lux Cocina  2017        1      1        6   \n",
       "4           LUX       5  Lux Cocina  2017        1      1        6   \n",
       "\n",
       "  WEEKDAY_NAME  DAY  HOUR  MONTH_HOUR  MINDAY  \n",
       "0       Sunday    1     0           0       0  \n",
       "1       Sunday    1     0           0       0  \n",
       "2       Sunday    1     1           1      60  \n",
       "3       Sunday    1     1           1      60  \n",
       "4       Sunday    1     2           2     120  "
      ]
     },
     "execution_count": 25,
     "metadata": {},
     "output_type": "execute_result"
    }
   ],
   "source": [
    "df_power_cube = df_power.merge(df_modules,on='MOD_ID').merge(df_time_hours,on='TIMESTAMP')\n",
    "df_power_cube.head(5)"
   ]
  },
  {
   "cell_type": "markdown",
   "metadata": {},
   "source": [
    "### Verificando dataset completo\n",
    "Para realizar un modelo predictivo es necesario contar con un dataset completo que no tenga saltos en las mediciones. Por lo tanto, se debe verificar que cuente con datos en todos las horas del mes a analizar."
   ]
  },
  {
   "cell_type": "code",
   "execution_count": 26,
   "metadata": {},
   "outputs": [
    {
     "data": {
      "text/plain": [
       "MOD_ID           False\n",
       "TIMESTAMP        False\n",
       "WATT_HOUR        False\n",
       "MOD_NAME         False\n",
       "MOD_TYPE_ID      False\n",
       "MOD_TYPE_NAME    False\n",
       "DEV_ID           False\n",
       "DEV_NAME         False\n",
       "YEAR             False\n",
       "YEARDAY          False\n",
       "MONTH            False\n",
       "WEEKDAY          False\n",
       "WEEKDAY_NAME     False\n",
       "DAY              False\n",
       "HOUR             False\n",
       "MONTH_HOUR       False\n",
       "MINDAY           False\n",
       "dtype: bool"
      ]
     },
     "execution_count": 26,
     "metadata": {},
     "output_type": "execute_result"
    }
   ],
   "source": [
    "df_power_cube.isnull().any()"
   ]
  },
  {
   "cell_type": "markdown",
   "metadata": {},
   "source": [
    "#### Corrigiendo valores null\n",
    "Podríamos utilizar diferentes opciones:\n",
    "- pad: se rellena con el último valor\n",
    "- interpolate: se rellena con valores interpolados de la columna (quizá el más apropiado para valores continuos).\n",
    "    La interpolacion puede ser:\n",
    "    - Lineal\n",
    "    - Cuadratica\n",
    "    - Cubica\n",
    "- escalar: se rellena con un número específico"
   ]
  },
  {
   "cell_type": "code",
   "execution_count": 27,
   "metadata": {
    "collapsed": true
   },
   "outputs": [],
   "source": [
    "#df_test_interp = pd.DataFrame(df_power_cube.WATT_HOUR.interpolate(method='linear'), columns=['WATT_HOUR_L'] )\n",
    "#df_test_interp['WATT_HOUR_Q'] = df_power_cube.WATT_HOUR.interpolate(method='quadratic')\n",
    "#df_test_interp['WATT_HOUR_C'] = df_power_cube.WATT_HOUR.interpolate(method='cubic')\n",
    "#df_test_interp.plot()"
   ]
  },
  {
   "cell_type": "markdown",
   "metadata": {},
   "source": [
    "### Generando variable objetivo\n",
    "Se define el valor de consumo mensual"
   ]
  },
  {
   "cell_type": "code",
   "execution_count": 28,
   "metadata": {
    "collapsed": true
   },
   "outputs": [],
   "source": [
    "df_predict = df_power_cube.groupby(['YEAR','MONTH','MOD_ID']).WATT_HOUR.sum().astype(int)\n",
    "df_predict = df_predict.reset_index()\n",
    "df_predict = df_predict.rename(columns={'WATT_HOUR': 'WATT_HOUR_MONTH'})\n",
    "df_predict = df_predict.merge(df_power_cube,on=['YEAR','MONTH','MOD_ID'])\n",
    "df_predict.set_index('TIMESTAMP',inplace=True)"
   ]
  },
  {
   "cell_type": "markdown",
   "metadata": {},
   "source": [
    "Validando el consumo mensual generado"
   ]
  },
  {
   "cell_type": "code",
   "execution_count": 29,
   "metadata": {},
   "outputs": [
    {
     "data": {
      "text/plain": [
       "59758.668043696336"
      ]
     },
     "execution_count": 29,
     "metadata": {},
     "output_type": "execute_result"
    }
   ],
   "source": [
    "df_predict.query('MOD_ID == 52 & TIMESTAMP >= \"2017-01-01\" & TIMESTAMP < \"2017-02-01\"').WATT_HOUR.sum()"
   ]
  },
  {
   "cell_type": "code",
   "execution_count": 30,
   "metadata": {},
   "outputs": [
    {
     "data": {
      "text/plain": [
       "59758"
      ]
     },
     "execution_count": 30,
     "metadata": {},
     "output_type": "execute_result"
    }
   ],
   "source": [
    "df_predict.query('MOD_ID == 52 & YEAR == 2017 & MONTH == 1').WATT_HOUR_MONTH[0]"
   ]
  },
  {
   "cell_type": "markdown",
   "metadata": {
    "collapsed": true
   },
   "source": [
    "### Generando variables predictoras\n",
    "Se generan las siguientes variables:\n",
    "- MONTH_HOUR: Hora relativa al mes\n",
    "- WATT_HOUR_ACC: Consumo en watt/hora acumulado desde el principio de mes"
   ]
  },
  {
   "cell_type": "code",
   "execution_count": 31,
   "metadata": {
    "collapsed": true
   },
   "outputs": [],
   "source": [
    "for mod_id in df_modules.MOD_ID:\n",
    "    mod_cumsum = df_predict.query('MOD_ID == ' + str(mod_id)).groupby(['YEAR','MONTH','MOD_ID']).WATT_HOUR.cumsum().astype(int)\n",
    "    if mod_cumsum.shape[0] > 0:\n",
    "        df_predict.loc[ df_predict.MOD_ID == mod_id, 'WATT_HOUR_ACC'] = mod_cumsum"
   ]
  },
  {
   "cell_type": "code",
   "execution_count": 32,
   "metadata": {
    "scrolled": true
   },
   "outputs": [
    {
     "data": {
      "text/html": [
       "<div>\n",
       "<style>\n",
       "    .dataframe thead tr:only-child th {\n",
       "        text-align: right;\n",
       "    }\n",
       "\n",
       "    .dataframe thead th {\n",
       "        text-align: left;\n",
       "    }\n",
       "\n",
       "    .dataframe tbody tr th {\n",
       "        vertical-align: top;\n",
       "    }\n",
       "</style>\n",
       "<table border=\"1\" class=\"dataframe\">\n",
       "  <thead>\n",
       "    <tr style=\"text-align: right;\">\n",
       "      <th></th>\n",
       "      <th>YEAR</th>\n",
       "      <th>MONTH</th>\n",
       "      <th>MOD_ID</th>\n",
       "      <th>WATT_HOUR_MONTH</th>\n",
       "      <th>WATT_HOUR</th>\n",
       "      <th>MOD_NAME</th>\n",
       "      <th>MOD_TYPE_ID</th>\n",
       "      <th>MOD_TYPE_NAME</th>\n",
       "      <th>DEV_ID</th>\n",
       "      <th>DEV_NAME</th>\n",
       "      <th>YEARDAY</th>\n",
       "      <th>WEEKDAY</th>\n",
       "      <th>WEEKDAY_NAME</th>\n",
       "      <th>DAY</th>\n",
       "      <th>HOUR</th>\n",
       "      <th>MONTH_HOUR</th>\n",
       "      <th>MINDAY</th>\n",
       "      <th>WATT_HOUR_ACC</th>\n",
       "    </tr>\n",
       "    <tr>\n",
       "      <th>TIMESTAMP</th>\n",
       "      <th></th>\n",
       "      <th></th>\n",
       "      <th></th>\n",
       "      <th></th>\n",
       "      <th></th>\n",
       "      <th></th>\n",
       "      <th></th>\n",
       "      <th></th>\n",
       "      <th></th>\n",
       "      <th></th>\n",
       "      <th></th>\n",
       "      <th></th>\n",
       "      <th></th>\n",
       "      <th></th>\n",
       "      <th></th>\n",
       "      <th></th>\n",
       "      <th></th>\n",
       "      <th></th>\n",
       "    </tr>\n",
       "  </thead>\n",
       "  <tbody>\n",
       "    <tr>\n",
       "      <th>2017-01-01 00:00:00</th>\n",
       "      <td>2017</td>\n",
       "      <td>1</td>\n",
       "      <td>51</td>\n",
       "      <td>6663</td>\n",
       "      <td>2.459562</td>\n",
       "      <td>Lux Cocina mod</td>\n",
       "      <td>1</td>\n",
       "      <td>LUX</td>\n",
       "      <td>5</td>\n",
       "      <td>Lux Cocina</td>\n",
       "      <td>1</td>\n",
       "      <td>6</td>\n",
       "      <td>Sunday</td>\n",
       "      <td>1</td>\n",
       "      <td>0</td>\n",
       "      <td>0</td>\n",
       "      <td>0</td>\n",
       "      <td>2.0</td>\n",
       "    </tr>\n",
       "    <tr>\n",
       "      <th>2017-01-01 01:00:00</th>\n",
       "      <td>2017</td>\n",
       "      <td>1</td>\n",
       "      <td>51</td>\n",
       "      <td>6663</td>\n",
       "      <td>4.477683</td>\n",
       "      <td>Lux Cocina mod</td>\n",
       "      <td>1</td>\n",
       "      <td>LUX</td>\n",
       "      <td>5</td>\n",
       "      <td>Lux Cocina</td>\n",
       "      <td>1</td>\n",
       "      <td>6</td>\n",
       "      <td>Sunday</td>\n",
       "      <td>1</td>\n",
       "      <td>1</td>\n",
       "      <td>1</td>\n",
       "      <td>60</td>\n",
       "      <td>6.0</td>\n",
       "    </tr>\n",
       "    <tr>\n",
       "      <th>2017-01-01 02:00:00</th>\n",
       "      <td>2017</td>\n",
       "      <td>1</td>\n",
       "      <td>51</td>\n",
       "      <td>6663</td>\n",
       "      <td>4.222319</td>\n",
       "      <td>Lux Cocina mod</td>\n",
       "      <td>1</td>\n",
       "      <td>LUX</td>\n",
       "      <td>5</td>\n",
       "      <td>Lux Cocina</td>\n",
       "      <td>1</td>\n",
       "      <td>6</td>\n",
       "      <td>Sunday</td>\n",
       "      <td>1</td>\n",
       "      <td>2</td>\n",
       "      <td>2</td>\n",
       "      <td>120</td>\n",
       "      <td>11.0</td>\n",
       "    </tr>\n",
       "    <tr>\n",
       "      <th>2017-01-01 03:00:00</th>\n",
       "      <td>2017</td>\n",
       "      <td>1</td>\n",
       "      <td>51</td>\n",
       "      <td>6663</td>\n",
       "      <td>4.788357</td>\n",
       "      <td>Lux Cocina mod</td>\n",
       "      <td>1</td>\n",
       "      <td>LUX</td>\n",
       "      <td>5</td>\n",
       "      <td>Lux Cocina</td>\n",
       "      <td>1</td>\n",
       "      <td>6</td>\n",
       "      <td>Sunday</td>\n",
       "      <td>1</td>\n",
       "      <td>3</td>\n",
       "      <td>3</td>\n",
       "      <td>180</td>\n",
       "      <td>15.0</td>\n",
       "    </tr>\n",
       "    <tr>\n",
       "      <th>2017-01-01 04:00:00</th>\n",
       "      <td>2017</td>\n",
       "      <td>1</td>\n",
       "      <td>51</td>\n",
       "      <td>6663</td>\n",
       "      <td>3.241812</td>\n",
       "      <td>Lux Cocina mod</td>\n",
       "      <td>1</td>\n",
       "      <td>LUX</td>\n",
       "      <td>5</td>\n",
       "      <td>Lux Cocina</td>\n",
       "      <td>1</td>\n",
       "      <td>6</td>\n",
       "      <td>Sunday</td>\n",
       "      <td>1</td>\n",
       "      <td>4</td>\n",
       "      <td>4</td>\n",
       "      <td>240</td>\n",
       "      <td>19.0</td>\n",
       "    </tr>\n",
       "  </tbody>\n",
       "</table>\n",
       "</div>"
      ],
      "text/plain": [
       "                     YEAR  MONTH MOD_ID  WATT_HOUR_MONTH  WATT_HOUR  \\\n",
       "TIMESTAMP                                                             \n",
       "2017-01-01 00:00:00  2017      1     51             6663   2.459562   \n",
       "2017-01-01 01:00:00  2017      1     51             6663   4.477683   \n",
       "2017-01-01 02:00:00  2017      1     51             6663   4.222319   \n",
       "2017-01-01 03:00:00  2017      1     51             6663   4.788357   \n",
       "2017-01-01 04:00:00  2017      1     51             6663   3.241812   \n",
       "\n",
       "                           MOD_NAME  MOD_TYPE_ID MOD_TYPE_NAME  DEV_ID  \\\n",
       "TIMESTAMP                                                                \n",
       "2017-01-01 00:00:00  Lux Cocina mod            1           LUX       5   \n",
       "2017-01-01 01:00:00  Lux Cocina mod            1           LUX       5   \n",
       "2017-01-01 02:00:00  Lux Cocina mod            1           LUX       5   \n",
       "2017-01-01 03:00:00  Lux Cocina mod            1           LUX       5   \n",
       "2017-01-01 04:00:00  Lux Cocina mod            1           LUX       5   \n",
       "\n",
       "                       DEV_NAME  YEARDAY  WEEKDAY WEEKDAY_NAME  DAY  HOUR  \\\n",
       "TIMESTAMP                                                                   \n",
       "2017-01-01 00:00:00  Lux Cocina        1        6       Sunday    1     0   \n",
       "2017-01-01 01:00:00  Lux Cocina        1        6       Sunday    1     1   \n",
       "2017-01-01 02:00:00  Lux Cocina        1        6       Sunday    1     2   \n",
       "2017-01-01 03:00:00  Lux Cocina        1        6       Sunday    1     3   \n",
       "2017-01-01 04:00:00  Lux Cocina        1        6       Sunday    1     4   \n",
       "\n",
       "                     MONTH_HOUR  MINDAY  WATT_HOUR_ACC  \n",
       "TIMESTAMP                                               \n",
       "2017-01-01 00:00:00           0       0            2.0  \n",
       "2017-01-01 01:00:00           1      60            6.0  \n",
       "2017-01-01 02:00:00           2     120           11.0  \n",
       "2017-01-01 03:00:00           3     180           15.0  \n",
       "2017-01-01 04:00:00           4     240           19.0  "
      ]
     },
     "execution_count": 32,
     "metadata": {},
     "output_type": "execute_result"
    }
   ],
   "source": [
    "df_predict.head(5)"
   ]
  },
  {
   "cell_type": "markdown",
   "metadata": {},
   "source": [
    "### Análisis univariado\n",
    "Se analizan algunas variables por separado para conocer sus medidas de tendencia central y dispersión. Se debe considerar que se construirá un modelo predictivo para cada módulo, por lo cual para ejemplificar siempre filtraremos el módulo 52.\n",
    "\n",
    "#### Consumo por hora a lo largo de un mes"
   ]
  },
  {
   "cell_type": "code",
   "execution_count": 33,
   "metadata": {
    "collapsed": true
   },
   "outputs": [],
   "source": [
    "df_predict_mod = df_predict.query('MOD_ID == 52')"
   ]
  },
  {
   "cell_type": "code",
   "execution_count": 34,
   "metadata": {
    "scrolled": false
   },
   "outputs": [
    {
     "data": {
      "text/plain": [
       "<matplotlib.axes._subplots.AxesSubplot at 0x3fa86470>"
      ]
     },
     "execution_count": 34,
     "metadata": {},
     "output_type": "execute_result"
    },
    {
     "data": {
      "image/png": "[encoded data removed]",
      "text/plain": [
       "<matplotlib.figure.Figure at 0x3fa262e8>"
      ]
     },
     "metadata": {},
     "output_type": "display_data"
    }
   ],
   "source": [
    "plot_consumo = df_predict_mod.resample('MS').sum()\n",
    "plot_consumo.plot(plot_consumo.index,['WATT_HOUR'])"
   ]
  },
  {
   "cell_type": "markdown",
   "metadata": {},
   "source": [
    "#### Variables descriptivas del consumo mensual"
   ]
  },
  {
   "cell_type": "code",
   "execution_count": 35,
   "metadata": {},
   "outputs": [
    {
     "data": {
      "text/plain": [
       "count     7798.000000\n",
       "mean     57746.977174\n",
       "std       4747.275742\n",
       "min      40616.000000\n",
       "25%      58318.000000\n",
       "50%      59196.000000\n",
       "75%      59818.000000\n",
       "max      60671.000000\n",
       "Name: WATT_HOUR_MONTH, dtype: float64"
      ]
     },
     "execution_count": 35,
     "metadata": {},
     "output_type": "execute_result"
    }
   ],
   "source": [
    "df_predict_mod['WATT_HOUR_MONTH'].describe()"
   ]
  },
  {
   "cell_type": "markdown",
   "metadata": {},
   "source": [
    "#### Variables descriptivas del consumo por hora acumulado"
   ]
  },
  {
   "cell_type": "code",
   "execution_count": 36,
   "metadata": {
    "scrolled": false
   },
   "outputs": [
    {
     "data": {
      "text/plain": [
       "count     7798.000000\n",
       "mean     28880.544883\n",
       "std      16901.599245\n",
       "min         49.000000\n",
       "25%      14323.000000\n",
       "50%      28650.500000\n",
       "75%      43134.500000\n",
       "max      60671.000000\n",
       "Name: WATT_HOUR_ACC, dtype: float64"
      ]
     },
     "execution_count": 36,
     "metadata": {},
     "output_type": "execute_result"
    }
   ],
   "source": [
    "df_predict_mod['WATT_HOUR_ACC'].describe()"
   ]
  },
  {
   "cell_type": "code",
   "execution_count": 37,
   "metadata": {},
   "outputs": [
    {
     "data": {
      "text/plain": [
       "<matplotlib.axes._subplots.AxesSubplot at 0x307fb048>"
      ]
     },
     "execution_count": 37,
     "metadata": {},
     "output_type": "execute_result"
    },
    {
     "data": {
      "image/png": "[encoded data removed]",
      "text/plain": [
       "<matplotlib.figure.Figure at 0x5a69d68>"
      ]
     },
     "metadata": {},
     "output_type": "display_data"
    }
   ],
   "source": [
    "plot_consumo = df_predict_mod.resample('H').mean()\n",
    "plot_consumo.plot(plot_consumo.index.values,['WATT_HOUR_ACC'])"
   ]
  },
  {
   "cell_type": "markdown",
   "metadata": {},
   "source": [
    "La variable predictora de mayor fuerza será seguramente el consumo acumulado por hora del mes. Por lo tanto, en principio miramos estas variables con mayor atención.\n",
    "\n",
    "La cantidad de muestras coincide y el máximo también, lo cual tiene sentido. Avanzamos con análisis bivariado...\n",
    "\n",
    "### Análisis bivariado\n",
    "En primer lugar analizaremos la relación entre variables predictoras:"
   ]
  },
  {
   "cell_type": "code",
   "execution_count": 38,
   "metadata": {},
   "outputs": [
    {
     "data": {
      "text/html": [
       "<div>\n",
       "<style>\n",
       "    .dataframe thead tr:only-child th {\n",
       "        text-align: right;\n",
       "    }\n",
       "\n",
       "    .dataframe thead th {\n",
       "        text-align: left;\n",
       "    }\n",
       "\n",
       "    .dataframe tbody tr th {\n",
       "        vertical-align: top;\n",
       "    }\n",
       "</style>\n",
       "<table border=\"1\" class=\"dataframe\">\n",
       "  <thead>\n",
       "    <tr style=\"text-align: right;\">\n",
       "      <th></th>\n",
       "      <th>WATT_HOUR</th>\n",
       "      <th>WATT_HOUR_ACC</th>\n",
       "      <th>MONTH_HOUR</th>\n",
       "    </tr>\n",
       "  </thead>\n",
       "  <tbody>\n",
       "    <tr>\n",
       "      <th>YEAR</th>\n",
       "      <td>NaN</td>\n",
       "      <td>NaN</td>\n",
       "      <td>NaN</td>\n",
       "    </tr>\n",
       "    <tr>\n",
       "      <th>MONTH</th>\n",
       "      <td>0.003889</td>\n",
       "      <td>-0.040284</td>\n",
       "      <td>-0.045461</td>\n",
       "    </tr>\n",
       "    <tr>\n",
       "      <th>WATT_HOUR_MONTH</th>\n",
       "      <td>-0.003015</td>\n",
       "      <td>0.137287</td>\n",
       "      <td>0.141671</td>\n",
       "    </tr>\n",
       "    <tr>\n",
       "      <th>WATT_HOUR</th>\n",
       "      <td>1.000000</td>\n",
       "      <td>0.006660</td>\n",
       "      <td>0.005421</td>\n",
       "    </tr>\n",
       "    <tr>\n",
       "      <th>MOD_TYPE_ID</th>\n",
       "      <td>NaN</td>\n",
       "      <td>NaN</td>\n",
       "      <td>NaN</td>\n",
       "    </tr>\n",
       "    <tr>\n",
       "      <th>DEV_ID</th>\n",
       "      <td>NaN</td>\n",
       "      <td>NaN</td>\n",
       "      <td>NaN</td>\n",
       "    </tr>\n",
       "    <tr>\n",
       "      <th>YEARDAY</th>\n",
       "      <td>0.004521</td>\n",
       "      <td>0.052184</td>\n",
       "      <td>0.046968</td>\n",
       "    </tr>\n",
       "    <tr>\n",
       "      <th>WEEKDAY</th>\n",
       "      <td>-0.016196</td>\n",
       "      <td>-0.015532</td>\n",
       "      <td>-0.015666</td>\n",
       "    </tr>\n",
       "    <tr>\n",
       "      <th>DAY</th>\n",
       "      <td>0.005719</td>\n",
       "      <td>0.999216</td>\n",
       "      <td>0.999454</td>\n",
       "    </tr>\n",
       "    <tr>\n",
       "      <th>HOUR</th>\n",
       "      <td>-0.008919</td>\n",
       "      <td>0.032783</td>\n",
       "      <td>0.032785</td>\n",
       "    </tr>\n",
       "    <tr>\n",
       "      <th>MONTH_HOUR</th>\n",
       "      <td>0.005421</td>\n",
       "      <td>0.999762</td>\n",
       "      <td>1.000000</td>\n",
       "    </tr>\n",
       "    <tr>\n",
       "      <th>MINDAY</th>\n",
       "      <td>-0.008919</td>\n",
       "      <td>0.032783</td>\n",
       "      <td>0.032785</td>\n",
       "    </tr>\n",
       "    <tr>\n",
       "      <th>WATT_HOUR_ACC</th>\n",
       "      <td>0.006660</td>\n",
       "      <td>1.000000</td>\n",
       "      <td>0.999762</td>\n",
       "    </tr>\n",
       "  </tbody>\n",
       "</table>\n",
       "</div>"
      ],
      "text/plain": [
       "                 WATT_HOUR  WATT_HOUR_ACC  MONTH_HOUR\n",
       "YEAR                   NaN            NaN         NaN\n",
       "MONTH             0.003889      -0.040284   -0.045461\n",
       "WATT_HOUR_MONTH  -0.003015       0.137287    0.141671\n",
       "WATT_HOUR         1.000000       0.006660    0.005421\n",
       "MOD_TYPE_ID            NaN            NaN         NaN\n",
       "DEV_ID                 NaN            NaN         NaN\n",
       "YEARDAY           0.004521       0.052184    0.046968\n",
       "WEEKDAY          -0.016196      -0.015532   -0.015666\n",
       "DAY               0.005719       0.999216    0.999454\n",
       "HOUR             -0.008919       0.032783    0.032785\n",
       "MONTH_HOUR        0.005421       0.999762    1.000000\n",
       "MINDAY           -0.008919       0.032783    0.032785\n",
       "WATT_HOUR_ACC     0.006660       1.000000    0.999762"
      ]
     },
     "execution_count": 38,
     "metadata": {},
     "output_type": "execute_result"
    }
   ],
   "source": [
    "df_predict_mod.corr()[['WATT_HOUR','WATT_HOUR_ACC','MONTH_HOUR']]"
   ]
  },
  {
   "cell_type": "markdown",
   "metadata": {},
   "source": [
    "La única relación importante se da entre la hora relativa del mes y el consumo acumulado, los cuales son prácticamente lineales. En el futuro quizá es posible prescindir de una de ellas pero puede que sea necesario mantener ambas en caso de requerir predicción sobre sólo una de ellas.\n",
    "\n",
    "#### Correlación con variable objetivo"
   ]
  },
  {
   "cell_type": "code",
   "execution_count": 39,
   "metadata": {},
   "outputs": [
    {
     "data": {
      "text/plain": [
       "YEAR                    NaN\n",
       "MONTH             -0.308800\n",
       "WATT_HOUR_MONTH    1.000000\n",
       "WATT_HOUR         -0.003015\n",
       "MOD_TYPE_ID             NaN\n",
       "DEV_ID                  NaN\n",
       "YEARDAY           -0.298845\n",
       "WEEKDAY           -0.008749\n",
       "DAY                0.141699\n",
       "HOUR               0.001471\n",
       "MONTH_HOUR         0.141671\n",
       "MINDAY             0.001471\n",
       "WATT_HOUR_ACC      0.137287\n",
       "Name: WATT_HOUR_MONTH, dtype: float64"
      ]
     },
     "execution_count": 39,
     "metadata": {},
     "output_type": "execute_result"
    }
   ],
   "source": [
    "df_predict_mod.corr()['WATT_HOUR_MONTH']"
   ]
  },
  {
   "cell_type": "code",
   "execution_count": 40,
   "metadata": {
    "collapsed": true
   },
   "outputs": [],
   "source": [
    "def plot_corr(df, size=10):\n",
    "    corr = df.corr()    # data frame correlation function\n",
    "    fig, ax = plt.subplots(figsize=(size, size))\n",
    "    ax.matshow(corr)   # color code the rectangles by correlation value\n",
    "    plt.xticks(range(len(corr.columns)), corr.columns)  # draw x tick marks\n",
    "    plt.yticks(range(len(corr.columns)), corr.columns)  # draw y tick marks"
   ]
  },
  {
   "cell_type": "code",
   "execution_count": 41,
   "metadata": {},
   "outputs": [
    {
     "data": {
      "image/png": "[encoded data removed]",
      "text/plain": [
       "<matplotlib.figure.Figure at 0x40bf67b8>"
      ]
     },
     "metadata": {},
     "output_type": "display_data"
    }
   ],
   "source": [
    "plot_corr(df_predict_mod,20)"
   ]
  },
  {
   "cell_type": "markdown",
   "metadata": {},
   "source": [
    "Analizando la correlación entre las variables se deduce que es difícil realizar la regresión lineal a través de una única variable ya que la correlación de la variable objetivo con el resto es bastante débil. Entonces aprovecharemos a incorporar las variables de consumo acumulado junto con su hora relativa del mes para ver si con la combinación de ambas es posible entrenar y predecir una regresión."
   ]
  },
  {
   "cell_type": "markdown",
   "metadata": {},
   "source": [
    "## Entrenamiento y verificación de RNA\n",
    "\n",
    "### Modelo #1 - Variable objetivo: Consumo Mensual (WATT_HOUR_MONTH)"
   ]
  },
  {
   "cell_type": "code",
   "execution_count": 43,
   "metadata": {},
   "outputs": [
    {
     "data": {
      "text/html": [
       "<div>\n",
       "<style>\n",
       "    .dataframe thead tr:only-child th {\n",
       "        text-align: right;\n",
       "    }\n",
       "\n",
       "    .dataframe thead th {\n",
       "        text-align: left;\n",
       "    }\n",
       "\n",
       "    .dataframe tbody tr th {\n",
       "        vertical-align: top;\n",
       "    }\n",
       "</style>\n",
       "<table border=\"1\" class=\"dataframe\">\n",
       "  <thead>\n",
       "    <tr style=\"text-align: right;\">\n",
       "      <th></th>\n",
       "      <th>YEAR</th>\n",
       "      <th>MONTH</th>\n",
       "      <th>MOD_ID</th>\n",
       "      <th>WATT_HOUR_MONTH</th>\n",
       "      <th>WATT_HOUR</th>\n",
       "      <th>MOD_NAME</th>\n",
       "      <th>MOD_TYPE_ID</th>\n",
       "      <th>MOD_TYPE_NAME</th>\n",
       "      <th>DEV_ID</th>\n",
       "      <th>DEV_NAME</th>\n",
       "      <th>YEARDAY</th>\n",
       "      <th>WEEKDAY</th>\n",
       "      <th>WEEKDAY_NAME</th>\n",
       "      <th>DAY</th>\n",
       "      <th>HOUR</th>\n",
       "      <th>MONTH_HOUR</th>\n",
       "      <th>MINDAY</th>\n",
       "      <th>WATT_HOUR_ACC</th>\n",
       "    </tr>\n",
       "    <tr>\n",
       "      <th>TIMESTAMP</th>\n",
       "      <th></th>\n",
       "      <th></th>\n",
       "      <th></th>\n",
       "      <th></th>\n",
       "      <th></th>\n",
       "      <th></th>\n",
       "      <th></th>\n",
       "      <th></th>\n",
       "      <th></th>\n",
       "      <th></th>\n",
       "      <th></th>\n",
       "      <th></th>\n",
       "      <th></th>\n",
       "      <th></th>\n",
       "      <th></th>\n",
       "      <th></th>\n",
       "      <th></th>\n",
       "      <th></th>\n",
       "    </tr>\n",
       "  </thead>\n",
       "  <tbody>\n",
       "    <tr>\n",
       "      <th>2017-01-01</th>\n",
       "      <td>2017</td>\n",
       "      <td>1</td>\n",
       "      <td>52</td>\n",
       "      <td>59758</td>\n",
       "      <td>78.473049</td>\n",
       "      <td>Pot Cocina</td>\n",
       "      <td>2</td>\n",
       "      <td>POTENTIA</td>\n",
       "      <td>5</td>\n",
       "      <td>Lux Cocina</td>\n",
       "      <td>1</td>\n",
       "      <td>6</td>\n",
       "      <td>Sunday</td>\n",
       "      <td>1</td>\n",
       "      <td>0</td>\n",
       "      <td>0</td>\n",
       "      <td>0</td>\n",
       "      <td>78.0</td>\n",
       "    </tr>\n",
       "  </tbody>\n",
       "</table>\n",
       "</div>"
      ],
      "text/plain": [
       "            YEAR  MONTH MOD_ID  WATT_HOUR_MONTH  WATT_HOUR    MOD_NAME  \\\n",
       "TIMESTAMP                                                                \n",
       "2017-01-01  2017      1     52            59758  78.473049  Pot Cocina   \n",
       "\n",
       "            MOD_TYPE_ID MOD_TYPE_NAME  DEV_ID    DEV_NAME  YEARDAY  WEEKDAY  \\\n",
       "TIMESTAMP                                                                     \n",
       "2017-01-01            2      POTENTIA       5  Lux Cocina        1        6   \n",
       "\n",
       "           WEEKDAY_NAME  DAY  HOUR  MONTH_HOUR  MINDAY  WATT_HOUR_ACC  \n",
       "TIMESTAMP                                                              \n",
       "2017-01-01       Sunday    1     0           0       0           78.0  "
      ]
     },
     "execution_count": 43,
     "metadata": {},
     "output_type": "execute_result"
    }
   ],
   "source": [
    "df_predict_mod.head(1)"
   ]
  },
  {
   "cell_type": "markdown",
   "metadata": {},
   "source": [
    "#### Separando los datos para training y prueba\n",
    "Para poder hacer etapas de entrenamiento y prueba, voy a separar los datos. 70% para entrenamiento, 30% para prueba.\n",
    "\n",
    "Los conjuntos de datos van a llamarse:\n",
    "* features_train: Datos de entrenamiento. Las columnas que representan las variables predictoras, compuesto por el 70% de los registros.\n",
    "* goal_train: Objetivo de entrenamiento. Columna que representa la variable objetivo para el 70% de los registros\n",
    "* features_test: Datos para hacer la validación. Tienen el mismo formato que features_train, pero corresponden al 30% del conjunto de datos\n",
    "* goal_test: Resultados para validar la performance del algoritmo aplicado a features_test"
   ]
  },
  {
   "cell_type": "code",
   "execution_count": 44,
   "metadata": {
    "collapsed": true
   },
   "outputs": [],
   "source": [
    "features_names = ['MONTH_HOUR','WATT_HOUR_ACC']\n",
    "goal_names = ['WATT_HOUR_MONTH']\n",
    "\n",
    "features_data = df_predict_mod[features_names].values    # Columnas del predictor\n",
    "goal_data = df_predict_mod[goal_names].values            # Valor predecido\n",
    "split_test_size = 0.30                                   # 0.30 es 30%, el tamaño para pruebas\n",
    "\n",
    "features_train, features_test, goal_train, goal_test = train_test_split(features_data, goal_data, test_size=split_test_size)"
   ]
  },
  {
   "cell_type": "markdown",
   "metadata": {},
   "source": [
    "Se verifica que el tamaño relativo de los sets de entrenamiento y prueba sea lo más cercano a 70-30 posible:"
   ]
  },
  {
   "cell_type": "code",
   "execution_count": 45,
   "metadata": {},
   "outputs": [
    {
     "name": "stdout",
     "output_type": "stream",
     "text": [
      "69.99% en el set de entrenamiento\n",
      "30.01% en el set de prueba\n"
     ]
    }
   ],
   "source": [
    "print \"{0:.2f}% en el set de entrenamiento\".format(float(features_train.shape[0])/df_predict_mod.shape[0] * 100 ) \n",
    "print \"{0:.2f}% en el set de prueba\".format(float(features_test.shape[0])/df_predict_mod.shape[0] * 100)"
   ]
  },
  {
   "cell_type": "markdown",
   "metadata": {},
   "source": [
    "#### Entrenamiento inicial\n",
    "Para este entrenamiento se utilizará un algoritmo de machine learning basado en un perceptrón multicapa (MPL) de la librería scikit-learn: neural_network. \n",
    "Como lo que estamos tratando de predecir es el consumo mensual de un módulo estamos hablando de un algoritmo de regresión y, dado que la variable dependiente es continua, se utiliza la regresión lineal (aunue no necesariamente la misma se representa con una relación lineal con las variables independientes.\n",
    "\n",
    "El algoritmo a implementar para optimizar la diferencia de cuadrados es el LBFGS, aunque el resultado final depende de la función activación que se seleccione, por lo tanto haremos algunas pruebas para determinar el mejor método de regresión al momento del entrenamiento de la red neuronal artificial."
   ]
  },
  {
   "cell_type": "code",
   "execution_count": 47,
   "metadata": {},
   "outputs": [
    {
     "name": "stdout",
     "output_type": "stream",
     "text": [
      "Score de entrenamiento con activación identity: 0.0495\n",
      "Score de entrenamiento con activación logistic: -0.0155\n",
      "Score de entrenamiento con activación tanh: -0.0013\n",
      "Score de entrenamiento con activación relu: -40.2200\n"
     ]
    }
   ],
   "source": [
    "activation_types = [ 'identity', 'logistic', 'tanh', 'relu' ]\n",
    "for act in activation_types:\n",
    "    mlp = MLPRegressor(solver='lbfgs', hidden_layer_sizes=100, max_iter=300, shuffle=True, activation=act)\n",
    "    mlp.fit(features_train, goal_train.ravel())\n",
    "    \n",
    "    print 'Score de entrenamiento con activación {0}: {1:.4f}'.format(act,mlp.score(features_test, goal_test))"
   ]
  },
  {
   "cell_type": "markdown",
   "metadata": {},
   "source": [
    "Las pruebas de entrenamiento claramente no son positivas ya que el modelo más optimista es el de la función de activación de identidad, pero cerca del 0,05...\n",
    "\n",
    "Se procede entonces a un modelo diferente para analizar.\n",
    "\n",
    "### Modelo #2 - Variable objetivo: Porcentaje de Consumo Acumulado\n",
    "Dado que la variable de valor acumulado tiene en su punto máximo el mismo valor que la variable objetivo buscada (consumo mensual), es correcto armar un modelo que permita predecir su crecimiento a lo largo del mes. \n",
    "\n",
    "El objetivo es predecir el ritmo con el cual crece el consumo acumulado a cada hora del mes. Por lo tanto se genera una nueva variable llamada TOTAL_WATT_PER que representa el porcentaje del consumo acumulado al momento. De esta forma, se puede entrenar un modelo de regresión bivaluado entre la hora relativa del mes y el el porcentaje de consumo. Es la forma más simple de alcanzar una regresión que represente cómo crece el consumo hora a hora en cada mes."
   ]
  },
  {
   "cell_type": "code",
   "execution_count": 48,
   "metadata": {},
   "outputs": [
    {
     "name": "stdout",
     "output_type": "stream",
     "text": [
      "Score de entrenamiento con activación identity: 0.9712\n",
      "Score de entrenamiento con activación logistic: 0.9725\n",
      "Score de entrenamiento con activación tanh: 0.9706\n",
      "Score de entrenamiento con activación relu: 0.9712\n"
     ]
    }
   ],
   "source": [
    "# Preparación de nueva variable objetivo\n",
    "df_predict_mod['TOTAL_WATT_PER'] = df_predict_mod.WATT_HOUR_ACC / df_predict_mod.WATT_HOUR_MONTH\n",
    "\n",
    "# Preparación de datos (split 70/30)\n",
    "features_names = ['MONTH_HOUR','MONTH']\n",
    "goal_names = ['TOTAL_WATT_PER']\n",
    "\n",
    "features_data = df_predict_mod[features_names].values        # Columnas del predictor\n",
    "goal_data = df_predict_mod[goal_names].values                # Valor predecido\n",
    "split_test_size = 0.30                                       # 0.30 es 30%, el tamaño para pruebas\n",
    "\n",
    "features_train, features_test, goal_train, goal_test = train_test_split(features_data, goal_data, test_size=split_test_size, random_state=141414)\n",
    "\n",
    "# Entrenamiento y evaluación\n",
    "activation_types = [ 'identity', 'logistic', 'tanh', 'relu' ]\n",
    "for act in activation_types:\n",
    "    mlp = MLPRegressor(solver='lbfgs', hidden_layer_sizes=100, max_iter=300, shuffle=True, activation=act)\n",
    "    mlp.fit(features_train, goal_train.ravel())\n",
    "    \n",
    "    print 'Score de entrenamiento con activación {0}: {1:.4f}'.format(act,mlp.score(features_test, goal_test))"
   ]
  },
  {
   "cell_type": "markdown",
   "metadata": {},
   "source": [
    "El resultado de este modelo es más favorable. De todas formas, es sencillo deducir por qué la predicción tiene un score tan alto. El crecimiento de consumo para el módulo 52 es prácticamente lineal, muy estable. Es por ello que el modelo responderá muy bien. Intentaremos probarlo con todos lo módulos sensados para determinar si responde adecuadamente.\n",
    "\n",
    "## Aplicación del modelo\n",
    "Se aplica entonces el modelo a los módulos con sensado de corriente en el DWH."
   ]
  },
  {
   "cell_type": "code",
   "execution_count": null,
   "metadata": {
    "collapsed": true
   },
   "outputs": [],
   "source": [
    "# Se genera la variable objetivo para todos los módulos\n",
    "df_predict['TOTAL_WATT_PER'] = df_predict.WATT_HOUR_ACC / df_predict.WATT_HOUR_MONTH"
   ]
  },
  {
   "cell_type": "code",
   "execution_count": null,
   "metadata": {
    "collapsed": true
   },
   "outputs": [],
   "source": [
    "# Se define la función que genera el modelo para cada módulo\n",
    "def create_module_regressor(mod_id):\n",
    "    df_predict_mod = df_predict.query('MOD_ID == ' + str(mod_id))\n",
    "    \n",
    "    if df_predict_mod.shape[0] > 0:\n",
    "        # Preparación de datos (split 70/30)\n",
    "        features_names = ['MONTH_HOUR','MONTH']\n",
    "        goal_names = ['TOTAL_WATT_PER']\n",
    "\n",
    "        features_data = df_predict_mod[features_names].values        # Columnas del predictor\n",
    "        goal_data = df_predict_mod[goal_names].values                # Valor predecido\n",
    "        split_test_size = 0.30                                       # 0.30 es 30%, el tamaño para pruebas\n",
    "\n",
    "        features_train, features_test, goal_train, goal_test = train_test_split(features_data, goal_data, test_size=split_test_size)\n",
    "\n",
    "        # Entrenamiento y evaluación\n",
    "        mlp = MLPRegressor(solver='lbfgs', hidden_layer_sizes=100, max_iter=300, shuffle=True, activation='identity')\n",
    "        mlp.fit(features_train, goal_train.ravel())\n",
    "    \n",
    "        return mlp\n",
    "    else:\n",
    "        return 0"
   ]
  },
  {
   "cell_type": "code",
   "execution_count": null,
   "metadata": {},
   "outputs": [],
   "source": [
    "# Se prueba cada módulo\n",
    "for mod_id in df_modules.MOD_ID:\n",
    "    mlp = create_module_regressor(mod_id)\n",
    "    if mlp <> 0:\n",
    "        print 'Score de entrenamiento módulo {0}: {1:.4f}'.format(mod_id,mlp.score(features_test, goal_test))"
   ]
  },
  {
   "cell_type": "markdown",
   "metadata": {},
   "source": [
    "### Evaluación del modelo\n",
    "Se analizará si el modelo es adecuado para el módulo 51 mediante el cálculo de los desvíos de la predicción. En primer lugar obtienen muestras aleatorias del dataset de mediciones para generar un dataset de prueba."
   ]
  },
  {
   "cell_type": "code",
   "execution_count": null,
   "metadata": {
    "scrolled": true
   },
   "outputs": [],
   "source": [
    "df_test = df_predict.sample(frac=0.3).query('MOD_ID == 51 & TIMESTAMP < \"2017-11-01\"')[['MONTH_HOUR','MONTH','TOTAL_WATT_PER']]\n",
    "df_test.head(3)"
   ]
  },
  {
   "cell_type": "code",
   "execution_count": null,
   "metadata": {},
   "outputs": [],
   "source": [
    "df_test['TOTAL_WATT_PER_PREDICTED'] = create_module_regressor(51).predict(df_test[['MONTH_HOUR','MONTH']])\n",
    "df_test['ERROR_SQ_DIF'] = (df_test.TOTAL_WATT_PER - df_test.TOTAL_WATT_PER_PREDICTED).pow(2)\n",
    "df_test.plot(df_test.index,['ERROR_SQ_DIF'])"
   ]
  },
  {
   "cell_type": "markdown",
   "metadata": {},
   "source": [
    "El resultado obtenido para el último módulo también es favorable ya que predice el porcentaje de consumo con un error mínimo (menor al 1,2%). Por lo tanto, se procede a finalizar el modelo que deberá agregar el cálculo del consumo a predecir extrapolando el consumo acumulado hasta el momento con el porcentaje restante que le corresponde.\n",
    "\n",
    "### Predicción del consumo\n",
    "Se realizará el ejemplo de predicción para los siguientes datos:\n",
    "- módulo: 52\n",
    "- fecha: 20/8/17 13:00\n",
    "- consumo acumulado: 37818\n",
    "- Consumo mensual a predecir: 60357 Watt/h"
   ]
  },
  {
   "cell_type": "code",
   "execution_count": null,
   "metadata": {},
   "outputs": [],
   "source": [
    "df_predict_test = df_predict.query('MOD_ID == 52 & TIMESTAMP == \"2017-08-20 13:00:00\"')\n",
    "df_predict_test"
   ]
  },
  {
   "cell_type": "code",
   "execution_count": null,
   "metadata": {},
   "outputs": [],
   "source": [
    "mlp = create_module_regressor(52)\n",
    "total_watt_per = mlp.predict(df_predict_test[['MONTH_HOUR','MONTH']])[0]\n",
    "print 'Se predice que el porcentaje de consumo acumulado del mes es: {0}%'.format(round(total_watt_per,4)*100)"
   ]
  },
  {
   "cell_type": "code",
   "execution_count": null,
   "metadata": {},
   "outputs": [],
   "source": [
    "consumo_mes_pred = df_predict_test.WATT_HOUR_ACC[0] / total_watt_per\n",
    "print 'Se predice que el consumo del mes será aproximadamente de {0} Watts/hora'.format(int(consumo_mes_pred))"
   ]
  },
  {
   "cell_type": "markdown",
   "metadata": {},
   "source": [
    "## Carga de tabla de consumo de energía en DWH\n",
    "Debido a que la tabla histórica que refleja el consumo de energía de cadd módulo fue modificada y adaptada para realizar la predicción, procederemos ahora a almacenarla en su formato final en el DWH. Luego este paso puede realizarse mediante la automatización del ETL."
   ]
  },
  {
   "cell_type": "code",
   "execution_count": null,
   "metadata": {
    "collapsed": true
   },
   "outputs": [],
   "source": [
    "# Transformación de corriente a Watt/hora\n",
    "df_agg_power = df_power.merge(df_modules,on='MOD_ID').merge(df_time_hours,on='TIMESTAMP').groupby(['YEAR','MONTH','MOD_ID']).WATT_HOUR.sum().astype(int)\n",
    "df_agg_power = df_agg_power.reset_index()\n",
    "df_agg_power = df_agg_power.rename(columns={'WATT_HOUR': 'WATT_HOUR_MONTH'})\n",
    "df_agg_power = df_agg_power.merge(df_power.merge(df_modules,on='MOD_ID').merge(df_time_hours,on='TIMESTAMP'),on=['YEAR','MONTH','MOD_ID'])\n",
    "\n",
    "# Cálculo de Watt/hora acumulados al mes\n",
    "for mod_id in df_modules.MOD_ID:\n",
    "    mod_cumsum = df_agg_power.query('MOD_ID == ' + str(mod_id)).groupby(['YEAR','MONTH','MOD_ID']).WATT_HOUR.cumsum().astype(int)\n",
    "    if mod_cumsum.shape[0] > 0:\n",
    "        df_agg_power.loc[ df_agg_power.MOD_ID == mod_id, 'WATT_HOUR_ACC'] = mod_cumsum\n",
    "        \n",
    "# Cálculo del porcentaje de consumo del mes\n",
    "df_agg_power['TOTAL_WATT_PER'] = df_agg_power.WATT_HOUR_ACC / df_agg_power.WATT_HOUR_MONTH"
   ]
  },
  {
   "cell_type": "code",
   "execution_count": null,
   "metadata": {},
   "outputs": [],
   "source": [
    "df_agg_power[['TIMESTAMP','MOD_ID','WATT_HOUR','WATT_HOUR_ACC','TOTAL_WATT_PER']].head(3)"
   ]
  },
  {
   "cell_type": "code",
   "execution_count": null,
   "metadata": {
    "collapsed": true
   },
   "outputs": [],
   "source": [
    "engine = create_engine('mysql://{user}:{pw}@{host}/{db}'.format(user=dbuser_hist, pw=dbpass_hist, host=dbhost_hist, db=dbname_hist),pool_recycle=300)\n",
    "\n",
    "# Tabla agg_power_consumption\n",
    "df_agg_power.to_sql(con=engine, name=agg_power_consumption, if_exists='replace', index=True, index_label='id', chunksize=10000)"
   ]
  }
 ],
 "metadata": {
  "kernelspec": {
   "display_name": "Python 2",
   "language": "python",
   "name": "python2"
  },
  "language_info": {
   "codemirror_mode": {
    "name": "ipython",
    "version": 2
   },
   "file_extension": ".py",
   "mimetype": "text/x-python",
   "name": "python",
   "nbconvert_exporter": "python",
   "pygments_lexer": "ipython2",
   "version": "2.7.13"
  }
 },
 "nbformat": 4,
 "nbformat_minor": 2
}
