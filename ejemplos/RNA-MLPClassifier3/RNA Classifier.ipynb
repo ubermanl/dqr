{
 "cells": [
  {
   "cell_type": "markdown",
   "metadata": {
    "deletable": true,
    "editable": true
   },
   "source": [
    "# Prueba de Red Neuronal Artificial con Back Propagation"
   ]
  },
  {
   "cell_type": "markdown",
   "metadata": {
    "deletable": true,
    "editable": true
   },
   "source": [
    "## Import de librerías"
   ]
  },
  {
   "cell_type": "code",
   "execution_count": 1,
   "metadata": {
    "collapsed": false,
    "deletable": true,
    "editable": true
   },
   "outputs": [],
   "source": [
    "import pandas as pd\n",
    "import numpy as np\n",
    "import matplotlib as mpl\n",
    "import matplotlib.pyplot as plt\n",
    "from datetime import datetime, timedelta\n",
    "from IPython.display import display\n",
    "from sklearn.cluster import KMeans\n",
    "import MySQLdb\n",
    "#from pandas.io import sql\n",
    "#from sqlalchemy import create_engine\n",
    "\n",
    "%matplotlib inline\n",
    "\n",
    "pd.options.mode.chained_assignment = None  # default='warn'"
   ]
  },
  {
   "cell_type": "markdown",
   "metadata": {
    "deletable": true,
    "editable": true
   },
   "source": [
    "## Configuración\n",
    "### Conexión al DWH"
   ]
  },
  {
   "cell_type": "code",
   "execution_count": 2,
   "metadata": {
    "collapsed": true,
    "deletable": true,
    "editable": true
   },
   "outputs": [],
   "source": [
    "# Base de datos histórica\n",
    "dbname_hist = \"ratio_dwh\"\n",
    "dbhost_hist = \"localhost\"\n",
    "dbport_hist = 3306\n",
    "dbuser_hist = \"root\"\n",
    "dbpass_hist = \"root\"\n",
    "table_hist = \"events_hist\""
   ]
  },
  {
   "cell_type": "markdown",
   "metadata": {
    "deletable": true,
    "editable": true
   },
   "source": [
    "## Extracción de datos del DWH"
   ]
  },
  {
   "cell_type": "code",
   "execution_count": 3,
   "metadata": {
    "collapsed": true,
    "deletable": true,
    "editable": true
   },
   "outputs": [],
   "source": [
    "# Estrayendo valores de la tabla de eventos\n",
    "conn = MySQLdb.connect(host=dbhost_hist, port=dbport_hist, user=dbuser_hist, passwd=dbpass_hist, db=dbname_hist)\n",
    "df_events = pd.read_sql('select * from ' + table_hist, con=conn)\n",
    "conn.close()"
   ]
  },
  {
   "cell_type": "code",
   "execution_count": 4,
   "metadata": {
    "collapsed": false,
    "deletable": true,
    "editable": true
   },
   "outputs": [
    {
     "data": {
      "text/html": [
       "<div>\n",
       "<table border=\"1\" class=\"dataframe\">\n",
       "  <thead>\n",
       "    <tr style=\"text-align: right;\">\n",
       "      <th></th>\n",
       "      <th>TIMESTAMP</th>\n",
       "      <th>YEARDAY</th>\n",
       "      <th>WEEKDAY</th>\n",
       "      <th>HOUR</th>\n",
       "      <th>MINUTE</th>\n",
       "      <th>MINDAY</th>\n",
       "      <th>TEMPERATURE</th>\n",
       "      <th>LIGHT</th>\n",
       "      <th>SOUND</th>\n",
       "      <th>MOVEMENT</th>\n",
       "      <th>LUX_ON</th>\n",
       "      <th>LUX_ACS</th>\n",
       "      <th>LIGHT_LUX</th>\n",
       "      <th>POT_ACS</th>\n",
       "    </tr>\n",
       "  </thead>\n",
       "  <tbody>\n",
       "    <tr>\n",
       "      <th>0</th>\n",
       "      <td>2017-01-01</td>\n",
       "      <td>1</td>\n",
       "      <td>6</td>\n",
       "      <td>0</td>\n",
       "      <td>0</td>\n",
       "      <td>0</td>\n",
       "      <td>24.744444</td>\n",
       "      <td>4.0</td>\n",
       "      <td>35.328333</td>\n",
       "      <td>0.0</td>\n",
       "      <td>0</td>\n",
       "      <td>0.247591</td>\n",
       "      <td>4.0</td>\n",
       "      <td>0.019381</td>\n",
       "    </tr>\n",
       "  </tbody>\n",
       "</table>\n",
       "</div>"
      ],
      "text/plain": [
       "   TIMESTAMP  YEARDAY  WEEKDAY  HOUR  MINUTE  MINDAY  TEMPERATURE  LIGHT  \\\n",
       "0 2017-01-01        1        6     0       0       0    24.744444    4.0   \n",
       "\n",
       "       SOUND  MOVEMENT  LUX_ON   LUX_ACS  LIGHT_LUX   POT_ACS  \n",
       "0  35.328333       0.0       0  0.247591        4.0  0.019381  "
      ]
     },
     "execution_count": 4,
     "metadata": {},
     "output_type": "execute_result"
    }
   ],
   "source": [
    "df_events.head(1)"
   ]
  },
  {
   "cell_type": "markdown",
   "metadata": {
    "deletable": true,
    "editable": true
   },
   "source": [
    "### Chequeo de valores null"
   ]
  },
  {
   "cell_type": "code",
   "execution_count": 5,
   "metadata": {
    "collapsed": false,
    "deletable": true,
    "editable": true
   },
   "outputs": [
    {
     "data": {
      "text/plain": [
       "TIMESTAMP      False\n",
       "YEARDAY        False\n",
       "WEEKDAY        False\n",
       "HOUR           False\n",
       "MINUTE         False\n",
       "MINDAY         False\n",
       "TEMPERATURE     True\n",
       "LIGHT          False\n",
       "SOUND          False\n",
       "MOVEMENT       False\n",
       "LUX_ON         False\n",
       "LUX_ACS        False\n",
       "LIGHT_LUX      False\n",
       "POT_ACS        False\n",
       "dtype: bool"
      ]
     },
     "execution_count": 5,
     "metadata": {},
     "output_type": "execute_result"
    }
   ],
   "source": [
    "# columnas con null\n",
    "df_events.isnull().any()"
   ]
  },
  {
   "cell_type": "markdown",
   "metadata": {
    "deletable": true,
    "editable": true
   },
   "source": [
    "#### Corrigiendo valores null\n",
    "Podríamos utilizar diferentes opciones:\n",
    "- pad: se rellena con el último valor\n",
    "- interpolate: se rellena con valores interpolados de la columna (quizá el más apropiado para valores continuos). La interpolacion puede ser:\n",
    "    - Lineal\n",
    "    - Cuadratica\n",
    "    - Cubica\n",
    "- escalar: se rellena con un número específico"
   ]
  },
  {
   "cell_type": "code",
   "execution_count": 8,
   "metadata": {
    "collapsed": false,
    "deletable": true,
    "editable": true
   },
   "outputs": [],
   "source": [
    "#dftemp = pd.DataFrame(df_events.TEMPERATURE.interpolate(method='linear'), columns=['TEMP_L'] )\n",
    "#dftemp['TEMP_Q'] = df_events.TEMPERATURE.interpolate(method='quadratic')\n",
    "#dftemp['TEMP_C'] = df_events.TEMPERATURE.interpolate(method='cubic')"
   ]
  },
  {
   "cell_type": "code",
   "execution_count": 9,
   "metadata": {
    "collapsed": false,
    "deletable": true,
    "editable": true,
    "scrolled": true
   },
   "outputs": [],
   "source": [
    "#dftemp[7200:11520].plot()"
   ]
  },
  {
   "cell_type": "markdown",
   "metadata": {
    "deletable": true,
    "editable": true
   },
   "source": [
    "Como las interpolaciones son similares, podría utilizarse cualquier método. En este caso usaremos la cuadrática."
   ]
  },
  {
   "cell_type": "code",
   "execution_count": 10,
   "metadata": {
    "collapsed": true,
    "deletable": true,
    "editable": true
   },
   "outputs": [],
   "source": [
    "#df_events['TEMPERATURE'] = df_events.TEMPERATURE.interpolate(method='quadratic')"
   ]
  },
  {
   "cell_type": "markdown",
   "metadata": {
    "deletable": true,
    "editable": true
   },
   "source": [
    "#### Verificación final de valores null"
   ]
  },
  {
   "cell_type": "code",
   "execution_count": 11,
   "metadata": {
    "collapsed": false,
    "deletable": true,
    "editable": true
   },
   "outputs": [],
   "source": [
    "#df_events.isnull().values.any()"
   ]
  },
  {
   "cell_type": "markdown",
   "metadata": {
    "deletable": true,
    "editable": true
   },
   "source": [
    "### Verificando dataset completo\n",
    "Para analizar un comportamiento predictivo y desarrollar un modelo es necesario contar con un dataset completo que no tenga saltos en las mediciones. Por lo tanto, se debe verificar que cuente con datos en todos los minutos del rango obtenido."
   ]
  },
  {
   "cell_type": "code",
   "execution_count": 12,
   "metadata": {
    "collapsed": true,
    "deletable": true,
    "editable": true
   },
   "outputs": [],
   "source": [
    "### TODO\n",
    "# rellenar huecos de Timestamp\n",
    "# promediar rows con mismo minuto\n",
    "# rellenar mediciones agregadas con padding"
   ]
  },
  {
   "cell_type": "markdown",
   "metadata": {
    "deletable": true,
    "editable": true
   },
   "source": [
    "## Limpieza del dataset\n",
    "Debido a que no se necesitan todas las columnas para realizar el entrenamiento de la RNA, se eliminan las que no representen relación con lo que se busca predecir.\n",
    "- TIMESTAMP\n",
    "- YEARDAY\n",
    "- HOUR\n",
    "- MINUTE\n",
    "- TEMPERATURE\n",
    "- LIGHT\n",
    "- LUX_ACS\n",
    "- POT_AC\n",
    "\n",
    "Las dimensiones TS, HOUR y MINUTE se pueden eliminar porque se representan con la dimensión MINDAY.\n",
    "\n",
    "La dimensión YEARDAY simplemente no agregaría información para este tipo de entrenamiento.\n",
    "\n",
    "Las mediciones TEMPERATURE y *_ACS pueden ignorarse para este tipo de entrenamiento.\n",
    "\n",
    "La medición LIGHT no existe en la realidad (a menos que haya medición de luz externa)"
   ]
  },
  {
   "cell_type": "code",
   "execution_count": 13,
   "metadata": {
    "collapsed": true,
    "deletable": true,
    "editable": true
   },
   "outputs": [],
   "source": [
    "del df_events['TIMESTAMP']\n",
    "del df_events['YEARDAY']\n",
    "del df_events['HOUR']\n",
    "del df_events['MINUTE']\n",
    "del df_events['TEMPERATURE']\n",
    "del df_events['LIGHT']\n",
    "del df_events['LUX_ACS']\n",
    "del df_events['POT_ACS']"
   ]
  },
  {
   "cell_type": "markdown",
   "metadata": {
    "deletable": true,
    "editable": true
   },
   "source": [
    "### Ajustes de variables\n",
    "Se aplican ajustes y correcciones a las variables del dataset"
   ]
  },
  {
   "cell_type": "code",
   "execution_count": 14,
   "metadata": {
    "collapsed": true,
    "deletable": true,
    "editable": true
   },
   "outputs": [],
   "source": [
    "df_events['MOVEMENT'] = df_events.MOVEMENT.astype(int)"
   ]
  },
  {
   "cell_type": "markdown",
   "metadata": {
    "collapsed": true,
    "deletable": true,
    "editable": true
   },
   "source": [
    "## Análisis Exploratorio inicial\n",
    "\n",
    "### Función de correlación\n",
    "Hace una matriz de correlación entre las variables. Cuanto más claro el color, mayor correlación entre las variables. La diagonal debería ser amarilla, y representa la correlación de una variable con sí misma.\n",
    "\n",
    "Esta función tiene dos entradas:\n",
    "1. El dataframe panda a analizar\n",
    "2. El tamáño de gráfico que se quiere imprimir"
   ]
  },
  {
   "cell_type": "code",
   "execution_count": 15,
   "metadata": {
    "collapsed": true,
    "deletable": true,
    "editable": true
   },
   "outputs": [],
   "source": [
    "def plot_corr(df, size=6):\n",
    "    corr = df.corr()    # data frame correlation function\n",
    "    fig, ax = plt.subplots(figsize=(size, size))\n",
    "    ax.matshow(corr)   # color code the rectangles by correlation value\n",
    "    plt.xticks(range(len(corr.columns)), corr.columns)  # draw x tick marks\n",
    "    plt.yticks(range(len(corr.columns)), corr.columns)  # draw y tick marks"
   ]
  },
  {
   "cell_type": "code",
   "execution_count": 16,
   "metadata": {
    "collapsed": false,
    "deletable": true,
    "editable": true
   },
   "outputs": [
    {
     "data": {
      "image/png": "[encoded data removed]",
      "text/plain": [
       "<matplotlib.figure.Figure at 0x7f30ac1f24a8>"
      ]
     },
     "metadata": {},
     "output_type": "display_data"
    }
   ],
   "source": [
    "plot_corr(df_events)"
   ]
  },
  {
   "cell_type": "code",
   "execution_count": 17,
   "metadata": {
    "collapsed": false,
    "deletable": true,
    "editable": true
   },
   "outputs": [
    {
     "data": {
      "text/html": [
       "<div>\n",
       "<table border=\"1\" class=\"dataframe\">\n",
       "  <thead>\n",
       "    <tr style=\"text-align: right;\">\n",
       "      <th></th>\n",
       "      <th>WEEKDAY</th>\n",
       "      <th>MINDAY</th>\n",
       "      <th>SOUND</th>\n",
       "      <th>MOVEMENT</th>\n",
       "      <th>LUX_ON</th>\n",
       "      <th>LIGHT_LUX</th>\n",
       "    </tr>\n",
       "  </thead>\n",
       "  <tbody>\n",
       "    <tr>\n",
       "      <th>WEEKDAY</th>\n",
       "      <td>1.000000e+00</td>\n",
       "      <td>2.638810e-19</td>\n",
       "      <td>0.264942</td>\n",
       "      <td>0.318639</td>\n",
       "      <td>0.037058</td>\n",
       "      <td>0.003974</td>\n",
       "    </tr>\n",
       "    <tr>\n",
       "      <th>MINDAY</th>\n",
       "      <td>2.638810e-19</td>\n",
       "      <td>1.000000e+00</td>\n",
       "      <td>0.468925</td>\n",
       "      <td>0.562796</td>\n",
       "      <td>0.401363</td>\n",
       "      <td>0.383605</td>\n",
       "    </tr>\n",
       "    <tr>\n",
       "      <th>SOUND</th>\n",
       "      <td>2.649421e-01</td>\n",
       "      <td>4.689253e-01</td>\n",
       "      <td>1.000000</td>\n",
       "      <td>0.844001</td>\n",
       "      <td>0.409229</td>\n",
       "      <td>0.166257</td>\n",
       "    </tr>\n",
       "    <tr>\n",
       "      <th>MOVEMENT</th>\n",
       "      <td>3.186394e-01</td>\n",
       "      <td>5.627956e-01</td>\n",
       "      <td>0.844001</td>\n",
       "      <td>1.000000</td>\n",
       "      <td>0.486507</td>\n",
       "      <td>0.197058</td>\n",
       "    </tr>\n",
       "    <tr>\n",
       "      <th>LUX_ON</th>\n",
       "      <td>3.705839e-02</td>\n",
       "      <td>4.013633e-01</td>\n",
       "      <td>0.409229</td>\n",
       "      <td>0.486507</td>\n",
       "      <td>1.000000</td>\n",
       "      <td>0.177402</td>\n",
       "    </tr>\n",
       "    <tr>\n",
       "      <th>LIGHT_LUX</th>\n",
       "      <td>3.974259e-03</td>\n",
       "      <td>3.836053e-01</td>\n",
       "      <td>0.166257</td>\n",
       "      <td>0.197058</td>\n",
       "      <td>0.177402</td>\n",
       "      <td>1.000000</td>\n",
       "    </tr>\n",
       "  </tbody>\n",
       "</table>\n",
       "</div>"
      ],
      "text/plain": [
       "                WEEKDAY        MINDAY     SOUND  MOVEMENT    LUX_ON  LIGHT_LUX\n",
       "WEEKDAY    1.000000e+00  2.638810e-19  0.264942  0.318639  0.037058   0.003974\n",
       "MINDAY     2.638810e-19  1.000000e+00  0.468925  0.562796  0.401363   0.383605\n",
       "SOUND      2.649421e-01  4.689253e-01  1.000000  0.844001  0.409229   0.166257\n",
       "MOVEMENT   3.186394e-01  5.627956e-01  0.844001  1.000000  0.486507   0.197058\n",
       "LUX_ON     3.705839e-02  4.013633e-01  0.409229  0.486507  1.000000   0.177402\n",
       "LIGHT_LUX  3.974259e-03  3.836053e-01  0.166257  0.197058  0.177402   1.000000"
      ]
     },
     "execution_count": 17,
     "metadata": {},
     "output_type": "execute_result"
    }
   ],
   "source": [
    "df_events.corr()"
   ]
  },
  {
   "cell_type": "markdown",
   "metadata": {
    "deletable": true,
    "editable": true
   },
   "source": [
    "Debido a que no se puede ver una relación fuerte entre LUX_ON y el resto de los atributos, se procede a construir otro dataset a partir del obtenido con variables más significativas.\n",
    "\n",
    "### Generación de nuevas variables\n",
    "Se analizará la relación del estado de la luz (LUX_ON) con variables dependientes del dataset generado. El objetivo es intentar representar relaciones más adecuadas con el entorno tanto a nivel espacial como temporal.\n",
    "Las mediciones (facts) a construir son:\n",
    "- LIGHT_LUX_1m    medición de luz en el último minuto (sin contar la medición actual)\n",
    "- MOVEMENT_1m     proporción del sensor PIR activado en el último minuto\n",
    "- MOVEMENT_5m     proporción del sensor PIR activado en los últimos 5 minutos\n",
    "- MOVEMENT_15m    proporción del sensor PIR activado en los últimos 15 minutos\n",
    "\n",
    "Se sumarán al dataset actual manteniendo las dimensiones y mediciones previas:\n",
    "- WEEKDAY\n",
    "- MINDAY\n",
    "- SOUND\n",
    "- MOVEMENT\n",
    "- LIGHT_LUX\n",
    "- LUX_ON"
   ]
  },
  {
   "cell_type": "code",
   "execution_count": 18,
   "metadata": {
    "collapsed": true,
    "deletable": true,
    "editable": true
   },
   "outputs": [],
   "source": [
    "df_events['LIGHT_LUX_1m'] = df_events.LIGHT_LUX.shift(1)\n",
    "df_events['MOVEMENT_1m'] = df_events.MOVEMENT.shift(1)\n",
    "df_events['MOVEMENT_5m'] = df_events.MOVEMENT.rolling(5).sum() / 5\n",
    "df_events['MOVEMENT_15m'] = df_events.MOVEMENT.rolling(15).sum() / 15\n",
    "df_events['LUX_SWITCH'] = df_events.LUX_ON.diff()\n",
    "df_events.dropna(inplace=True)"
   ]
  },
  {
   "cell_type": "code",
   "execution_count": 19,
   "metadata": {
    "collapsed": false,
    "deletable": true,
    "editable": true,
    "scrolled": false
   },
   "outputs": [
    {
     "data": {
      "image/png": "[encoded data removed]",
      "text/plain": [
       "<matplotlib.figure.Figure at 0x7f30ac070f60>"
      ]
     },
     "metadata": {},
     "output_type": "display_data"
    }
   ],
   "source": [
    "plot_corr(df_events,14)"
   ]
  },
  {
   "cell_type": "code",
   "execution_count": 30,
   "metadata": {
    "collapsed": false,
    "deletable": true,
    "editable": true
   },
   "outputs": [
    {
     "data": {
      "text/html": [
       "\n",
       "        <style  type=\"text/css\" >\n",
       "        \n",
       "        \n",
       "            #T_0afd6160_c19f_11e7_912a_0800271a8003row0_col4 {\n",
       "            \n",
       "                width:  10em;\n",
       "            \n",
       "                 height:  80%;\n",
       "            \n",
       "                background:  linear-gradient(90deg,#d65f5f 10.708719229118993%, transparent 0%);\n",
       "            \n",
       "            }\n",
       "        \n",
       "            #T_0afd6160_c19f_11e7_912a_0800271a8003row1_col4 {\n",
       "            \n",
       "                width:  10em;\n",
       "            \n",
       "                 height:  80%;\n",
       "            \n",
       "                background:  linear-gradient(90deg,#d65f5f 44.48979475006135%, transparent 0%);\n",
       "            \n",
       "            }\n",
       "        \n",
       "            #T_0afd6160_c19f_11e7_912a_0800271a8003row2_col4 {\n",
       "            \n",
       "                width:  10em;\n",
       "            \n",
       "                 height:  80%;\n",
       "            \n",
       "                background:  linear-gradient(90deg,#d65f5f 45.21860017149976%, transparent 0%);\n",
       "            \n",
       "            }\n",
       "        \n",
       "            #T_0afd6160_c19f_11e7_912a_0800271a8003row3_col4 {\n",
       "            \n",
       "                width:  10em;\n",
       "            \n",
       "                 height:  80%;\n",
       "            \n",
       "                background:  linear-gradient(90deg,#d65f5f 52.3846050710888%, transparent 0%);\n",
       "            \n",
       "            }\n",
       "        \n",
       "            #T_0afd6160_c19f_11e7_912a_0800271a8003row4_col4 {\n",
       "            \n",
       "                width:  10em;\n",
       "            \n",
       "                 height:  80%;\n",
       "            \n",
       "                background:  linear-gradient(90deg,#d65f5f 100.0%, transparent 0%);\n",
       "            \n",
       "            }\n",
       "        \n",
       "            #T_0afd6160_c19f_11e7_912a_0800271a8003row5_col4 {\n",
       "            \n",
       "                width:  10em;\n",
       "            \n",
       "                 height:  80%;\n",
       "            \n",
       "                background:  linear-gradient(90deg,#d65f5f 23.72052289655217%, transparent 0%);\n",
       "            \n",
       "            }\n",
       "        \n",
       "            #T_0afd6160_c19f_11e7_912a_0800271a8003row6_col4 {\n",
       "            \n",
       "                width:  10em;\n",
       "            \n",
       "                 height:  80%;\n",
       "            \n",
       "            }\n",
       "        \n",
       "            #T_0afd6160_c19f_11e7_912a_0800271a8003row7_col4 {\n",
       "            \n",
       "                width:  10em;\n",
       "            \n",
       "                 height:  80%;\n",
       "            \n",
       "                background:  linear-gradient(90deg,#d65f5f 49.53770946781915%, transparent 0%);\n",
       "            \n",
       "            }\n",
       "        \n",
       "            #T_0afd6160_c19f_11e7_912a_0800271a8003row8_col4 {\n",
       "            \n",
       "                width:  10em;\n",
       "            \n",
       "                 height:  80%;\n",
       "            \n",
       "                background:  linear-gradient(90deg,#d65f5f 50.663427515122684%, transparent 0%);\n",
       "            \n",
       "            }\n",
       "        \n",
       "            #T_0afd6160_c19f_11e7_912a_0800271a8003row9_col4 {\n",
       "            \n",
       "                width:  10em;\n",
       "            \n",
       "                 height:  80%;\n",
       "            \n",
       "                background:  linear-gradient(90deg,#d65f5f 49.7199308256123%, transparent 0%);\n",
       "            \n",
       "            }\n",
       "        \n",
       "            #T_0afd6160_c19f_11e7_912a_0800271a8003row10_col4 {\n",
       "            \n",
       "                width:  10em;\n",
       "            \n",
       "                 height:  80%;\n",
       "            \n",
       "                background:  linear-gradient(90deg,#d65f5f 55.67507836311752%, transparent 0%);\n",
       "            \n",
       "            }\n",
       "        \n",
       "        </style>\n",
       "\n",
       "        <table id=\"T_0afd6160_c19f_11e7_912a_0800271a8003\" None>\n",
       "        \n",
       "\n",
       "        <thead>\n",
       "            \n",
       "            <tr>\n",
       "                \n",
       "                \n",
       "                <th class=\"blank level0\" >\n",
       "                  \n",
       "                \n",
       "                \n",
       "                \n",
       "                <th class=\"col_heading level0 col0\" colspan=1>\n",
       "                  WEEKDAY\n",
       "                \n",
       "                \n",
       "                \n",
       "                <th class=\"col_heading level0 col1\" colspan=1>\n",
       "                  MINDAY\n",
       "                \n",
       "                \n",
       "                \n",
       "                <th class=\"col_heading level0 col2\" colspan=1>\n",
       "                  SOUND\n",
       "                \n",
       "                \n",
       "                \n",
       "                <th class=\"col_heading level0 col3\" colspan=1>\n",
       "                  MOVEMENT\n",
       "                \n",
       "                \n",
       "                \n",
       "                <th class=\"col_heading level0 col4\" colspan=1>\n",
       "                  LUX_ON\n",
       "                \n",
       "                \n",
       "                \n",
       "                <th class=\"col_heading level0 col5\" colspan=1>\n",
       "                  LIGHT_LUX\n",
       "                \n",
       "                \n",
       "                \n",
       "                <th class=\"col_heading level0 col6\" colspan=1>\n",
       "                  LIGHT_LUX_1m\n",
       "                \n",
       "                \n",
       "                \n",
       "                <th class=\"col_heading level0 col7\" colspan=1>\n",
       "                  MOVEMENT_1m\n",
       "                \n",
       "                \n",
       "                \n",
       "                <th class=\"col_heading level0 col8\" colspan=1>\n",
       "                  MOVEMENT_5m\n",
       "                \n",
       "                \n",
       "                \n",
       "                <th class=\"col_heading level0 col9\" colspan=1>\n",
       "                  MOVEMENT_15m\n",
       "                \n",
       "                \n",
       "                \n",
       "                <th class=\"col_heading level0 col10\" colspan=1>\n",
       "                  LUX_SWITCH\n",
       "                \n",
       "                \n",
       "            </tr>\n",
       "            \n",
       "        </thead>\n",
       "        <tbody>\n",
       "            \n",
       "            <tr>\n",
       "                \n",
       "                \n",
       "                <th id=\"T_0afd6160_c19f_11e7_912a_0800271a8003\"\n",
       "                 class=\"row_heading level0 row0\" rowspan=1>\n",
       "                    WEEKDAY\n",
       "                \n",
       "                \n",
       "                \n",
       "                <td id=\"T_0afd6160_c19f_11e7_912a_0800271a8003row0_col0\"\n",
       "                 class=\"data row0 col0\" >\n",
       "                    1\n",
       "                \n",
       "                \n",
       "                \n",
       "                <td id=\"T_0afd6160_c19f_11e7_912a_0800271a8003row0_col1\"\n",
       "                 class=\"data row0 col1\" >\n",
       "                    6.82328e-05\n",
       "                \n",
       "                \n",
       "                \n",
       "                <td id=\"T_0afd6160_c19f_11e7_912a_0800271a8003row0_col2\"\n",
       "                 class=\"data row0 col2\" >\n",
       "                    0.264981\n",
       "                \n",
       "                \n",
       "                \n",
       "                <td id=\"T_0afd6160_c19f_11e7_912a_0800271a8003row0_col3\"\n",
       "                 class=\"data row0 col3\" >\n",
       "                    0.318682\n",
       "                \n",
       "                \n",
       "                \n",
       "                <td id=\"T_0afd6160_c19f_11e7_912a_0800271a8003row0_col4\"\n",
       "                 class=\"data row0 col4\" >\n",
       "                    0.0370701\n",
       "                \n",
       "                \n",
       "                \n",
       "                <td id=\"T_0afd6160_c19f_11e7_912a_0800271a8003row0_col5\"\n",
       "                 class=\"data row0 col5\" >\n",
       "                    0.00402275\n",
       "                \n",
       "                \n",
       "                \n",
       "                <td id=\"T_0afd6160_c19f_11e7_912a_0800271a8003row0_col6\"\n",
       "                 class=\"data row0 col6\" >\n",
       "                    0.00401102\n",
       "                \n",
       "                \n",
       "                \n",
       "                <td id=\"T_0afd6160_c19f_11e7_912a_0800271a8003row0_col7\"\n",
       "                 class=\"data row0 col7\" >\n",
       "                    0.318678\n",
       "                \n",
       "                \n",
       "                \n",
       "                <td id=\"T_0afd6160_c19f_11e7_912a_0800271a8003row0_col8\"\n",
       "                 class=\"data row0 col8\" >\n",
       "                    0.330312\n",
       "                \n",
       "                \n",
       "                \n",
       "                <td id=\"T_0afd6160_c19f_11e7_912a_0800271a8003row0_col9\"\n",
       "                 class=\"data row0 col9\" >\n",
       "                    0.338952\n",
       "                \n",
       "                \n",
       "                \n",
       "                <td id=\"T_0afd6160_c19f_11e7_912a_0800271a8003row0_col10\"\n",
       "                 class=\"data row0 col10\" >\n",
       "                    1.69857e-05\n",
       "                \n",
       "                \n",
       "            </tr>\n",
       "            \n",
       "            <tr>\n",
       "                \n",
       "                \n",
       "                <th id=\"T_0afd6160_c19f_11e7_912a_0800271a8003\"\n",
       "                 class=\"row_heading level0 row1\" rowspan=1>\n",
       "                    MINDAY\n",
       "                \n",
       "                \n",
       "                \n",
       "                <td id=\"T_0afd6160_c19f_11e7_912a_0800271a8003row1_col0\"\n",
       "                 class=\"data row1 col0\" >\n",
       "                    6.82328e-05\n",
       "                \n",
       "                \n",
       "                \n",
       "                <td id=\"T_0afd6160_c19f_11e7_912a_0800271a8003row1_col1\"\n",
       "                 class=\"data row1 col1\" >\n",
       "                    1\n",
       "                \n",
       "                \n",
       "                \n",
       "                <td id=\"T_0afd6160_c19f_11e7_912a_0800271a8003row1_col2\"\n",
       "                 class=\"data row1 col2\" >\n",
       "                    0.468914\n",
       "                \n",
       "                \n",
       "                \n",
       "                <td id=\"T_0afd6160_c19f_11e7_912a_0800271a8003row1_col3\"\n",
       "                 class=\"data row1 col3\" >\n",
       "                    0.562787\n",
       "                \n",
       "                \n",
       "                \n",
       "                <td id=\"T_0afd6160_c19f_11e7_912a_0800271a8003row1_col4\"\n",
       "                 class=\"data row1 col4\" >\n",
       "                    0.40137\n",
       "                \n",
       "                \n",
       "                \n",
       "                <td id=\"T_0afd6160_c19f_11e7_912a_0800271a8003row1_col5\"\n",
       "                 class=\"data row1 col5\" >\n",
       "                    0.383573\n",
       "                \n",
       "                \n",
       "                \n",
       "                <td id=\"T_0afd6160_c19f_11e7_912a_0800271a8003row1_col6\"\n",
       "                 class=\"data row1 col6\" >\n",
       "                    0.386559\n",
       "                \n",
       "                \n",
       "                \n",
       "                <td id=\"T_0afd6160_c19f_11e7_912a_0800271a8003row1_col7\"\n",
       "                 class=\"data row1 col7\" >\n",
       "                    0.564578\n",
       "                \n",
       "                \n",
       "                \n",
       "                <td id=\"T_0afd6160_c19f_11e7_912a_0800271a8003row1_col8\"\n",
       "                 class=\"data row1 col8\" >\n",
       "                    0.587033\n",
       "                \n",
       "                \n",
       "                \n",
       "                <td id=\"T_0afd6160_c19f_11e7_912a_0800271a8003row1_col9\"\n",
       "                 class=\"data row1 col9\" >\n",
       "                    0.611671\n",
       "                \n",
       "                \n",
       "                \n",
       "                <td id=\"T_0afd6160_c19f_11e7_912a_0800271a8003row1_col10\"\n",
       "                 class=\"data row1 col10\" >\n",
       "                    -0.000686137\n",
       "                \n",
       "                \n",
       "            </tr>\n",
       "            \n",
       "            <tr>\n",
       "                \n",
       "                \n",
       "                <th id=\"T_0afd6160_c19f_11e7_912a_0800271a8003\"\n",
       "                 class=\"row_heading level0 row2\" rowspan=1>\n",
       "                    SOUND\n",
       "                \n",
       "                \n",
       "                \n",
       "                <td id=\"T_0afd6160_c19f_11e7_912a_0800271a8003row2_col0\"\n",
       "                 class=\"data row2 col0\" >\n",
       "                    0.264981\n",
       "                \n",
       "                \n",
       "                \n",
       "                <td id=\"T_0afd6160_c19f_11e7_912a_0800271a8003row2_col1\"\n",
       "                 class=\"data row2 col1\" >\n",
       "                    0.468914\n",
       "                \n",
       "                \n",
       "                \n",
       "                <td id=\"T_0afd6160_c19f_11e7_912a_0800271a8003row2_col2\"\n",
       "                 class=\"data row2 col2\" >\n",
       "                    1\n",
       "                \n",
       "                \n",
       "                \n",
       "                <td id=\"T_0afd6160_c19f_11e7_912a_0800271a8003row2_col3\"\n",
       "                 class=\"data row2 col3\" >\n",
       "                    0.843999\n",
       "                \n",
       "                \n",
       "                \n",
       "                <td id=\"T_0afd6160_c19f_11e7_912a_0800271a8003row2_col4\"\n",
       "                 class=\"data row2 col4\" >\n",
       "                    0.40923\n",
       "                \n",
       "                \n",
       "                \n",
       "                <td id=\"T_0afd6160_c19f_11e7_912a_0800271a8003row2_col5\"\n",
       "                 class=\"data row2 col5\" >\n",
       "                    0.166239\n",
       "                \n",
       "                \n",
       "                \n",
       "                <td id=\"T_0afd6160_c19f_11e7_912a_0800271a8003row2_col6\"\n",
       "                 class=\"data row2 col6\" >\n",
       "                    0.150564\n",
       "                \n",
       "                \n",
       "                \n",
       "                <td id=\"T_0afd6160_c19f_11e7_912a_0800271a8003row2_col7\"\n",
       "                 class=\"data row2 col7\" >\n",
       "                    0.779269\n",
       "                \n",
       "                \n",
       "                \n",
       "                <td id=\"T_0afd6160_c19f_11e7_912a_0800271a8003row2_col8\"\n",
       "                 class=\"data row2 col8\" >\n",
       "                    0.795963\n",
       "                \n",
       "                \n",
       "                \n",
       "                <td id=\"T_0afd6160_c19f_11e7_912a_0800271a8003row2_col9\"\n",
       "                 class=\"data row2 col9\" >\n",
       "                    0.770061\n",
       "                \n",
       "                \n",
       "                \n",
       "                <td id=\"T_0afd6160_c19f_11e7_912a_0800271a8003row2_col10\"\n",
       "                 class=\"data row2 col10\" >\n",
       "                    0.0288214\n",
       "                \n",
       "                \n",
       "            </tr>\n",
       "            \n",
       "            <tr>\n",
       "                \n",
       "                \n",
       "                <th id=\"T_0afd6160_c19f_11e7_912a_0800271a8003\"\n",
       "                 class=\"row_heading level0 row3\" rowspan=1>\n",
       "                    MOVEMENT\n",
       "                \n",
       "                \n",
       "                \n",
       "                <td id=\"T_0afd6160_c19f_11e7_912a_0800271a8003row3_col0\"\n",
       "                 class=\"data row3 col0\" >\n",
       "                    0.318682\n",
       "                \n",
       "                \n",
       "                \n",
       "                <td id=\"T_0afd6160_c19f_11e7_912a_0800271a8003row3_col1\"\n",
       "                 class=\"data row3 col1\" >\n",
       "                    0.562787\n",
       "                \n",
       "                \n",
       "                \n",
       "                <td id=\"T_0afd6160_c19f_11e7_912a_0800271a8003row3_col2\"\n",
       "                 class=\"data row3 col2\" >\n",
       "                    0.843999\n",
       "                \n",
       "                \n",
       "                \n",
       "                <td id=\"T_0afd6160_c19f_11e7_912a_0800271a8003row3_col3\"\n",
       "                 class=\"data row3 col3\" >\n",
       "                    1\n",
       "                \n",
       "                \n",
       "                \n",
       "                <td id=\"T_0afd6160_c19f_11e7_912a_0800271a8003row3_col4\"\n",
       "                 class=\"data row3 col4\" >\n",
       "                    0.486509\n",
       "                \n",
       "                \n",
       "                \n",
       "                <td id=\"T_0afd6160_c19f_11e7_912a_0800271a8003row3_col5\"\n",
       "                 class=\"data row3 col5\" >\n",
       "                    0.197039\n",
       "                \n",
       "                \n",
       "                \n",
       "                <td id=\"T_0afd6160_c19f_11e7_912a_0800271a8003row3_col6\"\n",
       "                 class=\"data row3 col6\" >\n",
       "                    0.181222\n",
       "                \n",
       "                \n",
       "                \n",
       "                <td id=\"T_0afd6160_c19f_11e7_912a_0800271a8003row3_col7\"\n",
       "                 class=\"data row3 col7\" >\n",
       "                    0.934406\n",
       "                \n",
       "                \n",
       "                \n",
       "                <td id=\"T_0afd6160_c19f_11e7_912a_0800271a8003row3_col8\"\n",
       "                 class=\"data row3 col8\" >\n",
       "                    0.95676\n",
       "                \n",
       "                \n",
       "                \n",
       "                <td id=\"T_0afd6160_c19f_11e7_912a_0800271a8003row3_col9\"\n",
       "                 class=\"data row3 col9\" >\n",
       "                    0.92423\n",
       "                \n",
       "                \n",
       "                \n",
       "                <td id=\"T_0afd6160_c19f_11e7_912a_0800271a8003row3_col10\"\n",
       "                 class=\"data row3 col10\" >\n",
       "                    0.0299302\n",
       "                \n",
       "                \n",
       "            </tr>\n",
       "            \n",
       "            <tr>\n",
       "                \n",
       "                \n",
       "                <th id=\"T_0afd6160_c19f_11e7_912a_0800271a8003\"\n",
       "                 class=\"row_heading level0 row4\" rowspan=1>\n",
       "                    LUX_ON\n",
       "                \n",
       "                \n",
       "                \n",
       "                <td id=\"T_0afd6160_c19f_11e7_912a_0800271a8003row4_col0\"\n",
       "                 class=\"data row4 col0\" >\n",
       "                    0.0370701\n",
       "                \n",
       "                \n",
       "                \n",
       "                <td id=\"T_0afd6160_c19f_11e7_912a_0800271a8003row4_col1\"\n",
       "                 class=\"data row4 col1\" >\n",
       "                    0.40137\n",
       "                \n",
       "                \n",
       "                \n",
       "                <td id=\"T_0afd6160_c19f_11e7_912a_0800271a8003row4_col2\"\n",
       "                 class=\"data row4 col2\" >\n",
       "                    0.40923\n",
       "                \n",
       "                \n",
       "                \n",
       "                <td id=\"T_0afd6160_c19f_11e7_912a_0800271a8003row4_col3\"\n",
       "                 class=\"data row4 col3\" >\n",
       "                    0.486509\n",
       "                \n",
       "                \n",
       "                \n",
       "                <td id=\"T_0afd6160_c19f_11e7_912a_0800271a8003row4_col4\"\n",
       "                 class=\"data row4 col4\" >\n",
       "                    1\n",
       "                \n",
       "                \n",
       "                \n",
       "                <td id=\"T_0afd6160_c19f_11e7_912a_0800271a8003row4_col5\"\n",
       "                 class=\"data row4 col5\" >\n",
       "                    0.177391\n",
       "                \n",
       "                \n",
       "                \n",
       "                <td id=\"T_0afd6160_c19f_11e7_912a_0800271a8003row4_col6\"\n",
       "                 class=\"data row4 col6\" >\n",
       "                    -0.0784142\n",
       "                \n",
       "                \n",
       "                \n",
       "                <td id=\"T_0afd6160_c19f_11e7_912a_0800271a8003row4_col7\"\n",
       "                 class=\"data row4 col7\" >\n",
       "                    0.455807\n",
       "                \n",
       "                \n",
       "                \n",
       "                <td id=\"T_0afd6160_c19f_11e7_912a_0800271a8003row4_col8\"\n",
       "                 class=\"data row4 col8\" >\n",
       "                    0.467947\n",
       "                \n",
       "                \n",
       "                \n",
       "                <td id=\"T_0afd6160_c19f_11e7_912a_0800271a8003row4_col9\"\n",
       "                 class=\"data row4 col9\" >\n",
       "                    0.457773\n",
       "                \n",
       "                \n",
       "                \n",
       "                <td id=\"T_0afd6160_c19f_11e7_912a_0800271a8003row4_col10\"\n",
       "                 class=\"data row4 col10\" >\n",
       "                    0.521994\n",
       "                \n",
       "                \n",
       "            </tr>\n",
       "            \n",
       "            <tr>\n",
       "                \n",
       "                \n",
       "                <th id=\"T_0afd6160_c19f_11e7_912a_0800271a8003\"\n",
       "                 class=\"row_heading level0 row5\" rowspan=1>\n",
       "                    LIGHT_LUX\n",
       "                \n",
       "                \n",
       "                \n",
       "                <td id=\"T_0afd6160_c19f_11e7_912a_0800271a8003row5_col0\"\n",
       "                 class=\"data row5 col0\" >\n",
       "                    0.00402275\n",
       "                \n",
       "                \n",
       "                \n",
       "                <td id=\"T_0afd6160_c19f_11e7_912a_0800271a8003row5_col1\"\n",
       "                 class=\"data row5 col1\" >\n",
       "                    0.383573\n",
       "                \n",
       "                \n",
       "                \n",
       "                <td id=\"T_0afd6160_c19f_11e7_912a_0800271a8003row5_col2\"\n",
       "                 class=\"data row5 col2\" >\n",
       "                    0.166239\n",
       "                \n",
       "                \n",
       "                \n",
       "                <td id=\"T_0afd6160_c19f_11e7_912a_0800271a8003row5_col3\"\n",
       "                 class=\"data row5 col3\" >\n",
       "                    0.197039\n",
       "                \n",
       "                \n",
       "                \n",
       "                <td id=\"T_0afd6160_c19f_11e7_912a_0800271a8003row5_col4\"\n",
       "                 class=\"data row5 col4\" >\n",
       "                    0.177391\n",
       "                \n",
       "                \n",
       "                \n",
       "                <td id=\"T_0afd6160_c19f_11e7_912a_0800271a8003row5_col5\"\n",
       "                 class=\"data row5 col5\" >\n",
       "                    1\n",
       "                \n",
       "                \n",
       "                \n",
       "                <td id=\"T_0afd6160_c19f_11e7_912a_0800271a8003row5_col6\"\n",
       "                 class=\"data row5 col6\" >\n",
       "                    0.835703\n",
       "                \n",
       "                \n",
       "                \n",
       "                <td id=\"T_0afd6160_c19f_11e7_912a_0800271a8003row5_col7\"\n",
       "                 class=\"data row5 col7\" >\n",
       "                    0.178746\n",
       "                \n",
       "                \n",
       "                \n",
       "                <td id=\"T_0afd6160_c19f_11e7_912a_0800271a8003row5_col8\"\n",
       "                 class=\"data row5 col8\" >\n",
       "                    0.181494\n",
       "                \n",
       "                \n",
       "                \n",
       "                <td id=\"T_0afd6160_c19f_11e7_912a_0800271a8003row5_col9\"\n",
       "                 class=\"data row5 col9\" >\n",
       "                    0.167196\n",
       "                \n",
       "                \n",
       "                \n",
       "                <td id=\"T_0afd6160_c19f_11e7_912a_0800271a8003row5_col10\"\n",
       "                 class=\"data row5 col10\" >\n",
       "                    0.245995\n",
       "                \n",
       "                \n",
       "            </tr>\n",
       "            \n",
       "            <tr>\n",
       "                \n",
       "                \n",
       "                <th id=\"T_0afd6160_c19f_11e7_912a_0800271a8003\"\n",
       "                 class=\"row_heading level0 row6\" rowspan=1>\n",
       "                    LIGHT_LUX_1m\n",
       "                \n",
       "                \n",
       "                \n",
       "                <td id=\"T_0afd6160_c19f_11e7_912a_0800271a8003row6_col0\"\n",
       "                 class=\"data row6 col0\" >\n",
       "                    0.00401102\n",
       "                \n",
       "                \n",
       "                \n",
       "                <td id=\"T_0afd6160_c19f_11e7_912a_0800271a8003row6_col1\"\n",
       "                 class=\"data row6 col1\" >\n",
       "                    0.386559\n",
       "                \n",
       "                \n",
       "                \n",
       "                <td id=\"T_0afd6160_c19f_11e7_912a_0800271a8003row6_col2\"\n",
       "                 class=\"data row6 col2\" >\n",
       "                    0.150564\n",
       "                \n",
       "                \n",
       "                \n",
       "                <td id=\"T_0afd6160_c19f_11e7_912a_0800271a8003row6_col3\"\n",
       "                 class=\"data row6 col3\" >\n",
       "                    0.181222\n",
       "                \n",
       "                \n",
       "                \n",
       "                <td id=\"T_0afd6160_c19f_11e7_912a_0800271a8003row6_col4\"\n",
       "                 class=\"data row6 col4\" >\n",
       "                    -0.0784142\n",
       "                \n",
       "                \n",
       "                \n",
       "                <td id=\"T_0afd6160_c19f_11e7_912a_0800271a8003row6_col5\"\n",
       "                 class=\"data row6 col5\" >\n",
       "                    0.835703\n",
       "                \n",
       "                \n",
       "                \n",
       "                <td id=\"T_0afd6160_c19f_11e7_912a_0800271a8003row6_col6\"\n",
       "                 class=\"data row6 col6\" >\n",
       "                    1\n",
       "                \n",
       "                \n",
       "                \n",
       "                <td id=\"T_0afd6160_c19f_11e7_912a_0800271a8003row6_col7\"\n",
       "                 class=\"data row6 col7\" >\n",
       "                    0.197039\n",
       "                \n",
       "                \n",
       "                \n",
       "                <td id=\"T_0afd6160_c19f_11e7_912a_0800271a8003row6_col8\"\n",
       "                 class=\"data row6 col8\" >\n",
       "                    0.185622\n",
       "                \n",
       "                \n",
       "                \n",
       "                <td id=\"T_0afd6160_c19f_11e7_912a_0800271a8003row6_col9\"\n",
       "                 class=\"data row6 col9\" >\n",
       "                    0.170155\n",
       "                \n",
       "                \n",
       "                \n",
       "                <td id=\"T_0afd6160_c19f_11e7_912a_0800271a8003row6_col10\"\n",
       "                 class=\"data row6 col10\" >\n",
       "                    -0.245027\n",
       "                \n",
       "                \n",
       "            </tr>\n",
       "            \n",
       "            <tr>\n",
       "                \n",
       "                \n",
       "                <th id=\"T_0afd6160_c19f_11e7_912a_0800271a8003\"\n",
       "                 class=\"row_heading level0 row7\" rowspan=1>\n",
       "                    MOVEMENT_1m\n",
       "                \n",
       "                \n",
       "                \n",
       "                <td id=\"T_0afd6160_c19f_11e7_912a_0800271a8003row7_col0\"\n",
       "                 class=\"data row7 col0\" >\n",
       "                    0.318678\n",
       "                \n",
       "                \n",
       "                \n",
       "                <td id=\"T_0afd6160_c19f_11e7_912a_0800271a8003row7_col1\"\n",
       "                 class=\"data row7 col1\" >\n",
       "                    0.564578\n",
       "                \n",
       "                \n",
       "                \n",
       "                <td id=\"T_0afd6160_c19f_11e7_912a_0800271a8003row7_col2\"\n",
       "                 class=\"data row7 col2\" >\n",
       "                    0.779269\n",
       "                \n",
       "                \n",
       "                \n",
       "                <td id=\"T_0afd6160_c19f_11e7_912a_0800271a8003row7_col3\"\n",
       "                 class=\"data row7 col3\" >\n",
       "                    0.934406\n",
       "                \n",
       "                \n",
       "                \n",
       "                <td id=\"T_0afd6160_c19f_11e7_912a_0800271a8003row7_col4\"\n",
       "                 class=\"data row7 col4\" >\n",
       "                    0.455807\n",
       "                \n",
       "                \n",
       "                \n",
       "                <td id=\"T_0afd6160_c19f_11e7_912a_0800271a8003row7_col5\"\n",
       "                 class=\"data row7 col5\" >\n",
       "                    0.178746\n",
       "                \n",
       "                \n",
       "                \n",
       "                <td id=\"T_0afd6160_c19f_11e7_912a_0800271a8003row7_col6\"\n",
       "                 class=\"data row7 col6\" >\n",
       "                    0.197039\n",
       "                \n",
       "                \n",
       "                \n",
       "                <td id=\"T_0afd6160_c19f_11e7_912a_0800271a8003row7_col7\"\n",
       "                 class=\"data row7 col7\" >\n",
       "                    1\n",
       "                \n",
       "                \n",
       "                \n",
       "                <td id=\"T_0afd6160_c19f_11e7_912a_0800271a8003row7_col8\"\n",
       "                 class=\"data row7 col8\" >\n",
       "                    0.968918\n",
       "                \n",
       "                \n",
       "                \n",
       "                <td id=\"T_0afd6160_c19f_11e7_912a_0800271a8003row7_col9\"\n",
       "                 class=\"data row7 col9\" >\n",
       "                    0.932245\n",
       "                \n",
       "                \n",
       "                \n",
       "                <td id=\"T_0afd6160_c19f_11e7_912a_0800271a8003row7_col10\"\n",
       "                 class=\"data row7 col10\" >\n",
       "                    -0.0294078\n",
       "                \n",
       "                \n",
       "            </tr>\n",
       "            \n",
       "            <tr>\n",
       "                \n",
       "                \n",
       "                <th id=\"T_0afd6160_c19f_11e7_912a_0800271a8003\"\n",
       "                 class=\"row_heading level0 row8\" rowspan=1>\n",
       "                    MOVEMENT_5m\n",
       "                \n",
       "                \n",
       "                \n",
       "                <td id=\"T_0afd6160_c19f_11e7_912a_0800271a8003row8_col0\"\n",
       "                 class=\"data row8 col0\" >\n",
       "                    0.330312\n",
       "                \n",
       "                \n",
       "                \n",
       "                <td id=\"T_0afd6160_c19f_11e7_912a_0800271a8003row8_col1\"\n",
       "                 class=\"data row8 col1\" >\n",
       "                    0.587033\n",
       "                \n",
       "                \n",
       "                \n",
       "                <td id=\"T_0afd6160_c19f_11e7_912a_0800271a8003row8_col2\"\n",
       "                 class=\"data row8 col2\" >\n",
       "                    0.795963\n",
       "                \n",
       "                \n",
       "                \n",
       "                <td id=\"T_0afd6160_c19f_11e7_912a_0800271a8003row8_col3\"\n",
       "                 class=\"data row8 col3\" >\n",
       "                    0.95676\n",
       "                \n",
       "                \n",
       "                \n",
       "                <td id=\"T_0afd6160_c19f_11e7_912a_0800271a8003row8_col4\"\n",
       "                 class=\"data row8 col4\" >\n",
       "                    0.467947\n",
       "                \n",
       "                \n",
       "                \n",
       "                <td id=\"T_0afd6160_c19f_11e7_912a_0800271a8003row8_col5\"\n",
       "                 class=\"data row8 col5\" >\n",
       "                    0.181494\n",
       "                \n",
       "                \n",
       "                \n",
       "                <td id=\"T_0afd6160_c19f_11e7_912a_0800271a8003row8_col6\"\n",
       "                 class=\"data row8 col6\" >\n",
       "                    0.185622\n",
       "                \n",
       "                \n",
       "                \n",
       "                <td id=\"T_0afd6160_c19f_11e7_912a_0800271a8003row8_col7\"\n",
       "                 class=\"data row8 col7\" >\n",
       "                    0.968918\n",
       "                \n",
       "                \n",
       "                \n",
       "                <td id=\"T_0afd6160_c19f_11e7_912a_0800271a8003row8_col8\"\n",
       "                 class=\"data row8 col8\" >\n",
       "                    1\n",
       "                \n",
       "                \n",
       "                \n",
       "                <td id=\"T_0afd6160_c19f_11e7_912a_0800271a8003row8_col9\"\n",
       "                 class=\"data row8 col9\" >\n",
       "                    0.970621\n",
       "                \n",
       "                \n",
       "                \n",
       "                <td id=\"T_0afd6160_c19f_11e7_912a_0800271a8003row8_col10\"\n",
       "                 class=\"data row8 col10\" >\n",
       "                    -0.0048381\n",
       "                \n",
       "                \n",
       "            </tr>\n",
       "            \n",
       "            <tr>\n",
       "                \n",
       "                \n",
       "                <th id=\"T_0afd6160_c19f_11e7_912a_0800271a8003\"\n",
       "                 class=\"row_heading level0 row9\" rowspan=1>\n",
       "                    MOVEMENT_15m\n",
       "                \n",
       "                \n",
       "                \n",
       "                <td id=\"T_0afd6160_c19f_11e7_912a_0800271a8003row9_col0\"\n",
       "                 class=\"data row9 col0\" >\n",
       "                    0.338952\n",
       "                \n",
       "                \n",
       "                \n",
       "                <td id=\"T_0afd6160_c19f_11e7_912a_0800271a8003row9_col1\"\n",
       "                 class=\"data row9 col1\" >\n",
       "                    0.611671\n",
       "                \n",
       "                \n",
       "                \n",
       "                <td id=\"T_0afd6160_c19f_11e7_912a_0800271a8003row9_col2\"\n",
       "                 class=\"data row9 col2\" >\n",
       "                    0.770061\n",
       "                \n",
       "                \n",
       "                \n",
       "                <td id=\"T_0afd6160_c19f_11e7_912a_0800271a8003row9_col3\"\n",
       "                 class=\"data row9 col3\" >\n",
       "                    0.92423\n",
       "                \n",
       "                \n",
       "                \n",
       "                <td id=\"T_0afd6160_c19f_11e7_912a_0800271a8003row9_col4\"\n",
       "                 class=\"data row9 col4\" >\n",
       "                    0.457773\n",
       "                \n",
       "                \n",
       "                \n",
       "                <td id=\"T_0afd6160_c19f_11e7_912a_0800271a8003row9_col5\"\n",
       "                 class=\"data row9 col5\" >\n",
       "                    0.167196\n",
       "                \n",
       "                \n",
       "                \n",
       "                <td id=\"T_0afd6160_c19f_11e7_912a_0800271a8003row9_col6\"\n",
       "                 class=\"data row9 col6\" >\n",
       "                    0.170155\n",
       "                \n",
       "                \n",
       "                \n",
       "                <td id=\"T_0afd6160_c19f_11e7_912a_0800271a8003row9_col7\"\n",
       "                 class=\"data row9 col7\" >\n",
       "                    0.932245\n",
       "                \n",
       "                \n",
       "                \n",
       "                <td id=\"T_0afd6160_c19f_11e7_912a_0800271a8003row9_col8\"\n",
       "                 class=\"data row9 col8\" >\n",
       "                    0.970621\n",
       "                \n",
       "                \n",
       "                \n",
       "                <td id=\"T_0afd6160_c19f_11e7_912a_0800271a8003row9_col9\"\n",
       "                 class=\"data row9 col9\" >\n",
       "                    1\n",
       "                \n",
       "                \n",
       "                \n",
       "                <td id=\"T_0afd6160_c19f_11e7_912a_0800271a8003row9_col10\"\n",
       "                 class=\"data row9 col10\" >\n",
       "                    -0.002799\n",
       "                \n",
       "                \n",
       "            </tr>\n",
       "            \n",
       "            <tr>\n",
       "                \n",
       "                \n",
       "                <th id=\"T_0afd6160_c19f_11e7_912a_0800271a8003\"\n",
       "                 class=\"row_heading level0 row10\" rowspan=1>\n",
       "                    LUX_SWITCH\n",
       "                \n",
       "                \n",
       "                \n",
       "                <td id=\"T_0afd6160_c19f_11e7_912a_0800271a8003row10_col0\"\n",
       "                 class=\"data row10 col0\" >\n",
       "                    1.69857e-05\n",
       "                \n",
       "                \n",
       "                \n",
       "                <td id=\"T_0afd6160_c19f_11e7_912a_0800271a8003row10_col1\"\n",
       "                 class=\"data row10 col1\" >\n",
       "                    -0.000686137\n",
       "                \n",
       "                \n",
       "                \n",
       "                <td id=\"T_0afd6160_c19f_11e7_912a_0800271a8003row10_col2\"\n",
       "                 class=\"data row10 col2\" >\n",
       "                    0.0288214\n",
       "                \n",
       "                \n",
       "                \n",
       "                <td id=\"T_0afd6160_c19f_11e7_912a_0800271a8003row10_col3\"\n",
       "                 class=\"data row10 col3\" >\n",
       "                    0.0299302\n",
       "                \n",
       "                \n",
       "                \n",
       "                <td id=\"T_0afd6160_c19f_11e7_912a_0800271a8003row10_col4\"\n",
       "                 class=\"data row10 col4\" >\n",
       "                    0.521994\n",
       "                \n",
       "                \n",
       "                \n",
       "                <td id=\"T_0afd6160_c19f_11e7_912a_0800271a8003row10_col5\"\n",
       "                 class=\"data row10 col5\" >\n",
       "                    0.245995\n",
       "                \n",
       "                \n",
       "                \n",
       "                <td id=\"T_0afd6160_c19f_11e7_912a_0800271a8003row10_col6\"\n",
       "                 class=\"data row10 col6\" >\n",
       "                    -0.245027\n",
       "                \n",
       "                \n",
       "                \n",
       "                <td id=\"T_0afd6160_c19f_11e7_912a_0800271a8003row10_col7\"\n",
       "                 class=\"data row10 col7\" >\n",
       "                    -0.0294078\n",
       "                \n",
       "                \n",
       "                \n",
       "                <td id=\"T_0afd6160_c19f_11e7_912a_0800271a8003row10_col8\"\n",
       "                 class=\"data row10 col8\" >\n",
       "                    -0.0048381\n",
       "                \n",
       "                \n",
       "                \n",
       "                <td id=\"T_0afd6160_c19f_11e7_912a_0800271a8003row10_col9\"\n",
       "                 class=\"data row10 col9\" >\n",
       "                    -0.002799\n",
       "                \n",
       "                \n",
       "                \n",
       "                <td id=\"T_0afd6160_c19f_11e7_912a_0800271a8003row10_col10\"\n",
       "                 class=\"data row10 col10\" >\n",
       "                    1\n",
       "                \n",
       "                \n",
       "            </tr>\n",
       "            \n",
       "        </tbody>\n",
       "        </table>\n",
       "        "
      ],
      "text/plain": [
       "<pandas.formats.style.Styler at 0x7f30a7fbca58>"
      ]
     },
     "execution_count": 30,
     "metadata": {},
     "output_type": "execute_result"
    }
   ],
   "source": [
    "df_events.corr().style.bar(subset=['LUX_ON'], color='#d65f5f', axis=0)\n"
   ]
  },
  {
   "cell_type": "markdown",
   "metadata": {
    "deletable": true,
    "editable": true
   },
   "source": [
    "## Entrenamiento y verificación de RNA\n",
    "\n",
    "### Variable objetivo: estado de la lámpara (LUX_ON)\n",
    "La variable a predecir es LUX_ON, la cual está en 1 si la luz está prendida (sea estado override o no del módulo). La distribución del estado en porcentaje es la siguiente:"
   ]
  },
  {
   "cell_type": "code",
   "execution_count": 31,
   "metadata": {
    "collapsed": false,
    "deletable": true,
    "editable": true
   },
   "outputs": [
    {
     "data": {
      "text/plain": [
       "0    0.830835\n",
       "1    0.169165\n",
       "Name: LUX_ON, dtype: float64"
      ]
     },
     "execution_count": 31,
     "metadata": {},
     "output_type": "execute_result"
    }
   ],
   "source": [
    "df_events.LUX_ON.value_counts(normalize=True)"
   ]
  },
  {
   "cell_type": "markdown",
   "metadata": {
    "deletable": true,
    "editable": true
   },
   "source": [
    "#### Separando los datos para training y prueba\n",
    "Para poder hacer etapas de entrenamiento y prueba, voy a separar los datos. 70% para entrenamiento, 30% para prueba. Para esto voy a usar del módulo scikit-learn la función train_test_split.\n",
    "\n",
    "Los conjuntos de datos van a llamarse:\n",
    "* X_train: Datos de entrenamiento. Las 7 columnas con los valores del mes, día, sensores, etc, compuesto por el 70% de los registros\n",
    "* y_train: Resultado de entrenamiento. Columna *estadoLuz* para el 70% de los registros\n",
    "* X_test: Datos para hacer la validación. Tienen el mismo formato que X_train, pero corresponden al 30% del conjunto de datos\n",
    "* y_test: Resultados para validar la performance del algoritmo aplicado a X_test"
   ]
  },
  {
   "cell_type": "code",
   "execution_count": 32,
   "metadata": {
    "collapsed": true,
    "deletable": true,
    "editable": true
   },
   "outputs": [],
   "source": [
    "from sklearn.model_selection import train_test_split\n",
    "\n",
    "luxState_feature_names = ['WEEKDAY', 'MINDAY', 'LIGHT_LUX_1m', 'SOUND', 'MOVEMENT', 'MOVEMENT_1m', 'MOVEMENT_5m', 'MOVEMENT_15m']\n",
    "luxState_goal_names = ['LUX_ON']\n",
    "\n",
    "luxState_features = df_events[luxState_feature_names].values     # Columnas del predictor (5 X m)\n",
    "luxState_goal = df_events[luxState_goal_names].values            # Clase predecida (1=verdadero, 0=falso) column (1 X m)\n",
    "split_test_size = 0.30                                           # 0.30 es 30%, el tamaño para pruebas\n",
    "\n",
    "luxState_features_train, luxState_features_test, luxState_goal_train, luxState_goal_test = train_test_split(luxState_features, luxState_goal, test_size=split_test_size)"
   ]
  },
  {
   "cell_type": "markdown",
   "metadata": {
    "deletable": true,
    "editable": true
   },
   "source": [
    "Verifico que el tamaño relativo de los sets de entrenamiento y prueba sea lo más cercano a 70-30 posible:"
   ]
  },
  {
   "cell_type": "code",
   "execution_count": 33,
   "metadata": {
    "collapsed": false,
    "deletable": true,
    "editable": true
   },
   "outputs": [
    {
     "name": "stdout",
     "output_type": "stream",
     "text": [
      "70.00% en el set de entrenamiento\n",
      "30.00% en el set de prueba\n"
     ]
    }
   ],
   "source": [
    "print(\"{0:.2f}% en el set de entrenamiento\".format((float(len(luxState_features_train))/len(df_events.index)) * 100 )) \n",
    "print(\"{0:.2f}% en el set de prueba\".format((float(len(luxState_features_test))/len(df_events.index)) * 100))"
   ]
  },
  {
   "cell_type": "markdown",
   "metadata": {
    "deletable": true,
    "editable": true
   },
   "source": [
    "Verifico que la proporción de casos verdaderos y falsos se mantenga en los conjuntos de entrenamiento y test:"
   ]
  },
  {
   "cell_type": "code",
   "execution_count": 34,
   "metadata": {
    "collapsed": false,
    "deletable": true,
    "editable": true
   },
   "outputs": [
    {
     "name": "stdout",
     "output_type": "stream",
     "text": [
      "Lux Activo en el total           : 88911 (16.92%)\n",
      "Lux Inactivo en el total         : 436675 (83.08%)\n",
      "\n",
      "Lux Activo en entrenamiento      : 61939 (16.84%)\n",
      "Lux Inctivo en entrenamiento     : 305971 (83.16%)\n",
      "\n",
      "Lux Activo en test               : 26972 (17.11%)\n",
      "Lux Inctivo en test              : 130704 (82.89%)\n"
     ]
    }
   ],
   "source": [
    "print(\"Lux Activo en el total           : {0} ({1:0.2f}%)\".format(len(df_events.loc[df_events['LUX_ON'] == 1]), (len(df_events.loc[df_events['LUX_ON'] == 1])/float(len(df_events.index))) * 100.0))\n",
    "print(\"Lux Inactivo en el total         : {0} ({1:0.2f}%)\".format(len(df_events.loc[df_events['LUX_ON'] == 0]), (len(df_events.loc[df_events['LUX_ON'] == 0])/float(len(df_events.index))) * 100.0))\n",
    "print(\"\")\n",
    "train_state_on = len(luxState_goal_train[ luxState_goal_train == 1])\n",
    "train_state_off = len(luxState_goal_train[ luxState_goal_train == 0])\n",
    "print(\"Lux Activo en entrenamiento      : {0} ({1:0.2f}%)\".format(train_state_on, train_state_on/float(len(luxState_goal_train)) * 100.0))\n",
    "print(\"Lux Inctivo en entrenamiento     : {0} ({1:0.2f}%)\".format(train_state_off, train_state_off/float(len(luxState_goal_train)) * 100.0))\n",
    "print(\"\")\n",
    "test_state_on = len(luxState_goal_test[ luxState_goal_test == 1])\n",
    "test_state_off = len(luxState_goal_test[ luxState_goal_test == 0])\n",
    "print(\"Lux Activo en test               : {0} ({1:0.2f}%)\".format(test_state_on, test_state_on/float(len(luxState_goal_test)) * 100.0))\n",
    "print(\"Lux Inctivo en test              : {0} ({1:0.2f}%)\".format(test_state_off,test_state_off/float(len(luxState_goal_test)) * 100.0))"
   ]
  },
  {
   "cell_type": "markdown",
   "metadata": {
    "deletable": true,
    "editable": true
   },
   "source": [
    "#### Entrenamiento inicial\n",
    "Para este entrenamiento voy a usar otro módulo de scikit-learn: neural_network. Como lo que estamos tratando de averiguar es si la luz debe estar prendida o no, estamos hablando de un algoritmo de clasificación, y por lo tanto la función que voy a usar se llama MLPClassifier, e implementa un perceptrón multi capa (MLP) que se entrena usando backpropagation.\n"
   ]
  },
  {
   "cell_type": "code",
   "execution_count": 35,
   "metadata": {
    "collapsed": false,
    "deletable": true,
    "editable": true
   },
   "outputs": [
    {
     "name": "stdout",
     "output_type": "stream",
     "text": [
      "CPU times: user 44.2 s, sys: 91.7 ms, total: 44.3 s\n",
      "Wall time: 45.1 s\n"
     ]
    },
    {
     "data": {
      "text/plain": [
       "MLPClassifier(activation='relu', alpha=0.0001, batch_size='auto', beta_1=0.9,\n",
       "       beta_2=0.999, early_stopping=False, epsilon=1e-08,\n",
       "       hidden_layer_sizes=(100,), learning_rate='constant',\n",
       "       learning_rate_init=0.001, max_iter=200, momentum=0.9,\n",
       "       nesterovs_momentum=True, power_t=0.5, random_state=None,\n",
       "       shuffle=True, solver='adam', tol=0.0001, validation_fraction=0.1,\n",
       "       verbose=False, warm_start=False)"
      ]
     },
     "execution_count": 35,
     "metadata": {},
     "output_type": "execute_result"
    }
   ],
   "source": [
    "from sklearn.neural_network import MLPClassifier\n",
    "clf_model_state = MLPClassifier()\n",
    "%time clf_model_state.fit(luxState_features_train, luxState_goal_train.ravel())"
   ]
  },
  {
   "cell_type": "markdown",
   "metadata": {
    "deletable": true,
    "editable": true
   },
   "source": [
    "#### Performance usando los datos de entrenamiento\n",
    "Para esto voy a importar la función metrics."
   ]
  },
  {
   "cell_type": "code",
   "execution_count": 36,
   "metadata": {
    "collapsed": false,
    "deletable": true,
    "editable": true,
    "scrolled": true
   },
   "outputs": [
    {
     "name": "stdout",
     "output_type": "stream",
     "text": [
      "Precisión en entrenamiento: 0.8817\n"
     ]
    }
   ],
   "source": [
    "from sklearn import metrics\n",
    "\n",
    "clf_predict_state_train = clf_model_state.predict(luxState_features_train)\n",
    "\n",
    "print(\"Precisión en entrenamiento: {0:.4f}\".format(metrics.accuracy_score(luxState_goal_train, clf_predict_state_train)))"
   ]
  },
  {
   "cell_type": "markdown",
   "metadata": {
    "deletable": true,
    "editable": true
   },
   "source": [
    "#### Performance usando los datos de prueba"
   ]
  },
  {
   "cell_type": "code",
   "execution_count": 37,
   "metadata": {
    "collapsed": false,
    "deletable": true,
    "editable": true,
    "scrolled": true
   },
   "outputs": [
    {
     "name": "stdout",
     "output_type": "stream",
     "text": [
      "Precisión en test: 0.8805\n"
     ]
    }
   ],
   "source": [
    "clf_predict_state_test = clf_model_state.predict(luxState_features_test)\n",
    "\n",
    "print(\"Precisión en test: {0:.4f}\".format(metrics.accuracy_score(luxState_goal_test, clf_predict_state_test)))"
   ]
  },
  {
   "cell_type": "markdown",
   "metadata": {
    "deletable": true,
    "editable": true
   },
   "source": [
    "#### Métricas\n",
    "Los resultados de las etapas de entrenamiento y prueba son muy buenos. Demasiado buenos. Hay que analizar si no hay algún otro problema que pueda causar que cuando ponga más datos (cuando analice en tiempo real la actividad del usuario), el modelo falle miserablemente.\n",
    "\n",
    "Para este análisis, voy a ver como se comparan los resultados, con el objetivo de entender si el modelo sirve o hay que hacer ajustes. Voy a usar dos herramientas:\n",
    "\n",
    "##### Matriz de confusión\n",
    "https://es.wikipedia.org/wiki/Matriz_de_confusi%C3%B3n\n",
    "\n",
    "Cada columna de la matriz representa el número de predicciones de cada clase, mientras que cada fila representa a las instancias en la clase real. Uno de los beneficios de las matrices de confusión es que facilitan ver si el sistema está confundiendo dos clases. \n",
    "\n",
    "En nuestro caso, la matriz representa lo siguiente:\n",
    "\n",
    "\n",
    "| EV (Predicho Encendido y es verdad ) | EF (Predicho Encendido pero es falso) |\n",
    "|------------------------------------------------|\n",
    "| **AF (Predicho Apagado pero es Falso** | **AV (Predicho Apagado y es verdad)** |\n",
    "\n",
    "Esto quiere decir que queremos los valores más altos posibles en la diagonal, y lo más cerca posible a cero en cualquier otro lado."
   ]
  },
  {
   "cell_type": "code",
   "execution_count": 38,
   "metadata": {
    "collapsed": false,
    "deletable": true,
    "editable": true,
    "scrolled": true
   },
   "outputs": [
    {
     "name": "stdout",
     "output_type": "stream",
     "text": [
      "Matriz de confusión:\n",
      "[[ 14486  12486]\n",
      " [  6356 124348]]\n"
     ]
    }
   ],
   "source": [
    "print(\"Matriz de confusión:\")\n",
    "print(\"{0}\".format(metrics.confusion_matrix(luxState_goal_test, clf_predict_state_test, labels=[1, 0])))"
   ]
  },
  {
   "cell_type": "markdown",
   "metadata": {
    "deletable": true,
    "editable": true
   },
   "source": [
    "Estos resultados son muy buenos, el porcentaje de acertados es altísimo. El modelo es casi perfecto. Para confirmar, hay que usar la otra herramienta.\n",
    "\n",
    "\n",
    "#### Reporte de clasificación.\n",
    "Lo primero que vamos a verificar es que tan bien se hace una predición acertada cuando se requiere que el dispositivo esté encendido. Este dato, llamado \"recall\" en el reporte, esta dado por:\n",
    "\n",
    "Recall = EV / (EV + AF)\n",
    "\n",
    "Lo segundo que queremos ver es la presición, que está dada por:\n",
    "\n",
    "Precision = EV / (EV + EF)\n"
   ]
  },
  {
   "cell_type": "code",
   "execution_count": 39,
   "metadata": {
    "collapsed": false,
    "deletable": true,
    "editable": true,
    "scrolled": true
   },
   "outputs": [
    {
     "name": "stdout",
     "output_type": "stream",
     "text": [
      "Reporte de clasificación:\n",
      "             precision    recall  f1-score   support\n",
      "\n",
      "          1       0.70      0.54      0.61     26972\n",
      "          0       0.91      0.95      0.93    130704\n",
      "\n",
      "avg / total       0.87      0.88      0.87    157676\n",
      "\n"
     ]
    }
   ],
   "source": [
    "print(\"Reporte de clasificación:\")\n",
    "print(metrics.classification_report(luxState_goal_test, clf_predict_state_test, labels=[1,0]))"
   ]
  },
  {
   "cell_type": "markdown",
   "metadata": {
    "deletable": true,
    "editable": true
   },
   "source": [
    "### Variable objetivo: cambio de estado de la lámpara (LUX_SWITCH)\n",
    "La variable a predecir es LUX_SWITCH que se describe como cada cambio de estado del lux.\n",
    "-  1: la luz se prendió\n",
    "-  0: no hubo cambios\n",
    "- -1: la luz se apagó\n",
    "La distribución del estado en porcentaje es la siguiente:"
   ]
  },
  {
   "cell_type": "code",
   "execution_count": 40,
   "metadata": {
    "collapsed": false,
    "deletable": true,
    "editable": true
   },
   "outputs": [
    {
     "data": {
      "text/plain": [
       " 0.0    0.846815\n",
       " 1.0    0.076593\n",
       "-1.0    0.076593\n",
       "Name: LUX_SWITCH, dtype: float64"
      ]
     },
     "execution_count": 40,
     "metadata": {},
     "output_type": "execute_result"
    }
   ],
   "source": [
    "df_events.LUX_SWITCH.value_counts(normalize=True)"
   ]
  },
  {
   "cell_type": "markdown",
   "metadata": {
    "deletable": true,
    "editable": true
   },
   "source": [
    "#### Separando los datos para training y prueba"
   ]
  },
  {
   "cell_type": "code",
   "execution_count": 41,
   "metadata": {
    "collapsed": true,
    "deletable": true,
    "editable": true
   },
   "outputs": [],
   "source": [
    "luxSwitch_feature_names = ['WEEKDAY', 'MINDAY', 'LIGHT_LUX_1m', 'SOUND', 'MOVEMENT', 'MOVEMENT_1m', 'MOVEMENT_5m', 'MOVEMENT_15m' ]\n",
    "luxSwitch_goal_names = ['LUX_SWITCH']\n",
    "\n",
    "luxSwitch_features = df_events[luxSwitch_feature_names].values        # Columnas predictoras\n",
    "luxSwitch_goal = df_events[luxSwitch_goal_names].values               # Clase predecida (1, 0, -1)\n",
    "split_test_size = 0.30                                                # 0.30 es 30%, el tamaño para pruebas\n",
    "\n",
    "luxSwitch_feat_train, luxSwitch_feat_test, luxSwitch_goal_train, luxSwitch_goal_test = train_test_split(luxSwitch_features, luxSwitch_goal, test_size=split_test_size)"
   ]
  },
  {
   "cell_type": "code",
   "execution_count": 48,
   "metadata": {
    "collapsed": false,
    "deletable": true,
    "editable": true
   },
   "outputs": [
    {
     "name": "stdout",
     "output_type": "stream",
     "text": [
      "70.00% en el set de entrenamiento\n",
      "30.00% en el set de prueba\n"
     ]
    }
   ],
   "source": [
    "print(\"{0:.2f}% en el set de entrenamiento\".format( (float(len(luxSwitch_feat_train))/len(df_events.index)) * 100 ))\n",
    "print(\"{0:.2f}% en el set de prueba\".format((float(len(luxSwitch_feat_test))/len(df_events.index)) * 100))"
   ]
  },
  {
   "cell_type": "code",
   "execution_count": 52,
   "metadata": {
    "collapsed": false,
    "deletable": true,
    "editable": true
   },
   "outputs": [
    {
     "name": "stdout",
     "output_type": "stream",
     "text": [
      "Totales:\n",
      "Prendidas        : 40256 (7.66%)\n",
      "Sin cambios      : 445074 (84.68%)\n",
      "Apagadas         : 40256 (7.66%)\n",
      "\n",
      "Set de entrenamiento:\n",
      "Prendidas        : 28225 (7.67%)\n",
      "Sin cambios      : 311582 (84.69%)\n",
      "Apagadas         : 28103 (7.64%)\n",
      "\n",
      "Set de pruebas:\n",
      "Prendidas        : 12031 (7.63%)\n",
      "Sin cambios      : 133492 (84.66%)\n",
      "Apagadas         : 12153 (7.71%)\n"
     ]
    }
   ],
   "source": [
    "totales_switch_on = len(df_events.query('LUX_SWITCH == 1'))\n",
    "totales_switch_stale = len(df_events.query('LUX_SWITCH == 0'))\n",
    "totales_switch_off = len(df_events.query('LUX_SWITCH == -1'))\n",
    "print('Totales:')\n",
    "print(\"Prendidas        : {0} ({1:0.2f}%)\".format(totales_switch_on, totales_switch_on/float(df_events.shape[0]) * 100.0))\n",
    "print(\"Sin cambios      : {0} ({1:0.2f}%)\".format(totales_switch_stale, totales_switch_stale/float(df_events.shape[0]) * 100.0))\n",
    "print(\"Apagadas         : {0} ({1:0.2f}%)\".format(totales_switch_off, totales_switch_off/float(df_events.shape[0]) * 100.0))\n",
    "print('')\n",
    "train_switch_on = len(luxSwitch_goal_train[ luxSwitch_goal_train == 1])\n",
    "train_switch_stale = len(luxSwitch_goal_train[ luxSwitch_goal_train == 0])\n",
    "train_switch_off = len(luxSwitch_goal_train[ luxSwitch_goal_train == -1])\n",
    "print('Set de entrenamiento:')\n",
    "print(\"Prendidas        : {0} ({1:0.2f}%)\".format(train_switch_on, train_switch_on/float(luxSwitch_goal_train.shape[0]) * 100.0))\n",
    "print(\"Sin cambios      : {0} ({1:0.2f}%)\".format(train_switch_stale, train_switch_stale/float(luxSwitch_goal_train.shape[0]) * 100.0))\n",
    "print(\"Apagadas         : {0} ({1:0.2f}%)\".format(train_switch_off, train_switch_off/float(luxSwitch_goal_train.shape[0]) * 100.0))\n",
    "print('')\n",
    "test_switch_on = len(luxSwitch_goal_test[ luxSwitch_goal_test == 1])\n",
    "test_switch_stale = len(luxSwitch_goal_test[ luxSwitch_goal_test == 0])\n",
    "test_switch_off = len(luxSwitch_goal_test[ luxSwitch_goal_test == -1])\n",
    "print('Set de pruebas:')\n",
    "print(\"Prendidas        : {0} ({1:0.2f}%)\".format(test_switch_on, test_switch_on/float(luxSwitch_goal_test.shape[0]) * 100.0))\n",
    "print(\"Sin cambios      : {0} ({1:0.2f}%)\".format(test_switch_stale, test_switch_stale/float(luxSwitch_goal_test.shape[0]) * 100.0))\n",
    "print(\"Apagadas         : {0} ({1:0.2f}%)\".format(test_switch_off, test_switch_off/float(luxSwitch_goal_test.shape[0]) * 100.0))"
   ]
  },
  {
   "cell_type": "markdown",
   "metadata": {
    "deletable": true,
    "editable": true
   },
   "source": [
    "#### Entrenamiento inicial"
   ]
  },
  {
   "cell_type": "code",
   "execution_count": 53,
   "metadata": {
    "collapsed": false,
    "deletable": true,
    "editable": true
   },
   "outputs": [
    {
     "name": "stdout",
     "output_type": "stream",
     "text": [
      "CPU times: user 9min 47s, sys: 1.67 s, total: 9min 48s\n",
      "Wall time: 10min 3s\n"
     ]
    },
    {
     "data": {
      "text/plain": [
       "MLPClassifier(activation='relu', alpha=0.0001, batch_size='auto', beta_1=0.9,\n",
       "       beta_2=0.999, early_stopping=False, epsilon=1e-08,\n",
       "       hidden_layer_sizes=(100,), learning_rate='constant',\n",
       "       learning_rate_init=0.001, max_iter=200, momentum=0.9,\n",
       "       nesterovs_momentum=True, power_t=0.5, random_state=None,\n",
       "       shuffle=True, solver='adam', tol=0.0001, validation_fraction=0.1,\n",
       "       verbose=False, warm_start=False)"
      ]
     },
     "execution_count": 53,
     "metadata": {},
     "output_type": "execute_result"
    }
   ],
   "source": [
    "clf_model_switch = MLPClassifier()\n",
    "%time clf_model_switch.fit(luxSwitch_feat_train, luxSwitch_goal_train.ravel())"
   ]
  },
  {
   "cell_type": "markdown",
   "metadata": {
    "deletable": true,
    "editable": true
   },
   "source": [
    "#### Performance usando los datos de entrenamiento"
   ]
  },
  {
   "cell_type": "code",
   "execution_count": 54,
   "metadata": {
    "collapsed": false,
    "deletable": true,
    "editable": true,
    "scrolled": true
   },
   "outputs": [
    {
     "name": "stdout",
     "output_type": "stream",
     "text": [
      "Precisión en entrenamiento: 0.8839\n"
     ]
    }
   ],
   "source": [
    "clf_predict_switch_train = clf_model_switch.predict(luxSwitch_feat_train)\n",
    "\n",
    "print(\"Precisión en entrenamiento: {0:.4f}\".format(metrics.accuracy_score(luxSwitch_goal_train, clf_predict_switch_train)))"
   ]
  },
  {
   "cell_type": "markdown",
   "metadata": {
    "deletable": true,
    "editable": true
   },
   "source": [
    "#### Performance usando los datos de prueba"
   ]
  },
  {
   "cell_type": "code",
   "execution_count": 55,
   "metadata": {
    "collapsed": false,
    "deletable": true,
    "editable": true,
    "scrolled": true
   },
   "outputs": [
    {
     "name": "stdout",
     "output_type": "stream",
     "text": [
      "Precisión en test: 0.8833\n"
     ]
    }
   ],
   "source": [
    "clf_predict_switch_test = clf_model_switch.predict(luxSwitch_feat_test)\n",
    "\n",
    "print(\"Precisión en test: {0:.4f}\".format(metrics.accuracy_score(luxSwitch_goal_test, clf_predict_switch_test)))"
   ]
  },
  {
   "cell_type": "markdown",
   "metadata": {
    "deletable": true,
    "editable": true
   },
   "source": [
    "#### Métricas\n",
    "##### Matriz de confusión"
   ]
  },
  {
   "cell_type": "code",
   "execution_count": 56,
   "metadata": {
    "collapsed": false,
    "deletable": true,
    "editable": true,
    "scrolled": true
   },
   "outputs": [
    {
     "name": "stdout",
     "output_type": "stream",
     "text": [
      "[[  6643   5388      0]\n",
      " [  2916 130452    124]\n",
      " [     0   9980   2173]]\n"
     ]
    }
   ],
   "source": [
    "print(\"{0}\".format(metrics.confusion_matrix(luxSwitch_goal_test, clf_predict_switch_test, labels=[1, 0, -1])))"
   ]
  },
  {
   "cell_type": "markdown",
   "metadata": {
    "deletable": true,
    "editable": true
   },
   "source": [
    "#### Reporte de clasificación"
   ]
  },
  {
   "cell_type": "code",
   "execution_count": 57,
   "metadata": {
    "collapsed": false,
    "deletable": true,
    "editable": true
   },
   "outputs": [
    {
     "name": "stdout",
     "output_type": "stream",
     "text": [
      "             precision    recall  f1-score   support\n",
      "\n",
      "          1       0.69      0.55      0.62     12031\n",
      "          0       0.89      0.98      0.93    133492\n",
      "         -1       0.95      0.18      0.30     12153\n",
      "\n",
      "avg / total       0.88      0.88      0.86    157676\n",
      "\n"
     ]
    }
   ],
   "source": [
    "print(metrics.classification_report(luxSwitch_goal_test, clf_predict_switch_test, labels=[1,0,-1]))"
   ]
  },
  {
   "cell_type": "markdown",
   "metadata": {
    "deletable": true,
    "editable": true
   },
   "source": [
    "## Validación del modelo"
   ]
  },
  {
   "cell_type": "markdown",
   "metadata": {
    "deletable": true,
    "editable": true
   },
   "source": [
    "### Predicción de ESTADO (LUX_ON)\n",
    "Features:\n",
    "\n",
    "| WEEKDAY | MINDAY | LIGHT_LUX_1m | SOUND | MOVEMENT | MOVEMENT_1m | MOVEMENT_5m | MOVEMENT_15m |\n",
    "|-----------------------------------------------------------------------------------------------|\n",
    "| 0-6 | 0-1439 | 0-2000 | 30-130 | 0/1 | 0-1 | 0-1 | 0-1 |"
   ]
  },
  {
   "cell_type": "code",
   "execution_count": 58,
   "metadata": {
    "collapsed": true,
    "deletable": true,
    "editable": true
   },
   "outputs": [],
   "source": [
    "X_new_test = pd.DataFrame([[ 5, 670, 85, 50, 1, 1, 1, 0.9 ]],columns=luxState_feature_names)"
   ]
  },
  {
   "cell_type": "code",
   "execution_count": 59,
   "metadata": {
    "collapsed": false,
    "deletable": true,
    "editable": true
   },
   "outputs": [
    {
     "name": "stdout",
     "output_type": "stream",
     "text": [
      "Resultado:  [0]\n"
     ]
    }
   ],
   "source": [
    "clf_predict_new_test = clf_model_state.predict(X_new_test)\n",
    "\n",
    "print (\"Resultado: \", clf_predict_new_test)"
   ]
  },
  {
   "cell_type": "markdown",
   "metadata": {
    "deletable": true,
    "editable": true
   },
   "source": [
    "### Predicción de CAMBIO DE ESTADO (LUX_SWITCH)\n",
    "\n",
    "Features:\n",
    "\n",
    "| WEEKDAY | MINDAY | LIGHT_LUX_1m | SOUND | MOVEMENT | MOVEMENT_1m | MOVEMENT_5m | MOVEMENT_15m |\n",
    "|-----------------------------------------------------------------------------------------------|\n",
    "| 0-6 | 0-1439 | 0-2000 | 30-130 | 0/1 | 0-1 | 0-1 | 0-1 |"
   ]
  },
  {
   "cell_type": "code",
   "execution_count": 60,
   "metadata": {
    "collapsed": true,
    "deletable": true,
    "editable": true
   },
   "outputs": [],
   "source": [
    "X_new_test = pd.DataFrame([[ 5, 670, 85, 50, 1, 1, 1, 0.9 ]],columns=luxSwitch_feature_names)"
   ]
  },
  {
   "cell_type": "code",
   "execution_count": 61,
   "metadata": {
    "collapsed": false,
    "deletable": true,
    "editable": true
   },
   "outputs": [
    {
     "name": "stdout",
     "output_type": "stream",
     "text": [
      "Resultado:  [ 1.]\n"
     ]
    }
   ],
   "source": [
    "clf_predict_new_test = clf_model_switch.predict(X_new_test)\n",
    "\n",
    "print (\"Resultado: \", clf_predict_new_test)"
   ]
  },
  {
   "cell_type": "code",
   "execution_count": null,
   "metadata": {
    "collapsed": true
   },
   "outputs": [],
   "source": []
  }
 ],
 "metadata": {
  "kernelspec": {
   "display_name": "Python 3",
   "language": "python",
   "name": "python3"
  },
  "language_info": {
   "codemirror_mode": {
    "name": "ipython",
    "version": 3
   },
   "file_extension": ".py",
   "mimetype": "text/x-python",
   "name": "python",
   "nbconvert_exporter": "python",
   "pygments_lexer": "ipython3",
   "version": "3.5.4"
  }
 },
 "nbformat": 4,
 "nbformat_minor": 2
}
