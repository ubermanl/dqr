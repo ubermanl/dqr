{
 "cells": [
  {
   "cell_type": "markdown",
   "metadata": {},
   "source": [
    "## RNA Monoambiente con servicio y consulta por API\n",
    "Este ejemplo usa el mismo código que el ejemplo inicial, pero está adaptado para correr como un servicio, aceptando consultas por medio de una api hecha con swagger\n",
    "\n",
    "### Inicio del servicio\n",
    "Por ahora no tengo un archivo de systemd, así que inicio el script a mano"
   ]
  },
  {
   "cell_type": "raw",
   "metadata": {},
   "source": [
    "$ ./rna-engine.sh >> ./rna-engine.log 2>&1 &\n",
    "[1] 31446\n",
    "$"
   ]
  },
  {
   "cell_type": "markdown",
   "metadata": {},
   "source": [
    "Contenido del log hasta ahora:"
   ]
  },
  {
   "cell_type": "raw",
   "metadata": {},
   "source": [
    "$ cat rna-engine.log \n",
    "Cargando el dataset\n",
    "Separando los datos para entrenamiento y test\n",
    "Análisis de los datos en el dataset:\n",
    "Verdaderos en el total     : 28506 (22.00%)\n",
    "Falsos en el total         : 101095 (78.00%)\n",
    "\n",
    "Verdaderos en entrenamiento: 20018 (22.07%)\n",
    "Falsos en entrenamiento    : 70702 (77.93%)\n",
    "\n",
    "Verdaderos en test         : 8488 (21.83%)\n",
    "Falsos en test             : 30393 (78.17%)\n",
    "\n",
    "Entrenando la RNA\n",
    "Precisión en entrenamiento: 0.9770\n",
    "Ejecutando las pruebas con datos en el dataset\n",
    "Precisión en test: 0.9769\n",
    "Matriz de confusión:\n",
    "[[ 8427    61]\n",
    " [  837 29556]]\n",
    "Reporte de clasificación:\n",
    "             precision    recall  f1-score   support\n",
    "\n",
    "          1       0.91      0.99      0.95      8488\n",
    "          0       1.00      0.97      0.99     30393\n",
    "\n",
    "avg / total       0.98      0.98      0.98     38881\n",
    "\n",
    "Cargando la api\n",
    " * Running on http://127.0.0.1:8080/ (Press CTRL+C to quit)\n"
   ]
  },
  {
   "cell_type": "markdown",
   "metadata": {},
   "source": [
    "Hasta ahora es muy similar al ejemplo anterior, carga el dataset, entrena la red neuronal, pero en vez de correr un ejemplo y salir, se queda escuchando en una url.\n",
    "\n",
    "La especificación de esta API, en el archivo swagger_server/swagger/swagger.yaml, indica que se debe llamar a este método con los siguientes parámetros:"
   ]
  },
  {
   "cell_type": "raw",
   "metadata": {},
   "source": [
    "/getEstadoSugerido/{luxId}/{mes}/{diaSemana}/{hora}/{minuto}/{sensLuminosidad}/{sensSonido}/{sensPresencia}:"
   ]
  },
  {
   "cell_type": "markdown",
   "metadata": {},
   "source": [
    "Entonces, si el momento a consultar fuera \"Martes 25 de Abril a las 21:20hs, con valores normales de luz, sonido y presencia\", mi llamada a la url sería la siguiente:"
   ]
  },
  {
   "cell_type": "raw",
   "metadata": {},
   "source": [
    "$ curl -v http://localhost:8080/getEstadoSugerido/1001/4/2/21/20/0.3/0.4/0.4\n",
    "*   Trying 127.0.0.1...\n",
    "* TCP_NODELAY set\n",
    "* Connected to localhost (127.0.0.1) port 8080 (#0)\n",
    "> GET /getEstadoSugerido/1001/4/2/21/20/0.3/0.4/0.4 HTTP/1.1\n",
    "> Host: localhost:8080\n",
    "> User-Agent: curl/7.51.0\n",
    "> Accept: */*\n",
    "> \n",
    "* HTTP 1.0, assume close after body\n",
    "< HTTP/1.0 200 OK\n",
    "< Content-Type: text/html; charset=utf-8\n",
    "< Content-Length: 1\n",
    "< Server: Werkzeug/0.12.1 Python/3.5.3\n",
    "< Date: Mon, 24 Apr 2017 01:35:46 GMT\n",
    "< \n",
    "* Curl_http_done: called premature == 0\n",
    "* Closing connection 0\n",
    "1 \n",
    "$"
   ]
  },
  {
   "cell_type": "markdown",
   "metadata": {},
   "source": [
    "Fijense que devuelve 1, como es de esperar.\n",
    "\n",
    "Si hiciera una consulta en la que no se detecta sonido o presencia:"
   ]
  },
  {
   "cell_type": "raw",
   "metadata": {},
   "source": [
    "$ curl -v http://localhost:8080/getEstadoSugerido/1001/4/2/21/20/0.3/0.03/0.02\n",
    "*   Trying 127.0.0.1...\n",
    "* TCP_NODELAY set\n",
    "* Connected to localhost (127.0.0.1) port 8080 (#0)\n",
    "> GET /getEstadoSugerido/1001/4/2/21/20/0.3/0.03/0.02 HTTP/1.1\n",
    "> Host: localhost:8080\n",
    "> User-Agent: curl/7.51.0\n",
    "> Accept: */*\n",
    "> \n",
    "* HTTP 1.0, assume close after body\n",
    "< HTTP/1.0 200 OK\n",
    "< Content-Type: text/html; charset=utf-8\n",
    "< Content-Length: 1\n",
    "< Server: Werkzeug/0.12.1 Python/3.5.3\n",
    "< Date: Mon, 24 Apr 2017 01:37:24 GMT\n",
    "< \n",
    "* Curl_http_done: called premature == 0\n",
    "* Closing connection 0\n",
    "0 \n",
    "$"
   ]
  },
  {
   "cell_type": "markdown",
   "metadata": {},
   "source": [
    "En este caso la respuesta es cero, como es de esperar.\n",
    "\n",
    "Verifico la información que provee el log luego de las consultas:"
   ]
  },
  {
   "cell_type": "raw",
   "metadata": {},
   "source": [
    "$ tail rna-engine.log \n",
    "          1       0.91      0.99      0.95      8488\n",
    "          0       1.00      0.97      0.99     30393\n",
    "\n",
    "avg / total       0.98      0.98      0.98     38881\n",
    "\n",
    "Cargando la api\n",
    " * Running on http://127.0.0.1:8080/ (Press CTRL+C to quit)\n",
    "127.0.0.1 - - [23/Apr/2017 22:35:30] \"GET /getEstadoSugerido/1001/4/2/21/20/0.3/0.4/0.4 HTTP/1.1\" 200 -\n",
    "127.0.0.1 - - [23/Apr/2017 22:35:46] \"GET /getEstadoSugerido/1001/4/2/21/20/0.3/0.4/0.4 HTTP/1.1\" 200 -\n",
    "127.0.0.1 - - [23/Apr/2017 22:37:24] \"GET /getEstadoSugerido/1001/4/2/21/20/0.3/0.03/0.02 HTTP/1.1\" 200 -\n",
    "$"
   ]
  },
  {
   "cell_type": "code",
   "execution_count": null,
   "metadata": {
    "collapsed": true
   },
   "outputs": [],
   "source": []
  }
 ],
 "metadata": {
  "kernelspec": {
   "display_name": "Python 3",
   "language": "python",
   "name": "python3"
  },
  "language_info": {
   "codemirror_mode": {
    "name": "ipython",
    "version": 3
   },
   "file_extension": ".py",
   "mimetype": "text/x-python",
   "name": "python",
   "nbconvert_exporter": "python",
   "pygments_lexer": "ipython3",
   "version": "3.5.3"
  }
 },
 "nbformat": 4,
 "nbformat_minor": 2
}
