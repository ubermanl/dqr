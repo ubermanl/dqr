{
 "cells": [
  {
   "cell_type": "markdown",
   "metadata": {},
   "source": [
    "# DqR ETL\n",
    "\n",
    "** - **\n",
    "** INSTRUCCIONES **\n",
    "\n",
    "Este proceso al ejecutarse completo extrae datos de las tablas transaccionales (device_events y device_event_sensors) para transformarlos y llevarlos a las tablas del DWH. Por defecto solo pasa los datos que NO existan en el DWH hasta el dia actual (ejecucion diferencial).\n",
    "\n",
    "Si se desea realizar un **ETL completo** de cero se deben eliminar las tablas del DWH: **bt_events** y **agg_power_consumption**. De esa forma el proceso extrae todos los eventos de la transaccional y se llevan al DWH.\n",
    "Tener cuidado con la configuración de las DBs (db_trx y db_hist).\n",
    "** - **\n",
    "\n",
    "El actual documento describe el proceso de extracción, transformación y carga de datos a un DataWarehouse para luego realizar un análisis exploratorio básico para detectar patrones en el consumo de energía de los módulos instalados en los dispositivos DqR del hogar.\n",
    "El proceso completo puede asemejarse al proceso de DataMining aunque no se contemplarán todas las etapas del mismo por una cuestión de simplificación del problema. El primer paso entonces es construir y actualizar el DWH con los datos de la base de datos transaccional. Empezaremos definiendo el modelo de datos en esquema estrella.\n",
    "\n",
    "## Modelo de datos del DWH\n",
    "Utilizaremos la metodología de Kimball para definir primero los problemas particulares a resolver y luego extender el dominio del negocio. Es apropiada esta decisión ya que aún no se dispone de una visión completa del negocio debido a que el producto se encuentra en su fase de desarrollo.\n",
    "\n",
    "### Proceso del negocio\n",
    "Se considerarán 3 procesos de negocio para realizar el diseño del DWH inicial.\n",
    "- Predicción de estado del módulo DqR Lux\n",
    "    Este proceso buscará predecir el estado de un módulo que controla la luminaria según ciertas variables predictoras. Es necesario disponer de un set de datos de entrenamiento no menor a 3 meses.\n",
    "- Predicción de consumo de energía mensual\n",
    "    El proceso buscará responder cuánto se estima que se consumirá en energía por cada módulo que posee sensado de corriente, de forma que sea posible estimar el consumo mensual.\n",
    "- Reporte de sensado\n",
    "    Se permitirá al usuario explorar el sensado de los dispositivos DqR para analizar el comportamiento de los mismos a lo largo del tiempo.\n",
    "    \n",
    "### Nivel de granularidad del modelo\n",
    "Ya que los procesos compartirán las dimensiones asociadas, se define el nivel de granularidad de detalle para cada dimensión y alguna aclaración dependiendo del proceso que la relacione. Las consideraciones a contemplar son:\n",
    "- Se debe representar el tiempo en minutos para el proceso de predicción de estado y reporte de sensado.\n",
    "- Se debe representar el tiempo en horas para el proceso de predicción de estado.\n",
    "\n",
    "### Predicción de estado del DqR Lux\n",
    "\n",
    "**Dimensiones**\n",
    "- Time: timestamp, weekday, hour\n",
    "- Module: module_id, module_type_id, device_id\n",
    "\n",
    "**Hechos**\n",
    "- lux_state\n",
    "- movement\n",
    "- light\n",
    "- sound\n",
    "\n",
    "### Predicción de Consumo de energía\n",
    "\n",
    "**Dimensiones**\n",
    "- Time: timestamp, year, month, month_hour (day*24 + hour), hour\n",
    "- Module: module_id, module_name, module_type_id, module_type_name, device_id, device_name\n",
    "\n",
    "**Hechos**\n",
    "- power_consumption\n",
    "- power_consumption_accumulated\n",
    "- power_consumption_percentage\n",
    "\n",
    "### Reporte de sensado\n",
    "\n",
    "**Dimensiones**\n",
    "- Time: timestamp, year, month, yearday, weekday, weekday_name, day, month_hour (day*24 + hour), hour, minute, minday (minute + hour)\n",
    "- Module: module_id, module_name, module_type_id, module_type_name, device_id, device_name\n",
    "- Sensor: sensor_type_id, sensor_type_name\n",
    "\n",
    "**Hechos**\n",
    "- module_state\n",
    "- light\n",
    "- movement\n",
    "- power_consumption\n",
    "- temperature\n",
    "- sound\n",
    "\n",
    "Los hechos son todos aditivos, por lo cual pueden acumularse en el tiempo. El único que es un tipo no aditivo es el module_state que indica el estado actual del módulo para cada evento registrado.\n",
    "\n",
    "## Modelo de Datos Star-Schema\n",
    "Definido el modelo de datos lógico, se procede a construir un modelo de datos físico que permita soportar los procesos previos. Por lo tanto dichos procesos terminarán consumiendo y compartiendo las tablas especificadas a continuación.\n",
    "\n",
    "### Tablas de dimensiones (consulta)\n",
    "\n",
    "**lk_module**\n",
    "- MOD_ID: int (PK)\n",
    "- DEV_ID: int\n",
    "- DEV_NAME: varchar\n",
    "- MOD_NAME: varchar\n",
    "- MOD_TYPE_ID: int\n",
    "- MOD_TYPE_NAME: varchar\n",
    "\n",
    "**lk_time**\n",
    "- TIMESTAMP: int (PK)\n",
    "- MINUTE: int\n",
    "- MINDAY: int\n",
    "- HOUR: int\n",
    "- DAY: int\n",
    "- WEEKDAY: int\n",
    "- WEEKDAY_NAME: varchar\n",
    "- MONTH: int\n",
    "- MONTH_HOUR: int\n",
    "- YEARDAY: int\n",
    "- YEAR: int\n",
    "\n",
    "**lk_sensor**\n",
    "- SENSOR_TYPE_ID: int (PK)\n",
    "- SENSOR_TYPE_NAME: varchar\n",
    "- UNIT: varchar\n",
    "\n",
    "### Tablas de hechos\n",
    "\n",
    "**agg_power_consumption**\n",
    "- id_power_consumption: int (SK)\n",
    "- TIMESTAMP: int (fk)\n",
    "- MOD_ID: int (fk)\n",
    "- WATT_HOUR: float\n",
    "- WATT_HOUR_ACC: int\n",
    "- TOTAL_WATT_PER: float\n",
    "\n",
    "**bt_events**\n",
    "- id_event: int (SK)\n",
    "- TIMESTAMP: int (fk)\n",
    "- MOD_ID: int (fk)\n",
    "- SENSOR_TYPE_ID: int (fk)\n",
    "- MODULE_STATE: int\n",
    "- SENSED_VALUE: float"
   ]
  },
  {
   "cell_type": "markdown",
   "metadata": {},
   "source": [
    "## Import de librerías"
   ]
  },
  {
   "cell_type": "code",
   "execution_count": 83,
   "metadata": {
    "collapsed": true
   },
   "outputs": [],
   "source": [
    "import pandas as pd\n",
    "import numpy as np\n",
    "import matplotlib.pyplot as plt\n",
    "import math as math\n",
    "from datetime import datetime, timedelta\n",
    "import MySQLdb\n",
    "from sqlalchemy import create_engine\n",
    "from sklearn.model_selection import train_test_split\n",
    "from sklearn.neural_network import MLPRegressor\n",
    "\n",
    "%matplotlib inline\n",
    "\n",
    "pd.options.mode.chained_assignment = None  # default='warn'"
   ]
  },
  {
   "cell_type": "markdown",
   "metadata": {},
   "source": [
    "## Configuración\n",
    "### Conexión a bases de datos"
   ]
  },
  {
   "cell_type": "code",
   "execution_count": 84,
   "metadata": {
    "collapsed": true
   },
   "outputs": [],
   "source": [
    "# Base de datos transaccional\n",
    "dbname_trx = \"ratio_dwh\"\n",
    "dbhost_trx = \"localhost\"\n",
    "dbport_trx = 3306\n",
    "dbuser_trx = \"root\"\n",
    "dbpass_trx = \"root\"\n",
    "\n",
    "# Base de datos histórica\n",
    "dbname_hist = \"ratio_dwh\"\n",
    "dbhost_hist = \"localhost\"\n",
    "dbport_hist = 3306\n",
    "dbuser_hist = \"root\"\n",
    "dbpass_hist = \"root\""
   ]
  },
  {
   "cell_type": "markdown",
   "metadata": {},
   "source": [
    "### Tablas de consulta (fuentes de datos)\n",
    "Las fuentes de datos surgen de la base de datos transaccional, ya que se incorporan los eventos registrados en tiempo real para agregarlos a la base de datos histórica."
   ]
  },
  {
   "cell_type": "code",
   "execution_count": 85,
   "metadata": {
    "collapsed": true
   },
   "outputs": [],
   "source": [
    "devices_tbl = \"devices\"\n",
    "device_modules_tbl = \"device_modules\"\n",
    "module_types_tbl = \"module_types\"\n",
    "sensor_types_tbl = \"sensor_types\"\n",
    "device_events_tbl = \"device_events\"\n",
    "device_event_sensors_tbl = \"device_event_sensors\""
   ]
  },
  {
   "cell_type": "markdown",
   "metadata": {},
   "source": [
    "### Esquema del DWH"
   ]
  },
  {
   "cell_type": "code",
   "execution_count": 86,
   "metadata": {
    "collapsed": true
   },
   "outputs": [],
   "source": [
    "agg_power_consumption = \"agg_power_consumption\"\n",
    "lk_module = \"lk_module\"\n",
    "lk_time = \"lk_time\"\n",
    "lk_sensor = \"lk_sensor\"\n",
    "bt_events = \"bt_events\""
   ]
  },
  {
   "cell_type": "markdown",
   "metadata": {},
   "source": [
    "### Variables globales"
   ]
  },
  {
   "cell_type": "code",
   "execution_count": 87,
   "metadata": {
    "collapsed": true
   },
   "outputs": [],
   "source": [
    "# Voltaje de la red (en V)\n",
    "voltage = 230\n",
    "# Sensor_type_id de energia: 1\n",
    "sensor_type_id = 1\n",
    "# Fecha fin de ETL\n",
    "etl_end_date = 'NOW()'"
   ]
  },
  {
   "cell_type": "markdown",
   "metadata": {},
   "source": [
    "## Integración de datos Transaccionales a DWH (ETL)\n",
    "### Extracción de datos de la base Transaccional"
   ]
  },
  {
   "cell_type": "code",
   "execution_count": 88,
   "metadata": {},
   "outputs": [
    {
     "name": "stdout",
     "output_type": "stream",
     "text": [
      "Error mysql (1146, \"Table 'ratio_dwh.bt_events' doesn't exist\")\n",
      "ETL beggining date: 0000-00-00 00:00:00\n"
     ]
    }
   ],
   "source": [
    "# Get Last inserted Event from DWH\n",
    "conn = MySQLdb.connect(host=dbhost_hist, port=dbport_hist, user=dbuser_hist, passwd=dbpass_hist, db=dbname_hist)\n",
    "cursor = conn.cursor()\n",
    "try:\n",
    "    cursor.execute('SELECT MAX(TIMESTAMP) FROM ' + bt_events);\n",
    "    etl_start_date = cursor.fetchone()[0].strftime('%Y-%m-%d %H:%M:%S')\n",
    "except MySQLdb.Error, e:\n",
    "    print 'Error mysql {0}'.format(e)\n",
    "    etl_start_date = '0000-00-00 00:00:00'\n",
    "conn.close()\n",
    "print 'ETL beggining date: {0}'.format(etl_start_date)"
   ]
  },
  {
   "cell_type": "code",
   "execution_count": 89,
   "metadata": {},
   "outputs": [],
   "source": [
    "conn = MySQLdb.connect(host=dbhost_trx, port=dbport_trx, user=dbuser_trx, passwd=dbpass_trx, db=dbname_trx)\n",
    "# Dimensiones de devices y modulos\n",
    "proy_sql = 'M.id as MOD_ID, M.name as MOD_NAME, module_type_id as MOD_TYPE_ID, MT.name as MOD_TYPE_NAME, D.id as DEV_ID, D.name as DEV_NAME'\n",
    "tables_sql = devices_tbl + ' D JOIN ' + device_modules_tbl + ' M ON D.id=M.device_id JOIN ' + module_types_tbl + ' MT ON module_type_id=MT.id'\n",
    "df_modules = pd.read_sql('SELECT ' + proy_sql + ' FROM ' + tables_sql, con=conn)\n",
    "# Dimension sensor\n",
    "proy_sql = 'id as SENSOR_TYPE_ID, name as SENSOR_TYPE_NAME, unit as UNIT'\n",
    "tables_sql = sensor_types_tbl\n",
    "df_sensors = pd.read_sql('SELECT ' + proy_sql + ' FROM ' + tables_sql, con=conn)\n",
    "# Hechos (mediciones)\n",
    "proy_sql = 'module_id as MOD_ID, ts as TIMESTAMP, state as MODULE_STATE, sensor_type_id as SENSOR_TYPE_ID, value as SENSED_VALUE'\n",
    "tables_sql = device_events_tbl + ' DE JOIN ' + device_event_sensors_tbl + ' DES ON DE.id=DES.device_event_id'\n",
    "where_sql = 'ts BETWEEN \"' + etl_start_date + '\" AND ' + etl_end_date\n",
    "df_events = pd.read_sql('SELECT ' + proy_sql + ' FROM ' + tables_sql + ' WHERE ' + where_sql, con=conn)\n",
    "conn.close()"
   ]
  },
  {
   "cell_type": "markdown",
   "metadata": {},
   "source": [
    "El dataset df_modules representa la tabla lk_module:"
   ]
  },
  {
   "cell_type": "code",
   "execution_count": 90,
   "metadata": {
    "scrolled": true
   },
   "outputs": [
    {
     "data": {
      "text/html": [
       "<div>\n",
       "<style>\n",
       "    .dataframe thead tr:only-child th {\n",
       "        text-align: right;\n",
       "    }\n",
       "\n",
       "    .dataframe thead th {\n",
       "        text-align: left;\n",
       "    }\n",
       "\n",
       "    .dataframe tbody tr th {\n",
       "        vertical-align: top;\n",
       "    }\n",
       "</style>\n",
       "<table border=\"1\" class=\"dataframe\">\n",
       "  <thead>\n",
       "    <tr style=\"text-align: right;\">\n",
       "      <th></th>\n",
       "      <th>MOD_ID</th>\n",
       "      <th>MOD_NAME</th>\n",
       "      <th>MOD_TYPE_ID</th>\n",
       "      <th>MOD_TYPE_NAME</th>\n",
       "      <th>DEV_ID</th>\n",
       "      <th>DEV_NAME</th>\n",
       "    </tr>\n",
       "  </thead>\n",
       "  <tbody>\n",
       "    <tr>\n",
       "      <th>0</th>\n",
       "      <td>51</td>\n",
       "      <td>Lux Cocina mod</td>\n",
       "      <td>1</td>\n",
       "      <td>LUX</td>\n",
       "      <td>5</td>\n",
       "      <td>Lux Cocina</td>\n",
       "    </tr>\n",
       "    <tr>\n",
       "      <th>1</th>\n",
       "      <td>52</td>\n",
       "      <td>Pot Cocina</td>\n",
       "      <td>2</td>\n",
       "      <td>POTENTIA</td>\n",
       "      <td>5</td>\n",
       "      <td>Lux Cocina</td>\n",
       "    </tr>\n",
       "    <tr>\n",
       "      <th>2</th>\n",
       "      <td>61</td>\n",
       "      <td>Pot 1</td>\n",
       "      <td>2</td>\n",
       "      <td>POTENTIA</td>\n",
       "      <td>6</td>\n",
       "      <td>Potentia Heladera</td>\n",
       "    </tr>\n",
       "    <tr>\n",
       "      <th>3</th>\n",
       "      <td>71</td>\n",
       "      <td>Omni 1</td>\n",
       "      <td>3</td>\n",
       "      <td>OMNI</td>\n",
       "      <td>7</td>\n",
       "      <td>Omni Cocina</td>\n",
       "    </tr>\n",
       "    <tr>\n",
       "      <th>4</th>\n",
       "      <td>111</td>\n",
       "      <td>Lux Living</td>\n",
       "      <td>1</td>\n",
       "      <td>LUX</td>\n",
       "      <td>11</td>\n",
       "      <td>Living Comedor</td>\n",
       "    </tr>\n",
       "    <tr>\n",
       "      <th>5</th>\n",
       "      <td>112</td>\n",
       "      <td>Potentia Living</td>\n",
       "      <td>2</td>\n",
       "      <td>POTENTIA</td>\n",
       "      <td>11</td>\n",
       "      <td>Living Comedor</td>\n",
       "    </tr>\n",
       "    <tr>\n",
       "      <th>6</th>\n",
       "      <td>121</td>\n",
       "      <td>Omni General</td>\n",
       "      <td>3</td>\n",
       "      <td>OMNI</td>\n",
       "      <td>12</td>\n",
       "      <td>Living General</td>\n",
       "    </tr>\n",
       "    <tr>\n",
       "      <th>7</th>\n",
       "      <td>122</td>\n",
       "      <td>Potentia Living Pared</td>\n",
       "      <td>2</td>\n",
       "      <td>POTENTIA</td>\n",
       "      <td>12</td>\n",
       "      <td>Living General</td>\n",
       "    </tr>\n",
       "  </tbody>\n",
       "</table>\n",
       "</div>"
      ],
      "text/plain": [
       "   MOD_ID               MOD_NAME  MOD_TYPE_ID MOD_TYPE_NAME  DEV_ID  \\\n",
       "0      51         Lux Cocina mod            1           LUX       5   \n",
       "1      52             Pot Cocina            2      POTENTIA       5   \n",
       "2      61                  Pot 1            2      POTENTIA       6   \n",
       "3      71                 Omni 1            3          OMNI       7   \n",
       "4     111             Lux Living            1           LUX      11   \n",
       "5     112        Potentia Living            2      POTENTIA      11   \n",
       "6     121           Omni General            3          OMNI      12   \n",
       "7     122  Potentia Living Pared            2      POTENTIA      12   \n",
       "\n",
       "            DEV_NAME  \n",
       "0         Lux Cocina  \n",
       "1         Lux Cocina  \n",
       "2  Potentia Heladera  \n",
       "3        Omni Cocina  \n",
       "4     Living Comedor  \n",
       "5     Living Comedor  \n",
       "6     Living General  \n",
       "7     Living General  "
      ]
     },
     "execution_count": 90,
     "metadata": {},
     "output_type": "execute_result"
    }
   ],
   "source": [
    "df_modules"
   ]
  },
  {
   "cell_type": "markdown",
   "metadata": {},
   "source": [
    "El dataset df_sensors representa la tabla lk_sensor:"
   ]
  },
  {
   "cell_type": "code",
   "execution_count": 91,
   "metadata": {},
   "outputs": [
    {
     "data": {
      "text/html": [
       "<div>\n",
       "<style>\n",
       "    .dataframe thead tr:only-child th {\n",
       "        text-align: right;\n",
       "    }\n",
       "\n",
       "    .dataframe thead th {\n",
       "        text-align: left;\n",
       "    }\n",
       "\n",
       "    .dataframe tbody tr th {\n",
       "        vertical-align: top;\n",
       "    }\n",
       "</style>\n",
       "<table border=\"1\" class=\"dataframe\">\n",
       "  <thead>\n",
       "    <tr style=\"text-align: right;\">\n",
       "      <th></th>\n",
       "      <th>SENSOR_TYPE_ID</th>\n",
       "      <th>SENSOR_TYPE_NAME</th>\n",
       "      <th>UNIT</th>\n",
       "    </tr>\n",
       "  </thead>\n",
       "  <tbody>\n",
       "    <tr>\n",
       "      <th>0</th>\n",
       "      <td>1</td>\n",
       "      <td>CURRENT</td>\n",
       "      <td>mAmp</td>\n",
       "    </tr>\n",
       "    <tr>\n",
       "      <th>1</th>\n",
       "      <td>2</td>\n",
       "      <td>LUMINOSITY</td>\n",
       "      <td>lum</td>\n",
       "    </tr>\n",
       "    <tr>\n",
       "      <th>2</th>\n",
       "      <td>3</td>\n",
       "      <td>MOVEMENT</td>\n",
       "      <td></td>\n",
       "    </tr>\n",
       "    <tr>\n",
       "      <th>3</th>\n",
       "      <td>4</td>\n",
       "      <td>SOUND</td>\n",
       "      <td>dB</td>\n",
       "    </tr>\n",
       "    <tr>\n",
       "      <th>4</th>\n",
       "      <td>5</td>\n",
       "      <td>TEMPERATURE</td>\n",
       "      <td>C</td>\n",
       "    </tr>\n",
       "  </tbody>\n",
       "</table>\n",
       "</div>"
      ],
      "text/plain": [
       "   SENSOR_TYPE_ID SENSOR_TYPE_NAME  UNIT\n",
       "0               1          CURRENT  mAmp\n",
       "1               2       LUMINOSITY   lum\n",
       "2               3         MOVEMENT      \n",
       "3               4            SOUND    dB\n",
       "4               5      TEMPERATURE     C"
      ]
     },
     "execution_count": 91,
     "metadata": {},
     "output_type": "execute_result"
    }
   ],
   "source": [
    "df_sensors"
   ]
  },
  {
   "cell_type": "markdown",
   "metadata": {},
   "source": [
    "El dataset df_events se utilizará para generar las tablas de hechos"
   ]
  },
  {
   "cell_type": "code",
   "execution_count": 92,
   "metadata": {},
   "outputs": [
    {
     "data": {
      "text/html": [
       "<div>\n",
       "<style>\n",
       "    .dataframe thead tr:only-child th {\n",
       "        text-align: right;\n",
       "    }\n",
       "\n",
       "    .dataframe thead th {\n",
       "        text-align: left;\n",
       "    }\n",
       "\n",
       "    .dataframe tbody tr th {\n",
       "        vertical-align: top;\n",
       "    }\n",
       "</style>\n",
       "<table border=\"1\" class=\"dataframe\">\n",
       "  <thead>\n",
       "    <tr style=\"text-align: right;\">\n",
       "      <th></th>\n",
       "      <th>MOD_ID</th>\n",
       "      <th>TIMESTAMP</th>\n",
       "      <th>MODULE_STATE</th>\n",
       "      <th>SENSOR_TYPE_ID</th>\n",
       "      <th>SENSED_VALUE</th>\n",
       "    </tr>\n",
       "  </thead>\n",
       "  <tbody>\n",
       "    <tr>\n",
       "      <th>0</th>\n",
       "      <td>51</td>\n",
       "      <td>2017-01-01</td>\n",
       "      <td>0</td>\n",
       "      <td>2</td>\n",
       "      <td>2.000000</td>\n",
       "    </tr>\n",
       "    <tr>\n",
       "      <th>1</th>\n",
       "      <td>51</td>\n",
       "      <td>2017-01-01</td>\n",
       "      <td>0</td>\n",
       "      <td>4</td>\n",
       "      <td>34.952475</td>\n",
       "    </tr>\n",
       "    <tr>\n",
       "      <th>2</th>\n",
       "      <td>51</td>\n",
       "      <td>2017-01-01</td>\n",
       "      <td>0</td>\n",
       "      <td>3</td>\n",
       "      <td>0.000000</td>\n",
       "    </tr>\n",
       "    <tr>\n",
       "      <th>3</th>\n",
       "      <td>51</td>\n",
       "      <td>2017-01-01</td>\n",
       "      <td>0</td>\n",
       "      <td>1</td>\n",
       "      <td>0.009875</td>\n",
       "    </tr>\n",
       "    <tr>\n",
       "      <th>4</th>\n",
       "      <td>51</td>\n",
       "      <td>2017-01-01</td>\n",
       "      <td>0</td>\n",
       "      <td>2</td>\n",
       "      <td>4.000000</td>\n",
       "    </tr>\n",
       "  </tbody>\n",
       "</table>\n",
       "</div>"
      ],
      "text/plain": [
       "   MOD_ID  TIMESTAMP  MODULE_STATE  SENSOR_TYPE_ID  SENSED_VALUE\n",
       "0      51 2017-01-01             0               2      2.000000\n",
       "1      51 2017-01-01             0               4     34.952475\n",
       "2      51 2017-01-01             0               3      0.000000\n",
       "3      51 2017-01-01             0               1      0.009875\n",
       "4      51 2017-01-01             0               2      4.000000"
      ]
     },
     "execution_count": 92,
     "metadata": {},
     "output_type": "execute_result"
    }
   ],
   "source": [
    "df_events.head(5)"
   ]
  },
  {
   "cell_type": "code",
   "execution_count": 93,
   "metadata": {},
   "outputs": [
    {
     "name": "stdout",
     "output_type": "stream",
     "text": [
      "Se extraen 21091995 eventos de sensado.\n"
     ]
    }
   ],
   "source": [
    "print 'Se extraen {0} eventos de sensado.'.format(df_events.shape[0])"
   ]
  },
  {
   "cell_type": "markdown",
   "metadata": {},
   "source": [
    "### Chequeo de valores null\n",
    "Es importante verificar que el dataset de eventos no contenga valores nulos, ya que de ser así deberán completarse mediante padding o interpolación, o bien se dropean..."
   ]
  },
  {
   "cell_type": "code",
   "execution_count": 94,
   "metadata": {},
   "outputs": [],
   "source": [
    "df_events.dropna(inplace=True)"
   ]
  },
  {
   "cell_type": "markdown",
   "metadata": {},
   "source": [
    "### Limpieza del dataset\n",
    "Se verifican algunas columnas de los datasets obtenidos"
   ]
  },
  {
   "cell_type": "code",
   "execution_count": 95,
   "metadata": {},
   "outputs": [
    {
     "name": "stdout",
     "output_type": "stream",
     "text": [
      "Se eliminan los duplicados (se mantiene el primero)\n"
     ]
    }
   ],
   "source": [
    "if df_events.duplicated().any():\n",
    "    print 'Se eliminan los duplicados (se mantiene el primero)'\n",
    "    df_events.drop_duplicates(inplace=True,keep='first')\n",
    "else:\n",
    "    print 'No existen eventos duplicados'"
   ]
  },
  {
   "cell_type": "markdown",
   "metadata": {},
   "source": [
    "## Transformación de variables\n",
    "Se trabajan las variables que se extraen para generar las tablas históricas en la db del DWH.\n",
    "La dimensión Module no requiere trabajo adicional ya que se integró con la extracción de la base transaccional.\n",
    "Por lo tanto resta generar la dimensión Tiempo con sus atributos y relacionar todas las dimensiones con la tabla de hechos."
   ]
  },
  {
   "cell_type": "code",
   "execution_count": 96,
   "metadata": {},
   "outputs": [
    {
     "data": {
      "text/plain": [
       "MOD_ID                     int64\n",
       "TIMESTAMP         datetime64[ns]\n",
       "MODULE_STATE               int64\n",
       "SENSOR_TYPE_ID             int64\n",
       "SENSED_VALUE             float64\n",
       "dtype: object"
      ]
     },
     "execution_count": 96,
     "metadata": {},
     "output_type": "execute_result"
    }
   ],
   "source": [
    "df_events.dtypes"
   ]
  },
  {
   "cell_type": "code",
   "execution_count": 97,
   "metadata": {
    "collapsed": true
   },
   "outputs": [],
   "source": [
    "df_time = pd.DataFrame(df_events.TIMESTAMP.unique(),columns=['TIMESTAMP'])\n",
    "df_time['YEAR'] = df_time['TIMESTAMP'].dt.year\n",
    "df_time['YEARDAY'] = df_time['TIMESTAMP'].dt.strftime('%j').astype(int)\n",
    "df_time['MONTH'] = df_time['TIMESTAMP'].dt.month\n",
    "df_time['YEARMONTH'] = df_time['TIMESTAMP'].dt.strftime('%Y%m').astype(int)\n",
    "df_time['WEEKDAY'] = df_time['TIMESTAMP'].dt.weekday\n",
    "df_time['WEEKDAY_NAME'] = df_time['TIMESTAMP'].dt.strftime('%A')\n",
    "df_time['DAY'] = df_time['TIMESTAMP'].dt.day\n",
    "df_time['HOUR'] = df_time['TIMESTAMP'].dt.hour\n",
    "df_time['MONTH_HOUR'] = (df_time['DAY'] - 1) * 24 + df_time.HOUR\n",
    "df_time['MINUTE'] = df_time['TIMESTAMP'].dt.minute\n",
    "df_time['MINDAY'] = df_time['HOUR'] * 60 + df_time['MINUTE']"
   ]
  },
  {
   "cell_type": "markdown",
   "metadata": {},
   "source": [
    "El dataset df_time es el que representa la tabla lk_time en el DWH"
   ]
  },
  {
   "cell_type": "code",
   "execution_count": 98,
   "metadata": {
    "scrolled": true
   },
   "outputs": [
    {
     "data": {
      "text/html": [
       "<div>\n",
       "<style>\n",
       "    .dataframe thead tr:only-child th {\n",
       "        text-align: right;\n",
       "    }\n",
       "\n",
       "    .dataframe thead th {\n",
       "        text-align: left;\n",
       "    }\n",
       "\n",
       "    .dataframe tbody tr th {\n",
       "        vertical-align: top;\n",
       "    }\n",
       "</style>\n",
       "<table border=\"1\" class=\"dataframe\">\n",
       "  <thead>\n",
       "    <tr style=\"text-align: right;\">\n",
       "      <th></th>\n",
       "      <th>TIMESTAMP</th>\n",
       "      <th>YEAR</th>\n",
       "      <th>YEARDAY</th>\n",
       "      <th>MONTH</th>\n",
       "      <th>YEARMONTH</th>\n",
       "      <th>WEEKDAY</th>\n",
       "      <th>WEEKDAY_NAME</th>\n",
       "      <th>DAY</th>\n",
       "      <th>HOUR</th>\n",
       "      <th>MONTH_HOUR</th>\n",
       "      <th>MINUTE</th>\n",
       "      <th>MINDAY</th>\n",
       "    </tr>\n",
       "  </thead>\n",
       "  <tbody>\n",
       "    <tr>\n",
       "      <th>0</th>\n",
       "      <td>2017-01-01 00:00:00</td>\n",
       "      <td>2017</td>\n",
       "      <td>1</td>\n",
       "      <td>1</td>\n",
       "      <td>201701</td>\n",
       "      <td>6</td>\n",
       "      <td>Sunday</td>\n",
       "      <td>1</td>\n",
       "      <td>0</td>\n",
       "      <td>0</td>\n",
       "      <td>0</td>\n",
       "      <td>0</td>\n",
       "    </tr>\n",
       "    <tr>\n",
       "      <th>1</th>\n",
       "      <td>2017-01-01 00:01:00</td>\n",
       "      <td>2017</td>\n",
       "      <td>1</td>\n",
       "      <td>1</td>\n",
       "      <td>201701</td>\n",
       "      <td>6</td>\n",
       "      <td>Sunday</td>\n",
       "      <td>1</td>\n",
       "      <td>0</td>\n",
       "      <td>0</td>\n",
       "      <td>1</td>\n",
       "      <td>1</td>\n",
       "    </tr>\n",
       "    <tr>\n",
       "      <th>2</th>\n",
       "      <td>2017-01-01 00:02:00</td>\n",
       "      <td>2017</td>\n",
       "      <td>1</td>\n",
       "      <td>1</td>\n",
       "      <td>201701</td>\n",
       "      <td>6</td>\n",
       "      <td>Sunday</td>\n",
       "      <td>1</td>\n",
       "      <td>0</td>\n",
       "      <td>0</td>\n",
       "      <td>2</td>\n",
       "      <td>2</td>\n",
       "    </tr>\n",
       "    <tr>\n",
       "      <th>3</th>\n",
       "      <td>2017-01-01 00:03:00</td>\n",
       "      <td>2017</td>\n",
       "      <td>1</td>\n",
       "      <td>1</td>\n",
       "      <td>201701</td>\n",
       "      <td>6</td>\n",
       "      <td>Sunday</td>\n",
       "      <td>1</td>\n",
       "      <td>0</td>\n",
       "      <td>0</td>\n",
       "      <td>3</td>\n",
       "      <td>3</td>\n",
       "    </tr>\n",
       "    <tr>\n",
       "      <th>4</th>\n",
       "      <td>2017-01-01 00:04:00</td>\n",
       "      <td>2017</td>\n",
       "      <td>1</td>\n",
       "      <td>1</td>\n",
       "      <td>201701</td>\n",
       "      <td>6</td>\n",
       "      <td>Sunday</td>\n",
       "      <td>1</td>\n",
       "      <td>0</td>\n",
       "      <td>0</td>\n",
       "      <td>4</td>\n",
       "      <td>4</td>\n",
       "    </tr>\n",
       "  </tbody>\n",
       "</table>\n",
       "</div>"
      ],
      "text/plain": [
       "            TIMESTAMP  YEAR  YEARDAY  MONTH  YEARMONTH  WEEKDAY WEEKDAY_NAME  \\\n",
       "0 2017-01-01 00:00:00  2017        1      1     201701        6       Sunday   \n",
       "1 2017-01-01 00:01:00  2017        1      1     201701        6       Sunday   \n",
       "2 2017-01-01 00:02:00  2017        1      1     201701        6       Sunday   \n",
       "3 2017-01-01 00:03:00  2017        1      1     201701        6       Sunday   \n",
       "4 2017-01-01 00:04:00  2017        1      1     201701        6       Sunday   \n",
       "\n",
       "   DAY  HOUR  MONTH_HOUR  MINUTE  MINDAY  \n",
       "0    1     0           0       0       0  \n",
       "1    1     0           0       1       1  \n",
       "2    1     0           0       2       2  \n",
       "3    1     0           0       3       3  \n",
       "4    1     0           0       4       4  "
      ]
     },
     "execution_count": 98,
     "metadata": {},
     "output_type": "execute_result"
    }
   ],
   "source": [
    "df_time.head(5)"
   ]
  },
  {
   "cell_type": "markdown",
   "metadata": {},
   "source": [
    "#### Cálculo de consumo en energía (WATT_HOUR)\n",
    "Se general la tabla de hechos (energía consumida) a partir de los eventos. Primero se calcula la energía consumida en Watts/hora. El cálculo se realiza obteniendo la media de las mediciones de corriente en cada hora de cada día del año."
   ]
  },
  {
   "cell_type": "markdown",
   "metadata": {},
   "source": [
    "En principio se genera un dataset DF_POWER que contiene el consumo de cada modulo en WATT/H"
   ]
  },
  {
   "cell_type": "code",
   "execution_count": 99,
   "metadata": {
    "collapsed": true
   },
   "outputs": [],
   "source": [
    "df_events_acs = df_events.query('SENSOR_TYPE_ID == ' + str(sensor_type_id))\n",
    "df_power = pd.DataFrame(columns=['TIMESTAMP','MOD_ID','WATT_HOUR'])\n",
    "for mod_id in df_modules.MOD_ID:\n",
    "    # Se calcula el watt/hora para el modulo mod_id\n",
    "    df_power_mod = df_events_acs.query('MOD_ID == ' + str(mod_id)).merge(df_time,on='TIMESTAMP').groupby(['YEAR','YEARDAY','HOUR']).SENSED_VALUE.mean() * voltage\n",
    "    if df_power_mod.shape[0] > 0:\n",
    "        # Eliminamos el indice multiple para aplanar y convertir de Serie a Dataframe\n",
    "        df_power_mod = df_power_mod.reset_index()\n",
    "        # Se agrega el TIMESTAMP para utilizarlo como FK de la dimension tiempo y se renombra la columna de consumo\n",
    "        df_power_mod = df_power_mod.merge(df_time[['TIMESTAMP','YEAR','YEARDAY','HOUR']],left_on=['YEAR','YEARDAY','HOUR'], right_on=['YEAR','YEARDAY','HOUR'])\n",
    "        df_power_mod.rename(columns={'SENSED_VALUE': 'WATT_HOUR'},inplace=True)\n",
    "        # Eliminamos columnas que no se grabaran en la tabla de hechos\n",
    "        df_power_mod.drop(['YEAR','YEARDAY','HOUR'],axis=1,inplace=True)\n",
    "        # Se asigna el mod_id calculado\n",
    "        df_power_mod = df_power_mod.assign(MOD_ID = mod_id)\n",
    "    \n",
    "        # Se agrega los consumos del mod_id a la tabla de hechos\n",
    "        df_power = pd.concat([df_power,df_power_mod])"
   ]
  },
  {
   "cell_type": "markdown",
   "metadata": {},
   "source": [
    "Para calcular los hechos restantes (consumo total mensual y consumo acumulado del mes a cada hora) se utiliza un dataset de la dimension tiempo modificado ya que la granularidad es en horas y no minutos"
   ]
  },
  {
   "cell_type": "code",
   "execution_count": 100,
   "metadata": {},
   "outputs": [
    {
     "data": {
      "text/html": [
       "<div>\n",
       "<style>\n",
       "    .dataframe thead tr:only-child th {\n",
       "        text-align: right;\n",
       "    }\n",
       "\n",
       "    .dataframe thead th {\n",
       "        text-align: left;\n",
       "    }\n",
       "\n",
       "    .dataframe tbody tr th {\n",
       "        vertical-align: top;\n",
       "    }\n",
       "</style>\n",
       "<table border=\"1\" class=\"dataframe\">\n",
       "  <thead>\n",
       "    <tr style=\"text-align: right;\">\n",
       "      <th></th>\n",
       "      <th>TIMESTAMP</th>\n",
       "      <th>YEAR</th>\n",
       "      <th>MONTH</th>\n",
       "      <th>YEARMONTH</th>\n",
       "      <th>WEEKDAY</th>\n",
       "      <th>WEEKDAY_NAME</th>\n",
       "      <th>DAY</th>\n",
       "      <th>MONTH_HOUR</th>\n",
       "      <th>MINUTE</th>\n",
       "      <th>MINDAY</th>\n",
       "    </tr>\n",
       "  </thead>\n",
       "  <tbody>\n",
       "    <tr>\n",
       "      <th>0</th>\n",
       "      <td>2017-01-01 00:00:00</td>\n",
       "      <td>2017</td>\n",
       "      <td>1</td>\n",
       "      <td>201701</td>\n",
       "      <td>6</td>\n",
       "      <td>Sunday</td>\n",
       "      <td>1</td>\n",
       "      <td>0</td>\n",
       "      <td>0</td>\n",
       "      <td>0</td>\n",
       "    </tr>\n",
       "    <tr>\n",
       "      <th>1</th>\n",
       "      <td>2017-01-01 01:00:00</td>\n",
       "      <td>2017</td>\n",
       "      <td>1</td>\n",
       "      <td>201701</td>\n",
       "      <td>6</td>\n",
       "      <td>Sunday</td>\n",
       "      <td>1</td>\n",
       "      <td>1</td>\n",
       "      <td>0</td>\n",
       "      <td>60</td>\n",
       "    </tr>\n",
       "    <tr>\n",
       "      <th>2</th>\n",
       "      <td>2017-01-01 02:00:00</td>\n",
       "      <td>2017</td>\n",
       "      <td>1</td>\n",
       "      <td>201701</td>\n",
       "      <td>6</td>\n",
       "      <td>Sunday</td>\n",
       "      <td>1</td>\n",
       "      <td>2</td>\n",
       "      <td>0</td>\n",
       "      <td>120</td>\n",
       "    </tr>\n",
       "  </tbody>\n",
       "</table>\n",
       "</div>"
      ],
      "text/plain": [
       "            TIMESTAMP  YEAR  MONTH  YEARMONTH  WEEKDAY WEEKDAY_NAME  DAY  \\\n",
       "0 2017-01-01 00:00:00  2017      1     201701        6       Sunday    1   \n",
       "1 2017-01-01 01:00:00  2017      1     201701        6       Sunday    1   \n",
       "2 2017-01-01 02:00:00  2017      1     201701        6       Sunday    1   \n",
       "\n",
       "   MONTH_HOUR  MINUTE  MINDAY  \n",
       "0           0       0       0  \n",
       "1           1       0      60  \n",
       "2           2       0     120  "
      ]
     },
     "execution_count": 100,
     "metadata": {},
     "output_type": "execute_result"
    }
   ],
   "source": [
    "df_time_hours = df_time.groupby(['YEARDAY','HOUR']).min()\n",
    "df_time_hours.reset_index(inplace=True,drop=True)\n",
    "df_time_hours.head(3)"
   ]
  },
  {
   "cell_type": "markdown",
   "metadata": {},
   "source": [
    "Finalmente se calculan las variables restantes para generar la tabla historica agg_power_consumption"
   ]
  },
  {
   "cell_type": "code",
   "execution_count": 101,
   "metadata": {
    "collapsed": true
   },
   "outputs": [],
   "source": [
    "# Se calcula el consumo final de Watt/h por mes\n",
    "df_agg_power = df_power.merge(df_modules,on='MOD_ID').merge(df_time_hours,on='TIMESTAMP').groupby(['YEAR','MONTH','MOD_ID']).WATT_HOUR.sum().astype(int)\n",
    "df_agg_power = df_agg_power.reset_index()\n",
    "df_agg_power = df_agg_power.rename(columns={'WATT_HOUR': 'WATT_HOUR_MONTH'})\n",
    "df_agg_power = df_agg_power.merge(df_power.merge(df_modules,on='MOD_ID').merge(df_time_hours,on='TIMESTAMP'),on=['YEAR','MONTH','MOD_ID'])\n",
    "\n",
    "# Cálculo de Watt/hora acumulados al mes\n",
    "for mod_id in df_modules.MOD_ID:\n",
    "    mod_cumsum = df_agg_power.query('MOD_ID == ' + str(mod_id)).groupby(['YEAR','MONTH','MOD_ID']).WATT_HOUR.cumsum().astype(int)\n",
    "    if mod_cumsum.shape[0] > 0:\n",
    "        df_agg_power.loc[ df_agg_power.MOD_ID == mod_id, 'WATT_HOUR_ACC'] = mod_cumsum\n",
    "        \n",
    "# Cálculo del porcentaje de consumo del mes\n",
    "df_agg_power['TOTAL_WATT_PER'] = df_agg_power.WATT_HOUR_ACC / df_agg_power.WATT_HOUR_MONTH\n",
    "\n",
    "df_agg_power = df_agg_power[['TIMESTAMP','MOD_ID','WATT_HOUR','WATT_HOUR_ACC','TOTAL_WATT_PER']]"
   ]
  },
  {
   "cell_type": "code",
   "execution_count": 102,
   "metadata": {},
   "outputs": [
    {
     "data": {
      "text/html": [
       "<div>\n",
       "<style>\n",
       "    .dataframe thead tr:only-child th {\n",
       "        text-align: right;\n",
       "    }\n",
       "\n",
       "    .dataframe thead th {\n",
       "        text-align: left;\n",
       "    }\n",
       "\n",
       "    .dataframe tbody tr th {\n",
       "        vertical-align: top;\n",
       "    }\n",
       "</style>\n",
       "<table border=\"1\" class=\"dataframe\">\n",
       "  <thead>\n",
       "    <tr style=\"text-align: right;\">\n",
       "      <th></th>\n",
       "      <th>TIMESTAMP</th>\n",
       "      <th>MOD_ID</th>\n",
       "      <th>WATT_HOUR</th>\n",
       "      <th>WATT_HOUR_ACC</th>\n",
       "      <th>TOTAL_WATT_PER</th>\n",
       "    </tr>\n",
       "  </thead>\n",
       "  <tbody>\n",
       "    <tr>\n",
       "      <th>0</th>\n",
       "      <td>2017-01-01 00:00:00</td>\n",
       "      <td>51</td>\n",
       "      <td>5.435589</td>\n",
       "      <td>5.0</td>\n",
       "      <td>0.000753</td>\n",
       "    </tr>\n",
       "    <tr>\n",
       "      <th>1</th>\n",
       "      <td>2017-01-01 01:00:00</td>\n",
       "      <td>51</td>\n",
       "      <td>4.313271</td>\n",
       "      <td>9.0</td>\n",
       "      <td>0.001355</td>\n",
       "    </tr>\n",
       "    <tr>\n",
       "      <th>2</th>\n",
       "      <td>2017-01-01 02:00:00</td>\n",
       "      <td>51</td>\n",
       "      <td>5.063294</td>\n",
       "      <td>14.0</td>\n",
       "      <td>0.002107</td>\n",
       "    </tr>\n",
       "  </tbody>\n",
       "</table>\n",
       "</div>"
      ],
      "text/plain": [
       "            TIMESTAMP MOD_ID  WATT_HOUR  WATT_HOUR_ACC  TOTAL_WATT_PER\n",
       "0 2017-01-01 00:00:00     51   5.435589            5.0        0.000753\n",
       "1 2017-01-01 01:00:00     51   4.313271            9.0        0.001355\n",
       "2 2017-01-01 02:00:00     51   5.063294           14.0        0.002107"
      ]
     },
     "execution_count": 102,
     "metadata": {},
     "output_type": "execute_result"
    }
   ],
   "source": [
    "df_agg_power.head(3)"
   ]
  },
  {
   "cell_type": "markdown",
   "metadata": {},
   "source": [
    "## Carga de tablas en DWH\n",
    "Finalizado el proceso de transformación, se procede a cargar las tablas con datos históricos en el DWH."
   ]
  },
  {
   "cell_type": "code",
   "execution_count": 103,
   "metadata": {},
   "outputs": [],
   "source": [
    "engine = create_engine('mysql://{user}:{pw}@{host}/{db}'.format(user=dbuser_hist, pw=dbpass_hist, host=dbhost_hist, db=dbname_hist),pool_recycle=300)\n",
    "\n",
    "# Tabla lk_module\n",
    "df_modules.to_sql(con=engine, name=lk_module, if_exists='replace', index=False, chunksize=10000)\n",
    "\n",
    "# Tabla lk_sensor\n",
    "df_sensors.to_sql(con=engine, name=lk_sensor, if_exists='replace', index=False, chunksize=10000)\n",
    "\n",
    "# Tabla lk_time\n",
    "df_time.to_sql(con=engine, name=lk_time, if_exists='replace', index=False, chunksize=10000)\n",
    "#engine.execute('alter table ' + lk_time + ' add index ' + lk_time + '_ts_idx (TIMESTAMP);')\n",
    "\n",
    "# Tabla bt_events\n",
    "df_events.to_sql(con=engine, name=bt_events, if_exists='append', index=True, index_label='id', chunksize=10000)\n",
    "\n",
    "# Tabla agg_power_consumption\n",
    "df_agg_power.to_sql(con=engine, name=agg_power_consumption, if_exists='append', index=True, index_label='id', chunksize=10000)"
   ]
  }
 ],
 "metadata": {
  "kernelspec": {
   "display_name": "Python 2",
   "language": "python",
   "name": "python2"
  },
  "language_info": {
   "codemirror_mode": {
    "name": "ipython",
    "version": 2
   },
   "file_extension": ".py",
   "mimetype": "text/x-python",
   "name": "python",
   "nbconvert_exporter": "python",
   "pygments_lexer": "ipython2",
   "version": "2.7.13"
  }
 },
 "nbformat": 4,
 "nbformat_minor": 2
}
